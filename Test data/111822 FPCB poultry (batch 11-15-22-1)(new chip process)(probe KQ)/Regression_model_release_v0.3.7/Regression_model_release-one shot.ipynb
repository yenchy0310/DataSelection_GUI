{
 "cells": [
  {
   "cell_type": "markdown",
   "metadata": {
    "slideshow": {
     "slide_type": "-"
    }
   },
   "source": [
    "## 程式主要功能 \n",
    "* one shot analysis"
   ]
  },
  {
   "cell_type": "code",
   "execution_count": 1,
   "metadata": {
    "slideshow": {
     "slide_type": "-"
    }
   },
   "outputs": [
    {
     "name": "stderr",
     "output_type": "stream",
     "text": [
      "C:\\Users\\bioinspira\\Anaconda3\\lib\\site-packages\\sklearn\\linear_model\\least_angle.py:35: DeprecationWarning: `np.float` is a deprecated alias for the builtin `float`. To silence this warning, use `float` by itself. Doing this will not modify any behavior and is safe. If you specifically wanted the numpy scalar type, use `np.float64` here.\n",
      "Deprecated in NumPy 1.20; for more details and guidance: https://numpy.org/devdocs/release/1.20.0-notes.html#deprecations\n",
      "  eps=np.finfo(np.float).eps,\n",
      "C:\\Users\\bioinspira\\Anaconda3\\lib\\site-packages\\sklearn\\linear_model\\least_angle.py:597: DeprecationWarning: `np.float` is a deprecated alias for the builtin `float`. To silence this warning, use `float` by itself. Doing this will not modify any behavior and is safe. If you specifically wanted the numpy scalar type, use `np.float64` here.\n",
      "Deprecated in NumPy 1.20; for more details and guidance: https://numpy.org/devdocs/release/1.20.0-notes.html#deprecations\n",
      "  eps=np.finfo(np.float).eps, copy_X=True, fit_path=True,\n",
      "C:\\Users\\bioinspira\\Anaconda3\\lib\\site-packages\\sklearn\\linear_model\\least_angle.py:836: DeprecationWarning: `np.float` is a deprecated alias for the builtin `float`. To silence this warning, use `float` by itself. Doing this will not modify any behavior and is safe. If you specifically wanted the numpy scalar type, use `np.float64` here.\n",
      "Deprecated in NumPy 1.20; for more details and guidance: https://numpy.org/devdocs/release/1.20.0-notes.html#deprecations\n",
      "  eps=np.finfo(np.float).eps, copy_X=True, fit_path=True,\n",
      "C:\\Users\\bioinspira\\Anaconda3\\lib\\site-packages\\sklearn\\linear_model\\least_angle.py:862: DeprecationWarning: `np.float` is a deprecated alias for the builtin `float`. To silence this warning, use `float` by itself. Doing this will not modify any behavior and is safe. If you specifically wanted the numpy scalar type, use `np.float64` here.\n",
      "Deprecated in NumPy 1.20; for more details and guidance: https://numpy.org/devdocs/release/1.20.0-notes.html#deprecations\n",
      "  eps=np.finfo(np.float).eps, positive=False):\n",
      "C:\\Users\\bioinspira\\Anaconda3\\lib\\site-packages\\sklearn\\linear_model\\least_angle.py:1097: DeprecationWarning: `np.float` is a deprecated alias for the builtin `float`. To silence this warning, use `float` by itself. Doing this will not modify any behavior and is safe. If you specifically wanted the numpy scalar type, use `np.float64` here.\n",
      "Deprecated in NumPy 1.20; for more details and guidance: https://numpy.org/devdocs/release/1.20.0-notes.html#deprecations\n",
      "  max_n_alphas=1000, n_jobs=None, eps=np.finfo(np.float).eps,\n",
      "C:\\Users\\bioinspira\\Anaconda3\\lib\\site-packages\\sklearn\\linear_model\\least_angle.py:1344: DeprecationWarning: `np.float` is a deprecated alias for the builtin `float`. To silence this warning, use `float` by itself. Doing this will not modify any behavior and is safe. If you specifically wanted the numpy scalar type, use `np.float64` here.\n",
      "Deprecated in NumPy 1.20; for more details and guidance: https://numpy.org/devdocs/release/1.20.0-notes.html#deprecations\n",
      "  max_n_alphas=1000, n_jobs=None, eps=np.finfo(np.float).eps,\n",
      "C:\\Users\\bioinspira\\Anaconda3\\lib\\site-packages\\sklearn\\linear_model\\least_angle.py:1480: DeprecationWarning: `np.float` is a deprecated alias for the builtin `float`. To silence this warning, use `float` by itself. Doing this will not modify any behavior and is safe. If you specifically wanted the numpy scalar type, use `np.float64` here.\n",
      "Deprecated in NumPy 1.20; for more details and guidance: https://numpy.org/devdocs/release/1.20.0-notes.html#deprecations\n",
      "  eps=np.finfo(np.float).eps, copy_X=True, positive=False):\n",
      "C:\\Users\\bioinspira\\Anaconda3\\lib\\site-packages\\sklearn\\linear_model\\randomized_l1.py:152: DeprecationWarning: `np.float` is a deprecated alias for the builtin `float`. To silence this warning, use `float` by itself. Doing this will not modify any behavior and is safe. If you specifically wanted the numpy scalar type, use `np.float64` here.\n",
      "Deprecated in NumPy 1.20; for more details and guidance: https://numpy.org/devdocs/release/1.20.0-notes.html#deprecations\n",
      "  precompute=False, eps=np.finfo(np.float).eps,\n",
      "C:\\Users\\bioinspira\\Anaconda3\\lib\\site-packages\\sklearn\\linear_model\\randomized_l1.py:320: DeprecationWarning: `np.float` is a deprecated alias for the builtin `float`. To silence this warning, use `float` by itself. Doing this will not modify any behavior and is safe. If you specifically wanted the numpy scalar type, use `np.float64` here.\n",
      "Deprecated in NumPy 1.20; for more details and guidance: https://numpy.org/devdocs/release/1.20.0-notes.html#deprecations\n",
      "  eps=np.finfo(np.float).eps, random_state=None,\n",
      "C:\\Users\\bioinspira\\Anaconda3\\lib\\site-packages\\sklearn\\linear_model\\randomized_l1.py:580: DeprecationWarning: `np.float` is a deprecated alias for the builtin `float`. To silence this warning, use `float` by itself. Doing this will not modify any behavior and is safe. If you specifically wanted the numpy scalar type, use `np.float64` here.\n",
      "Deprecated in NumPy 1.20; for more details and guidance: https://numpy.org/devdocs/release/1.20.0-notes.html#deprecations\n",
      "  eps=4 * np.finfo(np.float).eps, n_jobs=None,\n"
     ]
    },
    {
     "data": {
      "text/html": [
       "        <script type=\"text/javascript\">\n",
       "        window.PlotlyConfig = {MathJaxConfig: 'local'};\n",
       "        if (window.MathJax) {MathJax.Hub.Config({SVG: {font: \"STIX-Web\"}});}\n",
       "        if (typeof require !== 'undefined') {\n",
       "        require.undef(\"plotly\");\n",
       "        requirejs.config({\n",
       "            paths: {\n",
       "                'plotly': ['https://cdn.plot.ly/plotly-latest.min']\n",
       "            }\n",
       "        });\n",
       "        require(['plotly'], function(Plotly) {\n",
       "            window._Plotly = Plotly;\n",
       "        });\n",
       "        }\n",
       "        </script>\n",
       "        "
      ]
     },
     "metadata": {},
     "output_type": "display_data"
    }
   ],
   "source": [
    "import os\n",
    "import pandas as pd\n",
    "import numpy as np\n",
    "import matplotlib.pyplot as plt\n",
    "from sklearn.linear_model import Ridge, Lasso, LinearRegression\n",
    "from sklearn import linear_model\n",
    "from sklearn.metrics import mean_squared_error\n",
    "\n",
    "import warnings\n",
    "warnings.filterwarnings('ignore')\n",
    "\n",
    "import tkinter\n",
    "from tkinter import*\n",
    "# Create Tk root\n",
    "root = Tk()\n",
    "# Hide the main window\n",
    "root.withdraw()\n",
    "root.call('wm', 'attributes', '.', '-topmost', True)\n",
    "from tkinter import filedialog\n",
    "%gui tk\n",
    "\n",
    "import FFT\n",
    "import compensation\n",
    "import module_4D\n",
    "# import modeling_white_card\n",
    "import model\n",
    "import white_card_std\n",
    "\n",
    "# from modeling_white_card import modeling_white\n",
    "# from modeling import modeling\n",
    "import interpolation\n",
    "import plotly.express as px\n",
    "import plotly.graph_objects as go\n",
    "from plotly.subplots import make_subplots"
   ]
  },
  {
   "cell_type": "code",
   "execution_count": 2,
   "metadata": {
    "slideshow": {
     "slide_type": "skip"
    }
   },
   "outputs": [],
   "source": [
    "def data_loading():\n",
    "    path = filedialog.askdirectory()\n",
    "    print(path)\n",
    "    return path"
   ]
  },
  {
   "cell_type": "code",
   "execution_count": 3,
   "metadata": {},
   "outputs": [],
   "source": [
    "def plot_overlay(data_list, cal_channel='583nm #1', QC_channel='583nm #1', save_figure=True, offset=False):\n",
    "    save_figure = save_figure\n",
    "    offset = offset\n",
    "    cal_channel = cal_channel\n",
    "    QC_channel = QC_channel\n",
    "\n",
    "    plot_data = []\n",
    "    data_list = data_list\n",
    "\n",
    "    if offset == True:\n",
    "        trace_ppm = go.Scatter(y=df_30C[cal_channel]-df_30C.loc[1,cal_channel], name=cal_channel+' calibration')\n",
    "        plot_data.append(trace_ppm)\n",
    "\n",
    "        for i,j in enumerate(data_list):\n",
    "            trace_ppm = go.Scatter(y=j[QC_channel]-j.loc[1,QC_channel], name=QC_channel+' QC{}'.format(i+10))\n",
    "            plot_data.append(trace_ppm) \n",
    "    else:\n",
    "        trace_ppm = go.Scatter(y=df_30C[cal_channel], name=cal_channel+' calibration')\n",
    "        plot_data.append(trace_ppm)\n",
    "\n",
    "        for i,j in enumerate(data_list):\n",
    "            trace_ppm = go.Scatter(y=j[QC_channel], name=QC_channel+' QC{}'.format(i+10))\n",
    "            plot_data.append(trace_ppm)\n",
    "\n",
    "\n",
    "    title = '{} raw data overlay'.format(QC_channel)    \n",
    "    layout = go.Layout(title=title)\n",
    "    fig = go.Figure(data=plot_data, layout=layout)\n",
    "    fig.show()\n",
    "\n",
    "    if save_figure == True:\n",
    "        # save figure\n",
    "        savePath = os.path.join(os.getcwd(), folder_name)\n",
    "        filename = title\n",
    "        fig.write_image(savePath + '/' + filename + '.jpeg', width=1280, height=720)"
   ]
  },
  {
   "cell_type": "code",
   "execution_count": 4,
   "metadata": {},
   "outputs": [],
   "source": [
    "def response_separation(data_list, QC_channel='583nm #1', save_figure=True, humidity_step=1):\n",
    "    \"\"\" data_list: list, dataframe\n",
    "        QC_channel: str, channel name\n",
    "        save_figure: bool\n",
    "        humidity_step: int\"\"\"\n",
    "    \n",
    "    save_figure = save_figure\n",
    "    QC_channel = QC_channel\n",
    "    selected_range = { \n",
    "                       1:(4, 9, 14), \n",
    "                       2:(19, 24, 29),\n",
    "                       3:(34, 39, 44),\n",
    "                                                }\n",
    "\n",
    "    diff_list = []\n",
    "    for i,data in enumerate([df_30C]+test_data_list):\n",
    "        diff = []\n",
    "        a,b,c = selected_range.get(humidity_step)\n",
    "        diff_b = data.loc[b-3:b, QC_channel].mean()-data.loc[a-3:a, QC_channel].mean()\n",
    "        diff.append(abs(round(diff_b, 0)))\n",
    "        diff_c = data.loc[c-3:c, QC_channel].mean()-data.loc[a-3:a, QC_channel].mean()\n",
    "        diff.append(abs(round(diff_c, 0)))\n",
    "        diff_list.append(diff)\n",
    "        \n",
    "    index = ['calibration']+['QC{}'.format(i+1) for i in range(0, len(test_data_list))]\n",
    "    by_diff = pd.DataFrame(diff_list, columns=['60ppm-10ppm','40ppm-10ppm'], index=index)\n",
    "    \n",
    "    temperature = data.loc[a, 'Temperature']\n",
    "    humidity = data.loc[a, 'Humidity']\n",
    "    filename = '{} response separation (baseline 10ppm) ({}C {}%)'.format(QC_channel, int(temperature), int(humidity))\n",
    "    \n",
    "    \n",
    "    plot_data = []\n",
    "    trace = go.Bar(x=by_diff.index, y=by_diff.loc[:,'60ppm-10ppm'], name='60ppm-10ppm', text=by_diff.loc[:,'60ppm-10ppm'], textposition='auto')\n",
    "    plot_data.append(trace)\n",
    "    trace = go.Bar(x=by_diff.index, y=by_diff.loc[:,'40ppm-10ppm'], name='40ppm-10ppm', text=by_diff.loc[:,'40ppm-10ppm'], textposition='auto')\n",
    "    plot_data.append(trace)\n",
    "\n",
    "    layout = go.Layout(title=filename)\n",
    "#     layout = go.Layout(title='{} response separation (baseline 4ppm)'.format(QC_channel))\n",
    "    fig = go.Figure(data=plot_data, layout=layout)\n",
    "    fig.update_layout()\n",
    "    fig.show()\n",
    "\n",
    "    if save_figure == True:\n",
    "        # save figure\n",
    "        savePath = os.path.join(os.getcwd(), folder_name)\n",
    "\n",
    "        if not os.path.exists(savePath):\n",
    "                os.makedirs(savePath)\n",
    "\n",
    "        filename = '{} response separation (baseline 10ppm)'.format(QC_channel)\n",
    "        fig.write_image(savePath + '/' + filename + '.jpeg', width=1280, height=720)"
   ]
  },
  {
   "cell_type": "code",
   "execution_count": 5,
   "metadata": {},
   "outputs": [
    {
     "name": "stdout",
     "output_type": "stream",
     "text": [
      "D:/Data_store/AMS_7341/111822 FPCB poultry (batch 09-23-22-2)(new chip process)(probe KQ)\n"
     ]
    },
    {
     "data": {
      "text/plain": [
       "['D:/Data_store/AMS_7341/111822 FPCB poultry (batch 09-23-22-2)(new chip process)(probe KQ)/#20221107095021',\n",
       " 'D:/Data_store/AMS_7341/111822 FPCB poultry (batch 09-23-22-2)(new chip process)(probe KQ)/#20221107095051',\n",
       " 'D:/Data_store/AMS_7341/111822 FPCB poultry (batch 09-23-22-2)(new chip process)(probe KQ)/#20221107095121',\n",
       " 'D:/Data_store/AMS_7341/111822 FPCB poultry (batch 09-23-22-2)(new chip process)(probe KQ)/#20221107095135',\n",
       " 'D:/Data_store/AMS_7341/111822 FPCB poultry (batch 09-23-22-2)(new chip process)(probe KQ)/#20221107095155',\n",
       " 'D:/Data_store/AMS_7341/111822 FPCB poultry (batch 09-23-22-2)(new chip process)(probe KQ)/#20221107095215',\n",
       " 'D:/Data_store/AMS_7341/111822 FPCB poultry (batch 09-23-22-2)(new chip process)(probe KQ)/#20221107095426',\n",
       " 'D:/Data_store/AMS_7341/111822 FPCB poultry (batch 09-23-22-2)(new chip process)(probe KQ)/#20221107095440']"
      ]
     },
     "execution_count": 5,
     "metadata": {},
     "output_type": "execute_result"
    }
   ],
   "source": [
    "path = data_loading()\n",
    "\n",
    "# 收尋path裡所有的資料夾、檔案的路徑\n",
    "dirPath_list = []\n",
    "dirNames_list = []\n",
    "for dirPath, dirNames, _ in os.walk(path):\n",
    "    dirPath_list.append(dirPath)\n",
    "    dirNames_list.append(dirNames)\n",
    "\n",
    "# 合成各個sensor路徑\n",
    "path_list = []\n",
    "for sensor in dirNames_list[0]:\n",
    "    if '#20' in sensor:\n",
    "        sensor_path = os.path.join(dirPath_list[0],sensor).replace('\\\\', '/')\n",
    "        path_list.append(sensor_path)\n",
    "path_list"
   ]
  },
  {
   "cell_type": "code",
   "execution_count": 6,
   "metadata": {},
   "outputs": [],
   "source": [
    "# path_list.pop(-3)"
   ]
  },
  {
   "cell_type": "code",
   "execution_count": 7,
   "metadata": {},
   "outputs": [],
   "source": [
    "# sensor_number = 1\n",
    "# a = 1\n",
    "# path_list = []\n",
    "# while a <= sensor_number:\n",
    "#     path = data_loading()\n",
    "#     path_list.append(path)\n",
    "#     a += 1"
   ]
  },
  {
   "cell_type": "code",
   "execution_count": 8,
   "metadata": {},
   "outputs": [],
   "source": [
    "# Sensor model setting \n",
    "sensor_humidity_feature = True\n",
    "interpolation_model = 'linear'\n",
    "model_name = Ridge(alpha=10)                    #regression model\n",
    "shift = 0                             #raw data signal shifting\n",
    "multiple = 1                                    #raw data ppm multiple\n",
    "\n",
    "train_channel = 'Filtered_Z_score_583nm #1'                   #training channel\n",
    "test_channel = 'Filtered_Z_score_583nm #1'                    #testing channel\n",
    "\n",
    "degree = 2                                      #polynimial degree\n",
    "output_modify = 1                               #output multiple\n",
    "\n",
    "\n",
    "# folder_name = 'QC1(10,20,30,40C)({})(degree {})({})'.format(interpolation_model, degree, train_channel)\n",
    "\n",
    "# folder_name = 'Train_30C'\n",
    "# folder_name = 'Train_30C (clear channel compensation)'\n",
    "folder_name = 'QC1'\n",
    "# folder_name = 'QC1 (clear channel compensation)'\n",
    "# folder_name = 'QC2'\n",
    "# folder_name = 'QC2 (clear channel compensation)'\n",
    "# folder_name = 'QC3'\n",
    "# folder_name = 'QC3 (clear channel compensation)'\n",
    "# folder_name = 'QC4'"
   ]
  },
  {
   "cell_type": "code",
   "execution_count": 9,
   "metadata": {},
   "outputs": [],
   "source": [
    "def moving_average(data, windows=1, windows_offset=1):\n",
    "    '''data: list(int, float)\n",
    "       windows: int, \n",
    "       windows_offset: int'''\n",
    "    \n",
    "    moving_average_result = []\n",
    "    i = 0\n",
    "    while i < len(data):\n",
    "        average = round(data[i:i+windows].mean(),1)\n",
    "        moving_average_result.append(average)\n",
    "        i += windows_offset\n",
    "    return moving_average_result"
   ]
  },
  {
   "cell_type": "code",
   "execution_count": 10,
   "metadata": {
    "scrolled": false,
    "slideshow": {
     "slide_type": "skip"
    }
   },
   "outputs": [
    {
     "name": "stdout",
     "output_type": "stream",
     "text": [
      "sensor_number: #20221107095021\n"
     ]
    },
    {
     "data": {
      "application/vnd.plotly.v1+json": {
       "config": {
        "plotlyServerURL": "https://plot.ly"
       },
       "data": [
        {
         "name": "Humidity",
         "type": "scatter",
         "xaxis": "x",
         "y": [
          30.05828857421875,
          30.0201416015625,
          29.84771728515625,
          29.9560546875,
          30.02777099609375,
          29.49676513671875,
          29.583740234375,
          29.64019775390625,
          29.473876953125,
          29.53948974609375,
          29.4677734375,
          29.52423095703125,
          29.3212890625,
          29.43878173828125,
          29.50439453125,
          29.2205810546875,
          29.37164306640625,
          29.4647216796875,
          29.25262451171875,
          29.339599609375,
          60.37445068359375,
          60.186767578125,
          60.20660400390625,
          60.443115234375,
          60.30426025390625,
          60.63995361328125,
          60.7818603515625,
          60.56976318359375,
          60.65673828125,
          60.81085205078125,
          61.04736328125,
          61.16180419921875,
          60.85205078125,
          61.06414794921875,
          61.260986328125,
          61.053466796875,
          61.22894287109375,
          61.3037109375,
          61.07635498046875,
          61.2884521484375,
          87.63885498046875,
          87.750244140625,
          88.00506591796875,
          87.664794921875,
          87.71820068359375,
          87.89520263671875,
          87.9150390625,
          88.13629150390625,
          87.95166015625,
          87.86163330078125,
          88.4521484375,
          88.78936767578125,
          88.6322021484375,
          88.52691650390625,
          88.7115478515625,
          88.65966796875,
          88.78631591796875,
          88.958740234375,
          88.62762451171875,
          88.76953125
         ],
         "yaxis": "y"
        },
        {
         "name": "Temperature",
         "type": "scatter",
         "xaxis": "x2",
         "y": [
          30.26649475097656,
          30.26397705078125,
          30.27656555175781,
          30.269012451171875,
          30.26649475097656,
          30.27656555175781,
          30.269012451171875,
          30.27656555175781,
          30.269012451171875,
          30.26649475097656,
          30.26397705078125,
          30.28160095214844,
          30.2740478515625,
          30.27153015136719,
          30.269012451171875,
          30.2740478515625,
          30.26649475097656,
          30.28411865234375,
          30.27153015136719,
          30.269012451171875,
          30.31181335449219,
          30.3143310546875,
          30.31684875488281,
          30.3143310546875,
          30.30677795410156,
          30.30174255371093,
          30.294189453125,
          30.29167175292969,
          30.30426025390625,
          30.29670715332031,
          30.28411865234375,
          30.29167175292969,
          30.294189453125,
          30.30174255371093,
          30.294189453125,
          30.28915405273437,
          30.27656555175781,
          30.28411865234375,
          30.29670715332031,
          30.294189453125,
          30.33699035644531,
          30.32440185546875,
          30.34202575683593,
          30.33447265625,
          30.326919555664062,
          30.30677795410156,
          30.299224853515625,
          30.30677795410156,
          30.309295654296875,
          30.31181335449219,
          30.3143310546875,
          30.30677795410156,
          30.30426025390625,
          30.31181335449219,
          30.309295654296875,
          30.309295654296875,
          30.30677795410156,
          30.299224853515625,
          30.30174255371093,
          30.319366455078125
         ],
         "yaxis": "y2"
        },
        {
         "name": "ppm",
         "type": "scatter",
         "xaxis": "x3",
         "y": [
          0,
          0,
          0,
          0,
          0,
          10.013501350135014,
          9.987624845310568,
          9.99937503906006,
          10.01212454532955,
          10.01337617041491,
          40.006999037632326,
          40.00150005625211,
          40.002000100005,
          40.020504100820176,
          40.014000525019696,
          60,
          59.97925285273276,
          59.99850003749906,
          59.99475045933481,
          59.9960010996976,
          0,
          0,
          0,
          0,
          0,
          10.025,
          10.02625328166021,
          10.012750318757968,
          10.026253281660209,
          10.010372795780896,
          39.99200159968006,
          39.99950000624992,
          39.9965003062232,
          40.009999375039065,
          40.0035003062768,
          59.99775008437184,
          60.03449827508625,
          60.01674769719164,
          60.01174985312685,
          60.01700127509564,
          0,
          0,
          0,
          0,
          0,
          10.012625157814472,
          9.998500224966255,
          10.0125,
          9.997250756042089,
          10.011123470522802,
          40.007501406513725,
          40.01650165016502,
          39.98899958748453,
          40.0114997125072,
          40.00150005625211,
          60.0397514906809,
          59.988249853123165,
          60.01700127509564,
          59.99925000937489,
          60.00375023438965
         ],
         "yaxis": "y3"
        },
        {
         "name": "pred_ppm",
         "type": "scatter",
         "xaxis": "x3",
         "y": [
          -5.770575544841986,
          -5.754153219658917,
          -5.763193799987306,
          -5.960836692110217,
          -5.97905232347849,
          8.010936425580931,
          8.020290047375287,
          8.073189395516048,
          8.010479615994367,
          8.116890763453421,
          38.01679498947502,
          38.16960087988009,
          38.24475589635,
          38.41248368599397,
          38.368493030424716,
          57.737947887667914,
          57.953088680198896,
          58.187903826974505,
          57.85283631827049,
          58.052048919934784,
          -3.3057484601558365,
          -3.394999983289379,
          -3.465774576776459,
          -3.514630437548325,
          -3.521706409129946,
          7.992264528158145,
          8.050668964113289,
          7.743237421616459,
          8.037513297807259,
          8.120766764125856,
          37.77277820652678,
          37.61416713398002,
          37.668563300872634,
          37.83290109652522,
          37.72477620730213,
          56.65073466214751,
          56.93282597712127,
          56.65675449420045,
          56.73493830710111,
          56.83407842037707,
          -0.9622123067656361,
          -1.0405323767326102,
          -1.533782739986524,
          -1.1432727176931436,
          -1.2242442650792356,
          9.45992165846397,
          9.416551028570035,
          9.381556580333623,
          9.569506515679745,
          9.654966376851462,
          38.23896157885457,
          38.52567445414266,
          38.59656479011721,
          38.95291687500414,
          38.80062823563098,
          58.194146445041966,
          58.102571419433005,
          58.104710789202706,
          58.37908384271671,
          57.881221909226994
         ],
         "yaxis": "y3"
        },
        {
         "name": "ppm error",
         "text": [
          "-5.8",
          "-2.0",
          "-1.8",
          "-2.0",
          "-3.4",
          "-2.0",
          "-2.3",
          "-3.3",
          "-1.2",
          "-0.5",
          "-1.4",
          "-1.9"
         ],
         "textposition": "auto",
         "type": "bar",
         "xaxis": "x4",
         "y": [
          -5.8,
          -2,
          -1.8,
          -2,
          -3.4,
          -2,
          -2.3,
          -3.3,
          -1.2,
          -0.5,
          -1.4,
          -1.9
         ],
         "yaxis": "y4"
        }
       ],
       "layout": {
        "annotations": [
         {
          "font": {
           "size": 16
          },
          "showarrow": false,
          "text": "Humidity",
          "x": 0.5,
          "xanchor": "center",
          "xref": "paper",
          "y": 1,
          "yanchor": "bottom",
          "yref": "paper"
         },
         {
          "font": {
           "size": 16
          },
          "showarrow": false,
          "text": "Temperature",
          "x": 0.5,
          "xanchor": "center",
          "xref": "paper",
          "y": 0.7833333333333333,
          "yanchor": "bottom",
          "yref": "paper"
         },
         {
          "font": {
           "size": 16
          },
          "showarrow": false,
          "text": "Prediction",
          "x": 0.5,
          "xanchor": "center",
          "xref": "paper",
          "y": 0.5666666666666667,
          "yanchor": "bottom",
          "yref": "paper"
         },
         {
          "font": {
           "size": 16
          },
          "showarrow": false,
          "text": "ppm error",
          "x": 0.5,
          "xanchor": "center",
          "xref": "paper",
          "y": 0.35,
          "yanchor": "bottom",
          "yref": "paper"
         }
        ],
        "height": 800,
        "legend": {
         "tracegroupgap": 135
        },
        "template": {
         "data": {
          "bar": [
           {
            "error_x": {
             "color": "#2a3f5f"
            },
            "error_y": {
             "color": "#2a3f5f"
            },
            "marker": {
             "line": {
              "color": "#E5ECF6",
              "width": 0.5
             }
            },
            "type": "bar"
           }
          ],
          "barpolar": [
           {
            "marker": {
             "line": {
              "color": "#E5ECF6",
              "width": 0.5
             }
            },
            "type": "barpolar"
           }
          ],
          "carpet": [
           {
            "aaxis": {
             "endlinecolor": "#2a3f5f",
             "gridcolor": "white",
             "linecolor": "white",
             "minorgridcolor": "white",
             "startlinecolor": "#2a3f5f"
            },
            "baxis": {
             "endlinecolor": "#2a3f5f",
             "gridcolor": "white",
             "linecolor": "white",
             "minorgridcolor": "white",
             "startlinecolor": "#2a3f5f"
            },
            "type": "carpet"
           }
          ],
          "choropleth": [
           {
            "colorbar": {
             "outlinewidth": 0,
             "ticks": ""
            },
            "type": "choropleth"
           }
          ],
          "contour": [
           {
            "colorbar": {
             "outlinewidth": 0,
             "ticks": ""
            },
            "colorscale": [
             [
              0,
              "#0d0887"
             ],
             [
              0.1111111111111111,
              "#46039f"
             ],
             [
              0.2222222222222222,
              "#7201a8"
             ],
             [
              0.3333333333333333,
              "#9c179e"
             ],
             [
              0.4444444444444444,
              "#bd3786"
             ],
             [
              0.5555555555555556,
              "#d8576b"
             ],
             [
              0.6666666666666666,
              "#ed7953"
             ],
             [
              0.7777777777777778,
              "#fb9f3a"
             ],
             [
              0.8888888888888888,
              "#fdca26"
             ],
             [
              1,
              "#f0f921"
             ]
            ],
            "type": "contour"
           }
          ],
          "contourcarpet": [
           {
            "colorbar": {
             "outlinewidth": 0,
             "ticks": ""
            },
            "type": "contourcarpet"
           }
          ],
          "heatmap": [
           {
            "colorbar": {
             "outlinewidth": 0,
             "ticks": ""
            },
            "colorscale": [
             [
              0,
              "#0d0887"
             ],
             [
              0.1111111111111111,
              "#46039f"
             ],
             [
              0.2222222222222222,
              "#7201a8"
             ],
             [
              0.3333333333333333,
              "#9c179e"
             ],
             [
              0.4444444444444444,
              "#bd3786"
             ],
             [
              0.5555555555555556,
              "#d8576b"
             ],
             [
              0.6666666666666666,
              "#ed7953"
             ],
             [
              0.7777777777777778,
              "#fb9f3a"
             ],
             [
              0.8888888888888888,
              "#fdca26"
             ],
             [
              1,
              "#f0f921"
             ]
            ],
            "type": "heatmap"
           }
          ],
          "heatmapgl": [
           {
            "colorbar": {
             "outlinewidth": 0,
             "ticks": ""
            },
            "colorscale": [
             [
              0,
              "#0d0887"
             ],
             [
              0.1111111111111111,
              "#46039f"
             ],
             [
              0.2222222222222222,
              "#7201a8"
             ],
             [
              0.3333333333333333,
              "#9c179e"
             ],
             [
              0.4444444444444444,
              "#bd3786"
             ],
             [
              0.5555555555555556,
              "#d8576b"
             ],
             [
              0.6666666666666666,
              "#ed7953"
             ],
             [
              0.7777777777777778,
              "#fb9f3a"
             ],
             [
              0.8888888888888888,
              "#fdca26"
             ],
             [
              1,
              "#f0f921"
             ]
            ],
            "type": "heatmapgl"
           }
          ],
          "histogram": [
           {
            "marker": {
             "colorbar": {
              "outlinewidth": 0,
              "ticks": ""
             }
            },
            "type": "histogram"
           }
          ],
          "histogram2d": [
           {
            "colorbar": {
             "outlinewidth": 0,
             "ticks": ""
            },
            "colorscale": [
             [
              0,
              "#0d0887"
             ],
             [
              0.1111111111111111,
              "#46039f"
             ],
             [
              0.2222222222222222,
              "#7201a8"
             ],
             [
              0.3333333333333333,
              "#9c179e"
             ],
             [
              0.4444444444444444,
              "#bd3786"
             ],
             [
              0.5555555555555556,
              "#d8576b"
             ],
             [
              0.6666666666666666,
              "#ed7953"
             ],
             [
              0.7777777777777778,
              "#fb9f3a"
             ],
             [
              0.8888888888888888,
              "#fdca26"
             ],
             [
              1,
              "#f0f921"
             ]
            ],
            "type": "histogram2d"
           }
          ],
          "histogram2dcontour": [
           {
            "colorbar": {
             "outlinewidth": 0,
             "ticks": ""
            },
            "colorscale": [
             [
              0,
              "#0d0887"
             ],
             [
              0.1111111111111111,
              "#46039f"
             ],
             [
              0.2222222222222222,
              "#7201a8"
             ],
             [
              0.3333333333333333,
              "#9c179e"
             ],
             [
              0.4444444444444444,
              "#bd3786"
             ],
             [
              0.5555555555555556,
              "#d8576b"
             ],
             [
              0.6666666666666666,
              "#ed7953"
             ],
             [
              0.7777777777777778,
              "#fb9f3a"
             ],
             [
              0.8888888888888888,
              "#fdca26"
             ],
             [
              1,
              "#f0f921"
             ]
            ],
            "type": "histogram2dcontour"
           }
          ],
          "mesh3d": [
           {
            "colorbar": {
             "outlinewidth": 0,
             "ticks": ""
            },
            "type": "mesh3d"
           }
          ],
          "parcoords": [
           {
            "line": {
             "colorbar": {
              "outlinewidth": 0,
              "ticks": ""
             }
            },
            "type": "parcoords"
           }
          ],
          "pie": [
           {
            "automargin": true,
            "type": "pie"
           }
          ],
          "scatter": [
           {
            "marker": {
             "colorbar": {
              "outlinewidth": 0,
              "ticks": ""
             }
            },
            "type": "scatter"
           }
          ],
          "scatter3d": [
           {
            "line": {
             "colorbar": {
              "outlinewidth": 0,
              "ticks": ""
             }
            },
            "marker": {
             "colorbar": {
              "outlinewidth": 0,
              "ticks": ""
             }
            },
            "type": "scatter3d"
           }
          ],
          "scattercarpet": [
           {
            "marker": {
             "colorbar": {
              "outlinewidth": 0,
              "ticks": ""
             }
            },
            "type": "scattercarpet"
           }
          ],
          "scattergeo": [
           {
            "marker": {
             "colorbar": {
              "outlinewidth": 0,
              "ticks": ""
             }
            },
            "type": "scattergeo"
           }
          ],
          "scattergl": [
           {
            "marker": {
             "colorbar": {
              "outlinewidth": 0,
              "ticks": ""
             }
            },
            "type": "scattergl"
           }
          ],
          "scattermapbox": [
           {
            "marker": {
             "colorbar": {
              "outlinewidth": 0,
              "ticks": ""
             }
            },
            "type": "scattermapbox"
           }
          ],
          "scatterpolar": [
           {
            "marker": {
             "colorbar": {
              "outlinewidth": 0,
              "ticks": ""
             }
            },
            "type": "scatterpolar"
           }
          ],
          "scatterpolargl": [
           {
            "marker": {
             "colorbar": {
              "outlinewidth": 0,
              "ticks": ""
             }
            },
            "type": "scatterpolargl"
           }
          ],
          "scatterternary": [
           {
            "marker": {
             "colorbar": {
              "outlinewidth": 0,
              "ticks": ""
             }
            },
            "type": "scatterternary"
           }
          ],
          "surface": [
           {
            "colorbar": {
             "outlinewidth": 0,
             "ticks": ""
            },
            "colorscale": [
             [
              0,
              "#0d0887"
             ],
             [
              0.1111111111111111,
              "#46039f"
             ],
             [
              0.2222222222222222,
              "#7201a8"
             ],
             [
              0.3333333333333333,
              "#9c179e"
             ],
             [
              0.4444444444444444,
              "#bd3786"
             ],
             [
              0.5555555555555556,
              "#d8576b"
             ],
             [
              0.6666666666666666,
              "#ed7953"
             ],
             [
              0.7777777777777778,
              "#fb9f3a"
             ],
             [
              0.8888888888888888,
              "#fdca26"
             ],
             [
              1,
              "#f0f921"
             ]
            ],
            "type": "surface"
           }
          ],
          "table": [
           {
            "cells": {
             "fill": {
              "color": "#EBF0F8"
             },
             "line": {
              "color": "white"
             }
            },
            "header": {
             "fill": {
              "color": "#C8D4E3"
             },
             "line": {
              "color": "white"
             }
            },
            "type": "table"
           }
          ]
         },
         "layout": {
          "annotationdefaults": {
           "arrowcolor": "#2a3f5f",
           "arrowhead": 0,
           "arrowwidth": 1
          },
          "autotypenumbers": "strict",
          "coloraxis": {
           "colorbar": {
            "outlinewidth": 0,
            "ticks": ""
           }
          },
          "colorscale": {
           "diverging": [
            [
             0,
             "#8e0152"
            ],
            [
             0.1,
             "#c51b7d"
            ],
            [
             0.2,
             "#de77ae"
            ],
            [
             0.3,
             "#f1b6da"
            ],
            [
             0.4,
             "#fde0ef"
            ],
            [
             0.5,
             "#f7f7f7"
            ],
            [
             0.6,
             "#e6f5d0"
            ],
            [
             0.7,
             "#b8e186"
            ],
            [
             0.8,
             "#7fbc41"
            ],
            [
             0.9,
             "#4d9221"
            ],
            [
             1,
             "#276419"
            ]
           ],
           "sequential": [
            [
             0,
             "#0d0887"
            ],
            [
             0.1111111111111111,
             "#46039f"
            ],
            [
             0.2222222222222222,
             "#7201a8"
            ],
            [
             0.3333333333333333,
             "#9c179e"
            ],
            [
             0.4444444444444444,
             "#bd3786"
            ],
            [
             0.5555555555555556,
             "#d8576b"
            ],
            [
             0.6666666666666666,
             "#ed7953"
            ],
            [
             0.7777777777777778,
             "#fb9f3a"
            ],
            [
             0.8888888888888888,
             "#fdca26"
            ],
            [
             1,
             "#f0f921"
            ]
           ],
           "sequentialminus": [
            [
             0,
             "#0d0887"
            ],
            [
             0.1111111111111111,
             "#46039f"
            ],
            [
             0.2222222222222222,
             "#7201a8"
            ],
            [
             0.3333333333333333,
             "#9c179e"
            ],
            [
             0.4444444444444444,
             "#bd3786"
            ],
            [
             0.5555555555555556,
             "#d8576b"
            ],
            [
             0.6666666666666666,
             "#ed7953"
            ],
            [
             0.7777777777777778,
             "#fb9f3a"
            ],
            [
             0.8888888888888888,
             "#fdca26"
            ],
            [
             1,
             "#f0f921"
            ]
           ]
          },
          "colorway": [
           "#636efa",
           "#EF553B",
           "#00cc96",
           "#ab63fa",
           "#FFA15A",
           "#19d3f3",
           "#FF6692",
           "#B6E880",
           "#FF97FF",
           "#FECB52"
          ],
          "font": {
           "color": "#2a3f5f"
          },
          "geo": {
           "bgcolor": "white",
           "lakecolor": "white",
           "landcolor": "#E5ECF6",
           "showlakes": true,
           "showland": true,
           "subunitcolor": "white"
          },
          "hoverlabel": {
           "align": "left"
          },
          "hovermode": "closest",
          "mapbox": {
           "style": "light"
          },
          "paper_bgcolor": "white",
          "plot_bgcolor": "#E5ECF6",
          "polar": {
           "angularaxis": {
            "gridcolor": "white",
            "linecolor": "white",
            "ticks": ""
           },
           "bgcolor": "#E5ECF6",
           "radialaxis": {
            "gridcolor": "white",
            "linecolor": "white",
            "ticks": ""
           }
          },
          "scene": {
           "xaxis": {
            "backgroundcolor": "#E5ECF6",
            "gridcolor": "white",
            "gridwidth": 2,
            "linecolor": "white",
            "showbackground": true,
            "ticks": "",
            "zerolinecolor": "white"
           },
           "yaxis": {
            "backgroundcolor": "#E5ECF6",
            "gridcolor": "white",
            "gridwidth": 2,
            "linecolor": "white",
            "showbackground": true,
            "ticks": "",
            "zerolinecolor": "white"
           },
           "zaxis": {
            "backgroundcolor": "#E5ECF6",
            "gridcolor": "white",
            "gridwidth": 2,
            "linecolor": "white",
            "showbackground": true,
            "ticks": "",
            "zerolinecolor": "white"
           }
          },
          "shapedefaults": {
           "line": {
            "color": "#2a3f5f"
           }
          },
          "ternary": {
           "aaxis": {
            "gridcolor": "white",
            "linecolor": "white",
            "ticks": ""
           },
           "baxis": {
            "gridcolor": "white",
            "linecolor": "white",
            "ticks": ""
           },
           "bgcolor": "#E5ECF6",
           "caxis": {
            "gridcolor": "white",
            "linecolor": "white",
            "ticks": ""
           }
          },
          "title": {
           "x": 0.05
          },
          "xaxis": {
           "automargin": true,
           "gridcolor": "white",
           "linecolor": "white",
           "ticks": "",
           "title": {
            "standoff": 15
           },
           "zerolinecolor": "white",
           "zerolinewidth": 2
          },
          "yaxis": {
           "automargin": true,
           "gridcolor": "white",
           "linecolor": "white",
           "ticks": "",
           "title": {
            "standoff": 15
           },
           "zerolinecolor": "white",
           "zerolinewidth": 2
          }
         }
        },
        "title": {
         "text": "(29%~88%)(Filtered_Z_score_583nm #1)(shift 0)(RMSE=2.65099)"
        },
        "width": 900,
        "xaxis": {
         "anchor": "y",
         "domain": [
          0,
          1
         ]
        },
        "xaxis2": {
         "anchor": "y2",
         "domain": [
          0,
          1
         ]
        },
        "xaxis3": {
         "anchor": "y3",
         "domain": [
          0,
          1
         ]
        },
        "xaxis4": {
         "anchor": "y4",
         "domain": [
          0,
          1
         ]
        },
        "yaxis": {
         "anchor": "x",
         "domain": [
          0.8833333333333333,
          1
         ]
        },
        "yaxis2": {
         "anchor": "x2",
         "domain": [
          0.6666666666666666,
          0.7833333333333333
         ]
        },
        "yaxis3": {
         "anchor": "x3",
         "domain": [
          0.44999999999999996,
          0.5666666666666667
         ]
        },
        "yaxis4": {
         "anchor": "x4",
         "domain": [
          0,
          0.35
         ],
         "range": [
          -11.8,
          5.5
         ]
        }
       }
      },
      "text/html": [
       "<div>                            <div id=\"7158f4d4-d5eb-4cf1-a449-62015309472d\" class=\"plotly-graph-div\" style=\"height:800px; width:900px;\"></div>            <script type=\"text/javascript\">                require([\"plotly\"], function(Plotly) {                    window.PLOTLYENV=window.PLOTLYENV || {};                                    if (document.getElementById(\"7158f4d4-d5eb-4cf1-a449-62015309472d\")) {                    Plotly.newPlot(                        \"7158f4d4-d5eb-4cf1-a449-62015309472d\",                        [{\"name\": \"Humidity\", \"type\": \"scatter\", \"xaxis\": \"x\", \"y\": [30.05828857421875, 30.0201416015625, 29.84771728515625, 29.9560546875, 30.02777099609375, 29.49676513671875, 29.583740234375, 29.64019775390625, 29.473876953125, 29.53948974609375, 29.4677734375, 29.52423095703125, 29.3212890625, 29.43878173828125, 29.50439453125, 29.2205810546875, 29.37164306640625, 29.4647216796875, 29.25262451171875, 29.339599609375, 60.37445068359375, 60.186767578125, 60.20660400390625, 60.443115234375, 60.30426025390625, 60.63995361328125, 60.7818603515625, 60.56976318359375, 60.65673828125, 60.81085205078125, 61.04736328125, 61.16180419921875, 60.85205078125, 61.06414794921875, 61.260986328125, 61.053466796875, 61.22894287109375, 61.3037109375, 61.07635498046875, 61.2884521484375, 87.63885498046875, 87.750244140625, 88.00506591796875, 87.664794921875, 87.71820068359375, 87.89520263671875, 87.9150390625, 88.13629150390625, 87.95166015625, 87.86163330078125, 88.4521484375, 88.78936767578125, 88.6322021484375, 88.52691650390625, 88.7115478515625, 88.65966796875, 88.78631591796875, 88.958740234375, 88.62762451171875, 88.76953125], \"yaxis\": \"y\"}, {\"name\": \"Temperature\", \"type\": \"scatter\", \"xaxis\": \"x2\", \"y\": [30.26649475097656, 30.26397705078125, 30.27656555175781, 30.269012451171875, 30.26649475097656, 30.27656555175781, 30.269012451171875, 30.27656555175781, 30.269012451171875, 30.26649475097656, 30.26397705078125, 30.28160095214844, 30.2740478515625, 30.27153015136719, 30.269012451171875, 30.2740478515625, 30.26649475097656, 30.28411865234375, 30.27153015136719, 30.269012451171875, 30.31181335449219, 30.3143310546875, 30.31684875488281, 30.3143310546875, 30.30677795410156, 30.30174255371093, 30.294189453125, 30.29167175292969, 30.30426025390625, 30.29670715332031, 30.28411865234375, 30.29167175292969, 30.294189453125, 30.30174255371093, 30.294189453125, 30.28915405273437, 30.27656555175781, 30.28411865234375, 30.29670715332031, 30.294189453125, 30.33699035644531, 30.32440185546875, 30.34202575683593, 30.33447265625, 30.326919555664062, 30.30677795410156, 30.299224853515625, 30.30677795410156, 30.309295654296875, 30.31181335449219, 30.3143310546875, 30.30677795410156, 30.30426025390625, 30.31181335449219, 30.309295654296875, 30.309295654296875, 30.30677795410156, 30.299224853515625, 30.30174255371093, 30.319366455078125], \"yaxis\": \"y2\"}, {\"name\": \"ppm\", \"type\": \"scatter\", \"xaxis\": \"x3\", \"y\": [0.0, 0.0, 0.0, 0.0, 0.0, 10.013501350135014, 9.987624845310568, 9.99937503906006, 10.01212454532955, 10.01337617041491, 40.006999037632326, 40.00150005625211, 40.002000100005, 40.020504100820176, 40.014000525019696, 60.0, 59.97925285273276, 59.99850003749906, 59.99475045933481, 59.9960010996976, 0.0, 0.0, 0.0, 0.0, 0.0, 10.025, 10.02625328166021, 10.012750318757968, 10.026253281660209, 10.010372795780896, 39.99200159968006, 39.99950000624992, 39.9965003062232, 40.009999375039065, 40.0035003062768, 59.99775008437184, 60.03449827508625, 60.01674769719164, 60.01174985312685, 60.01700127509564, 0.0, 0.0, 0.0, 0.0, 0.0, 10.012625157814472, 9.998500224966255, 10.0125, 9.997250756042089, 10.011123470522802, 40.007501406513725, 40.01650165016502, 39.98899958748453, 40.0114997125072, 40.00150005625211, 60.0397514906809, 59.988249853123165, 60.01700127509564, 59.99925000937489, 60.00375023438965], \"yaxis\": \"y3\"}, {\"name\": \"pred_ppm\", \"type\": \"scatter\", \"xaxis\": \"x3\", \"y\": [-5.770575544841986, -5.754153219658917, -5.763193799987306, -5.960836692110217, -5.97905232347849, 8.010936425580931, 8.020290047375287, 8.073189395516048, 8.010479615994367, 8.116890763453421, 38.01679498947502, 38.16960087988009, 38.24475589635, 38.41248368599397, 38.368493030424716, 57.737947887667914, 57.953088680198896, 58.187903826974505, 57.85283631827049, 58.052048919934784, -3.3057484601558365, -3.394999983289379, -3.465774576776459, -3.514630437548325, -3.521706409129946, 7.992264528158145, 8.050668964113289, 7.743237421616459, 8.037513297807259, 8.120766764125856, 37.77277820652678, 37.61416713398002, 37.668563300872634, 37.83290109652522, 37.72477620730213, 56.65073466214751, 56.93282597712127, 56.65675449420045, 56.73493830710111, 56.83407842037707, -0.9622123067656361, -1.0405323767326102, -1.533782739986524, -1.1432727176931436, -1.2242442650792356, 9.45992165846397, 9.416551028570035, 9.381556580333623, 9.569506515679745, 9.654966376851462, 38.23896157885457, 38.52567445414266, 38.59656479011721, 38.95291687500414, 38.80062823563098, 58.194146445041966, 58.102571419433005, 58.104710789202706, 58.37908384271671, 57.881221909226994], \"yaxis\": \"y3\"}, {\"name\": \"ppm error\", \"text\": [\"-5.8\", \"-2.0\", \"-1.8\", \"-2.0\", \"-3.4\", \"-2.0\", \"-2.3\", \"-3.3\", \"-1.2\", \"-0.5\", \"-1.4\", \"-1.9\"], \"textposition\": \"auto\", \"type\": \"bar\", \"xaxis\": \"x4\", \"y\": [-5.8, -2.0, -1.8, -2.0, -3.4, -2.0, -2.3, -3.3, -1.2, -0.5, -1.4, -1.9], \"yaxis\": \"y4\"}],                        {\"annotations\": [{\"font\": {\"size\": 16}, \"showarrow\": false, \"text\": \"Humidity\", \"x\": 0.5, \"xanchor\": \"center\", \"xref\": \"paper\", \"y\": 1.0, \"yanchor\": \"bottom\", \"yref\": \"paper\"}, {\"font\": {\"size\": 16}, \"showarrow\": false, \"text\": \"Temperature\", \"x\": 0.5, \"xanchor\": \"center\", \"xref\": \"paper\", \"y\": 0.7833333333333333, \"yanchor\": \"bottom\", \"yref\": \"paper\"}, {\"font\": {\"size\": 16}, \"showarrow\": false, \"text\": \"Prediction\", \"x\": 0.5, \"xanchor\": \"center\", \"xref\": \"paper\", \"y\": 0.5666666666666667, \"yanchor\": \"bottom\", \"yref\": \"paper\"}, {\"font\": {\"size\": 16}, \"showarrow\": false, \"text\": \"ppm error\", \"x\": 0.5, \"xanchor\": \"center\", \"xref\": \"paper\", \"y\": 0.35, \"yanchor\": \"bottom\", \"yref\": \"paper\"}], \"height\": 800, \"legend\": {\"tracegroupgap\": 135}, \"template\": {\"data\": {\"bar\": [{\"error_x\": {\"color\": \"#2a3f5f\"}, \"error_y\": {\"color\": \"#2a3f5f\"}, \"marker\": {\"line\": {\"color\": \"#E5ECF6\", \"width\": 0.5}}, \"type\": \"bar\"}], \"barpolar\": [{\"marker\": {\"line\": {\"color\": \"#E5ECF6\", \"width\": 0.5}}, \"type\": \"barpolar\"}], \"carpet\": [{\"aaxis\": {\"endlinecolor\": \"#2a3f5f\", \"gridcolor\": \"white\", \"linecolor\": \"white\", \"minorgridcolor\": \"white\", \"startlinecolor\": \"#2a3f5f\"}, \"baxis\": {\"endlinecolor\": \"#2a3f5f\", \"gridcolor\": \"white\", \"linecolor\": \"white\", \"minorgridcolor\": \"white\", \"startlinecolor\": \"#2a3f5f\"}, \"type\": \"carpet\"}], \"choropleth\": [{\"colorbar\": {\"outlinewidth\": 0, \"ticks\": \"\"}, \"type\": \"choropleth\"}], \"contour\": [{\"colorbar\": {\"outlinewidth\": 0, \"ticks\": \"\"}, \"colorscale\": [[0.0, \"#0d0887\"], [0.1111111111111111, \"#46039f\"], [0.2222222222222222, \"#7201a8\"], [0.3333333333333333, \"#9c179e\"], [0.4444444444444444, \"#bd3786\"], [0.5555555555555556, \"#d8576b\"], [0.6666666666666666, \"#ed7953\"], [0.7777777777777778, \"#fb9f3a\"], [0.8888888888888888, \"#fdca26\"], [1.0, \"#f0f921\"]], \"type\": \"contour\"}], \"contourcarpet\": [{\"colorbar\": {\"outlinewidth\": 0, \"ticks\": \"\"}, \"type\": \"contourcarpet\"}], \"heatmap\": [{\"colorbar\": {\"outlinewidth\": 0, \"ticks\": \"\"}, \"colorscale\": [[0.0, \"#0d0887\"], [0.1111111111111111, \"#46039f\"], [0.2222222222222222, \"#7201a8\"], [0.3333333333333333, \"#9c179e\"], [0.4444444444444444, \"#bd3786\"], [0.5555555555555556, \"#d8576b\"], [0.6666666666666666, \"#ed7953\"], [0.7777777777777778, \"#fb9f3a\"], [0.8888888888888888, \"#fdca26\"], [1.0, \"#f0f921\"]], \"type\": \"heatmap\"}], \"heatmapgl\": [{\"colorbar\": {\"outlinewidth\": 0, \"ticks\": \"\"}, \"colorscale\": [[0.0, \"#0d0887\"], [0.1111111111111111, \"#46039f\"], [0.2222222222222222, \"#7201a8\"], [0.3333333333333333, \"#9c179e\"], [0.4444444444444444, \"#bd3786\"], [0.5555555555555556, \"#d8576b\"], [0.6666666666666666, \"#ed7953\"], [0.7777777777777778, \"#fb9f3a\"], [0.8888888888888888, \"#fdca26\"], [1.0, \"#f0f921\"]], \"type\": \"heatmapgl\"}], \"histogram\": [{\"marker\": {\"colorbar\": {\"outlinewidth\": 0, \"ticks\": \"\"}}, \"type\": \"histogram\"}], \"histogram2d\": [{\"colorbar\": {\"outlinewidth\": 0, \"ticks\": \"\"}, \"colorscale\": [[0.0, \"#0d0887\"], [0.1111111111111111, \"#46039f\"], [0.2222222222222222, \"#7201a8\"], [0.3333333333333333, \"#9c179e\"], [0.4444444444444444, \"#bd3786\"], [0.5555555555555556, \"#d8576b\"], [0.6666666666666666, \"#ed7953\"], [0.7777777777777778, \"#fb9f3a\"], [0.8888888888888888, \"#fdca26\"], [1.0, \"#f0f921\"]], \"type\": \"histogram2d\"}], \"histogram2dcontour\": [{\"colorbar\": {\"outlinewidth\": 0, \"ticks\": \"\"}, \"colorscale\": [[0.0, \"#0d0887\"], [0.1111111111111111, \"#46039f\"], [0.2222222222222222, \"#7201a8\"], [0.3333333333333333, \"#9c179e\"], [0.4444444444444444, \"#bd3786\"], [0.5555555555555556, \"#d8576b\"], [0.6666666666666666, \"#ed7953\"], [0.7777777777777778, \"#fb9f3a\"], [0.8888888888888888, \"#fdca26\"], [1.0, \"#f0f921\"]], \"type\": \"histogram2dcontour\"}], \"mesh3d\": [{\"colorbar\": {\"outlinewidth\": 0, \"ticks\": \"\"}, \"type\": \"mesh3d\"}], \"parcoords\": [{\"line\": {\"colorbar\": {\"outlinewidth\": 0, \"ticks\": \"\"}}, \"type\": \"parcoords\"}], \"pie\": [{\"automargin\": true, \"type\": \"pie\"}], \"scatter\": [{\"marker\": {\"colorbar\": {\"outlinewidth\": 0, \"ticks\": \"\"}}, \"type\": \"scatter\"}], \"scatter3d\": [{\"line\": {\"colorbar\": {\"outlinewidth\": 0, \"ticks\": \"\"}}, \"marker\": {\"colorbar\": {\"outlinewidth\": 0, \"ticks\": \"\"}}, \"type\": \"scatter3d\"}], \"scattercarpet\": [{\"marker\": {\"colorbar\": {\"outlinewidth\": 0, \"ticks\": \"\"}}, \"type\": \"scattercarpet\"}], \"scattergeo\": [{\"marker\": {\"colorbar\": {\"outlinewidth\": 0, \"ticks\": \"\"}}, \"type\": \"scattergeo\"}], \"scattergl\": [{\"marker\": {\"colorbar\": {\"outlinewidth\": 0, \"ticks\": \"\"}}, \"type\": \"scattergl\"}], \"scattermapbox\": [{\"marker\": {\"colorbar\": {\"outlinewidth\": 0, \"ticks\": \"\"}}, \"type\": \"scattermapbox\"}], \"scatterpolar\": [{\"marker\": {\"colorbar\": {\"outlinewidth\": 0, \"ticks\": \"\"}}, \"type\": \"scatterpolar\"}], \"scatterpolargl\": [{\"marker\": {\"colorbar\": {\"outlinewidth\": 0, \"ticks\": \"\"}}, \"type\": \"scatterpolargl\"}], \"scatterternary\": [{\"marker\": {\"colorbar\": {\"outlinewidth\": 0, \"ticks\": \"\"}}, \"type\": \"scatterternary\"}], \"surface\": [{\"colorbar\": {\"outlinewidth\": 0, \"ticks\": \"\"}, \"colorscale\": [[0.0, \"#0d0887\"], [0.1111111111111111, \"#46039f\"], [0.2222222222222222, \"#7201a8\"], [0.3333333333333333, \"#9c179e\"], [0.4444444444444444, \"#bd3786\"], [0.5555555555555556, \"#d8576b\"], [0.6666666666666666, \"#ed7953\"], [0.7777777777777778, \"#fb9f3a\"], [0.8888888888888888, \"#fdca26\"], [1.0, \"#f0f921\"]], \"type\": \"surface\"}], \"table\": [{\"cells\": {\"fill\": {\"color\": \"#EBF0F8\"}, \"line\": {\"color\": \"white\"}}, \"header\": {\"fill\": {\"color\": \"#C8D4E3\"}, \"line\": {\"color\": \"white\"}}, \"type\": \"table\"}]}, \"layout\": {\"annotationdefaults\": {\"arrowcolor\": \"#2a3f5f\", \"arrowhead\": 0, \"arrowwidth\": 1}, \"autotypenumbers\": \"strict\", \"coloraxis\": {\"colorbar\": {\"outlinewidth\": 0, \"ticks\": \"\"}}, \"colorscale\": {\"diverging\": [[0, \"#8e0152\"], [0.1, \"#c51b7d\"], [0.2, \"#de77ae\"], [0.3, \"#f1b6da\"], [0.4, \"#fde0ef\"], [0.5, \"#f7f7f7\"], [0.6, \"#e6f5d0\"], [0.7, \"#b8e186\"], [0.8, \"#7fbc41\"], [0.9, \"#4d9221\"], [1, \"#276419\"]], \"sequential\": [[0.0, \"#0d0887\"], [0.1111111111111111, \"#46039f\"], [0.2222222222222222, \"#7201a8\"], [0.3333333333333333, \"#9c179e\"], [0.4444444444444444, \"#bd3786\"], [0.5555555555555556, \"#d8576b\"], [0.6666666666666666, \"#ed7953\"], [0.7777777777777778, \"#fb9f3a\"], [0.8888888888888888, \"#fdca26\"], [1.0, \"#f0f921\"]], \"sequentialminus\": [[0.0, \"#0d0887\"], [0.1111111111111111, \"#46039f\"], [0.2222222222222222, \"#7201a8\"], [0.3333333333333333, \"#9c179e\"], [0.4444444444444444, \"#bd3786\"], [0.5555555555555556, \"#d8576b\"], [0.6666666666666666, \"#ed7953\"], [0.7777777777777778, \"#fb9f3a\"], [0.8888888888888888, \"#fdca26\"], [1.0, \"#f0f921\"]]}, \"colorway\": [\"#636efa\", \"#EF553B\", \"#00cc96\", \"#ab63fa\", \"#FFA15A\", \"#19d3f3\", \"#FF6692\", \"#B6E880\", \"#FF97FF\", \"#FECB52\"], \"font\": {\"color\": \"#2a3f5f\"}, \"geo\": {\"bgcolor\": \"white\", \"lakecolor\": \"white\", \"landcolor\": \"#E5ECF6\", \"showlakes\": true, \"showland\": true, \"subunitcolor\": \"white\"}, \"hoverlabel\": {\"align\": \"left\"}, \"hovermode\": \"closest\", \"mapbox\": {\"style\": \"light\"}, \"paper_bgcolor\": \"white\", \"plot_bgcolor\": \"#E5ECF6\", \"polar\": {\"angularaxis\": {\"gridcolor\": \"white\", \"linecolor\": \"white\", \"ticks\": \"\"}, \"bgcolor\": \"#E5ECF6\", \"radialaxis\": {\"gridcolor\": \"white\", \"linecolor\": \"white\", \"ticks\": \"\"}}, \"scene\": {\"xaxis\": {\"backgroundcolor\": \"#E5ECF6\", \"gridcolor\": \"white\", \"gridwidth\": 2, \"linecolor\": \"white\", \"showbackground\": true, \"ticks\": \"\", \"zerolinecolor\": \"white\"}, \"yaxis\": {\"backgroundcolor\": \"#E5ECF6\", \"gridcolor\": \"white\", \"gridwidth\": 2, \"linecolor\": \"white\", \"showbackground\": true, \"ticks\": \"\", \"zerolinecolor\": \"white\"}, \"zaxis\": {\"backgroundcolor\": \"#E5ECF6\", \"gridcolor\": \"white\", \"gridwidth\": 2, \"linecolor\": \"white\", \"showbackground\": true, \"ticks\": \"\", \"zerolinecolor\": \"white\"}}, \"shapedefaults\": {\"line\": {\"color\": \"#2a3f5f\"}}, \"ternary\": {\"aaxis\": {\"gridcolor\": \"white\", \"linecolor\": \"white\", \"ticks\": \"\"}, \"baxis\": {\"gridcolor\": \"white\", \"linecolor\": \"white\", \"ticks\": \"\"}, \"bgcolor\": \"#E5ECF6\", \"caxis\": {\"gridcolor\": \"white\", \"linecolor\": \"white\", \"ticks\": \"\"}}, \"title\": {\"x\": 0.05}, \"xaxis\": {\"automargin\": true, \"gridcolor\": \"white\", \"linecolor\": \"white\", \"ticks\": \"\", \"title\": {\"standoff\": 15}, \"zerolinecolor\": \"white\", \"zerolinewidth\": 2}, \"yaxis\": {\"automargin\": true, \"gridcolor\": \"white\", \"linecolor\": \"white\", \"ticks\": \"\", \"title\": {\"standoff\": 15}, \"zerolinecolor\": \"white\", \"zerolinewidth\": 2}}}, \"title\": {\"text\": \"(29%~88%)(Filtered_Z_score_583nm #1)(shift 0)(RMSE=2.65099)\"}, \"width\": 900, \"xaxis\": {\"anchor\": \"y\", \"domain\": [0.0, 1.0]}, \"xaxis2\": {\"anchor\": \"y2\", \"domain\": [0.0, 1.0]}, \"xaxis3\": {\"anchor\": \"y3\", \"domain\": [0.0, 1.0]}, \"xaxis4\": {\"anchor\": \"y4\", \"domain\": [0.0, 1.0]}, \"yaxis\": {\"anchor\": \"x\", \"domain\": [0.8833333333333333, 1.0]}, \"yaxis2\": {\"anchor\": \"x2\", \"domain\": [0.6666666666666666, 0.7833333333333333]}, \"yaxis3\": {\"anchor\": \"x3\", \"domain\": [0.44999999999999996, 0.5666666666666667]}, \"yaxis4\": {\"anchor\": \"x4\", \"domain\": [0.0, 0.35], \"range\": [-11.8, 5.5]}},                        {\"responsive\": true}                    ).then(function(){\n",
       "                            \n",
       "var gd = document.getElementById('7158f4d4-d5eb-4cf1-a449-62015309472d');\n",
       "var x = new MutationObserver(function (mutations, observer) {{\n",
       "        var display = window.getComputedStyle(gd).display;\n",
       "        if (!display || display === 'none') {{\n",
       "            console.log([gd, 'removed!']);\n",
       "            Plotly.purge(gd);\n",
       "            observer.disconnect();\n",
       "        }}\n",
       "}});\n",
       "\n",
       "// Listen for the removal of the full notebook cells\n",
       "var notebookContainer = gd.closest('#notebook-container');\n",
       "if (notebookContainer) {{\n",
       "    x.observe(notebookContainer, {childList: true});\n",
       "}}\n",
       "\n",
       "// Listen for the clearing of the current output cell\n",
       "var outputEl = gd.closest('.output');\n",
       "if (outputEl) {{\n",
       "    x.observe(outputEl, {childList: true});\n",
       "}}\n",
       "\n",
       "                        })                };                });            </script>        </div>"
      ]
     },
     "metadata": {},
     "output_type": "display_data"
    },
    {
     "name": "stdout",
     "output_type": "stream",
     "text": [
      "sensor_number: #20221107095051\n"
     ]
    },
    {
     "data": {
      "application/vnd.plotly.v1+json": {
       "config": {
        "plotlyServerURL": "https://plot.ly"
       },
       "data": [
        {
         "name": "Humidity",
         "type": "scatter",
         "xaxis": "x",
         "y": [
          31.04095458984375,
          31.060791015625,
          30.83343505859375,
          30.914306640625,
          30.98297119140625,
          30.11016845703125,
          30.2001953125,
          30.26885986328125,
          30.0994873046875,
          30.13153076171875,
          29.986572265625,
          30.08575439453125,
          29.815673828125,
          29.91485595703125,
          30.010986328125,
          29.681396484375,
          29.75921630859375,
          29.8858642578125,
          29.71954345703125,
          29.754638671875,
          61.24114990234375,
          60.9710693359375,
          60.99700927734375,
          61.3189697265625,
          61.09466552734375,
          61.18621826171875,
          61.3800048828125,
          61.10382080078125,
          61.1602783203125,
          61.35711669921875,
          61.505126953125,
          61.60430908203125,
          61.3067626953125,
          61.49444580078125,
          61.7034912109375,
          61.3616943359375,
          61.59820556640625,
          61.6943359375,
          61.42120361328125,
          61.6424560546875,
          88.24920654296875,
          88.3514404296875,
          88.62152099609375,
          88.3148193359375,
          88.29803466796875,
          88.24310302734375,
          88.2415771484375,
          88.44757080078125,
          88.2843017578125,
          88.17596435546875,
          88.7115478515625,
          89.02740478515625,
          88.9190673828125,
          88.78936767578125,
          88.9984130859375,
          88.8519287109375,
          88.99688720703125,
          89.1693115234375,
          88.76800537109375,
          88.916015625
         ],
         "yaxis": "y"
        },
        {
         "name": "Temperature",
         "type": "scatter",
         "xaxis": "x2",
         "y": [
          30.206069946289062,
          30.20355224609375,
          30.21614074707031,
          30.218658447265625,
          30.206069946289062,
          30.22117614746093,
          30.20355224609375,
          30.21614074707031,
          30.213623046875,
          30.23124694824219,
          30.213623046875,
          30.21614074707031,
          30.2337646484375,
          30.22621154785156,
          30.218658447265625,
          30.22369384765625,
          30.21614074707031,
          30.22369384765625,
          30.23124694824219,
          30.20355224609375,
          30.27153015136719,
          30.258941650390625,
          30.27153015136719,
          30.258941650390625,
          30.26145935058593,
          30.25138854980469,
          30.24383544921875,
          30.25642395019531,
          30.25390625,
          30.246353149414062,
          30.2337646484375,
          30.24131774902344,
          30.238800048828125,
          30.25642395019531,
          30.24383544921875,
          30.24383544921875,
          30.24131774902344,
          30.24887084960937,
          30.23628234863281,
          30.228729248046875,
          30.28160095214844,
          30.2740478515625,
          30.28160095214844,
          30.269012451171875,
          30.27656555175781,
          30.25642395019531,
          30.238800048828125,
          30.25138854980469,
          30.258941650390625,
          30.26649475097656,
          30.258941650390625,
          30.25138854980469,
          30.258941650390625,
          30.26649475097656,
          30.25390625,
          30.24383544921875,
          30.25138854980469,
          30.25390625,
          30.246353149414062,
          30.26397705078125
         ],
         "yaxis": "y2"
        },
        {
         "name": "ppm",
         "type": "scatter",
         "xaxis": "x3",
         "y": [
          0,
          0,
          0,
          0,
          0,
          10.0130006500325,
          9.975498774938746,
          10.000750056254216,
          9.989373007438896,
          10.011874257858883,
          40.006999037632326,
          39.99800009999501,
          40.002000100005,
          40.020504100820176,
          39.99800009999501,
          60,
          59.97925285273276,
          59.99850003749906,
          59.99475045933481,
          60.01775155326091,
          0,
          0,
          0,
          0,
          0,
          10.025125314066427,
          10.00012500156252,
          9.987125482794395,
          10.024874689066388,
          9.987250318742031,
          40.00350030627679,
          40.006999037632326,
          40.00350030627679,
          39.97300134993251,
          39.98849971249281,
          60.01625101568848,
          59.991249453090816,
          59.99850003749906,
          60.03400510076512,
          60.02349941251469,
          0,
          0,
          0,
          0,
          0,
          9.998875126548263,
          9.998500224966255,
          10.011749118816088,
          10.011874257858883,
          10.00050002500125,
          39.98300191228487,
          39.98849971249281,
          40.00100002500062,
          40.00300022501687,
          39.995500506193046,
          60.0397514906809,
          59.988249853123165,
          60.01700127509564,
          59.99925000937489,
          60.00375023438965
         ],
         "yaxis": "y3"
        },
        {
         "name": "pred_ppm",
         "type": "scatter",
         "xaxis": "x3",
         "y": [
          -6.337442896561104,
          -6.253483048203876,
          -6.240707930907657,
          -6.325002926607379,
          -6.328400361771198,
          7.200979150502327,
          7.227893754968051,
          7.35199462182017,
          7.590522636352169,
          7.739016959125685,
          37.58759542625911,
          37.75778840629676,
          38.048226777018954,
          38.056011872168725,
          37.94159227937055,
          56.2493544635828,
          56.22029917169523,
          56.239942592445914,
          56.47453277712465,
          57.237126732018055,
          -3.3294230613532125,
          -2.9990881497325095,
          -3.394506548027696,
          -3.3025118577313943,
          -3.3869515240130976,
          8.411257115590136,
          8.406911978559279,
          8.167122052480586,
          8.21801626718242,
          7.84462036515623,
          37.02771856970314,
          36.97422186924716,
          37.24403216726229,
          37.13565340932199,
          37.132938418896416,
          55.918484096485685,
          55.94489578648175,
          55.77671833998741,
          55.93922605883281,
          55.76208280786168,
          -1.6725077783826983,
          -1.5148406489937685,
          -1.5450285821896443,
          -1.3672884155264846,
          -1.340838419699562,
          9.399632317839757,
          9.55842713328009,
          9.58163763942262,
          9.51128163269347,
          9.722839918487269,
          38.11562897756822,
          38.48746104571211,
          38.2470565784654,
          38.33243255875133,
          38.36513874043925,
          57.57039031729549,
          57.640463018372614,
          57.536241416371055,
          57.52809361387014,
          57.51362912258463
         ],
         "yaxis": "y3"
        },
        {
         "name": "ppm error",
         "text": [
          "-6.3",
          "-2.6",
          "-2.1",
          "-3.5",
          "-3.3",
          "-1.8",
          "-2.9",
          "-4.1",
          "-1.5",
          "-0.4",
          "-1.7",
          "-2.5"
         ],
         "textposition": "auto",
         "type": "bar",
         "xaxis": "x4",
         "y": [
          -6.3,
          -2.6,
          -2.1,
          -3.5,
          -3.3,
          -1.8,
          -2.9,
          -4.1,
          -1.5,
          -0.4,
          -1.7,
          -2.5
         ],
         "yaxis": "y4"
        }
       ],
       "layout": {
        "annotations": [
         {
          "font": {
           "size": 16
          },
          "showarrow": false,
          "text": "Humidity",
          "x": 0.5,
          "xanchor": "center",
          "xref": "paper",
          "y": 1,
          "yanchor": "bottom",
          "yref": "paper"
         },
         {
          "font": {
           "size": 16
          },
          "showarrow": false,
          "text": "Temperature",
          "x": 0.5,
          "xanchor": "center",
          "xref": "paper",
          "y": 0.7833333333333333,
          "yanchor": "bottom",
          "yref": "paper"
         },
         {
          "font": {
           "size": 16
          },
          "showarrow": false,
          "text": "Prediction",
          "x": 0.5,
          "xanchor": "center",
          "xref": "paper",
          "y": 0.5666666666666667,
          "yanchor": "bottom",
          "yref": "paper"
         },
         {
          "font": {
           "size": 16
          },
          "showarrow": false,
          "text": "ppm error",
          "x": 0.5,
          "xanchor": "center",
          "xref": "paper",
          "y": 0.35,
          "yanchor": "bottom",
          "yref": "paper"
         }
        ],
        "height": 800,
        "legend": {
         "tracegroupgap": 135
        },
        "template": {
         "data": {
          "bar": [
           {
            "error_x": {
             "color": "#2a3f5f"
            },
            "error_y": {
             "color": "#2a3f5f"
            },
            "marker": {
             "line": {
              "color": "#E5ECF6",
              "width": 0.5
             }
            },
            "type": "bar"
           }
          ],
          "barpolar": [
           {
            "marker": {
             "line": {
              "color": "#E5ECF6",
              "width": 0.5
             }
            },
            "type": "barpolar"
           }
          ],
          "carpet": [
           {
            "aaxis": {
             "endlinecolor": "#2a3f5f",
             "gridcolor": "white",
             "linecolor": "white",
             "minorgridcolor": "white",
             "startlinecolor": "#2a3f5f"
            },
            "baxis": {
             "endlinecolor": "#2a3f5f",
             "gridcolor": "white",
             "linecolor": "white",
             "minorgridcolor": "white",
             "startlinecolor": "#2a3f5f"
            },
            "type": "carpet"
           }
          ],
          "choropleth": [
           {
            "colorbar": {
             "outlinewidth": 0,
             "ticks": ""
            },
            "type": "choropleth"
           }
          ],
          "contour": [
           {
            "colorbar": {
             "outlinewidth": 0,
             "ticks": ""
            },
            "colorscale": [
             [
              0,
              "#0d0887"
             ],
             [
              0.1111111111111111,
              "#46039f"
             ],
             [
              0.2222222222222222,
              "#7201a8"
             ],
             [
              0.3333333333333333,
              "#9c179e"
             ],
             [
              0.4444444444444444,
              "#bd3786"
             ],
             [
              0.5555555555555556,
              "#d8576b"
             ],
             [
              0.6666666666666666,
              "#ed7953"
             ],
             [
              0.7777777777777778,
              "#fb9f3a"
             ],
             [
              0.8888888888888888,
              "#fdca26"
             ],
             [
              1,
              "#f0f921"
             ]
            ],
            "type": "contour"
           }
          ],
          "contourcarpet": [
           {
            "colorbar": {
             "outlinewidth": 0,
             "ticks": ""
            },
            "type": "contourcarpet"
           }
          ],
          "heatmap": [
           {
            "colorbar": {
             "outlinewidth": 0,
             "ticks": ""
            },
            "colorscale": [
             [
              0,
              "#0d0887"
             ],
             [
              0.1111111111111111,
              "#46039f"
             ],
             [
              0.2222222222222222,
              "#7201a8"
             ],
             [
              0.3333333333333333,
              "#9c179e"
             ],
             [
              0.4444444444444444,
              "#bd3786"
             ],
             [
              0.5555555555555556,
              "#d8576b"
             ],
             [
              0.6666666666666666,
              "#ed7953"
             ],
             [
              0.7777777777777778,
              "#fb9f3a"
             ],
             [
              0.8888888888888888,
              "#fdca26"
             ],
             [
              1,
              "#f0f921"
             ]
            ],
            "type": "heatmap"
           }
          ],
          "heatmapgl": [
           {
            "colorbar": {
             "outlinewidth": 0,
             "ticks": ""
            },
            "colorscale": [
             [
              0,
              "#0d0887"
             ],
             [
              0.1111111111111111,
              "#46039f"
             ],
             [
              0.2222222222222222,
              "#7201a8"
             ],
             [
              0.3333333333333333,
              "#9c179e"
             ],
             [
              0.4444444444444444,
              "#bd3786"
             ],
             [
              0.5555555555555556,
              "#d8576b"
             ],
             [
              0.6666666666666666,
              "#ed7953"
             ],
             [
              0.7777777777777778,
              "#fb9f3a"
             ],
             [
              0.8888888888888888,
              "#fdca26"
             ],
             [
              1,
              "#f0f921"
             ]
            ],
            "type": "heatmapgl"
           }
          ],
          "histogram": [
           {
            "marker": {
             "colorbar": {
              "outlinewidth": 0,
              "ticks": ""
             }
            },
            "type": "histogram"
           }
          ],
          "histogram2d": [
           {
            "colorbar": {
             "outlinewidth": 0,
             "ticks": ""
            },
            "colorscale": [
             [
              0,
              "#0d0887"
             ],
             [
              0.1111111111111111,
              "#46039f"
             ],
             [
              0.2222222222222222,
              "#7201a8"
             ],
             [
              0.3333333333333333,
              "#9c179e"
             ],
             [
              0.4444444444444444,
              "#bd3786"
             ],
             [
              0.5555555555555556,
              "#d8576b"
             ],
             [
              0.6666666666666666,
              "#ed7953"
             ],
             [
              0.7777777777777778,
              "#fb9f3a"
             ],
             [
              0.8888888888888888,
              "#fdca26"
             ],
             [
              1,
              "#f0f921"
             ]
            ],
            "type": "histogram2d"
           }
          ],
          "histogram2dcontour": [
           {
            "colorbar": {
             "outlinewidth": 0,
             "ticks": ""
            },
            "colorscale": [
             [
              0,
              "#0d0887"
             ],
             [
              0.1111111111111111,
              "#46039f"
             ],
             [
              0.2222222222222222,
              "#7201a8"
             ],
             [
              0.3333333333333333,
              "#9c179e"
             ],
             [
              0.4444444444444444,
              "#bd3786"
             ],
             [
              0.5555555555555556,
              "#d8576b"
             ],
             [
              0.6666666666666666,
              "#ed7953"
             ],
             [
              0.7777777777777778,
              "#fb9f3a"
             ],
             [
              0.8888888888888888,
              "#fdca26"
             ],
             [
              1,
              "#f0f921"
             ]
            ],
            "type": "histogram2dcontour"
           }
          ],
          "mesh3d": [
           {
            "colorbar": {
             "outlinewidth": 0,
             "ticks": ""
            },
            "type": "mesh3d"
           }
          ],
          "parcoords": [
           {
            "line": {
             "colorbar": {
              "outlinewidth": 0,
              "ticks": ""
             }
            },
            "type": "parcoords"
           }
          ],
          "pie": [
           {
            "automargin": true,
            "type": "pie"
           }
          ],
          "scatter": [
           {
            "marker": {
             "colorbar": {
              "outlinewidth": 0,
              "ticks": ""
             }
            },
            "type": "scatter"
           }
          ],
          "scatter3d": [
           {
            "line": {
             "colorbar": {
              "outlinewidth": 0,
              "ticks": ""
             }
            },
            "marker": {
             "colorbar": {
              "outlinewidth": 0,
              "ticks": ""
             }
            },
            "type": "scatter3d"
           }
          ],
          "scattercarpet": [
           {
            "marker": {
             "colorbar": {
              "outlinewidth": 0,
              "ticks": ""
             }
            },
            "type": "scattercarpet"
           }
          ],
          "scattergeo": [
           {
            "marker": {
             "colorbar": {
              "outlinewidth": 0,
              "ticks": ""
             }
            },
            "type": "scattergeo"
           }
          ],
          "scattergl": [
           {
            "marker": {
             "colorbar": {
              "outlinewidth": 0,
              "ticks": ""
             }
            },
            "type": "scattergl"
           }
          ],
          "scattermapbox": [
           {
            "marker": {
             "colorbar": {
              "outlinewidth": 0,
              "ticks": ""
             }
            },
            "type": "scattermapbox"
           }
          ],
          "scatterpolar": [
           {
            "marker": {
             "colorbar": {
              "outlinewidth": 0,
              "ticks": ""
             }
            },
            "type": "scatterpolar"
           }
          ],
          "scatterpolargl": [
           {
            "marker": {
             "colorbar": {
              "outlinewidth": 0,
              "ticks": ""
             }
            },
            "type": "scatterpolargl"
           }
          ],
          "scatterternary": [
           {
            "marker": {
             "colorbar": {
              "outlinewidth": 0,
              "ticks": ""
             }
            },
            "type": "scatterternary"
           }
          ],
          "surface": [
           {
            "colorbar": {
             "outlinewidth": 0,
             "ticks": ""
            },
            "colorscale": [
             [
              0,
              "#0d0887"
             ],
             [
              0.1111111111111111,
              "#46039f"
             ],
             [
              0.2222222222222222,
              "#7201a8"
             ],
             [
              0.3333333333333333,
              "#9c179e"
             ],
             [
              0.4444444444444444,
              "#bd3786"
             ],
             [
              0.5555555555555556,
              "#d8576b"
             ],
             [
              0.6666666666666666,
              "#ed7953"
             ],
             [
              0.7777777777777778,
              "#fb9f3a"
             ],
             [
              0.8888888888888888,
              "#fdca26"
             ],
             [
              1,
              "#f0f921"
             ]
            ],
            "type": "surface"
           }
          ],
          "table": [
           {
            "cells": {
             "fill": {
              "color": "#EBF0F8"
             },
             "line": {
              "color": "white"
             }
            },
            "header": {
             "fill": {
              "color": "#C8D4E3"
             },
             "line": {
              "color": "white"
             }
            },
            "type": "table"
           }
          ]
         },
         "layout": {
          "annotationdefaults": {
           "arrowcolor": "#2a3f5f",
           "arrowhead": 0,
           "arrowwidth": 1
          },
          "autotypenumbers": "strict",
          "coloraxis": {
           "colorbar": {
            "outlinewidth": 0,
            "ticks": ""
           }
          },
          "colorscale": {
           "diverging": [
            [
             0,
             "#8e0152"
            ],
            [
             0.1,
             "#c51b7d"
            ],
            [
             0.2,
             "#de77ae"
            ],
            [
             0.3,
             "#f1b6da"
            ],
            [
             0.4,
             "#fde0ef"
            ],
            [
             0.5,
             "#f7f7f7"
            ],
            [
             0.6,
             "#e6f5d0"
            ],
            [
             0.7,
             "#b8e186"
            ],
            [
             0.8,
             "#7fbc41"
            ],
            [
             0.9,
             "#4d9221"
            ],
            [
             1,
             "#276419"
            ]
           ],
           "sequential": [
            [
             0,
             "#0d0887"
            ],
            [
             0.1111111111111111,
             "#46039f"
            ],
            [
             0.2222222222222222,
             "#7201a8"
            ],
            [
             0.3333333333333333,
             "#9c179e"
            ],
            [
             0.4444444444444444,
             "#bd3786"
            ],
            [
             0.5555555555555556,
             "#d8576b"
            ],
            [
             0.6666666666666666,
             "#ed7953"
            ],
            [
             0.7777777777777778,
             "#fb9f3a"
            ],
            [
             0.8888888888888888,
             "#fdca26"
            ],
            [
             1,
             "#f0f921"
            ]
           ],
           "sequentialminus": [
            [
             0,
             "#0d0887"
            ],
            [
             0.1111111111111111,
             "#46039f"
            ],
            [
             0.2222222222222222,
             "#7201a8"
            ],
            [
             0.3333333333333333,
             "#9c179e"
            ],
            [
             0.4444444444444444,
             "#bd3786"
            ],
            [
             0.5555555555555556,
             "#d8576b"
            ],
            [
             0.6666666666666666,
             "#ed7953"
            ],
            [
             0.7777777777777778,
             "#fb9f3a"
            ],
            [
             0.8888888888888888,
             "#fdca26"
            ],
            [
             1,
             "#f0f921"
            ]
           ]
          },
          "colorway": [
           "#636efa",
           "#EF553B",
           "#00cc96",
           "#ab63fa",
           "#FFA15A",
           "#19d3f3",
           "#FF6692",
           "#B6E880",
           "#FF97FF",
           "#FECB52"
          ],
          "font": {
           "color": "#2a3f5f"
          },
          "geo": {
           "bgcolor": "white",
           "lakecolor": "white",
           "landcolor": "#E5ECF6",
           "showlakes": true,
           "showland": true,
           "subunitcolor": "white"
          },
          "hoverlabel": {
           "align": "left"
          },
          "hovermode": "closest",
          "mapbox": {
           "style": "light"
          },
          "paper_bgcolor": "white",
          "plot_bgcolor": "#E5ECF6",
          "polar": {
           "angularaxis": {
            "gridcolor": "white",
            "linecolor": "white",
            "ticks": ""
           },
           "bgcolor": "#E5ECF6",
           "radialaxis": {
            "gridcolor": "white",
            "linecolor": "white",
            "ticks": ""
           }
          },
          "scene": {
           "xaxis": {
            "backgroundcolor": "#E5ECF6",
            "gridcolor": "white",
            "gridwidth": 2,
            "linecolor": "white",
            "showbackground": true,
            "ticks": "",
            "zerolinecolor": "white"
           },
           "yaxis": {
            "backgroundcolor": "#E5ECF6",
            "gridcolor": "white",
            "gridwidth": 2,
            "linecolor": "white",
            "showbackground": true,
            "ticks": "",
            "zerolinecolor": "white"
           },
           "zaxis": {
            "backgroundcolor": "#E5ECF6",
            "gridcolor": "white",
            "gridwidth": 2,
            "linecolor": "white",
            "showbackground": true,
            "ticks": "",
            "zerolinecolor": "white"
           }
          },
          "shapedefaults": {
           "line": {
            "color": "#2a3f5f"
           }
          },
          "ternary": {
           "aaxis": {
            "gridcolor": "white",
            "linecolor": "white",
            "ticks": ""
           },
           "baxis": {
            "gridcolor": "white",
            "linecolor": "white",
            "ticks": ""
           },
           "bgcolor": "#E5ECF6",
           "caxis": {
            "gridcolor": "white",
            "linecolor": "white",
            "ticks": ""
           }
          },
          "title": {
           "x": 0.05
          },
          "xaxis": {
           "automargin": true,
           "gridcolor": "white",
           "linecolor": "white",
           "ticks": "",
           "title": {
            "standoff": 15
           },
           "zerolinecolor": "white",
           "zerolinewidth": 2
          },
          "yaxis": {
           "automargin": true,
           "gridcolor": "white",
           "linecolor": "white",
           "ticks": "",
           "title": {
            "standoff": 15
           },
           "zerolinecolor": "white",
           "zerolinewidth": 2
          }
         }
        },
        "title": {
         "text": "(29%~89%)(Filtered_Z_score_583nm #1)(shift 0)(RMSE=3.0863)"
        },
        "width": 900,
        "xaxis": {
         "anchor": "y",
         "domain": [
          0,
          1
         ]
        },
        "xaxis2": {
         "anchor": "y2",
         "domain": [
          0,
          1
         ]
        },
        "xaxis3": {
         "anchor": "y3",
         "domain": [
          0,
          1
         ]
        },
        "xaxis4": {
         "anchor": "y4",
         "domain": [
          0,
          1
         ]
        },
        "yaxis": {
         "anchor": "x",
         "domain": [
          0.8833333333333333,
          1
         ]
        },
        "yaxis2": {
         "anchor": "x2",
         "domain": [
          0.6666666666666666,
          0.7833333333333333
         ]
        },
        "yaxis3": {
         "anchor": "x3",
         "domain": [
          0.44999999999999996,
          0.5666666666666667
         ]
        },
        "yaxis4": {
         "anchor": "x4",
         "domain": [
          0,
          0.35
         ],
         "range": [
          -12.3,
          5.6
         ]
        }
       }
      },
      "text/html": [
       "<div>                            <div id=\"410ecc0f-0c0f-4a73-9d1f-b71fec7cd8c4\" class=\"plotly-graph-div\" style=\"height:800px; width:900px;\"></div>            <script type=\"text/javascript\">                require([\"plotly\"], function(Plotly) {                    window.PLOTLYENV=window.PLOTLYENV || {};                                    if (document.getElementById(\"410ecc0f-0c0f-4a73-9d1f-b71fec7cd8c4\")) {                    Plotly.newPlot(                        \"410ecc0f-0c0f-4a73-9d1f-b71fec7cd8c4\",                        [{\"name\": \"Humidity\", \"type\": \"scatter\", \"xaxis\": \"x\", \"y\": [31.04095458984375, 31.060791015625, 30.83343505859375, 30.914306640625, 30.98297119140625, 30.11016845703125, 30.2001953125, 30.26885986328125, 30.0994873046875, 30.13153076171875, 29.986572265625, 30.08575439453125, 29.815673828125, 29.91485595703125, 30.010986328125, 29.681396484375, 29.75921630859375, 29.8858642578125, 29.71954345703125, 29.754638671875, 61.24114990234375, 60.9710693359375, 60.99700927734375, 61.3189697265625, 61.09466552734375, 61.18621826171875, 61.3800048828125, 61.10382080078125, 61.1602783203125, 61.35711669921875, 61.505126953125, 61.60430908203125, 61.3067626953125, 61.49444580078125, 61.7034912109375, 61.3616943359375, 61.59820556640625, 61.6943359375, 61.42120361328125, 61.6424560546875, 88.24920654296875, 88.3514404296875, 88.62152099609375, 88.3148193359375, 88.29803466796875, 88.24310302734375, 88.2415771484375, 88.44757080078125, 88.2843017578125, 88.17596435546875, 88.7115478515625, 89.02740478515625, 88.9190673828125, 88.78936767578125, 88.9984130859375, 88.8519287109375, 88.99688720703125, 89.1693115234375, 88.76800537109375, 88.916015625], \"yaxis\": \"y\"}, {\"name\": \"Temperature\", \"type\": \"scatter\", \"xaxis\": \"x2\", \"y\": [30.206069946289062, 30.20355224609375, 30.21614074707031, 30.218658447265625, 30.206069946289062, 30.22117614746093, 30.20355224609375, 30.21614074707031, 30.213623046875, 30.23124694824219, 30.213623046875, 30.21614074707031, 30.2337646484375, 30.22621154785156, 30.218658447265625, 30.22369384765625, 30.21614074707031, 30.22369384765625, 30.23124694824219, 30.20355224609375, 30.27153015136719, 30.258941650390625, 30.27153015136719, 30.258941650390625, 30.26145935058593, 30.25138854980469, 30.24383544921875, 30.25642395019531, 30.25390625, 30.246353149414062, 30.2337646484375, 30.24131774902344, 30.238800048828125, 30.25642395019531, 30.24383544921875, 30.24383544921875, 30.24131774902344, 30.24887084960937, 30.23628234863281, 30.228729248046875, 30.28160095214844, 30.2740478515625, 30.28160095214844, 30.269012451171875, 30.27656555175781, 30.25642395019531, 30.238800048828125, 30.25138854980469, 30.258941650390625, 30.26649475097656, 30.258941650390625, 30.25138854980469, 30.258941650390625, 30.26649475097656, 30.25390625, 30.24383544921875, 30.25138854980469, 30.25390625, 30.246353149414062, 30.26397705078125], \"yaxis\": \"y2\"}, {\"name\": \"ppm\", \"type\": \"scatter\", \"xaxis\": \"x3\", \"y\": [0.0, 0.0, 0.0, 0.0, 0.0, 10.0130006500325, 9.975498774938746, 10.000750056254216, 9.989373007438896, 10.011874257858883, 40.006999037632326, 39.99800009999501, 40.002000100005, 40.020504100820176, 39.99800009999501, 60.0, 59.97925285273276, 59.99850003749906, 59.99475045933481, 60.01775155326091, 0.0, 0.0, 0.0, 0.0, 0.0, 10.025125314066427, 10.00012500156252, 9.987125482794395, 10.024874689066388, 9.987250318742031, 40.00350030627679, 40.006999037632326, 40.00350030627679, 39.97300134993251, 39.98849971249281, 60.01625101568848, 59.991249453090816, 59.99850003749906, 60.03400510076512, 60.02349941251469, 0.0, 0.0, 0.0, 0.0, 0.0, 9.998875126548263, 9.998500224966255, 10.011749118816088, 10.011874257858883, 10.00050002500125, 39.98300191228487, 39.98849971249281, 40.00100002500062, 40.00300022501687, 39.995500506193046, 60.0397514906809, 59.988249853123165, 60.01700127509564, 59.99925000937489, 60.00375023438965], \"yaxis\": \"y3\"}, {\"name\": \"pred_ppm\", \"type\": \"scatter\", \"xaxis\": \"x3\", \"y\": [-6.337442896561104, -6.253483048203876, -6.240707930907657, -6.325002926607379, -6.328400361771198, 7.200979150502327, 7.227893754968051, 7.35199462182017, 7.590522636352169, 7.739016959125685, 37.58759542625911, 37.75778840629676, 38.048226777018954, 38.056011872168725, 37.94159227937055, 56.2493544635828, 56.22029917169523, 56.239942592445914, 56.47453277712465, 57.237126732018055, -3.3294230613532125, -2.9990881497325095, -3.394506548027696, -3.3025118577313943, -3.3869515240130976, 8.411257115590136, 8.406911978559279, 8.167122052480586, 8.21801626718242, 7.84462036515623, 37.02771856970314, 36.97422186924716, 37.24403216726229, 37.13565340932199, 37.132938418896416, 55.918484096485685, 55.94489578648175, 55.77671833998741, 55.93922605883281, 55.76208280786168, -1.6725077783826983, -1.5148406489937685, -1.5450285821896443, -1.3672884155264846, -1.340838419699562, 9.399632317839757, 9.55842713328009, 9.58163763942262, 9.51128163269347, 9.722839918487269, 38.11562897756822, 38.48746104571211, 38.2470565784654, 38.33243255875133, 38.36513874043925, 57.57039031729549, 57.640463018372614, 57.536241416371055, 57.52809361387014, 57.51362912258463], \"yaxis\": \"y3\"}, {\"name\": \"ppm error\", \"text\": [\"-6.3\", \"-2.6\", \"-2.1\", \"-3.5\", \"-3.3\", \"-1.8\", \"-2.9\", \"-4.1\", \"-1.5\", \"-0.4\", \"-1.7\", \"-2.5\"], \"textposition\": \"auto\", \"type\": \"bar\", \"xaxis\": \"x4\", \"y\": [-6.3, -2.6, -2.1, -3.5, -3.3, -1.8, -2.9, -4.1, -1.5, -0.4, -1.7, -2.5], \"yaxis\": \"y4\"}],                        {\"annotations\": [{\"font\": {\"size\": 16}, \"showarrow\": false, \"text\": \"Humidity\", \"x\": 0.5, \"xanchor\": \"center\", \"xref\": \"paper\", \"y\": 1.0, \"yanchor\": \"bottom\", \"yref\": \"paper\"}, {\"font\": {\"size\": 16}, \"showarrow\": false, \"text\": \"Temperature\", \"x\": 0.5, \"xanchor\": \"center\", \"xref\": \"paper\", \"y\": 0.7833333333333333, \"yanchor\": \"bottom\", \"yref\": \"paper\"}, {\"font\": {\"size\": 16}, \"showarrow\": false, \"text\": \"Prediction\", \"x\": 0.5, \"xanchor\": \"center\", \"xref\": \"paper\", \"y\": 0.5666666666666667, \"yanchor\": \"bottom\", \"yref\": \"paper\"}, {\"font\": {\"size\": 16}, \"showarrow\": false, \"text\": \"ppm error\", \"x\": 0.5, \"xanchor\": \"center\", \"xref\": \"paper\", \"y\": 0.35, \"yanchor\": \"bottom\", \"yref\": \"paper\"}], \"height\": 800, \"legend\": {\"tracegroupgap\": 135}, \"template\": {\"data\": {\"bar\": [{\"error_x\": {\"color\": \"#2a3f5f\"}, \"error_y\": {\"color\": \"#2a3f5f\"}, \"marker\": {\"line\": {\"color\": \"#E5ECF6\", \"width\": 0.5}}, \"type\": \"bar\"}], \"barpolar\": [{\"marker\": {\"line\": {\"color\": \"#E5ECF6\", \"width\": 0.5}}, \"type\": \"barpolar\"}], \"carpet\": [{\"aaxis\": {\"endlinecolor\": \"#2a3f5f\", \"gridcolor\": \"white\", \"linecolor\": \"white\", \"minorgridcolor\": \"white\", \"startlinecolor\": \"#2a3f5f\"}, \"baxis\": {\"endlinecolor\": \"#2a3f5f\", \"gridcolor\": \"white\", \"linecolor\": \"white\", \"minorgridcolor\": \"white\", \"startlinecolor\": \"#2a3f5f\"}, \"type\": \"carpet\"}], \"choropleth\": [{\"colorbar\": {\"outlinewidth\": 0, \"ticks\": \"\"}, \"type\": \"choropleth\"}], \"contour\": [{\"colorbar\": {\"outlinewidth\": 0, \"ticks\": \"\"}, \"colorscale\": [[0.0, \"#0d0887\"], [0.1111111111111111, \"#46039f\"], [0.2222222222222222, \"#7201a8\"], [0.3333333333333333, \"#9c179e\"], [0.4444444444444444, \"#bd3786\"], [0.5555555555555556, \"#d8576b\"], [0.6666666666666666, \"#ed7953\"], [0.7777777777777778, \"#fb9f3a\"], [0.8888888888888888, \"#fdca26\"], [1.0, \"#f0f921\"]], \"type\": \"contour\"}], \"contourcarpet\": [{\"colorbar\": {\"outlinewidth\": 0, \"ticks\": \"\"}, \"type\": \"contourcarpet\"}], \"heatmap\": [{\"colorbar\": {\"outlinewidth\": 0, \"ticks\": \"\"}, \"colorscale\": [[0.0, \"#0d0887\"], [0.1111111111111111, \"#46039f\"], [0.2222222222222222, \"#7201a8\"], [0.3333333333333333, \"#9c179e\"], [0.4444444444444444, \"#bd3786\"], [0.5555555555555556, \"#d8576b\"], [0.6666666666666666, \"#ed7953\"], [0.7777777777777778, \"#fb9f3a\"], [0.8888888888888888, \"#fdca26\"], [1.0, \"#f0f921\"]], \"type\": \"heatmap\"}], \"heatmapgl\": [{\"colorbar\": {\"outlinewidth\": 0, \"ticks\": \"\"}, \"colorscale\": [[0.0, \"#0d0887\"], [0.1111111111111111, \"#46039f\"], [0.2222222222222222, \"#7201a8\"], [0.3333333333333333, \"#9c179e\"], [0.4444444444444444, \"#bd3786\"], [0.5555555555555556, \"#d8576b\"], [0.6666666666666666, \"#ed7953\"], [0.7777777777777778, \"#fb9f3a\"], [0.8888888888888888, \"#fdca26\"], [1.0, \"#f0f921\"]], \"type\": \"heatmapgl\"}], \"histogram\": [{\"marker\": {\"colorbar\": {\"outlinewidth\": 0, \"ticks\": \"\"}}, \"type\": \"histogram\"}], \"histogram2d\": [{\"colorbar\": {\"outlinewidth\": 0, \"ticks\": \"\"}, \"colorscale\": [[0.0, \"#0d0887\"], [0.1111111111111111, \"#46039f\"], [0.2222222222222222, \"#7201a8\"], [0.3333333333333333, \"#9c179e\"], [0.4444444444444444, \"#bd3786\"], [0.5555555555555556, \"#d8576b\"], [0.6666666666666666, \"#ed7953\"], [0.7777777777777778, \"#fb9f3a\"], [0.8888888888888888, \"#fdca26\"], [1.0, \"#f0f921\"]], \"type\": \"histogram2d\"}], \"histogram2dcontour\": [{\"colorbar\": {\"outlinewidth\": 0, \"ticks\": \"\"}, \"colorscale\": [[0.0, \"#0d0887\"], [0.1111111111111111, \"#46039f\"], [0.2222222222222222, \"#7201a8\"], [0.3333333333333333, \"#9c179e\"], [0.4444444444444444, \"#bd3786\"], [0.5555555555555556, \"#d8576b\"], [0.6666666666666666, \"#ed7953\"], [0.7777777777777778, \"#fb9f3a\"], [0.8888888888888888, \"#fdca26\"], [1.0, \"#f0f921\"]], \"type\": \"histogram2dcontour\"}], \"mesh3d\": [{\"colorbar\": {\"outlinewidth\": 0, \"ticks\": \"\"}, \"type\": \"mesh3d\"}], \"parcoords\": [{\"line\": {\"colorbar\": {\"outlinewidth\": 0, \"ticks\": \"\"}}, \"type\": \"parcoords\"}], \"pie\": [{\"automargin\": true, \"type\": \"pie\"}], \"scatter\": [{\"marker\": {\"colorbar\": {\"outlinewidth\": 0, \"ticks\": \"\"}}, \"type\": \"scatter\"}], \"scatter3d\": [{\"line\": {\"colorbar\": {\"outlinewidth\": 0, \"ticks\": \"\"}}, \"marker\": {\"colorbar\": {\"outlinewidth\": 0, \"ticks\": \"\"}}, \"type\": \"scatter3d\"}], \"scattercarpet\": [{\"marker\": {\"colorbar\": {\"outlinewidth\": 0, \"ticks\": \"\"}}, \"type\": \"scattercarpet\"}], \"scattergeo\": [{\"marker\": {\"colorbar\": {\"outlinewidth\": 0, \"ticks\": \"\"}}, \"type\": \"scattergeo\"}], \"scattergl\": [{\"marker\": {\"colorbar\": {\"outlinewidth\": 0, \"ticks\": \"\"}}, \"type\": \"scattergl\"}], \"scattermapbox\": [{\"marker\": {\"colorbar\": {\"outlinewidth\": 0, \"ticks\": \"\"}}, \"type\": \"scattermapbox\"}], \"scatterpolar\": [{\"marker\": {\"colorbar\": {\"outlinewidth\": 0, \"ticks\": \"\"}}, \"type\": \"scatterpolar\"}], \"scatterpolargl\": [{\"marker\": {\"colorbar\": {\"outlinewidth\": 0, \"ticks\": \"\"}}, \"type\": \"scatterpolargl\"}], \"scatterternary\": [{\"marker\": {\"colorbar\": {\"outlinewidth\": 0, \"ticks\": \"\"}}, \"type\": \"scatterternary\"}], \"surface\": [{\"colorbar\": {\"outlinewidth\": 0, \"ticks\": \"\"}, \"colorscale\": [[0.0, \"#0d0887\"], [0.1111111111111111, \"#46039f\"], [0.2222222222222222, \"#7201a8\"], [0.3333333333333333, \"#9c179e\"], [0.4444444444444444, \"#bd3786\"], [0.5555555555555556, \"#d8576b\"], [0.6666666666666666, \"#ed7953\"], [0.7777777777777778, \"#fb9f3a\"], [0.8888888888888888, \"#fdca26\"], [1.0, \"#f0f921\"]], \"type\": \"surface\"}], \"table\": [{\"cells\": {\"fill\": {\"color\": \"#EBF0F8\"}, \"line\": {\"color\": \"white\"}}, \"header\": {\"fill\": {\"color\": \"#C8D4E3\"}, \"line\": {\"color\": \"white\"}}, \"type\": \"table\"}]}, \"layout\": {\"annotationdefaults\": {\"arrowcolor\": \"#2a3f5f\", \"arrowhead\": 0, \"arrowwidth\": 1}, \"autotypenumbers\": \"strict\", \"coloraxis\": {\"colorbar\": {\"outlinewidth\": 0, \"ticks\": \"\"}}, \"colorscale\": {\"diverging\": [[0, \"#8e0152\"], [0.1, \"#c51b7d\"], [0.2, \"#de77ae\"], [0.3, \"#f1b6da\"], [0.4, \"#fde0ef\"], [0.5, \"#f7f7f7\"], [0.6, \"#e6f5d0\"], [0.7, \"#b8e186\"], [0.8, \"#7fbc41\"], [0.9, \"#4d9221\"], [1, \"#276419\"]], \"sequential\": [[0.0, \"#0d0887\"], [0.1111111111111111, \"#46039f\"], [0.2222222222222222, \"#7201a8\"], [0.3333333333333333, \"#9c179e\"], [0.4444444444444444, \"#bd3786\"], [0.5555555555555556, \"#d8576b\"], [0.6666666666666666, \"#ed7953\"], [0.7777777777777778, \"#fb9f3a\"], [0.8888888888888888, \"#fdca26\"], [1.0, \"#f0f921\"]], \"sequentialminus\": [[0.0, \"#0d0887\"], [0.1111111111111111, \"#46039f\"], [0.2222222222222222, \"#7201a8\"], [0.3333333333333333, \"#9c179e\"], [0.4444444444444444, \"#bd3786\"], [0.5555555555555556, \"#d8576b\"], [0.6666666666666666, \"#ed7953\"], [0.7777777777777778, \"#fb9f3a\"], [0.8888888888888888, \"#fdca26\"], [1.0, \"#f0f921\"]]}, \"colorway\": [\"#636efa\", \"#EF553B\", \"#00cc96\", \"#ab63fa\", \"#FFA15A\", \"#19d3f3\", \"#FF6692\", \"#B6E880\", \"#FF97FF\", \"#FECB52\"], \"font\": {\"color\": \"#2a3f5f\"}, \"geo\": {\"bgcolor\": \"white\", \"lakecolor\": \"white\", \"landcolor\": \"#E5ECF6\", \"showlakes\": true, \"showland\": true, \"subunitcolor\": \"white\"}, \"hoverlabel\": {\"align\": \"left\"}, \"hovermode\": \"closest\", \"mapbox\": {\"style\": \"light\"}, \"paper_bgcolor\": \"white\", \"plot_bgcolor\": \"#E5ECF6\", \"polar\": {\"angularaxis\": {\"gridcolor\": \"white\", \"linecolor\": \"white\", \"ticks\": \"\"}, \"bgcolor\": \"#E5ECF6\", \"radialaxis\": {\"gridcolor\": \"white\", \"linecolor\": \"white\", \"ticks\": \"\"}}, \"scene\": {\"xaxis\": {\"backgroundcolor\": \"#E5ECF6\", \"gridcolor\": \"white\", \"gridwidth\": 2, \"linecolor\": \"white\", \"showbackground\": true, \"ticks\": \"\", \"zerolinecolor\": \"white\"}, \"yaxis\": {\"backgroundcolor\": \"#E5ECF6\", \"gridcolor\": \"white\", \"gridwidth\": 2, \"linecolor\": \"white\", \"showbackground\": true, \"ticks\": \"\", \"zerolinecolor\": \"white\"}, \"zaxis\": {\"backgroundcolor\": \"#E5ECF6\", \"gridcolor\": \"white\", \"gridwidth\": 2, \"linecolor\": \"white\", \"showbackground\": true, \"ticks\": \"\", \"zerolinecolor\": \"white\"}}, \"shapedefaults\": {\"line\": {\"color\": \"#2a3f5f\"}}, \"ternary\": {\"aaxis\": {\"gridcolor\": \"white\", \"linecolor\": \"white\", \"ticks\": \"\"}, \"baxis\": {\"gridcolor\": \"white\", \"linecolor\": \"white\", \"ticks\": \"\"}, \"bgcolor\": \"#E5ECF6\", \"caxis\": {\"gridcolor\": \"white\", \"linecolor\": \"white\", \"ticks\": \"\"}}, \"title\": {\"x\": 0.05}, \"xaxis\": {\"automargin\": true, \"gridcolor\": \"white\", \"linecolor\": \"white\", \"ticks\": \"\", \"title\": {\"standoff\": 15}, \"zerolinecolor\": \"white\", \"zerolinewidth\": 2}, \"yaxis\": {\"automargin\": true, \"gridcolor\": \"white\", \"linecolor\": \"white\", \"ticks\": \"\", \"title\": {\"standoff\": 15}, \"zerolinecolor\": \"white\", \"zerolinewidth\": 2}}}, \"title\": {\"text\": \"(29%~89%)(Filtered_Z_score_583nm #1)(shift 0)(RMSE=3.0863)\"}, \"width\": 900, \"xaxis\": {\"anchor\": \"y\", \"domain\": [0.0, 1.0]}, \"xaxis2\": {\"anchor\": \"y2\", \"domain\": [0.0, 1.0]}, \"xaxis3\": {\"anchor\": \"y3\", \"domain\": [0.0, 1.0]}, \"xaxis4\": {\"anchor\": \"y4\", \"domain\": [0.0, 1.0]}, \"yaxis\": {\"anchor\": \"x\", \"domain\": [0.8833333333333333, 1.0]}, \"yaxis2\": {\"anchor\": \"x2\", \"domain\": [0.6666666666666666, 0.7833333333333333]}, \"yaxis3\": {\"anchor\": \"x3\", \"domain\": [0.44999999999999996, 0.5666666666666667]}, \"yaxis4\": {\"anchor\": \"x4\", \"domain\": [0.0, 0.35], \"range\": [-12.3, 5.6]}},                        {\"responsive\": true}                    ).then(function(){\n",
       "                            \n",
       "var gd = document.getElementById('410ecc0f-0c0f-4a73-9d1f-b71fec7cd8c4');\n",
       "var x = new MutationObserver(function (mutations, observer) {{\n",
       "        var display = window.getComputedStyle(gd).display;\n",
       "        if (!display || display === 'none') {{\n",
       "            console.log([gd, 'removed!']);\n",
       "            Plotly.purge(gd);\n",
       "            observer.disconnect();\n",
       "        }}\n",
       "}});\n",
       "\n",
       "// Listen for the removal of the full notebook cells\n",
       "var notebookContainer = gd.closest('#notebook-container');\n",
       "if (notebookContainer) {{\n",
       "    x.observe(notebookContainer, {childList: true});\n",
       "}}\n",
       "\n",
       "// Listen for the clearing of the current output cell\n",
       "var outputEl = gd.closest('.output');\n",
       "if (outputEl) {{\n",
       "    x.observe(outputEl, {childList: true});\n",
       "}}\n",
       "\n",
       "                        })                };                });            </script>        </div>"
      ]
     },
     "metadata": {},
     "output_type": "display_data"
    },
    {
     "name": "stdout",
     "output_type": "stream",
     "text": [
      "sensor_number: #20221107095121\n"
     ]
    },
    {
     "data": {
      "application/vnd.plotly.v1+json": {
       "config": {
        "plotlyServerURL": "https://plot.ly"
       },
       "data": [
        {
         "name": "Humidity",
         "type": "scatter",
         "xaxis": "x",
         "y": [
          30.28106689453125,
          30.3436279296875,
          30.11932373046875,
          30.1849365234375,
          30.24749755859375,
          29.64935302734375,
          29.7088623046875,
          29.76531982421875,
          29.595947265625,
          29.67071533203125,
          29.6112060546875,
          29.63714599609375,
          29.47998046875,
          29.53643798828125,
          29.5623779296875,
          29.351806640625,
          29.44183349609375,
          29.534912109375,
          29.39910888671875,
          29.38232421875,
          59.90753173828125,
          59.70458984375,
          59.78851318359375,
          60.02197265625,
          59.85260009765625,
          60.32257080078125,
          60.4766845703125,
          60.22796630859375,
          60.2935791015625,
          60.48431396484375,
          60.7666015625,
          60.84442138671875,
          60.6170654296875,
          60.75897216796875,
          60.882568359375,
          60.7635498046875,
          60.98785400390625,
          60.980224609375,
          60.82916259765625,
          61.029052734375,
          86.73553466796875,
          86.822509765625,
          87.03460693359375,
          86.7950439453125,
          86.84234619140625,
          87.13531494140625,
          87.1307373046875,
          87.31231689453125,
          87.225341796875,
          87.08953857421875,
          87.725830078125,
          87.95318603515625,
          87.9302978515625,
          87.78839111328125,
          87.9425048828125,
          87.9791259765625,
          88.06610107421875,
          88.24462890625,
          87.98065185546875,
          88.0340576171875
         ],
         "yaxis": "y"
        },
        {
         "name": "Temperature",
         "type": "scatter",
         "xaxis": "x2",
         "y": [
          30.09025573730469,
          30.097808837890625,
          30.09529113769531,
          30.097808837890625,
          30.10536193847656,
          30.10536193847656,
          30.097808837890625,
          30.10032653808593,
          30.10284423828125,
          30.10536193847656,
          30.0927734375,
          30.09529113769531,
          30.097808837890625,
          30.10032653808593,
          30.10284423828125,
          30.097808837890625,
          30.10032653808593,
          30.10284423828125,
          30.09529113769531,
          30.0927734375,
          30.15068054199219,
          30.12802124023437,
          30.15068054199219,
          30.138092041015625,
          30.14564514160156,
          30.12046813964844,
          30.1129150390625,
          30.13053894042969,
          30.133056640625,
          30.13053894042969,
          30.1129150390625,
          30.13053894042969,
          30.12298583984375,
          30.11543273925781,
          30.117950439453125,
          30.12802124023437,
          30.12046813964844,
          30.117950439453125,
          30.125503540039062,
          30.1129150390625,
          30.15571594238281,
          30.16830444335937,
          30.18089294433593,
          30.158233642578125,
          30.15571594238281,
          30.14564514160156,
          30.12802124023437,
          30.13557434082031,
          30.12802124023437,
          30.13557434082031,
          30.12802124023437,
          30.13557434082031,
          30.12802124023437,
          30.13557434082031,
          30.12298583984375,
          30.12298583984375,
          30.11543273925781,
          30.133056640625,
          30.13053894042969,
          30.12802124023437
         ],
         "yaxis": "y2"
        },
        {
         "name": "ppm",
         "type": "scatter",
         "xaxis": "x3",
         "y": [
          0,
          0,
          0,
          0,
          0,
          10.01337617041491,
          9.98799939997,
          9.997875451466562,
          10.00012500156252,
          9.99925005624578,
          40.00050000625008,
          39.99800009999501,
          39.99700022498312,
          39.99950000624992,
          40.0125,
          60.01625101568848,
          60.00375023438965,
          60.00150003750094,
          59.95725374029773,
          60.00225008437816,
          0,
          0,
          0,
          0,
          0,
          10.000250006250155,
          10.00050002500125,
          9.975498774938746,
          9.98862372016852,
          9.99987500156248,
          40.00050000625008,
          40.03050419432672,
          40.01450072503626,
          40.01099958751548,
          39.99950000624992,
          59.99175113421904,
          60.02124867195801,
          60.03100310031003,
          60.01775155326091,
          60.0030001500075,
          0,
          0,
          0,
          0,
          0,
          10.01362653298496,
          9.99987500156248,
          9.985502899420116,
          9.98974769323098,
          9.98799939997,
          39.98849971249281,
          39.99349902485373,
          39.99750015624024,
          39.990999212431085,
          39.98350164983502,
          60.00375023438965,
          60.02875179698732,
          60.01925216586867,
          60.02800140007,
          59.95725374029773
         ],
         "yaxis": "y3"
        },
        {
         "name": "pred_ppm",
         "type": "scatter",
         "xaxis": "x3",
         "y": [
          -5.644189421094389,
          -5.604520228181686,
          -5.649014019541228,
          -6.150402908386553,
          -5.853706044105245,
          7.910968305581546,
          7.7155936733089545,
          7.826240619991092,
          7.921322699456432,
          7.464268010650249,
          37.576463410787504,
          37.43790177972527,
          37.72000415666815,
          37.76315311960479,
          37.920732745711454,
          56.85963718412351,
          57.25362348769771,
          57.70096350241275,
          57.47182553997545,
          57.47283206207521,
          -2.3770703377492985,
          -2.5097275654628515,
          -2.450223280210258,
          -2.6770605025063965,
          -2.7000802075068897,
          8.49480749538059,
          8.51247030373393,
          8.598102687144468,
          8.594955807298287,
          8.481624253398227,
          36.547200552647965,
          36.72774185759579,
          37.05483628840922,
          37.25646282978026,
          37.43861426743236,
          55.97125446975471,
          55.747940409111976,
          55.969716453456726,
          55.88891744268692,
          55.537393443779195,
          -0.30772956650330663,
          -0.12276564928216871,
          -0.4064074558904682,
          -0.3347546170229343,
          -0.40864392781405634,
          9.277434782928085,
          9.214407331339192,
          8.76578440656521,
          9.315594454236326,
          9.434456194835686,
          38.360047121218344,
          38.65354606128005,
          38.937701947518576,
          38.92784247349017,
          39.15425255360782,
          57.48000642876781,
          57.66647458546295,
          57.000814527367325,
          58.142441738310524,
          57.950766110380016
         ],
         "yaxis": "y3"
        },
        {
         "name": "ppm error",
         "text": [
          "-5.8",
          "-2.2",
          "-2.3",
          "-2.6",
          "-2.5",
          "-1.5",
          "-3.0",
          "-4.2",
          "-0.3",
          "-0.8",
          "-1.2",
          "-2.4"
         ],
         "textposition": "auto",
         "type": "bar",
         "xaxis": "x4",
         "y": [
          -5.8,
          -2.2,
          -2.3,
          -2.6,
          -2.5,
          -1.5,
          -3,
          -4.2,
          -0.3,
          -0.8,
          -1.2,
          -2.4
         ],
         "yaxis": "y4"
        }
       ],
       "layout": {
        "annotations": [
         {
          "font": {
           "size": 16
          },
          "showarrow": false,
          "text": "Humidity",
          "x": 0.5,
          "xanchor": "center",
          "xref": "paper",
          "y": 1,
          "yanchor": "bottom",
          "yref": "paper"
         },
         {
          "font": {
           "size": 16
          },
          "showarrow": false,
          "text": "Temperature",
          "x": 0.5,
          "xanchor": "center",
          "xref": "paper",
          "y": 0.7833333333333333,
          "yanchor": "bottom",
          "yref": "paper"
         },
         {
          "font": {
           "size": 16
          },
          "showarrow": false,
          "text": "Prediction",
          "x": 0.5,
          "xanchor": "center",
          "xref": "paper",
          "y": 0.5666666666666667,
          "yanchor": "bottom",
          "yref": "paper"
         },
         {
          "font": {
           "size": 16
          },
          "showarrow": false,
          "text": "ppm error",
          "x": 0.5,
          "xanchor": "center",
          "xref": "paper",
          "y": 0.35,
          "yanchor": "bottom",
          "yref": "paper"
         }
        ],
        "height": 800,
        "legend": {
         "tracegroupgap": 135
        },
        "template": {
         "data": {
          "bar": [
           {
            "error_x": {
             "color": "#2a3f5f"
            },
            "error_y": {
             "color": "#2a3f5f"
            },
            "marker": {
             "line": {
              "color": "#E5ECF6",
              "width": 0.5
             }
            },
            "type": "bar"
           }
          ],
          "barpolar": [
           {
            "marker": {
             "line": {
              "color": "#E5ECF6",
              "width": 0.5
             }
            },
            "type": "barpolar"
           }
          ],
          "carpet": [
           {
            "aaxis": {
             "endlinecolor": "#2a3f5f",
             "gridcolor": "white",
             "linecolor": "white",
             "minorgridcolor": "white",
             "startlinecolor": "#2a3f5f"
            },
            "baxis": {
             "endlinecolor": "#2a3f5f",
             "gridcolor": "white",
             "linecolor": "white",
             "minorgridcolor": "white",
             "startlinecolor": "#2a3f5f"
            },
            "type": "carpet"
           }
          ],
          "choropleth": [
           {
            "colorbar": {
             "outlinewidth": 0,
             "ticks": ""
            },
            "type": "choropleth"
           }
          ],
          "contour": [
           {
            "colorbar": {
             "outlinewidth": 0,
             "ticks": ""
            },
            "colorscale": [
             [
              0,
              "#0d0887"
             ],
             [
              0.1111111111111111,
              "#46039f"
             ],
             [
              0.2222222222222222,
              "#7201a8"
             ],
             [
              0.3333333333333333,
              "#9c179e"
             ],
             [
              0.4444444444444444,
              "#bd3786"
             ],
             [
              0.5555555555555556,
              "#d8576b"
             ],
             [
              0.6666666666666666,
              "#ed7953"
             ],
             [
              0.7777777777777778,
              "#fb9f3a"
             ],
             [
              0.8888888888888888,
              "#fdca26"
             ],
             [
              1,
              "#f0f921"
             ]
            ],
            "type": "contour"
           }
          ],
          "contourcarpet": [
           {
            "colorbar": {
             "outlinewidth": 0,
             "ticks": ""
            },
            "type": "contourcarpet"
           }
          ],
          "heatmap": [
           {
            "colorbar": {
             "outlinewidth": 0,
             "ticks": ""
            },
            "colorscale": [
             [
              0,
              "#0d0887"
             ],
             [
              0.1111111111111111,
              "#46039f"
             ],
             [
              0.2222222222222222,
              "#7201a8"
             ],
             [
              0.3333333333333333,
              "#9c179e"
             ],
             [
              0.4444444444444444,
              "#bd3786"
             ],
             [
              0.5555555555555556,
              "#d8576b"
             ],
             [
              0.6666666666666666,
              "#ed7953"
             ],
             [
              0.7777777777777778,
              "#fb9f3a"
             ],
             [
              0.8888888888888888,
              "#fdca26"
             ],
             [
              1,
              "#f0f921"
             ]
            ],
            "type": "heatmap"
           }
          ],
          "heatmapgl": [
           {
            "colorbar": {
             "outlinewidth": 0,
             "ticks": ""
            },
            "colorscale": [
             [
              0,
              "#0d0887"
             ],
             [
              0.1111111111111111,
              "#46039f"
             ],
             [
              0.2222222222222222,
              "#7201a8"
             ],
             [
              0.3333333333333333,
              "#9c179e"
             ],
             [
              0.4444444444444444,
              "#bd3786"
             ],
             [
              0.5555555555555556,
              "#d8576b"
             ],
             [
              0.6666666666666666,
              "#ed7953"
             ],
             [
              0.7777777777777778,
              "#fb9f3a"
             ],
             [
              0.8888888888888888,
              "#fdca26"
             ],
             [
              1,
              "#f0f921"
             ]
            ],
            "type": "heatmapgl"
           }
          ],
          "histogram": [
           {
            "marker": {
             "colorbar": {
              "outlinewidth": 0,
              "ticks": ""
             }
            },
            "type": "histogram"
           }
          ],
          "histogram2d": [
           {
            "colorbar": {
             "outlinewidth": 0,
             "ticks": ""
            },
            "colorscale": [
             [
              0,
              "#0d0887"
             ],
             [
              0.1111111111111111,
              "#46039f"
             ],
             [
              0.2222222222222222,
              "#7201a8"
             ],
             [
              0.3333333333333333,
              "#9c179e"
             ],
             [
              0.4444444444444444,
              "#bd3786"
             ],
             [
              0.5555555555555556,
              "#d8576b"
             ],
             [
              0.6666666666666666,
              "#ed7953"
             ],
             [
              0.7777777777777778,
              "#fb9f3a"
             ],
             [
              0.8888888888888888,
              "#fdca26"
             ],
             [
              1,
              "#f0f921"
             ]
            ],
            "type": "histogram2d"
           }
          ],
          "histogram2dcontour": [
           {
            "colorbar": {
             "outlinewidth": 0,
             "ticks": ""
            },
            "colorscale": [
             [
              0,
              "#0d0887"
             ],
             [
              0.1111111111111111,
              "#46039f"
             ],
             [
              0.2222222222222222,
              "#7201a8"
             ],
             [
              0.3333333333333333,
              "#9c179e"
             ],
             [
              0.4444444444444444,
              "#bd3786"
             ],
             [
              0.5555555555555556,
              "#d8576b"
             ],
             [
              0.6666666666666666,
              "#ed7953"
             ],
             [
              0.7777777777777778,
              "#fb9f3a"
             ],
             [
              0.8888888888888888,
              "#fdca26"
             ],
             [
              1,
              "#f0f921"
             ]
            ],
            "type": "histogram2dcontour"
           }
          ],
          "mesh3d": [
           {
            "colorbar": {
             "outlinewidth": 0,
             "ticks": ""
            },
            "type": "mesh3d"
           }
          ],
          "parcoords": [
           {
            "line": {
             "colorbar": {
              "outlinewidth": 0,
              "ticks": ""
             }
            },
            "type": "parcoords"
           }
          ],
          "pie": [
           {
            "automargin": true,
            "type": "pie"
           }
          ],
          "scatter": [
           {
            "marker": {
             "colorbar": {
              "outlinewidth": 0,
              "ticks": ""
             }
            },
            "type": "scatter"
           }
          ],
          "scatter3d": [
           {
            "line": {
             "colorbar": {
              "outlinewidth": 0,
              "ticks": ""
             }
            },
            "marker": {
             "colorbar": {
              "outlinewidth": 0,
              "ticks": ""
             }
            },
            "type": "scatter3d"
           }
          ],
          "scattercarpet": [
           {
            "marker": {
             "colorbar": {
              "outlinewidth": 0,
              "ticks": ""
             }
            },
            "type": "scattercarpet"
           }
          ],
          "scattergeo": [
           {
            "marker": {
             "colorbar": {
              "outlinewidth": 0,
              "ticks": ""
             }
            },
            "type": "scattergeo"
           }
          ],
          "scattergl": [
           {
            "marker": {
             "colorbar": {
              "outlinewidth": 0,
              "ticks": ""
             }
            },
            "type": "scattergl"
           }
          ],
          "scattermapbox": [
           {
            "marker": {
             "colorbar": {
              "outlinewidth": 0,
              "ticks": ""
             }
            },
            "type": "scattermapbox"
           }
          ],
          "scatterpolar": [
           {
            "marker": {
             "colorbar": {
              "outlinewidth": 0,
              "ticks": ""
             }
            },
            "type": "scatterpolar"
           }
          ],
          "scatterpolargl": [
           {
            "marker": {
             "colorbar": {
              "outlinewidth": 0,
              "ticks": ""
             }
            },
            "type": "scatterpolargl"
           }
          ],
          "scatterternary": [
           {
            "marker": {
             "colorbar": {
              "outlinewidth": 0,
              "ticks": ""
             }
            },
            "type": "scatterternary"
           }
          ],
          "surface": [
           {
            "colorbar": {
             "outlinewidth": 0,
             "ticks": ""
            },
            "colorscale": [
             [
              0,
              "#0d0887"
             ],
             [
              0.1111111111111111,
              "#46039f"
             ],
             [
              0.2222222222222222,
              "#7201a8"
             ],
             [
              0.3333333333333333,
              "#9c179e"
             ],
             [
              0.4444444444444444,
              "#bd3786"
             ],
             [
              0.5555555555555556,
              "#d8576b"
             ],
             [
              0.6666666666666666,
              "#ed7953"
             ],
             [
              0.7777777777777778,
              "#fb9f3a"
             ],
             [
              0.8888888888888888,
              "#fdca26"
             ],
             [
              1,
              "#f0f921"
             ]
            ],
            "type": "surface"
           }
          ],
          "table": [
           {
            "cells": {
             "fill": {
              "color": "#EBF0F8"
             },
             "line": {
              "color": "white"
             }
            },
            "header": {
             "fill": {
              "color": "#C8D4E3"
             },
             "line": {
              "color": "white"
             }
            },
            "type": "table"
           }
          ]
         },
         "layout": {
          "annotationdefaults": {
           "arrowcolor": "#2a3f5f",
           "arrowhead": 0,
           "arrowwidth": 1
          },
          "autotypenumbers": "strict",
          "coloraxis": {
           "colorbar": {
            "outlinewidth": 0,
            "ticks": ""
           }
          },
          "colorscale": {
           "diverging": [
            [
             0,
             "#8e0152"
            ],
            [
             0.1,
             "#c51b7d"
            ],
            [
             0.2,
             "#de77ae"
            ],
            [
             0.3,
             "#f1b6da"
            ],
            [
             0.4,
             "#fde0ef"
            ],
            [
             0.5,
             "#f7f7f7"
            ],
            [
             0.6,
             "#e6f5d0"
            ],
            [
             0.7,
             "#b8e186"
            ],
            [
             0.8,
             "#7fbc41"
            ],
            [
             0.9,
             "#4d9221"
            ],
            [
             1,
             "#276419"
            ]
           ],
           "sequential": [
            [
             0,
             "#0d0887"
            ],
            [
             0.1111111111111111,
             "#46039f"
            ],
            [
             0.2222222222222222,
             "#7201a8"
            ],
            [
             0.3333333333333333,
             "#9c179e"
            ],
            [
             0.4444444444444444,
             "#bd3786"
            ],
            [
             0.5555555555555556,
             "#d8576b"
            ],
            [
             0.6666666666666666,
             "#ed7953"
            ],
            [
             0.7777777777777778,
             "#fb9f3a"
            ],
            [
             0.8888888888888888,
             "#fdca26"
            ],
            [
             1,
             "#f0f921"
            ]
           ],
           "sequentialminus": [
            [
             0,
             "#0d0887"
            ],
            [
             0.1111111111111111,
             "#46039f"
            ],
            [
             0.2222222222222222,
             "#7201a8"
            ],
            [
             0.3333333333333333,
             "#9c179e"
            ],
            [
             0.4444444444444444,
             "#bd3786"
            ],
            [
             0.5555555555555556,
             "#d8576b"
            ],
            [
             0.6666666666666666,
             "#ed7953"
            ],
            [
             0.7777777777777778,
             "#fb9f3a"
            ],
            [
             0.8888888888888888,
             "#fdca26"
            ],
            [
             1,
             "#f0f921"
            ]
           ]
          },
          "colorway": [
           "#636efa",
           "#EF553B",
           "#00cc96",
           "#ab63fa",
           "#FFA15A",
           "#19d3f3",
           "#FF6692",
           "#B6E880",
           "#FF97FF",
           "#FECB52"
          ],
          "font": {
           "color": "#2a3f5f"
          },
          "geo": {
           "bgcolor": "white",
           "lakecolor": "white",
           "landcolor": "#E5ECF6",
           "showlakes": true,
           "showland": true,
           "subunitcolor": "white"
          },
          "hoverlabel": {
           "align": "left"
          },
          "hovermode": "closest",
          "mapbox": {
           "style": "light"
          },
          "paper_bgcolor": "white",
          "plot_bgcolor": "#E5ECF6",
          "polar": {
           "angularaxis": {
            "gridcolor": "white",
            "linecolor": "white",
            "ticks": ""
           },
           "bgcolor": "#E5ECF6",
           "radialaxis": {
            "gridcolor": "white",
            "linecolor": "white",
            "ticks": ""
           }
          },
          "scene": {
           "xaxis": {
            "backgroundcolor": "#E5ECF6",
            "gridcolor": "white",
            "gridwidth": 2,
            "linecolor": "white",
            "showbackground": true,
            "ticks": "",
            "zerolinecolor": "white"
           },
           "yaxis": {
            "backgroundcolor": "#E5ECF6",
            "gridcolor": "white",
            "gridwidth": 2,
            "linecolor": "white",
            "showbackground": true,
            "ticks": "",
            "zerolinecolor": "white"
           },
           "zaxis": {
            "backgroundcolor": "#E5ECF6",
            "gridcolor": "white",
            "gridwidth": 2,
            "linecolor": "white",
            "showbackground": true,
            "ticks": "",
            "zerolinecolor": "white"
           }
          },
          "shapedefaults": {
           "line": {
            "color": "#2a3f5f"
           }
          },
          "ternary": {
           "aaxis": {
            "gridcolor": "white",
            "linecolor": "white",
            "ticks": ""
           },
           "baxis": {
            "gridcolor": "white",
            "linecolor": "white",
            "ticks": ""
           },
           "bgcolor": "#E5ECF6",
           "caxis": {
            "gridcolor": "white",
            "linecolor": "white",
            "ticks": ""
           }
          },
          "title": {
           "x": 0.05
          },
          "xaxis": {
           "automargin": true,
           "gridcolor": "white",
           "linecolor": "white",
           "ticks": "",
           "title": {
            "standoff": 15
           },
           "zerolinecolor": "white",
           "zerolinewidth": 2
          },
          "yaxis": {
           "automargin": true,
           "gridcolor": "white",
           "linecolor": "white",
           "ticks": "",
           "title": {
            "standoff": 15
           },
           "zerolinecolor": "white",
           "zerolinewidth": 2
          }
         }
        },
        "title": {
         "text": "(29%~88%)(Filtered_Z_score_583nm #1)(shift 0)(RMSE=2.80292)"
        },
        "width": 900,
        "xaxis": {
         "anchor": "y",
         "domain": [
          0,
          1
         ]
        },
        "xaxis2": {
         "anchor": "y2",
         "domain": [
          0,
          1
         ]
        },
        "xaxis3": {
         "anchor": "y3",
         "domain": [
          0,
          1
         ]
        },
        "xaxis4": {
         "anchor": "y4",
         "domain": [
          0,
          1
         ]
        },
        "yaxis": {
         "anchor": "x",
         "domain": [
          0.8833333333333333,
          1
         ]
        },
        "yaxis2": {
         "anchor": "x2",
         "domain": [
          0.6666666666666666,
          0.7833333333333333
         ]
        },
        "yaxis3": {
         "anchor": "x3",
         "domain": [
          0.44999999999999996,
          0.5666666666666667
         ]
        },
        "yaxis4": {
         "anchor": "x4",
         "domain": [
          0,
          0.35
         ],
         "range": [
          -11.8,
          5.7
         ]
        }
       }
      },
      "text/html": [
       "<div>                            <div id=\"8c4a73a0-33f7-475b-8115-173a375654b3\" class=\"plotly-graph-div\" style=\"height:800px; width:900px;\"></div>            <script type=\"text/javascript\">                require([\"plotly\"], function(Plotly) {                    window.PLOTLYENV=window.PLOTLYENV || {};                                    if (document.getElementById(\"8c4a73a0-33f7-475b-8115-173a375654b3\")) {                    Plotly.newPlot(                        \"8c4a73a0-33f7-475b-8115-173a375654b3\",                        [{\"name\": \"Humidity\", \"type\": \"scatter\", \"xaxis\": \"x\", \"y\": [30.28106689453125, 30.3436279296875, 30.11932373046875, 30.1849365234375, 30.24749755859375, 29.64935302734375, 29.7088623046875, 29.76531982421875, 29.595947265625, 29.67071533203125, 29.6112060546875, 29.63714599609375, 29.47998046875, 29.53643798828125, 29.5623779296875, 29.351806640625, 29.44183349609375, 29.534912109375, 29.39910888671875, 29.38232421875, 59.90753173828125, 59.70458984375, 59.78851318359375, 60.02197265625, 59.85260009765625, 60.32257080078125, 60.4766845703125, 60.22796630859375, 60.2935791015625, 60.48431396484375, 60.7666015625, 60.84442138671875, 60.6170654296875, 60.75897216796875, 60.882568359375, 60.7635498046875, 60.98785400390625, 60.980224609375, 60.82916259765625, 61.029052734375, 86.73553466796875, 86.822509765625, 87.03460693359375, 86.7950439453125, 86.84234619140625, 87.13531494140625, 87.1307373046875, 87.31231689453125, 87.225341796875, 87.08953857421875, 87.725830078125, 87.95318603515625, 87.9302978515625, 87.78839111328125, 87.9425048828125, 87.9791259765625, 88.06610107421875, 88.24462890625, 87.98065185546875, 88.0340576171875], \"yaxis\": \"y\"}, {\"name\": \"Temperature\", \"type\": \"scatter\", \"xaxis\": \"x2\", \"y\": [30.09025573730469, 30.097808837890625, 30.09529113769531, 30.097808837890625, 30.10536193847656, 30.10536193847656, 30.097808837890625, 30.10032653808593, 30.10284423828125, 30.10536193847656, 30.0927734375, 30.09529113769531, 30.097808837890625, 30.10032653808593, 30.10284423828125, 30.097808837890625, 30.10032653808593, 30.10284423828125, 30.09529113769531, 30.0927734375, 30.15068054199219, 30.12802124023437, 30.15068054199219, 30.138092041015625, 30.14564514160156, 30.12046813964844, 30.1129150390625, 30.13053894042969, 30.133056640625, 30.13053894042969, 30.1129150390625, 30.13053894042969, 30.12298583984375, 30.11543273925781, 30.117950439453125, 30.12802124023437, 30.12046813964844, 30.117950439453125, 30.125503540039062, 30.1129150390625, 30.15571594238281, 30.16830444335937, 30.18089294433593, 30.158233642578125, 30.15571594238281, 30.14564514160156, 30.12802124023437, 30.13557434082031, 30.12802124023437, 30.13557434082031, 30.12802124023437, 30.13557434082031, 30.12802124023437, 30.13557434082031, 30.12298583984375, 30.12298583984375, 30.11543273925781, 30.133056640625, 30.13053894042969, 30.12802124023437], \"yaxis\": \"y2\"}, {\"name\": \"ppm\", \"type\": \"scatter\", \"xaxis\": \"x3\", \"y\": [0.0, 0.0, 0.0, 0.0, 0.0, 10.01337617041491, 9.98799939997, 9.997875451466562, 10.00012500156252, 9.99925005624578, 40.00050000625008, 39.99800009999501, 39.99700022498312, 39.99950000624992, 40.0125, 60.01625101568848, 60.00375023438965, 60.00150003750094, 59.95725374029773, 60.00225008437816, 0.0, 0.0, 0.0, 0.0, 0.0, 10.000250006250155, 10.00050002500125, 9.975498774938746, 9.98862372016852, 9.99987500156248, 40.00050000625008, 40.03050419432672, 40.01450072503626, 40.01099958751548, 39.99950000624992, 59.99175113421904, 60.02124867195801, 60.03100310031003, 60.01775155326091, 60.0030001500075, 0.0, 0.0, 0.0, 0.0, 0.0, 10.01362653298496, 9.99987500156248, 9.985502899420116, 9.98974769323098, 9.98799939997, 39.98849971249281, 39.99349902485373, 39.99750015624024, 39.990999212431085, 39.98350164983502, 60.00375023438965, 60.02875179698732, 60.01925216586867, 60.02800140007, 59.95725374029773], \"yaxis\": \"y3\"}, {\"name\": \"pred_ppm\", \"type\": \"scatter\", \"xaxis\": \"x3\", \"y\": [-5.644189421094389, -5.604520228181686, -5.649014019541228, -6.150402908386553, -5.853706044105245, 7.910968305581546, 7.7155936733089545, 7.826240619991092, 7.921322699456432, 7.464268010650249, 37.576463410787504, 37.43790177972527, 37.72000415666815, 37.76315311960479, 37.920732745711454, 56.85963718412351, 57.25362348769771, 57.70096350241275, 57.47182553997545, 57.47283206207521, -2.3770703377492985, -2.5097275654628515, -2.450223280210258, -2.6770605025063965, -2.7000802075068897, 8.49480749538059, 8.51247030373393, 8.598102687144468, 8.594955807298287, 8.481624253398227, 36.547200552647965, 36.72774185759579, 37.05483628840922, 37.25646282978026, 37.43861426743236, 55.97125446975471, 55.747940409111976, 55.969716453456726, 55.88891744268692, 55.537393443779195, -0.30772956650330663, -0.12276564928216871, -0.4064074558904682, -0.3347546170229343, -0.40864392781405634, 9.277434782928085, 9.214407331339192, 8.76578440656521, 9.315594454236326, 9.434456194835686, 38.360047121218344, 38.65354606128005, 38.937701947518576, 38.92784247349017, 39.15425255360782, 57.48000642876781, 57.66647458546295, 57.000814527367325, 58.142441738310524, 57.950766110380016], \"yaxis\": \"y3\"}, {\"name\": \"ppm error\", \"text\": [\"-5.8\", \"-2.2\", \"-2.3\", \"-2.6\", \"-2.5\", \"-1.5\", \"-3.0\", \"-4.2\", \"-0.3\", \"-0.8\", \"-1.2\", \"-2.4\"], \"textposition\": \"auto\", \"type\": \"bar\", \"xaxis\": \"x4\", \"y\": [-5.8, -2.2, -2.3, -2.6, -2.5, -1.5, -3.0, -4.2, -0.3, -0.8, -1.2, -2.4], \"yaxis\": \"y4\"}],                        {\"annotations\": [{\"font\": {\"size\": 16}, \"showarrow\": false, \"text\": \"Humidity\", \"x\": 0.5, \"xanchor\": \"center\", \"xref\": \"paper\", \"y\": 1.0, \"yanchor\": \"bottom\", \"yref\": \"paper\"}, {\"font\": {\"size\": 16}, \"showarrow\": false, \"text\": \"Temperature\", \"x\": 0.5, \"xanchor\": \"center\", \"xref\": \"paper\", \"y\": 0.7833333333333333, \"yanchor\": \"bottom\", \"yref\": \"paper\"}, {\"font\": {\"size\": 16}, \"showarrow\": false, \"text\": \"Prediction\", \"x\": 0.5, \"xanchor\": \"center\", \"xref\": \"paper\", \"y\": 0.5666666666666667, \"yanchor\": \"bottom\", \"yref\": \"paper\"}, {\"font\": {\"size\": 16}, \"showarrow\": false, \"text\": \"ppm error\", \"x\": 0.5, \"xanchor\": \"center\", \"xref\": \"paper\", \"y\": 0.35, \"yanchor\": \"bottom\", \"yref\": \"paper\"}], \"height\": 800, \"legend\": {\"tracegroupgap\": 135}, \"template\": {\"data\": {\"bar\": [{\"error_x\": {\"color\": \"#2a3f5f\"}, \"error_y\": {\"color\": \"#2a3f5f\"}, \"marker\": {\"line\": {\"color\": \"#E5ECF6\", \"width\": 0.5}}, \"type\": \"bar\"}], \"barpolar\": [{\"marker\": {\"line\": {\"color\": \"#E5ECF6\", \"width\": 0.5}}, \"type\": \"barpolar\"}], \"carpet\": [{\"aaxis\": {\"endlinecolor\": \"#2a3f5f\", \"gridcolor\": \"white\", \"linecolor\": \"white\", \"minorgridcolor\": \"white\", \"startlinecolor\": \"#2a3f5f\"}, \"baxis\": {\"endlinecolor\": \"#2a3f5f\", \"gridcolor\": \"white\", \"linecolor\": \"white\", \"minorgridcolor\": \"white\", \"startlinecolor\": \"#2a3f5f\"}, \"type\": \"carpet\"}], \"choropleth\": [{\"colorbar\": {\"outlinewidth\": 0, \"ticks\": \"\"}, \"type\": \"choropleth\"}], \"contour\": [{\"colorbar\": {\"outlinewidth\": 0, \"ticks\": \"\"}, \"colorscale\": [[0.0, \"#0d0887\"], [0.1111111111111111, \"#46039f\"], [0.2222222222222222, \"#7201a8\"], [0.3333333333333333, \"#9c179e\"], [0.4444444444444444, \"#bd3786\"], [0.5555555555555556, \"#d8576b\"], [0.6666666666666666, \"#ed7953\"], [0.7777777777777778, \"#fb9f3a\"], [0.8888888888888888, \"#fdca26\"], [1.0, \"#f0f921\"]], \"type\": \"contour\"}], \"contourcarpet\": [{\"colorbar\": {\"outlinewidth\": 0, \"ticks\": \"\"}, \"type\": \"contourcarpet\"}], \"heatmap\": [{\"colorbar\": {\"outlinewidth\": 0, \"ticks\": \"\"}, \"colorscale\": [[0.0, \"#0d0887\"], [0.1111111111111111, \"#46039f\"], [0.2222222222222222, \"#7201a8\"], [0.3333333333333333, \"#9c179e\"], [0.4444444444444444, \"#bd3786\"], [0.5555555555555556, \"#d8576b\"], [0.6666666666666666, \"#ed7953\"], [0.7777777777777778, \"#fb9f3a\"], [0.8888888888888888, \"#fdca26\"], [1.0, \"#f0f921\"]], \"type\": \"heatmap\"}], \"heatmapgl\": [{\"colorbar\": {\"outlinewidth\": 0, \"ticks\": \"\"}, \"colorscale\": [[0.0, \"#0d0887\"], [0.1111111111111111, \"#46039f\"], [0.2222222222222222, \"#7201a8\"], [0.3333333333333333, \"#9c179e\"], [0.4444444444444444, \"#bd3786\"], [0.5555555555555556, \"#d8576b\"], [0.6666666666666666, \"#ed7953\"], [0.7777777777777778, \"#fb9f3a\"], [0.8888888888888888, \"#fdca26\"], [1.0, \"#f0f921\"]], \"type\": \"heatmapgl\"}], \"histogram\": [{\"marker\": {\"colorbar\": {\"outlinewidth\": 0, \"ticks\": \"\"}}, \"type\": \"histogram\"}], \"histogram2d\": [{\"colorbar\": {\"outlinewidth\": 0, \"ticks\": \"\"}, \"colorscale\": [[0.0, \"#0d0887\"], [0.1111111111111111, \"#46039f\"], [0.2222222222222222, \"#7201a8\"], [0.3333333333333333, \"#9c179e\"], [0.4444444444444444, \"#bd3786\"], [0.5555555555555556, \"#d8576b\"], [0.6666666666666666, \"#ed7953\"], [0.7777777777777778, \"#fb9f3a\"], [0.8888888888888888, \"#fdca26\"], [1.0, \"#f0f921\"]], \"type\": \"histogram2d\"}], \"histogram2dcontour\": [{\"colorbar\": {\"outlinewidth\": 0, \"ticks\": \"\"}, \"colorscale\": [[0.0, \"#0d0887\"], [0.1111111111111111, \"#46039f\"], [0.2222222222222222, \"#7201a8\"], [0.3333333333333333, \"#9c179e\"], [0.4444444444444444, \"#bd3786\"], [0.5555555555555556, \"#d8576b\"], [0.6666666666666666, \"#ed7953\"], [0.7777777777777778, \"#fb9f3a\"], [0.8888888888888888, \"#fdca26\"], [1.0, \"#f0f921\"]], \"type\": \"histogram2dcontour\"}], \"mesh3d\": [{\"colorbar\": {\"outlinewidth\": 0, \"ticks\": \"\"}, \"type\": \"mesh3d\"}], \"parcoords\": [{\"line\": {\"colorbar\": {\"outlinewidth\": 0, \"ticks\": \"\"}}, \"type\": \"parcoords\"}], \"pie\": [{\"automargin\": true, \"type\": \"pie\"}], \"scatter\": [{\"marker\": {\"colorbar\": {\"outlinewidth\": 0, \"ticks\": \"\"}}, \"type\": \"scatter\"}], \"scatter3d\": [{\"line\": {\"colorbar\": {\"outlinewidth\": 0, \"ticks\": \"\"}}, \"marker\": {\"colorbar\": {\"outlinewidth\": 0, \"ticks\": \"\"}}, \"type\": \"scatter3d\"}], \"scattercarpet\": [{\"marker\": {\"colorbar\": {\"outlinewidth\": 0, \"ticks\": \"\"}}, \"type\": \"scattercarpet\"}], \"scattergeo\": [{\"marker\": {\"colorbar\": {\"outlinewidth\": 0, \"ticks\": \"\"}}, \"type\": \"scattergeo\"}], \"scattergl\": [{\"marker\": {\"colorbar\": {\"outlinewidth\": 0, \"ticks\": \"\"}}, \"type\": \"scattergl\"}], \"scattermapbox\": [{\"marker\": {\"colorbar\": {\"outlinewidth\": 0, \"ticks\": \"\"}}, \"type\": \"scattermapbox\"}], \"scatterpolar\": [{\"marker\": {\"colorbar\": {\"outlinewidth\": 0, \"ticks\": \"\"}}, \"type\": \"scatterpolar\"}], \"scatterpolargl\": [{\"marker\": {\"colorbar\": {\"outlinewidth\": 0, \"ticks\": \"\"}}, \"type\": \"scatterpolargl\"}], \"scatterternary\": [{\"marker\": {\"colorbar\": {\"outlinewidth\": 0, \"ticks\": \"\"}}, \"type\": \"scatterternary\"}], \"surface\": [{\"colorbar\": {\"outlinewidth\": 0, \"ticks\": \"\"}, \"colorscale\": [[0.0, \"#0d0887\"], [0.1111111111111111, \"#46039f\"], [0.2222222222222222, \"#7201a8\"], [0.3333333333333333, \"#9c179e\"], [0.4444444444444444, \"#bd3786\"], [0.5555555555555556, \"#d8576b\"], [0.6666666666666666, \"#ed7953\"], [0.7777777777777778, \"#fb9f3a\"], [0.8888888888888888, \"#fdca26\"], [1.0, \"#f0f921\"]], \"type\": \"surface\"}], \"table\": [{\"cells\": {\"fill\": {\"color\": \"#EBF0F8\"}, \"line\": {\"color\": \"white\"}}, \"header\": {\"fill\": {\"color\": \"#C8D4E3\"}, \"line\": {\"color\": \"white\"}}, \"type\": \"table\"}]}, \"layout\": {\"annotationdefaults\": {\"arrowcolor\": \"#2a3f5f\", \"arrowhead\": 0, \"arrowwidth\": 1}, \"autotypenumbers\": \"strict\", \"coloraxis\": {\"colorbar\": {\"outlinewidth\": 0, \"ticks\": \"\"}}, \"colorscale\": {\"diverging\": [[0, \"#8e0152\"], [0.1, \"#c51b7d\"], [0.2, \"#de77ae\"], [0.3, \"#f1b6da\"], [0.4, \"#fde0ef\"], [0.5, \"#f7f7f7\"], [0.6, \"#e6f5d0\"], [0.7, \"#b8e186\"], [0.8, \"#7fbc41\"], [0.9, \"#4d9221\"], [1, \"#276419\"]], \"sequential\": [[0.0, \"#0d0887\"], [0.1111111111111111, \"#46039f\"], [0.2222222222222222, \"#7201a8\"], [0.3333333333333333, \"#9c179e\"], [0.4444444444444444, \"#bd3786\"], [0.5555555555555556, \"#d8576b\"], [0.6666666666666666, \"#ed7953\"], [0.7777777777777778, \"#fb9f3a\"], [0.8888888888888888, \"#fdca26\"], [1.0, \"#f0f921\"]], \"sequentialminus\": [[0.0, \"#0d0887\"], [0.1111111111111111, \"#46039f\"], [0.2222222222222222, \"#7201a8\"], [0.3333333333333333, \"#9c179e\"], [0.4444444444444444, \"#bd3786\"], [0.5555555555555556, \"#d8576b\"], [0.6666666666666666, \"#ed7953\"], [0.7777777777777778, \"#fb9f3a\"], [0.8888888888888888, \"#fdca26\"], [1.0, \"#f0f921\"]]}, \"colorway\": [\"#636efa\", \"#EF553B\", \"#00cc96\", \"#ab63fa\", \"#FFA15A\", \"#19d3f3\", \"#FF6692\", \"#B6E880\", \"#FF97FF\", \"#FECB52\"], \"font\": {\"color\": \"#2a3f5f\"}, \"geo\": {\"bgcolor\": \"white\", \"lakecolor\": \"white\", \"landcolor\": \"#E5ECF6\", \"showlakes\": true, \"showland\": true, \"subunitcolor\": \"white\"}, \"hoverlabel\": {\"align\": \"left\"}, \"hovermode\": \"closest\", \"mapbox\": {\"style\": \"light\"}, \"paper_bgcolor\": \"white\", \"plot_bgcolor\": \"#E5ECF6\", \"polar\": {\"angularaxis\": {\"gridcolor\": \"white\", \"linecolor\": \"white\", \"ticks\": \"\"}, \"bgcolor\": \"#E5ECF6\", \"radialaxis\": {\"gridcolor\": \"white\", \"linecolor\": \"white\", \"ticks\": \"\"}}, \"scene\": {\"xaxis\": {\"backgroundcolor\": \"#E5ECF6\", \"gridcolor\": \"white\", \"gridwidth\": 2, \"linecolor\": \"white\", \"showbackground\": true, \"ticks\": \"\", \"zerolinecolor\": \"white\"}, \"yaxis\": {\"backgroundcolor\": \"#E5ECF6\", \"gridcolor\": \"white\", \"gridwidth\": 2, \"linecolor\": \"white\", \"showbackground\": true, \"ticks\": \"\", \"zerolinecolor\": \"white\"}, \"zaxis\": {\"backgroundcolor\": \"#E5ECF6\", \"gridcolor\": \"white\", \"gridwidth\": 2, \"linecolor\": \"white\", \"showbackground\": true, \"ticks\": \"\", \"zerolinecolor\": \"white\"}}, \"shapedefaults\": {\"line\": {\"color\": \"#2a3f5f\"}}, \"ternary\": {\"aaxis\": {\"gridcolor\": \"white\", \"linecolor\": \"white\", \"ticks\": \"\"}, \"baxis\": {\"gridcolor\": \"white\", \"linecolor\": \"white\", \"ticks\": \"\"}, \"bgcolor\": \"#E5ECF6\", \"caxis\": {\"gridcolor\": \"white\", \"linecolor\": \"white\", \"ticks\": \"\"}}, \"title\": {\"x\": 0.05}, \"xaxis\": {\"automargin\": true, \"gridcolor\": \"white\", \"linecolor\": \"white\", \"ticks\": \"\", \"title\": {\"standoff\": 15}, \"zerolinecolor\": \"white\", \"zerolinewidth\": 2}, \"yaxis\": {\"automargin\": true, \"gridcolor\": \"white\", \"linecolor\": \"white\", \"ticks\": \"\", \"title\": {\"standoff\": 15}, \"zerolinecolor\": \"white\", \"zerolinewidth\": 2}}}, \"title\": {\"text\": \"(29%~88%)(Filtered_Z_score_583nm #1)(shift 0)(RMSE=2.80292)\"}, \"width\": 900, \"xaxis\": {\"anchor\": \"y\", \"domain\": [0.0, 1.0]}, \"xaxis2\": {\"anchor\": \"y2\", \"domain\": [0.0, 1.0]}, \"xaxis3\": {\"anchor\": \"y3\", \"domain\": [0.0, 1.0]}, \"xaxis4\": {\"anchor\": \"y4\", \"domain\": [0.0, 1.0]}, \"yaxis\": {\"anchor\": \"x\", \"domain\": [0.8833333333333333, 1.0]}, \"yaxis2\": {\"anchor\": \"x2\", \"domain\": [0.6666666666666666, 0.7833333333333333]}, \"yaxis3\": {\"anchor\": \"x3\", \"domain\": [0.44999999999999996, 0.5666666666666667]}, \"yaxis4\": {\"anchor\": \"x4\", \"domain\": [0.0, 0.35], \"range\": [-11.8, 5.7]}},                        {\"responsive\": true}                    ).then(function(){\n",
       "                            \n",
       "var gd = document.getElementById('8c4a73a0-33f7-475b-8115-173a375654b3');\n",
       "var x = new MutationObserver(function (mutations, observer) {{\n",
       "        var display = window.getComputedStyle(gd).display;\n",
       "        if (!display || display === 'none') {{\n",
       "            console.log([gd, 'removed!']);\n",
       "            Plotly.purge(gd);\n",
       "            observer.disconnect();\n",
       "        }}\n",
       "}});\n",
       "\n",
       "// Listen for the removal of the full notebook cells\n",
       "var notebookContainer = gd.closest('#notebook-container');\n",
       "if (notebookContainer) {{\n",
       "    x.observe(notebookContainer, {childList: true});\n",
       "}}\n",
       "\n",
       "// Listen for the clearing of the current output cell\n",
       "var outputEl = gd.closest('.output');\n",
       "if (outputEl) {{\n",
       "    x.observe(outputEl, {childList: true});\n",
       "}}\n",
       "\n",
       "                        })                };                });            </script>        </div>"
      ]
     },
     "metadata": {},
     "output_type": "display_data"
    },
    {
     "name": "stdout",
     "output_type": "stream",
     "text": [
      "sensor_number: #20221107095135\n"
     ]
    },
    {
     "data": {
      "application/vnd.plotly.v1+json": {
       "config": {
        "plotlyServerURL": "https://plot.ly"
       },
       "data": [
        {
         "name": "Humidity",
         "type": "scatter",
         "xaxis": "x",
         "y": [
          30.4290771484375,
          30.48553466796875,
          30.26123046875,
          30.34820556640625,
          30.401611328125,
          29.7698974609375,
          29.81109619140625,
          29.9407958984375,
          29.76837158203125,
          29.8126220703125,
          29.72869873046875,
          29.791259765625,
          29.56695556640625,
          29.6478271484375,
          29.78973388671875,
          29.48150634765625,
          29.5501708984375,
          29.66766357421875,
          29.50439453125,
          29.52423095703125,
          60.5194091796875,
          60.30426025390625,
          60.31494140625,
          60.60333251953125,
          60.4888916015625,
          60.711669921875,
          60.86883544921875,
          60.63232421875,
          60.70098876953125,
          60.8734130859375,
          61.07635498046875,
          61.212158203125,
          60.90850830078125,
          61.0565185546875,
          61.29608154296875,
          61.04888916015625,
          61.285400390625,
          61.35406494140625,
          61.1114501953125,
          61.31134033203125,
          87.6373291015625,
          87.73040771484375,
          87.9608154296875,
          87.64495849609375,
          87.6861572265625,
          87.7960205078125,
          87.80059814453125,
          88.0096435546875,
          87.86773681640625,
          87.75634765625,
          88.6871337890625,
          88.59405517578125,
          88.4552001953125,
          88.67645263671875,
          88.4918212890625,
          88.55438232421875,
          88.6993408203125,
          88.83209228515625,
          88.53759765625,
          88.61846923828125
         ],
         "yaxis": "y"
        },
        {
         "name": "Temperature",
         "type": "scatter",
         "xaxis": "x2",
         "y": [
          30.198516845703125,
          30.19096374511719,
          30.20355224609375,
          30.20103454589844,
          30.188446044921875,
          30.20355224609375,
          30.19096374511719,
          30.213623046875,
          30.18592834472656,
          30.198516845703125,
          30.19599914550781,
          30.1934814453125,
          30.21614074707031,
          30.20355224609375,
          30.206069946289062,
          30.21614074707031,
          30.198516845703125,
          30.20103454589844,
          30.198516845703125,
          30.20103454589844,
          30.238800048828125,
          30.246353149414062,
          30.228729248046875,
          30.23628234863281,
          30.24887084960937,
          30.22369384765625,
          30.23628234863281,
          30.213623046875,
          30.23124694824219,
          30.228729248046875,
          30.19599914550781,
          30.218658447265625,
          30.246353149414062,
          30.218658447265625,
          30.21614074707031,
          30.22621154785156,
          30.213623046875,
          30.22117614746093,
          30.20355224609375,
          30.22621154785156,
          30.258941650390625,
          30.26145935058593,
          30.26397705078125,
          30.26145935058593,
          30.25390625,
          30.2337646484375,
          30.24131774902344,
          30.24383544921875,
          30.24131774902344,
          30.22369384765625,
          30.228729248046875,
          30.246353149414062,
          30.228729248046875,
          30.23124694824219,
          30.2337646484375,
          30.22117614746093,
          30.228729248046875,
          30.23124694824219,
          30.228729248046875,
          30.23628234863281
         ],
         "yaxis": "y2"
        },
        {
         "name": "ppm",
         "type": "scatter",
         "xaxis": "x3",
         "y": [
          0,
          0,
          0,
          0,
          0,
          10.0130006500325,
          9.975498774938746,
          10.000750056254216,
          9.989373007438896,
          10.011874257858883,
          40.00300022501687,
          40.00450050630696,
          39.99550050619305,
          39.98999937496093,
          39.99800009999501,
          60,
          59.97925285273276,
          59.99850003749906,
          59.99475045933481,
          60.01775155326091,
          0,
          0,
          0,
          0,
          0,
          10.025125314066427,
          10.00012500156252,
          9.987125482794395,
          10.024874689066388,
          9.987250318742031,
          40.01199985000188,
          40.00250015625976,
          40.01450072503626,
          39.98949947497375,
          40.00700122521442,
          60.01625101568848,
          59.991249453090816,
          59.99850003749906,
          60.03400510076512,
          60.02349941251469,
          0,
          0,
          0,
          0,
          0,
          9.975872888877776,
          9.988124257766112,
          10.011498850114988,
          9.99925005624578,
          9.987375157810527,
          40.025000000000006,
          40.00899921256891,
          40.009499287553446,
          40.00050000625008,
          40,
          60.025,
          59.99349934993499,
          60.00375023438965,
          59.984500774961255,
          60.00799940004501
         ],
         "yaxis": "y3"
        },
        {
         "name": "pred_ppm",
         "type": "scatter",
         "xaxis": "x3",
         "y": [
          -5.802044826759877,
          -5.884547178561986,
          -5.965297800467127,
          -6.151638590526975,
          -6.142266143651991,
          7.781612774082662,
          7.637395306259954,
          7.5723669237296996,
          7.530648677261285,
          7.618614931847999,
          37.85438053192622,
          37.813210820350086,
          37.77769317068376,
          37.752301106732716,
          37.802106268354194,
          57.3040370194607,
          57.253735043221624,
          57.1373402677116,
          57.226791913370676,
          57.137296281531704,
          -2.498585003206614,
          -2.6423067011406225,
          -2.79158745043107,
          -2.5501944797883347,
          -2.639512064289299,
          8.744136097818016,
          9.203283754938578,
          9.097392407573368,
          8.87773168118219,
          8.795448148765715,
          38.016432446494605,
          38.11773964991954,
          38.36120577357245,
          38.413807949424324,
          38.02954114268918,
          57.23019912660199,
          57.12689025698397,
          57.08906996250707,
          57.0838740536943,
          57.36541064698001,
          -0.850501783739146,
          -0.8368420150597977,
          -0.9840769276679993,
          -1.0791786911727215,
          -1.192285203949055,
          9.182775899082603,
          8.966221490315988,
          9.006206062134055,
          9.55365396363683,
          9.178553657539819,
          38.20331775028501,
          38.3876813531339,
          38.46780400732251,
          38.36297319997435,
          38.37904100720164,
          57.43538859531634,
          57.75189480460074,
          58.14839848036725,
          58.17938473905852,
          58.16450205594872
         ],
         "yaxis": "y3"
        },
        {
         "name": "ppm error",
         "text": [
          "-6.0",
          "-2.4",
          "-2.2",
          "-2.8",
          "-2.6",
          "-1.1",
          "-1.8",
          "-2.8",
          "-1.0",
          "-0.8",
          "-1.6",
          "-2.1"
         ],
         "textposition": "auto",
         "type": "bar",
         "xaxis": "x4",
         "y": [
          -6,
          -2.4,
          -2.2,
          -2.8,
          -2.6,
          -1.1,
          -1.8,
          -2.8,
          -1,
          -0.8,
          -1.6,
          -2.1
         ],
         "yaxis": "y4"
        }
       ],
       "layout": {
        "annotations": [
         {
          "font": {
           "size": 16
          },
          "showarrow": false,
          "text": "Humidity",
          "x": 0.5,
          "xanchor": "center",
          "xref": "paper",
          "y": 1,
          "yanchor": "bottom",
          "yref": "paper"
         },
         {
          "font": {
           "size": 16
          },
          "showarrow": false,
          "text": "Temperature",
          "x": 0.5,
          "xanchor": "center",
          "xref": "paper",
          "y": 0.7833333333333333,
          "yanchor": "bottom",
          "yref": "paper"
         },
         {
          "font": {
           "size": 16
          },
          "showarrow": false,
          "text": "Prediction",
          "x": 0.5,
          "xanchor": "center",
          "xref": "paper",
          "y": 0.5666666666666667,
          "yanchor": "bottom",
          "yref": "paper"
         },
         {
          "font": {
           "size": 16
          },
          "showarrow": false,
          "text": "ppm error",
          "x": 0.5,
          "xanchor": "center",
          "xref": "paper",
          "y": 0.35,
          "yanchor": "bottom",
          "yref": "paper"
         }
        ],
        "height": 800,
        "legend": {
         "tracegroupgap": 135
        },
        "template": {
         "data": {
          "bar": [
           {
            "error_x": {
             "color": "#2a3f5f"
            },
            "error_y": {
             "color": "#2a3f5f"
            },
            "marker": {
             "line": {
              "color": "#E5ECF6",
              "width": 0.5
             }
            },
            "type": "bar"
           }
          ],
          "barpolar": [
           {
            "marker": {
             "line": {
              "color": "#E5ECF6",
              "width": 0.5
             }
            },
            "type": "barpolar"
           }
          ],
          "carpet": [
           {
            "aaxis": {
             "endlinecolor": "#2a3f5f",
             "gridcolor": "white",
             "linecolor": "white",
             "minorgridcolor": "white",
             "startlinecolor": "#2a3f5f"
            },
            "baxis": {
             "endlinecolor": "#2a3f5f",
             "gridcolor": "white",
             "linecolor": "white",
             "minorgridcolor": "white",
             "startlinecolor": "#2a3f5f"
            },
            "type": "carpet"
           }
          ],
          "choropleth": [
           {
            "colorbar": {
             "outlinewidth": 0,
             "ticks": ""
            },
            "type": "choropleth"
           }
          ],
          "contour": [
           {
            "colorbar": {
             "outlinewidth": 0,
             "ticks": ""
            },
            "colorscale": [
             [
              0,
              "#0d0887"
             ],
             [
              0.1111111111111111,
              "#46039f"
             ],
             [
              0.2222222222222222,
              "#7201a8"
             ],
             [
              0.3333333333333333,
              "#9c179e"
             ],
             [
              0.4444444444444444,
              "#bd3786"
             ],
             [
              0.5555555555555556,
              "#d8576b"
             ],
             [
              0.6666666666666666,
              "#ed7953"
             ],
             [
              0.7777777777777778,
              "#fb9f3a"
             ],
             [
              0.8888888888888888,
              "#fdca26"
             ],
             [
              1,
              "#f0f921"
             ]
            ],
            "type": "contour"
           }
          ],
          "contourcarpet": [
           {
            "colorbar": {
             "outlinewidth": 0,
             "ticks": ""
            },
            "type": "contourcarpet"
           }
          ],
          "heatmap": [
           {
            "colorbar": {
             "outlinewidth": 0,
             "ticks": ""
            },
            "colorscale": [
             [
              0,
              "#0d0887"
             ],
             [
              0.1111111111111111,
              "#46039f"
             ],
             [
              0.2222222222222222,
              "#7201a8"
             ],
             [
              0.3333333333333333,
              "#9c179e"
             ],
             [
              0.4444444444444444,
              "#bd3786"
             ],
             [
              0.5555555555555556,
              "#d8576b"
             ],
             [
              0.6666666666666666,
              "#ed7953"
             ],
             [
              0.7777777777777778,
              "#fb9f3a"
             ],
             [
              0.8888888888888888,
              "#fdca26"
             ],
             [
              1,
              "#f0f921"
             ]
            ],
            "type": "heatmap"
           }
          ],
          "heatmapgl": [
           {
            "colorbar": {
             "outlinewidth": 0,
             "ticks": ""
            },
            "colorscale": [
             [
              0,
              "#0d0887"
             ],
             [
              0.1111111111111111,
              "#46039f"
             ],
             [
              0.2222222222222222,
              "#7201a8"
             ],
             [
              0.3333333333333333,
              "#9c179e"
             ],
             [
              0.4444444444444444,
              "#bd3786"
             ],
             [
              0.5555555555555556,
              "#d8576b"
             ],
             [
              0.6666666666666666,
              "#ed7953"
             ],
             [
              0.7777777777777778,
              "#fb9f3a"
             ],
             [
              0.8888888888888888,
              "#fdca26"
             ],
             [
              1,
              "#f0f921"
             ]
            ],
            "type": "heatmapgl"
           }
          ],
          "histogram": [
           {
            "marker": {
             "colorbar": {
              "outlinewidth": 0,
              "ticks": ""
             }
            },
            "type": "histogram"
           }
          ],
          "histogram2d": [
           {
            "colorbar": {
             "outlinewidth": 0,
             "ticks": ""
            },
            "colorscale": [
             [
              0,
              "#0d0887"
             ],
             [
              0.1111111111111111,
              "#46039f"
             ],
             [
              0.2222222222222222,
              "#7201a8"
             ],
             [
              0.3333333333333333,
              "#9c179e"
             ],
             [
              0.4444444444444444,
              "#bd3786"
             ],
             [
              0.5555555555555556,
              "#d8576b"
             ],
             [
              0.6666666666666666,
              "#ed7953"
             ],
             [
              0.7777777777777778,
              "#fb9f3a"
             ],
             [
              0.8888888888888888,
              "#fdca26"
             ],
             [
              1,
              "#f0f921"
             ]
            ],
            "type": "histogram2d"
           }
          ],
          "histogram2dcontour": [
           {
            "colorbar": {
             "outlinewidth": 0,
             "ticks": ""
            },
            "colorscale": [
             [
              0,
              "#0d0887"
             ],
             [
              0.1111111111111111,
              "#46039f"
             ],
             [
              0.2222222222222222,
              "#7201a8"
             ],
             [
              0.3333333333333333,
              "#9c179e"
             ],
             [
              0.4444444444444444,
              "#bd3786"
             ],
             [
              0.5555555555555556,
              "#d8576b"
             ],
             [
              0.6666666666666666,
              "#ed7953"
             ],
             [
              0.7777777777777778,
              "#fb9f3a"
             ],
             [
              0.8888888888888888,
              "#fdca26"
             ],
             [
              1,
              "#f0f921"
             ]
            ],
            "type": "histogram2dcontour"
           }
          ],
          "mesh3d": [
           {
            "colorbar": {
             "outlinewidth": 0,
             "ticks": ""
            },
            "type": "mesh3d"
           }
          ],
          "parcoords": [
           {
            "line": {
             "colorbar": {
              "outlinewidth": 0,
              "ticks": ""
             }
            },
            "type": "parcoords"
           }
          ],
          "pie": [
           {
            "automargin": true,
            "type": "pie"
           }
          ],
          "scatter": [
           {
            "marker": {
             "colorbar": {
              "outlinewidth": 0,
              "ticks": ""
             }
            },
            "type": "scatter"
           }
          ],
          "scatter3d": [
           {
            "line": {
             "colorbar": {
              "outlinewidth": 0,
              "ticks": ""
             }
            },
            "marker": {
             "colorbar": {
              "outlinewidth": 0,
              "ticks": ""
             }
            },
            "type": "scatter3d"
           }
          ],
          "scattercarpet": [
           {
            "marker": {
             "colorbar": {
              "outlinewidth": 0,
              "ticks": ""
             }
            },
            "type": "scattercarpet"
           }
          ],
          "scattergeo": [
           {
            "marker": {
             "colorbar": {
              "outlinewidth": 0,
              "ticks": ""
             }
            },
            "type": "scattergeo"
           }
          ],
          "scattergl": [
           {
            "marker": {
             "colorbar": {
              "outlinewidth": 0,
              "ticks": ""
             }
            },
            "type": "scattergl"
           }
          ],
          "scattermapbox": [
           {
            "marker": {
             "colorbar": {
              "outlinewidth": 0,
              "ticks": ""
             }
            },
            "type": "scattermapbox"
           }
          ],
          "scatterpolar": [
           {
            "marker": {
             "colorbar": {
              "outlinewidth": 0,
              "ticks": ""
             }
            },
            "type": "scatterpolar"
           }
          ],
          "scatterpolargl": [
           {
            "marker": {
             "colorbar": {
              "outlinewidth": 0,
              "ticks": ""
             }
            },
            "type": "scatterpolargl"
           }
          ],
          "scatterternary": [
           {
            "marker": {
             "colorbar": {
              "outlinewidth": 0,
              "ticks": ""
             }
            },
            "type": "scatterternary"
           }
          ],
          "surface": [
           {
            "colorbar": {
             "outlinewidth": 0,
             "ticks": ""
            },
            "colorscale": [
             [
              0,
              "#0d0887"
             ],
             [
              0.1111111111111111,
              "#46039f"
             ],
             [
              0.2222222222222222,
              "#7201a8"
             ],
             [
              0.3333333333333333,
              "#9c179e"
             ],
             [
              0.4444444444444444,
              "#bd3786"
             ],
             [
              0.5555555555555556,
              "#d8576b"
             ],
             [
              0.6666666666666666,
              "#ed7953"
             ],
             [
              0.7777777777777778,
              "#fb9f3a"
             ],
             [
              0.8888888888888888,
              "#fdca26"
             ],
             [
              1,
              "#f0f921"
             ]
            ],
            "type": "surface"
           }
          ],
          "table": [
           {
            "cells": {
             "fill": {
              "color": "#EBF0F8"
             },
             "line": {
              "color": "white"
             }
            },
            "header": {
             "fill": {
              "color": "#C8D4E3"
             },
             "line": {
              "color": "white"
             }
            },
            "type": "table"
           }
          ]
         },
         "layout": {
          "annotationdefaults": {
           "arrowcolor": "#2a3f5f",
           "arrowhead": 0,
           "arrowwidth": 1
          },
          "autotypenumbers": "strict",
          "coloraxis": {
           "colorbar": {
            "outlinewidth": 0,
            "ticks": ""
           }
          },
          "colorscale": {
           "diverging": [
            [
             0,
             "#8e0152"
            ],
            [
             0.1,
             "#c51b7d"
            ],
            [
             0.2,
             "#de77ae"
            ],
            [
             0.3,
             "#f1b6da"
            ],
            [
             0.4,
             "#fde0ef"
            ],
            [
             0.5,
             "#f7f7f7"
            ],
            [
             0.6,
             "#e6f5d0"
            ],
            [
             0.7,
             "#b8e186"
            ],
            [
             0.8,
             "#7fbc41"
            ],
            [
             0.9,
             "#4d9221"
            ],
            [
             1,
             "#276419"
            ]
           ],
           "sequential": [
            [
             0,
             "#0d0887"
            ],
            [
             0.1111111111111111,
             "#46039f"
            ],
            [
             0.2222222222222222,
             "#7201a8"
            ],
            [
             0.3333333333333333,
             "#9c179e"
            ],
            [
             0.4444444444444444,
             "#bd3786"
            ],
            [
             0.5555555555555556,
             "#d8576b"
            ],
            [
             0.6666666666666666,
             "#ed7953"
            ],
            [
             0.7777777777777778,
             "#fb9f3a"
            ],
            [
             0.8888888888888888,
             "#fdca26"
            ],
            [
             1,
             "#f0f921"
            ]
           ],
           "sequentialminus": [
            [
             0,
             "#0d0887"
            ],
            [
             0.1111111111111111,
             "#46039f"
            ],
            [
             0.2222222222222222,
             "#7201a8"
            ],
            [
             0.3333333333333333,
             "#9c179e"
            ],
            [
             0.4444444444444444,
             "#bd3786"
            ],
            [
             0.5555555555555556,
             "#d8576b"
            ],
            [
             0.6666666666666666,
             "#ed7953"
            ],
            [
             0.7777777777777778,
             "#fb9f3a"
            ],
            [
             0.8888888888888888,
             "#fdca26"
            ],
            [
             1,
             "#f0f921"
            ]
           ]
          },
          "colorway": [
           "#636efa",
           "#EF553B",
           "#00cc96",
           "#ab63fa",
           "#FFA15A",
           "#19d3f3",
           "#FF6692",
           "#B6E880",
           "#FF97FF",
           "#FECB52"
          ],
          "font": {
           "color": "#2a3f5f"
          },
          "geo": {
           "bgcolor": "white",
           "lakecolor": "white",
           "landcolor": "#E5ECF6",
           "showlakes": true,
           "showland": true,
           "subunitcolor": "white"
          },
          "hoverlabel": {
           "align": "left"
          },
          "hovermode": "closest",
          "mapbox": {
           "style": "light"
          },
          "paper_bgcolor": "white",
          "plot_bgcolor": "#E5ECF6",
          "polar": {
           "angularaxis": {
            "gridcolor": "white",
            "linecolor": "white",
            "ticks": ""
           },
           "bgcolor": "#E5ECF6",
           "radialaxis": {
            "gridcolor": "white",
            "linecolor": "white",
            "ticks": ""
           }
          },
          "scene": {
           "xaxis": {
            "backgroundcolor": "#E5ECF6",
            "gridcolor": "white",
            "gridwidth": 2,
            "linecolor": "white",
            "showbackground": true,
            "ticks": "",
            "zerolinecolor": "white"
           },
           "yaxis": {
            "backgroundcolor": "#E5ECF6",
            "gridcolor": "white",
            "gridwidth": 2,
            "linecolor": "white",
            "showbackground": true,
            "ticks": "",
            "zerolinecolor": "white"
           },
           "zaxis": {
            "backgroundcolor": "#E5ECF6",
            "gridcolor": "white",
            "gridwidth": 2,
            "linecolor": "white",
            "showbackground": true,
            "ticks": "",
            "zerolinecolor": "white"
           }
          },
          "shapedefaults": {
           "line": {
            "color": "#2a3f5f"
           }
          },
          "ternary": {
           "aaxis": {
            "gridcolor": "white",
            "linecolor": "white",
            "ticks": ""
           },
           "baxis": {
            "gridcolor": "white",
            "linecolor": "white",
            "ticks": ""
           },
           "bgcolor": "#E5ECF6",
           "caxis": {
            "gridcolor": "white",
            "linecolor": "white",
            "ticks": ""
           }
          },
          "title": {
           "x": 0.05
          },
          "xaxis": {
           "automargin": true,
           "gridcolor": "white",
           "linecolor": "white",
           "ticks": "",
           "title": {
            "standoff": 15
           },
           "zerolinecolor": "white",
           "zerolinewidth": 2
          },
          "yaxis": {
           "automargin": true,
           "gridcolor": "white",
           "linecolor": "white",
           "ticks": "",
           "title": {
            "standoff": 15
           },
           "zerolinecolor": "white",
           "zerolinewidth": 2
          }
         }
        },
        "title": {
         "text": "(29%~88%)(Filtered_Z_score_583nm #1)(shift 0)(RMSE=2.61948)"
        },
        "width": 900,
        "xaxis": {
         "anchor": "y",
         "domain": [
          0,
          1
         ]
        },
        "xaxis2": {
         "anchor": "y2",
         "domain": [
          0,
          1
         ]
        },
        "xaxis3": {
         "anchor": "y3",
         "domain": [
          0,
          1
         ]
        },
        "xaxis4": {
         "anchor": "y4",
         "domain": [
          0,
          1
         ]
        },
        "yaxis": {
         "anchor": "x",
         "domain": [
          0.8833333333333333,
          1
         ]
        },
        "yaxis2": {
         "anchor": "x2",
         "domain": [
          0.6666666666666666,
          0.7833333333333333
         ]
        },
        "yaxis3": {
         "anchor": "x3",
         "domain": [
          0.44999999999999996,
          0.5666666666666667
         ]
        },
        "yaxis4": {
         "anchor": "x4",
         "domain": [
          0,
          0.35
         ],
         "range": [
          -12,
          5.2
         ]
        }
       }
      },
      "text/html": [
       "<div>                            <div id=\"65557749-16a2-47ac-8de1-af17f7ca0406\" class=\"plotly-graph-div\" style=\"height:800px; width:900px;\"></div>            <script type=\"text/javascript\">                require([\"plotly\"], function(Plotly) {                    window.PLOTLYENV=window.PLOTLYENV || {};                                    if (document.getElementById(\"65557749-16a2-47ac-8de1-af17f7ca0406\")) {                    Plotly.newPlot(                        \"65557749-16a2-47ac-8de1-af17f7ca0406\",                        [{\"name\": \"Humidity\", \"type\": \"scatter\", \"xaxis\": \"x\", \"y\": [30.4290771484375, 30.48553466796875, 30.26123046875, 30.34820556640625, 30.401611328125, 29.7698974609375, 29.81109619140625, 29.9407958984375, 29.76837158203125, 29.8126220703125, 29.72869873046875, 29.791259765625, 29.56695556640625, 29.6478271484375, 29.78973388671875, 29.48150634765625, 29.5501708984375, 29.66766357421875, 29.50439453125, 29.52423095703125, 60.5194091796875, 60.30426025390625, 60.31494140625, 60.60333251953125, 60.4888916015625, 60.711669921875, 60.86883544921875, 60.63232421875, 60.70098876953125, 60.8734130859375, 61.07635498046875, 61.212158203125, 60.90850830078125, 61.0565185546875, 61.29608154296875, 61.04888916015625, 61.285400390625, 61.35406494140625, 61.1114501953125, 61.31134033203125, 87.6373291015625, 87.73040771484375, 87.9608154296875, 87.64495849609375, 87.6861572265625, 87.7960205078125, 87.80059814453125, 88.0096435546875, 87.86773681640625, 87.75634765625, 88.6871337890625, 88.59405517578125, 88.4552001953125, 88.67645263671875, 88.4918212890625, 88.55438232421875, 88.6993408203125, 88.83209228515625, 88.53759765625, 88.61846923828125], \"yaxis\": \"y\"}, {\"name\": \"Temperature\", \"type\": \"scatter\", \"xaxis\": \"x2\", \"y\": [30.198516845703125, 30.19096374511719, 30.20355224609375, 30.20103454589844, 30.188446044921875, 30.20355224609375, 30.19096374511719, 30.213623046875, 30.18592834472656, 30.198516845703125, 30.19599914550781, 30.1934814453125, 30.21614074707031, 30.20355224609375, 30.206069946289062, 30.21614074707031, 30.198516845703125, 30.20103454589844, 30.198516845703125, 30.20103454589844, 30.238800048828125, 30.246353149414062, 30.228729248046875, 30.23628234863281, 30.24887084960937, 30.22369384765625, 30.23628234863281, 30.213623046875, 30.23124694824219, 30.228729248046875, 30.19599914550781, 30.218658447265625, 30.246353149414062, 30.218658447265625, 30.21614074707031, 30.22621154785156, 30.213623046875, 30.22117614746093, 30.20355224609375, 30.22621154785156, 30.258941650390625, 30.26145935058593, 30.26397705078125, 30.26145935058593, 30.25390625, 30.2337646484375, 30.24131774902344, 30.24383544921875, 30.24131774902344, 30.22369384765625, 30.228729248046875, 30.246353149414062, 30.228729248046875, 30.23124694824219, 30.2337646484375, 30.22117614746093, 30.228729248046875, 30.23124694824219, 30.228729248046875, 30.23628234863281], \"yaxis\": \"y2\"}, {\"name\": \"ppm\", \"type\": \"scatter\", \"xaxis\": \"x3\", \"y\": [0.0, 0.0, 0.0, 0.0, 0.0, 10.0130006500325, 9.975498774938746, 10.000750056254216, 9.989373007438896, 10.011874257858883, 40.00300022501687, 40.00450050630696, 39.99550050619305, 39.98999937496093, 39.99800009999501, 60.0, 59.97925285273276, 59.99850003749906, 59.99475045933481, 60.01775155326091, 0.0, 0.0, 0.0, 0.0, 0.0, 10.025125314066427, 10.00012500156252, 9.987125482794395, 10.024874689066388, 9.987250318742031, 40.01199985000188, 40.00250015625976, 40.01450072503626, 39.98949947497375, 40.00700122521442, 60.01625101568848, 59.991249453090816, 59.99850003749906, 60.03400510076512, 60.02349941251469, 0.0, 0.0, 0.0, 0.0, 0.0, 9.975872888877776, 9.988124257766112, 10.011498850114988, 9.99925005624578, 9.987375157810527, 40.025000000000006, 40.00899921256891, 40.009499287553446, 40.00050000625008, 40.0, 60.025, 59.99349934993499, 60.00375023438965, 59.984500774961255, 60.00799940004501], \"yaxis\": \"y3\"}, {\"name\": \"pred_ppm\", \"type\": \"scatter\", \"xaxis\": \"x3\", \"y\": [-5.802044826759877, -5.884547178561986, -5.965297800467127, -6.151638590526975, -6.142266143651991, 7.781612774082662, 7.637395306259954, 7.5723669237296996, 7.530648677261285, 7.618614931847999, 37.85438053192622, 37.813210820350086, 37.77769317068376, 37.752301106732716, 37.802106268354194, 57.3040370194607, 57.253735043221624, 57.1373402677116, 57.226791913370676, 57.137296281531704, -2.498585003206614, -2.6423067011406225, -2.79158745043107, -2.5501944797883347, -2.639512064289299, 8.744136097818016, 9.203283754938578, 9.097392407573368, 8.87773168118219, 8.795448148765715, 38.016432446494605, 38.11773964991954, 38.36120577357245, 38.413807949424324, 38.02954114268918, 57.23019912660199, 57.12689025698397, 57.08906996250707, 57.0838740536943, 57.36541064698001, -0.850501783739146, -0.8368420150597977, -0.9840769276679993, -1.0791786911727215, -1.192285203949055, 9.182775899082603, 8.966221490315988, 9.006206062134055, 9.55365396363683, 9.178553657539819, 38.20331775028501, 38.3876813531339, 38.46780400732251, 38.36297319997435, 38.37904100720164, 57.43538859531634, 57.75189480460074, 58.14839848036725, 58.17938473905852, 58.16450205594872], \"yaxis\": \"y3\"}, {\"name\": \"ppm error\", \"text\": [\"-6.0\", \"-2.4\", \"-2.2\", \"-2.8\", \"-2.6\", \"-1.1\", \"-1.8\", \"-2.8\", \"-1.0\", \"-0.8\", \"-1.6\", \"-2.1\"], \"textposition\": \"auto\", \"type\": \"bar\", \"xaxis\": \"x4\", \"y\": [-6.0, -2.4, -2.2, -2.8, -2.6, -1.1, -1.8, -2.8, -1.0, -0.8, -1.6, -2.1], \"yaxis\": \"y4\"}],                        {\"annotations\": [{\"font\": {\"size\": 16}, \"showarrow\": false, \"text\": \"Humidity\", \"x\": 0.5, \"xanchor\": \"center\", \"xref\": \"paper\", \"y\": 1.0, \"yanchor\": \"bottom\", \"yref\": \"paper\"}, {\"font\": {\"size\": 16}, \"showarrow\": false, \"text\": \"Temperature\", \"x\": 0.5, \"xanchor\": \"center\", \"xref\": \"paper\", \"y\": 0.7833333333333333, \"yanchor\": \"bottom\", \"yref\": \"paper\"}, {\"font\": {\"size\": 16}, \"showarrow\": false, \"text\": \"Prediction\", \"x\": 0.5, \"xanchor\": \"center\", \"xref\": \"paper\", \"y\": 0.5666666666666667, \"yanchor\": \"bottom\", \"yref\": \"paper\"}, {\"font\": {\"size\": 16}, \"showarrow\": false, \"text\": \"ppm error\", \"x\": 0.5, \"xanchor\": \"center\", \"xref\": \"paper\", \"y\": 0.35, \"yanchor\": \"bottom\", \"yref\": \"paper\"}], \"height\": 800, \"legend\": {\"tracegroupgap\": 135}, \"template\": {\"data\": {\"bar\": [{\"error_x\": {\"color\": \"#2a3f5f\"}, \"error_y\": {\"color\": \"#2a3f5f\"}, \"marker\": {\"line\": {\"color\": \"#E5ECF6\", \"width\": 0.5}}, \"type\": \"bar\"}], \"barpolar\": [{\"marker\": {\"line\": {\"color\": \"#E5ECF6\", \"width\": 0.5}}, \"type\": \"barpolar\"}], \"carpet\": [{\"aaxis\": {\"endlinecolor\": \"#2a3f5f\", \"gridcolor\": \"white\", \"linecolor\": \"white\", \"minorgridcolor\": \"white\", \"startlinecolor\": \"#2a3f5f\"}, \"baxis\": {\"endlinecolor\": \"#2a3f5f\", \"gridcolor\": \"white\", \"linecolor\": \"white\", \"minorgridcolor\": \"white\", \"startlinecolor\": \"#2a3f5f\"}, \"type\": \"carpet\"}], \"choropleth\": [{\"colorbar\": {\"outlinewidth\": 0, \"ticks\": \"\"}, \"type\": \"choropleth\"}], \"contour\": [{\"colorbar\": {\"outlinewidth\": 0, \"ticks\": \"\"}, \"colorscale\": [[0.0, \"#0d0887\"], [0.1111111111111111, \"#46039f\"], [0.2222222222222222, \"#7201a8\"], [0.3333333333333333, \"#9c179e\"], [0.4444444444444444, \"#bd3786\"], [0.5555555555555556, \"#d8576b\"], [0.6666666666666666, \"#ed7953\"], [0.7777777777777778, \"#fb9f3a\"], [0.8888888888888888, \"#fdca26\"], [1.0, \"#f0f921\"]], \"type\": \"contour\"}], \"contourcarpet\": [{\"colorbar\": {\"outlinewidth\": 0, \"ticks\": \"\"}, \"type\": \"contourcarpet\"}], \"heatmap\": [{\"colorbar\": {\"outlinewidth\": 0, \"ticks\": \"\"}, \"colorscale\": [[0.0, \"#0d0887\"], [0.1111111111111111, \"#46039f\"], [0.2222222222222222, \"#7201a8\"], [0.3333333333333333, \"#9c179e\"], [0.4444444444444444, \"#bd3786\"], [0.5555555555555556, \"#d8576b\"], [0.6666666666666666, \"#ed7953\"], [0.7777777777777778, \"#fb9f3a\"], [0.8888888888888888, \"#fdca26\"], [1.0, \"#f0f921\"]], \"type\": \"heatmap\"}], \"heatmapgl\": [{\"colorbar\": {\"outlinewidth\": 0, \"ticks\": \"\"}, \"colorscale\": [[0.0, \"#0d0887\"], [0.1111111111111111, \"#46039f\"], [0.2222222222222222, \"#7201a8\"], [0.3333333333333333, \"#9c179e\"], [0.4444444444444444, \"#bd3786\"], [0.5555555555555556, \"#d8576b\"], [0.6666666666666666, \"#ed7953\"], [0.7777777777777778, \"#fb9f3a\"], [0.8888888888888888, \"#fdca26\"], [1.0, \"#f0f921\"]], \"type\": \"heatmapgl\"}], \"histogram\": [{\"marker\": {\"colorbar\": {\"outlinewidth\": 0, \"ticks\": \"\"}}, \"type\": \"histogram\"}], \"histogram2d\": [{\"colorbar\": {\"outlinewidth\": 0, \"ticks\": \"\"}, \"colorscale\": [[0.0, \"#0d0887\"], [0.1111111111111111, \"#46039f\"], [0.2222222222222222, \"#7201a8\"], [0.3333333333333333, \"#9c179e\"], [0.4444444444444444, \"#bd3786\"], [0.5555555555555556, \"#d8576b\"], [0.6666666666666666, \"#ed7953\"], [0.7777777777777778, \"#fb9f3a\"], [0.8888888888888888, \"#fdca26\"], [1.0, \"#f0f921\"]], \"type\": \"histogram2d\"}], \"histogram2dcontour\": [{\"colorbar\": {\"outlinewidth\": 0, \"ticks\": \"\"}, \"colorscale\": [[0.0, \"#0d0887\"], [0.1111111111111111, \"#46039f\"], [0.2222222222222222, \"#7201a8\"], [0.3333333333333333, \"#9c179e\"], [0.4444444444444444, \"#bd3786\"], [0.5555555555555556, \"#d8576b\"], [0.6666666666666666, \"#ed7953\"], [0.7777777777777778, \"#fb9f3a\"], [0.8888888888888888, \"#fdca26\"], [1.0, \"#f0f921\"]], \"type\": \"histogram2dcontour\"}], \"mesh3d\": [{\"colorbar\": {\"outlinewidth\": 0, \"ticks\": \"\"}, \"type\": \"mesh3d\"}], \"parcoords\": [{\"line\": {\"colorbar\": {\"outlinewidth\": 0, \"ticks\": \"\"}}, \"type\": \"parcoords\"}], \"pie\": [{\"automargin\": true, \"type\": \"pie\"}], \"scatter\": [{\"marker\": {\"colorbar\": {\"outlinewidth\": 0, \"ticks\": \"\"}}, \"type\": \"scatter\"}], \"scatter3d\": [{\"line\": {\"colorbar\": {\"outlinewidth\": 0, \"ticks\": \"\"}}, \"marker\": {\"colorbar\": {\"outlinewidth\": 0, \"ticks\": \"\"}}, \"type\": \"scatter3d\"}], \"scattercarpet\": [{\"marker\": {\"colorbar\": {\"outlinewidth\": 0, \"ticks\": \"\"}}, \"type\": \"scattercarpet\"}], \"scattergeo\": [{\"marker\": {\"colorbar\": {\"outlinewidth\": 0, \"ticks\": \"\"}}, \"type\": \"scattergeo\"}], \"scattergl\": [{\"marker\": {\"colorbar\": {\"outlinewidth\": 0, \"ticks\": \"\"}}, \"type\": \"scattergl\"}], \"scattermapbox\": [{\"marker\": {\"colorbar\": {\"outlinewidth\": 0, \"ticks\": \"\"}}, \"type\": \"scattermapbox\"}], \"scatterpolar\": [{\"marker\": {\"colorbar\": {\"outlinewidth\": 0, \"ticks\": \"\"}}, \"type\": \"scatterpolar\"}], \"scatterpolargl\": [{\"marker\": {\"colorbar\": {\"outlinewidth\": 0, \"ticks\": \"\"}}, \"type\": \"scatterpolargl\"}], \"scatterternary\": [{\"marker\": {\"colorbar\": {\"outlinewidth\": 0, \"ticks\": \"\"}}, \"type\": \"scatterternary\"}], \"surface\": [{\"colorbar\": {\"outlinewidth\": 0, \"ticks\": \"\"}, \"colorscale\": [[0.0, \"#0d0887\"], [0.1111111111111111, \"#46039f\"], [0.2222222222222222, \"#7201a8\"], [0.3333333333333333, \"#9c179e\"], [0.4444444444444444, \"#bd3786\"], [0.5555555555555556, \"#d8576b\"], [0.6666666666666666, \"#ed7953\"], [0.7777777777777778, \"#fb9f3a\"], [0.8888888888888888, \"#fdca26\"], [1.0, \"#f0f921\"]], \"type\": \"surface\"}], \"table\": [{\"cells\": {\"fill\": {\"color\": \"#EBF0F8\"}, \"line\": {\"color\": \"white\"}}, \"header\": {\"fill\": {\"color\": \"#C8D4E3\"}, \"line\": {\"color\": \"white\"}}, \"type\": \"table\"}]}, \"layout\": {\"annotationdefaults\": {\"arrowcolor\": \"#2a3f5f\", \"arrowhead\": 0, \"arrowwidth\": 1}, \"autotypenumbers\": \"strict\", \"coloraxis\": {\"colorbar\": {\"outlinewidth\": 0, \"ticks\": \"\"}}, \"colorscale\": {\"diverging\": [[0, \"#8e0152\"], [0.1, \"#c51b7d\"], [0.2, \"#de77ae\"], [0.3, \"#f1b6da\"], [0.4, \"#fde0ef\"], [0.5, \"#f7f7f7\"], [0.6, \"#e6f5d0\"], [0.7, \"#b8e186\"], [0.8, \"#7fbc41\"], [0.9, \"#4d9221\"], [1, \"#276419\"]], \"sequential\": [[0.0, \"#0d0887\"], [0.1111111111111111, \"#46039f\"], [0.2222222222222222, \"#7201a8\"], [0.3333333333333333, \"#9c179e\"], [0.4444444444444444, \"#bd3786\"], [0.5555555555555556, \"#d8576b\"], [0.6666666666666666, \"#ed7953\"], [0.7777777777777778, \"#fb9f3a\"], [0.8888888888888888, \"#fdca26\"], [1.0, \"#f0f921\"]], \"sequentialminus\": [[0.0, \"#0d0887\"], [0.1111111111111111, \"#46039f\"], [0.2222222222222222, \"#7201a8\"], [0.3333333333333333, \"#9c179e\"], [0.4444444444444444, \"#bd3786\"], [0.5555555555555556, \"#d8576b\"], [0.6666666666666666, \"#ed7953\"], [0.7777777777777778, \"#fb9f3a\"], [0.8888888888888888, \"#fdca26\"], [1.0, \"#f0f921\"]]}, \"colorway\": [\"#636efa\", \"#EF553B\", \"#00cc96\", \"#ab63fa\", \"#FFA15A\", \"#19d3f3\", \"#FF6692\", \"#B6E880\", \"#FF97FF\", \"#FECB52\"], \"font\": {\"color\": \"#2a3f5f\"}, \"geo\": {\"bgcolor\": \"white\", \"lakecolor\": \"white\", \"landcolor\": \"#E5ECF6\", \"showlakes\": true, \"showland\": true, \"subunitcolor\": \"white\"}, \"hoverlabel\": {\"align\": \"left\"}, \"hovermode\": \"closest\", \"mapbox\": {\"style\": \"light\"}, \"paper_bgcolor\": \"white\", \"plot_bgcolor\": \"#E5ECF6\", \"polar\": {\"angularaxis\": {\"gridcolor\": \"white\", \"linecolor\": \"white\", \"ticks\": \"\"}, \"bgcolor\": \"#E5ECF6\", \"radialaxis\": {\"gridcolor\": \"white\", \"linecolor\": \"white\", \"ticks\": \"\"}}, \"scene\": {\"xaxis\": {\"backgroundcolor\": \"#E5ECF6\", \"gridcolor\": \"white\", \"gridwidth\": 2, \"linecolor\": \"white\", \"showbackground\": true, \"ticks\": \"\", \"zerolinecolor\": \"white\"}, \"yaxis\": {\"backgroundcolor\": \"#E5ECF6\", \"gridcolor\": \"white\", \"gridwidth\": 2, \"linecolor\": \"white\", \"showbackground\": true, \"ticks\": \"\", \"zerolinecolor\": \"white\"}, \"zaxis\": {\"backgroundcolor\": \"#E5ECF6\", \"gridcolor\": \"white\", \"gridwidth\": 2, \"linecolor\": \"white\", \"showbackground\": true, \"ticks\": \"\", \"zerolinecolor\": \"white\"}}, \"shapedefaults\": {\"line\": {\"color\": \"#2a3f5f\"}}, \"ternary\": {\"aaxis\": {\"gridcolor\": \"white\", \"linecolor\": \"white\", \"ticks\": \"\"}, \"baxis\": {\"gridcolor\": \"white\", \"linecolor\": \"white\", \"ticks\": \"\"}, \"bgcolor\": \"#E5ECF6\", \"caxis\": {\"gridcolor\": \"white\", \"linecolor\": \"white\", \"ticks\": \"\"}}, \"title\": {\"x\": 0.05}, \"xaxis\": {\"automargin\": true, \"gridcolor\": \"white\", \"linecolor\": \"white\", \"ticks\": \"\", \"title\": {\"standoff\": 15}, \"zerolinecolor\": \"white\", \"zerolinewidth\": 2}, \"yaxis\": {\"automargin\": true, \"gridcolor\": \"white\", \"linecolor\": \"white\", \"ticks\": \"\", \"title\": {\"standoff\": 15}, \"zerolinecolor\": \"white\", \"zerolinewidth\": 2}}}, \"title\": {\"text\": \"(29%~88%)(Filtered_Z_score_583nm #1)(shift 0)(RMSE=2.61948)\"}, \"width\": 900, \"xaxis\": {\"anchor\": \"y\", \"domain\": [0.0, 1.0]}, \"xaxis2\": {\"anchor\": \"y2\", \"domain\": [0.0, 1.0]}, \"xaxis3\": {\"anchor\": \"y3\", \"domain\": [0.0, 1.0]}, \"xaxis4\": {\"anchor\": \"y4\", \"domain\": [0.0, 1.0]}, \"yaxis\": {\"anchor\": \"x\", \"domain\": [0.8833333333333333, 1.0]}, \"yaxis2\": {\"anchor\": \"x2\", \"domain\": [0.6666666666666666, 0.7833333333333333]}, \"yaxis3\": {\"anchor\": \"x3\", \"domain\": [0.44999999999999996, 0.5666666666666667]}, \"yaxis4\": {\"anchor\": \"x4\", \"domain\": [0.0, 0.35], \"range\": [-12.0, 5.2]}},                        {\"responsive\": true}                    ).then(function(){\n",
       "                            \n",
       "var gd = document.getElementById('65557749-16a2-47ac-8de1-af17f7ca0406');\n",
       "var x = new MutationObserver(function (mutations, observer) {{\n",
       "        var display = window.getComputedStyle(gd).display;\n",
       "        if (!display || display === 'none') {{\n",
       "            console.log([gd, 'removed!']);\n",
       "            Plotly.purge(gd);\n",
       "            observer.disconnect();\n",
       "        }}\n",
       "}});\n",
       "\n",
       "// Listen for the removal of the full notebook cells\n",
       "var notebookContainer = gd.closest('#notebook-container');\n",
       "if (notebookContainer) {{\n",
       "    x.observe(notebookContainer, {childList: true});\n",
       "}}\n",
       "\n",
       "// Listen for the clearing of the current output cell\n",
       "var outputEl = gd.closest('.output');\n",
       "if (outputEl) {{\n",
       "    x.observe(outputEl, {childList: true});\n",
       "}}\n",
       "\n",
       "                        })                };                });            </script>        </div>"
      ]
     },
     "metadata": {},
     "output_type": "display_data"
    },
    {
     "name": "stdout",
     "output_type": "stream",
     "text": [
      "sensor_number: #20221107095155\n"
     ]
    },
    {
     "data": {
      "application/vnd.plotly.v1+json": {
       "config": {
        "plotlyServerURL": "https://plot.ly"
       },
       "data": [
        {
         "name": "Humidity",
         "type": "scatter",
         "xaxis": "x",
         "y": [
          30.6427001953125,
          30.66558837890625,
          30.52978515625,
          30.57403564453125,
          30.5938720703125,
          29.9102783203125,
          29.96673583984375,
          29.949951171875,
          29.87518310546875,
          29.931640625,
          29.79278564453125,
          29.8492431640625,
          29.66766357421875,
          29.736328125,
          29.80194091796875,
          29.54864501953125,
          29.620361328125,
          29.67376708984375,
          29.6173095703125,
          29.60968017578125,
          59.1033935546875,
          58.91876220703125,
          59.0087890625,
          59.20257568359375,
          59.039306640625,
          59.7442626953125,
          59.89837646484375,
          59.66796875,
          59.77630615234375,
          59.8968505859375,
          60.22491455078125,
          60.2508544921875,
          60.10284423828125,
          60.247802734375,
          60.30731201171875,
          60.31341552734375,
          60.5194091796875,
          60.45989990234375,
          60.3302001953125,
          60.54840087890625,
          85.6048583984375,
          85.69183349609375,
          85.8978271484375,
          85.69488525390625,
          85.8062744140625,
          86.47003173828125,
          86.19384765625,
          86.25640869140625,
          86.48681640625,
          86.21063232421875,
          86.90338134765625,
          87.1795654296875,
          86.94915771484375,
          86.9720458984375,
          87.12005615234375,
          87.17193603515625,
          87.3321533203125,
          87.45880126953125,
          87.164306640625,
          87.34588623046875
         ],
         "yaxis": "y"
        },
        {
         "name": "Temperature",
         "type": "scatter",
         "xaxis": "x2",
         "y": [
          30.24887084960937,
          30.25642395019531,
          30.24383544921875,
          30.25138854980469,
          30.25390625,
          30.24887084960937,
          30.26145935058593,
          30.24887084960937,
          30.246353149414062,
          30.25390625,
          30.26649475097656,
          30.24887084960937,
          30.26145935058593,
          30.25390625,
          30.25642395019531,
          30.26145935058593,
          30.24887084960937,
          30.25138854980469,
          30.258941650390625,
          30.25642395019531,
          30.299224853515625,
          30.29670715332031,
          30.294189453125,
          30.30174255371093,
          30.294189453125,
          30.269012451171875,
          30.27656555175781,
          30.279083251953125,
          30.27656555175781,
          30.2740478515625,
          30.28160095214844,
          30.279083251953125,
          30.27153015136719,
          30.2740478515625,
          30.28160095214844,
          30.27153015136719,
          30.26397705078125,
          30.27656555175781,
          30.2740478515625,
          30.28160095214844,
          30.309295654296875,
          30.31684875488281,
          30.309295654296875,
          30.30174255371093,
          30.30426025390625,
          30.29167175292969,
          30.279083251953125,
          30.286636352539062,
          30.28411865234375,
          30.29167175292969,
          30.29167175292969,
          30.28915405273437,
          30.286636352539062,
          30.279083251953125,
          30.28160095214844,
          30.27153015136719,
          30.28411865234375,
          30.286636352539062,
          30.28915405273437,
          30.286636352539062
         ],
         "yaxis": "y2"
        },
        {
         "name": "ppm",
         "type": "scatter",
         "xaxis": "x3",
         "y": [
          0,
          0,
          0,
          0,
          0,
          9.974251931105169,
          10.0242481813864,
          10.012625157814472,
          9.988998349752462,
          9.975,
          39.99850005624789,
          39.99650030622321,
          40.00650105642167,
          39.975,
          40.0229988500575,
          59.980248271723774,
          59.99850003749906,
          60.0135030381836,
          60.0125,
          59.99925000937489,
          0,
          0,
          0,
          0,
          0,
          9.988124257766112,
          9.98575249331367,
          10.0125,
          10.011874257858883,
          10.000375014063028,
          40.0110030258321,
          39.99100202454448,
          40.01450072503626,
          40,
          39.999000024999376,
          59.99700014999251,
          59.99049952497624,
          59.984500774961255,
          60.01775155326092,
          59.99325075928958,
          0,
          0,
          0,
          0,
          0,
          9.999500024998753,
          9.9875,
          9.99875015623047,
          10.000250006250155,
          9.985627694807224,
          40.009999375039065,
          40.0114997125072,
          39.99500062492188,
          39.98949947497375,
          39.98600052498031,
          59.95575497756503,
          60.01550077503875,
          60,
          59.97574969687121,
          60.01174985312685
         ],
         "yaxis": "y3"
        },
        {
         "name": "pred_ppm",
         "type": "scatter",
         "xaxis": "x3",
         "y": [
          -8.803700384884301,
          -8.850062544179593,
          -8.84551505627039,
          -8.926206659209676,
          -8.933260033298549,
          4.624676949259625,
          4.597911953024161,
          4.59817729439159,
          4.70801701269635,
          4.6144504892926275,
          35.121099603619356,
          35.18199469104866,
          35.28786569644011,
          35.328122162746894,
          35.28464144537672,
          53.32202650509531,
          53.46932047029677,
          53.537645080118956,
          53.655503426047666,
          53.76097289182574,
          -6.57884525888127,
          -6.5818693640144055,
          -6.560174330447147,
          -6.691685875236836,
          -6.882384807585208,
          4.847806323376363,
          4.740237997909664,
          4.810598773396703,
          4.782833953857874,
          4.652217103348907,
          34.07850029412653,
          34.04854317242332,
          34.13957160105723,
          33.979891439099404,
          34.03521300193107,
          52.013978554506124,
          51.88156720641313,
          52.10468154116778,
          52.192619522828544,
          52.24481750548693,
          -4.6908499091896285,
          -4.6482201100058305,
          -4.514813543552663,
          -4.78108460769746,
          -4.760549898527451,
          6.449345588351083,
          6.758965031349488,
          6.760291131890914,
          6.5093107731103,
          6.926614905083902,
          35.71245521483469,
          35.74051077426661,
          36.17195395036842,
          36.18456163175075,
          36.25158624922714,
          55.27141912398494,
          55.31902247960477,
          55.0353814582164,
          55.447643658288754,
          54.98427679036141
         ],
         "yaxis": "y3"
        },
        {
         "name": "ppm error",
         "text": [
          "-8.9",
          "-5.4",
          "-4.8",
          "-6.5",
          "-6.7",
          "-5.2",
          "-5.9",
          "-7.9",
          "-4.7",
          "-3.3",
          "-4.0",
          "-4.8"
         ],
         "textposition": "auto",
         "type": "bar",
         "xaxis": "x4",
         "y": [
          -8.9,
          -5.4,
          -4.8,
          -6.5,
          -6.7,
          -5.2,
          -5.9,
          -7.9,
          -4.7,
          -3.3,
          -4,
          -4.8
         ],
         "yaxis": "y4"
        }
       ],
       "layout": {
        "annotations": [
         {
          "font": {
           "size": 16
          },
          "showarrow": false,
          "text": "Humidity",
          "x": 0.5,
          "xanchor": "center",
          "xref": "paper",
          "y": 1,
          "yanchor": "bottom",
          "yref": "paper"
         },
         {
          "font": {
           "size": 16
          },
          "showarrow": false,
          "text": "Temperature",
          "x": 0.5,
          "xanchor": "center",
          "xref": "paper",
          "y": 0.7833333333333333,
          "yanchor": "bottom",
          "yref": "paper"
         },
         {
          "font": {
           "size": 16
          },
          "showarrow": false,
          "text": "Prediction",
          "x": 0.5,
          "xanchor": "center",
          "xref": "paper",
          "y": 0.5666666666666667,
          "yanchor": "bottom",
          "yref": "paper"
         },
         {
          "font": {
           "size": 16
          },
          "showarrow": false,
          "text": "ppm error",
          "x": 0.5,
          "xanchor": "center",
          "xref": "paper",
          "y": 0.35,
          "yanchor": "bottom",
          "yref": "paper"
         }
        ],
        "height": 800,
        "legend": {
         "tracegroupgap": 135
        },
        "template": {
         "data": {
          "bar": [
           {
            "error_x": {
             "color": "#2a3f5f"
            },
            "error_y": {
             "color": "#2a3f5f"
            },
            "marker": {
             "line": {
              "color": "#E5ECF6",
              "width": 0.5
             }
            },
            "type": "bar"
           }
          ],
          "barpolar": [
           {
            "marker": {
             "line": {
              "color": "#E5ECF6",
              "width": 0.5
             }
            },
            "type": "barpolar"
           }
          ],
          "carpet": [
           {
            "aaxis": {
             "endlinecolor": "#2a3f5f",
             "gridcolor": "white",
             "linecolor": "white",
             "minorgridcolor": "white",
             "startlinecolor": "#2a3f5f"
            },
            "baxis": {
             "endlinecolor": "#2a3f5f",
             "gridcolor": "white",
             "linecolor": "white",
             "minorgridcolor": "white",
             "startlinecolor": "#2a3f5f"
            },
            "type": "carpet"
           }
          ],
          "choropleth": [
           {
            "colorbar": {
             "outlinewidth": 0,
             "ticks": ""
            },
            "type": "choropleth"
           }
          ],
          "contour": [
           {
            "colorbar": {
             "outlinewidth": 0,
             "ticks": ""
            },
            "colorscale": [
             [
              0,
              "#0d0887"
             ],
             [
              0.1111111111111111,
              "#46039f"
             ],
             [
              0.2222222222222222,
              "#7201a8"
             ],
             [
              0.3333333333333333,
              "#9c179e"
             ],
             [
              0.4444444444444444,
              "#bd3786"
             ],
             [
              0.5555555555555556,
              "#d8576b"
             ],
             [
              0.6666666666666666,
              "#ed7953"
             ],
             [
              0.7777777777777778,
              "#fb9f3a"
             ],
             [
              0.8888888888888888,
              "#fdca26"
             ],
             [
              1,
              "#f0f921"
             ]
            ],
            "type": "contour"
           }
          ],
          "contourcarpet": [
           {
            "colorbar": {
             "outlinewidth": 0,
             "ticks": ""
            },
            "type": "contourcarpet"
           }
          ],
          "heatmap": [
           {
            "colorbar": {
             "outlinewidth": 0,
             "ticks": ""
            },
            "colorscale": [
             [
              0,
              "#0d0887"
             ],
             [
              0.1111111111111111,
              "#46039f"
             ],
             [
              0.2222222222222222,
              "#7201a8"
             ],
             [
              0.3333333333333333,
              "#9c179e"
             ],
             [
              0.4444444444444444,
              "#bd3786"
             ],
             [
              0.5555555555555556,
              "#d8576b"
             ],
             [
              0.6666666666666666,
              "#ed7953"
             ],
             [
              0.7777777777777778,
              "#fb9f3a"
             ],
             [
              0.8888888888888888,
              "#fdca26"
             ],
             [
              1,
              "#f0f921"
             ]
            ],
            "type": "heatmap"
           }
          ],
          "heatmapgl": [
           {
            "colorbar": {
             "outlinewidth": 0,
             "ticks": ""
            },
            "colorscale": [
             [
              0,
              "#0d0887"
             ],
             [
              0.1111111111111111,
              "#46039f"
             ],
             [
              0.2222222222222222,
              "#7201a8"
             ],
             [
              0.3333333333333333,
              "#9c179e"
             ],
             [
              0.4444444444444444,
              "#bd3786"
             ],
             [
              0.5555555555555556,
              "#d8576b"
             ],
             [
              0.6666666666666666,
              "#ed7953"
             ],
             [
              0.7777777777777778,
              "#fb9f3a"
             ],
             [
              0.8888888888888888,
              "#fdca26"
             ],
             [
              1,
              "#f0f921"
             ]
            ],
            "type": "heatmapgl"
           }
          ],
          "histogram": [
           {
            "marker": {
             "colorbar": {
              "outlinewidth": 0,
              "ticks": ""
             }
            },
            "type": "histogram"
           }
          ],
          "histogram2d": [
           {
            "colorbar": {
             "outlinewidth": 0,
             "ticks": ""
            },
            "colorscale": [
             [
              0,
              "#0d0887"
             ],
             [
              0.1111111111111111,
              "#46039f"
             ],
             [
              0.2222222222222222,
              "#7201a8"
             ],
             [
              0.3333333333333333,
              "#9c179e"
             ],
             [
              0.4444444444444444,
              "#bd3786"
             ],
             [
              0.5555555555555556,
              "#d8576b"
             ],
             [
              0.6666666666666666,
              "#ed7953"
             ],
             [
              0.7777777777777778,
              "#fb9f3a"
             ],
             [
              0.8888888888888888,
              "#fdca26"
             ],
             [
              1,
              "#f0f921"
             ]
            ],
            "type": "histogram2d"
           }
          ],
          "histogram2dcontour": [
           {
            "colorbar": {
             "outlinewidth": 0,
             "ticks": ""
            },
            "colorscale": [
             [
              0,
              "#0d0887"
             ],
             [
              0.1111111111111111,
              "#46039f"
             ],
             [
              0.2222222222222222,
              "#7201a8"
             ],
             [
              0.3333333333333333,
              "#9c179e"
             ],
             [
              0.4444444444444444,
              "#bd3786"
             ],
             [
              0.5555555555555556,
              "#d8576b"
             ],
             [
              0.6666666666666666,
              "#ed7953"
             ],
             [
              0.7777777777777778,
              "#fb9f3a"
             ],
             [
              0.8888888888888888,
              "#fdca26"
             ],
             [
              1,
              "#f0f921"
             ]
            ],
            "type": "histogram2dcontour"
           }
          ],
          "mesh3d": [
           {
            "colorbar": {
             "outlinewidth": 0,
             "ticks": ""
            },
            "type": "mesh3d"
           }
          ],
          "parcoords": [
           {
            "line": {
             "colorbar": {
              "outlinewidth": 0,
              "ticks": ""
             }
            },
            "type": "parcoords"
           }
          ],
          "pie": [
           {
            "automargin": true,
            "type": "pie"
           }
          ],
          "scatter": [
           {
            "marker": {
             "colorbar": {
              "outlinewidth": 0,
              "ticks": ""
             }
            },
            "type": "scatter"
           }
          ],
          "scatter3d": [
           {
            "line": {
             "colorbar": {
              "outlinewidth": 0,
              "ticks": ""
             }
            },
            "marker": {
             "colorbar": {
              "outlinewidth": 0,
              "ticks": ""
             }
            },
            "type": "scatter3d"
           }
          ],
          "scattercarpet": [
           {
            "marker": {
             "colorbar": {
              "outlinewidth": 0,
              "ticks": ""
             }
            },
            "type": "scattercarpet"
           }
          ],
          "scattergeo": [
           {
            "marker": {
             "colorbar": {
              "outlinewidth": 0,
              "ticks": ""
             }
            },
            "type": "scattergeo"
           }
          ],
          "scattergl": [
           {
            "marker": {
             "colorbar": {
              "outlinewidth": 0,
              "ticks": ""
             }
            },
            "type": "scattergl"
           }
          ],
          "scattermapbox": [
           {
            "marker": {
             "colorbar": {
              "outlinewidth": 0,
              "ticks": ""
             }
            },
            "type": "scattermapbox"
           }
          ],
          "scatterpolar": [
           {
            "marker": {
             "colorbar": {
              "outlinewidth": 0,
              "ticks": ""
             }
            },
            "type": "scatterpolar"
           }
          ],
          "scatterpolargl": [
           {
            "marker": {
             "colorbar": {
              "outlinewidth": 0,
              "ticks": ""
             }
            },
            "type": "scatterpolargl"
           }
          ],
          "scatterternary": [
           {
            "marker": {
             "colorbar": {
              "outlinewidth": 0,
              "ticks": ""
             }
            },
            "type": "scatterternary"
           }
          ],
          "surface": [
           {
            "colorbar": {
             "outlinewidth": 0,
             "ticks": ""
            },
            "colorscale": [
             [
              0,
              "#0d0887"
             ],
             [
              0.1111111111111111,
              "#46039f"
             ],
             [
              0.2222222222222222,
              "#7201a8"
             ],
             [
              0.3333333333333333,
              "#9c179e"
             ],
             [
              0.4444444444444444,
              "#bd3786"
             ],
             [
              0.5555555555555556,
              "#d8576b"
             ],
             [
              0.6666666666666666,
              "#ed7953"
             ],
             [
              0.7777777777777778,
              "#fb9f3a"
             ],
             [
              0.8888888888888888,
              "#fdca26"
             ],
             [
              1,
              "#f0f921"
             ]
            ],
            "type": "surface"
           }
          ],
          "table": [
           {
            "cells": {
             "fill": {
              "color": "#EBF0F8"
             },
             "line": {
              "color": "white"
             }
            },
            "header": {
             "fill": {
              "color": "#C8D4E3"
             },
             "line": {
              "color": "white"
             }
            },
            "type": "table"
           }
          ]
         },
         "layout": {
          "annotationdefaults": {
           "arrowcolor": "#2a3f5f",
           "arrowhead": 0,
           "arrowwidth": 1
          },
          "autotypenumbers": "strict",
          "coloraxis": {
           "colorbar": {
            "outlinewidth": 0,
            "ticks": ""
           }
          },
          "colorscale": {
           "diverging": [
            [
             0,
             "#8e0152"
            ],
            [
             0.1,
             "#c51b7d"
            ],
            [
             0.2,
             "#de77ae"
            ],
            [
             0.3,
             "#f1b6da"
            ],
            [
             0.4,
             "#fde0ef"
            ],
            [
             0.5,
             "#f7f7f7"
            ],
            [
             0.6,
             "#e6f5d0"
            ],
            [
             0.7,
             "#b8e186"
            ],
            [
             0.8,
             "#7fbc41"
            ],
            [
             0.9,
             "#4d9221"
            ],
            [
             1,
             "#276419"
            ]
           ],
           "sequential": [
            [
             0,
             "#0d0887"
            ],
            [
             0.1111111111111111,
             "#46039f"
            ],
            [
             0.2222222222222222,
             "#7201a8"
            ],
            [
             0.3333333333333333,
             "#9c179e"
            ],
            [
             0.4444444444444444,
             "#bd3786"
            ],
            [
             0.5555555555555556,
             "#d8576b"
            ],
            [
             0.6666666666666666,
             "#ed7953"
            ],
            [
             0.7777777777777778,
             "#fb9f3a"
            ],
            [
             0.8888888888888888,
             "#fdca26"
            ],
            [
             1,
             "#f0f921"
            ]
           ],
           "sequentialminus": [
            [
             0,
             "#0d0887"
            ],
            [
             0.1111111111111111,
             "#46039f"
            ],
            [
             0.2222222222222222,
             "#7201a8"
            ],
            [
             0.3333333333333333,
             "#9c179e"
            ],
            [
             0.4444444444444444,
             "#bd3786"
            ],
            [
             0.5555555555555556,
             "#d8576b"
            ],
            [
             0.6666666666666666,
             "#ed7953"
            ],
            [
             0.7777777777777778,
             "#fb9f3a"
            ],
            [
             0.8888888888888888,
             "#fdca26"
            ],
            [
             1,
             "#f0f921"
            ]
           ]
          },
          "colorway": [
           "#636efa",
           "#EF553B",
           "#00cc96",
           "#ab63fa",
           "#FFA15A",
           "#19d3f3",
           "#FF6692",
           "#B6E880",
           "#FF97FF",
           "#FECB52"
          ],
          "font": {
           "color": "#2a3f5f"
          },
          "geo": {
           "bgcolor": "white",
           "lakecolor": "white",
           "landcolor": "#E5ECF6",
           "showlakes": true,
           "showland": true,
           "subunitcolor": "white"
          },
          "hoverlabel": {
           "align": "left"
          },
          "hovermode": "closest",
          "mapbox": {
           "style": "light"
          },
          "paper_bgcolor": "white",
          "plot_bgcolor": "#E5ECF6",
          "polar": {
           "angularaxis": {
            "gridcolor": "white",
            "linecolor": "white",
            "ticks": ""
           },
           "bgcolor": "#E5ECF6",
           "radialaxis": {
            "gridcolor": "white",
            "linecolor": "white",
            "ticks": ""
           }
          },
          "scene": {
           "xaxis": {
            "backgroundcolor": "#E5ECF6",
            "gridcolor": "white",
            "gridwidth": 2,
            "linecolor": "white",
            "showbackground": true,
            "ticks": "",
            "zerolinecolor": "white"
           },
           "yaxis": {
            "backgroundcolor": "#E5ECF6",
            "gridcolor": "white",
            "gridwidth": 2,
            "linecolor": "white",
            "showbackground": true,
            "ticks": "",
            "zerolinecolor": "white"
           },
           "zaxis": {
            "backgroundcolor": "#E5ECF6",
            "gridcolor": "white",
            "gridwidth": 2,
            "linecolor": "white",
            "showbackground": true,
            "ticks": "",
            "zerolinecolor": "white"
           }
          },
          "shapedefaults": {
           "line": {
            "color": "#2a3f5f"
           }
          },
          "ternary": {
           "aaxis": {
            "gridcolor": "white",
            "linecolor": "white",
            "ticks": ""
           },
           "baxis": {
            "gridcolor": "white",
            "linecolor": "white",
            "ticks": ""
           },
           "bgcolor": "#E5ECF6",
           "caxis": {
            "gridcolor": "white",
            "linecolor": "white",
            "ticks": ""
           }
          },
          "title": {
           "x": 0.05
          },
          "xaxis": {
           "automargin": true,
           "gridcolor": "white",
           "linecolor": "white",
           "ticks": "",
           "title": {
            "standoff": 15
           },
           "zerolinecolor": "white",
           "zerolinewidth": 2
          },
          "yaxis": {
           "automargin": true,
           "gridcolor": "white",
           "linecolor": "white",
           "ticks": "",
           "title": {
            "standoff": 15
           },
           "zerolinecolor": "white",
           "zerolinewidth": 2
          }
         }
        },
        "title": {
         "text": "(29%~87%)(Filtered_Z_score_583nm #1)(shift 0)(RMSE=5.8683)"
        },
        "width": 900,
        "xaxis": {
         "anchor": "y",
         "domain": [
          0,
          1
         ]
        },
        "xaxis2": {
         "anchor": "y2",
         "domain": [
          0,
          1
         ]
        },
        "xaxis3": {
         "anchor": "y3",
         "domain": [
          0,
          1
         ]
        },
        "xaxis4": {
         "anchor": "y4",
         "domain": [
          0,
          1
         ]
        },
        "yaxis": {
         "anchor": "x",
         "domain": [
          0.8833333333333333,
          1
         ]
        },
        "yaxis2": {
         "anchor": "x2",
         "domain": [
          0.6666666666666666,
          0.7833333333333333
         ]
        },
        "yaxis3": {
         "anchor": "x3",
         "domain": [
          0.44999999999999996,
          0.5666666666666667
         ]
        },
        "yaxis4": {
         "anchor": "x4",
         "domain": [
          0,
          0.35
         ],
         "range": [
          -14.9,
          2.7
         ]
        }
       }
      },
      "text/html": [
       "<div>                            <div id=\"377c9cdf-ca4e-4574-8a9b-45318a06f316\" class=\"plotly-graph-div\" style=\"height:800px; width:900px;\"></div>            <script type=\"text/javascript\">                require([\"plotly\"], function(Plotly) {                    window.PLOTLYENV=window.PLOTLYENV || {};                                    if (document.getElementById(\"377c9cdf-ca4e-4574-8a9b-45318a06f316\")) {                    Plotly.newPlot(                        \"377c9cdf-ca4e-4574-8a9b-45318a06f316\",                        [{\"name\": \"Humidity\", \"type\": \"scatter\", \"xaxis\": \"x\", \"y\": [30.6427001953125, 30.66558837890625, 30.52978515625, 30.57403564453125, 30.5938720703125, 29.9102783203125, 29.96673583984375, 29.949951171875, 29.87518310546875, 29.931640625, 29.79278564453125, 29.8492431640625, 29.66766357421875, 29.736328125, 29.80194091796875, 29.54864501953125, 29.620361328125, 29.67376708984375, 29.6173095703125, 29.60968017578125, 59.1033935546875, 58.91876220703125, 59.0087890625, 59.20257568359375, 59.039306640625, 59.7442626953125, 59.89837646484375, 59.66796875, 59.77630615234375, 59.8968505859375, 60.22491455078125, 60.2508544921875, 60.10284423828125, 60.247802734375, 60.30731201171875, 60.31341552734375, 60.5194091796875, 60.45989990234375, 60.3302001953125, 60.54840087890625, 85.6048583984375, 85.69183349609375, 85.8978271484375, 85.69488525390625, 85.8062744140625, 86.47003173828125, 86.19384765625, 86.25640869140625, 86.48681640625, 86.21063232421875, 86.90338134765625, 87.1795654296875, 86.94915771484375, 86.9720458984375, 87.12005615234375, 87.17193603515625, 87.3321533203125, 87.45880126953125, 87.164306640625, 87.34588623046875], \"yaxis\": \"y\"}, {\"name\": \"Temperature\", \"type\": \"scatter\", \"xaxis\": \"x2\", \"y\": [30.24887084960937, 30.25642395019531, 30.24383544921875, 30.25138854980469, 30.25390625, 30.24887084960937, 30.26145935058593, 30.24887084960937, 30.246353149414062, 30.25390625, 30.26649475097656, 30.24887084960937, 30.26145935058593, 30.25390625, 30.25642395019531, 30.26145935058593, 30.24887084960937, 30.25138854980469, 30.258941650390625, 30.25642395019531, 30.299224853515625, 30.29670715332031, 30.294189453125, 30.30174255371093, 30.294189453125, 30.269012451171875, 30.27656555175781, 30.279083251953125, 30.27656555175781, 30.2740478515625, 30.28160095214844, 30.279083251953125, 30.27153015136719, 30.2740478515625, 30.28160095214844, 30.27153015136719, 30.26397705078125, 30.27656555175781, 30.2740478515625, 30.28160095214844, 30.309295654296875, 30.31684875488281, 30.309295654296875, 30.30174255371093, 30.30426025390625, 30.29167175292969, 30.279083251953125, 30.286636352539062, 30.28411865234375, 30.29167175292969, 30.29167175292969, 30.28915405273437, 30.286636352539062, 30.279083251953125, 30.28160095214844, 30.27153015136719, 30.28411865234375, 30.286636352539062, 30.28915405273437, 30.286636352539062], \"yaxis\": \"y2\"}, {\"name\": \"ppm\", \"type\": \"scatter\", \"xaxis\": \"x3\", \"y\": [0.0, 0.0, 0.0, 0.0, 0.0, 9.974251931105169, 10.0242481813864, 10.012625157814472, 9.988998349752462, 9.975, 39.99850005624789, 39.99650030622321, 40.00650105642167, 39.975, 40.0229988500575, 59.980248271723774, 59.99850003749906, 60.0135030381836, 60.0125, 59.99925000937489, 0.0, 0.0, 0.0, 0.0, 0.0, 9.988124257766112, 9.98575249331367, 10.0125, 10.011874257858883, 10.000375014063028, 40.0110030258321, 39.99100202454448, 40.01450072503626, 40.0, 39.999000024999376, 59.99700014999251, 59.99049952497624, 59.984500774961255, 60.01775155326092, 59.99325075928958, 0.0, 0.0, 0.0, 0.0, 0.0, 9.999500024998753, 9.9875, 9.99875015623047, 10.000250006250155, 9.985627694807224, 40.009999375039065, 40.0114997125072, 39.99500062492188, 39.98949947497375, 39.98600052498031, 59.95575497756503, 60.01550077503875, 60.0, 59.97574969687121, 60.01174985312685], \"yaxis\": \"y3\"}, {\"name\": \"pred_ppm\", \"type\": \"scatter\", \"xaxis\": \"x3\", \"y\": [-8.803700384884301, -8.850062544179593, -8.84551505627039, -8.926206659209676, -8.933260033298549, 4.624676949259625, 4.597911953024161, 4.59817729439159, 4.70801701269635, 4.6144504892926275, 35.121099603619356, 35.18199469104866, 35.28786569644011, 35.328122162746894, 35.28464144537672, 53.32202650509531, 53.46932047029677, 53.537645080118956, 53.655503426047666, 53.76097289182574, -6.57884525888127, -6.5818693640144055, -6.560174330447147, -6.691685875236836, -6.882384807585208, 4.847806323376363, 4.740237997909664, 4.810598773396703, 4.782833953857874, 4.652217103348907, 34.07850029412653, 34.04854317242332, 34.13957160105723, 33.979891439099404, 34.03521300193107, 52.013978554506124, 51.88156720641313, 52.10468154116778, 52.192619522828544, 52.24481750548693, -4.6908499091896285, -4.6482201100058305, -4.514813543552663, -4.78108460769746, -4.760549898527451, 6.449345588351083, 6.758965031349488, 6.760291131890914, 6.5093107731103, 6.926614905083902, 35.71245521483469, 35.74051077426661, 36.17195395036842, 36.18456163175075, 36.25158624922714, 55.27141912398494, 55.31902247960477, 55.0353814582164, 55.447643658288754, 54.98427679036141], \"yaxis\": \"y3\"}, {\"name\": \"ppm error\", \"text\": [\"-8.9\", \"-5.4\", \"-4.8\", \"-6.5\", \"-6.7\", \"-5.2\", \"-5.9\", \"-7.9\", \"-4.7\", \"-3.3\", \"-4.0\", \"-4.8\"], \"textposition\": \"auto\", \"type\": \"bar\", \"xaxis\": \"x4\", \"y\": [-8.9, -5.4, -4.8, -6.5, -6.7, -5.2, -5.9, -7.9, -4.7, -3.3, -4.0, -4.8], \"yaxis\": \"y4\"}],                        {\"annotations\": [{\"font\": {\"size\": 16}, \"showarrow\": false, \"text\": \"Humidity\", \"x\": 0.5, \"xanchor\": \"center\", \"xref\": \"paper\", \"y\": 1.0, \"yanchor\": \"bottom\", \"yref\": \"paper\"}, {\"font\": {\"size\": 16}, \"showarrow\": false, \"text\": \"Temperature\", \"x\": 0.5, \"xanchor\": \"center\", \"xref\": \"paper\", \"y\": 0.7833333333333333, \"yanchor\": \"bottom\", \"yref\": \"paper\"}, {\"font\": {\"size\": 16}, \"showarrow\": false, \"text\": \"Prediction\", \"x\": 0.5, \"xanchor\": \"center\", \"xref\": \"paper\", \"y\": 0.5666666666666667, \"yanchor\": \"bottom\", \"yref\": \"paper\"}, {\"font\": {\"size\": 16}, \"showarrow\": false, \"text\": \"ppm error\", \"x\": 0.5, \"xanchor\": \"center\", \"xref\": \"paper\", \"y\": 0.35, \"yanchor\": \"bottom\", \"yref\": \"paper\"}], \"height\": 800, \"legend\": {\"tracegroupgap\": 135}, \"template\": {\"data\": {\"bar\": [{\"error_x\": {\"color\": \"#2a3f5f\"}, \"error_y\": {\"color\": \"#2a3f5f\"}, \"marker\": {\"line\": {\"color\": \"#E5ECF6\", \"width\": 0.5}}, \"type\": \"bar\"}], \"barpolar\": [{\"marker\": {\"line\": {\"color\": \"#E5ECF6\", \"width\": 0.5}}, \"type\": \"barpolar\"}], \"carpet\": [{\"aaxis\": {\"endlinecolor\": \"#2a3f5f\", \"gridcolor\": \"white\", \"linecolor\": \"white\", \"minorgridcolor\": \"white\", \"startlinecolor\": \"#2a3f5f\"}, \"baxis\": {\"endlinecolor\": \"#2a3f5f\", \"gridcolor\": \"white\", \"linecolor\": \"white\", \"minorgridcolor\": \"white\", \"startlinecolor\": \"#2a3f5f\"}, \"type\": \"carpet\"}], \"choropleth\": [{\"colorbar\": {\"outlinewidth\": 0, \"ticks\": \"\"}, \"type\": \"choropleth\"}], \"contour\": [{\"colorbar\": {\"outlinewidth\": 0, \"ticks\": \"\"}, \"colorscale\": [[0.0, \"#0d0887\"], [0.1111111111111111, \"#46039f\"], [0.2222222222222222, \"#7201a8\"], [0.3333333333333333, \"#9c179e\"], [0.4444444444444444, \"#bd3786\"], [0.5555555555555556, \"#d8576b\"], [0.6666666666666666, \"#ed7953\"], [0.7777777777777778, \"#fb9f3a\"], [0.8888888888888888, \"#fdca26\"], [1.0, \"#f0f921\"]], \"type\": \"contour\"}], \"contourcarpet\": [{\"colorbar\": {\"outlinewidth\": 0, \"ticks\": \"\"}, \"type\": \"contourcarpet\"}], \"heatmap\": [{\"colorbar\": {\"outlinewidth\": 0, \"ticks\": \"\"}, \"colorscale\": [[0.0, \"#0d0887\"], [0.1111111111111111, \"#46039f\"], [0.2222222222222222, \"#7201a8\"], [0.3333333333333333, \"#9c179e\"], [0.4444444444444444, \"#bd3786\"], [0.5555555555555556, \"#d8576b\"], [0.6666666666666666, \"#ed7953\"], [0.7777777777777778, \"#fb9f3a\"], [0.8888888888888888, \"#fdca26\"], [1.0, \"#f0f921\"]], \"type\": \"heatmap\"}], \"heatmapgl\": [{\"colorbar\": {\"outlinewidth\": 0, \"ticks\": \"\"}, \"colorscale\": [[0.0, \"#0d0887\"], [0.1111111111111111, \"#46039f\"], [0.2222222222222222, \"#7201a8\"], [0.3333333333333333, \"#9c179e\"], [0.4444444444444444, \"#bd3786\"], [0.5555555555555556, \"#d8576b\"], [0.6666666666666666, \"#ed7953\"], [0.7777777777777778, \"#fb9f3a\"], [0.8888888888888888, \"#fdca26\"], [1.0, \"#f0f921\"]], \"type\": \"heatmapgl\"}], \"histogram\": [{\"marker\": {\"colorbar\": {\"outlinewidth\": 0, \"ticks\": \"\"}}, \"type\": \"histogram\"}], \"histogram2d\": [{\"colorbar\": {\"outlinewidth\": 0, \"ticks\": \"\"}, \"colorscale\": [[0.0, \"#0d0887\"], [0.1111111111111111, \"#46039f\"], [0.2222222222222222, \"#7201a8\"], [0.3333333333333333, \"#9c179e\"], [0.4444444444444444, \"#bd3786\"], [0.5555555555555556, \"#d8576b\"], [0.6666666666666666, \"#ed7953\"], [0.7777777777777778, \"#fb9f3a\"], [0.8888888888888888, \"#fdca26\"], [1.0, \"#f0f921\"]], \"type\": \"histogram2d\"}], \"histogram2dcontour\": [{\"colorbar\": {\"outlinewidth\": 0, \"ticks\": \"\"}, \"colorscale\": [[0.0, \"#0d0887\"], [0.1111111111111111, \"#46039f\"], [0.2222222222222222, \"#7201a8\"], [0.3333333333333333, \"#9c179e\"], [0.4444444444444444, \"#bd3786\"], [0.5555555555555556, \"#d8576b\"], [0.6666666666666666, \"#ed7953\"], [0.7777777777777778, \"#fb9f3a\"], [0.8888888888888888, \"#fdca26\"], [1.0, \"#f0f921\"]], \"type\": \"histogram2dcontour\"}], \"mesh3d\": [{\"colorbar\": {\"outlinewidth\": 0, \"ticks\": \"\"}, \"type\": \"mesh3d\"}], \"parcoords\": [{\"line\": {\"colorbar\": {\"outlinewidth\": 0, \"ticks\": \"\"}}, \"type\": \"parcoords\"}], \"pie\": [{\"automargin\": true, \"type\": \"pie\"}], \"scatter\": [{\"marker\": {\"colorbar\": {\"outlinewidth\": 0, \"ticks\": \"\"}}, \"type\": \"scatter\"}], \"scatter3d\": [{\"line\": {\"colorbar\": {\"outlinewidth\": 0, \"ticks\": \"\"}}, \"marker\": {\"colorbar\": {\"outlinewidth\": 0, \"ticks\": \"\"}}, \"type\": \"scatter3d\"}], \"scattercarpet\": [{\"marker\": {\"colorbar\": {\"outlinewidth\": 0, \"ticks\": \"\"}}, \"type\": \"scattercarpet\"}], \"scattergeo\": [{\"marker\": {\"colorbar\": {\"outlinewidth\": 0, \"ticks\": \"\"}}, \"type\": \"scattergeo\"}], \"scattergl\": [{\"marker\": {\"colorbar\": {\"outlinewidth\": 0, \"ticks\": \"\"}}, \"type\": \"scattergl\"}], \"scattermapbox\": [{\"marker\": {\"colorbar\": {\"outlinewidth\": 0, \"ticks\": \"\"}}, \"type\": \"scattermapbox\"}], \"scatterpolar\": [{\"marker\": {\"colorbar\": {\"outlinewidth\": 0, \"ticks\": \"\"}}, \"type\": \"scatterpolar\"}], \"scatterpolargl\": [{\"marker\": {\"colorbar\": {\"outlinewidth\": 0, \"ticks\": \"\"}}, \"type\": \"scatterpolargl\"}], \"scatterternary\": [{\"marker\": {\"colorbar\": {\"outlinewidth\": 0, \"ticks\": \"\"}}, \"type\": \"scatterternary\"}], \"surface\": [{\"colorbar\": {\"outlinewidth\": 0, \"ticks\": \"\"}, \"colorscale\": [[0.0, \"#0d0887\"], [0.1111111111111111, \"#46039f\"], [0.2222222222222222, \"#7201a8\"], [0.3333333333333333, \"#9c179e\"], [0.4444444444444444, \"#bd3786\"], [0.5555555555555556, \"#d8576b\"], [0.6666666666666666, \"#ed7953\"], [0.7777777777777778, \"#fb9f3a\"], [0.8888888888888888, \"#fdca26\"], [1.0, \"#f0f921\"]], \"type\": \"surface\"}], \"table\": [{\"cells\": {\"fill\": {\"color\": \"#EBF0F8\"}, \"line\": {\"color\": \"white\"}}, \"header\": {\"fill\": {\"color\": \"#C8D4E3\"}, \"line\": {\"color\": \"white\"}}, \"type\": \"table\"}]}, \"layout\": {\"annotationdefaults\": {\"arrowcolor\": \"#2a3f5f\", \"arrowhead\": 0, \"arrowwidth\": 1}, \"autotypenumbers\": \"strict\", \"coloraxis\": {\"colorbar\": {\"outlinewidth\": 0, \"ticks\": \"\"}}, \"colorscale\": {\"diverging\": [[0, \"#8e0152\"], [0.1, \"#c51b7d\"], [0.2, \"#de77ae\"], [0.3, \"#f1b6da\"], [0.4, \"#fde0ef\"], [0.5, \"#f7f7f7\"], [0.6, \"#e6f5d0\"], [0.7, \"#b8e186\"], [0.8, \"#7fbc41\"], [0.9, \"#4d9221\"], [1, \"#276419\"]], \"sequential\": [[0.0, \"#0d0887\"], [0.1111111111111111, \"#46039f\"], [0.2222222222222222, \"#7201a8\"], [0.3333333333333333, \"#9c179e\"], [0.4444444444444444, \"#bd3786\"], [0.5555555555555556, \"#d8576b\"], [0.6666666666666666, \"#ed7953\"], [0.7777777777777778, \"#fb9f3a\"], [0.8888888888888888, \"#fdca26\"], [1.0, \"#f0f921\"]], \"sequentialminus\": [[0.0, \"#0d0887\"], [0.1111111111111111, \"#46039f\"], [0.2222222222222222, \"#7201a8\"], [0.3333333333333333, \"#9c179e\"], [0.4444444444444444, \"#bd3786\"], [0.5555555555555556, \"#d8576b\"], [0.6666666666666666, \"#ed7953\"], [0.7777777777777778, \"#fb9f3a\"], [0.8888888888888888, \"#fdca26\"], [1.0, \"#f0f921\"]]}, \"colorway\": [\"#636efa\", \"#EF553B\", \"#00cc96\", \"#ab63fa\", \"#FFA15A\", \"#19d3f3\", \"#FF6692\", \"#B6E880\", \"#FF97FF\", \"#FECB52\"], \"font\": {\"color\": \"#2a3f5f\"}, \"geo\": {\"bgcolor\": \"white\", \"lakecolor\": \"white\", \"landcolor\": \"#E5ECF6\", \"showlakes\": true, \"showland\": true, \"subunitcolor\": \"white\"}, \"hoverlabel\": {\"align\": \"left\"}, \"hovermode\": \"closest\", \"mapbox\": {\"style\": \"light\"}, \"paper_bgcolor\": \"white\", \"plot_bgcolor\": \"#E5ECF6\", \"polar\": {\"angularaxis\": {\"gridcolor\": \"white\", \"linecolor\": \"white\", \"ticks\": \"\"}, \"bgcolor\": \"#E5ECF6\", \"radialaxis\": {\"gridcolor\": \"white\", \"linecolor\": \"white\", \"ticks\": \"\"}}, \"scene\": {\"xaxis\": {\"backgroundcolor\": \"#E5ECF6\", \"gridcolor\": \"white\", \"gridwidth\": 2, \"linecolor\": \"white\", \"showbackground\": true, \"ticks\": \"\", \"zerolinecolor\": \"white\"}, \"yaxis\": {\"backgroundcolor\": \"#E5ECF6\", \"gridcolor\": \"white\", \"gridwidth\": 2, \"linecolor\": \"white\", \"showbackground\": true, \"ticks\": \"\", \"zerolinecolor\": \"white\"}, \"zaxis\": {\"backgroundcolor\": \"#E5ECF6\", \"gridcolor\": \"white\", \"gridwidth\": 2, \"linecolor\": \"white\", \"showbackground\": true, \"ticks\": \"\", \"zerolinecolor\": \"white\"}}, \"shapedefaults\": {\"line\": {\"color\": \"#2a3f5f\"}}, \"ternary\": {\"aaxis\": {\"gridcolor\": \"white\", \"linecolor\": \"white\", \"ticks\": \"\"}, \"baxis\": {\"gridcolor\": \"white\", \"linecolor\": \"white\", \"ticks\": \"\"}, \"bgcolor\": \"#E5ECF6\", \"caxis\": {\"gridcolor\": \"white\", \"linecolor\": \"white\", \"ticks\": \"\"}}, \"title\": {\"x\": 0.05}, \"xaxis\": {\"automargin\": true, \"gridcolor\": \"white\", \"linecolor\": \"white\", \"ticks\": \"\", \"title\": {\"standoff\": 15}, \"zerolinecolor\": \"white\", \"zerolinewidth\": 2}, \"yaxis\": {\"automargin\": true, \"gridcolor\": \"white\", \"linecolor\": \"white\", \"ticks\": \"\", \"title\": {\"standoff\": 15}, \"zerolinecolor\": \"white\", \"zerolinewidth\": 2}}}, \"title\": {\"text\": \"(29%~87%)(Filtered_Z_score_583nm #1)(shift 0)(RMSE=5.8683)\"}, \"width\": 900, \"xaxis\": {\"anchor\": \"y\", \"domain\": [0.0, 1.0]}, \"xaxis2\": {\"anchor\": \"y2\", \"domain\": [0.0, 1.0]}, \"xaxis3\": {\"anchor\": \"y3\", \"domain\": [0.0, 1.0]}, \"xaxis4\": {\"anchor\": \"y4\", \"domain\": [0.0, 1.0]}, \"yaxis\": {\"anchor\": \"x\", \"domain\": [0.8833333333333333, 1.0]}, \"yaxis2\": {\"anchor\": \"x2\", \"domain\": [0.6666666666666666, 0.7833333333333333]}, \"yaxis3\": {\"anchor\": \"x3\", \"domain\": [0.44999999999999996, 0.5666666666666667]}, \"yaxis4\": {\"anchor\": \"x4\", \"domain\": [0.0, 0.35], \"range\": [-14.9, 2.7]}},                        {\"responsive\": true}                    ).then(function(){\n",
       "                            \n",
       "var gd = document.getElementById('377c9cdf-ca4e-4574-8a9b-45318a06f316');\n",
       "var x = new MutationObserver(function (mutations, observer) {{\n",
       "        var display = window.getComputedStyle(gd).display;\n",
       "        if (!display || display === 'none') {{\n",
       "            console.log([gd, 'removed!']);\n",
       "            Plotly.purge(gd);\n",
       "            observer.disconnect();\n",
       "        }}\n",
       "}});\n",
       "\n",
       "// Listen for the removal of the full notebook cells\n",
       "var notebookContainer = gd.closest('#notebook-container');\n",
       "if (notebookContainer) {{\n",
       "    x.observe(notebookContainer, {childList: true});\n",
       "}}\n",
       "\n",
       "// Listen for the clearing of the current output cell\n",
       "var outputEl = gd.closest('.output');\n",
       "if (outputEl) {{\n",
       "    x.observe(outputEl, {childList: true});\n",
       "}}\n",
       "\n",
       "                        })                };                });            </script>        </div>"
      ]
     },
     "metadata": {},
     "output_type": "display_data"
    },
    {
     "name": "stdout",
     "output_type": "stream",
     "text": [
      "sensor_number: #20221107095215\n"
     ]
    },
    {
     "data": {
      "application/vnd.plotly.v1+json": {
       "config": {
        "plotlyServerURL": "https://plot.ly"
       },
       "data": [
        {
         "name": "Humidity",
         "type": "scatter",
         "xaxis": "x",
         "y": [
          31.29119873046875,
          31.31103515625,
          31.10198974609375,
          31.1431884765625,
          31.19049072265625,
          30.43975830078125,
          30.4473876953125,
          30.51300048828125,
          30.40771484375,
          30.42144775390625,
          30.230712890625,
          30.33599853515625,
          30.1239013671875,
          30.22918701171875,
          30.2978515625,
          30.0079345703125,
          30.09796142578125,
          30.1422119140625,
          30.07049560546875,
          30.0140380859375,
          59.61761474609375,
          59.539794921875,
          59.53521728515625,
          59.7564697265625,
          59.67254638671875,
          60.30120849609375,
          60.479736328125,
          60.29510498046875,
          60.3302001953125,
          60.50872802734375,
          60.833740234375,
          60.97259521484375,
          60.7208251953125,
          60.84747314453125,
          61.016845703125,
          60.9283447265625,
          61.10992431640625,
          61.2213134765625,
          61.03057861328125,
          61.1419677734375,
          86.78436279296875,
          86.7889404296875,
          87.05596923828125,
          86.8743896484375,
          86.86065673828125,
          87.49237060546875,
          87.457275390625,
          87.64801025390625,
          87.579345703125,
          87.47100830078125,
          88.165283203125,
          88.40484619140625,
          88.3544921875,
          88.25836181640625,
          88.4185791015625,
          88.51318359375,
          88.63677978515625,
          88.751220703125,
          88.52996826171875,
          88.604736328125
         ],
         "yaxis": "y"
        },
        {
         "name": "Temperature",
         "type": "scatter",
         "xaxis": "x2",
         "y": [
          30.13053894042969,
          30.12802124023437,
          30.14060974121093,
          30.14312744140625,
          30.12046813964844,
          30.14564514160156,
          30.138092041015625,
          30.14564514160156,
          30.138092041015625,
          30.14060974121093,
          30.14312744140625,
          30.15068054199219,
          30.138092041015625,
          30.14060974121093,
          30.14312744140625,
          30.1531982421875,
          30.14564514160156,
          30.148162841796875,
          30.14060974121093,
          30.1531982421875,
          30.18089294433593,
          30.178375244140625,
          30.19096374511719,
          30.18341064453125,
          30.17585754394531,
          30.17082214355469,
          30.16830444335937,
          30.18089294433593,
          30.158233642578125,
          30.165786743164062,
          30.158233642578125,
          30.16075134277344,
          30.148162841796875,
          30.16075134277344,
          30.16830444335937,
          30.16830444335937,
          30.165786743164062,
          30.16326904296875,
          30.165786743164062,
          30.158233642578125,
          30.206069946289062,
          30.20355224609375,
          30.19599914550781,
          30.198516845703125,
          30.18592834472656,
          30.165786743164062,
          30.17333984375,
          30.17082214355469,
          30.178375244140625,
          30.18089294433593,
          30.17333984375,
          30.18089294433593,
          30.178375244140625,
          30.17082214355469,
          30.18341064453125,
          30.16326904296875,
          30.165786743164062,
          30.17333984375,
          30.17585754394531,
          30.17333984375
         ],
         "yaxis": "y2"
        },
        {
         "name": "ppm",
         "type": "scatter",
         "xaxis": "x3",
         "y": [
          0,
          0,
          0,
          0,
          0,
          10.013501350135014,
          9.987624845310568,
          9.99937503906006,
          10.01212454532955,
          10.01337617041491,
          40,
          40.00150005625211,
          40.00250015625976,
          39.99150180586625,
          39.99700022498312,
          60.0030001500075,
          60.00799940004501,
          60.02049846261532,
          60.035506213587375,
          60.00675075946044,
          0,
          0,
          0,
          0,
          0,
          10.01362653298496,
          10.02625328166021,
          10.0013751890885,
          10.024373476657711,
          9.975498774938746,
          39.99200159968006,
          39.99950000624992,
          39.9965003062232,
          40.009999375039065,
          40.0035003062768,
          59.99775008437184,
          60.03449827508625,
          60.01674769719164,
          60.01174985312685,
          60.01700127509564,
          0,
          0,
          0,
          0,
          0,
          10.01362653298496,
          10.01362653298496,
          10.00112512657674,
          9.987375157810527,
          10.001250156269531,
          40.0070012252144,
          39.98300191228487,
          40.02399940001501,
          39.99400089986501,
          39.98999937496093,
          59.973500662483445,
          59.99499937492188,
          59.97425032187098,
          59.9875,
          59.95725374029773
         ],
         "yaxis": "y3"
        },
        {
         "name": "pred_ppm",
         "type": "scatter",
         "xaxis": "x3",
         "y": [
          -7.538393675579275,
          -7.57453197844864,
          -7.515127733064151,
          -7.768924142858079,
          -7.9077315269601485,
          5.241509057331729,
          4.9883175458323565,
          5.27898956609636,
          5.518752628435057,
          5.120322553454323,
          35.08118979907789,
          35.06544870591047,
          35.33440425517828,
          35.15336030480831,
          34.92604232992015,
          53.720175259316335,
          53.610191216334535,
          54.0377503486404,
          54.24472858757736,
          54.166774525663946,
          -6.068000740327758,
          -5.739969928528584,
          -5.889293564403554,
          -5.913687800544423,
          -5.808444789130521,
          5.3659750593050335,
          5.429320905681465,
          5.379486920842538,
          5.204664647266651,
          5.079804301230234,
          34.11183376324489,
          34.26751742278,
          34.29181389664359,
          34.53298335042014,
          34.412608374051466,
          52.860997347270974,
          52.75460479548722,
          52.83665434546747,
          53.03723045496828,
          52.77479133797458,
          -3.653032919563051,
          -3.6775955381702783,
          -4.213957283505112,
          -3.9104255599771935,
          -3.6102837567931356,
          6.321074729510776,
          6.592594040141316,
          6.434266468359315,
          6.464376432794785,
          6.485023389995039,
          35.4308106601997,
          35.57647496587357,
          35.761509655105684,
          35.6221833961437,
          36.426128774832364,
          55.06326201178765,
          55.07983033719454,
          54.91031559910558,
          54.97721047873576,
          54.99529316040514
         ],
         "yaxis": "y3"
        },
        {
         "name": "ppm error",
         "text": [
          "-7.7",
          "-4.8",
          "-4.9",
          "-6.1",
          "-5.9",
          "-4.7",
          "-5.7",
          "-7.2",
          "-3.8",
          "-3.5",
          "-4.2",
          "-5.0"
         ],
         "textposition": "auto",
         "type": "bar",
         "xaxis": "x4",
         "y": [
          -7.7,
          -4.8,
          -4.9,
          -6.1,
          -5.9,
          -4.7,
          -5.7,
          -7.2,
          -3.8,
          -3.5,
          -4.2,
          -5
         ],
         "yaxis": "y4"
        }
       ],
       "layout": {
        "annotations": [
         {
          "font": {
           "size": 16
          },
          "showarrow": false,
          "text": "Humidity",
          "x": 0.5,
          "xanchor": "center",
          "xref": "paper",
          "y": 1,
          "yanchor": "bottom",
          "yref": "paper"
         },
         {
          "font": {
           "size": 16
          },
          "showarrow": false,
          "text": "Temperature",
          "x": 0.5,
          "xanchor": "center",
          "xref": "paper",
          "y": 0.7833333333333333,
          "yanchor": "bottom",
          "yref": "paper"
         },
         {
          "font": {
           "size": 16
          },
          "showarrow": false,
          "text": "Prediction",
          "x": 0.5,
          "xanchor": "center",
          "xref": "paper",
          "y": 0.5666666666666667,
          "yanchor": "bottom",
          "yref": "paper"
         },
         {
          "font": {
           "size": 16
          },
          "showarrow": false,
          "text": "ppm error",
          "x": 0.5,
          "xanchor": "center",
          "xref": "paper",
          "y": 0.35,
          "yanchor": "bottom",
          "yref": "paper"
         }
        ],
        "height": 800,
        "legend": {
         "tracegroupgap": 135
        },
        "template": {
         "data": {
          "bar": [
           {
            "error_x": {
             "color": "#2a3f5f"
            },
            "error_y": {
             "color": "#2a3f5f"
            },
            "marker": {
             "line": {
              "color": "#E5ECF6",
              "width": 0.5
             }
            },
            "type": "bar"
           }
          ],
          "barpolar": [
           {
            "marker": {
             "line": {
              "color": "#E5ECF6",
              "width": 0.5
             }
            },
            "type": "barpolar"
           }
          ],
          "carpet": [
           {
            "aaxis": {
             "endlinecolor": "#2a3f5f",
             "gridcolor": "white",
             "linecolor": "white",
             "minorgridcolor": "white",
             "startlinecolor": "#2a3f5f"
            },
            "baxis": {
             "endlinecolor": "#2a3f5f",
             "gridcolor": "white",
             "linecolor": "white",
             "minorgridcolor": "white",
             "startlinecolor": "#2a3f5f"
            },
            "type": "carpet"
           }
          ],
          "choropleth": [
           {
            "colorbar": {
             "outlinewidth": 0,
             "ticks": ""
            },
            "type": "choropleth"
           }
          ],
          "contour": [
           {
            "colorbar": {
             "outlinewidth": 0,
             "ticks": ""
            },
            "colorscale": [
             [
              0,
              "#0d0887"
             ],
             [
              0.1111111111111111,
              "#46039f"
             ],
             [
              0.2222222222222222,
              "#7201a8"
             ],
             [
              0.3333333333333333,
              "#9c179e"
             ],
             [
              0.4444444444444444,
              "#bd3786"
             ],
             [
              0.5555555555555556,
              "#d8576b"
             ],
             [
              0.6666666666666666,
              "#ed7953"
             ],
             [
              0.7777777777777778,
              "#fb9f3a"
             ],
             [
              0.8888888888888888,
              "#fdca26"
             ],
             [
              1,
              "#f0f921"
             ]
            ],
            "type": "contour"
           }
          ],
          "contourcarpet": [
           {
            "colorbar": {
             "outlinewidth": 0,
             "ticks": ""
            },
            "type": "contourcarpet"
           }
          ],
          "heatmap": [
           {
            "colorbar": {
             "outlinewidth": 0,
             "ticks": ""
            },
            "colorscale": [
             [
              0,
              "#0d0887"
             ],
             [
              0.1111111111111111,
              "#46039f"
             ],
             [
              0.2222222222222222,
              "#7201a8"
             ],
             [
              0.3333333333333333,
              "#9c179e"
             ],
             [
              0.4444444444444444,
              "#bd3786"
             ],
             [
              0.5555555555555556,
              "#d8576b"
             ],
             [
              0.6666666666666666,
              "#ed7953"
             ],
             [
              0.7777777777777778,
              "#fb9f3a"
             ],
             [
              0.8888888888888888,
              "#fdca26"
             ],
             [
              1,
              "#f0f921"
             ]
            ],
            "type": "heatmap"
           }
          ],
          "heatmapgl": [
           {
            "colorbar": {
             "outlinewidth": 0,
             "ticks": ""
            },
            "colorscale": [
             [
              0,
              "#0d0887"
             ],
             [
              0.1111111111111111,
              "#46039f"
             ],
             [
              0.2222222222222222,
              "#7201a8"
             ],
             [
              0.3333333333333333,
              "#9c179e"
             ],
             [
              0.4444444444444444,
              "#bd3786"
             ],
             [
              0.5555555555555556,
              "#d8576b"
             ],
             [
              0.6666666666666666,
              "#ed7953"
             ],
             [
              0.7777777777777778,
              "#fb9f3a"
             ],
             [
              0.8888888888888888,
              "#fdca26"
             ],
             [
              1,
              "#f0f921"
             ]
            ],
            "type": "heatmapgl"
           }
          ],
          "histogram": [
           {
            "marker": {
             "colorbar": {
              "outlinewidth": 0,
              "ticks": ""
             }
            },
            "type": "histogram"
           }
          ],
          "histogram2d": [
           {
            "colorbar": {
             "outlinewidth": 0,
             "ticks": ""
            },
            "colorscale": [
             [
              0,
              "#0d0887"
             ],
             [
              0.1111111111111111,
              "#46039f"
             ],
             [
              0.2222222222222222,
              "#7201a8"
             ],
             [
              0.3333333333333333,
              "#9c179e"
             ],
             [
              0.4444444444444444,
              "#bd3786"
             ],
             [
              0.5555555555555556,
              "#d8576b"
             ],
             [
              0.6666666666666666,
              "#ed7953"
             ],
             [
              0.7777777777777778,
              "#fb9f3a"
             ],
             [
              0.8888888888888888,
              "#fdca26"
             ],
             [
              1,
              "#f0f921"
             ]
            ],
            "type": "histogram2d"
           }
          ],
          "histogram2dcontour": [
           {
            "colorbar": {
             "outlinewidth": 0,
             "ticks": ""
            },
            "colorscale": [
             [
              0,
              "#0d0887"
             ],
             [
              0.1111111111111111,
              "#46039f"
             ],
             [
              0.2222222222222222,
              "#7201a8"
             ],
             [
              0.3333333333333333,
              "#9c179e"
             ],
             [
              0.4444444444444444,
              "#bd3786"
             ],
             [
              0.5555555555555556,
              "#d8576b"
             ],
             [
              0.6666666666666666,
              "#ed7953"
             ],
             [
              0.7777777777777778,
              "#fb9f3a"
             ],
             [
              0.8888888888888888,
              "#fdca26"
             ],
             [
              1,
              "#f0f921"
             ]
            ],
            "type": "histogram2dcontour"
           }
          ],
          "mesh3d": [
           {
            "colorbar": {
             "outlinewidth": 0,
             "ticks": ""
            },
            "type": "mesh3d"
           }
          ],
          "parcoords": [
           {
            "line": {
             "colorbar": {
              "outlinewidth": 0,
              "ticks": ""
             }
            },
            "type": "parcoords"
           }
          ],
          "pie": [
           {
            "automargin": true,
            "type": "pie"
           }
          ],
          "scatter": [
           {
            "marker": {
             "colorbar": {
              "outlinewidth": 0,
              "ticks": ""
             }
            },
            "type": "scatter"
           }
          ],
          "scatter3d": [
           {
            "line": {
             "colorbar": {
              "outlinewidth": 0,
              "ticks": ""
             }
            },
            "marker": {
             "colorbar": {
              "outlinewidth": 0,
              "ticks": ""
             }
            },
            "type": "scatter3d"
           }
          ],
          "scattercarpet": [
           {
            "marker": {
             "colorbar": {
              "outlinewidth": 0,
              "ticks": ""
             }
            },
            "type": "scattercarpet"
           }
          ],
          "scattergeo": [
           {
            "marker": {
             "colorbar": {
              "outlinewidth": 0,
              "ticks": ""
             }
            },
            "type": "scattergeo"
           }
          ],
          "scattergl": [
           {
            "marker": {
             "colorbar": {
              "outlinewidth": 0,
              "ticks": ""
             }
            },
            "type": "scattergl"
           }
          ],
          "scattermapbox": [
           {
            "marker": {
             "colorbar": {
              "outlinewidth": 0,
              "ticks": ""
             }
            },
            "type": "scattermapbox"
           }
          ],
          "scatterpolar": [
           {
            "marker": {
             "colorbar": {
              "outlinewidth": 0,
              "ticks": ""
             }
            },
            "type": "scatterpolar"
           }
          ],
          "scatterpolargl": [
           {
            "marker": {
             "colorbar": {
              "outlinewidth": 0,
              "ticks": ""
             }
            },
            "type": "scatterpolargl"
           }
          ],
          "scatterternary": [
           {
            "marker": {
             "colorbar": {
              "outlinewidth": 0,
              "ticks": ""
             }
            },
            "type": "scatterternary"
           }
          ],
          "surface": [
           {
            "colorbar": {
             "outlinewidth": 0,
             "ticks": ""
            },
            "colorscale": [
             [
              0,
              "#0d0887"
             ],
             [
              0.1111111111111111,
              "#46039f"
             ],
             [
              0.2222222222222222,
              "#7201a8"
             ],
             [
              0.3333333333333333,
              "#9c179e"
             ],
             [
              0.4444444444444444,
              "#bd3786"
             ],
             [
              0.5555555555555556,
              "#d8576b"
             ],
             [
              0.6666666666666666,
              "#ed7953"
             ],
             [
              0.7777777777777778,
              "#fb9f3a"
             ],
             [
              0.8888888888888888,
              "#fdca26"
             ],
             [
              1,
              "#f0f921"
             ]
            ],
            "type": "surface"
           }
          ],
          "table": [
           {
            "cells": {
             "fill": {
              "color": "#EBF0F8"
             },
             "line": {
              "color": "white"
             }
            },
            "header": {
             "fill": {
              "color": "#C8D4E3"
             },
             "line": {
              "color": "white"
             }
            },
            "type": "table"
           }
          ]
         },
         "layout": {
          "annotationdefaults": {
           "arrowcolor": "#2a3f5f",
           "arrowhead": 0,
           "arrowwidth": 1
          },
          "autotypenumbers": "strict",
          "coloraxis": {
           "colorbar": {
            "outlinewidth": 0,
            "ticks": ""
           }
          },
          "colorscale": {
           "diverging": [
            [
             0,
             "#8e0152"
            ],
            [
             0.1,
             "#c51b7d"
            ],
            [
             0.2,
             "#de77ae"
            ],
            [
             0.3,
             "#f1b6da"
            ],
            [
             0.4,
             "#fde0ef"
            ],
            [
             0.5,
             "#f7f7f7"
            ],
            [
             0.6,
             "#e6f5d0"
            ],
            [
             0.7,
             "#b8e186"
            ],
            [
             0.8,
             "#7fbc41"
            ],
            [
             0.9,
             "#4d9221"
            ],
            [
             1,
             "#276419"
            ]
           ],
           "sequential": [
            [
             0,
             "#0d0887"
            ],
            [
             0.1111111111111111,
             "#46039f"
            ],
            [
             0.2222222222222222,
             "#7201a8"
            ],
            [
             0.3333333333333333,
             "#9c179e"
            ],
            [
             0.4444444444444444,
             "#bd3786"
            ],
            [
             0.5555555555555556,
             "#d8576b"
            ],
            [
             0.6666666666666666,
             "#ed7953"
            ],
            [
             0.7777777777777778,
             "#fb9f3a"
            ],
            [
             0.8888888888888888,
             "#fdca26"
            ],
            [
             1,
             "#f0f921"
            ]
           ],
           "sequentialminus": [
            [
             0,
             "#0d0887"
            ],
            [
             0.1111111111111111,
             "#46039f"
            ],
            [
             0.2222222222222222,
             "#7201a8"
            ],
            [
             0.3333333333333333,
             "#9c179e"
            ],
            [
             0.4444444444444444,
             "#bd3786"
            ],
            [
             0.5555555555555556,
             "#d8576b"
            ],
            [
             0.6666666666666666,
             "#ed7953"
            ],
            [
             0.7777777777777778,
             "#fb9f3a"
            ],
            [
             0.8888888888888888,
             "#fdca26"
            ],
            [
             1,
             "#f0f921"
            ]
           ]
          },
          "colorway": [
           "#636efa",
           "#EF553B",
           "#00cc96",
           "#ab63fa",
           "#FFA15A",
           "#19d3f3",
           "#FF6692",
           "#B6E880",
           "#FF97FF",
           "#FECB52"
          ],
          "font": {
           "color": "#2a3f5f"
          },
          "geo": {
           "bgcolor": "white",
           "lakecolor": "white",
           "landcolor": "#E5ECF6",
           "showlakes": true,
           "showland": true,
           "subunitcolor": "white"
          },
          "hoverlabel": {
           "align": "left"
          },
          "hovermode": "closest",
          "mapbox": {
           "style": "light"
          },
          "paper_bgcolor": "white",
          "plot_bgcolor": "#E5ECF6",
          "polar": {
           "angularaxis": {
            "gridcolor": "white",
            "linecolor": "white",
            "ticks": ""
           },
           "bgcolor": "#E5ECF6",
           "radialaxis": {
            "gridcolor": "white",
            "linecolor": "white",
            "ticks": ""
           }
          },
          "scene": {
           "xaxis": {
            "backgroundcolor": "#E5ECF6",
            "gridcolor": "white",
            "gridwidth": 2,
            "linecolor": "white",
            "showbackground": true,
            "ticks": "",
            "zerolinecolor": "white"
           },
           "yaxis": {
            "backgroundcolor": "#E5ECF6",
            "gridcolor": "white",
            "gridwidth": 2,
            "linecolor": "white",
            "showbackground": true,
            "ticks": "",
            "zerolinecolor": "white"
           },
           "zaxis": {
            "backgroundcolor": "#E5ECF6",
            "gridcolor": "white",
            "gridwidth": 2,
            "linecolor": "white",
            "showbackground": true,
            "ticks": "",
            "zerolinecolor": "white"
           }
          },
          "shapedefaults": {
           "line": {
            "color": "#2a3f5f"
           }
          },
          "ternary": {
           "aaxis": {
            "gridcolor": "white",
            "linecolor": "white",
            "ticks": ""
           },
           "baxis": {
            "gridcolor": "white",
            "linecolor": "white",
            "ticks": ""
           },
           "bgcolor": "#E5ECF6",
           "caxis": {
            "gridcolor": "white",
            "linecolor": "white",
            "ticks": ""
           }
          },
          "title": {
           "x": 0.05
          },
          "xaxis": {
           "automargin": true,
           "gridcolor": "white",
           "linecolor": "white",
           "ticks": "",
           "title": {
            "standoff": 15
           },
           "zerolinecolor": "white",
           "zerolinewidth": 2
          },
          "yaxis": {
           "automargin": true,
           "gridcolor": "white",
           "linecolor": "white",
           "ticks": "",
           "title": {
            "standoff": 15
           },
           "zerolinecolor": "white",
           "zerolinewidth": 2
          }
         }
        },
        "title": {
         "text": "(30%~88%)(Filtered_Z_score_583nm #1)(shift 0)(RMSE=5.42077)"
        },
        "width": 900,
        "xaxis": {
         "anchor": "y",
         "domain": [
          0,
          1
         ]
        },
        "xaxis2": {
         "anchor": "y2",
         "domain": [
          0,
          1
         ]
        },
        "xaxis3": {
         "anchor": "y3",
         "domain": [
          0,
          1
         ]
        },
        "xaxis4": {
         "anchor": "y4",
         "domain": [
          0,
          1
         ]
        },
        "yaxis": {
         "anchor": "x",
         "domain": [
          0.8833333333333333,
          1
         ]
        },
        "yaxis2": {
         "anchor": "x2",
         "domain": [
          0.6666666666666666,
          0.7833333333333333
         ]
        },
        "yaxis3": {
         "anchor": "x3",
         "domain": [
          0.44999999999999996,
          0.5666666666666667
         ]
        },
        "yaxis4": {
         "anchor": "x4",
         "domain": [
          0,
          0.35
         ],
         "range": [
          -13.7,
          2.5
         ]
        }
       }
      },
      "text/html": [
       "<div>                            <div id=\"70df2fab-7a2a-44f3-87d3-11af5fbf73ba\" class=\"plotly-graph-div\" style=\"height:800px; width:900px;\"></div>            <script type=\"text/javascript\">                require([\"plotly\"], function(Plotly) {                    window.PLOTLYENV=window.PLOTLYENV || {};                                    if (document.getElementById(\"70df2fab-7a2a-44f3-87d3-11af5fbf73ba\")) {                    Plotly.newPlot(                        \"70df2fab-7a2a-44f3-87d3-11af5fbf73ba\",                        [{\"name\": \"Humidity\", \"type\": \"scatter\", \"xaxis\": \"x\", \"y\": [31.29119873046875, 31.31103515625, 31.10198974609375, 31.1431884765625, 31.19049072265625, 30.43975830078125, 30.4473876953125, 30.51300048828125, 30.40771484375, 30.42144775390625, 30.230712890625, 30.33599853515625, 30.1239013671875, 30.22918701171875, 30.2978515625, 30.0079345703125, 30.09796142578125, 30.1422119140625, 30.07049560546875, 30.0140380859375, 59.61761474609375, 59.539794921875, 59.53521728515625, 59.7564697265625, 59.67254638671875, 60.30120849609375, 60.479736328125, 60.29510498046875, 60.3302001953125, 60.50872802734375, 60.833740234375, 60.97259521484375, 60.7208251953125, 60.84747314453125, 61.016845703125, 60.9283447265625, 61.10992431640625, 61.2213134765625, 61.03057861328125, 61.1419677734375, 86.78436279296875, 86.7889404296875, 87.05596923828125, 86.8743896484375, 86.86065673828125, 87.49237060546875, 87.457275390625, 87.64801025390625, 87.579345703125, 87.47100830078125, 88.165283203125, 88.40484619140625, 88.3544921875, 88.25836181640625, 88.4185791015625, 88.51318359375, 88.63677978515625, 88.751220703125, 88.52996826171875, 88.604736328125], \"yaxis\": \"y\"}, {\"name\": \"Temperature\", \"type\": \"scatter\", \"xaxis\": \"x2\", \"y\": [30.13053894042969, 30.12802124023437, 30.14060974121093, 30.14312744140625, 30.12046813964844, 30.14564514160156, 30.138092041015625, 30.14564514160156, 30.138092041015625, 30.14060974121093, 30.14312744140625, 30.15068054199219, 30.138092041015625, 30.14060974121093, 30.14312744140625, 30.1531982421875, 30.14564514160156, 30.148162841796875, 30.14060974121093, 30.1531982421875, 30.18089294433593, 30.178375244140625, 30.19096374511719, 30.18341064453125, 30.17585754394531, 30.17082214355469, 30.16830444335937, 30.18089294433593, 30.158233642578125, 30.165786743164062, 30.158233642578125, 30.16075134277344, 30.148162841796875, 30.16075134277344, 30.16830444335937, 30.16830444335937, 30.165786743164062, 30.16326904296875, 30.165786743164062, 30.158233642578125, 30.206069946289062, 30.20355224609375, 30.19599914550781, 30.198516845703125, 30.18592834472656, 30.165786743164062, 30.17333984375, 30.17082214355469, 30.178375244140625, 30.18089294433593, 30.17333984375, 30.18089294433593, 30.178375244140625, 30.17082214355469, 30.18341064453125, 30.16326904296875, 30.165786743164062, 30.17333984375, 30.17585754394531, 30.17333984375], \"yaxis\": \"y2\"}, {\"name\": \"ppm\", \"type\": \"scatter\", \"xaxis\": \"x3\", \"y\": [0.0, 0.0, 0.0, 0.0, 0.0, 10.013501350135014, 9.987624845310568, 9.99937503906006, 10.01212454532955, 10.01337617041491, 40.0, 40.00150005625211, 40.00250015625976, 39.99150180586625, 39.99700022498312, 60.0030001500075, 60.00799940004501, 60.02049846261532, 60.035506213587375, 60.00675075946044, 0.0, 0.0, 0.0, 0.0, 0.0, 10.01362653298496, 10.02625328166021, 10.0013751890885, 10.024373476657711, 9.975498774938746, 39.99200159968006, 39.99950000624992, 39.9965003062232, 40.009999375039065, 40.0035003062768, 59.99775008437184, 60.03449827508625, 60.01674769719164, 60.01174985312685, 60.01700127509564, 0.0, 0.0, 0.0, 0.0, 0.0, 10.01362653298496, 10.01362653298496, 10.00112512657674, 9.987375157810527, 10.001250156269531, 40.0070012252144, 39.98300191228487, 40.02399940001501, 39.99400089986501, 39.98999937496093, 59.973500662483445, 59.99499937492188, 59.97425032187098, 59.9875, 59.95725374029773], \"yaxis\": \"y3\"}, {\"name\": \"pred_ppm\", \"type\": \"scatter\", \"xaxis\": \"x3\", \"y\": [-7.538393675579275, -7.57453197844864, -7.515127733064151, -7.768924142858079, -7.9077315269601485, 5.241509057331729, 4.9883175458323565, 5.27898956609636, 5.518752628435057, 5.120322553454323, 35.08118979907789, 35.06544870591047, 35.33440425517828, 35.15336030480831, 34.92604232992015, 53.720175259316335, 53.610191216334535, 54.0377503486404, 54.24472858757736, 54.166774525663946, -6.068000740327758, -5.739969928528584, -5.889293564403554, -5.913687800544423, -5.808444789130521, 5.3659750593050335, 5.429320905681465, 5.379486920842538, 5.204664647266651, 5.079804301230234, 34.11183376324489, 34.26751742278, 34.29181389664359, 34.53298335042014, 34.412608374051466, 52.860997347270974, 52.75460479548722, 52.83665434546747, 53.03723045496828, 52.77479133797458, -3.653032919563051, -3.6775955381702783, -4.213957283505112, -3.9104255599771935, -3.6102837567931356, 6.321074729510776, 6.592594040141316, 6.434266468359315, 6.464376432794785, 6.485023389995039, 35.4308106601997, 35.57647496587357, 35.761509655105684, 35.6221833961437, 36.426128774832364, 55.06326201178765, 55.07983033719454, 54.91031559910558, 54.97721047873576, 54.99529316040514], \"yaxis\": \"y3\"}, {\"name\": \"ppm error\", \"text\": [\"-7.7\", \"-4.8\", \"-4.9\", \"-6.1\", \"-5.9\", \"-4.7\", \"-5.7\", \"-7.2\", \"-3.8\", \"-3.5\", \"-4.2\", \"-5.0\"], \"textposition\": \"auto\", \"type\": \"bar\", \"xaxis\": \"x4\", \"y\": [-7.7, -4.8, -4.9, -6.1, -5.9, -4.7, -5.7, -7.2, -3.8, -3.5, -4.2, -5.0], \"yaxis\": \"y4\"}],                        {\"annotations\": [{\"font\": {\"size\": 16}, \"showarrow\": false, \"text\": \"Humidity\", \"x\": 0.5, \"xanchor\": \"center\", \"xref\": \"paper\", \"y\": 1.0, \"yanchor\": \"bottom\", \"yref\": \"paper\"}, {\"font\": {\"size\": 16}, \"showarrow\": false, \"text\": \"Temperature\", \"x\": 0.5, \"xanchor\": \"center\", \"xref\": \"paper\", \"y\": 0.7833333333333333, \"yanchor\": \"bottom\", \"yref\": \"paper\"}, {\"font\": {\"size\": 16}, \"showarrow\": false, \"text\": \"Prediction\", \"x\": 0.5, \"xanchor\": \"center\", \"xref\": \"paper\", \"y\": 0.5666666666666667, \"yanchor\": \"bottom\", \"yref\": \"paper\"}, {\"font\": {\"size\": 16}, \"showarrow\": false, \"text\": \"ppm error\", \"x\": 0.5, \"xanchor\": \"center\", \"xref\": \"paper\", \"y\": 0.35, \"yanchor\": \"bottom\", \"yref\": \"paper\"}], \"height\": 800, \"legend\": {\"tracegroupgap\": 135}, \"template\": {\"data\": {\"bar\": [{\"error_x\": {\"color\": \"#2a3f5f\"}, \"error_y\": {\"color\": \"#2a3f5f\"}, \"marker\": {\"line\": {\"color\": \"#E5ECF6\", \"width\": 0.5}}, \"type\": \"bar\"}], \"barpolar\": [{\"marker\": {\"line\": {\"color\": \"#E5ECF6\", \"width\": 0.5}}, \"type\": \"barpolar\"}], \"carpet\": [{\"aaxis\": {\"endlinecolor\": \"#2a3f5f\", \"gridcolor\": \"white\", \"linecolor\": \"white\", \"minorgridcolor\": \"white\", \"startlinecolor\": \"#2a3f5f\"}, \"baxis\": {\"endlinecolor\": \"#2a3f5f\", \"gridcolor\": \"white\", \"linecolor\": \"white\", \"minorgridcolor\": \"white\", \"startlinecolor\": \"#2a3f5f\"}, \"type\": \"carpet\"}], \"choropleth\": [{\"colorbar\": {\"outlinewidth\": 0, \"ticks\": \"\"}, \"type\": \"choropleth\"}], \"contour\": [{\"colorbar\": {\"outlinewidth\": 0, \"ticks\": \"\"}, \"colorscale\": [[0.0, \"#0d0887\"], [0.1111111111111111, \"#46039f\"], [0.2222222222222222, \"#7201a8\"], [0.3333333333333333, \"#9c179e\"], [0.4444444444444444, \"#bd3786\"], [0.5555555555555556, \"#d8576b\"], [0.6666666666666666, \"#ed7953\"], [0.7777777777777778, \"#fb9f3a\"], [0.8888888888888888, \"#fdca26\"], [1.0, \"#f0f921\"]], \"type\": \"contour\"}], \"contourcarpet\": [{\"colorbar\": {\"outlinewidth\": 0, \"ticks\": \"\"}, \"type\": \"contourcarpet\"}], \"heatmap\": [{\"colorbar\": {\"outlinewidth\": 0, \"ticks\": \"\"}, \"colorscale\": [[0.0, \"#0d0887\"], [0.1111111111111111, \"#46039f\"], [0.2222222222222222, \"#7201a8\"], [0.3333333333333333, \"#9c179e\"], [0.4444444444444444, \"#bd3786\"], [0.5555555555555556, \"#d8576b\"], [0.6666666666666666, \"#ed7953\"], [0.7777777777777778, \"#fb9f3a\"], [0.8888888888888888, \"#fdca26\"], [1.0, \"#f0f921\"]], \"type\": \"heatmap\"}], \"heatmapgl\": [{\"colorbar\": {\"outlinewidth\": 0, \"ticks\": \"\"}, \"colorscale\": [[0.0, \"#0d0887\"], [0.1111111111111111, \"#46039f\"], [0.2222222222222222, \"#7201a8\"], [0.3333333333333333, \"#9c179e\"], [0.4444444444444444, \"#bd3786\"], [0.5555555555555556, \"#d8576b\"], [0.6666666666666666, \"#ed7953\"], [0.7777777777777778, \"#fb9f3a\"], [0.8888888888888888, \"#fdca26\"], [1.0, \"#f0f921\"]], \"type\": \"heatmapgl\"}], \"histogram\": [{\"marker\": {\"colorbar\": {\"outlinewidth\": 0, \"ticks\": \"\"}}, \"type\": \"histogram\"}], \"histogram2d\": [{\"colorbar\": {\"outlinewidth\": 0, \"ticks\": \"\"}, \"colorscale\": [[0.0, \"#0d0887\"], [0.1111111111111111, \"#46039f\"], [0.2222222222222222, \"#7201a8\"], [0.3333333333333333, \"#9c179e\"], [0.4444444444444444, \"#bd3786\"], [0.5555555555555556, \"#d8576b\"], [0.6666666666666666, \"#ed7953\"], [0.7777777777777778, \"#fb9f3a\"], [0.8888888888888888, \"#fdca26\"], [1.0, \"#f0f921\"]], \"type\": \"histogram2d\"}], \"histogram2dcontour\": [{\"colorbar\": {\"outlinewidth\": 0, \"ticks\": \"\"}, \"colorscale\": [[0.0, \"#0d0887\"], [0.1111111111111111, \"#46039f\"], [0.2222222222222222, \"#7201a8\"], [0.3333333333333333, \"#9c179e\"], [0.4444444444444444, \"#bd3786\"], [0.5555555555555556, \"#d8576b\"], [0.6666666666666666, \"#ed7953\"], [0.7777777777777778, \"#fb9f3a\"], [0.8888888888888888, \"#fdca26\"], [1.0, \"#f0f921\"]], \"type\": \"histogram2dcontour\"}], \"mesh3d\": [{\"colorbar\": {\"outlinewidth\": 0, \"ticks\": \"\"}, \"type\": \"mesh3d\"}], \"parcoords\": [{\"line\": {\"colorbar\": {\"outlinewidth\": 0, \"ticks\": \"\"}}, \"type\": \"parcoords\"}], \"pie\": [{\"automargin\": true, \"type\": \"pie\"}], \"scatter\": [{\"marker\": {\"colorbar\": {\"outlinewidth\": 0, \"ticks\": \"\"}}, \"type\": \"scatter\"}], \"scatter3d\": [{\"line\": {\"colorbar\": {\"outlinewidth\": 0, \"ticks\": \"\"}}, \"marker\": {\"colorbar\": {\"outlinewidth\": 0, \"ticks\": \"\"}}, \"type\": \"scatter3d\"}], \"scattercarpet\": [{\"marker\": {\"colorbar\": {\"outlinewidth\": 0, \"ticks\": \"\"}}, \"type\": \"scattercarpet\"}], \"scattergeo\": [{\"marker\": {\"colorbar\": {\"outlinewidth\": 0, \"ticks\": \"\"}}, \"type\": \"scattergeo\"}], \"scattergl\": [{\"marker\": {\"colorbar\": {\"outlinewidth\": 0, \"ticks\": \"\"}}, \"type\": \"scattergl\"}], \"scattermapbox\": [{\"marker\": {\"colorbar\": {\"outlinewidth\": 0, \"ticks\": \"\"}}, \"type\": \"scattermapbox\"}], \"scatterpolar\": [{\"marker\": {\"colorbar\": {\"outlinewidth\": 0, \"ticks\": \"\"}}, \"type\": \"scatterpolar\"}], \"scatterpolargl\": [{\"marker\": {\"colorbar\": {\"outlinewidth\": 0, \"ticks\": \"\"}}, \"type\": \"scatterpolargl\"}], \"scatterternary\": [{\"marker\": {\"colorbar\": {\"outlinewidth\": 0, \"ticks\": \"\"}}, \"type\": \"scatterternary\"}], \"surface\": [{\"colorbar\": {\"outlinewidth\": 0, \"ticks\": \"\"}, \"colorscale\": [[0.0, \"#0d0887\"], [0.1111111111111111, \"#46039f\"], [0.2222222222222222, \"#7201a8\"], [0.3333333333333333, \"#9c179e\"], [0.4444444444444444, \"#bd3786\"], [0.5555555555555556, \"#d8576b\"], [0.6666666666666666, \"#ed7953\"], [0.7777777777777778, \"#fb9f3a\"], [0.8888888888888888, \"#fdca26\"], [1.0, \"#f0f921\"]], \"type\": \"surface\"}], \"table\": [{\"cells\": {\"fill\": {\"color\": \"#EBF0F8\"}, \"line\": {\"color\": \"white\"}}, \"header\": {\"fill\": {\"color\": \"#C8D4E3\"}, \"line\": {\"color\": \"white\"}}, \"type\": \"table\"}]}, \"layout\": {\"annotationdefaults\": {\"arrowcolor\": \"#2a3f5f\", \"arrowhead\": 0, \"arrowwidth\": 1}, \"autotypenumbers\": \"strict\", \"coloraxis\": {\"colorbar\": {\"outlinewidth\": 0, \"ticks\": \"\"}}, \"colorscale\": {\"diverging\": [[0, \"#8e0152\"], [0.1, \"#c51b7d\"], [0.2, \"#de77ae\"], [0.3, \"#f1b6da\"], [0.4, \"#fde0ef\"], [0.5, \"#f7f7f7\"], [0.6, \"#e6f5d0\"], [0.7, \"#b8e186\"], [0.8, \"#7fbc41\"], [0.9, \"#4d9221\"], [1, \"#276419\"]], \"sequential\": [[0.0, \"#0d0887\"], [0.1111111111111111, \"#46039f\"], [0.2222222222222222, \"#7201a8\"], [0.3333333333333333, \"#9c179e\"], [0.4444444444444444, \"#bd3786\"], [0.5555555555555556, \"#d8576b\"], [0.6666666666666666, \"#ed7953\"], [0.7777777777777778, \"#fb9f3a\"], [0.8888888888888888, \"#fdca26\"], [1.0, \"#f0f921\"]], \"sequentialminus\": [[0.0, \"#0d0887\"], [0.1111111111111111, \"#46039f\"], [0.2222222222222222, \"#7201a8\"], [0.3333333333333333, \"#9c179e\"], [0.4444444444444444, \"#bd3786\"], [0.5555555555555556, \"#d8576b\"], [0.6666666666666666, \"#ed7953\"], [0.7777777777777778, \"#fb9f3a\"], [0.8888888888888888, \"#fdca26\"], [1.0, \"#f0f921\"]]}, \"colorway\": [\"#636efa\", \"#EF553B\", \"#00cc96\", \"#ab63fa\", \"#FFA15A\", \"#19d3f3\", \"#FF6692\", \"#B6E880\", \"#FF97FF\", \"#FECB52\"], \"font\": {\"color\": \"#2a3f5f\"}, \"geo\": {\"bgcolor\": \"white\", \"lakecolor\": \"white\", \"landcolor\": \"#E5ECF6\", \"showlakes\": true, \"showland\": true, \"subunitcolor\": \"white\"}, \"hoverlabel\": {\"align\": \"left\"}, \"hovermode\": \"closest\", \"mapbox\": {\"style\": \"light\"}, \"paper_bgcolor\": \"white\", \"plot_bgcolor\": \"#E5ECF6\", \"polar\": {\"angularaxis\": {\"gridcolor\": \"white\", \"linecolor\": \"white\", \"ticks\": \"\"}, \"bgcolor\": \"#E5ECF6\", \"radialaxis\": {\"gridcolor\": \"white\", \"linecolor\": \"white\", \"ticks\": \"\"}}, \"scene\": {\"xaxis\": {\"backgroundcolor\": \"#E5ECF6\", \"gridcolor\": \"white\", \"gridwidth\": 2, \"linecolor\": \"white\", \"showbackground\": true, \"ticks\": \"\", \"zerolinecolor\": \"white\"}, \"yaxis\": {\"backgroundcolor\": \"#E5ECF6\", \"gridcolor\": \"white\", \"gridwidth\": 2, \"linecolor\": \"white\", \"showbackground\": true, \"ticks\": \"\", \"zerolinecolor\": \"white\"}, \"zaxis\": {\"backgroundcolor\": \"#E5ECF6\", \"gridcolor\": \"white\", \"gridwidth\": 2, \"linecolor\": \"white\", \"showbackground\": true, \"ticks\": \"\", \"zerolinecolor\": \"white\"}}, \"shapedefaults\": {\"line\": {\"color\": \"#2a3f5f\"}}, \"ternary\": {\"aaxis\": {\"gridcolor\": \"white\", \"linecolor\": \"white\", \"ticks\": \"\"}, \"baxis\": {\"gridcolor\": \"white\", \"linecolor\": \"white\", \"ticks\": \"\"}, \"bgcolor\": \"#E5ECF6\", \"caxis\": {\"gridcolor\": \"white\", \"linecolor\": \"white\", \"ticks\": \"\"}}, \"title\": {\"x\": 0.05}, \"xaxis\": {\"automargin\": true, \"gridcolor\": \"white\", \"linecolor\": \"white\", \"ticks\": \"\", \"title\": {\"standoff\": 15}, \"zerolinecolor\": \"white\", \"zerolinewidth\": 2}, \"yaxis\": {\"automargin\": true, \"gridcolor\": \"white\", \"linecolor\": \"white\", \"ticks\": \"\", \"title\": {\"standoff\": 15}, \"zerolinecolor\": \"white\", \"zerolinewidth\": 2}}}, \"title\": {\"text\": \"(30%~88%)(Filtered_Z_score_583nm #1)(shift 0)(RMSE=5.42077)\"}, \"width\": 900, \"xaxis\": {\"anchor\": \"y\", \"domain\": [0.0, 1.0]}, \"xaxis2\": {\"anchor\": \"y2\", \"domain\": [0.0, 1.0]}, \"xaxis3\": {\"anchor\": \"y3\", \"domain\": [0.0, 1.0]}, \"xaxis4\": {\"anchor\": \"y4\", \"domain\": [0.0, 1.0]}, \"yaxis\": {\"anchor\": \"x\", \"domain\": [0.8833333333333333, 1.0]}, \"yaxis2\": {\"anchor\": \"x2\", \"domain\": [0.6666666666666666, 0.7833333333333333]}, \"yaxis3\": {\"anchor\": \"x3\", \"domain\": [0.44999999999999996, 0.5666666666666667]}, \"yaxis4\": {\"anchor\": \"x4\", \"domain\": [0.0, 0.35], \"range\": [-13.7, 2.5]}},                        {\"responsive\": true}                    ).then(function(){\n",
       "                            \n",
       "var gd = document.getElementById('70df2fab-7a2a-44f3-87d3-11af5fbf73ba');\n",
       "var x = new MutationObserver(function (mutations, observer) {{\n",
       "        var display = window.getComputedStyle(gd).display;\n",
       "        if (!display || display === 'none') {{\n",
       "            console.log([gd, 'removed!']);\n",
       "            Plotly.purge(gd);\n",
       "            observer.disconnect();\n",
       "        }}\n",
       "}});\n",
       "\n",
       "// Listen for the removal of the full notebook cells\n",
       "var notebookContainer = gd.closest('#notebook-container');\n",
       "if (notebookContainer) {{\n",
       "    x.observe(notebookContainer, {childList: true});\n",
       "}}\n",
       "\n",
       "// Listen for the clearing of the current output cell\n",
       "var outputEl = gd.closest('.output');\n",
       "if (outputEl) {{\n",
       "    x.observe(outputEl, {childList: true});\n",
       "}}\n",
       "\n",
       "                        })                };                });            </script>        </div>"
      ]
     },
     "metadata": {},
     "output_type": "display_data"
    },
    {
     "name": "stdout",
     "output_type": "stream",
     "text": [
      "sensor_number: #20221107095426\n"
     ]
    },
    {
     "data": {
      "application/vnd.plotly.v1+json": {
       "config": {
        "plotlyServerURL": "https://plot.ly"
       },
       "data": [
        {
         "name": "Humidity",
         "type": "scatter",
         "xaxis": "x",
         "y": [
          31.44073486328125,
          31.4117431640625,
          31.20574951171875,
          31.268310546875,
          31.31561279296875,
          30.36651611328125,
          30.3863525390625,
          30.47637939453125,
          30.33447265625,
          30.36041259765625,
          30.1788330078125,
          30.19561767578125,
          30.0384521484375,
          30.09185791015625,
          30.145263671875,
          29.8187255859375,
          29.92401123046875,
          29.99267578125,
          29.87518310546875,
          29.8553466796875,
          60.48736572265625,
          60.29052734375,
          60.38055419921875,
          60.614013671875,
          60.50872802734375,
          60.88409423828125,
          61.083984375,
          60.86273193359375,
          60.8978271484375,
          61.06719970703125,
          61.3037109375,
          61.42730712890625,
          61.1724853515625,
          61.33575439453125,
          61.5692138671875,
          61.334228515625,
          61.57684326171875,
          61.5997314453125,
          61.38458251953125,
          61.5966796875,
          88.48419189453125,
          88.58642578125,
          88.86871337890625,
          88.56201171875,
          88.61541748046875,
          88.96026611328125,
          88.96484375,
          89.17388916015625,
          89.044189453125,
          88.92059326171875,
          89.6240234375,
          89.96734619140625,
          89.794921875,
          89.74456787109375,
          89.8895263671875,
          89.892578125,
          90.04974365234375,
          90.2587890625,
          89.91241455078125,
          90.0390625
         ],
         "yaxis": "y"
        },
        {
         "name": "Temperature",
         "type": "scatter",
         "xaxis": "x2",
         "y": [
          30.13557434082031,
          30.14312744140625,
          30.13557434082031,
          30.138092041015625,
          30.14060974121093,
          30.165786743164062,
          30.1531982421875,
          30.15068054199219,
          30.14312744140625,
          30.13557434082031,
          30.148162841796875,
          30.15571594238281,
          30.148162841796875,
          30.14564514160156,
          30.148162841796875,
          30.148162841796875,
          30.14564514160156,
          30.14312744140625,
          30.14564514160156,
          30.148162841796875,
          30.19096374511719,
          30.1934814453125,
          30.19599914550781,
          30.1934814453125,
          30.18089294433593,
          30.17585754394531,
          30.17333984375,
          30.19096374511719,
          30.178375244140625,
          30.18089294433593,
          30.16830444335937,
          30.18089294433593,
          30.158233642578125,
          30.17082214355469,
          30.17333984375,
          30.16830444335937,
          30.18089294433593,
          30.16830444335937,
          30.15571594238281,
          30.17333984375,
          30.206069946289062,
          30.213623046875,
          30.21614074707031,
          30.20858764648437,
          30.20103454589844,
          30.19096374511719,
          30.198516845703125,
          30.18592834472656,
          30.188446044921875,
          30.19599914550781,
          30.188446044921875,
          30.19096374511719,
          30.18341064453125,
          30.17585754394531,
          30.1934814453125,
          30.18341064453125,
          30.18592834472656,
          30.1934814453125,
          30.18592834472656,
          30.178375244140625
         ],
         "yaxis": "y2"
        },
        {
         "name": "ppm",
         "type": "scatter",
         "xaxis": "x3",
         "y": [
          0,
          0,
          0,
          0,
          0,
          10.013250993824537,
          9.998125351496594,
          10.00075005625422,
          10.000250006250155,
          10.0130006500325,
          40.00050000625008,
          39.99800009999501,
          39.99700022498312,
          39.99950000624992,
          40.0125,
          60.0030001500075,
          59.97200139993001,
          60.02049846261532,
          60.035506213587375,
          60.02575032187902,
          0,
          0,
          0,
          0,
          0,
          10.01362653298496,
          10.02625328166021,
          10.0013751890885,
          10.024373476657711,
          9.975498774938746,
          39.99200159968006,
          39.99950000624992,
          39.9965003062232,
          40.009999375039065,
          40.0035003062768,
          59.99925000937489,
          59.97200139993001,
          60.01674769719164,
          59.988249853123165,
          60.01775155326091,
          0,
          0,
          0,
          0,
          0,
          10.01362653298496,
          10.01362653298496,
          9.986501349865016,
          9.987375157810527,
          10.000250006250155,
          39.98849971249281,
          39.99349902485373,
          39.99750015624024,
          39.990999212431085,
          39.98350164983502,
          59.98399759963996,
          60.00225008437816,
          60.00874945315918,
          60.02800140007,
          60.0125
         ],
         "yaxis": "y3"
        },
        {
         "name": "pred_ppm",
         "type": "scatter",
         "xaxis": "x3",
         "y": [
          -7.650420143601181,
          -7.6042940401286145,
          -7.863189581306447,
          -7.761446093959176,
          -8.123049794451635,
          5.276546399941223,
          5.078550579051353,
          4.869862246388197,
          5.166504144503487,
          4.942042225397183,
          34.77237862144096,
          34.74672857390212,
          35.01619798918512,
          34.92244077994749,
          35.16743421962609,
          53.14955706955448,
          53.3375986606619,
          53.11913644166503,
          53.094493294624044,
          53.143930769885365,
          -6.287600671507988,
          -5.8809997111135015,
          -6.0125178313660825,
          -6.584374994822962,
          -6.267543479038885,
          4.671235346938059,
          4.558112455023289,
          4.8359184968390565,
          4.670140905015183,
          4.645258269095737,
          33.6940106852561,
          33.780591535283605,
          34.1029548231962,
          34.29824597051559,
          33.94301919483625,
          51.818211092336085,
          51.44879548884745,
          52.01667205257764,
          52.24505346869216,
          52.35407541856985,
          -4.208504942820401,
          -4.182568681249972,
          -4.269332893691342,
          -4.270323111645645,
          -4.226715639324761,
          6.535026051855444,
          6.274075853027995,
          6.565851076633079,
          6.5997937833930855,
          6.623365460884679,
          35.29509789260452,
          35.499678887152385,
          36.0025085607507,
          36.32822786504701,
          35.88650611104998,
          54.831433010383584,
          54.987484939238215,
          54.37201879769966,
          55.00915075281568,
          54.54294855996965
         ],
         "yaxis": "y3"
        },
        {
         "name": "ppm error",
         "text": [
          "-7.8",
          "-4.9",
          "-5.1",
          "-6.8",
          "-6.2",
          "-5.3",
          "-6.0",
          "-8.0",
          "-4.2",
          "-3.5",
          "-4.2",
          "-5.3"
         ],
         "textposition": "auto",
         "type": "bar",
         "xaxis": "x4",
         "y": [
          -7.8,
          -4.9,
          -5.1,
          -6.8,
          -6.2,
          -5.3,
          -6,
          -8,
          -4.2,
          -3.5,
          -4.2,
          -5.3
         ],
         "yaxis": "y4"
        }
       ],
       "layout": {
        "annotations": [
         {
          "font": {
           "size": 16
          },
          "showarrow": false,
          "text": "Humidity",
          "x": 0.5,
          "xanchor": "center",
          "xref": "paper",
          "y": 1,
          "yanchor": "bottom",
          "yref": "paper"
         },
         {
          "font": {
           "size": 16
          },
          "showarrow": false,
          "text": "Temperature",
          "x": 0.5,
          "xanchor": "center",
          "xref": "paper",
          "y": 0.7833333333333333,
          "yanchor": "bottom",
          "yref": "paper"
         },
         {
          "font": {
           "size": 16
          },
          "showarrow": false,
          "text": "Prediction",
          "x": 0.5,
          "xanchor": "center",
          "xref": "paper",
          "y": 0.5666666666666667,
          "yanchor": "bottom",
          "yref": "paper"
         },
         {
          "font": {
           "size": 16
          },
          "showarrow": false,
          "text": "ppm error",
          "x": 0.5,
          "xanchor": "center",
          "xref": "paper",
          "y": 0.35,
          "yanchor": "bottom",
          "yref": "paper"
         }
        ],
        "height": 800,
        "legend": {
         "tracegroupgap": 135
        },
        "template": {
         "data": {
          "bar": [
           {
            "error_x": {
             "color": "#2a3f5f"
            },
            "error_y": {
             "color": "#2a3f5f"
            },
            "marker": {
             "line": {
              "color": "#E5ECF6",
              "width": 0.5
             }
            },
            "type": "bar"
           }
          ],
          "barpolar": [
           {
            "marker": {
             "line": {
              "color": "#E5ECF6",
              "width": 0.5
             }
            },
            "type": "barpolar"
           }
          ],
          "carpet": [
           {
            "aaxis": {
             "endlinecolor": "#2a3f5f",
             "gridcolor": "white",
             "linecolor": "white",
             "minorgridcolor": "white",
             "startlinecolor": "#2a3f5f"
            },
            "baxis": {
             "endlinecolor": "#2a3f5f",
             "gridcolor": "white",
             "linecolor": "white",
             "minorgridcolor": "white",
             "startlinecolor": "#2a3f5f"
            },
            "type": "carpet"
           }
          ],
          "choropleth": [
           {
            "colorbar": {
             "outlinewidth": 0,
             "ticks": ""
            },
            "type": "choropleth"
           }
          ],
          "contour": [
           {
            "colorbar": {
             "outlinewidth": 0,
             "ticks": ""
            },
            "colorscale": [
             [
              0,
              "#0d0887"
             ],
             [
              0.1111111111111111,
              "#46039f"
             ],
             [
              0.2222222222222222,
              "#7201a8"
             ],
             [
              0.3333333333333333,
              "#9c179e"
             ],
             [
              0.4444444444444444,
              "#bd3786"
             ],
             [
              0.5555555555555556,
              "#d8576b"
             ],
             [
              0.6666666666666666,
              "#ed7953"
             ],
             [
              0.7777777777777778,
              "#fb9f3a"
             ],
             [
              0.8888888888888888,
              "#fdca26"
             ],
             [
              1,
              "#f0f921"
             ]
            ],
            "type": "contour"
           }
          ],
          "contourcarpet": [
           {
            "colorbar": {
             "outlinewidth": 0,
             "ticks": ""
            },
            "type": "contourcarpet"
           }
          ],
          "heatmap": [
           {
            "colorbar": {
             "outlinewidth": 0,
             "ticks": ""
            },
            "colorscale": [
             [
              0,
              "#0d0887"
             ],
             [
              0.1111111111111111,
              "#46039f"
             ],
             [
              0.2222222222222222,
              "#7201a8"
             ],
             [
              0.3333333333333333,
              "#9c179e"
             ],
             [
              0.4444444444444444,
              "#bd3786"
             ],
             [
              0.5555555555555556,
              "#d8576b"
             ],
             [
              0.6666666666666666,
              "#ed7953"
             ],
             [
              0.7777777777777778,
              "#fb9f3a"
             ],
             [
              0.8888888888888888,
              "#fdca26"
             ],
             [
              1,
              "#f0f921"
             ]
            ],
            "type": "heatmap"
           }
          ],
          "heatmapgl": [
           {
            "colorbar": {
             "outlinewidth": 0,
             "ticks": ""
            },
            "colorscale": [
             [
              0,
              "#0d0887"
             ],
             [
              0.1111111111111111,
              "#46039f"
             ],
             [
              0.2222222222222222,
              "#7201a8"
             ],
             [
              0.3333333333333333,
              "#9c179e"
             ],
             [
              0.4444444444444444,
              "#bd3786"
             ],
             [
              0.5555555555555556,
              "#d8576b"
             ],
             [
              0.6666666666666666,
              "#ed7953"
             ],
             [
              0.7777777777777778,
              "#fb9f3a"
             ],
             [
              0.8888888888888888,
              "#fdca26"
             ],
             [
              1,
              "#f0f921"
             ]
            ],
            "type": "heatmapgl"
           }
          ],
          "histogram": [
           {
            "marker": {
             "colorbar": {
              "outlinewidth": 0,
              "ticks": ""
             }
            },
            "type": "histogram"
           }
          ],
          "histogram2d": [
           {
            "colorbar": {
             "outlinewidth": 0,
             "ticks": ""
            },
            "colorscale": [
             [
              0,
              "#0d0887"
             ],
             [
              0.1111111111111111,
              "#46039f"
             ],
             [
              0.2222222222222222,
              "#7201a8"
             ],
             [
              0.3333333333333333,
              "#9c179e"
             ],
             [
              0.4444444444444444,
              "#bd3786"
             ],
             [
              0.5555555555555556,
              "#d8576b"
             ],
             [
              0.6666666666666666,
              "#ed7953"
             ],
             [
              0.7777777777777778,
              "#fb9f3a"
             ],
             [
              0.8888888888888888,
              "#fdca26"
             ],
             [
              1,
              "#f0f921"
             ]
            ],
            "type": "histogram2d"
           }
          ],
          "histogram2dcontour": [
           {
            "colorbar": {
             "outlinewidth": 0,
             "ticks": ""
            },
            "colorscale": [
             [
              0,
              "#0d0887"
             ],
             [
              0.1111111111111111,
              "#46039f"
             ],
             [
              0.2222222222222222,
              "#7201a8"
             ],
             [
              0.3333333333333333,
              "#9c179e"
             ],
             [
              0.4444444444444444,
              "#bd3786"
             ],
             [
              0.5555555555555556,
              "#d8576b"
             ],
             [
              0.6666666666666666,
              "#ed7953"
             ],
             [
              0.7777777777777778,
              "#fb9f3a"
             ],
             [
              0.8888888888888888,
              "#fdca26"
             ],
             [
              1,
              "#f0f921"
             ]
            ],
            "type": "histogram2dcontour"
           }
          ],
          "mesh3d": [
           {
            "colorbar": {
             "outlinewidth": 0,
             "ticks": ""
            },
            "type": "mesh3d"
           }
          ],
          "parcoords": [
           {
            "line": {
             "colorbar": {
              "outlinewidth": 0,
              "ticks": ""
             }
            },
            "type": "parcoords"
           }
          ],
          "pie": [
           {
            "automargin": true,
            "type": "pie"
           }
          ],
          "scatter": [
           {
            "marker": {
             "colorbar": {
              "outlinewidth": 0,
              "ticks": ""
             }
            },
            "type": "scatter"
           }
          ],
          "scatter3d": [
           {
            "line": {
             "colorbar": {
              "outlinewidth": 0,
              "ticks": ""
             }
            },
            "marker": {
             "colorbar": {
              "outlinewidth": 0,
              "ticks": ""
             }
            },
            "type": "scatter3d"
           }
          ],
          "scattercarpet": [
           {
            "marker": {
             "colorbar": {
              "outlinewidth": 0,
              "ticks": ""
             }
            },
            "type": "scattercarpet"
           }
          ],
          "scattergeo": [
           {
            "marker": {
             "colorbar": {
              "outlinewidth": 0,
              "ticks": ""
             }
            },
            "type": "scattergeo"
           }
          ],
          "scattergl": [
           {
            "marker": {
             "colorbar": {
              "outlinewidth": 0,
              "ticks": ""
             }
            },
            "type": "scattergl"
           }
          ],
          "scattermapbox": [
           {
            "marker": {
             "colorbar": {
              "outlinewidth": 0,
              "ticks": ""
             }
            },
            "type": "scattermapbox"
           }
          ],
          "scatterpolar": [
           {
            "marker": {
             "colorbar": {
              "outlinewidth": 0,
              "ticks": ""
             }
            },
            "type": "scatterpolar"
           }
          ],
          "scatterpolargl": [
           {
            "marker": {
             "colorbar": {
              "outlinewidth": 0,
              "ticks": ""
             }
            },
            "type": "scatterpolargl"
           }
          ],
          "scatterternary": [
           {
            "marker": {
             "colorbar": {
              "outlinewidth": 0,
              "ticks": ""
             }
            },
            "type": "scatterternary"
           }
          ],
          "surface": [
           {
            "colorbar": {
             "outlinewidth": 0,
             "ticks": ""
            },
            "colorscale": [
             [
              0,
              "#0d0887"
             ],
             [
              0.1111111111111111,
              "#46039f"
             ],
             [
              0.2222222222222222,
              "#7201a8"
             ],
             [
              0.3333333333333333,
              "#9c179e"
             ],
             [
              0.4444444444444444,
              "#bd3786"
             ],
             [
              0.5555555555555556,
              "#d8576b"
             ],
             [
              0.6666666666666666,
              "#ed7953"
             ],
             [
              0.7777777777777778,
              "#fb9f3a"
             ],
             [
              0.8888888888888888,
              "#fdca26"
             ],
             [
              1,
              "#f0f921"
             ]
            ],
            "type": "surface"
           }
          ],
          "table": [
           {
            "cells": {
             "fill": {
              "color": "#EBF0F8"
             },
             "line": {
              "color": "white"
             }
            },
            "header": {
             "fill": {
              "color": "#C8D4E3"
             },
             "line": {
              "color": "white"
             }
            },
            "type": "table"
           }
          ]
         },
         "layout": {
          "annotationdefaults": {
           "arrowcolor": "#2a3f5f",
           "arrowhead": 0,
           "arrowwidth": 1
          },
          "autotypenumbers": "strict",
          "coloraxis": {
           "colorbar": {
            "outlinewidth": 0,
            "ticks": ""
           }
          },
          "colorscale": {
           "diverging": [
            [
             0,
             "#8e0152"
            ],
            [
             0.1,
             "#c51b7d"
            ],
            [
             0.2,
             "#de77ae"
            ],
            [
             0.3,
             "#f1b6da"
            ],
            [
             0.4,
             "#fde0ef"
            ],
            [
             0.5,
             "#f7f7f7"
            ],
            [
             0.6,
             "#e6f5d0"
            ],
            [
             0.7,
             "#b8e186"
            ],
            [
             0.8,
             "#7fbc41"
            ],
            [
             0.9,
             "#4d9221"
            ],
            [
             1,
             "#276419"
            ]
           ],
           "sequential": [
            [
             0,
             "#0d0887"
            ],
            [
             0.1111111111111111,
             "#46039f"
            ],
            [
             0.2222222222222222,
             "#7201a8"
            ],
            [
             0.3333333333333333,
             "#9c179e"
            ],
            [
             0.4444444444444444,
             "#bd3786"
            ],
            [
             0.5555555555555556,
             "#d8576b"
            ],
            [
             0.6666666666666666,
             "#ed7953"
            ],
            [
             0.7777777777777778,
             "#fb9f3a"
            ],
            [
             0.8888888888888888,
             "#fdca26"
            ],
            [
             1,
             "#f0f921"
            ]
           ],
           "sequentialminus": [
            [
             0,
             "#0d0887"
            ],
            [
             0.1111111111111111,
             "#46039f"
            ],
            [
             0.2222222222222222,
             "#7201a8"
            ],
            [
             0.3333333333333333,
             "#9c179e"
            ],
            [
             0.4444444444444444,
             "#bd3786"
            ],
            [
             0.5555555555555556,
             "#d8576b"
            ],
            [
             0.6666666666666666,
             "#ed7953"
            ],
            [
             0.7777777777777778,
             "#fb9f3a"
            ],
            [
             0.8888888888888888,
             "#fdca26"
            ],
            [
             1,
             "#f0f921"
            ]
           ]
          },
          "colorway": [
           "#636efa",
           "#EF553B",
           "#00cc96",
           "#ab63fa",
           "#FFA15A",
           "#19d3f3",
           "#FF6692",
           "#B6E880",
           "#FF97FF",
           "#FECB52"
          ],
          "font": {
           "color": "#2a3f5f"
          },
          "geo": {
           "bgcolor": "white",
           "lakecolor": "white",
           "landcolor": "#E5ECF6",
           "showlakes": true,
           "showland": true,
           "subunitcolor": "white"
          },
          "hoverlabel": {
           "align": "left"
          },
          "hovermode": "closest",
          "mapbox": {
           "style": "light"
          },
          "paper_bgcolor": "white",
          "plot_bgcolor": "#E5ECF6",
          "polar": {
           "angularaxis": {
            "gridcolor": "white",
            "linecolor": "white",
            "ticks": ""
           },
           "bgcolor": "#E5ECF6",
           "radialaxis": {
            "gridcolor": "white",
            "linecolor": "white",
            "ticks": ""
           }
          },
          "scene": {
           "xaxis": {
            "backgroundcolor": "#E5ECF6",
            "gridcolor": "white",
            "gridwidth": 2,
            "linecolor": "white",
            "showbackground": true,
            "ticks": "",
            "zerolinecolor": "white"
           },
           "yaxis": {
            "backgroundcolor": "#E5ECF6",
            "gridcolor": "white",
            "gridwidth": 2,
            "linecolor": "white",
            "showbackground": true,
            "ticks": "",
            "zerolinecolor": "white"
           },
           "zaxis": {
            "backgroundcolor": "#E5ECF6",
            "gridcolor": "white",
            "gridwidth": 2,
            "linecolor": "white",
            "showbackground": true,
            "ticks": "",
            "zerolinecolor": "white"
           }
          },
          "shapedefaults": {
           "line": {
            "color": "#2a3f5f"
           }
          },
          "ternary": {
           "aaxis": {
            "gridcolor": "white",
            "linecolor": "white",
            "ticks": ""
           },
           "baxis": {
            "gridcolor": "white",
            "linecolor": "white",
            "ticks": ""
           },
           "bgcolor": "#E5ECF6",
           "caxis": {
            "gridcolor": "white",
            "linecolor": "white",
            "ticks": ""
           }
          },
          "title": {
           "x": 0.05
          },
          "xaxis": {
           "automargin": true,
           "gridcolor": "white",
           "linecolor": "white",
           "ticks": "",
           "title": {
            "standoff": 15
           },
           "zerolinecolor": "white",
           "zerolinewidth": 2
          },
          "yaxis": {
           "automargin": true,
           "gridcolor": "white",
           "linecolor": "white",
           "ticks": "",
           "title": {
            "standoff": 15
           },
           "zerolinecolor": "white",
           "zerolinewidth": 2
          }
         }
        },
        "title": {
         "text": "(29%~90%)(Filtered_Z_score_583nm #1)(shift 0)(RMSE=5.78292)"
        },
        "width": 900,
        "xaxis": {
         "anchor": "y",
         "domain": [
          0,
          1
         ]
        },
        "xaxis2": {
         "anchor": "y2",
         "domain": [
          0,
          1
         ]
        },
        "xaxis3": {
         "anchor": "y3",
         "domain": [
          0,
          1
         ]
        },
        "xaxis4": {
         "anchor": "y4",
         "domain": [
          0,
          1
         ]
        },
        "yaxis": {
         "anchor": "x",
         "domain": [
          0.8833333333333333,
          1
         ]
        },
        "yaxis2": {
         "anchor": "x2",
         "domain": [
          0.6666666666666666,
          0.7833333333333333
         ]
        },
        "yaxis3": {
         "anchor": "x3",
         "domain": [
          0.44999999999999996,
          0.5666666666666667
         ]
        },
        "yaxis4": {
         "anchor": "x4",
         "domain": [
          0,
          0.35
         ],
         "range": [
          -14,
          2.5
         ]
        }
       }
      },
      "text/html": [
       "<div>                            <div id=\"b7787d4f-f943-4f30-922c-c01c07b2d81c\" class=\"plotly-graph-div\" style=\"height:800px; width:900px;\"></div>            <script type=\"text/javascript\">                require([\"plotly\"], function(Plotly) {                    window.PLOTLYENV=window.PLOTLYENV || {};                                    if (document.getElementById(\"b7787d4f-f943-4f30-922c-c01c07b2d81c\")) {                    Plotly.newPlot(                        \"b7787d4f-f943-4f30-922c-c01c07b2d81c\",                        [{\"name\": \"Humidity\", \"type\": \"scatter\", \"xaxis\": \"x\", \"y\": [31.44073486328125, 31.4117431640625, 31.20574951171875, 31.268310546875, 31.31561279296875, 30.36651611328125, 30.3863525390625, 30.47637939453125, 30.33447265625, 30.36041259765625, 30.1788330078125, 30.19561767578125, 30.0384521484375, 30.09185791015625, 30.145263671875, 29.8187255859375, 29.92401123046875, 29.99267578125, 29.87518310546875, 29.8553466796875, 60.48736572265625, 60.29052734375, 60.38055419921875, 60.614013671875, 60.50872802734375, 60.88409423828125, 61.083984375, 60.86273193359375, 60.8978271484375, 61.06719970703125, 61.3037109375, 61.42730712890625, 61.1724853515625, 61.33575439453125, 61.5692138671875, 61.334228515625, 61.57684326171875, 61.5997314453125, 61.38458251953125, 61.5966796875, 88.48419189453125, 88.58642578125, 88.86871337890625, 88.56201171875, 88.61541748046875, 88.96026611328125, 88.96484375, 89.17388916015625, 89.044189453125, 88.92059326171875, 89.6240234375, 89.96734619140625, 89.794921875, 89.74456787109375, 89.8895263671875, 89.892578125, 90.04974365234375, 90.2587890625, 89.91241455078125, 90.0390625], \"yaxis\": \"y\"}, {\"name\": \"Temperature\", \"type\": \"scatter\", \"xaxis\": \"x2\", \"y\": [30.13557434082031, 30.14312744140625, 30.13557434082031, 30.138092041015625, 30.14060974121093, 30.165786743164062, 30.1531982421875, 30.15068054199219, 30.14312744140625, 30.13557434082031, 30.148162841796875, 30.15571594238281, 30.148162841796875, 30.14564514160156, 30.148162841796875, 30.148162841796875, 30.14564514160156, 30.14312744140625, 30.14564514160156, 30.148162841796875, 30.19096374511719, 30.1934814453125, 30.19599914550781, 30.1934814453125, 30.18089294433593, 30.17585754394531, 30.17333984375, 30.19096374511719, 30.178375244140625, 30.18089294433593, 30.16830444335937, 30.18089294433593, 30.158233642578125, 30.17082214355469, 30.17333984375, 30.16830444335937, 30.18089294433593, 30.16830444335937, 30.15571594238281, 30.17333984375, 30.206069946289062, 30.213623046875, 30.21614074707031, 30.20858764648437, 30.20103454589844, 30.19096374511719, 30.198516845703125, 30.18592834472656, 30.188446044921875, 30.19599914550781, 30.188446044921875, 30.19096374511719, 30.18341064453125, 30.17585754394531, 30.1934814453125, 30.18341064453125, 30.18592834472656, 30.1934814453125, 30.18592834472656, 30.178375244140625], \"yaxis\": \"y2\"}, {\"name\": \"ppm\", \"type\": \"scatter\", \"xaxis\": \"x3\", \"y\": [0.0, 0.0, 0.0, 0.0, 0.0, 10.013250993824537, 9.998125351496594, 10.00075005625422, 10.000250006250155, 10.0130006500325, 40.00050000625008, 39.99800009999501, 39.99700022498312, 39.99950000624992, 40.0125, 60.0030001500075, 59.97200139993001, 60.02049846261532, 60.035506213587375, 60.02575032187902, 0.0, 0.0, 0.0, 0.0, 0.0, 10.01362653298496, 10.02625328166021, 10.0013751890885, 10.024373476657711, 9.975498774938746, 39.99200159968006, 39.99950000624992, 39.9965003062232, 40.009999375039065, 40.0035003062768, 59.99925000937489, 59.97200139993001, 60.01674769719164, 59.988249853123165, 60.01775155326091, 0.0, 0.0, 0.0, 0.0, 0.0, 10.01362653298496, 10.01362653298496, 9.986501349865016, 9.987375157810527, 10.000250006250155, 39.98849971249281, 39.99349902485373, 39.99750015624024, 39.990999212431085, 39.98350164983502, 59.98399759963996, 60.00225008437816, 60.00874945315918, 60.02800140007, 60.0125], \"yaxis\": \"y3\"}, {\"name\": \"pred_ppm\", \"type\": \"scatter\", \"xaxis\": \"x3\", \"y\": [-7.650420143601181, -7.6042940401286145, -7.863189581306447, -7.761446093959176, -8.123049794451635, 5.276546399941223, 5.078550579051353, 4.869862246388197, 5.166504144503487, 4.942042225397183, 34.77237862144096, 34.74672857390212, 35.01619798918512, 34.92244077994749, 35.16743421962609, 53.14955706955448, 53.3375986606619, 53.11913644166503, 53.094493294624044, 53.143930769885365, -6.287600671507988, -5.8809997111135015, -6.0125178313660825, -6.584374994822962, -6.267543479038885, 4.671235346938059, 4.558112455023289, 4.8359184968390565, 4.670140905015183, 4.645258269095737, 33.6940106852561, 33.780591535283605, 34.1029548231962, 34.29824597051559, 33.94301919483625, 51.818211092336085, 51.44879548884745, 52.01667205257764, 52.24505346869216, 52.35407541856985, -4.208504942820401, -4.182568681249972, -4.269332893691342, -4.270323111645645, -4.226715639324761, 6.535026051855444, 6.274075853027995, 6.565851076633079, 6.5997937833930855, 6.623365460884679, 35.29509789260452, 35.499678887152385, 36.0025085607507, 36.32822786504701, 35.88650611104998, 54.831433010383584, 54.987484939238215, 54.37201879769966, 55.00915075281568, 54.54294855996965], \"yaxis\": \"y3\"}, {\"name\": \"ppm error\", \"text\": [\"-7.8\", \"-4.9\", \"-5.1\", \"-6.8\", \"-6.2\", \"-5.3\", \"-6.0\", \"-8.0\", \"-4.2\", \"-3.5\", \"-4.2\", \"-5.3\"], \"textposition\": \"auto\", \"type\": \"bar\", \"xaxis\": \"x4\", \"y\": [-7.8, -4.9, -5.1, -6.8, -6.2, -5.3, -6.0, -8.0, -4.2, -3.5, -4.2, -5.3], \"yaxis\": \"y4\"}],                        {\"annotations\": [{\"font\": {\"size\": 16}, \"showarrow\": false, \"text\": \"Humidity\", \"x\": 0.5, \"xanchor\": \"center\", \"xref\": \"paper\", \"y\": 1.0, \"yanchor\": \"bottom\", \"yref\": \"paper\"}, {\"font\": {\"size\": 16}, \"showarrow\": false, \"text\": \"Temperature\", \"x\": 0.5, \"xanchor\": \"center\", \"xref\": \"paper\", \"y\": 0.7833333333333333, \"yanchor\": \"bottom\", \"yref\": \"paper\"}, {\"font\": {\"size\": 16}, \"showarrow\": false, \"text\": \"Prediction\", \"x\": 0.5, \"xanchor\": \"center\", \"xref\": \"paper\", \"y\": 0.5666666666666667, \"yanchor\": \"bottom\", \"yref\": \"paper\"}, {\"font\": {\"size\": 16}, \"showarrow\": false, \"text\": \"ppm error\", \"x\": 0.5, \"xanchor\": \"center\", \"xref\": \"paper\", \"y\": 0.35, \"yanchor\": \"bottom\", \"yref\": \"paper\"}], \"height\": 800, \"legend\": {\"tracegroupgap\": 135}, \"template\": {\"data\": {\"bar\": [{\"error_x\": {\"color\": \"#2a3f5f\"}, \"error_y\": {\"color\": \"#2a3f5f\"}, \"marker\": {\"line\": {\"color\": \"#E5ECF6\", \"width\": 0.5}}, \"type\": \"bar\"}], \"barpolar\": [{\"marker\": {\"line\": {\"color\": \"#E5ECF6\", \"width\": 0.5}}, \"type\": \"barpolar\"}], \"carpet\": [{\"aaxis\": {\"endlinecolor\": \"#2a3f5f\", \"gridcolor\": \"white\", \"linecolor\": \"white\", \"minorgridcolor\": \"white\", \"startlinecolor\": \"#2a3f5f\"}, \"baxis\": {\"endlinecolor\": \"#2a3f5f\", \"gridcolor\": \"white\", \"linecolor\": \"white\", \"minorgridcolor\": \"white\", \"startlinecolor\": \"#2a3f5f\"}, \"type\": \"carpet\"}], \"choropleth\": [{\"colorbar\": {\"outlinewidth\": 0, \"ticks\": \"\"}, \"type\": \"choropleth\"}], \"contour\": [{\"colorbar\": {\"outlinewidth\": 0, \"ticks\": \"\"}, \"colorscale\": [[0.0, \"#0d0887\"], [0.1111111111111111, \"#46039f\"], [0.2222222222222222, \"#7201a8\"], [0.3333333333333333, \"#9c179e\"], [0.4444444444444444, \"#bd3786\"], [0.5555555555555556, \"#d8576b\"], [0.6666666666666666, \"#ed7953\"], [0.7777777777777778, \"#fb9f3a\"], [0.8888888888888888, \"#fdca26\"], [1.0, \"#f0f921\"]], \"type\": \"contour\"}], \"contourcarpet\": [{\"colorbar\": {\"outlinewidth\": 0, \"ticks\": \"\"}, \"type\": \"contourcarpet\"}], \"heatmap\": [{\"colorbar\": {\"outlinewidth\": 0, \"ticks\": \"\"}, \"colorscale\": [[0.0, \"#0d0887\"], [0.1111111111111111, \"#46039f\"], [0.2222222222222222, \"#7201a8\"], [0.3333333333333333, \"#9c179e\"], [0.4444444444444444, \"#bd3786\"], [0.5555555555555556, \"#d8576b\"], [0.6666666666666666, \"#ed7953\"], [0.7777777777777778, \"#fb9f3a\"], [0.8888888888888888, \"#fdca26\"], [1.0, \"#f0f921\"]], \"type\": \"heatmap\"}], \"heatmapgl\": [{\"colorbar\": {\"outlinewidth\": 0, \"ticks\": \"\"}, \"colorscale\": [[0.0, \"#0d0887\"], [0.1111111111111111, \"#46039f\"], [0.2222222222222222, \"#7201a8\"], [0.3333333333333333, \"#9c179e\"], [0.4444444444444444, \"#bd3786\"], [0.5555555555555556, \"#d8576b\"], [0.6666666666666666, \"#ed7953\"], [0.7777777777777778, \"#fb9f3a\"], [0.8888888888888888, \"#fdca26\"], [1.0, \"#f0f921\"]], \"type\": \"heatmapgl\"}], \"histogram\": [{\"marker\": {\"colorbar\": {\"outlinewidth\": 0, \"ticks\": \"\"}}, \"type\": \"histogram\"}], \"histogram2d\": [{\"colorbar\": {\"outlinewidth\": 0, \"ticks\": \"\"}, \"colorscale\": [[0.0, \"#0d0887\"], [0.1111111111111111, \"#46039f\"], [0.2222222222222222, \"#7201a8\"], [0.3333333333333333, \"#9c179e\"], [0.4444444444444444, \"#bd3786\"], [0.5555555555555556, \"#d8576b\"], [0.6666666666666666, \"#ed7953\"], [0.7777777777777778, \"#fb9f3a\"], [0.8888888888888888, \"#fdca26\"], [1.0, \"#f0f921\"]], \"type\": \"histogram2d\"}], \"histogram2dcontour\": [{\"colorbar\": {\"outlinewidth\": 0, \"ticks\": \"\"}, \"colorscale\": [[0.0, \"#0d0887\"], [0.1111111111111111, \"#46039f\"], [0.2222222222222222, \"#7201a8\"], [0.3333333333333333, \"#9c179e\"], [0.4444444444444444, \"#bd3786\"], [0.5555555555555556, \"#d8576b\"], [0.6666666666666666, \"#ed7953\"], [0.7777777777777778, \"#fb9f3a\"], [0.8888888888888888, \"#fdca26\"], [1.0, \"#f0f921\"]], \"type\": \"histogram2dcontour\"}], \"mesh3d\": [{\"colorbar\": {\"outlinewidth\": 0, \"ticks\": \"\"}, \"type\": \"mesh3d\"}], \"parcoords\": [{\"line\": {\"colorbar\": {\"outlinewidth\": 0, \"ticks\": \"\"}}, \"type\": \"parcoords\"}], \"pie\": [{\"automargin\": true, \"type\": \"pie\"}], \"scatter\": [{\"marker\": {\"colorbar\": {\"outlinewidth\": 0, \"ticks\": \"\"}}, \"type\": \"scatter\"}], \"scatter3d\": [{\"line\": {\"colorbar\": {\"outlinewidth\": 0, \"ticks\": \"\"}}, \"marker\": {\"colorbar\": {\"outlinewidth\": 0, \"ticks\": \"\"}}, \"type\": \"scatter3d\"}], \"scattercarpet\": [{\"marker\": {\"colorbar\": {\"outlinewidth\": 0, \"ticks\": \"\"}}, \"type\": \"scattercarpet\"}], \"scattergeo\": [{\"marker\": {\"colorbar\": {\"outlinewidth\": 0, \"ticks\": \"\"}}, \"type\": \"scattergeo\"}], \"scattergl\": [{\"marker\": {\"colorbar\": {\"outlinewidth\": 0, \"ticks\": \"\"}}, \"type\": \"scattergl\"}], \"scattermapbox\": [{\"marker\": {\"colorbar\": {\"outlinewidth\": 0, \"ticks\": \"\"}}, \"type\": \"scattermapbox\"}], \"scatterpolar\": [{\"marker\": {\"colorbar\": {\"outlinewidth\": 0, \"ticks\": \"\"}}, \"type\": \"scatterpolar\"}], \"scatterpolargl\": [{\"marker\": {\"colorbar\": {\"outlinewidth\": 0, \"ticks\": \"\"}}, \"type\": \"scatterpolargl\"}], \"scatterternary\": [{\"marker\": {\"colorbar\": {\"outlinewidth\": 0, \"ticks\": \"\"}}, \"type\": \"scatterternary\"}], \"surface\": [{\"colorbar\": {\"outlinewidth\": 0, \"ticks\": \"\"}, \"colorscale\": [[0.0, \"#0d0887\"], [0.1111111111111111, \"#46039f\"], [0.2222222222222222, \"#7201a8\"], [0.3333333333333333, \"#9c179e\"], [0.4444444444444444, \"#bd3786\"], [0.5555555555555556, \"#d8576b\"], [0.6666666666666666, \"#ed7953\"], [0.7777777777777778, \"#fb9f3a\"], [0.8888888888888888, \"#fdca26\"], [1.0, \"#f0f921\"]], \"type\": \"surface\"}], \"table\": [{\"cells\": {\"fill\": {\"color\": \"#EBF0F8\"}, \"line\": {\"color\": \"white\"}}, \"header\": {\"fill\": {\"color\": \"#C8D4E3\"}, \"line\": {\"color\": \"white\"}}, \"type\": \"table\"}]}, \"layout\": {\"annotationdefaults\": {\"arrowcolor\": \"#2a3f5f\", \"arrowhead\": 0, \"arrowwidth\": 1}, \"autotypenumbers\": \"strict\", \"coloraxis\": {\"colorbar\": {\"outlinewidth\": 0, \"ticks\": \"\"}}, \"colorscale\": {\"diverging\": [[0, \"#8e0152\"], [0.1, \"#c51b7d\"], [0.2, \"#de77ae\"], [0.3, \"#f1b6da\"], [0.4, \"#fde0ef\"], [0.5, \"#f7f7f7\"], [0.6, \"#e6f5d0\"], [0.7, \"#b8e186\"], [0.8, \"#7fbc41\"], [0.9, \"#4d9221\"], [1, \"#276419\"]], \"sequential\": [[0.0, \"#0d0887\"], [0.1111111111111111, \"#46039f\"], [0.2222222222222222, \"#7201a8\"], [0.3333333333333333, \"#9c179e\"], [0.4444444444444444, \"#bd3786\"], [0.5555555555555556, \"#d8576b\"], [0.6666666666666666, \"#ed7953\"], [0.7777777777777778, \"#fb9f3a\"], [0.8888888888888888, \"#fdca26\"], [1.0, \"#f0f921\"]], \"sequentialminus\": [[0.0, \"#0d0887\"], [0.1111111111111111, \"#46039f\"], [0.2222222222222222, \"#7201a8\"], [0.3333333333333333, \"#9c179e\"], [0.4444444444444444, \"#bd3786\"], [0.5555555555555556, \"#d8576b\"], [0.6666666666666666, \"#ed7953\"], [0.7777777777777778, \"#fb9f3a\"], [0.8888888888888888, \"#fdca26\"], [1.0, \"#f0f921\"]]}, \"colorway\": [\"#636efa\", \"#EF553B\", \"#00cc96\", \"#ab63fa\", \"#FFA15A\", \"#19d3f3\", \"#FF6692\", \"#B6E880\", \"#FF97FF\", \"#FECB52\"], \"font\": {\"color\": \"#2a3f5f\"}, \"geo\": {\"bgcolor\": \"white\", \"lakecolor\": \"white\", \"landcolor\": \"#E5ECF6\", \"showlakes\": true, \"showland\": true, \"subunitcolor\": \"white\"}, \"hoverlabel\": {\"align\": \"left\"}, \"hovermode\": \"closest\", \"mapbox\": {\"style\": \"light\"}, \"paper_bgcolor\": \"white\", \"plot_bgcolor\": \"#E5ECF6\", \"polar\": {\"angularaxis\": {\"gridcolor\": \"white\", \"linecolor\": \"white\", \"ticks\": \"\"}, \"bgcolor\": \"#E5ECF6\", \"radialaxis\": {\"gridcolor\": \"white\", \"linecolor\": \"white\", \"ticks\": \"\"}}, \"scene\": {\"xaxis\": {\"backgroundcolor\": \"#E5ECF6\", \"gridcolor\": \"white\", \"gridwidth\": 2, \"linecolor\": \"white\", \"showbackground\": true, \"ticks\": \"\", \"zerolinecolor\": \"white\"}, \"yaxis\": {\"backgroundcolor\": \"#E5ECF6\", \"gridcolor\": \"white\", \"gridwidth\": 2, \"linecolor\": \"white\", \"showbackground\": true, \"ticks\": \"\", \"zerolinecolor\": \"white\"}, \"zaxis\": {\"backgroundcolor\": \"#E5ECF6\", \"gridcolor\": \"white\", \"gridwidth\": 2, \"linecolor\": \"white\", \"showbackground\": true, \"ticks\": \"\", \"zerolinecolor\": \"white\"}}, \"shapedefaults\": {\"line\": {\"color\": \"#2a3f5f\"}}, \"ternary\": {\"aaxis\": {\"gridcolor\": \"white\", \"linecolor\": \"white\", \"ticks\": \"\"}, \"baxis\": {\"gridcolor\": \"white\", \"linecolor\": \"white\", \"ticks\": \"\"}, \"bgcolor\": \"#E5ECF6\", \"caxis\": {\"gridcolor\": \"white\", \"linecolor\": \"white\", \"ticks\": \"\"}}, \"title\": {\"x\": 0.05}, \"xaxis\": {\"automargin\": true, \"gridcolor\": \"white\", \"linecolor\": \"white\", \"ticks\": \"\", \"title\": {\"standoff\": 15}, \"zerolinecolor\": \"white\", \"zerolinewidth\": 2}, \"yaxis\": {\"automargin\": true, \"gridcolor\": \"white\", \"linecolor\": \"white\", \"ticks\": \"\", \"title\": {\"standoff\": 15}, \"zerolinecolor\": \"white\", \"zerolinewidth\": 2}}}, \"title\": {\"text\": \"(29%~90%)(Filtered_Z_score_583nm #1)(shift 0)(RMSE=5.78292)\"}, \"width\": 900, \"xaxis\": {\"anchor\": \"y\", \"domain\": [0.0, 1.0]}, \"xaxis2\": {\"anchor\": \"y2\", \"domain\": [0.0, 1.0]}, \"xaxis3\": {\"anchor\": \"y3\", \"domain\": [0.0, 1.0]}, \"xaxis4\": {\"anchor\": \"y4\", \"domain\": [0.0, 1.0]}, \"yaxis\": {\"anchor\": \"x\", \"domain\": [0.8833333333333333, 1.0]}, \"yaxis2\": {\"anchor\": \"x2\", \"domain\": [0.6666666666666666, 0.7833333333333333]}, \"yaxis3\": {\"anchor\": \"x3\", \"domain\": [0.44999999999999996, 0.5666666666666667]}, \"yaxis4\": {\"anchor\": \"x4\", \"domain\": [0.0, 0.35], \"range\": [-14.0, 2.5]}},                        {\"responsive\": true}                    ).then(function(){\n",
       "                            \n",
       "var gd = document.getElementById('b7787d4f-f943-4f30-922c-c01c07b2d81c');\n",
       "var x = new MutationObserver(function (mutations, observer) {{\n",
       "        var display = window.getComputedStyle(gd).display;\n",
       "        if (!display || display === 'none') {{\n",
       "            console.log([gd, 'removed!']);\n",
       "            Plotly.purge(gd);\n",
       "            observer.disconnect();\n",
       "        }}\n",
       "}});\n",
       "\n",
       "// Listen for the removal of the full notebook cells\n",
       "var notebookContainer = gd.closest('#notebook-container');\n",
       "if (notebookContainer) {{\n",
       "    x.observe(notebookContainer, {childList: true});\n",
       "}}\n",
       "\n",
       "// Listen for the clearing of the current output cell\n",
       "var outputEl = gd.closest('.output');\n",
       "if (outputEl) {{\n",
       "    x.observe(outputEl, {childList: true});\n",
       "}}\n",
       "\n",
       "                        })                };                });            </script>        </div>"
      ]
     },
     "metadata": {},
     "output_type": "display_data"
    },
    {
     "name": "stdout",
     "output_type": "stream",
     "text": [
      "sensor_number: #20221107095440\n"
     ]
    },
    {
     "data": {
      "application/vnd.plotly.v1+json": {
       "config": {
        "plotlyServerURL": "https://plot.ly"
       },
       "data": [
        {
         "name": "Humidity",
         "type": "scatter",
         "xaxis": "x",
         "y": [
          29.79583740234375,
          29.8248291015625,
          29.63714599609375,
          29.6844482421875,
          29.81414794921875,
          29.26788330078125,
          29.345703125,
          29.40521240234375,
          29.2083740234375,
          29.30145263671875,
          29.2938232421875,
          29.32281494140625,
          29.1107177734375,
          29.21600341796875,
          29.3212890625,
          29.04052734375,
          29.17327880859375,
          29.2510986328125,
          29.10614013671875,
          29.132080078125,
          59.90142822265625,
          59.7015380859375,
          59.72137451171875,
          59.9945068359375,
          59.78546142578125,
          60.16998291015625,
          60.33935546875,
          60.09674072265625,
          60.2142333984375,
          60.33782958984375,
          60.638427734375,
          60.68267822265625,
          60.4583740234375,
          60.60028076171875,
          60.772705078125,
          60.5804443359375,
          60.88714599609375,
          60.8245849609375,
          60.63690185546875,
          60.8856201171875,
          87.11395263671875,
          87.261962890625,
          87.51373291015625,
          87.1826171875,
          87.25433349609375,
          87.41607666015625,
          87.432861328125,
          87.66326904296875,
          87.4664306640625,
          87.41302490234375,
          88.00048828125,
          88.31939697265625,
          88.18359375,
          88.10272216796875,
          88.2476806640625,
          88.1195068359375,
          88.38958740234375,
          88.580322265625,
          88.14239501953125,
          88.372802734375
         ],
         "yaxis": "y"
        },
        {
         "name": "Temperature",
         "type": "scatter",
         "xaxis": "x2",
         "y": [
          30.21110534667969,
          30.20355224609375,
          30.21110534667969,
          30.20858764648437,
          30.19599914550781,
          30.20103454589844,
          30.20355224609375,
          30.20103454589844,
          30.198516845703125,
          30.206069946289062,
          30.198516845703125,
          30.21110534667969,
          30.20858764648437,
          30.20103454589844,
          30.20355224609375,
          30.20355224609375,
          30.206069946289062,
          30.20858764648437,
          30.206069946289062,
          30.20355224609375,
          30.25138854980469,
          30.24383544921875,
          30.25138854980469,
          30.24887084960937,
          30.25138854980469,
          30.23124694824219,
          30.228729248046875,
          30.246353149414062,
          30.228729248046875,
          30.23628234863281,
          30.22369384765625,
          30.22621154785156,
          30.2337646484375,
          30.23628234863281,
          30.2337646484375,
          30.22369384765625,
          30.22621154785156,
          30.22369384765625,
          30.22621154785156,
          30.228729248046875,
          30.26649475097656,
          30.25390625,
          30.27153015136719,
          30.26397705078125,
          30.26145935058593,
          30.24131774902344,
          30.238800048828125,
          30.25138854980469,
          30.24383544921875,
          30.26145935058593,
          30.24383544921875,
          30.24131774902344,
          30.24383544921875,
          30.25138854980469,
          30.238800048828125,
          30.2337646484375,
          30.23124694824219,
          30.24383544921875,
          30.24131774902344,
          30.238800048828125
         ],
         "yaxis": "y2"
        },
        {
         "name": "ppm",
         "type": "scatter",
         "xaxis": "x3",
         "y": [
          0,
          0,
          0,
          0,
          0,
          10.01337617041491,
          9.98799939997,
          9.997875451466562,
          10.00012500156252,
          9.99925005624578,
          40.00050000625008,
          39.99800009999501,
          39.99700022498312,
          39.99950000624992,
          40.0125,
          59.98375101556153,
          60.00375023438965,
          60.021998900055,
          59.97200139993001,
          60.00225008437816,
          0,
          0,
          0,
          0,
          0,
          9.99987500156248,
          10.024373476657711,
          10.001000100010002,
          9.9875,
          10.0242481813864,
          39.987999849998126,
          39.9965003062232,
          40.00250015625976,
          39.98200247465973,
          39.98550072496375,
          60.01700127509564,
          60.0125,
          60.01400035000876,
          59.99325075928958,
          60.02049846261532,
          0,
          0,
          0,
          0,
          0,
          10.023997600239976,
          10.01199940003,
          10.001125126576738,
          9.98862372016852,
          10.00012500156252,
          39.99800009999501,
          39.97649911871696,
          40.00649902514623,
          39.99149914991499,
          39.98350164983502,
          60.02875179698732,
          60.0245049009802,
          60.02124867195801,
          60.0125,
          60.01500375093774
         ],
         "yaxis": "y3"
        },
        {
         "name": "pred_ppm",
         "type": "scatter",
         "xaxis": "x3",
         "y": [
          -4.735616953584774,
          -4.7279142794470665,
          -4.672128380256082,
          -4.756218371355436,
          -4.8507489380868325,
          8.266132973870835,
          8.457929637718017,
          8.28484967664811,
          8.439307233589751,
          8.432802889650878,
          38.231379846865465,
          38.434687545843595,
          38.723214344378235,
          38.52474032391872,
          38.594934006953395,
          57.829565075899914,
          57.80289678563893,
          57.97213094924968,
          58.218585468031684,
          58.18626836744283,
          -2.2093447251387843,
          -2.282902813602025,
          -2.346027616660548,
          -2.307906263229416,
          -2.40985647459555,
          8.69548029403444,
          8.747329974926254,
          8.71646406458948,
          8.72892725126707,
          8.633995873270184,
          37.966432007054614,
          37.98896084769842,
          38.188296836191626,
          38.237728221980575,
          38.235888547512275,
          56.83897363638681,
          56.790691391771034,
          56.41978421917858,
          56.831287828741395,
          56.935261128928,
          -0.3712407452781008,
          -0.5590903554462727,
          -0.5565508863260469,
          -0.702869761459036,
          -0.8736876164021741,
          9.83257390388482,
          9.763104366540963,
          9.820537396994567,
          9.806984233763092,
          9.788421216319973,
          39.099617227391974,
          39.02409791522061,
          39.02448711354916,
          39.18121899490937,
          38.97622867142205,
          58.490063931870615,
          58.033526639604155,
          58.15656537571587,
          58.54369039684528,
          58.57293144916618
         ],
         "yaxis": "y3"
        },
        {
         "name": "ppm error",
         "text": [
          "-4.7",
          "-1.6",
          "-1.5",
          "-2.0",
          "-2.3",
          "-1.3",
          "-1.9",
          "-3.2",
          "-0.6",
          "-0.2",
          "-0.9",
          "-1.7"
         ],
         "textposition": "auto",
         "type": "bar",
         "xaxis": "x4",
         "y": [
          -4.7,
          -1.6,
          -1.5,
          -2,
          -2.3,
          -1.3,
          -1.9,
          -3.2,
          -0.6,
          -0.2,
          -0.9,
          -1.7
         ],
         "yaxis": "y4"
        }
       ],
       "layout": {
        "annotations": [
         {
          "font": {
           "size": 16
          },
          "showarrow": false,
          "text": "Humidity",
          "x": 0.5,
          "xanchor": "center",
          "xref": "paper",
          "y": 1,
          "yanchor": "bottom",
          "yref": "paper"
         },
         {
          "font": {
           "size": 16
          },
          "showarrow": false,
          "text": "Temperature",
          "x": 0.5,
          "xanchor": "center",
          "xref": "paper",
          "y": 0.7833333333333333,
          "yanchor": "bottom",
          "yref": "paper"
         },
         {
          "font": {
           "size": 16
          },
          "showarrow": false,
          "text": "Prediction",
          "x": 0.5,
          "xanchor": "center",
          "xref": "paper",
          "y": 0.5666666666666667,
          "yanchor": "bottom",
          "yref": "paper"
         },
         {
          "font": {
           "size": 16
          },
          "showarrow": false,
          "text": "ppm error",
          "x": 0.5,
          "xanchor": "center",
          "xref": "paper",
          "y": 0.35,
          "yanchor": "bottom",
          "yref": "paper"
         }
        ],
        "height": 800,
        "legend": {
         "tracegroupgap": 135
        },
        "template": {
         "data": {
          "bar": [
           {
            "error_x": {
             "color": "#2a3f5f"
            },
            "error_y": {
             "color": "#2a3f5f"
            },
            "marker": {
             "line": {
              "color": "#E5ECF6",
              "width": 0.5
             }
            },
            "type": "bar"
           }
          ],
          "barpolar": [
           {
            "marker": {
             "line": {
              "color": "#E5ECF6",
              "width": 0.5
             }
            },
            "type": "barpolar"
           }
          ],
          "carpet": [
           {
            "aaxis": {
             "endlinecolor": "#2a3f5f",
             "gridcolor": "white",
             "linecolor": "white",
             "minorgridcolor": "white",
             "startlinecolor": "#2a3f5f"
            },
            "baxis": {
             "endlinecolor": "#2a3f5f",
             "gridcolor": "white",
             "linecolor": "white",
             "minorgridcolor": "white",
             "startlinecolor": "#2a3f5f"
            },
            "type": "carpet"
           }
          ],
          "choropleth": [
           {
            "colorbar": {
             "outlinewidth": 0,
             "ticks": ""
            },
            "type": "choropleth"
           }
          ],
          "contour": [
           {
            "colorbar": {
             "outlinewidth": 0,
             "ticks": ""
            },
            "colorscale": [
             [
              0,
              "#0d0887"
             ],
             [
              0.1111111111111111,
              "#46039f"
             ],
             [
              0.2222222222222222,
              "#7201a8"
             ],
             [
              0.3333333333333333,
              "#9c179e"
             ],
             [
              0.4444444444444444,
              "#bd3786"
             ],
             [
              0.5555555555555556,
              "#d8576b"
             ],
             [
              0.6666666666666666,
              "#ed7953"
             ],
             [
              0.7777777777777778,
              "#fb9f3a"
             ],
             [
              0.8888888888888888,
              "#fdca26"
             ],
             [
              1,
              "#f0f921"
             ]
            ],
            "type": "contour"
           }
          ],
          "contourcarpet": [
           {
            "colorbar": {
             "outlinewidth": 0,
             "ticks": ""
            },
            "type": "contourcarpet"
           }
          ],
          "heatmap": [
           {
            "colorbar": {
             "outlinewidth": 0,
             "ticks": ""
            },
            "colorscale": [
             [
              0,
              "#0d0887"
             ],
             [
              0.1111111111111111,
              "#46039f"
             ],
             [
              0.2222222222222222,
              "#7201a8"
             ],
             [
              0.3333333333333333,
              "#9c179e"
             ],
             [
              0.4444444444444444,
              "#bd3786"
             ],
             [
              0.5555555555555556,
              "#d8576b"
             ],
             [
              0.6666666666666666,
              "#ed7953"
             ],
             [
              0.7777777777777778,
              "#fb9f3a"
             ],
             [
              0.8888888888888888,
              "#fdca26"
             ],
             [
              1,
              "#f0f921"
             ]
            ],
            "type": "heatmap"
           }
          ],
          "heatmapgl": [
           {
            "colorbar": {
             "outlinewidth": 0,
             "ticks": ""
            },
            "colorscale": [
             [
              0,
              "#0d0887"
             ],
             [
              0.1111111111111111,
              "#46039f"
             ],
             [
              0.2222222222222222,
              "#7201a8"
             ],
             [
              0.3333333333333333,
              "#9c179e"
             ],
             [
              0.4444444444444444,
              "#bd3786"
             ],
             [
              0.5555555555555556,
              "#d8576b"
             ],
             [
              0.6666666666666666,
              "#ed7953"
             ],
             [
              0.7777777777777778,
              "#fb9f3a"
             ],
             [
              0.8888888888888888,
              "#fdca26"
             ],
             [
              1,
              "#f0f921"
             ]
            ],
            "type": "heatmapgl"
           }
          ],
          "histogram": [
           {
            "marker": {
             "colorbar": {
              "outlinewidth": 0,
              "ticks": ""
             }
            },
            "type": "histogram"
           }
          ],
          "histogram2d": [
           {
            "colorbar": {
             "outlinewidth": 0,
             "ticks": ""
            },
            "colorscale": [
             [
              0,
              "#0d0887"
             ],
             [
              0.1111111111111111,
              "#46039f"
             ],
             [
              0.2222222222222222,
              "#7201a8"
             ],
             [
              0.3333333333333333,
              "#9c179e"
             ],
             [
              0.4444444444444444,
              "#bd3786"
             ],
             [
              0.5555555555555556,
              "#d8576b"
             ],
             [
              0.6666666666666666,
              "#ed7953"
             ],
             [
              0.7777777777777778,
              "#fb9f3a"
             ],
             [
              0.8888888888888888,
              "#fdca26"
             ],
             [
              1,
              "#f0f921"
             ]
            ],
            "type": "histogram2d"
           }
          ],
          "histogram2dcontour": [
           {
            "colorbar": {
             "outlinewidth": 0,
             "ticks": ""
            },
            "colorscale": [
             [
              0,
              "#0d0887"
             ],
             [
              0.1111111111111111,
              "#46039f"
             ],
             [
              0.2222222222222222,
              "#7201a8"
             ],
             [
              0.3333333333333333,
              "#9c179e"
             ],
             [
              0.4444444444444444,
              "#bd3786"
             ],
             [
              0.5555555555555556,
              "#d8576b"
             ],
             [
              0.6666666666666666,
              "#ed7953"
             ],
             [
              0.7777777777777778,
              "#fb9f3a"
             ],
             [
              0.8888888888888888,
              "#fdca26"
             ],
             [
              1,
              "#f0f921"
             ]
            ],
            "type": "histogram2dcontour"
           }
          ],
          "mesh3d": [
           {
            "colorbar": {
             "outlinewidth": 0,
             "ticks": ""
            },
            "type": "mesh3d"
           }
          ],
          "parcoords": [
           {
            "line": {
             "colorbar": {
              "outlinewidth": 0,
              "ticks": ""
             }
            },
            "type": "parcoords"
           }
          ],
          "pie": [
           {
            "automargin": true,
            "type": "pie"
           }
          ],
          "scatter": [
           {
            "marker": {
             "colorbar": {
              "outlinewidth": 0,
              "ticks": ""
             }
            },
            "type": "scatter"
           }
          ],
          "scatter3d": [
           {
            "line": {
             "colorbar": {
              "outlinewidth": 0,
              "ticks": ""
             }
            },
            "marker": {
             "colorbar": {
              "outlinewidth": 0,
              "ticks": ""
             }
            },
            "type": "scatter3d"
           }
          ],
          "scattercarpet": [
           {
            "marker": {
             "colorbar": {
              "outlinewidth": 0,
              "ticks": ""
             }
            },
            "type": "scattercarpet"
           }
          ],
          "scattergeo": [
           {
            "marker": {
             "colorbar": {
              "outlinewidth": 0,
              "ticks": ""
             }
            },
            "type": "scattergeo"
           }
          ],
          "scattergl": [
           {
            "marker": {
             "colorbar": {
              "outlinewidth": 0,
              "ticks": ""
             }
            },
            "type": "scattergl"
           }
          ],
          "scattermapbox": [
           {
            "marker": {
             "colorbar": {
              "outlinewidth": 0,
              "ticks": ""
             }
            },
            "type": "scattermapbox"
           }
          ],
          "scatterpolar": [
           {
            "marker": {
             "colorbar": {
              "outlinewidth": 0,
              "ticks": ""
             }
            },
            "type": "scatterpolar"
           }
          ],
          "scatterpolargl": [
           {
            "marker": {
             "colorbar": {
              "outlinewidth": 0,
              "ticks": ""
             }
            },
            "type": "scatterpolargl"
           }
          ],
          "scatterternary": [
           {
            "marker": {
             "colorbar": {
              "outlinewidth": 0,
              "ticks": ""
             }
            },
            "type": "scatterternary"
           }
          ],
          "surface": [
           {
            "colorbar": {
             "outlinewidth": 0,
             "ticks": ""
            },
            "colorscale": [
             [
              0,
              "#0d0887"
             ],
             [
              0.1111111111111111,
              "#46039f"
             ],
             [
              0.2222222222222222,
              "#7201a8"
             ],
             [
              0.3333333333333333,
              "#9c179e"
             ],
             [
              0.4444444444444444,
              "#bd3786"
             ],
             [
              0.5555555555555556,
              "#d8576b"
             ],
             [
              0.6666666666666666,
              "#ed7953"
             ],
             [
              0.7777777777777778,
              "#fb9f3a"
             ],
             [
              0.8888888888888888,
              "#fdca26"
             ],
             [
              1,
              "#f0f921"
             ]
            ],
            "type": "surface"
           }
          ],
          "table": [
           {
            "cells": {
             "fill": {
              "color": "#EBF0F8"
             },
             "line": {
              "color": "white"
             }
            },
            "header": {
             "fill": {
              "color": "#C8D4E3"
             },
             "line": {
              "color": "white"
             }
            },
            "type": "table"
           }
          ]
         },
         "layout": {
          "annotationdefaults": {
           "arrowcolor": "#2a3f5f",
           "arrowhead": 0,
           "arrowwidth": 1
          },
          "autotypenumbers": "strict",
          "coloraxis": {
           "colorbar": {
            "outlinewidth": 0,
            "ticks": ""
           }
          },
          "colorscale": {
           "diverging": [
            [
             0,
             "#8e0152"
            ],
            [
             0.1,
             "#c51b7d"
            ],
            [
             0.2,
             "#de77ae"
            ],
            [
             0.3,
             "#f1b6da"
            ],
            [
             0.4,
             "#fde0ef"
            ],
            [
             0.5,
             "#f7f7f7"
            ],
            [
             0.6,
             "#e6f5d0"
            ],
            [
             0.7,
             "#b8e186"
            ],
            [
             0.8,
             "#7fbc41"
            ],
            [
             0.9,
             "#4d9221"
            ],
            [
             1,
             "#276419"
            ]
           ],
           "sequential": [
            [
             0,
             "#0d0887"
            ],
            [
             0.1111111111111111,
             "#46039f"
            ],
            [
             0.2222222222222222,
             "#7201a8"
            ],
            [
             0.3333333333333333,
             "#9c179e"
            ],
            [
             0.4444444444444444,
             "#bd3786"
            ],
            [
             0.5555555555555556,
             "#d8576b"
            ],
            [
             0.6666666666666666,
             "#ed7953"
            ],
            [
             0.7777777777777778,
             "#fb9f3a"
            ],
            [
             0.8888888888888888,
             "#fdca26"
            ],
            [
             1,
             "#f0f921"
            ]
           ],
           "sequentialminus": [
            [
             0,
             "#0d0887"
            ],
            [
             0.1111111111111111,
             "#46039f"
            ],
            [
             0.2222222222222222,
             "#7201a8"
            ],
            [
             0.3333333333333333,
             "#9c179e"
            ],
            [
             0.4444444444444444,
             "#bd3786"
            ],
            [
             0.5555555555555556,
             "#d8576b"
            ],
            [
             0.6666666666666666,
             "#ed7953"
            ],
            [
             0.7777777777777778,
             "#fb9f3a"
            ],
            [
             0.8888888888888888,
             "#fdca26"
            ],
            [
             1,
             "#f0f921"
            ]
           ]
          },
          "colorway": [
           "#636efa",
           "#EF553B",
           "#00cc96",
           "#ab63fa",
           "#FFA15A",
           "#19d3f3",
           "#FF6692",
           "#B6E880",
           "#FF97FF",
           "#FECB52"
          ],
          "font": {
           "color": "#2a3f5f"
          },
          "geo": {
           "bgcolor": "white",
           "lakecolor": "white",
           "landcolor": "#E5ECF6",
           "showlakes": true,
           "showland": true,
           "subunitcolor": "white"
          },
          "hoverlabel": {
           "align": "left"
          },
          "hovermode": "closest",
          "mapbox": {
           "style": "light"
          },
          "paper_bgcolor": "white",
          "plot_bgcolor": "#E5ECF6",
          "polar": {
           "angularaxis": {
            "gridcolor": "white",
            "linecolor": "white",
            "ticks": ""
           },
           "bgcolor": "#E5ECF6",
           "radialaxis": {
            "gridcolor": "white",
            "linecolor": "white",
            "ticks": ""
           }
          },
          "scene": {
           "xaxis": {
            "backgroundcolor": "#E5ECF6",
            "gridcolor": "white",
            "gridwidth": 2,
            "linecolor": "white",
            "showbackground": true,
            "ticks": "",
            "zerolinecolor": "white"
           },
           "yaxis": {
            "backgroundcolor": "#E5ECF6",
            "gridcolor": "white",
            "gridwidth": 2,
            "linecolor": "white",
            "showbackground": true,
            "ticks": "",
            "zerolinecolor": "white"
           },
           "zaxis": {
            "backgroundcolor": "#E5ECF6",
            "gridcolor": "white",
            "gridwidth": 2,
            "linecolor": "white",
            "showbackground": true,
            "ticks": "",
            "zerolinecolor": "white"
           }
          },
          "shapedefaults": {
           "line": {
            "color": "#2a3f5f"
           }
          },
          "ternary": {
           "aaxis": {
            "gridcolor": "white",
            "linecolor": "white",
            "ticks": ""
           },
           "baxis": {
            "gridcolor": "white",
            "linecolor": "white",
            "ticks": ""
           },
           "bgcolor": "#E5ECF6",
           "caxis": {
            "gridcolor": "white",
            "linecolor": "white",
            "ticks": ""
           }
          },
          "title": {
           "x": 0.05
          },
          "xaxis": {
           "automargin": true,
           "gridcolor": "white",
           "linecolor": "white",
           "ticks": "",
           "title": {
            "standoff": 15
           },
           "zerolinecolor": "white",
           "zerolinewidth": 2
          },
          "yaxis": {
           "automargin": true,
           "gridcolor": "white",
           "linecolor": "white",
           "ticks": "",
           "title": {
            "standoff": 15
           },
           "zerolinecolor": "white",
           "zerolinewidth": 2
          }
         }
        },
        "title": {
         "text": "(29%~88%)(Filtered_Z_score_583nm #1)(shift 0)(RMSE=2.17445)"
        },
        "width": 900,
        "xaxis": {
         "anchor": "y",
         "domain": [
          0,
          1
         ]
        },
        "xaxis2": {
         "anchor": "y2",
         "domain": [
          0,
          1
         ]
        },
        "xaxis3": {
         "anchor": "y3",
         "domain": [
          0,
          1
         ]
        },
        "xaxis4": {
         "anchor": "y4",
         "domain": [
          0,
          1
         ]
        },
        "yaxis": {
         "anchor": "x",
         "domain": [
          0.8833333333333333,
          1
         ]
        },
        "yaxis2": {
         "anchor": "x2",
         "domain": [
          0.6666666666666666,
          0.7833333333333333
         ]
        },
        "yaxis3": {
         "anchor": "x3",
         "domain": [
          0.44999999999999996,
          0.5666666666666667
         ]
        },
        "yaxis4": {
         "anchor": "x4",
         "domain": [
          0,
          0.35
         ],
         "range": [
          -10.7,
          5.8
         ]
        }
       }
      },
      "text/html": [
       "<div>                            <div id=\"1718bb5e-1f57-4728-b847-b9f99f2d2430\" class=\"plotly-graph-div\" style=\"height:800px; width:900px;\"></div>            <script type=\"text/javascript\">                require([\"plotly\"], function(Plotly) {                    window.PLOTLYENV=window.PLOTLYENV || {};                                    if (document.getElementById(\"1718bb5e-1f57-4728-b847-b9f99f2d2430\")) {                    Plotly.newPlot(                        \"1718bb5e-1f57-4728-b847-b9f99f2d2430\",                        [{\"name\": \"Humidity\", \"type\": \"scatter\", \"xaxis\": \"x\", \"y\": [29.79583740234375, 29.8248291015625, 29.63714599609375, 29.6844482421875, 29.81414794921875, 29.26788330078125, 29.345703125, 29.40521240234375, 29.2083740234375, 29.30145263671875, 29.2938232421875, 29.32281494140625, 29.1107177734375, 29.21600341796875, 29.3212890625, 29.04052734375, 29.17327880859375, 29.2510986328125, 29.10614013671875, 29.132080078125, 59.90142822265625, 59.7015380859375, 59.72137451171875, 59.9945068359375, 59.78546142578125, 60.16998291015625, 60.33935546875, 60.09674072265625, 60.2142333984375, 60.33782958984375, 60.638427734375, 60.68267822265625, 60.4583740234375, 60.60028076171875, 60.772705078125, 60.5804443359375, 60.88714599609375, 60.8245849609375, 60.63690185546875, 60.8856201171875, 87.11395263671875, 87.261962890625, 87.51373291015625, 87.1826171875, 87.25433349609375, 87.41607666015625, 87.432861328125, 87.66326904296875, 87.4664306640625, 87.41302490234375, 88.00048828125, 88.31939697265625, 88.18359375, 88.10272216796875, 88.2476806640625, 88.1195068359375, 88.38958740234375, 88.580322265625, 88.14239501953125, 88.372802734375], \"yaxis\": \"y\"}, {\"name\": \"Temperature\", \"type\": \"scatter\", \"xaxis\": \"x2\", \"y\": [30.21110534667969, 30.20355224609375, 30.21110534667969, 30.20858764648437, 30.19599914550781, 30.20103454589844, 30.20355224609375, 30.20103454589844, 30.198516845703125, 30.206069946289062, 30.198516845703125, 30.21110534667969, 30.20858764648437, 30.20103454589844, 30.20355224609375, 30.20355224609375, 30.206069946289062, 30.20858764648437, 30.206069946289062, 30.20355224609375, 30.25138854980469, 30.24383544921875, 30.25138854980469, 30.24887084960937, 30.25138854980469, 30.23124694824219, 30.228729248046875, 30.246353149414062, 30.228729248046875, 30.23628234863281, 30.22369384765625, 30.22621154785156, 30.2337646484375, 30.23628234863281, 30.2337646484375, 30.22369384765625, 30.22621154785156, 30.22369384765625, 30.22621154785156, 30.228729248046875, 30.26649475097656, 30.25390625, 30.27153015136719, 30.26397705078125, 30.26145935058593, 30.24131774902344, 30.238800048828125, 30.25138854980469, 30.24383544921875, 30.26145935058593, 30.24383544921875, 30.24131774902344, 30.24383544921875, 30.25138854980469, 30.238800048828125, 30.2337646484375, 30.23124694824219, 30.24383544921875, 30.24131774902344, 30.238800048828125], \"yaxis\": \"y2\"}, {\"name\": \"ppm\", \"type\": \"scatter\", \"xaxis\": \"x3\", \"y\": [0.0, 0.0, 0.0, 0.0, 0.0, 10.01337617041491, 9.98799939997, 9.997875451466562, 10.00012500156252, 9.99925005624578, 40.00050000625008, 39.99800009999501, 39.99700022498312, 39.99950000624992, 40.0125, 59.98375101556153, 60.00375023438965, 60.021998900055, 59.97200139993001, 60.00225008437816, 0.0, 0.0, 0.0, 0.0, 0.0, 9.99987500156248, 10.024373476657711, 10.001000100010002, 9.9875, 10.0242481813864, 39.987999849998126, 39.9965003062232, 40.00250015625976, 39.98200247465973, 39.98550072496375, 60.01700127509564, 60.0125, 60.01400035000876, 59.99325075928958, 60.02049846261532, 0.0, 0.0, 0.0, 0.0, 0.0, 10.023997600239976, 10.01199940003, 10.001125126576738, 9.98862372016852, 10.00012500156252, 39.99800009999501, 39.97649911871696, 40.00649902514623, 39.99149914991499, 39.98350164983502, 60.02875179698732, 60.0245049009802, 60.02124867195801, 60.0125, 60.01500375093774], \"yaxis\": \"y3\"}, {\"name\": \"pred_ppm\", \"type\": \"scatter\", \"xaxis\": \"x3\", \"y\": [-4.735616953584774, -4.7279142794470665, -4.672128380256082, -4.756218371355436, -4.8507489380868325, 8.266132973870835, 8.457929637718017, 8.28484967664811, 8.439307233589751, 8.432802889650878, 38.231379846865465, 38.434687545843595, 38.723214344378235, 38.52474032391872, 38.594934006953395, 57.829565075899914, 57.80289678563893, 57.97213094924968, 58.218585468031684, 58.18626836744283, -2.2093447251387843, -2.282902813602025, -2.346027616660548, -2.307906263229416, -2.40985647459555, 8.69548029403444, 8.747329974926254, 8.71646406458948, 8.72892725126707, 8.633995873270184, 37.966432007054614, 37.98896084769842, 38.188296836191626, 38.237728221980575, 38.235888547512275, 56.83897363638681, 56.790691391771034, 56.41978421917858, 56.831287828741395, 56.935261128928, -0.3712407452781008, -0.5590903554462727, -0.5565508863260469, -0.702869761459036, -0.8736876164021741, 9.83257390388482, 9.763104366540963, 9.820537396994567, 9.806984233763092, 9.788421216319973, 39.099617227391974, 39.02409791522061, 39.02448711354916, 39.18121899490937, 38.97622867142205, 58.490063931870615, 58.033526639604155, 58.15656537571587, 58.54369039684528, 58.57293144916618], \"yaxis\": \"y3\"}, {\"name\": \"ppm error\", \"text\": [\"-4.7\", \"-1.6\", \"-1.5\", \"-2.0\", \"-2.3\", \"-1.3\", \"-1.9\", \"-3.2\", \"-0.6\", \"-0.2\", \"-0.9\", \"-1.7\"], \"textposition\": \"auto\", \"type\": \"bar\", \"xaxis\": \"x4\", \"y\": [-4.7, -1.6, -1.5, -2.0, -2.3, -1.3, -1.9, -3.2, -0.6, -0.2, -0.9, -1.7], \"yaxis\": \"y4\"}],                        {\"annotations\": [{\"font\": {\"size\": 16}, \"showarrow\": false, \"text\": \"Humidity\", \"x\": 0.5, \"xanchor\": \"center\", \"xref\": \"paper\", \"y\": 1.0, \"yanchor\": \"bottom\", \"yref\": \"paper\"}, {\"font\": {\"size\": 16}, \"showarrow\": false, \"text\": \"Temperature\", \"x\": 0.5, \"xanchor\": \"center\", \"xref\": \"paper\", \"y\": 0.7833333333333333, \"yanchor\": \"bottom\", \"yref\": \"paper\"}, {\"font\": {\"size\": 16}, \"showarrow\": false, \"text\": \"Prediction\", \"x\": 0.5, \"xanchor\": \"center\", \"xref\": \"paper\", \"y\": 0.5666666666666667, \"yanchor\": \"bottom\", \"yref\": \"paper\"}, {\"font\": {\"size\": 16}, \"showarrow\": false, \"text\": \"ppm error\", \"x\": 0.5, \"xanchor\": \"center\", \"xref\": \"paper\", \"y\": 0.35, \"yanchor\": \"bottom\", \"yref\": \"paper\"}], \"height\": 800, \"legend\": {\"tracegroupgap\": 135}, \"template\": {\"data\": {\"bar\": [{\"error_x\": {\"color\": \"#2a3f5f\"}, \"error_y\": {\"color\": \"#2a3f5f\"}, \"marker\": {\"line\": {\"color\": \"#E5ECF6\", \"width\": 0.5}}, \"type\": \"bar\"}], \"barpolar\": [{\"marker\": {\"line\": {\"color\": \"#E5ECF6\", \"width\": 0.5}}, \"type\": \"barpolar\"}], \"carpet\": [{\"aaxis\": {\"endlinecolor\": \"#2a3f5f\", \"gridcolor\": \"white\", \"linecolor\": \"white\", \"minorgridcolor\": \"white\", \"startlinecolor\": \"#2a3f5f\"}, \"baxis\": {\"endlinecolor\": \"#2a3f5f\", \"gridcolor\": \"white\", \"linecolor\": \"white\", \"minorgridcolor\": \"white\", \"startlinecolor\": \"#2a3f5f\"}, \"type\": \"carpet\"}], \"choropleth\": [{\"colorbar\": {\"outlinewidth\": 0, \"ticks\": \"\"}, \"type\": \"choropleth\"}], \"contour\": [{\"colorbar\": {\"outlinewidth\": 0, \"ticks\": \"\"}, \"colorscale\": [[0.0, \"#0d0887\"], [0.1111111111111111, \"#46039f\"], [0.2222222222222222, \"#7201a8\"], [0.3333333333333333, \"#9c179e\"], [0.4444444444444444, \"#bd3786\"], [0.5555555555555556, \"#d8576b\"], [0.6666666666666666, \"#ed7953\"], [0.7777777777777778, \"#fb9f3a\"], [0.8888888888888888, \"#fdca26\"], [1.0, \"#f0f921\"]], \"type\": \"contour\"}], \"contourcarpet\": [{\"colorbar\": {\"outlinewidth\": 0, \"ticks\": \"\"}, \"type\": \"contourcarpet\"}], \"heatmap\": [{\"colorbar\": {\"outlinewidth\": 0, \"ticks\": \"\"}, \"colorscale\": [[0.0, \"#0d0887\"], [0.1111111111111111, \"#46039f\"], [0.2222222222222222, \"#7201a8\"], [0.3333333333333333, \"#9c179e\"], [0.4444444444444444, \"#bd3786\"], [0.5555555555555556, \"#d8576b\"], [0.6666666666666666, \"#ed7953\"], [0.7777777777777778, \"#fb9f3a\"], [0.8888888888888888, \"#fdca26\"], [1.0, \"#f0f921\"]], \"type\": \"heatmap\"}], \"heatmapgl\": [{\"colorbar\": {\"outlinewidth\": 0, \"ticks\": \"\"}, \"colorscale\": [[0.0, \"#0d0887\"], [0.1111111111111111, \"#46039f\"], [0.2222222222222222, \"#7201a8\"], [0.3333333333333333, \"#9c179e\"], [0.4444444444444444, \"#bd3786\"], [0.5555555555555556, \"#d8576b\"], [0.6666666666666666, \"#ed7953\"], [0.7777777777777778, \"#fb9f3a\"], [0.8888888888888888, \"#fdca26\"], [1.0, \"#f0f921\"]], \"type\": \"heatmapgl\"}], \"histogram\": [{\"marker\": {\"colorbar\": {\"outlinewidth\": 0, \"ticks\": \"\"}}, \"type\": \"histogram\"}], \"histogram2d\": [{\"colorbar\": {\"outlinewidth\": 0, \"ticks\": \"\"}, \"colorscale\": [[0.0, \"#0d0887\"], [0.1111111111111111, \"#46039f\"], [0.2222222222222222, \"#7201a8\"], [0.3333333333333333, \"#9c179e\"], [0.4444444444444444, \"#bd3786\"], [0.5555555555555556, \"#d8576b\"], [0.6666666666666666, \"#ed7953\"], [0.7777777777777778, \"#fb9f3a\"], [0.8888888888888888, \"#fdca26\"], [1.0, \"#f0f921\"]], \"type\": \"histogram2d\"}], \"histogram2dcontour\": [{\"colorbar\": {\"outlinewidth\": 0, \"ticks\": \"\"}, \"colorscale\": [[0.0, \"#0d0887\"], [0.1111111111111111, \"#46039f\"], [0.2222222222222222, \"#7201a8\"], [0.3333333333333333, \"#9c179e\"], [0.4444444444444444, \"#bd3786\"], [0.5555555555555556, \"#d8576b\"], [0.6666666666666666, \"#ed7953\"], [0.7777777777777778, \"#fb9f3a\"], [0.8888888888888888, \"#fdca26\"], [1.0, \"#f0f921\"]], \"type\": \"histogram2dcontour\"}], \"mesh3d\": [{\"colorbar\": {\"outlinewidth\": 0, \"ticks\": \"\"}, \"type\": \"mesh3d\"}], \"parcoords\": [{\"line\": {\"colorbar\": {\"outlinewidth\": 0, \"ticks\": \"\"}}, \"type\": \"parcoords\"}], \"pie\": [{\"automargin\": true, \"type\": \"pie\"}], \"scatter\": [{\"marker\": {\"colorbar\": {\"outlinewidth\": 0, \"ticks\": \"\"}}, \"type\": \"scatter\"}], \"scatter3d\": [{\"line\": {\"colorbar\": {\"outlinewidth\": 0, \"ticks\": \"\"}}, \"marker\": {\"colorbar\": {\"outlinewidth\": 0, \"ticks\": \"\"}}, \"type\": \"scatter3d\"}], \"scattercarpet\": [{\"marker\": {\"colorbar\": {\"outlinewidth\": 0, \"ticks\": \"\"}}, \"type\": \"scattercarpet\"}], \"scattergeo\": [{\"marker\": {\"colorbar\": {\"outlinewidth\": 0, \"ticks\": \"\"}}, \"type\": \"scattergeo\"}], \"scattergl\": [{\"marker\": {\"colorbar\": {\"outlinewidth\": 0, \"ticks\": \"\"}}, \"type\": \"scattergl\"}], \"scattermapbox\": [{\"marker\": {\"colorbar\": {\"outlinewidth\": 0, \"ticks\": \"\"}}, \"type\": \"scattermapbox\"}], \"scatterpolar\": [{\"marker\": {\"colorbar\": {\"outlinewidth\": 0, \"ticks\": \"\"}}, \"type\": \"scatterpolar\"}], \"scatterpolargl\": [{\"marker\": {\"colorbar\": {\"outlinewidth\": 0, \"ticks\": \"\"}}, \"type\": \"scatterpolargl\"}], \"scatterternary\": [{\"marker\": {\"colorbar\": {\"outlinewidth\": 0, \"ticks\": \"\"}}, \"type\": \"scatterternary\"}], \"surface\": [{\"colorbar\": {\"outlinewidth\": 0, \"ticks\": \"\"}, \"colorscale\": [[0.0, \"#0d0887\"], [0.1111111111111111, \"#46039f\"], [0.2222222222222222, \"#7201a8\"], [0.3333333333333333, \"#9c179e\"], [0.4444444444444444, \"#bd3786\"], [0.5555555555555556, \"#d8576b\"], [0.6666666666666666, \"#ed7953\"], [0.7777777777777778, \"#fb9f3a\"], [0.8888888888888888, \"#fdca26\"], [1.0, \"#f0f921\"]], \"type\": \"surface\"}], \"table\": [{\"cells\": {\"fill\": {\"color\": \"#EBF0F8\"}, \"line\": {\"color\": \"white\"}}, \"header\": {\"fill\": {\"color\": \"#C8D4E3\"}, \"line\": {\"color\": \"white\"}}, \"type\": \"table\"}]}, \"layout\": {\"annotationdefaults\": {\"arrowcolor\": \"#2a3f5f\", \"arrowhead\": 0, \"arrowwidth\": 1}, \"autotypenumbers\": \"strict\", \"coloraxis\": {\"colorbar\": {\"outlinewidth\": 0, \"ticks\": \"\"}}, \"colorscale\": {\"diverging\": [[0, \"#8e0152\"], [0.1, \"#c51b7d\"], [0.2, \"#de77ae\"], [0.3, \"#f1b6da\"], [0.4, \"#fde0ef\"], [0.5, \"#f7f7f7\"], [0.6, \"#e6f5d0\"], [0.7, \"#b8e186\"], [0.8, \"#7fbc41\"], [0.9, \"#4d9221\"], [1, \"#276419\"]], \"sequential\": [[0.0, \"#0d0887\"], [0.1111111111111111, \"#46039f\"], [0.2222222222222222, \"#7201a8\"], [0.3333333333333333, \"#9c179e\"], [0.4444444444444444, \"#bd3786\"], [0.5555555555555556, \"#d8576b\"], [0.6666666666666666, \"#ed7953\"], [0.7777777777777778, \"#fb9f3a\"], [0.8888888888888888, \"#fdca26\"], [1.0, \"#f0f921\"]], \"sequentialminus\": [[0.0, \"#0d0887\"], [0.1111111111111111, \"#46039f\"], [0.2222222222222222, \"#7201a8\"], [0.3333333333333333, \"#9c179e\"], [0.4444444444444444, \"#bd3786\"], [0.5555555555555556, \"#d8576b\"], [0.6666666666666666, \"#ed7953\"], [0.7777777777777778, \"#fb9f3a\"], [0.8888888888888888, \"#fdca26\"], [1.0, \"#f0f921\"]]}, \"colorway\": [\"#636efa\", \"#EF553B\", \"#00cc96\", \"#ab63fa\", \"#FFA15A\", \"#19d3f3\", \"#FF6692\", \"#B6E880\", \"#FF97FF\", \"#FECB52\"], \"font\": {\"color\": \"#2a3f5f\"}, \"geo\": {\"bgcolor\": \"white\", \"lakecolor\": \"white\", \"landcolor\": \"#E5ECF6\", \"showlakes\": true, \"showland\": true, \"subunitcolor\": \"white\"}, \"hoverlabel\": {\"align\": \"left\"}, \"hovermode\": \"closest\", \"mapbox\": {\"style\": \"light\"}, \"paper_bgcolor\": \"white\", \"plot_bgcolor\": \"#E5ECF6\", \"polar\": {\"angularaxis\": {\"gridcolor\": \"white\", \"linecolor\": \"white\", \"ticks\": \"\"}, \"bgcolor\": \"#E5ECF6\", \"radialaxis\": {\"gridcolor\": \"white\", \"linecolor\": \"white\", \"ticks\": \"\"}}, \"scene\": {\"xaxis\": {\"backgroundcolor\": \"#E5ECF6\", \"gridcolor\": \"white\", \"gridwidth\": 2, \"linecolor\": \"white\", \"showbackground\": true, \"ticks\": \"\", \"zerolinecolor\": \"white\"}, \"yaxis\": {\"backgroundcolor\": \"#E5ECF6\", \"gridcolor\": \"white\", \"gridwidth\": 2, \"linecolor\": \"white\", \"showbackground\": true, \"ticks\": \"\", \"zerolinecolor\": \"white\"}, \"zaxis\": {\"backgroundcolor\": \"#E5ECF6\", \"gridcolor\": \"white\", \"gridwidth\": 2, \"linecolor\": \"white\", \"showbackground\": true, \"ticks\": \"\", \"zerolinecolor\": \"white\"}}, \"shapedefaults\": {\"line\": {\"color\": \"#2a3f5f\"}}, \"ternary\": {\"aaxis\": {\"gridcolor\": \"white\", \"linecolor\": \"white\", \"ticks\": \"\"}, \"baxis\": {\"gridcolor\": \"white\", \"linecolor\": \"white\", \"ticks\": \"\"}, \"bgcolor\": \"#E5ECF6\", \"caxis\": {\"gridcolor\": \"white\", \"linecolor\": \"white\", \"ticks\": \"\"}}, \"title\": {\"x\": 0.05}, \"xaxis\": {\"automargin\": true, \"gridcolor\": \"white\", \"linecolor\": \"white\", \"ticks\": \"\", \"title\": {\"standoff\": 15}, \"zerolinecolor\": \"white\", \"zerolinewidth\": 2}, \"yaxis\": {\"automargin\": true, \"gridcolor\": \"white\", \"linecolor\": \"white\", \"ticks\": \"\", \"title\": {\"standoff\": 15}, \"zerolinecolor\": \"white\", \"zerolinewidth\": 2}}}, \"title\": {\"text\": \"(29%~88%)(Filtered_Z_score_583nm #1)(shift 0)(RMSE=2.17445)\"}, \"width\": 900, \"xaxis\": {\"anchor\": \"y\", \"domain\": [0.0, 1.0]}, \"xaxis2\": {\"anchor\": \"y2\", \"domain\": [0.0, 1.0]}, \"xaxis3\": {\"anchor\": \"y3\", \"domain\": [0.0, 1.0]}, \"xaxis4\": {\"anchor\": \"y4\", \"domain\": [0.0, 1.0]}, \"yaxis\": {\"anchor\": \"x\", \"domain\": [0.8833333333333333, 1.0]}, \"yaxis2\": {\"anchor\": \"x2\", \"domain\": [0.6666666666666666, 0.7833333333333333]}, \"yaxis3\": {\"anchor\": \"x3\", \"domain\": [0.44999999999999996, 0.5666666666666667]}, \"yaxis4\": {\"anchor\": \"x4\", \"domain\": [0.0, 0.35], \"range\": [-10.7, 5.8]}},                        {\"responsive\": true}                    ).then(function(){\n",
       "                            \n",
       "var gd = document.getElementById('1718bb5e-1f57-4728-b847-b9f99f2d2430');\n",
       "var x = new MutationObserver(function (mutations, observer) {{\n",
       "        var display = window.getComputedStyle(gd).display;\n",
       "        if (!display || display === 'none') {{\n",
       "            console.log([gd, 'removed!']);\n",
       "            Plotly.purge(gd);\n",
       "            observer.disconnect();\n",
       "        }}\n",
       "}});\n",
       "\n",
       "// Listen for the removal of the full notebook cells\n",
       "var notebookContainer = gd.closest('#notebook-container');\n",
       "if (notebookContainer) {{\n",
       "    x.observe(notebookContainer, {childList: true});\n",
       "}}\n",
       "\n",
       "// Listen for the clearing of the current output cell\n",
       "var outputEl = gd.closest('.output');\n",
       "if (outputEl) {{\n",
       "    x.observe(outputEl, {childList: true});\n",
       "}}\n",
       "\n",
       "                        })                };                });            </script>        </div>"
      ]
     },
     "metadata": {},
     "output_type": "display_data"
    }
   ],
   "source": [
    "#sensor serial number\n",
    "for path in path_list:      \n",
    "    sensor_number = path.split('/')[-1]\n",
    "    print('sensor_number:', sensor_number)\n",
    "    \n",
    "# load training data\n",
    "    A = 0\n",
    "    B = 300000\n",
    "\n",
    "    df_10C = (pd.read_csv(path + '/select_data_calibration_10C.csv').reset_index(drop=True))\n",
    "#     df_20C = (pd.read_csv(path + '/select_data_calibration_20C.csv').reset_index(drop=True))\n",
    "    df_30C = (pd.read_csv(path + '/select_data_calibration_30C.csv').reset_index(drop=True))\n",
    "    df_40C = (pd.read_csv(path + '/select_data_calibration_40C.csv').reset_index(drop=True))\n",
    "        \n",
    "    train_data_list = [\n",
    "                        df_10C, \n",
    "#                         df_20C, \n",
    "                        df_30C,\n",
    "                        df_40C,\n",
    "                        ]\n",
    "\n",
    "# Load testing data\n",
    "\n",
    "    df_QC1 = (pd.read_csv(path + '/select_data_blind_test_30C_1.csv')[A:B].reset_index(drop=True))\n",
    "#     df_QC2 = (pd.read_csv(path + '/select_entire_data_QC2 (0ppm diffusion ball)(102822).csv')[A:B].reset_index(drop=True))\n",
    "#     df_QC3 = (pd.read_csv(path + '/select_data_blind_test_30C_3.csv')[A:B].reset_index(drop=True))\n",
    "#     df_QC4 = (pd.read_csv(path + '/select_data_blind_test_30C_4.csv')[A:B].reset_index(drop=True))\n",
    "    test_data_list = [ \n",
    "#                       df_30C,\n",
    "                      df_QC1,\n",
    "#                       df_QC2,\n",
    "#                       df_QC3,\n",
    "#                         df_QC4,\n",
    "                     ]\n",
    "\n",
    "# white card paremeter setting \n",
    "    \n",
    "    model_name = Ridge(alpha=10)                    #regression model\n",
    "    channel = '440nm #1'                       #regression channel\n",
    "    degree_white_card = 2                                   #polynimial degree\n",
    "    humidity_step = ['RH40%', 'RH50%', 'RH60%', 'RH70%', 'RH80']\n",
    "    white_card_humidity_feature = False\n",
    "\n",
    "    df_all = pd.concat(train_data_list, ignore_index=True)\n",
    "    df_test = pd.concat([df_10C]).reset_index(drop=True)\n",
    "\n",
    "    y_train = df_all[channel]\n",
    "    x_train = df_all[['Temperature', 'Humidity']]\n",
    "    y_test = df_test[channel]\n",
    "    x_test = df_test[['Temperature', 'Humidity']]\n",
    "\n",
    "    os.chdir(path) \n",
    "    white_card = model.model(folder_name=folder_name,\n",
    "                             sensor_number=sensor_number,\n",
    "                             channel=channel,\n",
    "                             x_train=x_train, \n",
    "                             y_train=y_train, \n",
    "                             x_test=x_test, \n",
    "                             y_test=y_test, \n",
    "                             model_name=model_name, \n",
    "                             degree=degree_white_card,                        \n",
    "                             ppm=-23,\n",
    "                             humidity_feature=white_card_humidity_feature)\n",
    "\n",
    "    white_intercept, white_coef = white_card.regression()\n",
    "    white_card.save_white_card_side_coef()\n",
    "#     white_card.plot()\n",
    "#     white_intercept, white_coef = white_card.coef()\n",
    "\n",
    "\n",
    "    # concate training data        \n",
    "    df_all = pd.concat(train_data_list).reset_index(drop=True)\n",
    "    df_test = pd.concat(test_data_list).reset_index(drop=True)   \n",
    "\n",
    "    # 取0ppm資料\n",
    "    dk_all_0ppm = df_all[df_all['ppm']<1].copy()\n",
    "\n",
    "    # 取4ppm資料\n",
    "#     dk_all_4ppm = df_all[(df_all['ppm']>3)&(df_all['ppm']<5)].copy()\n",
    "\n",
    "    # 取10ppm資料\n",
    "    dk_all_10ppm = df_all[(df_all['ppm']>9)&(df_all['ppm']<11)].copy()\n",
    "\n",
    "    # 取40ppm資料\n",
    "    dk_all_40ppm = df_all[(df_all['ppm']>39)&(df_all['ppm']<41)].copy()\n",
    "\n",
    "    # 取60ppm資料\n",
    "    dk_all_60ppm = df_all[(df_all['ppm']>59)&(df_all['ppm']<61)].copy()\n",
    "    \n",
    "    # 取80ppm資料\n",
    "    dk_all_80ppm = df_all[(df_all['ppm']>79)&(df_all['ppm']<81)].copy()\n",
    "\n",
    "\n",
    "    dk_data_dict = {\n",
    "                    10:(dk_all_10ppm),\n",
    "                    40:(dk_all_40ppm),\n",
    "                    60:(dk_all_60ppm),\n",
    "               }\n",
    "\n",
    "\n",
    "    #training model for 10ppm, 40ppm, 60ppm surface\n",
    "    surf_coef_list = []                           # store ppm surface coefficient\n",
    "    for ppm, ppm_data in dk_data_dict.items():\n",
    "\n",
    "        dk_data = ppm_data\n",
    "        y_train = dk_data[train_channel] + shift \n",
    "        x_train = dk_data[['Temperature', 'Humidity']]\n",
    "        y_test = df_test[test_channel] \n",
    "        x_test = df_test[['Temperature', 'Humidity']]\n",
    "\n",
    "#             channels = train_channel\n",
    "\n",
    "        #開始計算濃度平面 model by Ridge regression\n",
    "        os.chdir(path)              \n",
    "        loss_list = []\n",
    "        loss_each_step_list = []\n",
    "        sensor = model.model(folder_name=folder_name,\n",
    "                             sensor_number=sensor_number,\n",
    "                             channel=train_channel,\n",
    "                             x_train=x_train, \n",
    "                             y_train=y_train, \n",
    "                             x_test=x_test, \n",
    "                             y_test=y_test, \n",
    "                             model_name=model_name, \n",
    "                             degree=degree,\n",
    "                             output_modify=output_modify,\n",
    "                             shift=shift,            \n",
    "                             multiple=multiple,\n",
    "                             ppm=ppm,\n",
    "                             humidity_feature=sensor_humidity_feature                             \n",
    "                             )\n",
    "        sensor.regression()\n",
    "        intercept_and_coefficient = sensor.save_sensor_side_coef()\n",
    "#         print(intercept_and_coefficient)\n",
    "#         sensor.loss()\n",
    "#         sensor.plot()\n",
    "#         sensor.save_plot()\n",
    "#         sensor.coef()\n",
    "\n",
    "        surf_coef_list.append(intercept_and_coefficient) \n",
    "\n",
    "    test_data = df_test[[test_channel, 'Temperature', 'Humidity', 'ppm']]\n",
    "    \n",
    "    ppm_list = []\n",
    "    for index, row in test_data.iterrows():\n",
    "        signal, temperature, humidity, _ = row\n",
    "#         signal_0ppm = interpolation.calculate_ppm_surface_signal(surf_coef_list[0], x0=temperature, x1=humidity, degree=degree)\n",
    "        signal_10ppm = interpolation.calculate_ppm_surface_signal(surf_coef_list[0], x0=temperature, x1=humidity, degree=degree)\n",
    "        signal_40ppm = interpolation.calculate_ppm_surface_signal(surf_coef_list[1], x0=temperature, x1=humidity, degree=degree)\n",
    "        signal_60ppm = interpolation.calculate_ppm_surface_signal(surf_coef_list[2], x0=temperature, x1=humidity, degree=degree)\n",
    "#         signal_60ppm = interpolation.calculate_ppm_surface_signal(surf_coef_list[4], x0=temperature, x1=humidity, degree=degree)\n",
    "\n",
    "\n",
    "#         print(signal_10ppm, signal_40ppm, signal_60ppm)\n",
    "\n",
    "        signal_ppm_dict = {\n",
    "#                              0:signal_0ppm,\n",
    "                             10:signal_10ppm,\n",
    "                            40:signal_40ppm,\n",
    "                            60:signal_60ppm,\n",
    "#                             60:signal_60ppm,\n",
    "                           }\n",
    "\n",
    "        if interpolation_model == 'linear':\n",
    "            ppm = interpolation.linear_interpolation(signal_ppm_dict, signal, 10, 40, 60)\n",
    "\n",
    "        elif interpolation_model == 'log':\n",
    "            ppm = interpolation.log_interpolation(signal_ppm_dict, signal, 10, 40, 60)\n",
    "\n",
    "        elif interpolation_model == 'hybrid':\n",
    "            ppm = interpolation.hybrid_interpolation(signal_ppm_dict, signal, 10, 40, 60)\n",
    "\n",
    "        ppm_list.append(ppm)\n",
    "\n",
    "    # RMSE\n",
    "    rmse_test = np.sqrt(mean_squared_error(ppm_list, test_data['ppm'])).round(5)\n",
    "\n",
    "    # Interpolation prediction result    \n",
    "    predict_test_data = test_data.copy()\n",
    "    predict_test_data['pred_ppm'] = ppm_list\n",
    "    temp = int(predict_test_data['Temperature'].mean())\n",
    "    hum_min = int(predict_test_data['Humidity'].min())\n",
    "    hum_max = int(predict_test_data['Humidity'].max())\n",
    "    title = '({}) ({}%~{}%) ({}) (RMSE={})'.format(sensor_number, hum_min, hum_max, test_channel, rmse_test)\n",
    "#     title = '({}) ({}%~{}%) ({}) (RMSE={})'.format(sensor_number, hum_min, hum_max, test_channel, 0)\n",
    "\n",
    "    # plot prediction result  \n",
    "    fig_sub = make_subplots(rows=4, cols=1,\n",
    "                            vertical_spacing=0.1,\n",
    "                            row_heights=[40,40,40,120],\n",
    "                            subplot_titles= ['Humidity', 'Temperature','Prediction', 'ppm error'],\n",
    "                            )\n",
    "    \n",
    "    \n",
    "    fig_sub.add_trace(go.Scatter(y=predict_test_data['Humidity'], name='Humidity'), row=1, col=1)\n",
    "    fig_sub.add_trace(go.Scatter(y=predict_test_data['Temperature'], name='Temperature'), row=2, col=1)\n",
    "    fig_sub.add_trace(go.Scatter(y=predict_test_data['ppm'], name='ppm'), row=3, col=1)\n",
    "#     fig_sub.add_trace(go.Scatter(y=[0]*len(predict_test_data), name='ppm'), row=3, col=1)\n",
    "    fig_sub.add_trace(go.Scatter(y=predict_test_data['pred_ppm'], name='pred_ppm'), row=3, col=1)\n",
    "\n",
    "    \n",
    "    ppm_error = predict_test_data['pred_ppm'] - predict_test_data['ppm']\n",
    "    ppm_error_moving_average = moving_average(ppm_error, windows=5, windows_offset=5)\n",
    "    \n",
    "    fig_sub.add_trace(go.Bar(y=ppm_error_moving_average, name='ppm error',\n",
    "                             text=ppm_error_moving_average, textposition='auto'), row=4, col=1)\n",
    "\n",
    "#     fig_sub.add_vrect(x0=0, x1=46, fillcolor=\"LightSalmon\", opacity=0.5, layer=\"below\", line_width=0)\n",
    "#     fig_sub.add_vrect(x0=882, x1=937, fillcolor=\"LightSalmon\", opacity=0.5, layer=\"below\", line_width=0)\n",
    "\n",
    "    save_path = os.path.join(os.getcwd(), folder_name)\n",
    "    filename = '({}%~{}%)({})(shift {})(RMSE={})'.format(hum_min, hum_max, test_channel, shift ,rmse_test)\n",
    "    fig_sub.update_layout(yaxis4 = dict(range=[min(ppm_error_moving_average)-6, max(ppm_error_moving_average)+6]))\n",
    "    fig_sub.update_layout(title=filename ,width=900, height=800, legend_tracegroupgap=135)\n",
    "    fig_sub.write_image(save_path + '/' + filename + '.jpeg')\n",
    "    fig_sub.show()\n",
    "    \n",
    "#     # cap ppm value (replace below 0 value as 0)\n",
    "#     np_ppm_list = np.array(ppm_list)\n",
    "#     predict_test_data['pred_ppm_cap'] = np.where(np_ppm_list>0, np_ppm_list, 0)\n",
    "    \n",
    "#     # save prediction result by temperature step\n",
    "#     predict_test_data['temp_step'] = predict_test_data['Temperature'].apply(lambda x: int(round(x/100, 1)*100) if abs(x) > 10 else int(round(x,0)))\n",
    "#     temp_step = predict_test_data['temp_step'].unique()\n",
    "#     print(\"Temperature step: \", temp_step)\n",
    "    \n",
    "#     for temp in temp_step:\n",
    "#         predict_test_data_by_temp = predict_test_data[predict_test_data['temp_step']==temp]\n",
    "#         if predict_test_data_by_temp.shape[0] > 5:\n",
    "#             predict_test_data_by_temp.to_csv(save_path + '/predict_result_{}C.csv'.format(temp), index=False)\n",
    "    \n",
    "\n",
    "# # Overview 4D data\n",
    "# # 4D plot\n",
    "#     training_data = {\n",
    "# #                  '0C':df_0C,\n",
    "#                  '10C':df_10C,\n",
    "#                  '20C':df_20C,\n",
    "#                  '30C':df_30C,\n",
    "#                  '40C':df_40C,\n",
    "#                      }\n",
    "\n",
    "#     testing_data = {\n",
    "#                  '30C_test_10':df_test_30C_10,\n",
    "# #                  '10C_test_2':df_test_10C_2,\n",
    "# #                  '10C_test_3':df_test_10C_3,\n",
    "\n",
    "#                    }\n",
    "\n",
    "#     channel_list=['Filtered_583nm_Z_score']\n",
    "#     module_4D.plot_4D(training_data, testing_data, channel_list, sensor_number)\n",
    "\n",
    "# Analysis data \n",
    "    \n",
    "#     plot_overlay(data_list=test_data_list, cal_channel='Filtered_620nm_Z_score', QC_channel='Filtered_620nm_Z_score', save_figure=True, offset=False)\n",
    "#     plot_overlay(data_list=test_data_list, cal_channel='Filtered_583nm_Z_score', QC_channel='Filtered_583nm_Z_score', save_figure=True, offset=False)\n",
    "#     plot_overlay(data_list=test_data_list, cal_channel='Filtered_670nm_Z_score', QC_channel='Filtered_670nm_Z_score', save_figure=True, offset=False)\n",
    "#     plot_overlay(data_list=test_data_list, cal_channel='Filtered_510nm_Z_score', QC_channel='Filtered_510nm_Z_score', save_figure=True, offset=False)\n",
    "#     plot_overlay(data_list=test_data_list, cal_channel='Filtered_550nm_Z_score', QC_channel='Filtered_550nm_Z_score', save_figure=True, offset=False)\n",
    "#     plot_overlay(data_list=test_data_list, cal_channel='Filtered_470nm_Z_score', QC_channel='Filtered_470nm_Z_score', save_figure=True, offset=False)\n",
    "#     plot_overlay(data_list=test_data_list, cal_channel='Filtered_583nm_Z_score', QC_channel='Filtered_583nm_Z_score', save_figure=True, offset=False)\n",
    "# \n",
    "#     plot_overlay(data_list=test_data_list, cal_channel='583nm #1', QC_channel='583nm #1', save_figure=True, offset=False)\n",
    "#     plot_overlay(data_list=test_data_list, cal_channel='Filtered_620nm #1', QC_channel='Filtered_620nm #1', save_figure=True, offset=False)\n",
    "#     plot_overlay(data_list=test_data_list, cal_channel='Filtered_470nm #1', QC_channel='Filtered_470nm #1', save_figure=True, offset=False)\n",
    "#     plot_overlay(data_list=test_data_list, cal_channel='Filtered_550nm #1', QC_channel='Filtered_550nm #1', save_figure=True, offset=False)\n",
    "#     plot_overlay(data_list=test_data_list, cal_channel='Filtered_670nm #1', QC_channel='Filtered_670nm #1', save_figure=True, offset=False)\n",
    "#     plot_overlay(data_list=test_data_list, cal_channel='Filtered_510nm #1', QC_channel='Filtered_510nm #1', save_figure=True, offset=False)\n",
    "\n",
    "#     response_separation(data_list=test_data_list, QC_channel='583nm #1', save_figure=True, humidity_step=2)\n",
    "# \n"
   ]
  },
  {
   "cell_type": "code",
   "execution_count": null,
   "metadata": {},
   "outputs": [],
   "source": []
  }
 ],
 "metadata": {
  "kernelspec": {
   "display_name": "Python 3",
   "language": "python",
   "name": "python3"
  },
  "language_info": {
   "codemirror_mode": {
    "name": "ipython",
    "version": 3
   },
   "file_extension": ".py",
   "mimetype": "text/x-python",
   "name": "python",
   "nbconvert_exporter": "python",
   "pygments_lexer": "ipython3",
   "version": "3.7.3"
  }
 },
 "nbformat": 4,
 "nbformat_minor": 4
}
