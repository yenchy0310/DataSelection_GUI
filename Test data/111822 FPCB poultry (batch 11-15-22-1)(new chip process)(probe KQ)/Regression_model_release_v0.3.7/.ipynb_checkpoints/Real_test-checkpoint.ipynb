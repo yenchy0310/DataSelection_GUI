{
 "cells": [
  {
   "cell_type": "code",
   "execution_count": 1,
   "metadata": {},
   "outputs": [
    {
     "data": {
      "text/html": [
       "        <script type=\"text/javascript\">\n",
       "        window.PlotlyConfig = {MathJaxConfig: 'local'};\n",
       "        if (window.MathJax) {MathJax.Hub.Config({SVG: {font: \"STIX-Web\"}});}\n",
       "        if (typeof require !== 'undefined') {\n",
       "        require.undef(\"plotly\");\n",
       "        requirejs.config({\n",
       "            paths: {\n",
       "                'plotly': ['https://cdn.plot.ly/plotly-latest.min']\n",
       "            }\n",
       "        });\n",
       "        require(['plotly'], function(Plotly) {\n",
       "            window._Plotly = Plotly;\n",
       "        });\n",
       "        }\n",
       "        </script>\n",
       "        "
      ]
     },
     "metadata": {},
     "output_type": "display_data"
    }
   ],
   "source": [
    "import os\n",
    "import pandas as pd\n",
    "import numpy as np\n",
    "\n",
    "import compensation\n",
    "# import iplot package\n",
    "import plotly.graph_objs as go\n",
    "import plotly.offline as offline\n",
    "from plotly.offline import init_notebook_mode\n",
    "import cufflinks as cf\n",
    "cf.go_offline(connected=True)\n",
    "# init_notebook_mode(connected=True)\n",
    "\n",
    "import warnings\n",
    "warnings.filterwarnings('ignore')"
   ]
  },
  {
   "cell_type": "code",
   "execution_count": 2,
   "metadata": {},
   "outputs": [],
   "source": [
    "path = 'D:/Data_store/MP data//'\n",
    "folderName = '113019Calibration_ZnD190001-11,12,34,41_ratio_1_9'"
   ]
  },
  {
   "cell_type": "code",
   "execution_count": 3,
   "metadata": {},
   "outputs": [
    {
     "data": {
      "text/plain": [
       "['#20191001160722',\n",
       " '#20191129164934(IR)',\n",
       " '#20191129170254',\n",
       " '#20191129170313',\n",
       " '2019_11_30_11_06_59_0C_2LPM',\n",
       " '2019_11_30_14_48_29_10C_2LPM',\n",
       " '2019_11_30_19_37_02_20C_2LPM',\n",
       " '2019_12_01_10_24_53_30C_2LPM',\n",
       " '2019_12_01_14_31_39_40C_2LPM',\n",
       " '2019_12_01_18_34_53_50C_2LPM',\n",
       " '2019_12_02_10_26_22_20C_2LPM_blind_test',\n",
       " '2019_12_03_11_46_20_model shift',\n",
       " 'MFC setpoint']"
      ]
     },
     "execution_count": 3,
     "metadata": {},
     "output_type": "execute_result"
    }
   ],
   "source": [
    "os.listdir(os.path.join(path, folderName))"
   ]
  },
  {
   "cell_type": "code",
   "execution_count": 4,
   "metadata": {},
   "outputs": [],
   "source": [
    "#sensor serial number\n",
    "sensor_number = '#20191129164934(IR)'\n",
    "sensor_data_path = os.path.join(path, folderName, sensor_number)"
   ]
  },
  {
   "cell_type": "code",
   "execution_count": 5,
   "metadata": {},
   "outputs": [],
   "source": [
    "# load training data\n",
    "df_0C = pd.read_csv(sensor_data_path + '/select_data_calibration_0C.csv')\n",
    "# df_5C = pd.read_csv(sensor_data_path + '/select_data_calibration_5C.csv')\n",
    "df_10C = pd.read_csv(sensor_data_path + '/select_data_calibration_10C.csv')\n",
    "# df_15C = pd.read_csv(sensor_data_path + '/select_data_calibration_15C.csv')\n",
    "df_20C = pd.read_csv(sensor_data_path + '/select_data_calibration_20C.csv')\n",
    "# df_25C = pd.read_csv(sensor_data_path + '/select_data_calibration_25C.csv')\n",
    "df_30C = pd.read_csv(sensor_data_path + '/select_data_calibration_30C.csv')\n",
    "# df_35C = pd.read_csv(sensor_data_path + '/select_data_calibration_35C.csv')\n",
    "df_40C = pd.read_csv(sensor_data_path + '/select_data_calibration_40C.csv')\n",
    "# df_45C = pd.read_csv(sensor_data_path + '/select_data_calibration_45C.csv')\n",
    "df_50C = pd.read_csv(sensor_data_path + '/select_data_calibration_50C.csv')\n",
    "\n",
    "train_data_list = [df_0C, df_10C, df_20C, df_30C, df_40C, df_50C]\n",
    "# train_data_list = [df_0C, df_10C, df_30C, df_40C, df_50C]\n",
    "\n",
    "# Load testing data\n",
    "# df_test_4C = pd.read_csv(sensor_data_path + '/select_data_blind_test_4C.csv')\n",
    "# df_test_5C = pd.read_csv(sensor_data_path + '/select_data_blind_test_5C.csv')\n",
    "# df_test_10C = pd.read_csv(sensor_data_path + '/select_data_blind_test_10C.csv')\n",
    "# df_test_20C = pd.read_csv(sensor_data_path + '/select_data_blind_test_20C.csv')\n",
    "# df_test_20C_1 = pd.read_csv(sensor_data_path + '/select_data_blind_test_20C_1.csv')\n",
    "# df_test_20C_shift = pd.read_csv(sensor_data_path + '/select_data_blind_test_20C_shift.csv')\n",
    "# df_test_27C = pd.read_csv(sensor_data_path + '/select_data_blind_test_27C.csv')\n",
    "# df_test_20C_diffusion = pd.read_csv(sensor_data_path + '/#516_visible LED.csv')\n",
    "\n",
    "# test_data_list = [df_test_20C, df_test_20C_1]\n",
    "# test_data_list = [df_test_10C, df_test_20C]"
   ]
  },
  {
   "cell_type": "code",
   "execution_count": 6,
   "metadata": {},
   "outputs": [],
   "source": [
    "# Compensation process\n",
    "white_card_std = df_10C\n",
    "\n",
    "for i in train_data_list:\n",
    "    compensation.compensation_AS7341(i, white_card_std)\n",
    "# for j in test_data_list:\n",
    "#     compensation.compensation_AS7341(j, white_card_std)\n",
    "    \n",
    "compensation_channel = ['410nm', '440nm', '470nm', '510nm', '550nm', '583nm', '620nm', '670nm', '900nm']\n",
    "# for channel in compensation_channel:\n",
    "#     compensation.plot(df_20C, df_test_20C_shift, channel)"
   ]
  },
  {
   "cell_type": "code",
   "execution_count": 7,
   "metadata": {},
   "outputs": [],
   "source": [
    "df_all = pd.concat([df_0C, df_10C, df_20C, df_30C, df_40C, df_50C]).reset_index(drop=True)"
   ]
  },
  {
   "cell_type": "code",
   "execution_count": 8,
   "metadata": {},
   "outputs": [],
   "source": [
    "y_train = df_all['ppm']\n",
    "x_train = df_all[['Temperature', 'Humidity', \n",
    "                  '410nm #1', '440nm #1', '470nm #1', \n",
    "                  '510nm #1', '550nm #1', '583nm #1', \n",
    "                  '620nm #1', '670nm #1', '900nm #1',\n",
    "                  \n",
    "                  '410nm #1_comp', '440nm #1_comp', '470nm #1_comp', \n",
    "                  '510nm #1_comp', '550nm #1_comp', '583nm #1_comp', \n",
    "                  '620nm #1_comp', '670nm #1_comp', '900nm #1_comp',\n",
    "                 \n",
    "                  '410nm #1_mv', '440nm #1_mv', '470nm #1_mv', \n",
    "                  '510nm #1_mv', '550nm #1_mv', '583nm #1_mv', \n",
    "                  '620nm #1_mv', '670nm #1_mv', '900nm #1_mv',\n",
    "                 \n",
    "                  '410nm #1_mv_comp', '440nm #1_mv_comp', '470nm #1_mv_comp', \n",
    "                  '510nm #1_mv_comp', '550nm #1_mv_comp', '583nm #1_mv_comp', \n",
    "                  '620nm #1_mv_comp', '670nm #1_mv_comp', '900nm #1_mv_comp'\n",
    "                 ]]"
   ]
  },
  {
   "cell_type": "code",
   "execution_count": 9,
   "metadata": {},
   "outputs": [],
   "source": [
    "from sklearn.preprocessing import PolynomialFeatures"
   ]
  },
  {
   "cell_type": "code",
   "execution_count": null,
   "metadata": {},
   "outputs": [],
   "source": []
  },
  {
   "cell_type": "code",
   "execution_count": 11,
   "metadata": {},
   "outputs": [
    {
     "ename": "NameError",
     "evalue": "name 'x_test' is not defined",
     "output_type": "error",
     "traceback": [
      "\u001b[1;31m---------------------------------------------------------------------------\u001b[0m",
      "\u001b[1;31mNameError\u001b[0m                                 Traceback (most recent call last)",
      "\u001b[1;32m<ipython-input-11-b918ef0e378b>\u001b[0m in \u001b[0;36m<module>\u001b[1;34m\u001b[0m\n\u001b[0;32m      1\u001b[0m \u001b[0mx\u001b[0m \u001b[1;33m=\u001b[0m \u001b[0mx_train\u001b[0m\u001b[1;33m[\u001b[0m\u001b[1;33m[\u001b[0m\u001b[1;34m'Temperature'\u001b[0m\u001b[1;33m,\u001b[0m\u001b[1;34m'Humidity'\u001b[0m\u001b[1;33m,\u001b[0m \u001b[1;34m'670nm #1_mv_comp'\u001b[0m\u001b[1;33m]\u001b[0m\u001b[1;33m]\u001b[0m\u001b[1;33m\u001b[0m\u001b[1;33m\u001b[0m\u001b[0m\n\u001b[1;32m----> 2\u001b[1;33m \u001b[0mX_\u001b[0m \u001b[1;33m=\u001b[0m \u001b[0mx_test\u001b[0m\u001b[1;33m[\u001b[0m\u001b[1;33m[\u001b[0m\u001b[1;34m'Temperature'\u001b[0m\u001b[1;33m,\u001b[0m\u001b[1;34m'Humidity'\u001b[0m\u001b[1;33m,\u001b[0m \u001b[1;34m'670nm #1_mv_comp'\u001b[0m\u001b[1;33m]\u001b[0m\u001b[1;33m]\u001b[0m\u001b[1;33m\u001b[0m\u001b[1;33m\u001b[0m\u001b[0m\n\u001b[0m\u001b[0;32m      3\u001b[0m \u001b[1;33m\u001b[0m\u001b[0m\n\u001b[0;32m      4\u001b[0m \u001b[0mx\u001b[0m \u001b[1;33m=\u001b[0m \u001b[0mpoly\u001b[0m\u001b[1;33m.\u001b[0m\u001b[0mfit_transform\u001b[0m\u001b[1;33m(\u001b[0m\u001b[0mx\u001b[0m\u001b[1;33m)\u001b[0m\u001b[1;33m\u001b[0m\u001b[1;33m\u001b[0m\u001b[0m\n\u001b[0;32m      5\u001b[0m \u001b[0mX_\u001b[0m \u001b[1;33m=\u001b[0m \u001b[0mpoly\u001b[0m\u001b[1;33m.\u001b[0m\u001b[0mfit_transform\u001b[0m\u001b[1;33m(\u001b[0m\u001b[0mX_\u001b[0m\u001b[1;33m)\u001b[0m\u001b[1;33m\u001b[0m\u001b[1;33m\u001b[0m\u001b[0m\n",
      "\u001b[1;31mNameError\u001b[0m: name 'x_test' is not defined"
     ]
    }
   ],
   "source": [
    "x = x_train[['Temperature','Humidity', '670nm #1_mv_comp']]\n",
    "X_ = x_test[['Temperature','Humidity', '670nm #1_mv_comp']]\n",
    "      \n",
    "x = poly.fit_transform(x)\n",
    "X_ = poly.fit_transform(X_)\n"
   ]
  },
  {
   "cell_type": "code",
   "execution_count": null,
   "metadata": {},
   "outputs": [],
   "source": []
  }
 ],
 "metadata": {
  "kernelspec": {
   "display_name": "Python 3",
   "language": "python",
   "name": "python3"
  },
  "language_info": {
   "codemirror_mode": {
    "name": "ipython",
    "version": 3
   },
   "file_extension": ".py",
   "mimetype": "text/x-python",
   "name": "python",
   "nbconvert_exporter": "python",
   "pygments_lexer": "ipython3",
   "version": "3.7.3"
  }
 },
 "nbformat": 4,
 "nbformat_minor": 2
}
