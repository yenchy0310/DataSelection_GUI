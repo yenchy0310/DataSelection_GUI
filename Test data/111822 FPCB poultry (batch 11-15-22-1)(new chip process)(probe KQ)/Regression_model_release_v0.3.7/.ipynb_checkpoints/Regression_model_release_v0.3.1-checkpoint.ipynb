{
 "cells": [
  {
   "cell_type": "markdown",
   "metadata": {
    "slideshow": {
     "slide_type": "-"
    }
   },
   "source": [
    "## 更新內容\n",
    ">2021.3.25  Regression_model_release_v0.3.1\n",
    "* add raw data overlay plot\n",
    "* add response plot\n",
    "* add drifting ratio and parameter plot\n",
    "\n",
    ">2021.2.2  Regression_model_release_v0.3.0\n",
    "* new version compensation\n",
    "* upgrade plotly version v4.14.3 (原本 version v3.9.0)\n",
    "* upgrade cufflinks version v0.17.3 (原本 version v0.15.0)\n",
    "* white_card_coef 乘 parameter(for compensation)\n",
    "* revise .csv filename\n",
    "\n",
    ">2021.1.15 Regression_model_release_v0.2.6\n",
    "* 更新interpolation模組\n",
    "        * 增加線性外插高濃度值功能\"__extrapolation_upper\"\n",
    "        * 增加線性外插低濃度值功能\"__extrapolation_lower\"\n",
    "        * 增加指數外插高濃度值功能\"__log_extrapolation_upper\"\n",
    "        * 增加指數外插低濃度值功能\"__log_extrapolation_lower\"\n",
    "        * mark hybrid_interpolation function\n",
    "        * 修正對數數值domain\n",
    "  \n",
    "\n",
    "## 程式主要功能 \n",
    "* 建立各濃度平面\n",
    "* 內差法計算濃度值"
   ]
  },
  {
   "cell_type": "code",
   "execution_count": 162,
   "metadata": {
    "slideshow": {
     "slide_type": "-"
    }
   },
   "outputs": [],
   "source": [
    "import os\n",
    "import pandas as pd\n",
    "import numpy as np\n",
    "import matplotlib.pyplot as plt\n",
    "from sklearn.linear_model import Ridge, Lasso, LinearRegression\n",
    "from sklearn import linear_model\n",
    "from sklearn.metrics import mean_squared_error\n",
    "\n",
    "import warnings\n",
    "warnings.filterwarnings('ignore')\n",
    "\n",
    "import tkinter\n",
    "from tkinter import*\n",
    "# Create Tk root\n",
    "root = Tk()\n",
    "# Hide the main window\n",
    "root.withdraw()\n",
    "root.call('wm', 'attributes', '.', '-topmost', True)\n",
    "from tkinter import filedialog\n",
    "%gui tk\n",
    "\n",
    "import FFT\n",
    "import compensation\n",
    "import module_4D\n",
    "# import modeling_white_card\n",
    "import model\n",
    "import white_card_std\n",
    "\n",
    "# from modeling_white_card import modeling_white\n",
    "# from modeling import modeling\n",
    "import interpolation\n",
    "import plotly.graph_objects as go"
   ]
  },
  {
   "cell_type": "code",
   "execution_count": 163,
   "metadata": {
    "slideshow": {
     "slide_type": "skip"
    }
   },
   "outputs": [],
   "source": [
    "def data_loading():\n",
    "    path = filedialog.askdirectory()\n",
    "    print(path)\n",
    "    return path"
   ]
  },
  {
   "cell_type": "code",
   "execution_count": 164,
   "metadata": {},
   "outputs": [],
   "source": [
    "def data_pretreatment(data):\n",
    "    data['magic'] = data['583nm #1']-data['510nm #1']\n",
    "    return data"
   ]
  },
  {
   "cell_type": "code",
   "execution_count": 165,
   "metadata": {
    "slideshow": {
     "slide_type": "skip"
    }
   },
   "outputs": [
    {
     "name": "stdout",
     "output_type": "stream",
     "text": [
      "D:/Data_store/AMS_7341/051121 Intemo MP test (U+4, 0~40C, 60%, 60, 25, 10, 4, 0ppm)(big batch)/#20200930172233\n"
     ]
    }
   ],
   "source": [
    "path = data_loading()"
   ]
  },
  {
   "cell_type": "code",
   "execution_count": 166,
   "metadata": {
    "slideshow": {
     "slide_type": "skip"
    }
   },
   "outputs": [
    {
     "name": "stdout",
     "output_type": "stream",
     "text": [
      "sensor_number: #20200930172233\n"
     ]
    }
   ],
   "source": [
    "#sensor serial number\n",
    "sensor_number = path.split('/')[-1]\n",
    "print('sensor_number:', sensor_number)"
   ]
  },
  {
   "cell_type": "markdown",
   "metadata": {
    "slideshow": {
     "slide_type": "slide"
    }
   },
   "source": [
    "# Loading data and FFT transform"
   ]
  },
  {
   "cell_type": "code",
   "execution_count": 167,
   "metadata": {
    "slideshow": {
     "slide_type": "subslide"
    }
   },
   "outputs": [],
   "source": [
    "# load training data\n",
    "A = 0\n",
    "B = 300000"
   ]
  },
  {
   "cell_type": "code",
   "execution_count": 168,
   "metadata": {},
   "outputs": [],
   "source": [
    "df_0C = data_pretreatment(pd.read_csv(path + '/select_data_calibration_0C.csv').reset_index(drop=True))\n",
    "df_10C = data_pretreatment(pd.read_csv(path + '/select_data_calibration_10C.csv').reset_index(drop=True))\n",
    "df_20C = data_pretreatment(pd.read_csv(path + '/select_data_calibration_20C.csv').reset_index(drop=True))\n",
    "df_30C = data_pretreatment(pd.read_csv(path + '/select_data_calibration_30C.csv').reset_index(drop=True))\n",
    "df_40C = data_pretreatment(pd.read_csv(path + '/select_data_calibration_40C.csv').reset_index(drop=True))\n",
    "train_data_list = [df_0C, df_10C, df_20C, df_30C, df_40C]\n",
    "\n",
    "# Load testing data\n",
    "df_test_30C = data_pretreatment(pd.read_csv(path + '/select_data_blind_test_30C.csv')[A:B].reset_index(drop=True))\n",
    "df_test_30C_2 = data_pretreatment(pd.read_csv(path + '/select_data_blind_test_30C_2.csv')[A:B].reset_index(drop=True))\n",
    "df_test_30C_3 = data_pretreatment(pd.read_csv(path + '/select_data_blind_test_30C_3.csv')[A:B].reset_index(drop=True))\n",
    "df_test_30C_4 = data_pretreatment(pd.read_csv(path + '/select_data_blind_test_30C_4.csv')[A:B].reset_index(drop=True))\n",
    "df_test_30C_5 = data_pretreatment(pd.read_csv(path + '/select_data_blind_test_30C_5.csv')[A:B].reset_index(drop=True))\n",
    "df_test_30C_6 = data_pretreatment(pd.read_csv(path + '/select_data_blind_test_30C_6.csv')[A:B].reset_index(drop=True))\n",
    "\n",
    "test_data_list = [\n",
    "                  df_test_30C, \n",
    "                  df_test_30C_2, \n",
    "                  df_test_30C_3, \n",
    "                  df_test_30C_4,\n",
    "                  df_test_30C_5,\n",
    "                  df_test_30C_6\n",
    "                 ]"
   ]
  },
  {
   "cell_type": "code",
   "execution_count": 169,
   "metadata": {
    "slideshow": {
     "slide_type": "subslide"
    }
   },
   "outputs": [
    {
     "name": "stdout",
     "output_type": "stream",
     "text": [
      "df_0C: (50, 55)\n",
      "df_10 (50, 55)\n",
      "df_20C: (50, 55)\n",
      "df_30C: (50, 55)\n",
      "df_40C: (50, 55)\n",
      "-------------------------------------\n",
      "df_test_30C: (50, 55)\n",
      "df_test_30C_2: (50, 55)\n",
      "df_test_30C_3: (50, 55)\n",
      "df_test_30C_4: (50, 55)\n",
      "df_test_30C_5: (50, 55)\n",
      "df_test_30C_5: (50, 55)\n"
     ]
    }
   ],
   "source": [
    "print('df_0C:', df_0C.shape)\n",
    "print('df_10', df_10C.shape)\n",
    "print('df_20C:', df_20C.shape)\n",
    "print('df_30C:', df_30C.shape)\n",
    "print('df_40C:', df_40C.shape)\n",
    "print('-------------------------------------')\n",
    "print('df_test_30C:', df_test_30C.shape)\n",
    "print('df_test_30C_2:', df_test_30C_2.shape)\n",
    "print('df_test_30C_3:', df_test_30C_3.shape)\n",
    "print('df_test_30C_4:', df_test_30C_4.shape)\n",
    "print('df_test_30C_5:', df_test_30C_5.shape)\n",
    "print('df_test_30C_5:', df_test_30C_6.shape)"
   ]
  },
  {
   "cell_type": "markdown",
   "metadata": {},
   "source": [
    "# Compensation"
   ]
  },
  {
   "attachments": {
    "image.png": {
     "image/png": "[encoded data removed]"
    }
   },
   "cell_type": "markdown",
   "metadata": {},
   "source": [
    "![image.png](attachment:image.png)\n",
    "1. calculate parameter\n",
    "2. build reference model\n",
    "3. calculate ref_std"
   ]
  },
  {
   "cell_type": "code",
   "execution_count": 170,
   "metadata": {},
   "outputs": [],
   "source": [
    "def ratio_calculator(df_qc, df_ref, channel):\n",
    "    ratio = (df_qc[channel]/df_ref[channel]).mean()\n",
    "    return ratio"
   ]
  },
  {
   "cell_type": "markdown",
   "metadata": {},
   "source": [
    "## calculate parameter"
   ]
  },
  {
   "cell_type": "code",
   "execution_count": 171,
   "metadata": {},
   "outputs": [
    {
     "name": "stdout",
     "output_type": "stream",
     "text": [
      "ratio_ref:0.9884\n",
      "ratio_target:0.9861\n",
      "compensation_parameter:1.0023\n"
     ]
    }
   ],
   "source": [
    "df_ref = df_30C\n",
    "df_qc = df_test_30C_2\n",
    "channel_list = ['670nm #1', 'magic']\n",
    "\n",
    "ratio_ref = ratio_calculator(df_qc, df_ref, channel_list[0])\n",
    "ratio_target = ratio_calculator(df_qc, df_ref, channel_list[1])\n",
    "parameter = ratio_ref/ratio_target\n",
    "print('ratio_ref:{:.4f}'.format(ratio_ref))\n",
    "print('ratio_target:{:.4f}'.format(ratio_target))\n",
    "print('compensation_parameter:{:.4f}'.format(parameter))"
   ]
  },
  {
   "cell_type": "markdown",
   "metadata": {},
   "source": [
    "## reference model setting"
   ]
  },
  {
   "cell_type": "code",
   "execution_count": 172,
   "metadata": {},
   "outputs": [],
   "source": [
    "# white card paremeter setting\n",
    "folder_name = 'QC1~6 magic (QC2 parameter)'\n",
    "# folder_name = 'QC3_583nm_comp_log_model(K1+QC1)(degree 2)'\n",
    "\n",
    "model_name = Ridge(alpha=10)                    #regression model\n",
    "channel = '670nm #1'                       #regression channel\n",
    "degree_white_card = 2                                   #polynimial degree\n",
    "humidity_step = ['RH40%', 'RH50%', 'RH60%', 'RH70%', 'RH80']\n",
    "white_card_humidity_feature = False"
   ]
  },
  {
   "cell_type": "code",
   "execution_count": 173,
   "metadata": {},
   "outputs": [
    {
     "data": {
      "application/vnd.plotly.v1+json": {
       "config": {
        "linkText": "Export to plot.ly",
        "plotlyServerURL": "https://plot.ly",
        "showLink": true
       },
       "data": [
        {
         "line": {
          "color": "rgba(255, 153, 51, 1.0)",
          "dash": "solid",
          "shape": "linear",
          "width": 1.3
         },
         "mode": "lines",
         "name": "y_true",
         "text": "",
         "type": "scatter",
         "x": [
          0,
          1,
          2,
          3,
          4,
          5,
          6,
          7,
          8,
          9,
          10,
          11,
          12,
          13,
          14,
          15,
          16,
          17,
          18,
          19,
          20,
          21,
          22,
          23,
          24,
          25,
          26,
          27,
          28,
          29,
          30,
          31,
          32,
          33,
          34,
          35,
          36,
          37,
          38,
          39,
          40,
          41,
          42,
          43,
          44,
          45,
          46,
          47,
          48,
          49
         ],
         "y": [
          13207,
          13203,
          13203,
          13205,
          13204,
          13205,
          13205,
          13205,
          13204,
          13204,
          13215,
          13216,
          13208,
          13219,
          13216,
          13218,
          13218,
          13220,
          13211,
          13210,
          13198,
          13202,
          13203,
          13203,
          13206,
          13209,
          13202,
          13204,
          13207,
          13206,
          13200,
          13198,
          13199,
          13198,
          13204,
          13202,
          13203,
          13200,
          13192,
          13200,
          13196,
          13200,
          13193,
          13189,
          13197,
          13198,
          13200,
          13201,
          13197,
          13200
         ]
        },
        {
         "line": {
          "color": "rgba(55, 128, 191, 1.0)",
          "dash": "solid",
          "shape": "linear",
          "width": 1.3
         },
         "mode": "lines",
         "name": "y_pred",
         "text": "",
         "type": "scatter",
         "x": [
          0,
          1,
          2,
          3,
          4,
          5,
          6,
          7,
          8,
          9,
          10,
          11,
          12,
          13,
          14,
          15,
          16,
          17,
          18,
          19,
          20,
          21,
          22,
          23,
          24,
          25,
          26,
          27,
          28,
          29,
          30,
          31,
          32,
          33,
          34,
          35,
          36,
          37,
          38,
          39,
          40,
          41,
          42,
          43,
          44,
          45,
          46,
          47,
          48,
          49
         ],
         "y": [
          13201.581396112326,
          13201.675055593358,
          13201.706269877683,
          13201.5501707418,
          13201.581396112326,
          13201.737481390457,
          13201.581396112326,
          13201.675055593358,
          13201.706269877683,
          13201.61261871006,
          13203.543007006936,
          13203.51195624406,
          13203.48090270963,
          13203.51195624406,
          13203.605100216808,
          13203.574054998264,
          13203.48090270963,
          13203.51195624406,
          13203.543007006936,
          13203.449846403655,
          13203.170214930113,
          13203.076954551032,
          13203.232374658415,
          13203.139130908636,
          13203.108044115608,
          13203.139130908636,
          13203.232374658415,
          13203.139130908636,
          13203.232374658415,
          13203.076954551032,
          13202.890358962259,
          13203.045862214905,
          13202.890358962259,
          13203.045862214905,
          13202.828138259856,
          13202.859249996833,
          13202.890358962259,
          13203.108044115608,
          13202.952568577226,
          13203.232374658415,
          13202.983669228002,
          13202.890358962259,
          13202.983669228002,
          13202.890358962259,
          13202.921465156136,
          13202.703663596452,
          13202.797023751331,
          13202.765906471255,
          13202.921465156136,
          13202.890358962259
         ]
        }
       ],
       "layout": {
        "legend": {
         "bgcolor": "#F5F6F9",
         "font": {
          "color": "#4D5663"
         }
        },
        "paper_bgcolor": "#F5F6F9",
        "plot_bgcolor": "#F5F6F9",
        "template": {
         "data": {
          "bar": [
           {
            "error_x": {
             "color": "#2a3f5f"
            },
            "error_y": {
             "color": "#2a3f5f"
            },
            "marker": {
             "line": {
              "color": "#E5ECF6",
              "width": 0.5
             }
            },
            "type": "bar"
           }
          ],
          "barpolar": [
           {
            "marker": {
             "line": {
              "color": "#E5ECF6",
              "width": 0.5
             }
            },
            "type": "barpolar"
           }
          ],
          "carpet": [
           {
            "aaxis": {
             "endlinecolor": "#2a3f5f",
             "gridcolor": "white",
             "linecolor": "white",
             "minorgridcolor": "white",
             "startlinecolor": "#2a3f5f"
            },
            "baxis": {
             "endlinecolor": "#2a3f5f",
             "gridcolor": "white",
             "linecolor": "white",
             "minorgridcolor": "white",
             "startlinecolor": "#2a3f5f"
            },
            "type": "carpet"
           }
          ],
          "choropleth": [
           {
            "colorbar": {
             "outlinewidth": 0,
             "ticks": ""
            },
            "type": "choropleth"
           }
          ],
          "contour": [
           {
            "colorbar": {
             "outlinewidth": 0,
             "ticks": ""
            },
            "colorscale": [
             [
              0,
              "#0d0887"
             ],
             [
              0.1111111111111111,
              "#46039f"
             ],
             [
              0.2222222222222222,
              "#7201a8"
             ],
             [
              0.3333333333333333,
              "#9c179e"
             ],
             [
              0.4444444444444444,
              "#bd3786"
             ],
             [
              0.5555555555555556,
              "#d8576b"
             ],
             [
              0.6666666666666666,
              "#ed7953"
             ],
             [
              0.7777777777777778,
              "#fb9f3a"
             ],
             [
              0.8888888888888888,
              "#fdca26"
             ],
             [
              1,
              "#f0f921"
             ]
            ],
            "type": "contour"
           }
          ],
          "contourcarpet": [
           {
            "colorbar": {
             "outlinewidth": 0,
             "ticks": ""
            },
            "type": "contourcarpet"
           }
          ],
          "heatmap": [
           {
            "colorbar": {
             "outlinewidth": 0,
             "ticks": ""
            },
            "colorscale": [
             [
              0,
              "#0d0887"
             ],
             [
              0.1111111111111111,
              "#46039f"
             ],
             [
              0.2222222222222222,
              "#7201a8"
             ],
             [
              0.3333333333333333,
              "#9c179e"
             ],
             [
              0.4444444444444444,
              "#bd3786"
             ],
             [
              0.5555555555555556,
              "#d8576b"
             ],
             [
              0.6666666666666666,
              "#ed7953"
             ],
             [
              0.7777777777777778,
              "#fb9f3a"
             ],
             [
              0.8888888888888888,
              "#fdca26"
             ],
             [
              1,
              "#f0f921"
             ]
            ],
            "type": "heatmap"
           }
          ],
          "heatmapgl": [
           {
            "colorbar": {
             "outlinewidth": 0,
             "ticks": ""
            },
            "colorscale": [
             [
              0,
              "#0d0887"
             ],
             [
              0.1111111111111111,
              "#46039f"
             ],
             [
              0.2222222222222222,
              "#7201a8"
             ],
             [
              0.3333333333333333,
              "#9c179e"
             ],
             [
              0.4444444444444444,
              "#bd3786"
             ],
             [
              0.5555555555555556,
              "#d8576b"
             ],
             [
              0.6666666666666666,
              "#ed7953"
             ],
             [
              0.7777777777777778,
              "#fb9f3a"
             ],
             [
              0.8888888888888888,
              "#fdca26"
             ],
             [
              1,
              "#f0f921"
             ]
            ],
            "type": "heatmapgl"
           }
          ],
          "histogram": [
           {
            "marker": {
             "colorbar": {
              "outlinewidth": 0,
              "ticks": ""
             }
            },
            "type": "histogram"
           }
          ],
          "histogram2d": [
           {
            "colorbar": {
             "outlinewidth": 0,
             "ticks": ""
            },
            "colorscale": [
             [
              0,
              "#0d0887"
             ],
             [
              0.1111111111111111,
              "#46039f"
             ],
             [
              0.2222222222222222,
              "#7201a8"
             ],
             [
              0.3333333333333333,
              "#9c179e"
             ],
             [
              0.4444444444444444,
              "#bd3786"
             ],
             [
              0.5555555555555556,
              "#d8576b"
             ],
             [
              0.6666666666666666,
              "#ed7953"
             ],
             [
              0.7777777777777778,
              "#fb9f3a"
             ],
             [
              0.8888888888888888,
              "#fdca26"
             ],
             [
              1,
              "#f0f921"
             ]
            ],
            "type": "histogram2d"
           }
          ],
          "histogram2dcontour": [
           {
            "colorbar": {
             "outlinewidth": 0,
             "ticks": ""
            },
            "colorscale": [
             [
              0,
              "#0d0887"
             ],
             [
              0.1111111111111111,
              "#46039f"
             ],
             [
              0.2222222222222222,
              "#7201a8"
             ],
             [
              0.3333333333333333,
              "#9c179e"
             ],
             [
              0.4444444444444444,
              "#bd3786"
             ],
             [
              0.5555555555555556,
              "#d8576b"
             ],
             [
              0.6666666666666666,
              "#ed7953"
             ],
             [
              0.7777777777777778,
              "#fb9f3a"
             ],
             [
              0.8888888888888888,
              "#fdca26"
             ],
             [
              1,
              "#f0f921"
             ]
            ],
            "type": "histogram2dcontour"
           }
          ],
          "mesh3d": [
           {
            "colorbar": {
             "outlinewidth": 0,
             "ticks": ""
            },
            "type": "mesh3d"
           }
          ],
          "parcoords": [
           {
            "line": {
             "colorbar": {
              "outlinewidth": 0,
              "ticks": ""
             }
            },
            "type": "parcoords"
           }
          ],
          "pie": [
           {
            "automargin": true,
            "type": "pie"
           }
          ],
          "scatter": [
           {
            "marker": {
             "colorbar": {
              "outlinewidth": 0,
              "ticks": ""
             }
            },
            "type": "scatter"
           }
          ],
          "scatter3d": [
           {
            "line": {
             "colorbar": {
              "outlinewidth": 0,
              "ticks": ""
             }
            },
            "marker": {
             "colorbar": {
              "outlinewidth": 0,
              "ticks": ""
             }
            },
            "type": "scatter3d"
           }
          ],
          "scattercarpet": [
           {
            "marker": {
             "colorbar": {
              "outlinewidth": 0,
              "ticks": ""
             }
            },
            "type": "scattercarpet"
           }
          ],
          "scattergeo": [
           {
            "marker": {
             "colorbar": {
              "outlinewidth": 0,
              "ticks": ""
             }
            },
            "type": "scattergeo"
           }
          ],
          "scattergl": [
           {
            "marker": {
             "colorbar": {
              "outlinewidth": 0,
              "ticks": ""
             }
            },
            "type": "scattergl"
           }
          ],
          "scattermapbox": [
           {
            "marker": {
             "colorbar": {
              "outlinewidth": 0,
              "ticks": ""
             }
            },
            "type": "scattermapbox"
           }
          ],
          "scatterpolar": [
           {
            "marker": {
             "colorbar": {
              "outlinewidth": 0,
              "ticks": ""
             }
            },
            "type": "scatterpolar"
           }
          ],
          "scatterpolargl": [
           {
            "marker": {
             "colorbar": {
              "outlinewidth": 0,
              "ticks": ""
             }
            },
            "type": "scatterpolargl"
           }
          ],
          "scatterternary": [
           {
            "marker": {
             "colorbar": {
              "outlinewidth": 0,
              "ticks": ""
             }
            },
            "type": "scatterternary"
           }
          ],
          "surface": [
           {
            "colorbar": {
             "outlinewidth": 0,
             "ticks": ""
            },
            "colorscale": [
             [
              0,
              "#0d0887"
             ],
             [
              0.1111111111111111,
              "#46039f"
             ],
             [
              0.2222222222222222,
              "#7201a8"
             ],
             [
              0.3333333333333333,
              "#9c179e"
             ],
             [
              0.4444444444444444,
              "#bd3786"
             ],
             [
              0.5555555555555556,
              "#d8576b"
             ],
             [
              0.6666666666666666,
              "#ed7953"
             ],
             [
              0.7777777777777778,
              "#fb9f3a"
             ],
             [
              0.8888888888888888,
              "#fdca26"
             ],
             [
              1,
              "#f0f921"
             ]
            ],
            "type": "surface"
           }
          ],
          "table": [
           {
            "cells": {
             "fill": {
              "color": "#EBF0F8"
             },
             "line": {
              "color": "white"
             }
            },
            "header": {
             "fill": {
              "color": "#C8D4E3"
             },
             "line": {
              "color": "white"
             }
            },
            "type": "table"
           }
          ]
         },
         "layout": {
          "annotationdefaults": {
           "arrowcolor": "#2a3f5f",
           "arrowhead": 0,
           "arrowwidth": 1
          },
          "autotypenumbers": "strict",
          "coloraxis": {
           "colorbar": {
            "outlinewidth": 0,
            "ticks": ""
           }
          },
          "colorscale": {
           "diverging": [
            [
             0,
             "#8e0152"
            ],
            [
             0.1,
             "#c51b7d"
            ],
            [
             0.2,
             "#de77ae"
            ],
            [
             0.3,
             "#f1b6da"
            ],
            [
             0.4,
             "#fde0ef"
            ],
            [
             0.5,
             "#f7f7f7"
            ],
            [
             0.6,
             "#e6f5d0"
            ],
            [
             0.7,
             "#b8e186"
            ],
            [
             0.8,
             "#7fbc41"
            ],
            [
             0.9,
             "#4d9221"
            ],
            [
             1,
             "#276419"
            ]
           ],
           "sequential": [
            [
             0,
             "#0d0887"
            ],
            [
             0.1111111111111111,
             "#46039f"
            ],
            [
             0.2222222222222222,
             "#7201a8"
            ],
            [
             0.3333333333333333,
             "#9c179e"
            ],
            [
             0.4444444444444444,
             "#bd3786"
            ],
            [
             0.5555555555555556,
             "#d8576b"
            ],
            [
             0.6666666666666666,
             "#ed7953"
            ],
            [
             0.7777777777777778,
             "#fb9f3a"
            ],
            [
             0.8888888888888888,
             "#fdca26"
            ],
            [
             1,
             "#f0f921"
            ]
           ],
           "sequentialminus": [
            [
             0,
             "#0d0887"
            ],
            [
             0.1111111111111111,
             "#46039f"
            ],
            [
             0.2222222222222222,
             "#7201a8"
            ],
            [
             0.3333333333333333,
             "#9c179e"
            ],
            [
             0.4444444444444444,
             "#bd3786"
            ],
            [
             0.5555555555555556,
             "#d8576b"
            ],
            [
             0.6666666666666666,
             "#ed7953"
            ],
            [
             0.7777777777777778,
             "#fb9f3a"
            ],
            [
             0.8888888888888888,
             "#fdca26"
            ],
            [
             1,
             "#f0f921"
            ]
           ]
          },
          "colorway": [
           "#636efa",
           "#EF553B",
           "#00cc96",
           "#ab63fa",
           "#FFA15A",
           "#19d3f3",
           "#FF6692",
           "#B6E880",
           "#FF97FF",
           "#FECB52"
          ],
          "font": {
           "color": "#2a3f5f"
          },
          "geo": {
           "bgcolor": "white",
           "lakecolor": "white",
           "landcolor": "#E5ECF6",
           "showlakes": true,
           "showland": true,
           "subunitcolor": "white"
          },
          "hoverlabel": {
           "align": "left"
          },
          "hovermode": "closest",
          "mapbox": {
           "style": "light"
          },
          "paper_bgcolor": "white",
          "plot_bgcolor": "#E5ECF6",
          "polar": {
           "angularaxis": {
            "gridcolor": "white",
            "linecolor": "white",
            "ticks": ""
           },
           "bgcolor": "#E5ECF6",
           "radialaxis": {
            "gridcolor": "white",
            "linecolor": "white",
            "ticks": ""
           }
          },
          "scene": {
           "xaxis": {
            "backgroundcolor": "#E5ECF6",
            "gridcolor": "white",
            "gridwidth": 2,
            "linecolor": "white",
            "showbackground": true,
            "ticks": "",
            "zerolinecolor": "white"
           },
           "yaxis": {
            "backgroundcolor": "#E5ECF6",
            "gridcolor": "white",
            "gridwidth": 2,
            "linecolor": "white",
            "showbackground": true,
            "ticks": "",
            "zerolinecolor": "white"
           },
           "zaxis": {
            "backgroundcolor": "#E5ECF6",
            "gridcolor": "white",
            "gridwidth": 2,
            "linecolor": "white",
            "showbackground": true,
            "ticks": "",
            "zerolinecolor": "white"
           }
          },
          "shapedefaults": {
           "line": {
            "color": "#2a3f5f"
           }
          },
          "ternary": {
           "aaxis": {
            "gridcolor": "white",
            "linecolor": "white",
            "ticks": ""
           },
           "baxis": {
            "gridcolor": "white",
            "linecolor": "white",
            "ticks": ""
           },
           "bgcolor": "#E5ECF6",
           "caxis": {
            "gridcolor": "white",
            "linecolor": "white",
            "ticks": ""
           }
          },
          "title": {
           "x": 0.05
          },
          "xaxis": {
           "automargin": true,
           "gridcolor": "white",
           "linecolor": "white",
           "ticks": "",
           "title": {
            "standoff": 15
           },
           "zerolinecolor": "white",
           "zerolinewidth": 2
          },
          "yaxis": {
           "automargin": true,
           "gridcolor": "white",
           "linecolor": "white",
           "ticks": "",
           "title": {
            "standoff": 15
           },
           "zerolinecolor": "white",
           "zerolinewidth": 2
          }
         }
        },
        "title": {
         "font": {
          "color": "#4D5663"
         },
         "text": "-23 (T=-23~50) (H=0~100) (degree=2) (670nm #1) (shift0_ppmx1) (RMSE y_pred_scale= 6.87)"
        },
        "xaxis": {
         "gridcolor": "#E1E5ED",
         "showgrid": true,
         "tickfont": {
          "color": "#4D5663"
         },
         "title": {
          "font": {
           "color": "#4D5663"
          },
          "text": ""
         },
         "zerolinecolor": "#E1E5ED"
        },
        "yaxis": {
         "gridcolor": "#E1E5ED",
         "showgrid": true,
         "tickfont": {
          "color": "#4D5663"
         },
         "title": {
          "font": {
           "color": "#4D5663"
          },
          "text": "ppm"
         },
         "zerolinecolor": "#E1E5ED"
        }
       }
      },
      "text/html": [
       "<div>                            <div id=\"ffff396a-8a53-42d2-8a6b-37fa1682eba9\" class=\"plotly-graph-div\" style=\"height:525px; width:100%;\"></div>            <script type=\"text/javascript\">                require([\"plotly\"], function(Plotly) {                    window.PLOTLYENV=window.PLOTLYENV || {};\n",
       "                    window.PLOTLYENV.BASE_URL='https://plot.ly';                                    if (document.getElementById(\"ffff396a-8a53-42d2-8a6b-37fa1682eba9\")) {                    Plotly.newPlot(                        \"ffff396a-8a53-42d2-8a6b-37fa1682eba9\",                        [{\"line\": {\"color\": \"rgba(255, 153, 51, 1.0)\", \"dash\": \"solid\", \"shape\": \"linear\", \"width\": 1.3}, \"mode\": \"lines\", \"name\": \"y_true\", \"text\": \"\", \"type\": \"scatter\", \"x\": [0, 1, 2, 3, 4, 5, 6, 7, 8, 9, 10, 11, 12, 13, 14, 15, 16, 17, 18, 19, 20, 21, 22, 23, 24, 25, 26, 27, 28, 29, 30, 31, 32, 33, 34, 35, 36, 37, 38, 39, 40, 41, 42, 43, 44, 45, 46, 47, 48, 49], \"y\": [13207, 13203, 13203, 13205, 13204, 13205, 13205, 13205, 13204, 13204, 13215, 13216, 13208, 13219, 13216, 13218, 13218, 13220, 13211, 13210, 13198, 13202, 13203, 13203, 13206, 13209, 13202, 13204, 13207, 13206, 13200, 13198, 13199, 13198, 13204, 13202, 13203, 13200, 13192, 13200, 13196, 13200, 13193, 13189, 13197, 13198, 13200, 13201, 13197, 13200]}, {\"line\": {\"color\": \"rgba(55, 128, 191, 1.0)\", \"dash\": \"solid\", \"shape\": \"linear\", \"width\": 1.3}, \"mode\": \"lines\", \"name\": \"y_pred\", \"text\": \"\", \"type\": \"scatter\", \"x\": [0, 1, 2, 3, 4, 5, 6, 7, 8, 9, 10, 11, 12, 13, 14, 15, 16, 17, 18, 19, 20, 21, 22, 23, 24, 25, 26, 27, 28, 29, 30, 31, 32, 33, 34, 35, 36, 37, 38, 39, 40, 41, 42, 43, 44, 45, 46, 47, 48, 49], \"y\": [13201.581396112326, 13201.675055593358, 13201.706269877683, 13201.5501707418, 13201.581396112326, 13201.737481390457, 13201.581396112326, 13201.675055593358, 13201.706269877683, 13201.61261871006, 13203.543007006936, 13203.51195624406, 13203.48090270963, 13203.51195624406, 13203.605100216808, 13203.574054998264, 13203.48090270963, 13203.51195624406, 13203.543007006936, 13203.449846403655, 13203.170214930113, 13203.076954551032, 13203.232374658415, 13203.139130908636, 13203.108044115608, 13203.139130908636, 13203.232374658415, 13203.139130908636, 13203.232374658415, 13203.076954551032, 13202.890358962259, 13203.045862214905, 13202.890358962259, 13203.045862214905, 13202.828138259856, 13202.859249996833, 13202.890358962259, 13203.108044115608, 13202.952568577226, 13203.232374658415, 13202.983669228002, 13202.890358962259, 13202.983669228002, 13202.890358962259, 13202.921465156136, 13202.703663596452, 13202.797023751331, 13202.765906471255, 13202.921465156136, 13202.890358962259]}],                        {\"legend\": {\"bgcolor\": \"#F5F6F9\", \"font\": {\"color\": \"#4D5663\"}}, \"paper_bgcolor\": \"#F5F6F9\", \"plot_bgcolor\": \"#F5F6F9\", \"template\": {\"data\": {\"bar\": [{\"error_x\": {\"color\": \"#2a3f5f\"}, \"error_y\": {\"color\": \"#2a3f5f\"}, \"marker\": {\"line\": {\"color\": \"#E5ECF6\", \"width\": 0.5}}, \"type\": \"bar\"}], \"barpolar\": [{\"marker\": {\"line\": {\"color\": \"#E5ECF6\", \"width\": 0.5}}, \"type\": \"barpolar\"}], \"carpet\": [{\"aaxis\": {\"endlinecolor\": \"#2a3f5f\", \"gridcolor\": \"white\", \"linecolor\": \"white\", \"minorgridcolor\": \"white\", \"startlinecolor\": \"#2a3f5f\"}, \"baxis\": {\"endlinecolor\": \"#2a3f5f\", \"gridcolor\": \"white\", \"linecolor\": \"white\", \"minorgridcolor\": \"white\", \"startlinecolor\": \"#2a3f5f\"}, \"type\": \"carpet\"}], \"choropleth\": [{\"colorbar\": {\"outlinewidth\": 0, \"ticks\": \"\"}, \"type\": \"choropleth\"}], \"contour\": [{\"colorbar\": {\"outlinewidth\": 0, \"ticks\": \"\"}, \"colorscale\": [[0.0, \"#0d0887\"], [0.1111111111111111, \"#46039f\"], [0.2222222222222222, \"#7201a8\"], [0.3333333333333333, \"#9c179e\"], [0.4444444444444444, \"#bd3786\"], [0.5555555555555556, \"#d8576b\"], [0.6666666666666666, \"#ed7953\"], [0.7777777777777778, \"#fb9f3a\"], [0.8888888888888888, \"#fdca26\"], [1.0, \"#f0f921\"]], \"type\": \"contour\"}], \"contourcarpet\": [{\"colorbar\": {\"outlinewidth\": 0, \"ticks\": \"\"}, \"type\": \"contourcarpet\"}], \"heatmap\": [{\"colorbar\": {\"outlinewidth\": 0, \"ticks\": \"\"}, \"colorscale\": [[0.0, \"#0d0887\"], [0.1111111111111111, \"#46039f\"], [0.2222222222222222, \"#7201a8\"], [0.3333333333333333, \"#9c179e\"], [0.4444444444444444, \"#bd3786\"], [0.5555555555555556, \"#d8576b\"], [0.6666666666666666, \"#ed7953\"], [0.7777777777777778, \"#fb9f3a\"], [0.8888888888888888, \"#fdca26\"], [1.0, \"#f0f921\"]], \"type\": \"heatmap\"}], \"heatmapgl\": [{\"colorbar\": {\"outlinewidth\": 0, \"ticks\": \"\"}, \"colorscale\": [[0.0, \"#0d0887\"], [0.1111111111111111, \"#46039f\"], [0.2222222222222222, \"#7201a8\"], [0.3333333333333333, \"#9c179e\"], [0.4444444444444444, \"#bd3786\"], [0.5555555555555556, \"#d8576b\"], [0.6666666666666666, \"#ed7953\"], [0.7777777777777778, \"#fb9f3a\"], [0.8888888888888888, \"#fdca26\"], [1.0, \"#f0f921\"]], \"type\": \"heatmapgl\"}], \"histogram\": [{\"marker\": {\"colorbar\": {\"outlinewidth\": 0, \"ticks\": \"\"}}, \"type\": \"histogram\"}], \"histogram2d\": [{\"colorbar\": {\"outlinewidth\": 0, \"ticks\": \"\"}, \"colorscale\": [[0.0, \"#0d0887\"], [0.1111111111111111, \"#46039f\"], [0.2222222222222222, \"#7201a8\"], [0.3333333333333333, \"#9c179e\"], [0.4444444444444444, \"#bd3786\"], [0.5555555555555556, \"#d8576b\"], [0.6666666666666666, \"#ed7953\"], [0.7777777777777778, \"#fb9f3a\"], [0.8888888888888888, \"#fdca26\"], [1.0, \"#f0f921\"]], \"type\": \"histogram2d\"}], \"histogram2dcontour\": [{\"colorbar\": {\"outlinewidth\": 0, \"ticks\": \"\"}, \"colorscale\": [[0.0, \"#0d0887\"], [0.1111111111111111, \"#46039f\"], [0.2222222222222222, \"#7201a8\"], [0.3333333333333333, \"#9c179e\"], [0.4444444444444444, \"#bd3786\"], [0.5555555555555556, \"#d8576b\"], [0.6666666666666666, \"#ed7953\"], [0.7777777777777778, \"#fb9f3a\"], [0.8888888888888888, \"#fdca26\"], [1.0, \"#f0f921\"]], \"type\": \"histogram2dcontour\"}], \"mesh3d\": [{\"colorbar\": {\"outlinewidth\": 0, \"ticks\": \"\"}, \"type\": \"mesh3d\"}], \"parcoords\": [{\"line\": {\"colorbar\": {\"outlinewidth\": 0, \"ticks\": \"\"}}, \"type\": \"parcoords\"}], \"pie\": [{\"automargin\": true, \"type\": \"pie\"}], \"scatter\": [{\"marker\": {\"colorbar\": {\"outlinewidth\": 0, \"ticks\": \"\"}}, \"type\": \"scatter\"}], \"scatter3d\": [{\"line\": {\"colorbar\": {\"outlinewidth\": 0, \"ticks\": \"\"}}, \"marker\": {\"colorbar\": {\"outlinewidth\": 0, \"ticks\": \"\"}}, \"type\": \"scatter3d\"}], \"scattercarpet\": [{\"marker\": {\"colorbar\": {\"outlinewidth\": 0, \"ticks\": \"\"}}, \"type\": \"scattercarpet\"}], \"scattergeo\": [{\"marker\": {\"colorbar\": {\"outlinewidth\": 0, \"ticks\": \"\"}}, \"type\": \"scattergeo\"}], \"scattergl\": [{\"marker\": {\"colorbar\": {\"outlinewidth\": 0, \"ticks\": \"\"}}, \"type\": \"scattergl\"}], \"scattermapbox\": [{\"marker\": {\"colorbar\": {\"outlinewidth\": 0, \"ticks\": \"\"}}, \"type\": \"scattermapbox\"}], \"scatterpolar\": [{\"marker\": {\"colorbar\": {\"outlinewidth\": 0, \"ticks\": \"\"}}, \"type\": \"scatterpolar\"}], \"scatterpolargl\": [{\"marker\": {\"colorbar\": {\"outlinewidth\": 0, \"ticks\": \"\"}}, \"type\": \"scatterpolargl\"}], \"scatterternary\": [{\"marker\": {\"colorbar\": {\"outlinewidth\": 0, \"ticks\": \"\"}}, \"type\": \"scatterternary\"}], \"surface\": [{\"colorbar\": {\"outlinewidth\": 0, \"ticks\": \"\"}, \"colorscale\": [[0.0, \"#0d0887\"], [0.1111111111111111, \"#46039f\"], [0.2222222222222222, \"#7201a8\"], [0.3333333333333333, \"#9c179e\"], [0.4444444444444444, \"#bd3786\"], [0.5555555555555556, \"#d8576b\"], [0.6666666666666666, \"#ed7953\"], [0.7777777777777778, \"#fb9f3a\"], [0.8888888888888888, \"#fdca26\"], [1.0, \"#f0f921\"]], \"type\": \"surface\"}], \"table\": [{\"cells\": {\"fill\": {\"color\": \"#EBF0F8\"}, \"line\": {\"color\": \"white\"}}, \"header\": {\"fill\": {\"color\": \"#C8D4E3\"}, \"line\": {\"color\": \"white\"}}, \"type\": \"table\"}]}, \"layout\": {\"annotationdefaults\": {\"arrowcolor\": \"#2a3f5f\", \"arrowhead\": 0, \"arrowwidth\": 1}, \"autotypenumbers\": \"strict\", \"coloraxis\": {\"colorbar\": {\"outlinewidth\": 0, \"ticks\": \"\"}}, \"colorscale\": {\"diverging\": [[0, \"#8e0152\"], [0.1, \"#c51b7d\"], [0.2, \"#de77ae\"], [0.3, \"#f1b6da\"], [0.4, \"#fde0ef\"], [0.5, \"#f7f7f7\"], [0.6, \"#e6f5d0\"], [0.7, \"#b8e186\"], [0.8, \"#7fbc41\"], [0.9, \"#4d9221\"], [1, \"#276419\"]], \"sequential\": [[0.0, \"#0d0887\"], [0.1111111111111111, \"#46039f\"], [0.2222222222222222, \"#7201a8\"], [0.3333333333333333, \"#9c179e\"], [0.4444444444444444, \"#bd3786\"], [0.5555555555555556, \"#d8576b\"], [0.6666666666666666, \"#ed7953\"], [0.7777777777777778, \"#fb9f3a\"], [0.8888888888888888, \"#fdca26\"], [1.0, \"#f0f921\"]], \"sequentialminus\": [[0.0, \"#0d0887\"], [0.1111111111111111, \"#46039f\"], [0.2222222222222222, \"#7201a8\"], [0.3333333333333333, \"#9c179e\"], [0.4444444444444444, \"#bd3786\"], [0.5555555555555556, \"#d8576b\"], [0.6666666666666666, \"#ed7953\"], [0.7777777777777778, \"#fb9f3a\"], [0.8888888888888888, \"#fdca26\"], [1.0, \"#f0f921\"]]}, \"colorway\": [\"#636efa\", \"#EF553B\", \"#00cc96\", \"#ab63fa\", \"#FFA15A\", \"#19d3f3\", \"#FF6692\", \"#B6E880\", \"#FF97FF\", \"#FECB52\"], \"font\": {\"color\": \"#2a3f5f\"}, \"geo\": {\"bgcolor\": \"white\", \"lakecolor\": \"white\", \"landcolor\": \"#E5ECF6\", \"showlakes\": true, \"showland\": true, \"subunitcolor\": \"white\"}, \"hoverlabel\": {\"align\": \"left\"}, \"hovermode\": \"closest\", \"mapbox\": {\"style\": \"light\"}, \"paper_bgcolor\": \"white\", \"plot_bgcolor\": \"#E5ECF6\", \"polar\": {\"angularaxis\": {\"gridcolor\": \"white\", \"linecolor\": \"white\", \"ticks\": \"\"}, \"bgcolor\": \"#E5ECF6\", \"radialaxis\": {\"gridcolor\": \"white\", \"linecolor\": \"white\", \"ticks\": \"\"}}, \"scene\": {\"xaxis\": {\"backgroundcolor\": \"#E5ECF6\", \"gridcolor\": \"white\", \"gridwidth\": 2, \"linecolor\": \"white\", \"showbackground\": true, \"ticks\": \"\", \"zerolinecolor\": \"white\"}, \"yaxis\": {\"backgroundcolor\": \"#E5ECF6\", \"gridcolor\": \"white\", \"gridwidth\": 2, \"linecolor\": \"white\", \"showbackground\": true, \"ticks\": \"\", \"zerolinecolor\": \"white\"}, \"zaxis\": {\"backgroundcolor\": \"#E5ECF6\", \"gridcolor\": \"white\", \"gridwidth\": 2, \"linecolor\": \"white\", \"showbackground\": true, \"ticks\": \"\", \"zerolinecolor\": \"white\"}}, \"shapedefaults\": {\"line\": {\"color\": \"#2a3f5f\"}}, \"ternary\": {\"aaxis\": {\"gridcolor\": \"white\", \"linecolor\": \"white\", \"ticks\": \"\"}, \"baxis\": {\"gridcolor\": \"white\", \"linecolor\": \"white\", \"ticks\": \"\"}, \"bgcolor\": \"#E5ECF6\", \"caxis\": {\"gridcolor\": \"white\", \"linecolor\": \"white\", \"ticks\": \"\"}}, \"title\": {\"x\": 0.05}, \"xaxis\": {\"automargin\": true, \"gridcolor\": \"white\", \"linecolor\": \"white\", \"ticks\": \"\", \"title\": {\"standoff\": 15}, \"zerolinecolor\": \"white\", \"zerolinewidth\": 2}, \"yaxis\": {\"automargin\": true, \"gridcolor\": \"white\", \"linecolor\": \"white\", \"ticks\": \"\", \"title\": {\"standoff\": 15}, \"zerolinecolor\": \"white\", \"zerolinewidth\": 2}}}, \"title\": {\"font\": {\"color\": \"#4D5663\"}, \"text\": \"-23 (T=-23~50) (H=0~100) (degree=2) (670nm #1) (shift0_ppmx1) (RMSE y_pred_scale= 6.87)\"}, \"xaxis\": {\"gridcolor\": \"#E1E5ED\", \"showgrid\": true, \"tickfont\": {\"color\": \"#4D5663\"}, \"title\": {\"font\": {\"color\": \"#4D5663\"}, \"text\": \"\"}, \"zerolinecolor\": \"#E1E5ED\"}, \"yaxis\": {\"gridcolor\": \"#E1E5ED\", \"showgrid\": true, \"tickfont\": {\"color\": \"#4D5663\"}, \"title\": {\"font\": {\"color\": \"#4D5663\"}, \"text\": \"ppm\"}, \"zerolinecolor\": \"#E1E5ED\"}},                        {\"showLink\": true, \"linkText\": \"Export to plot.ly\", \"plotlyServerURL\": \"https://plot.ly\", \"responsive\": true}                    ).then(function(){\n",
       "                            \n",
       "var gd = document.getElementById('ffff396a-8a53-42d2-8a6b-37fa1682eba9');\n",
       "var x = new MutationObserver(function (mutations, observer) {{\n",
       "        var display = window.getComputedStyle(gd).display;\n",
       "        if (!display || display === 'none') {{\n",
       "            console.log([gd, 'removed!']);\n",
       "            Plotly.purge(gd);\n",
       "            observer.disconnect();\n",
       "        }}\n",
       "}});\n",
       "\n",
       "// Listen for the removal of the full notebook cells\n",
       "var notebookContainer = gd.closest('#notebook-container');\n",
       "if (notebookContainer) {{\n",
       "    x.observe(notebookContainer, {childList: true});\n",
       "}}\n",
       "\n",
       "// Listen for the clearing of the current output cell\n",
       "var outputEl = gd.closest('.output');\n",
       "if (outputEl) {{\n",
       "    x.observe(outputEl, {childList: true});\n",
       "}}\n",
       "\n",
       "                        })                };                });            </script>        </div>"
      ]
     },
     "metadata": {},
     "output_type": "display_data"
    }
   ],
   "source": [
    "df_all = pd.concat(train_data_list).reset_index(drop=True)\n",
    "df_test = pd.concat([df_30C]).reset_index(drop=True)\n",
    "\n",
    "y_train = df_all[channel]\n",
    "x_train = df_all[['Temperature', 'Humidity']]\n",
    "y_test = df_test[channel]\n",
    "x_test = df_test[['Temperature', 'Humidity']]\n",
    "\n",
    "os.chdir(path) \n",
    "white_card = model.model(folder_name=folder_name,\n",
    "                         sensor_number=sensor_number,\n",
    "                         channel=channel,\n",
    "                         x_train=x_train, \n",
    "                         y_train=y_train, \n",
    "                         x_test=x_test, \n",
    "                         y_test=y_test, \n",
    "                         model_name=model_name, \n",
    "                         degree=degree_white_card,\n",
    "                         step=humidity_step,                         \n",
    "                         ppm=-23,\n",
    "                         humidity_feature=white_card_humidity_feature)\n",
    "\n",
    "white_intercept, white_coef = white_card.regression()\n",
    "white_card.save_white_card_side_coef(parameter=parameter)\n",
    "white_card.plot()\n",
    "# white_intercept, white_coef = white_card.coef()"
   ]
  },
  {
   "cell_type": "code",
   "execution_count": 174,
   "metadata": {},
   "outputs": [],
   "source": [
    "# target channel compensation by parameter\n",
    "for test_data in test_data_list: \n",
    "    white_card_std.create_white_card_std_column(test_data, white_intercept, white_coef, degree_white_card)\n",
    "    test_data['670nm_real time ratio']  = test_data['670nm #1']/test_data['white card std']\n",
    "    \n",
    "    channal_list = ['410nm #1', '670nm #1', '470nm #1', '510nm #1', '550nm #1', '583nm #1', 'magic']\n",
    "    for comp_channel in channal_list:\n",
    "        test_data['{}_comp'.format(comp_channel)] = (test_data[comp_channel]/test_data['670nm_real time ratio'])*parameter"
   ]
  },
  {
   "cell_type": "markdown",
   "metadata": {},
   "source": [
    "## Sensor model setting"
   ]
  },
  {
   "cell_type": "code",
   "execution_count": 175,
   "metadata": {},
   "outputs": [],
   "source": [
    "sensor_humidity_feature = False\n",
    "interpolation_model = 'log'\n",
    "model_name = Ridge(alpha=10)                    #regression model\n",
    "shift = 0                                      #raw data signal shifting\n",
    "multiple = 1                                    #raw data ppm multiple\n",
    "train_channel = 'magic'                   #training channel\n",
    "test_channel = 'magic_comp'                    #testing channel\n",
    "degree = 2                                      #polynimial degree\n",
    "output_modify = 1                               #output multiple"
   ]
  },
  {
   "cell_type": "code",
   "execution_count": 176,
   "metadata": {
    "scrolled": false
   },
   "outputs": [
    {
     "data": {
      "application/vnd.plotly.v1+json": {
       "config": {
        "linkText": "Export to plot.ly",
        "plotlyServerURL": "https://plot.ly",
        "showLink": true
       },
       "data": [
        {
         "line": {
          "color": "rgba(255, 153, 51, 1.0)",
          "dash": "solid",
          "shape": "linear",
          "width": 1.3
         },
         "mode": "lines",
         "name": "y_true",
         "text": "",
         "type": "scatter",
         "x": [
          0,
          1,
          2,
          3,
          4,
          5,
          6,
          7,
          8,
          9,
          10,
          11,
          12,
          13,
          14,
          15,
          16,
          17,
          18,
          19,
          20,
          21,
          22,
          23,
          24,
          25,
          26,
          27,
          28,
          29,
          30,
          31,
          32,
          33,
          34,
          35,
          36,
          37,
          38,
          39,
          40,
          41,
          42,
          43,
          44,
          45,
          46,
          47,
          48,
          49,
          50,
          51,
          52,
          53,
          54,
          55,
          56,
          57,
          58,
          59,
          60,
          61,
          62,
          63,
          64,
          65,
          66,
          67,
          68,
          69,
          70,
          71,
          72,
          73,
          74,
          75,
          76,
          77,
          78,
          79,
          80,
          81,
          82,
          83,
          84,
          85,
          86,
          87,
          88,
          89,
          90,
          91,
          92,
          93,
          94,
          95,
          96,
          97,
          98,
          99,
          100,
          101,
          102,
          103,
          104,
          105,
          106,
          107,
          108,
          109,
          110,
          111,
          112,
          113,
          114,
          115,
          116,
          117,
          118,
          119,
          120,
          121,
          122,
          123,
          124,
          125,
          126,
          127,
          128,
          129,
          130,
          131,
          132,
          133,
          134,
          135,
          136,
          137,
          138,
          139,
          140,
          141,
          142,
          143,
          144,
          145,
          146,
          147,
          148,
          149,
          150,
          151,
          152,
          153,
          154,
          155,
          156,
          157,
          158,
          159,
          160,
          161,
          162,
          163,
          164,
          165,
          166,
          167,
          168,
          169,
          170,
          171,
          172,
          173,
          174,
          175,
          176,
          177,
          178,
          179,
          180,
          181,
          182,
          183,
          184,
          185,
          186,
          187,
          188,
          189,
          190,
          191,
          192,
          193,
          194,
          195,
          196,
          197,
          198,
          199,
          200,
          201,
          202,
          203,
          204,
          205,
          206,
          207,
          208,
          209,
          210,
          211,
          212,
          213,
          214,
          215,
          216,
          217,
          218,
          219,
          220,
          221,
          222,
          223,
          224,
          225,
          226,
          227,
          228,
          229,
          230,
          231,
          232,
          233,
          234,
          235,
          236,
          237,
          238,
          239,
          240,
          241,
          242,
          243,
          244,
          245,
          246,
          247,
          248,
          249,
          250,
          251,
          252,
          253,
          254,
          255,
          256,
          257,
          258,
          259,
          260,
          261,
          262,
          263,
          264,
          265,
          266,
          267,
          268,
          269,
          270,
          271,
          272,
          273,
          274,
          275,
          276,
          277,
          278,
          279,
          280,
          281,
          282,
          283,
          284,
          285,
          286,
          287,
          288,
          289,
          290,
          291,
          292,
          293,
          294,
          295,
          296,
          297,
          298,
          299
         ],
         "y": [
          13912.610396860195,
          13917.96909046556,
          13914.976204826531,
          13920.143258982263,
          13920.071308447017,
          13920.03853663627,
          13927.408901990131,
          13922.016339166921,
          13926.24145702818,
          13915.951993495926,
          13430.63836521534,
          13438.78287846681,
          13434.688189764991,
          13433.663903780918,
          13432.637027429728,
          13435.834361894198,
          13430.623312397292,
          13429.557054749437,
          13436.717125658766,
          13431.630015522518,
          13588.222930612306,
          13583.803363852363,
          13594.340344388627,
          13588.107202623827,
          13582.91772187254,
          13593.216590160295,
          13590.248626368579,
          13581.760185285091,
          13601.060636686298,
          13582.784380790601,
          13685.749606578553,
          13690.010074701793,
          13718.156603737147,
          13707.346419751952,
          13695.02129640931,
          13700.27508967174,
          13697.138567537224,
          13697.94423106376,
          13692.234696338997,
          13681.003968901587,
          13763.79033127828,
          13755.609853154423,
          13760.859089194679,
          13767.200187310153,
          13759.593094004123,
          13751.64814090314,
          13752.679001369897,
          13750.376877136836,
          13752.902466931597,
          13755.789405184738,
          13925.98209903605,
          13914.706817457503,
          13905.332084598449,
          13912.967285435489,
          13916.295415152512,
          13922.92077747679,
          13922.795001128836,
          13920.866563171427,
          13921.89998482535,
          13922.065544061305,
          13410.979052754607,
          13424.215543020557,
          13417.107061337756,
          13427.44068432242,
          13416.248558017842,
          13412.155729915565,
          13409.979485175778,
          13407.088037128626,
          13428.31073155731,
          13409.147019707583,
          13568.555539530076,
          13572.526826633635,
          13557.727402447692,
          13560.335433659047,
          13561.429577617153,
          13560.689156099783,
          13563.484710755987,
          13563.440690841095,
          13555.475600557917,
          13557.304770402214,
          13661.026495231808,
          13643.593370809422,
          13656.806404353065,
          13664.853262114502,
          13645.717524189004,
          13654.939520618766,
          13654.874698890713,
          13659.880640870659,
          13638.460842655297,
          13655.889369808861,
          13725.456905028137,
          13706.989688318521,
          13734.731626441131,
          13695.855010439307,
          13711.247306812476,
          13715.053140442524,
          13726.369410761601,
          13723.104531510713,
          13724.377308359039,
          13715.219679817312,
          13909.250619064602,
          13902.712206041804,
          13910.537979464312,
          13912.481912248264,
          13903.680165707778,
          13910.453262217317,
          13908.405606048284,
          13910.584349572511,
          13914.294346265897,
          13921.967818134699,
          13416.431292949408,
          13410.33185046179,
          13413.479450335928,
          13408.330183470143,
          13412.374313423266,
          13407.20466390336,
          13408.200355724899,
          13413.42804086048,
          13412.360554889849,
          13395.16371532795,
          13533.94728459872,
          13544.186174264909,
          13559.266147019915,
          13534.066089145506,
          13549.629672142546,
          13548.597734887964,
          13535.118115790541,
          13541.490939523092,
          13534.161774962637,
          13546.334978734129,
          13655.006956005354,
          13638.825980683652,
          13637.778503964706,
          13626.521241859924,
          13634.894535747124,
          13638.796821804617,
          13648.979444339826,
          13642.888657250536,
          13638.922433602887,
          13643.966921495856,
          13711.176774284666,
          13701.977157025265,
          13701.944863242365,
          13704.000414173948,
          13706.84851815174,
          13717.599110226412,
          13716.346019032699,
          13701.155357142397,
          13708.130523057318,
          13699.587984623053,
          13896.463036755924,
          13919.491669352436,
          13912.303716817745,
          13901.966159572816,
          13903.979700888196,
          13916.389263912013,
          13904.864490195278,
          13893.938564173308,
          13910.191518030302,
          13916.704748942955,
          13409.114700132064,
          13430.499886343488,
          13397.859910522124,
          13412.23071973121,
          13411.133419140559,
          13414.304783268883,
          13404.020376714889,
          13406.107571859093,
          13416.200040797497,
          13391.97235638807,
          13545.569544123753,
          13548.579420691345,
          13545.321342149264,
          13558.846781161337,
          13545.457468421422,
          13553.603516355235,
          13546.610630092866,
          13536.268390458761,
          13549.411846724477,
          13542.287409858116,
          13622.878066222082,
          13640.07922338665,
          13632.899995240536,
          13637.154814423095,
          13647.037145942257,
          13625.68221166518,
          13642.937595649077,
          13631.912462009184,
          13634.866669589006,
          13632.839845632505,
          13701.268656999431,
          13704.171174496909,
          13703.44784710204,
          13694.116153246672,
          13682.899708064147,
          13710.712917667319,
          13700.460061091,
          13709.768630831872,
          13706.617956016617,
          13664.68478833565,
          13893.636568887103,
          13881.425305861369,
          13885.549379004193,
          13882.264185673324,
          13882.956852298474,
          13890.395282545813,
          13896.693698834782,
          13878.333895119418,
          13879.236473700123,
          13879.089144078735,
          13372.904804593274,
          13392.291585802519,
          13391.180548172377,
          13391.383588447407,
          13387.128858471388,
          13400.45690827575,
          13388.288900919555,
          13383.209999511886,
          13403.5580474967,
          13399.538322827128,
          13520.011261128931,
          13522.717489208324,
          13519.755060102574,
          13519.808755151935,
          13523.921073525302,
          13523.8035763667,
          13525.91519417779,
          13521.850311627846,
          13519.88698586674,
          13503.26740570565,
          13614.493223954563,
          13622.76823749974,
          13605.366827397047,
          13622.02552660878,
          13619.680631488183,
          13615.667531898891,
          13599.282727292455,
          13618.840920460243,
          13610.50747313856,
          13635.262661034089,
          13658.822543723167,
          13675.043770108567,
          13673.002210483604,
          13691.63803642268,
          13694.46764959224,
          13668.988386512603,
          13692.63274264417,
          13671.327960207627,
          13681.402016670865,
          13680.147879724176,
          13882.901186904905,
          13862.052247646272,
          13868.552521186317,
          13890.489477982785,
          13879.787080265265,
          13884.976668892115,
          13896.617348493402,
          13890.902077647897,
          13880.508695818651,
          13875.651036078481,
          13400.779099312775,
          13417.184281783731,
          13401.67401155946,
          13405.956048648659,
          13395.711242091007,
          13401.859697589201,
          13402.886697479616,
          13397.697374491656,
          13400.78065170419,
          13392.538844246845,
          13533.425241463541,
          13540.650680966148,
          13527.184470306358,
          13532.325191791984,
          13525.20466262183,
          13525.086504214953,
          13519.417101295105,
          13538.71792019182,
          13525.313514545182,
          13530.605461364301,
          13622.024268933901,
          13629.091338691893,
          13613.48304378175,
          13621.773832669744,
          13624.141617301662,
          13617.667627932873,
          13637.373041626779,
          13618.502021861426,
          13621.604080998268,
          13638.393108648826,
          13697.776363829033,
          13684.453668889213,
          13682.202169198035,
          13679.23573503153,
          13693.485331729498,
          13679.952391216379,
          13672.99958198312,
          13678.861448633093,
          13685.240204609147,
          13686.12558147517
         ]
        },
        {
         "line": {
          "color": "rgba(55, 128, 191, 1.0)",
          "dash": "solid",
          "shape": "linear",
          "width": 1.3
         },
         "mode": "lines",
         "name": "y_pred",
         "text": "",
         "type": "scatter",
         "x": [
          0,
          1,
          2,
          3,
          4,
          5,
          6,
          7,
          8,
          9,
          10,
          11,
          12,
          13,
          14,
          15,
          16,
          17,
          18,
          19,
          20,
          21,
          22,
          23,
          24,
          25,
          26,
          27,
          28,
          29,
          30,
          31,
          32,
          33,
          34,
          35,
          36,
          37,
          38,
          39,
          40,
          41,
          42,
          43,
          44,
          45,
          46,
          47,
          48,
          49,
          50,
          51,
          52,
          53,
          54,
          55,
          56,
          57,
          58,
          59,
          60,
          61,
          62,
          63,
          64,
          65,
          66,
          67,
          68,
          69,
          70,
          71,
          72,
          73,
          74,
          75,
          76,
          77,
          78,
          79,
          80,
          81,
          82,
          83,
          84,
          85,
          86,
          87,
          88,
          89,
          90,
          91,
          92,
          93,
          94,
          95,
          96,
          97,
          98,
          99,
          100,
          101,
          102,
          103,
          104,
          105,
          106,
          107,
          108,
          109,
          110,
          111,
          112,
          113,
          114,
          115,
          116,
          117,
          118,
          119,
          120,
          121,
          122,
          123,
          124,
          125,
          126,
          127,
          128,
          129,
          130,
          131,
          132,
          133,
          134,
          135,
          136,
          137,
          138,
          139,
          140,
          141,
          142,
          143,
          144,
          145,
          146,
          147,
          148,
          149,
          150,
          151,
          152,
          153,
          154,
          155,
          156,
          157,
          158,
          159,
          160,
          161,
          162,
          163,
          164,
          165,
          166,
          167,
          168,
          169,
          170,
          171,
          172,
          173,
          174,
          175,
          176,
          177,
          178,
          179,
          180,
          181,
          182,
          183,
          184,
          185,
          186,
          187,
          188,
          189,
          190,
          191,
          192,
          193,
          194,
          195,
          196,
          197,
          198,
          199,
          200,
          201,
          202,
          203,
          204,
          205,
          206,
          207,
          208,
          209,
          210,
          211,
          212,
          213,
          214,
          215,
          216,
          217,
          218,
          219,
          220,
          221,
          222,
          223,
          224,
          225,
          226,
          227,
          228,
          229,
          230,
          231,
          232,
          233,
          234,
          235,
          236,
          237,
          238,
          239,
          240,
          241,
          242,
          243,
          244,
          245,
          246,
          247,
          248,
          249,
          250,
          251,
          252,
          253,
          254,
          255,
          256,
          257,
          258,
          259,
          260,
          261,
          262,
          263,
          264,
          265,
          266,
          267,
          268,
          269,
          270,
          271,
          272,
          273,
          274,
          275,
          276,
          277,
          278,
          279,
          280,
          281,
          282,
          283,
          284,
          285,
          286,
          287,
          288,
          289,
          290,
          291,
          292,
          293,
          294,
          295,
          296,
          297,
          298,
          299
         ],
         "y": [
          13727.304927969855,
          13727.237994347774,
          13727.260310925416,
          13727.237994347774,
          13727.260310925416,
          13727.237994347774,
          13727.304927969855,
          13727.282622132778,
          13727.304927969855,
          13727.237994347774,
          13727.148674334365,
          13727.215672399845,
          13727.193345081636,
          13727.171012393143,
          13727.103982105962,
          13727.171012393143,
          13727.148674334365,
          13727.171012393143,
          13727.103982105962,
          13727.126330905305,
          13727.215672399845,
          13727.059268397315,
          13727.126330905305,
          13727.059268397315,
          13727.126330905305,
          13727.103982105962,
          13727.126330905305,
          13727.059268397315,
          13727.081627937225,
          13727.014533206648,
          13727.014533206648,
          13727.171012393143,
          13727.103982105962,
          13727.126330905305,
          13727.148674334365,
          13727.171012393143,
          13727.193345081636,
          13727.126330905305,
          13727.193345081636,
          13727.126330905305,
          13727.103982105962,
          13726.947390143523,
          13727.059268397315,
          13727.171012393143,
          13727.103982105962,
          13727.081627937225,
          13727.014533206648,
          13727.036903487124,
          13727.059268397315,
          13727.126330905305,
          13726.812959019628,
          13726.835377632651,
          13726.768105682731,
          13726.924998381915,
          13726.857790875392,
          13726.835377632651,
          13726.857790875392,
          13726.924998381915,
          13726.902601250024,
          13726.835377632651,
          13726.88019874785,
          13726.947390143523,
          13726.924998381915,
          13727.036903487124,
          13727.014533206648,
          13726.947390143523,
          13726.88019874785,
          13726.947390143523,
          13726.924998381915,
          13727.036903487124,
          13726.969776534848,
          13727.036903487124,
          13727.148674334365,
          13727.036903487124,
          13726.969776534848,
          13727.126330905305,
          13727.059268397315,
          13727.081627937225,
          13727.148674334365,
          13726.99215755589,
          13727.081627937225,
          13727.103982105962,
          13727.081627937225,
          13727.059268397315,
          13727.171012393143,
          13727.148674334365,
          13727.171012393143,
          13727.103982105962,
          13727.081627937225,
          13727.103982105962,
          13727.260310925416,
          13727.148674334365,
          13727.171012393143,
          13727.193345081636,
          13727.260310925416,
          13727.237994347774,
          13727.215672399845,
          13727.193345081636,
          13727.215672399845,
          13727.148674334365,
          13727.014533206648,
          13727.081627937225,
          13727.059268397315,
          13727.036903487124,
          13727.014533206648,
          13727.036903487124,
          13727.059268397315,
          13727.126330905305,
          13726.924998381915,
          13726.99215755589,
          13727.014533206648,
          13727.081627937225,
          13727.059268397315,
          13726.947390143523,
          13727.014533206648,
          13726.99215755589,
          13726.969776534848,
          13727.081627937225,
          13727.014533206648,
          13727.036903487124,
          13726.902601250024,
          13726.969776534848,
          13726.857790875392,
          13726.969776534848,
          13726.99215755589,
          13727.014533206648,
          13726.947390143523,
          13727.014533206648,
          13727.036903487124,
          13726.969776534848,
          13726.835377632651,
          13726.902601250024,
          13726.88019874785,
          13726.902601250024,
          13727.014533206648,
          13726.947390143523,
          13726.924998381915,
          13726.947390143523,
          13726.969776534848,
          13726.947390143523,
          13727.059268397315,
          13726.99215755589,
          13726.969776534848,
          13727.036903487124,
          13726.924998381915,
          13727.081627937225,
          13727.148674334365,
          13727.126330905305,
          13727.059268397315,
          13726.99215755589,
          13726.655878360534,
          13726.58847752471,
          13726.610949840566,
          13726.633416785246,
          13726.655878360534,
          13726.58847752471,
          13726.565999838573,
          13726.633416785246,
          13726.521028355448,
          13726.58847752471,
          13726.610949840566,
          13726.58847752471,
          13726.610949840566,
          13726.67833456554,
          13726.610949840566,
          13726.67833456554,
          13726.610949840566,
          13726.67833456554,
          13726.610949840566,
          13726.723230864702,
          13726.655878360534,
          13726.67833456554,
          13726.565999838573,
          13726.67833456554,
          13726.610949840566,
          13726.723230864702,
          13726.655878360534,
          13726.633416785246,
          13726.565999838573,
          13726.543516782152,
          13726.565999838573,
          13726.58847752471,
          13726.610949840566,
          13726.633416785246,
          13726.47603539119,
          13726.49853455846,
          13726.47603539119,
          13726.58847752471,
          13726.521028355448,
          13726.633416785246,
          13726.655878360534,
          13726.67833456554,
          13726.655878360534,
          13726.633416785246,
          13726.565999838573,
          13726.67833456554,
          13726.700785400262,
          13726.67833456554,
          13726.610949840566,
          13726.633416785246,
          13728.06013111027,
          13728.038007863697,
          13728.104361494323,
          13727.949461171062,
          13728.148570397243,
          13728.038007863697,
          13728.06013111027,
          13728.082248987437,
          13728.104361494323,
          13728.038007863697,
          13728.082248987437,
          13728.06013111027,
          13728.038007863697,
          13728.104361494323,
          13728.038007863697,
          13728.104361494323,
          13728.170666793278,
          13728.148570397243,
          13728.126468630924,
          13728.19275781903,
          13728.236923759685,
          13728.038007863697,
          13728.104361494323,
          13728.126468630924,
          13728.104361494323,
          13728.038007863697,
          13728.104361494323,
          13728.082248987437,
          13728.104361494323,
          13727.949461171062,
          13727.949461171062,
          13727.927311072195,
          13727.905155603044,
          13728.015879245962,
          13727.949461171062,
          13728.015879245962,
          13727.949461171062,
          13727.971605899646,
          13727.993745257945,
          13728.06013111027,
          13728.170666793278,
          13728.148570397243,
          13728.170666793278,
          13728.19275781903,
          13728.082248987437,
          13728.19275781903,
          13728.126468630924,
          13728.236923759685,
          13728.170666793278,
          13728.104361494323,
          13727.32722843665,
          13727.304927969855,
          13727.32722843665,
          13727.349523533161,
          13727.32722843665,
          13727.349523533161,
          13727.416376600997,
          13727.349523533161,
          13727.32722843665,
          13727.394097615335,
          13727.349523533161,
          13727.32722843665,
          13727.260310925416,
          13727.37181325939,
          13727.349523533161,
          13727.32722843665,
          13727.349523533161,
          13727.282622132778,
          13727.304927969855,
          13727.237994347774,
          13727.103982105962,
          13727.171012393143,
          13727.059268397315,
          13727.081627937225,
          13727.103982105962,
          13727.036903487124,
          13727.282622132778,
          13727.215672399845,
          13727.148674334365,
          13727.260310925416,
          13727.349523533161,
          13727.32722843665,
          13727.304927969855,
          13727.237994347774,
          13727.483181336283,
          13727.37181325939,
          13727.483181336283,
          13727.282622132778,
          13727.349523533161,
          13727.416376600997,
          13727.438650216376,
          13727.37181325939,
          13727.349523533161,
          13727.37181325939,
          13727.349523533161,
          13727.32722843665,
          13727.349523533161,
          13727.32722843665,
          13727.304927969855,
          13727.282622132778
         ]
        }
       ],
       "layout": {
        "legend": {
         "bgcolor": "#F5F6F9",
         "font": {
          "color": "#4D5663"
         }
        },
        "paper_bgcolor": "#F5F6F9",
        "plot_bgcolor": "#F5F6F9",
        "template": {
         "data": {
          "bar": [
           {
            "error_x": {
             "color": "#2a3f5f"
            },
            "error_y": {
             "color": "#2a3f5f"
            },
            "marker": {
             "line": {
              "color": "#E5ECF6",
              "width": 0.5
             }
            },
            "type": "bar"
           }
          ],
          "barpolar": [
           {
            "marker": {
             "line": {
              "color": "#E5ECF6",
              "width": 0.5
             }
            },
            "type": "barpolar"
           }
          ],
          "carpet": [
           {
            "aaxis": {
             "endlinecolor": "#2a3f5f",
             "gridcolor": "white",
             "linecolor": "white",
             "minorgridcolor": "white",
             "startlinecolor": "#2a3f5f"
            },
            "baxis": {
             "endlinecolor": "#2a3f5f",
             "gridcolor": "white",
             "linecolor": "white",
             "minorgridcolor": "white",
             "startlinecolor": "#2a3f5f"
            },
            "type": "carpet"
           }
          ],
          "choropleth": [
           {
            "colorbar": {
             "outlinewidth": 0,
             "ticks": ""
            },
            "type": "choropleth"
           }
          ],
          "contour": [
           {
            "colorbar": {
             "outlinewidth": 0,
             "ticks": ""
            },
            "colorscale": [
             [
              0,
              "#0d0887"
             ],
             [
              0.1111111111111111,
              "#46039f"
             ],
             [
              0.2222222222222222,
              "#7201a8"
             ],
             [
              0.3333333333333333,
              "#9c179e"
             ],
             [
              0.4444444444444444,
              "#bd3786"
             ],
             [
              0.5555555555555556,
              "#d8576b"
             ],
             [
              0.6666666666666666,
              "#ed7953"
             ],
             [
              0.7777777777777778,
              "#fb9f3a"
             ],
             [
              0.8888888888888888,
              "#fdca26"
             ],
             [
              1,
              "#f0f921"
             ]
            ],
            "type": "contour"
           }
          ],
          "contourcarpet": [
           {
            "colorbar": {
             "outlinewidth": 0,
             "ticks": ""
            },
            "type": "contourcarpet"
           }
          ],
          "heatmap": [
           {
            "colorbar": {
             "outlinewidth": 0,
             "ticks": ""
            },
            "colorscale": [
             [
              0,
              "#0d0887"
             ],
             [
              0.1111111111111111,
              "#46039f"
             ],
             [
              0.2222222222222222,
              "#7201a8"
             ],
             [
              0.3333333333333333,
              "#9c179e"
             ],
             [
              0.4444444444444444,
              "#bd3786"
             ],
             [
              0.5555555555555556,
              "#d8576b"
             ],
             [
              0.6666666666666666,
              "#ed7953"
             ],
             [
              0.7777777777777778,
              "#fb9f3a"
             ],
             [
              0.8888888888888888,
              "#fdca26"
             ],
             [
              1,
              "#f0f921"
             ]
            ],
            "type": "heatmap"
           }
          ],
          "heatmapgl": [
           {
            "colorbar": {
             "outlinewidth": 0,
             "ticks": ""
            },
            "colorscale": [
             [
              0,
              "#0d0887"
             ],
             [
              0.1111111111111111,
              "#46039f"
             ],
             [
              0.2222222222222222,
              "#7201a8"
             ],
             [
              0.3333333333333333,
              "#9c179e"
             ],
             [
              0.4444444444444444,
              "#bd3786"
             ],
             [
              0.5555555555555556,
              "#d8576b"
             ],
             [
              0.6666666666666666,
              "#ed7953"
             ],
             [
              0.7777777777777778,
              "#fb9f3a"
             ],
             [
              0.8888888888888888,
              "#fdca26"
             ],
             [
              1,
              "#f0f921"
             ]
            ],
            "type": "heatmapgl"
           }
          ],
          "histogram": [
           {
            "marker": {
             "colorbar": {
              "outlinewidth": 0,
              "ticks": ""
             }
            },
            "type": "histogram"
           }
          ],
          "histogram2d": [
           {
            "colorbar": {
             "outlinewidth": 0,
             "ticks": ""
            },
            "colorscale": [
             [
              0,
              "#0d0887"
             ],
             [
              0.1111111111111111,
              "#46039f"
             ],
             [
              0.2222222222222222,
              "#7201a8"
             ],
             [
              0.3333333333333333,
              "#9c179e"
             ],
             [
              0.4444444444444444,
              "#bd3786"
             ],
             [
              0.5555555555555556,
              "#d8576b"
             ],
             [
              0.6666666666666666,
              "#ed7953"
             ],
             [
              0.7777777777777778,
              "#fb9f3a"
             ],
             [
              0.8888888888888888,
              "#fdca26"
             ],
             [
              1,
              "#f0f921"
             ]
            ],
            "type": "histogram2d"
           }
          ],
          "histogram2dcontour": [
           {
            "colorbar": {
             "outlinewidth": 0,
             "ticks": ""
            },
            "colorscale": [
             [
              0,
              "#0d0887"
             ],
             [
              0.1111111111111111,
              "#46039f"
             ],
             [
              0.2222222222222222,
              "#7201a8"
             ],
             [
              0.3333333333333333,
              "#9c179e"
             ],
             [
              0.4444444444444444,
              "#bd3786"
             ],
             [
              0.5555555555555556,
              "#d8576b"
             ],
             [
              0.6666666666666666,
              "#ed7953"
             ],
             [
              0.7777777777777778,
              "#fb9f3a"
             ],
             [
              0.8888888888888888,
              "#fdca26"
             ],
             [
              1,
              "#f0f921"
             ]
            ],
            "type": "histogram2dcontour"
           }
          ],
          "mesh3d": [
           {
            "colorbar": {
             "outlinewidth": 0,
             "ticks": ""
            },
            "type": "mesh3d"
           }
          ],
          "parcoords": [
           {
            "line": {
             "colorbar": {
              "outlinewidth": 0,
              "ticks": ""
             }
            },
            "type": "parcoords"
           }
          ],
          "pie": [
           {
            "automargin": true,
            "type": "pie"
           }
          ],
          "scatter": [
           {
            "marker": {
             "colorbar": {
              "outlinewidth": 0,
              "ticks": ""
             }
            },
            "type": "scatter"
           }
          ],
          "scatter3d": [
           {
            "line": {
             "colorbar": {
              "outlinewidth": 0,
              "ticks": ""
             }
            },
            "marker": {
             "colorbar": {
              "outlinewidth": 0,
              "ticks": ""
             }
            },
            "type": "scatter3d"
           }
          ],
          "scattercarpet": [
           {
            "marker": {
             "colorbar": {
              "outlinewidth": 0,
              "ticks": ""
             }
            },
            "type": "scattercarpet"
           }
          ],
          "scattergeo": [
           {
            "marker": {
             "colorbar": {
              "outlinewidth": 0,
              "ticks": ""
             }
            },
            "type": "scattergeo"
           }
          ],
          "scattergl": [
           {
            "marker": {
             "colorbar": {
              "outlinewidth": 0,
              "ticks": ""
             }
            },
            "type": "scattergl"
           }
          ],
          "scattermapbox": [
           {
            "marker": {
             "colorbar": {
              "outlinewidth": 0,
              "ticks": ""
             }
            },
            "type": "scattermapbox"
           }
          ],
          "scatterpolar": [
           {
            "marker": {
             "colorbar": {
              "outlinewidth": 0,
              "ticks": ""
             }
            },
            "type": "scatterpolar"
           }
          ],
          "scatterpolargl": [
           {
            "marker": {
             "colorbar": {
              "outlinewidth": 0,
              "ticks": ""
             }
            },
            "type": "scatterpolargl"
           }
          ],
          "scatterternary": [
           {
            "marker": {
             "colorbar": {
              "outlinewidth": 0,
              "ticks": ""
             }
            },
            "type": "scatterternary"
           }
          ],
          "surface": [
           {
            "colorbar": {
             "outlinewidth": 0,
             "ticks": ""
            },
            "colorscale": [
             [
              0,
              "#0d0887"
             ],
             [
              0.1111111111111111,
              "#46039f"
             ],
             [
              0.2222222222222222,
              "#7201a8"
             ],
             [
              0.3333333333333333,
              "#9c179e"
             ],
             [
              0.4444444444444444,
              "#bd3786"
             ],
             [
              0.5555555555555556,
              "#d8576b"
             ],
             [
              0.6666666666666666,
              "#ed7953"
             ],
             [
              0.7777777777777778,
              "#fb9f3a"
             ],
             [
              0.8888888888888888,
              "#fdca26"
             ],
             [
              1,
              "#f0f921"
             ]
            ],
            "type": "surface"
           }
          ],
          "table": [
           {
            "cells": {
             "fill": {
              "color": "#EBF0F8"
             },
             "line": {
              "color": "white"
             }
            },
            "header": {
             "fill": {
              "color": "#C8D4E3"
             },
             "line": {
              "color": "white"
             }
            },
            "type": "table"
           }
          ]
         },
         "layout": {
          "annotationdefaults": {
           "arrowcolor": "#2a3f5f",
           "arrowhead": 0,
           "arrowwidth": 1
          },
          "autotypenumbers": "strict",
          "coloraxis": {
           "colorbar": {
            "outlinewidth": 0,
            "ticks": ""
           }
          },
          "colorscale": {
           "diverging": [
            [
             0,
             "#8e0152"
            ],
            [
             0.1,
             "#c51b7d"
            ],
            [
             0.2,
             "#de77ae"
            ],
            [
             0.3,
             "#f1b6da"
            ],
            [
             0.4,
             "#fde0ef"
            ],
            [
             0.5,
             "#f7f7f7"
            ],
            [
             0.6,
             "#e6f5d0"
            ],
            [
             0.7,
             "#b8e186"
            ],
            [
             0.8,
             "#7fbc41"
            ],
            [
             0.9,
             "#4d9221"
            ],
            [
             1,
             "#276419"
            ]
           ],
           "sequential": [
            [
             0,
             "#0d0887"
            ],
            [
             0.1111111111111111,
             "#46039f"
            ],
            [
             0.2222222222222222,
             "#7201a8"
            ],
            [
             0.3333333333333333,
             "#9c179e"
            ],
            [
             0.4444444444444444,
             "#bd3786"
            ],
            [
             0.5555555555555556,
             "#d8576b"
            ],
            [
             0.6666666666666666,
             "#ed7953"
            ],
            [
             0.7777777777777778,
             "#fb9f3a"
            ],
            [
             0.8888888888888888,
             "#fdca26"
            ],
            [
             1,
             "#f0f921"
            ]
           ],
           "sequentialminus": [
            [
             0,
             "#0d0887"
            ],
            [
             0.1111111111111111,
             "#46039f"
            ],
            [
             0.2222222222222222,
             "#7201a8"
            ],
            [
             0.3333333333333333,
             "#9c179e"
            ],
            [
             0.4444444444444444,
             "#bd3786"
            ],
            [
             0.5555555555555556,
             "#d8576b"
            ],
            [
             0.6666666666666666,
             "#ed7953"
            ],
            [
             0.7777777777777778,
             "#fb9f3a"
            ],
            [
             0.8888888888888888,
             "#fdca26"
            ],
            [
             1,
             "#f0f921"
            ]
           ]
          },
          "colorway": [
           "#636efa",
           "#EF553B",
           "#00cc96",
           "#ab63fa",
           "#FFA15A",
           "#19d3f3",
           "#FF6692",
           "#B6E880",
           "#FF97FF",
           "#FECB52"
          ],
          "font": {
           "color": "#2a3f5f"
          },
          "geo": {
           "bgcolor": "white",
           "lakecolor": "white",
           "landcolor": "#E5ECF6",
           "showlakes": true,
           "showland": true,
           "subunitcolor": "white"
          },
          "hoverlabel": {
           "align": "left"
          },
          "hovermode": "closest",
          "mapbox": {
           "style": "light"
          },
          "paper_bgcolor": "white",
          "plot_bgcolor": "#E5ECF6",
          "polar": {
           "angularaxis": {
            "gridcolor": "white",
            "linecolor": "white",
            "ticks": ""
           },
           "bgcolor": "#E5ECF6",
           "radialaxis": {
            "gridcolor": "white",
            "linecolor": "white",
            "ticks": ""
           }
          },
          "scene": {
           "xaxis": {
            "backgroundcolor": "#E5ECF6",
            "gridcolor": "white",
            "gridwidth": 2,
            "linecolor": "white",
            "showbackground": true,
            "ticks": "",
            "zerolinecolor": "white"
           },
           "yaxis": {
            "backgroundcolor": "#E5ECF6",
            "gridcolor": "white",
            "gridwidth": 2,
            "linecolor": "white",
            "showbackground": true,
            "ticks": "",
            "zerolinecolor": "white"
           },
           "zaxis": {
            "backgroundcolor": "#E5ECF6",
            "gridcolor": "white",
            "gridwidth": 2,
            "linecolor": "white",
            "showbackground": true,
            "ticks": "",
            "zerolinecolor": "white"
           }
          },
          "shapedefaults": {
           "line": {
            "color": "#2a3f5f"
           }
          },
          "ternary": {
           "aaxis": {
            "gridcolor": "white",
            "linecolor": "white",
            "ticks": ""
           },
           "baxis": {
            "gridcolor": "white",
            "linecolor": "white",
            "ticks": ""
           },
           "bgcolor": "#E5ECF6",
           "caxis": {
            "gridcolor": "white",
            "linecolor": "white",
            "ticks": ""
           }
          },
          "title": {
           "x": 0.05
          },
          "xaxis": {
           "automargin": true,
           "gridcolor": "white",
           "linecolor": "white",
           "ticks": "",
           "title": {
            "standoff": 15
           },
           "zerolinecolor": "white",
           "zerolinewidth": 2
          },
          "yaxis": {
           "automargin": true,
           "gridcolor": "white",
           "linecolor": "white",
           "ticks": "",
           "title": {
            "standoff": 15
           },
           "zerolinecolor": "white",
           "zerolinewidth": 2
          }
         }
        },
        "title": {
         "font": {
          "color": "#4D5663"
         },
         "text": "4 (T=-23~50) (H=0~100) (degree=2) (magic) (shift0_ppmx1) (RMSE y_pred_scale= 186.25)"
        },
        "xaxis": {
         "gridcolor": "#E1E5ED",
         "showgrid": true,
         "tickfont": {
          "color": "#4D5663"
         },
         "title": {
          "font": {
           "color": "#4D5663"
          },
          "text": ""
         },
         "zerolinecolor": "#E1E5ED"
        },
        "yaxis": {
         "gridcolor": "#E1E5ED",
         "showgrid": true,
         "tickfont": {
          "color": "#4D5663"
         },
         "title": {
          "font": {
           "color": "#4D5663"
          },
          "text": "ppm"
         },
         "zerolinecolor": "#E1E5ED"
        }
       }
      },
      "text/html": [
       "<div>                            <div id=\"ca474226-e042-4ca7-ac54-b98d3408ce75\" class=\"plotly-graph-div\" style=\"height:525px; width:100%;\"></div>            <script type=\"text/javascript\">                require([\"plotly\"], function(Plotly) {                    window.PLOTLYENV=window.PLOTLYENV || {};\n",
       "                    window.PLOTLYENV.BASE_URL='https://plot.ly';                                    if (document.getElementById(\"ca474226-e042-4ca7-ac54-b98d3408ce75\")) {                    Plotly.newPlot(                        \"ca474226-e042-4ca7-ac54-b98d3408ce75\",                        [{\"line\": {\"color\": \"rgba(255, 153, 51, 1.0)\", \"dash\": \"solid\", \"shape\": \"linear\", \"width\": 1.3}, \"mode\": \"lines\", \"name\": \"y_true\", \"text\": \"\", \"type\": \"scatter\", \"x\": [0, 1, 2, 3, 4, 5, 6, 7, 8, 9, 10, 11, 12, 13, 14, 15, 16, 17, 18, 19, 20, 21, 22, 23, 24, 25, 26, 27, 28, 29, 30, 31, 32, 33, 34, 35, 36, 37, 38, 39, 40, 41, 42, 43, 44, 45, 46, 47, 48, 49, 50, 51, 52, 53, 54, 55, 56, 57, 58, 59, 60, 61, 62, 63, 64, 65, 66, 67, 68, 69, 70, 71, 72, 73, 74, 75, 76, 77, 78, 79, 80, 81, 82, 83, 84, 85, 86, 87, 88, 89, 90, 91, 92, 93, 94, 95, 96, 97, 98, 99, 100, 101, 102, 103, 104, 105, 106, 107, 108, 109, 110, 111, 112, 113, 114, 115, 116, 117, 118, 119, 120, 121, 122, 123, 124, 125, 126, 127, 128, 129, 130, 131, 132, 133, 134, 135, 136, 137, 138, 139, 140, 141, 142, 143, 144, 145, 146, 147, 148, 149, 150, 151, 152, 153, 154, 155, 156, 157, 158, 159, 160, 161, 162, 163, 164, 165, 166, 167, 168, 169, 170, 171, 172, 173, 174, 175, 176, 177, 178, 179, 180, 181, 182, 183, 184, 185, 186, 187, 188, 189, 190, 191, 192, 193, 194, 195, 196, 197, 198, 199, 200, 201, 202, 203, 204, 205, 206, 207, 208, 209, 210, 211, 212, 213, 214, 215, 216, 217, 218, 219, 220, 221, 222, 223, 224, 225, 226, 227, 228, 229, 230, 231, 232, 233, 234, 235, 236, 237, 238, 239, 240, 241, 242, 243, 244, 245, 246, 247, 248, 249, 250, 251, 252, 253, 254, 255, 256, 257, 258, 259, 260, 261, 262, 263, 264, 265, 266, 267, 268, 269, 270, 271, 272, 273, 274, 275, 276, 277, 278, 279, 280, 281, 282, 283, 284, 285, 286, 287, 288, 289, 290, 291, 292, 293, 294, 295, 296, 297, 298, 299], \"y\": [13912.610396860195, 13917.96909046556, 13914.976204826531, 13920.143258982263, 13920.071308447017, 13920.03853663627, 13927.408901990131, 13922.016339166921, 13926.24145702818, 13915.951993495926, 13430.63836521534, 13438.78287846681, 13434.688189764991, 13433.663903780918, 13432.637027429728, 13435.834361894198, 13430.623312397292, 13429.557054749437, 13436.717125658766, 13431.630015522518, 13588.222930612306, 13583.803363852363, 13594.340344388627, 13588.107202623827, 13582.91772187254, 13593.216590160295, 13590.248626368579, 13581.760185285091, 13601.060636686298, 13582.784380790601, 13685.749606578553, 13690.010074701793, 13718.156603737147, 13707.346419751952, 13695.02129640931, 13700.27508967174, 13697.138567537224, 13697.94423106376, 13692.234696338997, 13681.003968901587, 13763.79033127828, 13755.609853154423, 13760.859089194679, 13767.200187310153, 13759.593094004123, 13751.64814090314, 13752.679001369897, 13750.376877136836, 13752.902466931597, 13755.789405184738, 13925.98209903605, 13914.706817457503, 13905.332084598449, 13912.967285435489, 13916.295415152512, 13922.92077747679, 13922.795001128836, 13920.866563171427, 13921.89998482535, 13922.065544061305, 13410.979052754607, 13424.215543020557, 13417.107061337756, 13427.44068432242, 13416.248558017842, 13412.155729915565, 13409.979485175778, 13407.088037128626, 13428.31073155731, 13409.147019707583, 13568.555539530076, 13572.526826633635, 13557.727402447692, 13560.335433659047, 13561.429577617153, 13560.689156099783, 13563.484710755987, 13563.440690841095, 13555.475600557917, 13557.304770402214, 13661.026495231808, 13643.593370809422, 13656.806404353065, 13664.853262114502, 13645.717524189004, 13654.939520618766, 13654.874698890713, 13659.880640870659, 13638.460842655297, 13655.889369808861, 13725.456905028137, 13706.989688318521, 13734.731626441131, 13695.855010439307, 13711.247306812476, 13715.053140442524, 13726.369410761601, 13723.104531510713, 13724.377308359039, 13715.219679817312, 13909.250619064602, 13902.712206041804, 13910.537979464312, 13912.481912248264, 13903.680165707778, 13910.453262217317, 13908.405606048284, 13910.584349572511, 13914.294346265897, 13921.967818134699, 13416.431292949408, 13410.33185046179, 13413.479450335928, 13408.330183470143, 13412.374313423266, 13407.20466390336, 13408.200355724899, 13413.42804086048, 13412.360554889849, 13395.16371532795, 13533.94728459872, 13544.186174264909, 13559.266147019915, 13534.066089145506, 13549.629672142546, 13548.597734887964, 13535.118115790541, 13541.490939523092, 13534.161774962637, 13546.334978734129, 13655.006956005354, 13638.825980683652, 13637.778503964706, 13626.521241859924, 13634.894535747124, 13638.796821804617, 13648.979444339826, 13642.888657250536, 13638.922433602887, 13643.966921495856, 13711.176774284666, 13701.977157025265, 13701.944863242365, 13704.000414173948, 13706.84851815174, 13717.599110226412, 13716.346019032699, 13701.155357142397, 13708.130523057318, 13699.587984623053, 13896.463036755924, 13919.491669352436, 13912.303716817745, 13901.966159572816, 13903.979700888196, 13916.389263912013, 13904.864490195278, 13893.938564173308, 13910.191518030302, 13916.704748942955, 13409.114700132064, 13430.499886343488, 13397.859910522124, 13412.23071973121, 13411.133419140559, 13414.304783268883, 13404.020376714889, 13406.107571859093, 13416.200040797497, 13391.97235638807, 13545.569544123753, 13548.579420691345, 13545.321342149264, 13558.846781161337, 13545.457468421422, 13553.603516355235, 13546.610630092866, 13536.268390458761, 13549.411846724477, 13542.287409858116, 13622.878066222082, 13640.07922338665, 13632.899995240536, 13637.154814423095, 13647.037145942257, 13625.68221166518, 13642.937595649077, 13631.912462009184, 13634.866669589006, 13632.839845632505, 13701.268656999431, 13704.171174496909, 13703.44784710204, 13694.116153246672, 13682.899708064147, 13710.712917667319, 13700.460061091, 13709.768630831872, 13706.617956016617, 13664.68478833565, 13893.636568887103, 13881.425305861369, 13885.549379004193, 13882.264185673324, 13882.956852298474, 13890.395282545813, 13896.693698834782, 13878.333895119418, 13879.236473700123, 13879.089144078735, 13372.904804593274, 13392.291585802519, 13391.180548172377, 13391.383588447407, 13387.128858471388, 13400.45690827575, 13388.288900919555, 13383.209999511886, 13403.5580474967, 13399.538322827128, 13520.011261128931, 13522.717489208324, 13519.755060102574, 13519.808755151935, 13523.921073525302, 13523.8035763667, 13525.91519417779, 13521.850311627846, 13519.88698586674, 13503.26740570565, 13614.493223954563, 13622.76823749974, 13605.366827397047, 13622.02552660878, 13619.680631488183, 13615.667531898891, 13599.282727292455, 13618.840920460243, 13610.50747313856, 13635.262661034089, 13658.822543723167, 13675.043770108567, 13673.002210483604, 13691.63803642268, 13694.46764959224, 13668.988386512603, 13692.63274264417, 13671.327960207627, 13681.402016670865, 13680.147879724176, 13882.901186904905, 13862.052247646272, 13868.552521186317, 13890.489477982785, 13879.787080265265, 13884.976668892115, 13896.617348493402, 13890.902077647897, 13880.508695818651, 13875.651036078481, 13400.779099312775, 13417.184281783731, 13401.67401155946, 13405.956048648659, 13395.711242091007, 13401.859697589201, 13402.886697479616, 13397.697374491656, 13400.78065170419, 13392.538844246845, 13533.425241463541, 13540.650680966148, 13527.184470306358, 13532.325191791984, 13525.20466262183, 13525.086504214953, 13519.417101295105, 13538.71792019182, 13525.313514545182, 13530.605461364301, 13622.024268933901, 13629.091338691893, 13613.48304378175, 13621.773832669744, 13624.141617301662, 13617.667627932873, 13637.373041626779, 13618.502021861426, 13621.604080998268, 13638.393108648826, 13697.776363829033, 13684.453668889213, 13682.202169198035, 13679.23573503153, 13693.485331729498, 13679.952391216379, 13672.99958198312, 13678.861448633093, 13685.240204609147, 13686.12558147517]}, {\"line\": {\"color\": \"rgba(55, 128, 191, 1.0)\", \"dash\": \"solid\", \"shape\": \"linear\", \"width\": 1.3}, \"mode\": \"lines\", \"name\": \"y_pred\", \"text\": \"\", \"type\": \"scatter\", \"x\": [0, 1, 2, 3, 4, 5, 6, 7, 8, 9, 10, 11, 12, 13, 14, 15, 16, 17, 18, 19, 20, 21, 22, 23, 24, 25, 26, 27, 28, 29, 30, 31, 32, 33, 34, 35, 36, 37, 38, 39, 40, 41, 42, 43, 44, 45, 46, 47, 48, 49, 50, 51, 52, 53, 54, 55, 56, 57, 58, 59, 60, 61, 62, 63, 64, 65, 66, 67, 68, 69, 70, 71, 72, 73, 74, 75, 76, 77, 78, 79, 80, 81, 82, 83, 84, 85, 86, 87, 88, 89, 90, 91, 92, 93, 94, 95, 96, 97, 98, 99, 100, 101, 102, 103, 104, 105, 106, 107, 108, 109, 110, 111, 112, 113, 114, 115, 116, 117, 118, 119, 120, 121, 122, 123, 124, 125, 126, 127, 128, 129, 130, 131, 132, 133, 134, 135, 136, 137, 138, 139, 140, 141, 142, 143, 144, 145, 146, 147, 148, 149, 150, 151, 152, 153, 154, 155, 156, 157, 158, 159, 160, 161, 162, 163, 164, 165, 166, 167, 168, 169, 170, 171, 172, 173, 174, 175, 176, 177, 178, 179, 180, 181, 182, 183, 184, 185, 186, 187, 188, 189, 190, 191, 192, 193, 194, 195, 196, 197, 198, 199, 200, 201, 202, 203, 204, 205, 206, 207, 208, 209, 210, 211, 212, 213, 214, 215, 216, 217, 218, 219, 220, 221, 222, 223, 224, 225, 226, 227, 228, 229, 230, 231, 232, 233, 234, 235, 236, 237, 238, 239, 240, 241, 242, 243, 244, 245, 246, 247, 248, 249, 250, 251, 252, 253, 254, 255, 256, 257, 258, 259, 260, 261, 262, 263, 264, 265, 266, 267, 268, 269, 270, 271, 272, 273, 274, 275, 276, 277, 278, 279, 280, 281, 282, 283, 284, 285, 286, 287, 288, 289, 290, 291, 292, 293, 294, 295, 296, 297, 298, 299], \"y\": [13727.304927969855, 13727.237994347774, 13727.260310925416, 13727.237994347774, 13727.260310925416, 13727.237994347774, 13727.304927969855, 13727.282622132778, 13727.304927969855, 13727.237994347774, 13727.148674334365, 13727.215672399845, 13727.193345081636, 13727.171012393143, 13727.103982105962, 13727.171012393143, 13727.148674334365, 13727.171012393143, 13727.103982105962, 13727.126330905305, 13727.215672399845, 13727.059268397315, 13727.126330905305, 13727.059268397315, 13727.126330905305, 13727.103982105962, 13727.126330905305, 13727.059268397315, 13727.081627937225, 13727.014533206648, 13727.014533206648, 13727.171012393143, 13727.103982105962, 13727.126330905305, 13727.148674334365, 13727.171012393143, 13727.193345081636, 13727.126330905305, 13727.193345081636, 13727.126330905305, 13727.103982105962, 13726.947390143523, 13727.059268397315, 13727.171012393143, 13727.103982105962, 13727.081627937225, 13727.014533206648, 13727.036903487124, 13727.059268397315, 13727.126330905305, 13726.812959019628, 13726.835377632651, 13726.768105682731, 13726.924998381915, 13726.857790875392, 13726.835377632651, 13726.857790875392, 13726.924998381915, 13726.902601250024, 13726.835377632651, 13726.88019874785, 13726.947390143523, 13726.924998381915, 13727.036903487124, 13727.014533206648, 13726.947390143523, 13726.88019874785, 13726.947390143523, 13726.924998381915, 13727.036903487124, 13726.969776534848, 13727.036903487124, 13727.148674334365, 13727.036903487124, 13726.969776534848, 13727.126330905305, 13727.059268397315, 13727.081627937225, 13727.148674334365, 13726.99215755589, 13727.081627937225, 13727.103982105962, 13727.081627937225, 13727.059268397315, 13727.171012393143, 13727.148674334365, 13727.171012393143, 13727.103982105962, 13727.081627937225, 13727.103982105962, 13727.260310925416, 13727.148674334365, 13727.171012393143, 13727.193345081636, 13727.260310925416, 13727.237994347774, 13727.215672399845, 13727.193345081636, 13727.215672399845, 13727.148674334365, 13727.014533206648, 13727.081627937225, 13727.059268397315, 13727.036903487124, 13727.014533206648, 13727.036903487124, 13727.059268397315, 13727.126330905305, 13726.924998381915, 13726.99215755589, 13727.014533206648, 13727.081627937225, 13727.059268397315, 13726.947390143523, 13727.014533206648, 13726.99215755589, 13726.969776534848, 13727.081627937225, 13727.014533206648, 13727.036903487124, 13726.902601250024, 13726.969776534848, 13726.857790875392, 13726.969776534848, 13726.99215755589, 13727.014533206648, 13726.947390143523, 13727.014533206648, 13727.036903487124, 13726.969776534848, 13726.835377632651, 13726.902601250024, 13726.88019874785, 13726.902601250024, 13727.014533206648, 13726.947390143523, 13726.924998381915, 13726.947390143523, 13726.969776534848, 13726.947390143523, 13727.059268397315, 13726.99215755589, 13726.969776534848, 13727.036903487124, 13726.924998381915, 13727.081627937225, 13727.148674334365, 13727.126330905305, 13727.059268397315, 13726.99215755589, 13726.655878360534, 13726.58847752471, 13726.610949840566, 13726.633416785246, 13726.655878360534, 13726.58847752471, 13726.565999838573, 13726.633416785246, 13726.521028355448, 13726.58847752471, 13726.610949840566, 13726.58847752471, 13726.610949840566, 13726.67833456554, 13726.610949840566, 13726.67833456554, 13726.610949840566, 13726.67833456554, 13726.610949840566, 13726.723230864702, 13726.655878360534, 13726.67833456554, 13726.565999838573, 13726.67833456554, 13726.610949840566, 13726.723230864702, 13726.655878360534, 13726.633416785246, 13726.565999838573, 13726.543516782152, 13726.565999838573, 13726.58847752471, 13726.610949840566, 13726.633416785246, 13726.47603539119, 13726.49853455846, 13726.47603539119, 13726.58847752471, 13726.521028355448, 13726.633416785246, 13726.655878360534, 13726.67833456554, 13726.655878360534, 13726.633416785246, 13726.565999838573, 13726.67833456554, 13726.700785400262, 13726.67833456554, 13726.610949840566, 13726.633416785246, 13728.06013111027, 13728.038007863697, 13728.104361494323, 13727.949461171062, 13728.148570397243, 13728.038007863697, 13728.06013111027, 13728.082248987437, 13728.104361494323, 13728.038007863697, 13728.082248987437, 13728.06013111027, 13728.038007863697, 13728.104361494323, 13728.038007863697, 13728.104361494323, 13728.170666793278, 13728.148570397243, 13728.126468630924, 13728.19275781903, 13728.236923759685, 13728.038007863697, 13728.104361494323, 13728.126468630924, 13728.104361494323, 13728.038007863697, 13728.104361494323, 13728.082248987437, 13728.104361494323, 13727.949461171062, 13727.949461171062, 13727.927311072195, 13727.905155603044, 13728.015879245962, 13727.949461171062, 13728.015879245962, 13727.949461171062, 13727.971605899646, 13727.993745257945, 13728.06013111027, 13728.170666793278, 13728.148570397243, 13728.170666793278, 13728.19275781903, 13728.082248987437, 13728.19275781903, 13728.126468630924, 13728.236923759685, 13728.170666793278, 13728.104361494323, 13727.32722843665, 13727.304927969855, 13727.32722843665, 13727.349523533161, 13727.32722843665, 13727.349523533161, 13727.416376600997, 13727.349523533161, 13727.32722843665, 13727.394097615335, 13727.349523533161, 13727.32722843665, 13727.260310925416, 13727.37181325939, 13727.349523533161, 13727.32722843665, 13727.349523533161, 13727.282622132778, 13727.304927969855, 13727.237994347774, 13727.103982105962, 13727.171012393143, 13727.059268397315, 13727.081627937225, 13727.103982105962, 13727.036903487124, 13727.282622132778, 13727.215672399845, 13727.148674334365, 13727.260310925416, 13727.349523533161, 13727.32722843665, 13727.304927969855, 13727.237994347774, 13727.483181336283, 13727.37181325939, 13727.483181336283, 13727.282622132778, 13727.349523533161, 13727.416376600997, 13727.438650216376, 13727.37181325939, 13727.349523533161, 13727.37181325939, 13727.349523533161, 13727.32722843665, 13727.349523533161, 13727.32722843665, 13727.304927969855, 13727.282622132778]}],                        {\"legend\": {\"bgcolor\": \"#F5F6F9\", \"font\": {\"color\": \"#4D5663\"}}, \"paper_bgcolor\": \"#F5F6F9\", \"plot_bgcolor\": \"#F5F6F9\", \"template\": {\"data\": {\"bar\": [{\"error_x\": {\"color\": \"#2a3f5f\"}, \"error_y\": {\"color\": \"#2a3f5f\"}, \"marker\": {\"line\": {\"color\": \"#E5ECF6\", \"width\": 0.5}}, \"type\": \"bar\"}], \"barpolar\": [{\"marker\": {\"line\": {\"color\": \"#E5ECF6\", \"width\": 0.5}}, \"type\": \"barpolar\"}], \"carpet\": [{\"aaxis\": {\"endlinecolor\": \"#2a3f5f\", \"gridcolor\": \"white\", \"linecolor\": \"white\", \"minorgridcolor\": \"white\", \"startlinecolor\": \"#2a3f5f\"}, \"baxis\": {\"endlinecolor\": \"#2a3f5f\", \"gridcolor\": \"white\", \"linecolor\": \"white\", \"minorgridcolor\": \"white\", \"startlinecolor\": \"#2a3f5f\"}, \"type\": \"carpet\"}], \"choropleth\": [{\"colorbar\": {\"outlinewidth\": 0, \"ticks\": \"\"}, \"type\": \"choropleth\"}], \"contour\": [{\"colorbar\": {\"outlinewidth\": 0, \"ticks\": \"\"}, \"colorscale\": [[0.0, \"#0d0887\"], [0.1111111111111111, \"#46039f\"], [0.2222222222222222, \"#7201a8\"], [0.3333333333333333, \"#9c179e\"], [0.4444444444444444, \"#bd3786\"], [0.5555555555555556, \"#d8576b\"], [0.6666666666666666, \"#ed7953\"], [0.7777777777777778, \"#fb9f3a\"], [0.8888888888888888, \"#fdca26\"], [1.0, \"#f0f921\"]], \"type\": \"contour\"}], \"contourcarpet\": [{\"colorbar\": {\"outlinewidth\": 0, \"ticks\": \"\"}, \"type\": \"contourcarpet\"}], \"heatmap\": [{\"colorbar\": {\"outlinewidth\": 0, \"ticks\": \"\"}, \"colorscale\": [[0.0, \"#0d0887\"], [0.1111111111111111, \"#46039f\"], [0.2222222222222222, \"#7201a8\"], [0.3333333333333333, \"#9c179e\"], [0.4444444444444444, \"#bd3786\"], [0.5555555555555556, \"#d8576b\"], [0.6666666666666666, \"#ed7953\"], [0.7777777777777778, \"#fb9f3a\"], [0.8888888888888888, \"#fdca26\"], [1.0, \"#f0f921\"]], \"type\": \"heatmap\"}], \"heatmapgl\": [{\"colorbar\": {\"outlinewidth\": 0, \"ticks\": \"\"}, \"colorscale\": [[0.0, \"#0d0887\"], [0.1111111111111111, \"#46039f\"], [0.2222222222222222, \"#7201a8\"], [0.3333333333333333, \"#9c179e\"], [0.4444444444444444, \"#bd3786\"], [0.5555555555555556, \"#d8576b\"], [0.6666666666666666, \"#ed7953\"], [0.7777777777777778, \"#fb9f3a\"], [0.8888888888888888, \"#fdca26\"], [1.0, \"#f0f921\"]], \"type\": \"heatmapgl\"}], \"histogram\": [{\"marker\": {\"colorbar\": {\"outlinewidth\": 0, \"ticks\": \"\"}}, \"type\": \"histogram\"}], \"histogram2d\": [{\"colorbar\": {\"outlinewidth\": 0, \"ticks\": \"\"}, \"colorscale\": [[0.0, \"#0d0887\"], [0.1111111111111111, \"#46039f\"], [0.2222222222222222, \"#7201a8\"], [0.3333333333333333, \"#9c179e\"], [0.4444444444444444, \"#bd3786\"], [0.5555555555555556, \"#d8576b\"], [0.6666666666666666, \"#ed7953\"], [0.7777777777777778, \"#fb9f3a\"], [0.8888888888888888, \"#fdca26\"], [1.0, \"#f0f921\"]], \"type\": \"histogram2d\"}], \"histogram2dcontour\": [{\"colorbar\": {\"outlinewidth\": 0, \"ticks\": \"\"}, \"colorscale\": [[0.0, \"#0d0887\"], [0.1111111111111111, \"#46039f\"], [0.2222222222222222, \"#7201a8\"], [0.3333333333333333, \"#9c179e\"], [0.4444444444444444, \"#bd3786\"], [0.5555555555555556, \"#d8576b\"], [0.6666666666666666, \"#ed7953\"], [0.7777777777777778, \"#fb9f3a\"], [0.8888888888888888, \"#fdca26\"], [1.0, \"#f0f921\"]], \"type\": \"histogram2dcontour\"}], \"mesh3d\": [{\"colorbar\": {\"outlinewidth\": 0, \"ticks\": \"\"}, \"type\": \"mesh3d\"}], \"parcoords\": [{\"line\": {\"colorbar\": {\"outlinewidth\": 0, \"ticks\": \"\"}}, \"type\": \"parcoords\"}], \"pie\": [{\"automargin\": true, \"type\": \"pie\"}], \"scatter\": [{\"marker\": {\"colorbar\": {\"outlinewidth\": 0, \"ticks\": \"\"}}, \"type\": \"scatter\"}], \"scatter3d\": [{\"line\": {\"colorbar\": {\"outlinewidth\": 0, \"ticks\": \"\"}}, \"marker\": {\"colorbar\": {\"outlinewidth\": 0, \"ticks\": \"\"}}, \"type\": \"scatter3d\"}], \"scattercarpet\": [{\"marker\": {\"colorbar\": {\"outlinewidth\": 0, \"ticks\": \"\"}}, \"type\": \"scattercarpet\"}], \"scattergeo\": [{\"marker\": {\"colorbar\": {\"outlinewidth\": 0, \"ticks\": \"\"}}, \"type\": \"scattergeo\"}], \"scattergl\": [{\"marker\": {\"colorbar\": {\"outlinewidth\": 0, \"ticks\": \"\"}}, \"type\": \"scattergl\"}], \"scattermapbox\": [{\"marker\": {\"colorbar\": {\"outlinewidth\": 0, \"ticks\": \"\"}}, \"type\": \"scattermapbox\"}], \"scatterpolar\": [{\"marker\": {\"colorbar\": {\"outlinewidth\": 0, \"ticks\": \"\"}}, \"type\": \"scatterpolar\"}], \"scatterpolargl\": [{\"marker\": {\"colorbar\": {\"outlinewidth\": 0, \"ticks\": \"\"}}, \"type\": \"scatterpolargl\"}], \"scatterternary\": [{\"marker\": {\"colorbar\": {\"outlinewidth\": 0, \"ticks\": \"\"}}, \"type\": \"scatterternary\"}], \"surface\": [{\"colorbar\": {\"outlinewidth\": 0, \"ticks\": \"\"}, \"colorscale\": [[0.0, \"#0d0887\"], [0.1111111111111111, \"#46039f\"], [0.2222222222222222, \"#7201a8\"], [0.3333333333333333, \"#9c179e\"], [0.4444444444444444, \"#bd3786\"], [0.5555555555555556, \"#d8576b\"], [0.6666666666666666, \"#ed7953\"], [0.7777777777777778, \"#fb9f3a\"], [0.8888888888888888, \"#fdca26\"], [1.0, \"#f0f921\"]], \"type\": \"surface\"}], \"table\": [{\"cells\": {\"fill\": {\"color\": \"#EBF0F8\"}, \"line\": {\"color\": \"white\"}}, \"header\": {\"fill\": {\"color\": \"#C8D4E3\"}, \"line\": {\"color\": \"white\"}}, \"type\": \"table\"}]}, \"layout\": {\"annotationdefaults\": {\"arrowcolor\": \"#2a3f5f\", \"arrowhead\": 0, \"arrowwidth\": 1}, \"autotypenumbers\": \"strict\", \"coloraxis\": {\"colorbar\": {\"outlinewidth\": 0, \"ticks\": \"\"}}, \"colorscale\": {\"diverging\": [[0, \"#8e0152\"], [0.1, \"#c51b7d\"], [0.2, \"#de77ae\"], [0.3, \"#f1b6da\"], [0.4, \"#fde0ef\"], [0.5, \"#f7f7f7\"], [0.6, \"#e6f5d0\"], [0.7, \"#b8e186\"], [0.8, \"#7fbc41\"], [0.9, \"#4d9221\"], [1, \"#276419\"]], \"sequential\": [[0.0, \"#0d0887\"], [0.1111111111111111, \"#46039f\"], [0.2222222222222222, \"#7201a8\"], [0.3333333333333333, \"#9c179e\"], [0.4444444444444444, \"#bd3786\"], [0.5555555555555556, \"#d8576b\"], [0.6666666666666666, \"#ed7953\"], [0.7777777777777778, \"#fb9f3a\"], [0.8888888888888888, \"#fdca26\"], [1.0, \"#f0f921\"]], \"sequentialminus\": [[0.0, \"#0d0887\"], [0.1111111111111111, \"#46039f\"], [0.2222222222222222, \"#7201a8\"], [0.3333333333333333, \"#9c179e\"], [0.4444444444444444, \"#bd3786\"], [0.5555555555555556, \"#d8576b\"], [0.6666666666666666, \"#ed7953\"], [0.7777777777777778, \"#fb9f3a\"], [0.8888888888888888, \"#fdca26\"], [1.0, \"#f0f921\"]]}, \"colorway\": [\"#636efa\", \"#EF553B\", \"#00cc96\", \"#ab63fa\", \"#FFA15A\", \"#19d3f3\", \"#FF6692\", \"#B6E880\", \"#FF97FF\", \"#FECB52\"], \"font\": {\"color\": \"#2a3f5f\"}, \"geo\": {\"bgcolor\": \"white\", \"lakecolor\": \"white\", \"landcolor\": \"#E5ECF6\", \"showlakes\": true, \"showland\": true, \"subunitcolor\": \"white\"}, \"hoverlabel\": {\"align\": \"left\"}, \"hovermode\": \"closest\", \"mapbox\": {\"style\": \"light\"}, \"paper_bgcolor\": \"white\", \"plot_bgcolor\": \"#E5ECF6\", \"polar\": {\"angularaxis\": {\"gridcolor\": \"white\", \"linecolor\": \"white\", \"ticks\": \"\"}, \"bgcolor\": \"#E5ECF6\", \"radialaxis\": {\"gridcolor\": \"white\", \"linecolor\": \"white\", \"ticks\": \"\"}}, \"scene\": {\"xaxis\": {\"backgroundcolor\": \"#E5ECF6\", \"gridcolor\": \"white\", \"gridwidth\": 2, \"linecolor\": \"white\", \"showbackground\": true, \"ticks\": \"\", \"zerolinecolor\": \"white\"}, \"yaxis\": {\"backgroundcolor\": \"#E5ECF6\", \"gridcolor\": \"white\", \"gridwidth\": 2, \"linecolor\": \"white\", \"showbackground\": true, \"ticks\": \"\", \"zerolinecolor\": \"white\"}, \"zaxis\": {\"backgroundcolor\": \"#E5ECF6\", \"gridcolor\": \"white\", \"gridwidth\": 2, \"linecolor\": \"white\", \"showbackground\": true, \"ticks\": \"\", \"zerolinecolor\": \"white\"}}, \"shapedefaults\": {\"line\": {\"color\": \"#2a3f5f\"}}, \"ternary\": {\"aaxis\": {\"gridcolor\": \"white\", \"linecolor\": \"white\", \"ticks\": \"\"}, \"baxis\": {\"gridcolor\": \"white\", \"linecolor\": \"white\", \"ticks\": \"\"}, \"bgcolor\": \"#E5ECF6\", \"caxis\": {\"gridcolor\": \"white\", \"linecolor\": \"white\", \"ticks\": \"\"}}, \"title\": {\"x\": 0.05}, \"xaxis\": {\"automargin\": true, \"gridcolor\": \"white\", \"linecolor\": \"white\", \"ticks\": \"\", \"title\": {\"standoff\": 15}, \"zerolinecolor\": \"white\", \"zerolinewidth\": 2}, \"yaxis\": {\"automargin\": true, \"gridcolor\": \"white\", \"linecolor\": \"white\", \"ticks\": \"\", \"title\": {\"standoff\": 15}, \"zerolinecolor\": \"white\", \"zerolinewidth\": 2}}}, \"title\": {\"font\": {\"color\": \"#4D5663\"}, \"text\": \"4 (T=-23~50) (H=0~100) (degree=2) (magic) (shift0_ppmx1) (RMSE y_pred_scale= 186.25)\"}, \"xaxis\": {\"gridcolor\": \"#E1E5ED\", \"showgrid\": true, \"tickfont\": {\"color\": \"#4D5663\"}, \"title\": {\"font\": {\"color\": \"#4D5663\"}, \"text\": \"\"}, \"zerolinecolor\": \"#E1E5ED\"}, \"yaxis\": {\"gridcolor\": \"#E1E5ED\", \"showgrid\": true, \"tickfont\": {\"color\": \"#4D5663\"}, \"title\": {\"font\": {\"color\": \"#4D5663\"}, \"text\": \"ppm\"}, \"zerolinecolor\": \"#E1E5ED\"}},                        {\"showLink\": true, \"linkText\": \"Export to plot.ly\", \"plotlyServerURL\": \"https://plot.ly\", \"responsive\": true}                    ).then(function(){\n",
       "                            \n",
       "var gd = document.getElementById('ca474226-e042-4ca7-ac54-b98d3408ce75');\n",
       "var x = new MutationObserver(function (mutations, observer) {{\n",
       "        var display = window.getComputedStyle(gd).display;\n",
       "        if (!display || display === 'none') {{\n",
       "            console.log([gd, 'removed!']);\n",
       "            Plotly.purge(gd);\n",
       "            observer.disconnect();\n",
       "        }}\n",
       "}});\n",
       "\n",
       "// Listen for the removal of the full notebook cells\n",
       "var notebookContainer = gd.closest('#notebook-container');\n",
       "if (notebookContainer) {{\n",
       "    x.observe(notebookContainer, {childList: true});\n",
       "}}\n",
       "\n",
       "// Listen for the clearing of the current output cell\n",
       "var outputEl = gd.closest('.output');\n",
       "if (outputEl) {{\n",
       "    x.observe(outputEl, {childList: true});\n",
       "}}\n",
       "\n",
       "                        })                };                });            </script>        </div>"
      ]
     },
     "metadata": {},
     "output_type": "display_data"
    },
    {
     "data": {
      "application/vnd.plotly.v1+json": {
       "config": {
        "linkText": "Export to plot.ly",
        "plotlyServerURL": "https://plot.ly",
        "showLink": true
       },
       "data": [
        {
         "line": {
          "color": "rgba(255, 153, 51, 1.0)",
          "dash": "solid",
          "shape": "linear",
          "width": 1.3
         },
         "mode": "lines",
         "name": "y_true",
         "text": "",
         "type": "scatter",
         "x": [
          0,
          1,
          2,
          3,
          4,
          5,
          6,
          7,
          8,
          9,
          10,
          11,
          12,
          13,
          14,
          15,
          16,
          17,
          18,
          19,
          20,
          21,
          22,
          23,
          24,
          25,
          26,
          27,
          28,
          29,
          30,
          31,
          32,
          33,
          34,
          35,
          36,
          37,
          38,
          39,
          40,
          41,
          42,
          43,
          44,
          45,
          46,
          47,
          48,
          49,
          50,
          51,
          52,
          53,
          54,
          55,
          56,
          57,
          58,
          59,
          60,
          61,
          62,
          63,
          64,
          65,
          66,
          67,
          68,
          69,
          70,
          71,
          72,
          73,
          74,
          75,
          76,
          77,
          78,
          79,
          80,
          81,
          82,
          83,
          84,
          85,
          86,
          87,
          88,
          89,
          90,
          91,
          92,
          93,
          94,
          95,
          96,
          97,
          98,
          99,
          100,
          101,
          102,
          103,
          104,
          105,
          106,
          107,
          108,
          109,
          110,
          111,
          112,
          113,
          114,
          115,
          116,
          117,
          118,
          119,
          120,
          121,
          122,
          123,
          124,
          125,
          126,
          127,
          128,
          129,
          130,
          131,
          132,
          133,
          134,
          135,
          136,
          137,
          138,
          139,
          140,
          141,
          142,
          143,
          144,
          145,
          146,
          147,
          148,
          149,
          150,
          151,
          152,
          153,
          154,
          155,
          156,
          157,
          158,
          159,
          160,
          161,
          162,
          163,
          164,
          165,
          166,
          167,
          168,
          169,
          170,
          171,
          172,
          173,
          174,
          175,
          176,
          177,
          178,
          179,
          180,
          181,
          182,
          183,
          184,
          185,
          186,
          187,
          188,
          189,
          190,
          191,
          192,
          193,
          194,
          195,
          196,
          197,
          198,
          199,
          200,
          201,
          202,
          203,
          204,
          205,
          206,
          207,
          208,
          209,
          210,
          211,
          212,
          213,
          214,
          215,
          216,
          217,
          218,
          219,
          220,
          221,
          222,
          223,
          224,
          225,
          226,
          227,
          228,
          229,
          230,
          231,
          232,
          233,
          234,
          235,
          236,
          237,
          238,
          239,
          240,
          241,
          242,
          243,
          244,
          245,
          246,
          247,
          248,
          249,
          250,
          251,
          252,
          253,
          254,
          255,
          256,
          257,
          258,
          259,
          260,
          261,
          262,
          263,
          264,
          265,
          266,
          267,
          268,
          269,
          270,
          271,
          272,
          273,
          274,
          275,
          276,
          277,
          278,
          279,
          280,
          281,
          282,
          283,
          284,
          285,
          286,
          287,
          288,
          289,
          290,
          291,
          292,
          293,
          294,
          295,
          296,
          297,
          298,
          299
         ],
         "y": [
          13912.610396860195,
          13917.96909046556,
          13914.976204826531,
          13920.143258982263,
          13920.071308447017,
          13920.03853663627,
          13927.408901990131,
          13922.016339166921,
          13926.24145702818,
          13915.951993495926,
          13430.63836521534,
          13438.78287846681,
          13434.688189764991,
          13433.663903780918,
          13432.637027429728,
          13435.834361894198,
          13430.623312397292,
          13429.557054749437,
          13436.717125658766,
          13431.630015522518,
          13588.222930612306,
          13583.803363852363,
          13594.340344388627,
          13588.107202623827,
          13582.91772187254,
          13593.216590160295,
          13590.248626368579,
          13581.760185285091,
          13601.060636686298,
          13582.784380790601,
          13685.749606578553,
          13690.010074701793,
          13718.156603737147,
          13707.346419751952,
          13695.02129640931,
          13700.27508967174,
          13697.138567537224,
          13697.94423106376,
          13692.234696338997,
          13681.003968901587,
          13763.79033127828,
          13755.609853154423,
          13760.859089194679,
          13767.200187310153,
          13759.593094004123,
          13751.64814090314,
          13752.679001369897,
          13750.376877136836,
          13752.902466931597,
          13755.789405184738,
          13925.98209903605,
          13914.706817457503,
          13905.332084598449,
          13912.967285435489,
          13916.295415152512,
          13922.92077747679,
          13922.795001128836,
          13920.866563171427,
          13921.89998482535,
          13922.065544061305,
          13410.979052754607,
          13424.215543020557,
          13417.107061337756,
          13427.44068432242,
          13416.248558017842,
          13412.155729915565,
          13409.979485175778,
          13407.088037128626,
          13428.31073155731,
          13409.147019707583,
          13568.555539530076,
          13572.526826633635,
          13557.727402447692,
          13560.335433659047,
          13561.429577617153,
          13560.689156099783,
          13563.484710755987,
          13563.440690841095,
          13555.475600557917,
          13557.304770402214,
          13661.026495231808,
          13643.593370809422,
          13656.806404353065,
          13664.853262114502,
          13645.717524189004,
          13654.939520618766,
          13654.874698890713,
          13659.880640870659,
          13638.460842655297,
          13655.889369808861,
          13725.456905028137,
          13706.989688318521,
          13734.731626441131,
          13695.855010439307,
          13711.247306812476,
          13715.053140442524,
          13726.369410761601,
          13723.104531510713,
          13724.377308359039,
          13715.219679817312,
          13909.250619064602,
          13902.712206041804,
          13910.537979464312,
          13912.481912248264,
          13903.680165707778,
          13910.453262217317,
          13908.405606048284,
          13910.584349572511,
          13914.294346265897,
          13921.967818134699,
          13416.431292949408,
          13410.33185046179,
          13413.479450335928,
          13408.330183470143,
          13412.374313423266,
          13407.20466390336,
          13408.200355724899,
          13413.42804086048,
          13412.360554889849,
          13395.16371532795,
          13533.94728459872,
          13544.186174264909,
          13559.266147019915,
          13534.066089145506,
          13549.629672142546,
          13548.597734887964,
          13535.118115790541,
          13541.490939523092,
          13534.161774962637,
          13546.334978734129,
          13655.006956005354,
          13638.825980683652,
          13637.778503964706,
          13626.521241859924,
          13634.894535747124,
          13638.796821804617,
          13648.979444339826,
          13642.888657250536,
          13638.922433602887,
          13643.966921495856,
          13711.176774284666,
          13701.977157025265,
          13701.944863242365,
          13704.000414173948,
          13706.84851815174,
          13717.599110226412,
          13716.346019032699,
          13701.155357142397,
          13708.130523057318,
          13699.587984623053,
          13896.463036755924,
          13919.491669352436,
          13912.303716817745,
          13901.966159572816,
          13903.979700888196,
          13916.389263912013,
          13904.864490195278,
          13893.938564173308,
          13910.191518030302,
          13916.704748942955,
          13409.114700132064,
          13430.499886343488,
          13397.859910522124,
          13412.23071973121,
          13411.133419140559,
          13414.304783268883,
          13404.020376714889,
          13406.107571859093,
          13416.200040797497,
          13391.97235638807,
          13545.569544123753,
          13548.579420691345,
          13545.321342149264,
          13558.846781161337,
          13545.457468421422,
          13553.603516355235,
          13546.610630092866,
          13536.268390458761,
          13549.411846724477,
          13542.287409858116,
          13622.878066222082,
          13640.07922338665,
          13632.899995240536,
          13637.154814423095,
          13647.037145942257,
          13625.68221166518,
          13642.937595649077,
          13631.912462009184,
          13634.866669589006,
          13632.839845632505,
          13701.268656999431,
          13704.171174496909,
          13703.44784710204,
          13694.116153246672,
          13682.899708064147,
          13710.712917667319,
          13700.460061091,
          13709.768630831872,
          13706.617956016617,
          13664.68478833565,
          13893.636568887103,
          13881.425305861369,
          13885.549379004193,
          13882.264185673324,
          13882.956852298474,
          13890.395282545813,
          13896.693698834782,
          13878.333895119418,
          13879.236473700123,
          13879.089144078735,
          13372.904804593274,
          13392.291585802519,
          13391.180548172377,
          13391.383588447407,
          13387.128858471388,
          13400.45690827575,
          13388.288900919555,
          13383.209999511886,
          13403.5580474967,
          13399.538322827128,
          13520.011261128931,
          13522.717489208324,
          13519.755060102574,
          13519.808755151935,
          13523.921073525302,
          13523.8035763667,
          13525.91519417779,
          13521.850311627846,
          13519.88698586674,
          13503.26740570565,
          13614.493223954563,
          13622.76823749974,
          13605.366827397047,
          13622.02552660878,
          13619.680631488183,
          13615.667531898891,
          13599.282727292455,
          13618.840920460243,
          13610.50747313856,
          13635.262661034089,
          13658.822543723167,
          13675.043770108567,
          13673.002210483604,
          13691.63803642268,
          13694.46764959224,
          13668.988386512603,
          13692.63274264417,
          13671.327960207627,
          13681.402016670865,
          13680.147879724176,
          13882.901186904905,
          13862.052247646272,
          13868.552521186317,
          13890.489477982785,
          13879.787080265265,
          13884.976668892115,
          13896.617348493402,
          13890.902077647897,
          13880.508695818651,
          13875.651036078481,
          13400.779099312775,
          13417.184281783731,
          13401.67401155946,
          13405.956048648659,
          13395.711242091007,
          13401.859697589201,
          13402.886697479616,
          13397.697374491656,
          13400.78065170419,
          13392.538844246845,
          13533.425241463541,
          13540.650680966148,
          13527.184470306358,
          13532.325191791984,
          13525.20466262183,
          13525.086504214953,
          13519.417101295105,
          13538.71792019182,
          13525.313514545182,
          13530.605461364301,
          13622.024268933901,
          13629.091338691893,
          13613.48304378175,
          13621.773832669744,
          13624.141617301662,
          13617.667627932873,
          13637.373041626779,
          13618.502021861426,
          13621.604080998268,
          13638.393108648826,
          13697.776363829033,
          13684.453668889213,
          13682.202169198035,
          13679.23573503153,
          13693.485331729498,
          13679.952391216379,
          13672.99958198312,
          13678.861448633093,
          13685.240204609147,
          13686.12558147517
         ]
        },
        {
         "line": {
          "color": "rgba(55, 128, 191, 1.0)",
          "dash": "solid",
          "shape": "linear",
          "width": 1.3
         },
         "mode": "lines",
         "name": "y_pred",
         "text": "",
         "type": "scatter",
         "x": [
          0,
          1,
          2,
          3,
          4,
          5,
          6,
          7,
          8,
          9,
          10,
          11,
          12,
          13,
          14,
          15,
          16,
          17,
          18,
          19,
          20,
          21,
          22,
          23,
          24,
          25,
          26,
          27,
          28,
          29,
          30,
          31,
          32,
          33,
          34,
          35,
          36,
          37,
          38,
          39,
          40,
          41,
          42,
          43,
          44,
          45,
          46,
          47,
          48,
          49,
          50,
          51,
          52,
          53,
          54,
          55,
          56,
          57,
          58,
          59,
          60,
          61,
          62,
          63,
          64,
          65,
          66,
          67,
          68,
          69,
          70,
          71,
          72,
          73,
          74,
          75,
          76,
          77,
          78,
          79,
          80,
          81,
          82,
          83,
          84,
          85,
          86,
          87,
          88,
          89,
          90,
          91,
          92,
          93,
          94,
          95,
          96,
          97,
          98,
          99,
          100,
          101,
          102,
          103,
          104,
          105,
          106,
          107,
          108,
          109,
          110,
          111,
          112,
          113,
          114,
          115,
          116,
          117,
          118,
          119,
          120,
          121,
          122,
          123,
          124,
          125,
          126,
          127,
          128,
          129,
          130,
          131,
          132,
          133,
          134,
          135,
          136,
          137,
          138,
          139,
          140,
          141,
          142,
          143,
          144,
          145,
          146,
          147,
          148,
          149,
          150,
          151,
          152,
          153,
          154,
          155,
          156,
          157,
          158,
          159,
          160,
          161,
          162,
          163,
          164,
          165,
          166,
          167,
          168,
          169,
          170,
          171,
          172,
          173,
          174,
          175,
          176,
          177,
          178,
          179,
          180,
          181,
          182,
          183,
          184,
          185,
          186,
          187,
          188,
          189,
          190,
          191,
          192,
          193,
          194,
          195,
          196,
          197,
          198,
          199,
          200,
          201,
          202,
          203,
          204,
          205,
          206,
          207,
          208,
          209,
          210,
          211,
          212,
          213,
          214,
          215,
          216,
          217,
          218,
          219,
          220,
          221,
          222,
          223,
          224,
          225,
          226,
          227,
          228,
          229,
          230,
          231,
          232,
          233,
          234,
          235,
          236,
          237,
          238,
          239,
          240,
          241,
          242,
          243,
          244,
          245,
          246,
          247,
          248,
          249,
          250,
          251,
          252,
          253,
          254,
          255,
          256,
          257,
          258,
          259,
          260,
          261,
          262,
          263,
          264,
          265,
          266,
          267,
          268,
          269,
          270,
          271,
          272,
          273,
          274,
          275,
          276,
          277,
          278,
          279,
          280,
          281,
          282,
          283,
          284,
          285,
          286,
          287,
          288,
          289,
          290,
          291,
          292,
          293,
          294,
          295,
          296,
          297,
          298,
          299
         ],
         "y": [
          13655.038830245494,
          13654.964964119441,
          13654.989592756128,
          13654.964964119441,
          13654.989592756128,
          13654.964964119441,
          13655.038830245494,
          13655.014214798146,
          13655.038830245494,
          13654.964964119441,
          13654.866383626008,
          13654.940328888086,
          13654.915687062063,
          13654.89103864137,
          13654.817053811279,
          13654.89103864137,
          13654.866383626008,
          13654.89103864137,
          13654.817053811279,
          13654.841722015977,
          13654.940328888086,
          13654.767697618854,
          13654.841722015977,
          13654.767697618854,
          13654.841722015977,
          13654.817053811279,
          13654.841722015977,
          13654.767697618854,
          13654.792379012892,
          13654.718315046775,
          13654.718315046775,
          13654.89103864137,
          13654.817053811279,
          13654.841722015977,
          13654.866383626008,
          13654.89103864137,
          13654.915687062063,
          13654.841722015977,
          13654.915687062063,
          13654.841722015977,
          13654.817053811279,
          13654.644191728641,
          13654.767697618854,
          13654.89103864137,
          13654.817053811279,
          13654.792379012892,
          13654.718315046775,
          13654.74300963015,
          13654.767697618854,
          13654.841722015977,
          13654.495767036316,
          13654.52052097171,
          13654.446239381523,
          13654.619470766593,
          13654.545268312433,
          13654.52052097171,
          13654.545268312433,
          13654.619470766593,
          13654.594743209875,
          13654.52052097171,
          13654.570009058489,
          13654.644191728641,
          13654.619470766593,
          13654.74300963015,
          13654.718315046775,
          13654.644191728641,
          13654.570009058489,
          13654.644191728641,
          13654.619470766593,
          13654.74300963015,
          13654.668906096022,
          13654.74300963015,
          13654.866383626008,
          13654.74300963015,
          13654.668906096022,
          13654.841722015977,
          13654.767697618854,
          13654.792379012892,
          13654.866383626008,
          13654.693613868732,
          13654.792379012892,
          13654.817053811279,
          13654.792379012892,
          13654.767697618854,
          13654.89103864137,
          13654.866383626008,
          13654.89103864137,
          13654.817053811279,
          13654.792379012892,
          13654.817053811279,
          13654.989592756128,
          13654.866383626008,
          13654.89103864137,
          13654.915687062063,
          13654.989592756128,
          13654.964964119441,
          13654.940328888086,
          13654.915687062063,
          13654.940328888086,
          13654.866383626008,
          13654.718315046775,
          13654.792379012892,
          13654.767697618854,
          13654.74300963015,
          13654.718315046775,
          13654.74300963015,
          13654.767697618854,
          13654.841722015977,
          13654.619470766593,
          13654.693613868732,
          13654.718315046775,
          13654.792379012892,
          13654.767697618854,
          13654.644191728641,
          13654.718315046775,
          13654.693613868732,
          13654.668906096022,
          13654.792379012892,
          13654.718315046775,
          13654.74300963015,
          13654.594743209875,
          13654.668906096022,
          13654.545268312433,
          13654.668906096022,
          13654.693613868732,
          13654.718315046775,
          13654.644191728641,
          13654.718315046775,
          13654.74300963015,
          13654.668906096022,
          13654.52052097171,
          13654.594743209875,
          13654.570009058489,
          13654.594743209875,
          13654.718315046775,
          13654.644191728641,
          13654.619470766593,
          13654.644191728641,
          13654.668906096022,
          13654.644191728641,
          13654.767697618854,
          13654.693613868732,
          13654.668906096022,
          13654.74300963015,
          13654.619470766593,
          13654.792379012892,
          13654.866383626008,
          13654.841722015977,
          13654.767697618854,
          13654.693613868732,
          13654.32230483784,
          13654.24786497659,
          13654.272684858672,
          13654.297498145097,
          13654.32230483784,
          13654.24786497659,
          13654.223038499842,
          13654.297498145097,
          13654.173365762337,
          13654.24786497659,
          13654.272684858672,
          13654.24786497659,
          13654.272684858672,
          13654.347104935914,
          13654.272684858672,
          13654.347104935914,
          13654.272684858672,
          13654.347104935914,
          13654.272684858672,
          13654.396685348056,
          13654.32230483784,
          13654.347104935914,
          13654.223038499842,
          13654.347104935914,
          13654.272684858672,
          13654.396685348056,
          13654.32230483784,
          13654.297498145097,
          13654.223038499842,
          13654.198205428424,
          13654.223038499842,
          13654.24786497659,
          13654.272684858672,
          13654.297498145097,
          13654.123666646157,
          13654.148519501581,
          13654.123666646157,
          13654.24786497659,
          13654.173365762337,
          13654.297498145097,
          13654.32230483784,
          13654.347104935914,
          13654.32230483784,
          13654.297498145097,
          13654.223038499842,
          13654.347104935914,
          13654.37189843932,
          13654.347104935914,
          13654.272684858672,
          13654.297498145097,
          13655.8718316255,
          13655.847440397858,
          13655.920594298716,
          13655.749809536726,
          13655.969330593258,
          13655.847440397858,
          13655.8718316255,
          13655.896216259443,
          13655.920594298716,
          13655.847440397858,
          13655.896216259443,
          13655.8718316255,
          13655.847440397858,
          13655.920594298716,
          13655.847440397858,
          13655.920594298716,
          13655.993688848524,
          13655.969330593258,
          13655.944965743322,
          13656.018040509123,
          13656.066724046314,
          13655.847440397858,
          13655.920594298716,
          13655.944965743322,
          13655.920594298716,
          13655.847440397858,
          13655.920594298716,
          13655.896216259443,
          13655.920594298716,
          13655.749809536726,
          13655.749809536726,
          13655.725385334772,
          13655.700954538148,
          13655.823042574579,
          13655.749809536726,
          13655.823042574579,
          13655.749809536726,
          13655.774227144013,
          13655.79863815663,
          13655.8718316255,
          13655.993688848524,
          13655.969330593258,
          13655.993688848524,
          13656.018040509123,
          13655.896216259443,
          13656.018040509123,
          13655.944965743322,
          13656.066724046314,
          13655.993688848524,
          13655.920594298716,
          13655.063439098174,
          13655.038830245494,
          13655.063439098174,
          13655.088041356186,
          13655.063439098174,
          13655.088041356186,
          13655.161808562207,
          13655.088041356186,
          13655.063439098174,
          13655.137226088202,
          13655.088041356186,
          13655.063439098174,
          13654.989592756128,
          13655.112637019529,
          13655.088041356186,
          13655.063439098174,
          13655.088041356186,
          13655.014214798146,
          13655.038830245494,
          13654.964964119441,
          13654.817053811279,
          13654.89103864137,
          13654.767697618854,
          13654.792379012892,
          13654.817053811279,
          13654.74300963015,
          13655.014214798146,
          13654.940328888086,
          13654.866383626008,
          13654.989592756128,
          13655.088041356186,
          13655.063439098174,
          13655.038830245494,
          13654.964964119441,
          13655.235516416209,
          13655.112637019529,
          13655.235516416209,
          13655.014214798146,
          13655.088041356186,
          13655.161808562207,
          13655.186384441544,
          13655.112637019529,
          13655.088041356186,
          13655.112637019529,
          13655.088041356186,
          13655.063439098174,
          13655.088041356186,
          13655.063439098174,
          13655.038830245494,
          13655.014214798146
         ]
        }
       ],
       "layout": {
        "legend": {
         "bgcolor": "#F5F6F9",
         "font": {
          "color": "#4D5663"
         }
        },
        "paper_bgcolor": "#F5F6F9",
        "plot_bgcolor": "#F5F6F9",
        "template": {
         "data": {
          "bar": [
           {
            "error_x": {
             "color": "#2a3f5f"
            },
            "error_y": {
             "color": "#2a3f5f"
            },
            "marker": {
             "line": {
              "color": "#E5ECF6",
              "width": 0.5
             }
            },
            "type": "bar"
           }
          ],
          "barpolar": [
           {
            "marker": {
             "line": {
              "color": "#E5ECF6",
              "width": 0.5
             }
            },
            "type": "barpolar"
           }
          ],
          "carpet": [
           {
            "aaxis": {
             "endlinecolor": "#2a3f5f",
             "gridcolor": "white",
             "linecolor": "white",
             "minorgridcolor": "white",
             "startlinecolor": "#2a3f5f"
            },
            "baxis": {
             "endlinecolor": "#2a3f5f",
             "gridcolor": "white",
             "linecolor": "white",
             "minorgridcolor": "white",
             "startlinecolor": "#2a3f5f"
            },
            "type": "carpet"
           }
          ],
          "choropleth": [
           {
            "colorbar": {
             "outlinewidth": 0,
             "ticks": ""
            },
            "type": "choropleth"
           }
          ],
          "contour": [
           {
            "colorbar": {
             "outlinewidth": 0,
             "ticks": ""
            },
            "colorscale": [
             [
              0,
              "#0d0887"
             ],
             [
              0.1111111111111111,
              "#46039f"
             ],
             [
              0.2222222222222222,
              "#7201a8"
             ],
             [
              0.3333333333333333,
              "#9c179e"
             ],
             [
              0.4444444444444444,
              "#bd3786"
             ],
             [
              0.5555555555555556,
              "#d8576b"
             ],
             [
              0.6666666666666666,
              "#ed7953"
             ],
             [
              0.7777777777777778,
              "#fb9f3a"
             ],
             [
              0.8888888888888888,
              "#fdca26"
             ],
             [
              1,
              "#f0f921"
             ]
            ],
            "type": "contour"
           }
          ],
          "contourcarpet": [
           {
            "colorbar": {
             "outlinewidth": 0,
             "ticks": ""
            },
            "type": "contourcarpet"
           }
          ],
          "heatmap": [
           {
            "colorbar": {
             "outlinewidth": 0,
             "ticks": ""
            },
            "colorscale": [
             [
              0,
              "#0d0887"
             ],
             [
              0.1111111111111111,
              "#46039f"
             ],
             [
              0.2222222222222222,
              "#7201a8"
             ],
             [
              0.3333333333333333,
              "#9c179e"
             ],
             [
              0.4444444444444444,
              "#bd3786"
             ],
             [
              0.5555555555555556,
              "#d8576b"
             ],
             [
              0.6666666666666666,
              "#ed7953"
             ],
             [
              0.7777777777777778,
              "#fb9f3a"
             ],
             [
              0.8888888888888888,
              "#fdca26"
             ],
             [
              1,
              "#f0f921"
             ]
            ],
            "type": "heatmap"
           }
          ],
          "heatmapgl": [
           {
            "colorbar": {
             "outlinewidth": 0,
             "ticks": ""
            },
            "colorscale": [
             [
              0,
              "#0d0887"
             ],
             [
              0.1111111111111111,
              "#46039f"
             ],
             [
              0.2222222222222222,
              "#7201a8"
             ],
             [
              0.3333333333333333,
              "#9c179e"
             ],
             [
              0.4444444444444444,
              "#bd3786"
             ],
             [
              0.5555555555555556,
              "#d8576b"
             ],
             [
              0.6666666666666666,
              "#ed7953"
             ],
             [
              0.7777777777777778,
              "#fb9f3a"
             ],
             [
              0.8888888888888888,
              "#fdca26"
             ],
             [
              1,
              "#f0f921"
             ]
            ],
            "type": "heatmapgl"
           }
          ],
          "histogram": [
           {
            "marker": {
             "colorbar": {
              "outlinewidth": 0,
              "ticks": ""
             }
            },
            "type": "histogram"
           }
          ],
          "histogram2d": [
           {
            "colorbar": {
             "outlinewidth": 0,
             "ticks": ""
            },
            "colorscale": [
             [
              0,
              "#0d0887"
             ],
             [
              0.1111111111111111,
              "#46039f"
             ],
             [
              0.2222222222222222,
              "#7201a8"
             ],
             [
              0.3333333333333333,
              "#9c179e"
             ],
             [
              0.4444444444444444,
              "#bd3786"
             ],
             [
              0.5555555555555556,
              "#d8576b"
             ],
             [
              0.6666666666666666,
              "#ed7953"
             ],
             [
              0.7777777777777778,
              "#fb9f3a"
             ],
             [
              0.8888888888888888,
              "#fdca26"
             ],
             [
              1,
              "#f0f921"
             ]
            ],
            "type": "histogram2d"
           }
          ],
          "histogram2dcontour": [
           {
            "colorbar": {
             "outlinewidth": 0,
             "ticks": ""
            },
            "colorscale": [
             [
              0,
              "#0d0887"
             ],
             [
              0.1111111111111111,
              "#46039f"
             ],
             [
              0.2222222222222222,
              "#7201a8"
             ],
             [
              0.3333333333333333,
              "#9c179e"
             ],
             [
              0.4444444444444444,
              "#bd3786"
             ],
             [
              0.5555555555555556,
              "#d8576b"
             ],
             [
              0.6666666666666666,
              "#ed7953"
             ],
             [
              0.7777777777777778,
              "#fb9f3a"
             ],
             [
              0.8888888888888888,
              "#fdca26"
             ],
             [
              1,
              "#f0f921"
             ]
            ],
            "type": "histogram2dcontour"
           }
          ],
          "mesh3d": [
           {
            "colorbar": {
             "outlinewidth": 0,
             "ticks": ""
            },
            "type": "mesh3d"
           }
          ],
          "parcoords": [
           {
            "line": {
             "colorbar": {
              "outlinewidth": 0,
              "ticks": ""
             }
            },
            "type": "parcoords"
           }
          ],
          "pie": [
           {
            "automargin": true,
            "type": "pie"
           }
          ],
          "scatter": [
           {
            "marker": {
             "colorbar": {
              "outlinewidth": 0,
              "ticks": ""
             }
            },
            "type": "scatter"
           }
          ],
          "scatter3d": [
           {
            "line": {
             "colorbar": {
              "outlinewidth": 0,
              "ticks": ""
             }
            },
            "marker": {
             "colorbar": {
              "outlinewidth": 0,
              "ticks": ""
             }
            },
            "type": "scatter3d"
           }
          ],
          "scattercarpet": [
           {
            "marker": {
             "colorbar": {
              "outlinewidth": 0,
              "ticks": ""
             }
            },
            "type": "scattercarpet"
           }
          ],
          "scattergeo": [
           {
            "marker": {
             "colorbar": {
              "outlinewidth": 0,
              "ticks": ""
             }
            },
            "type": "scattergeo"
           }
          ],
          "scattergl": [
           {
            "marker": {
             "colorbar": {
              "outlinewidth": 0,
              "ticks": ""
             }
            },
            "type": "scattergl"
           }
          ],
          "scattermapbox": [
           {
            "marker": {
             "colorbar": {
              "outlinewidth": 0,
              "ticks": ""
             }
            },
            "type": "scattermapbox"
           }
          ],
          "scatterpolar": [
           {
            "marker": {
             "colorbar": {
              "outlinewidth": 0,
              "ticks": ""
             }
            },
            "type": "scatterpolar"
           }
          ],
          "scatterpolargl": [
           {
            "marker": {
             "colorbar": {
              "outlinewidth": 0,
              "ticks": ""
             }
            },
            "type": "scatterpolargl"
           }
          ],
          "scatterternary": [
           {
            "marker": {
             "colorbar": {
              "outlinewidth": 0,
              "ticks": ""
             }
            },
            "type": "scatterternary"
           }
          ],
          "surface": [
           {
            "colorbar": {
             "outlinewidth": 0,
             "ticks": ""
            },
            "colorscale": [
             [
              0,
              "#0d0887"
             ],
             [
              0.1111111111111111,
              "#46039f"
             ],
             [
              0.2222222222222222,
              "#7201a8"
             ],
             [
              0.3333333333333333,
              "#9c179e"
             ],
             [
              0.4444444444444444,
              "#bd3786"
             ],
             [
              0.5555555555555556,
              "#d8576b"
             ],
             [
              0.6666666666666666,
              "#ed7953"
             ],
             [
              0.7777777777777778,
              "#fb9f3a"
             ],
             [
              0.8888888888888888,
              "#fdca26"
             ],
             [
              1,
              "#f0f921"
             ]
            ],
            "type": "surface"
           }
          ],
          "table": [
           {
            "cells": {
             "fill": {
              "color": "#EBF0F8"
             },
             "line": {
              "color": "white"
             }
            },
            "header": {
             "fill": {
              "color": "#C8D4E3"
             },
             "line": {
              "color": "white"
             }
            },
            "type": "table"
           }
          ]
         },
         "layout": {
          "annotationdefaults": {
           "arrowcolor": "#2a3f5f",
           "arrowhead": 0,
           "arrowwidth": 1
          },
          "autotypenumbers": "strict",
          "coloraxis": {
           "colorbar": {
            "outlinewidth": 0,
            "ticks": ""
           }
          },
          "colorscale": {
           "diverging": [
            [
             0,
             "#8e0152"
            ],
            [
             0.1,
             "#c51b7d"
            ],
            [
             0.2,
             "#de77ae"
            ],
            [
             0.3,
             "#f1b6da"
            ],
            [
             0.4,
             "#fde0ef"
            ],
            [
             0.5,
             "#f7f7f7"
            ],
            [
             0.6,
             "#e6f5d0"
            ],
            [
             0.7,
             "#b8e186"
            ],
            [
             0.8,
             "#7fbc41"
            ],
            [
             0.9,
             "#4d9221"
            ],
            [
             1,
             "#276419"
            ]
           ],
           "sequential": [
            [
             0,
             "#0d0887"
            ],
            [
             0.1111111111111111,
             "#46039f"
            ],
            [
             0.2222222222222222,
             "#7201a8"
            ],
            [
             0.3333333333333333,
             "#9c179e"
            ],
            [
             0.4444444444444444,
             "#bd3786"
            ],
            [
             0.5555555555555556,
             "#d8576b"
            ],
            [
             0.6666666666666666,
             "#ed7953"
            ],
            [
             0.7777777777777778,
             "#fb9f3a"
            ],
            [
             0.8888888888888888,
             "#fdca26"
            ],
            [
             1,
             "#f0f921"
            ]
           ],
           "sequentialminus": [
            [
             0,
             "#0d0887"
            ],
            [
             0.1111111111111111,
             "#46039f"
            ],
            [
             0.2222222222222222,
             "#7201a8"
            ],
            [
             0.3333333333333333,
             "#9c179e"
            ],
            [
             0.4444444444444444,
             "#bd3786"
            ],
            [
             0.5555555555555556,
             "#d8576b"
            ],
            [
             0.6666666666666666,
             "#ed7953"
            ],
            [
             0.7777777777777778,
             "#fb9f3a"
            ],
            [
             0.8888888888888888,
             "#fdca26"
            ],
            [
             1,
             "#f0f921"
            ]
           ]
          },
          "colorway": [
           "#636efa",
           "#EF553B",
           "#00cc96",
           "#ab63fa",
           "#FFA15A",
           "#19d3f3",
           "#FF6692",
           "#B6E880",
           "#FF97FF",
           "#FECB52"
          ],
          "font": {
           "color": "#2a3f5f"
          },
          "geo": {
           "bgcolor": "white",
           "lakecolor": "white",
           "landcolor": "#E5ECF6",
           "showlakes": true,
           "showland": true,
           "subunitcolor": "white"
          },
          "hoverlabel": {
           "align": "left"
          },
          "hovermode": "closest",
          "mapbox": {
           "style": "light"
          },
          "paper_bgcolor": "white",
          "plot_bgcolor": "#E5ECF6",
          "polar": {
           "angularaxis": {
            "gridcolor": "white",
            "linecolor": "white",
            "ticks": ""
           },
           "bgcolor": "#E5ECF6",
           "radialaxis": {
            "gridcolor": "white",
            "linecolor": "white",
            "ticks": ""
           }
          },
          "scene": {
           "xaxis": {
            "backgroundcolor": "#E5ECF6",
            "gridcolor": "white",
            "gridwidth": 2,
            "linecolor": "white",
            "showbackground": true,
            "ticks": "",
            "zerolinecolor": "white"
           },
           "yaxis": {
            "backgroundcolor": "#E5ECF6",
            "gridcolor": "white",
            "gridwidth": 2,
            "linecolor": "white",
            "showbackground": true,
            "ticks": "",
            "zerolinecolor": "white"
           },
           "zaxis": {
            "backgroundcolor": "#E5ECF6",
            "gridcolor": "white",
            "gridwidth": 2,
            "linecolor": "white",
            "showbackground": true,
            "ticks": "",
            "zerolinecolor": "white"
           }
          },
          "shapedefaults": {
           "line": {
            "color": "#2a3f5f"
           }
          },
          "ternary": {
           "aaxis": {
            "gridcolor": "white",
            "linecolor": "white",
            "ticks": ""
           },
           "baxis": {
            "gridcolor": "white",
            "linecolor": "white",
            "ticks": ""
           },
           "bgcolor": "#E5ECF6",
           "caxis": {
            "gridcolor": "white",
            "linecolor": "white",
            "ticks": ""
           }
          },
          "title": {
           "x": 0.05
          },
          "xaxis": {
           "automargin": true,
           "gridcolor": "white",
           "linecolor": "white",
           "ticks": "",
           "title": {
            "standoff": 15
           },
           "zerolinecolor": "white",
           "zerolinewidth": 2
          },
          "yaxis": {
           "automargin": true,
           "gridcolor": "white",
           "linecolor": "white",
           "ticks": "",
           "title": {
            "standoff": 15
           },
           "zerolinecolor": "white",
           "zerolinewidth": 2
          }
         }
        },
        "title": {
         "font": {
          "color": "#4D5663"
         },
         "text": "10 (T=-23~50) (H=0~100) (degree=2) (magic) (shift0_ppmx1) (RMSE y_pred_scale= 166.46)"
        },
        "xaxis": {
         "gridcolor": "#E1E5ED",
         "showgrid": true,
         "tickfont": {
          "color": "#4D5663"
         },
         "title": {
          "font": {
           "color": "#4D5663"
          },
          "text": ""
         },
         "zerolinecolor": "#E1E5ED"
        },
        "yaxis": {
         "gridcolor": "#E1E5ED",
         "showgrid": true,
         "tickfont": {
          "color": "#4D5663"
         },
         "title": {
          "font": {
           "color": "#4D5663"
          },
          "text": "ppm"
         },
         "zerolinecolor": "#E1E5ED"
        }
       }
      },
      "text/html": [
       "<div>                            <div id=\"4822d391-fc0a-4858-9176-78862c382392\" class=\"plotly-graph-div\" style=\"height:525px; width:100%;\"></div>            <script type=\"text/javascript\">                require([\"plotly\"], function(Plotly) {                    window.PLOTLYENV=window.PLOTLYENV || {};\n",
       "                    window.PLOTLYENV.BASE_URL='https://plot.ly';                                    if (document.getElementById(\"4822d391-fc0a-4858-9176-78862c382392\")) {                    Plotly.newPlot(                        \"4822d391-fc0a-4858-9176-78862c382392\",                        [{\"line\": {\"color\": \"rgba(255, 153, 51, 1.0)\", \"dash\": \"solid\", \"shape\": \"linear\", \"width\": 1.3}, \"mode\": \"lines\", \"name\": \"y_true\", \"text\": \"\", \"type\": \"scatter\", \"x\": [0, 1, 2, 3, 4, 5, 6, 7, 8, 9, 10, 11, 12, 13, 14, 15, 16, 17, 18, 19, 20, 21, 22, 23, 24, 25, 26, 27, 28, 29, 30, 31, 32, 33, 34, 35, 36, 37, 38, 39, 40, 41, 42, 43, 44, 45, 46, 47, 48, 49, 50, 51, 52, 53, 54, 55, 56, 57, 58, 59, 60, 61, 62, 63, 64, 65, 66, 67, 68, 69, 70, 71, 72, 73, 74, 75, 76, 77, 78, 79, 80, 81, 82, 83, 84, 85, 86, 87, 88, 89, 90, 91, 92, 93, 94, 95, 96, 97, 98, 99, 100, 101, 102, 103, 104, 105, 106, 107, 108, 109, 110, 111, 112, 113, 114, 115, 116, 117, 118, 119, 120, 121, 122, 123, 124, 125, 126, 127, 128, 129, 130, 131, 132, 133, 134, 135, 136, 137, 138, 139, 140, 141, 142, 143, 144, 145, 146, 147, 148, 149, 150, 151, 152, 153, 154, 155, 156, 157, 158, 159, 160, 161, 162, 163, 164, 165, 166, 167, 168, 169, 170, 171, 172, 173, 174, 175, 176, 177, 178, 179, 180, 181, 182, 183, 184, 185, 186, 187, 188, 189, 190, 191, 192, 193, 194, 195, 196, 197, 198, 199, 200, 201, 202, 203, 204, 205, 206, 207, 208, 209, 210, 211, 212, 213, 214, 215, 216, 217, 218, 219, 220, 221, 222, 223, 224, 225, 226, 227, 228, 229, 230, 231, 232, 233, 234, 235, 236, 237, 238, 239, 240, 241, 242, 243, 244, 245, 246, 247, 248, 249, 250, 251, 252, 253, 254, 255, 256, 257, 258, 259, 260, 261, 262, 263, 264, 265, 266, 267, 268, 269, 270, 271, 272, 273, 274, 275, 276, 277, 278, 279, 280, 281, 282, 283, 284, 285, 286, 287, 288, 289, 290, 291, 292, 293, 294, 295, 296, 297, 298, 299], \"y\": [13912.610396860195, 13917.96909046556, 13914.976204826531, 13920.143258982263, 13920.071308447017, 13920.03853663627, 13927.408901990131, 13922.016339166921, 13926.24145702818, 13915.951993495926, 13430.63836521534, 13438.78287846681, 13434.688189764991, 13433.663903780918, 13432.637027429728, 13435.834361894198, 13430.623312397292, 13429.557054749437, 13436.717125658766, 13431.630015522518, 13588.222930612306, 13583.803363852363, 13594.340344388627, 13588.107202623827, 13582.91772187254, 13593.216590160295, 13590.248626368579, 13581.760185285091, 13601.060636686298, 13582.784380790601, 13685.749606578553, 13690.010074701793, 13718.156603737147, 13707.346419751952, 13695.02129640931, 13700.27508967174, 13697.138567537224, 13697.94423106376, 13692.234696338997, 13681.003968901587, 13763.79033127828, 13755.609853154423, 13760.859089194679, 13767.200187310153, 13759.593094004123, 13751.64814090314, 13752.679001369897, 13750.376877136836, 13752.902466931597, 13755.789405184738, 13925.98209903605, 13914.706817457503, 13905.332084598449, 13912.967285435489, 13916.295415152512, 13922.92077747679, 13922.795001128836, 13920.866563171427, 13921.89998482535, 13922.065544061305, 13410.979052754607, 13424.215543020557, 13417.107061337756, 13427.44068432242, 13416.248558017842, 13412.155729915565, 13409.979485175778, 13407.088037128626, 13428.31073155731, 13409.147019707583, 13568.555539530076, 13572.526826633635, 13557.727402447692, 13560.335433659047, 13561.429577617153, 13560.689156099783, 13563.484710755987, 13563.440690841095, 13555.475600557917, 13557.304770402214, 13661.026495231808, 13643.593370809422, 13656.806404353065, 13664.853262114502, 13645.717524189004, 13654.939520618766, 13654.874698890713, 13659.880640870659, 13638.460842655297, 13655.889369808861, 13725.456905028137, 13706.989688318521, 13734.731626441131, 13695.855010439307, 13711.247306812476, 13715.053140442524, 13726.369410761601, 13723.104531510713, 13724.377308359039, 13715.219679817312, 13909.250619064602, 13902.712206041804, 13910.537979464312, 13912.481912248264, 13903.680165707778, 13910.453262217317, 13908.405606048284, 13910.584349572511, 13914.294346265897, 13921.967818134699, 13416.431292949408, 13410.33185046179, 13413.479450335928, 13408.330183470143, 13412.374313423266, 13407.20466390336, 13408.200355724899, 13413.42804086048, 13412.360554889849, 13395.16371532795, 13533.94728459872, 13544.186174264909, 13559.266147019915, 13534.066089145506, 13549.629672142546, 13548.597734887964, 13535.118115790541, 13541.490939523092, 13534.161774962637, 13546.334978734129, 13655.006956005354, 13638.825980683652, 13637.778503964706, 13626.521241859924, 13634.894535747124, 13638.796821804617, 13648.979444339826, 13642.888657250536, 13638.922433602887, 13643.966921495856, 13711.176774284666, 13701.977157025265, 13701.944863242365, 13704.000414173948, 13706.84851815174, 13717.599110226412, 13716.346019032699, 13701.155357142397, 13708.130523057318, 13699.587984623053, 13896.463036755924, 13919.491669352436, 13912.303716817745, 13901.966159572816, 13903.979700888196, 13916.389263912013, 13904.864490195278, 13893.938564173308, 13910.191518030302, 13916.704748942955, 13409.114700132064, 13430.499886343488, 13397.859910522124, 13412.23071973121, 13411.133419140559, 13414.304783268883, 13404.020376714889, 13406.107571859093, 13416.200040797497, 13391.97235638807, 13545.569544123753, 13548.579420691345, 13545.321342149264, 13558.846781161337, 13545.457468421422, 13553.603516355235, 13546.610630092866, 13536.268390458761, 13549.411846724477, 13542.287409858116, 13622.878066222082, 13640.07922338665, 13632.899995240536, 13637.154814423095, 13647.037145942257, 13625.68221166518, 13642.937595649077, 13631.912462009184, 13634.866669589006, 13632.839845632505, 13701.268656999431, 13704.171174496909, 13703.44784710204, 13694.116153246672, 13682.899708064147, 13710.712917667319, 13700.460061091, 13709.768630831872, 13706.617956016617, 13664.68478833565, 13893.636568887103, 13881.425305861369, 13885.549379004193, 13882.264185673324, 13882.956852298474, 13890.395282545813, 13896.693698834782, 13878.333895119418, 13879.236473700123, 13879.089144078735, 13372.904804593274, 13392.291585802519, 13391.180548172377, 13391.383588447407, 13387.128858471388, 13400.45690827575, 13388.288900919555, 13383.209999511886, 13403.5580474967, 13399.538322827128, 13520.011261128931, 13522.717489208324, 13519.755060102574, 13519.808755151935, 13523.921073525302, 13523.8035763667, 13525.91519417779, 13521.850311627846, 13519.88698586674, 13503.26740570565, 13614.493223954563, 13622.76823749974, 13605.366827397047, 13622.02552660878, 13619.680631488183, 13615.667531898891, 13599.282727292455, 13618.840920460243, 13610.50747313856, 13635.262661034089, 13658.822543723167, 13675.043770108567, 13673.002210483604, 13691.63803642268, 13694.46764959224, 13668.988386512603, 13692.63274264417, 13671.327960207627, 13681.402016670865, 13680.147879724176, 13882.901186904905, 13862.052247646272, 13868.552521186317, 13890.489477982785, 13879.787080265265, 13884.976668892115, 13896.617348493402, 13890.902077647897, 13880.508695818651, 13875.651036078481, 13400.779099312775, 13417.184281783731, 13401.67401155946, 13405.956048648659, 13395.711242091007, 13401.859697589201, 13402.886697479616, 13397.697374491656, 13400.78065170419, 13392.538844246845, 13533.425241463541, 13540.650680966148, 13527.184470306358, 13532.325191791984, 13525.20466262183, 13525.086504214953, 13519.417101295105, 13538.71792019182, 13525.313514545182, 13530.605461364301, 13622.024268933901, 13629.091338691893, 13613.48304378175, 13621.773832669744, 13624.141617301662, 13617.667627932873, 13637.373041626779, 13618.502021861426, 13621.604080998268, 13638.393108648826, 13697.776363829033, 13684.453668889213, 13682.202169198035, 13679.23573503153, 13693.485331729498, 13679.952391216379, 13672.99958198312, 13678.861448633093, 13685.240204609147, 13686.12558147517]}, {\"line\": {\"color\": \"rgba(55, 128, 191, 1.0)\", \"dash\": \"solid\", \"shape\": \"linear\", \"width\": 1.3}, \"mode\": \"lines\", \"name\": \"y_pred\", \"text\": \"\", \"type\": \"scatter\", \"x\": [0, 1, 2, 3, 4, 5, 6, 7, 8, 9, 10, 11, 12, 13, 14, 15, 16, 17, 18, 19, 20, 21, 22, 23, 24, 25, 26, 27, 28, 29, 30, 31, 32, 33, 34, 35, 36, 37, 38, 39, 40, 41, 42, 43, 44, 45, 46, 47, 48, 49, 50, 51, 52, 53, 54, 55, 56, 57, 58, 59, 60, 61, 62, 63, 64, 65, 66, 67, 68, 69, 70, 71, 72, 73, 74, 75, 76, 77, 78, 79, 80, 81, 82, 83, 84, 85, 86, 87, 88, 89, 90, 91, 92, 93, 94, 95, 96, 97, 98, 99, 100, 101, 102, 103, 104, 105, 106, 107, 108, 109, 110, 111, 112, 113, 114, 115, 116, 117, 118, 119, 120, 121, 122, 123, 124, 125, 126, 127, 128, 129, 130, 131, 132, 133, 134, 135, 136, 137, 138, 139, 140, 141, 142, 143, 144, 145, 146, 147, 148, 149, 150, 151, 152, 153, 154, 155, 156, 157, 158, 159, 160, 161, 162, 163, 164, 165, 166, 167, 168, 169, 170, 171, 172, 173, 174, 175, 176, 177, 178, 179, 180, 181, 182, 183, 184, 185, 186, 187, 188, 189, 190, 191, 192, 193, 194, 195, 196, 197, 198, 199, 200, 201, 202, 203, 204, 205, 206, 207, 208, 209, 210, 211, 212, 213, 214, 215, 216, 217, 218, 219, 220, 221, 222, 223, 224, 225, 226, 227, 228, 229, 230, 231, 232, 233, 234, 235, 236, 237, 238, 239, 240, 241, 242, 243, 244, 245, 246, 247, 248, 249, 250, 251, 252, 253, 254, 255, 256, 257, 258, 259, 260, 261, 262, 263, 264, 265, 266, 267, 268, 269, 270, 271, 272, 273, 274, 275, 276, 277, 278, 279, 280, 281, 282, 283, 284, 285, 286, 287, 288, 289, 290, 291, 292, 293, 294, 295, 296, 297, 298, 299], \"y\": [13655.038830245494, 13654.964964119441, 13654.989592756128, 13654.964964119441, 13654.989592756128, 13654.964964119441, 13655.038830245494, 13655.014214798146, 13655.038830245494, 13654.964964119441, 13654.866383626008, 13654.940328888086, 13654.915687062063, 13654.89103864137, 13654.817053811279, 13654.89103864137, 13654.866383626008, 13654.89103864137, 13654.817053811279, 13654.841722015977, 13654.940328888086, 13654.767697618854, 13654.841722015977, 13654.767697618854, 13654.841722015977, 13654.817053811279, 13654.841722015977, 13654.767697618854, 13654.792379012892, 13654.718315046775, 13654.718315046775, 13654.89103864137, 13654.817053811279, 13654.841722015977, 13654.866383626008, 13654.89103864137, 13654.915687062063, 13654.841722015977, 13654.915687062063, 13654.841722015977, 13654.817053811279, 13654.644191728641, 13654.767697618854, 13654.89103864137, 13654.817053811279, 13654.792379012892, 13654.718315046775, 13654.74300963015, 13654.767697618854, 13654.841722015977, 13654.495767036316, 13654.52052097171, 13654.446239381523, 13654.619470766593, 13654.545268312433, 13654.52052097171, 13654.545268312433, 13654.619470766593, 13654.594743209875, 13654.52052097171, 13654.570009058489, 13654.644191728641, 13654.619470766593, 13654.74300963015, 13654.718315046775, 13654.644191728641, 13654.570009058489, 13654.644191728641, 13654.619470766593, 13654.74300963015, 13654.668906096022, 13654.74300963015, 13654.866383626008, 13654.74300963015, 13654.668906096022, 13654.841722015977, 13654.767697618854, 13654.792379012892, 13654.866383626008, 13654.693613868732, 13654.792379012892, 13654.817053811279, 13654.792379012892, 13654.767697618854, 13654.89103864137, 13654.866383626008, 13654.89103864137, 13654.817053811279, 13654.792379012892, 13654.817053811279, 13654.989592756128, 13654.866383626008, 13654.89103864137, 13654.915687062063, 13654.989592756128, 13654.964964119441, 13654.940328888086, 13654.915687062063, 13654.940328888086, 13654.866383626008, 13654.718315046775, 13654.792379012892, 13654.767697618854, 13654.74300963015, 13654.718315046775, 13654.74300963015, 13654.767697618854, 13654.841722015977, 13654.619470766593, 13654.693613868732, 13654.718315046775, 13654.792379012892, 13654.767697618854, 13654.644191728641, 13654.718315046775, 13654.693613868732, 13654.668906096022, 13654.792379012892, 13654.718315046775, 13654.74300963015, 13654.594743209875, 13654.668906096022, 13654.545268312433, 13654.668906096022, 13654.693613868732, 13654.718315046775, 13654.644191728641, 13654.718315046775, 13654.74300963015, 13654.668906096022, 13654.52052097171, 13654.594743209875, 13654.570009058489, 13654.594743209875, 13654.718315046775, 13654.644191728641, 13654.619470766593, 13654.644191728641, 13654.668906096022, 13654.644191728641, 13654.767697618854, 13654.693613868732, 13654.668906096022, 13654.74300963015, 13654.619470766593, 13654.792379012892, 13654.866383626008, 13654.841722015977, 13654.767697618854, 13654.693613868732, 13654.32230483784, 13654.24786497659, 13654.272684858672, 13654.297498145097, 13654.32230483784, 13654.24786497659, 13654.223038499842, 13654.297498145097, 13654.173365762337, 13654.24786497659, 13654.272684858672, 13654.24786497659, 13654.272684858672, 13654.347104935914, 13654.272684858672, 13654.347104935914, 13654.272684858672, 13654.347104935914, 13654.272684858672, 13654.396685348056, 13654.32230483784, 13654.347104935914, 13654.223038499842, 13654.347104935914, 13654.272684858672, 13654.396685348056, 13654.32230483784, 13654.297498145097, 13654.223038499842, 13654.198205428424, 13654.223038499842, 13654.24786497659, 13654.272684858672, 13654.297498145097, 13654.123666646157, 13654.148519501581, 13654.123666646157, 13654.24786497659, 13654.173365762337, 13654.297498145097, 13654.32230483784, 13654.347104935914, 13654.32230483784, 13654.297498145097, 13654.223038499842, 13654.347104935914, 13654.37189843932, 13654.347104935914, 13654.272684858672, 13654.297498145097, 13655.8718316255, 13655.847440397858, 13655.920594298716, 13655.749809536726, 13655.969330593258, 13655.847440397858, 13655.8718316255, 13655.896216259443, 13655.920594298716, 13655.847440397858, 13655.896216259443, 13655.8718316255, 13655.847440397858, 13655.920594298716, 13655.847440397858, 13655.920594298716, 13655.993688848524, 13655.969330593258, 13655.944965743322, 13656.018040509123, 13656.066724046314, 13655.847440397858, 13655.920594298716, 13655.944965743322, 13655.920594298716, 13655.847440397858, 13655.920594298716, 13655.896216259443, 13655.920594298716, 13655.749809536726, 13655.749809536726, 13655.725385334772, 13655.700954538148, 13655.823042574579, 13655.749809536726, 13655.823042574579, 13655.749809536726, 13655.774227144013, 13655.79863815663, 13655.8718316255, 13655.993688848524, 13655.969330593258, 13655.993688848524, 13656.018040509123, 13655.896216259443, 13656.018040509123, 13655.944965743322, 13656.066724046314, 13655.993688848524, 13655.920594298716, 13655.063439098174, 13655.038830245494, 13655.063439098174, 13655.088041356186, 13655.063439098174, 13655.088041356186, 13655.161808562207, 13655.088041356186, 13655.063439098174, 13655.137226088202, 13655.088041356186, 13655.063439098174, 13654.989592756128, 13655.112637019529, 13655.088041356186, 13655.063439098174, 13655.088041356186, 13655.014214798146, 13655.038830245494, 13654.964964119441, 13654.817053811279, 13654.89103864137, 13654.767697618854, 13654.792379012892, 13654.817053811279, 13654.74300963015, 13655.014214798146, 13654.940328888086, 13654.866383626008, 13654.989592756128, 13655.088041356186, 13655.063439098174, 13655.038830245494, 13654.964964119441, 13655.235516416209, 13655.112637019529, 13655.235516416209, 13655.014214798146, 13655.088041356186, 13655.161808562207, 13655.186384441544, 13655.112637019529, 13655.088041356186, 13655.112637019529, 13655.088041356186, 13655.063439098174, 13655.088041356186, 13655.063439098174, 13655.038830245494, 13655.014214798146]}],                        {\"legend\": {\"bgcolor\": \"#F5F6F9\", \"font\": {\"color\": \"#4D5663\"}}, \"paper_bgcolor\": \"#F5F6F9\", \"plot_bgcolor\": \"#F5F6F9\", \"template\": {\"data\": {\"bar\": [{\"error_x\": {\"color\": \"#2a3f5f\"}, \"error_y\": {\"color\": \"#2a3f5f\"}, \"marker\": {\"line\": {\"color\": \"#E5ECF6\", \"width\": 0.5}}, \"type\": \"bar\"}], \"barpolar\": [{\"marker\": {\"line\": {\"color\": \"#E5ECF6\", \"width\": 0.5}}, \"type\": \"barpolar\"}], \"carpet\": [{\"aaxis\": {\"endlinecolor\": \"#2a3f5f\", \"gridcolor\": \"white\", \"linecolor\": \"white\", \"minorgridcolor\": \"white\", \"startlinecolor\": \"#2a3f5f\"}, \"baxis\": {\"endlinecolor\": \"#2a3f5f\", \"gridcolor\": \"white\", \"linecolor\": \"white\", \"minorgridcolor\": \"white\", \"startlinecolor\": \"#2a3f5f\"}, \"type\": \"carpet\"}], \"choropleth\": [{\"colorbar\": {\"outlinewidth\": 0, \"ticks\": \"\"}, \"type\": \"choropleth\"}], \"contour\": [{\"colorbar\": {\"outlinewidth\": 0, \"ticks\": \"\"}, \"colorscale\": [[0.0, \"#0d0887\"], [0.1111111111111111, \"#46039f\"], [0.2222222222222222, \"#7201a8\"], [0.3333333333333333, \"#9c179e\"], [0.4444444444444444, \"#bd3786\"], [0.5555555555555556, \"#d8576b\"], [0.6666666666666666, \"#ed7953\"], [0.7777777777777778, \"#fb9f3a\"], [0.8888888888888888, \"#fdca26\"], [1.0, \"#f0f921\"]], \"type\": \"contour\"}], \"contourcarpet\": [{\"colorbar\": {\"outlinewidth\": 0, \"ticks\": \"\"}, \"type\": \"contourcarpet\"}], \"heatmap\": [{\"colorbar\": {\"outlinewidth\": 0, \"ticks\": \"\"}, \"colorscale\": [[0.0, \"#0d0887\"], [0.1111111111111111, \"#46039f\"], [0.2222222222222222, \"#7201a8\"], [0.3333333333333333, \"#9c179e\"], [0.4444444444444444, \"#bd3786\"], [0.5555555555555556, \"#d8576b\"], [0.6666666666666666, \"#ed7953\"], [0.7777777777777778, \"#fb9f3a\"], [0.8888888888888888, \"#fdca26\"], [1.0, \"#f0f921\"]], \"type\": \"heatmap\"}], \"heatmapgl\": [{\"colorbar\": {\"outlinewidth\": 0, \"ticks\": \"\"}, \"colorscale\": [[0.0, \"#0d0887\"], [0.1111111111111111, \"#46039f\"], [0.2222222222222222, \"#7201a8\"], [0.3333333333333333, \"#9c179e\"], [0.4444444444444444, \"#bd3786\"], [0.5555555555555556, \"#d8576b\"], [0.6666666666666666, \"#ed7953\"], [0.7777777777777778, \"#fb9f3a\"], [0.8888888888888888, \"#fdca26\"], [1.0, \"#f0f921\"]], \"type\": \"heatmapgl\"}], \"histogram\": [{\"marker\": {\"colorbar\": {\"outlinewidth\": 0, \"ticks\": \"\"}}, \"type\": \"histogram\"}], \"histogram2d\": [{\"colorbar\": {\"outlinewidth\": 0, \"ticks\": \"\"}, \"colorscale\": [[0.0, \"#0d0887\"], [0.1111111111111111, \"#46039f\"], [0.2222222222222222, \"#7201a8\"], [0.3333333333333333, \"#9c179e\"], [0.4444444444444444, \"#bd3786\"], [0.5555555555555556, \"#d8576b\"], [0.6666666666666666, \"#ed7953\"], [0.7777777777777778, \"#fb9f3a\"], [0.8888888888888888, \"#fdca26\"], [1.0, \"#f0f921\"]], \"type\": \"histogram2d\"}], \"histogram2dcontour\": [{\"colorbar\": {\"outlinewidth\": 0, \"ticks\": \"\"}, \"colorscale\": [[0.0, \"#0d0887\"], [0.1111111111111111, \"#46039f\"], [0.2222222222222222, \"#7201a8\"], [0.3333333333333333, \"#9c179e\"], [0.4444444444444444, \"#bd3786\"], [0.5555555555555556, \"#d8576b\"], [0.6666666666666666, \"#ed7953\"], [0.7777777777777778, \"#fb9f3a\"], [0.8888888888888888, \"#fdca26\"], [1.0, \"#f0f921\"]], \"type\": \"histogram2dcontour\"}], \"mesh3d\": [{\"colorbar\": {\"outlinewidth\": 0, \"ticks\": \"\"}, \"type\": \"mesh3d\"}], \"parcoords\": [{\"line\": {\"colorbar\": {\"outlinewidth\": 0, \"ticks\": \"\"}}, \"type\": \"parcoords\"}], \"pie\": [{\"automargin\": true, \"type\": \"pie\"}], \"scatter\": [{\"marker\": {\"colorbar\": {\"outlinewidth\": 0, \"ticks\": \"\"}}, \"type\": \"scatter\"}], \"scatter3d\": [{\"line\": {\"colorbar\": {\"outlinewidth\": 0, \"ticks\": \"\"}}, \"marker\": {\"colorbar\": {\"outlinewidth\": 0, \"ticks\": \"\"}}, \"type\": \"scatter3d\"}], \"scattercarpet\": [{\"marker\": {\"colorbar\": {\"outlinewidth\": 0, \"ticks\": \"\"}}, \"type\": \"scattercarpet\"}], \"scattergeo\": [{\"marker\": {\"colorbar\": {\"outlinewidth\": 0, \"ticks\": \"\"}}, \"type\": \"scattergeo\"}], \"scattergl\": [{\"marker\": {\"colorbar\": {\"outlinewidth\": 0, \"ticks\": \"\"}}, \"type\": \"scattergl\"}], \"scattermapbox\": [{\"marker\": {\"colorbar\": {\"outlinewidth\": 0, \"ticks\": \"\"}}, \"type\": \"scattermapbox\"}], \"scatterpolar\": [{\"marker\": {\"colorbar\": {\"outlinewidth\": 0, \"ticks\": \"\"}}, \"type\": \"scatterpolar\"}], \"scatterpolargl\": [{\"marker\": {\"colorbar\": {\"outlinewidth\": 0, \"ticks\": \"\"}}, \"type\": \"scatterpolargl\"}], \"scatterternary\": [{\"marker\": {\"colorbar\": {\"outlinewidth\": 0, \"ticks\": \"\"}}, \"type\": \"scatterternary\"}], \"surface\": [{\"colorbar\": {\"outlinewidth\": 0, \"ticks\": \"\"}, \"colorscale\": [[0.0, \"#0d0887\"], [0.1111111111111111, \"#46039f\"], [0.2222222222222222, \"#7201a8\"], [0.3333333333333333, \"#9c179e\"], [0.4444444444444444, \"#bd3786\"], [0.5555555555555556, \"#d8576b\"], [0.6666666666666666, \"#ed7953\"], [0.7777777777777778, \"#fb9f3a\"], [0.8888888888888888, \"#fdca26\"], [1.0, \"#f0f921\"]], \"type\": \"surface\"}], \"table\": [{\"cells\": {\"fill\": {\"color\": \"#EBF0F8\"}, \"line\": {\"color\": \"white\"}}, \"header\": {\"fill\": {\"color\": \"#C8D4E3\"}, \"line\": {\"color\": \"white\"}}, \"type\": \"table\"}]}, \"layout\": {\"annotationdefaults\": {\"arrowcolor\": \"#2a3f5f\", \"arrowhead\": 0, \"arrowwidth\": 1}, \"autotypenumbers\": \"strict\", \"coloraxis\": {\"colorbar\": {\"outlinewidth\": 0, \"ticks\": \"\"}}, \"colorscale\": {\"diverging\": [[0, \"#8e0152\"], [0.1, \"#c51b7d\"], [0.2, \"#de77ae\"], [0.3, \"#f1b6da\"], [0.4, \"#fde0ef\"], [0.5, \"#f7f7f7\"], [0.6, \"#e6f5d0\"], [0.7, \"#b8e186\"], [0.8, \"#7fbc41\"], [0.9, \"#4d9221\"], [1, \"#276419\"]], \"sequential\": [[0.0, \"#0d0887\"], [0.1111111111111111, \"#46039f\"], [0.2222222222222222, \"#7201a8\"], [0.3333333333333333, \"#9c179e\"], [0.4444444444444444, \"#bd3786\"], [0.5555555555555556, \"#d8576b\"], [0.6666666666666666, \"#ed7953\"], [0.7777777777777778, \"#fb9f3a\"], [0.8888888888888888, \"#fdca26\"], [1.0, \"#f0f921\"]], \"sequentialminus\": [[0.0, \"#0d0887\"], [0.1111111111111111, \"#46039f\"], [0.2222222222222222, \"#7201a8\"], [0.3333333333333333, \"#9c179e\"], [0.4444444444444444, \"#bd3786\"], [0.5555555555555556, \"#d8576b\"], [0.6666666666666666, \"#ed7953\"], [0.7777777777777778, \"#fb9f3a\"], [0.8888888888888888, \"#fdca26\"], [1.0, \"#f0f921\"]]}, \"colorway\": [\"#636efa\", \"#EF553B\", \"#00cc96\", \"#ab63fa\", \"#FFA15A\", \"#19d3f3\", \"#FF6692\", \"#B6E880\", \"#FF97FF\", \"#FECB52\"], \"font\": {\"color\": \"#2a3f5f\"}, \"geo\": {\"bgcolor\": \"white\", \"lakecolor\": \"white\", \"landcolor\": \"#E5ECF6\", \"showlakes\": true, \"showland\": true, \"subunitcolor\": \"white\"}, \"hoverlabel\": {\"align\": \"left\"}, \"hovermode\": \"closest\", \"mapbox\": {\"style\": \"light\"}, \"paper_bgcolor\": \"white\", \"plot_bgcolor\": \"#E5ECF6\", \"polar\": {\"angularaxis\": {\"gridcolor\": \"white\", \"linecolor\": \"white\", \"ticks\": \"\"}, \"bgcolor\": \"#E5ECF6\", \"radialaxis\": {\"gridcolor\": \"white\", \"linecolor\": \"white\", \"ticks\": \"\"}}, \"scene\": {\"xaxis\": {\"backgroundcolor\": \"#E5ECF6\", \"gridcolor\": \"white\", \"gridwidth\": 2, \"linecolor\": \"white\", \"showbackground\": true, \"ticks\": \"\", \"zerolinecolor\": \"white\"}, \"yaxis\": {\"backgroundcolor\": \"#E5ECF6\", \"gridcolor\": \"white\", \"gridwidth\": 2, \"linecolor\": \"white\", \"showbackground\": true, \"ticks\": \"\", \"zerolinecolor\": \"white\"}, \"zaxis\": {\"backgroundcolor\": \"#E5ECF6\", \"gridcolor\": \"white\", \"gridwidth\": 2, \"linecolor\": \"white\", \"showbackground\": true, \"ticks\": \"\", \"zerolinecolor\": \"white\"}}, \"shapedefaults\": {\"line\": {\"color\": \"#2a3f5f\"}}, \"ternary\": {\"aaxis\": {\"gridcolor\": \"white\", \"linecolor\": \"white\", \"ticks\": \"\"}, \"baxis\": {\"gridcolor\": \"white\", \"linecolor\": \"white\", \"ticks\": \"\"}, \"bgcolor\": \"#E5ECF6\", \"caxis\": {\"gridcolor\": \"white\", \"linecolor\": \"white\", \"ticks\": \"\"}}, \"title\": {\"x\": 0.05}, \"xaxis\": {\"automargin\": true, \"gridcolor\": \"white\", \"linecolor\": \"white\", \"ticks\": \"\", \"title\": {\"standoff\": 15}, \"zerolinecolor\": \"white\", \"zerolinewidth\": 2}, \"yaxis\": {\"automargin\": true, \"gridcolor\": \"white\", \"linecolor\": \"white\", \"ticks\": \"\", \"title\": {\"standoff\": 15}, \"zerolinecolor\": \"white\", \"zerolinewidth\": 2}}}, \"title\": {\"font\": {\"color\": \"#4D5663\"}, \"text\": \"10 (T=-23~50) (H=0~100) (degree=2) (magic) (shift0_ppmx1) (RMSE y_pred_scale= 166.46)\"}, \"xaxis\": {\"gridcolor\": \"#E1E5ED\", \"showgrid\": true, \"tickfont\": {\"color\": \"#4D5663\"}, \"title\": {\"font\": {\"color\": \"#4D5663\"}, \"text\": \"\"}, \"zerolinecolor\": \"#E1E5ED\"}, \"yaxis\": {\"gridcolor\": \"#E1E5ED\", \"showgrid\": true, \"tickfont\": {\"color\": \"#4D5663\"}, \"title\": {\"font\": {\"color\": \"#4D5663\"}, \"text\": \"ppm\"}, \"zerolinecolor\": \"#E1E5ED\"}},                        {\"showLink\": true, \"linkText\": \"Export to plot.ly\", \"plotlyServerURL\": \"https://plot.ly\", \"responsive\": true}                    ).then(function(){\n",
       "                            \n",
       "var gd = document.getElementById('4822d391-fc0a-4858-9176-78862c382392');\n",
       "var x = new MutationObserver(function (mutations, observer) {{\n",
       "        var display = window.getComputedStyle(gd).display;\n",
       "        if (!display || display === 'none') {{\n",
       "            console.log([gd, 'removed!']);\n",
       "            Plotly.purge(gd);\n",
       "            observer.disconnect();\n",
       "        }}\n",
       "}});\n",
       "\n",
       "// Listen for the removal of the full notebook cells\n",
       "var notebookContainer = gd.closest('#notebook-container');\n",
       "if (notebookContainer) {{\n",
       "    x.observe(notebookContainer, {childList: true});\n",
       "}}\n",
       "\n",
       "// Listen for the clearing of the current output cell\n",
       "var outputEl = gd.closest('.output');\n",
       "if (outputEl) {{\n",
       "    x.observe(outputEl, {childList: true});\n",
       "}}\n",
       "\n",
       "                        })                };                });            </script>        </div>"
      ]
     },
     "metadata": {},
     "output_type": "display_data"
    },
    {
     "data": {
      "application/vnd.plotly.v1+json": {
       "config": {
        "linkText": "Export to plot.ly",
        "plotlyServerURL": "https://plot.ly",
        "showLink": true
       },
       "data": [
        {
         "line": {
          "color": "rgba(255, 153, 51, 1.0)",
          "dash": "solid",
          "shape": "linear",
          "width": 1.3
         },
         "mode": "lines",
         "name": "y_true",
         "text": "",
         "type": "scatter",
         "x": [
          0,
          1,
          2,
          3,
          4,
          5,
          6,
          7,
          8,
          9,
          10,
          11,
          12,
          13,
          14,
          15,
          16,
          17,
          18,
          19,
          20,
          21,
          22,
          23,
          24,
          25,
          26,
          27,
          28,
          29,
          30,
          31,
          32,
          33,
          34,
          35,
          36,
          37,
          38,
          39,
          40,
          41,
          42,
          43,
          44,
          45,
          46,
          47,
          48,
          49,
          50,
          51,
          52,
          53,
          54,
          55,
          56,
          57,
          58,
          59,
          60,
          61,
          62,
          63,
          64,
          65,
          66,
          67,
          68,
          69,
          70,
          71,
          72,
          73,
          74,
          75,
          76,
          77,
          78,
          79,
          80,
          81,
          82,
          83,
          84,
          85,
          86,
          87,
          88,
          89,
          90,
          91,
          92,
          93,
          94,
          95,
          96,
          97,
          98,
          99,
          100,
          101,
          102,
          103,
          104,
          105,
          106,
          107,
          108,
          109,
          110,
          111,
          112,
          113,
          114,
          115,
          116,
          117,
          118,
          119,
          120,
          121,
          122,
          123,
          124,
          125,
          126,
          127,
          128,
          129,
          130,
          131,
          132,
          133,
          134,
          135,
          136,
          137,
          138,
          139,
          140,
          141,
          142,
          143,
          144,
          145,
          146,
          147,
          148,
          149,
          150,
          151,
          152,
          153,
          154,
          155,
          156,
          157,
          158,
          159,
          160,
          161,
          162,
          163,
          164,
          165,
          166,
          167,
          168,
          169,
          170,
          171,
          172,
          173,
          174,
          175,
          176,
          177,
          178,
          179,
          180,
          181,
          182,
          183,
          184,
          185,
          186,
          187,
          188,
          189,
          190,
          191,
          192,
          193,
          194,
          195,
          196,
          197,
          198,
          199,
          200,
          201,
          202,
          203,
          204,
          205,
          206,
          207,
          208,
          209,
          210,
          211,
          212,
          213,
          214,
          215,
          216,
          217,
          218,
          219,
          220,
          221,
          222,
          223,
          224,
          225,
          226,
          227,
          228,
          229,
          230,
          231,
          232,
          233,
          234,
          235,
          236,
          237,
          238,
          239,
          240,
          241,
          242,
          243,
          244,
          245,
          246,
          247,
          248,
          249,
          250,
          251,
          252,
          253,
          254,
          255,
          256,
          257,
          258,
          259,
          260,
          261,
          262,
          263,
          264,
          265,
          266,
          267,
          268,
          269,
          270,
          271,
          272,
          273,
          274,
          275,
          276,
          277,
          278,
          279,
          280,
          281,
          282,
          283,
          284,
          285,
          286,
          287,
          288,
          289,
          290,
          291,
          292,
          293,
          294,
          295,
          296,
          297,
          298,
          299
         ],
         "y": [
          13912.610396860195,
          13917.96909046556,
          13914.976204826531,
          13920.143258982263,
          13920.071308447017,
          13920.03853663627,
          13927.408901990131,
          13922.016339166921,
          13926.24145702818,
          13915.951993495926,
          13430.63836521534,
          13438.78287846681,
          13434.688189764991,
          13433.663903780918,
          13432.637027429728,
          13435.834361894198,
          13430.623312397292,
          13429.557054749437,
          13436.717125658766,
          13431.630015522518,
          13588.222930612306,
          13583.803363852363,
          13594.340344388627,
          13588.107202623827,
          13582.91772187254,
          13593.216590160295,
          13590.248626368579,
          13581.760185285091,
          13601.060636686298,
          13582.784380790601,
          13685.749606578553,
          13690.010074701793,
          13718.156603737147,
          13707.346419751952,
          13695.02129640931,
          13700.27508967174,
          13697.138567537224,
          13697.94423106376,
          13692.234696338997,
          13681.003968901587,
          13763.79033127828,
          13755.609853154423,
          13760.859089194679,
          13767.200187310153,
          13759.593094004123,
          13751.64814090314,
          13752.679001369897,
          13750.376877136836,
          13752.902466931597,
          13755.789405184738,
          13925.98209903605,
          13914.706817457503,
          13905.332084598449,
          13912.967285435489,
          13916.295415152512,
          13922.92077747679,
          13922.795001128836,
          13920.866563171427,
          13921.89998482535,
          13922.065544061305,
          13410.979052754607,
          13424.215543020557,
          13417.107061337756,
          13427.44068432242,
          13416.248558017842,
          13412.155729915565,
          13409.979485175778,
          13407.088037128626,
          13428.31073155731,
          13409.147019707583,
          13568.555539530076,
          13572.526826633635,
          13557.727402447692,
          13560.335433659047,
          13561.429577617153,
          13560.689156099783,
          13563.484710755987,
          13563.440690841095,
          13555.475600557917,
          13557.304770402214,
          13661.026495231808,
          13643.593370809422,
          13656.806404353065,
          13664.853262114502,
          13645.717524189004,
          13654.939520618766,
          13654.874698890713,
          13659.880640870659,
          13638.460842655297,
          13655.889369808861,
          13725.456905028137,
          13706.989688318521,
          13734.731626441131,
          13695.855010439307,
          13711.247306812476,
          13715.053140442524,
          13726.369410761601,
          13723.104531510713,
          13724.377308359039,
          13715.219679817312,
          13909.250619064602,
          13902.712206041804,
          13910.537979464312,
          13912.481912248264,
          13903.680165707778,
          13910.453262217317,
          13908.405606048284,
          13910.584349572511,
          13914.294346265897,
          13921.967818134699,
          13416.431292949408,
          13410.33185046179,
          13413.479450335928,
          13408.330183470143,
          13412.374313423266,
          13407.20466390336,
          13408.200355724899,
          13413.42804086048,
          13412.360554889849,
          13395.16371532795,
          13533.94728459872,
          13544.186174264909,
          13559.266147019915,
          13534.066089145506,
          13549.629672142546,
          13548.597734887964,
          13535.118115790541,
          13541.490939523092,
          13534.161774962637,
          13546.334978734129,
          13655.006956005354,
          13638.825980683652,
          13637.778503964706,
          13626.521241859924,
          13634.894535747124,
          13638.796821804617,
          13648.979444339826,
          13642.888657250536,
          13638.922433602887,
          13643.966921495856,
          13711.176774284666,
          13701.977157025265,
          13701.944863242365,
          13704.000414173948,
          13706.84851815174,
          13717.599110226412,
          13716.346019032699,
          13701.155357142397,
          13708.130523057318,
          13699.587984623053,
          13896.463036755924,
          13919.491669352436,
          13912.303716817745,
          13901.966159572816,
          13903.979700888196,
          13916.389263912013,
          13904.864490195278,
          13893.938564173308,
          13910.191518030302,
          13916.704748942955,
          13409.114700132064,
          13430.499886343488,
          13397.859910522124,
          13412.23071973121,
          13411.133419140559,
          13414.304783268883,
          13404.020376714889,
          13406.107571859093,
          13416.200040797497,
          13391.97235638807,
          13545.569544123753,
          13548.579420691345,
          13545.321342149264,
          13558.846781161337,
          13545.457468421422,
          13553.603516355235,
          13546.610630092866,
          13536.268390458761,
          13549.411846724477,
          13542.287409858116,
          13622.878066222082,
          13640.07922338665,
          13632.899995240536,
          13637.154814423095,
          13647.037145942257,
          13625.68221166518,
          13642.937595649077,
          13631.912462009184,
          13634.866669589006,
          13632.839845632505,
          13701.268656999431,
          13704.171174496909,
          13703.44784710204,
          13694.116153246672,
          13682.899708064147,
          13710.712917667319,
          13700.460061091,
          13709.768630831872,
          13706.617956016617,
          13664.68478833565,
          13893.636568887103,
          13881.425305861369,
          13885.549379004193,
          13882.264185673324,
          13882.956852298474,
          13890.395282545813,
          13896.693698834782,
          13878.333895119418,
          13879.236473700123,
          13879.089144078735,
          13372.904804593274,
          13392.291585802519,
          13391.180548172377,
          13391.383588447407,
          13387.128858471388,
          13400.45690827575,
          13388.288900919555,
          13383.209999511886,
          13403.5580474967,
          13399.538322827128,
          13520.011261128931,
          13522.717489208324,
          13519.755060102574,
          13519.808755151935,
          13523.921073525302,
          13523.8035763667,
          13525.91519417779,
          13521.850311627846,
          13519.88698586674,
          13503.26740570565,
          13614.493223954563,
          13622.76823749974,
          13605.366827397047,
          13622.02552660878,
          13619.680631488183,
          13615.667531898891,
          13599.282727292455,
          13618.840920460243,
          13610.50747313856,
          13635.262661034089,
          13658.822543723167,
          13675.043770108567,
          13673.002210483604,
          13691.63803642268,
          13694.46764959224,
          13668.988386512603,
          13692.63274264417,
          13671.327960207627,
          13681.402016670865,
          13680.147879724176,
          13882.901186904905,
          13862.052247646272,
          13868.552521186317,
          13890.489477982785,
          13879.787080265265,
          13884.976668892115,
          13896.617348493402,
          13890.902077647897,
          13880.508695818651,
          13875.651036078481,
          13400.779099312775,
          13417.184281783731,
          13401.67401155946,
          13405.956048648659,
          13395.711242091007,
          13401.859697589201,
          13402.886697479616,
          13397.697374491656,
          13400.78065170419,
          13392.538844246845,
          13533.425241463541,
          13540.650680966148,
          13527.184470306358,
          13532.325191791984,
          13525.20466262183,
          13525.086504214953,
          13519.417101295105,
          13538.71792019182,
          13525.313514545182,
          13530.605461364301,
          13622.024268933901,
          13629.091338691893,
          13613.48304378175,
          13621.773832669744,
          13624.141617301662,
          13617.667627932873,
          13637.373041626779,
          13618.502021861426,
          13621.604080998268,
          13638.393108648826,
          13697.776363829033,
          13684.453668889213,
          13682.202169198035,
          13679.23573503153,
          13693.485331729498,
          13679.952391216379,
          13672.99958198312,
          13678.861448633093,
          13685.240204609147,
          13686.12558147517
         ]
        },
        {
         "line": {
          "color": "rgba(55, 128, 191, 1.0)",
          "dash": "solid",
          "shape": "linear",
          "width": 1.3
         },
         "mode": "lines",
         "name": "y_pred",
         "text": "",
         "type": "scatter",
         "x": [
          0,
          1,
          2,
          3,
          4,
          5,
          6,
          7,
          8,
          9,
          10,
          11,
          12,
          13,
          14,
          15,
          16,
          17,
          18,
          19,
          20,
          21,
          22,
          23,
          24,
          25,
          26,
          27,
          28,
          29,
          30,
          31,
          32,
          33,
          34,
          35,
          36,
          37,
          38,
          39,
          40,
          41,
          42,
          43,
          44,
          45,
          46,
          47,
          48,
          49,
          50,
          51,
          52,
          53,
          54,
          55,
          56,
          57,
          58,
          59,
          60,
          61,
          62,
          63,
          64,
          65,
          66,
          67,
          68,
          69,
          70,
          71,
          72,
          73,
          74,
          75,
          76,
          77,
          78,
          79,
          80,
          81,
          82,
          83,
          84,
          85,
          86,
          87,
          88,
          89,
          90,
          91,
          92,
          93,
          94,
          95,
          96,
          97,
          98,
          99,
          100,
          101,
          102,
          103,
          104,
          105,
          106,
          107,
          108,
          109,
          110,
          111,
          112,
          113,
          114,
          115,
          116,
          117,
          118,
          119,
          120,
          121,
          122,
          123,
          124,
          125,
          126,
          127,
          128,
          129,
          130,
          131,
          132,
          133,
          134,
          135,
          136,
          137,
          138,
          139,
          140,
          141,
          142,
          143,
          144,
          145,
          146,
          147,
          148,
          149,
          150,
          151,
          152,
          153,
          154,
          155,
          156,
          157,
          158,
          159,
          160,
          161,
          162,
          163,
          164,
          165,
          166,
          167,
          168,
          169,
          170,
          171,
          172,
          173,
          174,
          175,
          176,
          177,
          178,
          179,
          180,
          181,
          182,
          183,
          184,
          185,
          186,
          187,
          188,
          189,
          190,
          191,
          192,
          193,
          194,
          195,
          196,
          197,
          198,
          199,
          200,
          201,
          202,
          203,
          204,
          205,
          206,
          207,
          208,
          209,
          210,
          211,
          212,
          213,
          214,
          215,
          216,
          217,
          218,
          219,
          220,
          221,
          222,
          223,
          224,
          225,
          226,
          227,
          228,
          229,
          230,
          231,
          232,
          233,
          234,
          235,
          236,
          237,
          238,
          239,
          240,
          241,
          242,
          243,
          244,
          245,
          246,
          247,
          248,
          249,
          250,
          251,
          252,
          253,
          254,
          255,
          256,
          257,
          258,
          259,
          260,
          261,
          262,
          263,
          264,
          265,
          266,
          267,
          268,
          269,
          270,
          271,
          272,
          273,
          274,
          275,
          276,
          277,
          278,
          279,
          280,
          281,
          282,
          283,
          284,
          285,
          286,
          287,
          288,
          289,
          290,
          291,
          292,
          293,
          294,
          295,
          296,
          297,
          298,
          299
         ],
         "y": [
          13542.778421298905,
          13542.671709778135,
          13542.707287283132,
          13542.671709778135,
          13542.707287283132,
          13542.671709778135,
          13542.778421298905,
          13542.742857790055,
          13542.778421298905,
          13542.671709778135,
          13542.529329777388,
          13542.63612527506,
          13542.600533773912,
          13542.564935274686,
          13542.458097788563,
          13542.564935274686,
          13542.529329777388,
          13542.564935274686,
          13542.458097788563,
          13542.493717282012,
          13542.63612527506,
          13542.386837808852,
          13542.493717282012,
          13542.386837808852,
          13542.493717282012,
          13542.458097788563,
          13542.493717282012,
          13542.386837808852,
          13542.422471298452,
          13542.315549835426,
          13542.315549835426,
          13542.564935274686,
          13542.458097788563,
          13542.493717282012,
          13542.529329777388,
          13542.564935274686,
          13542.600533773912,
          13542.493717282012,
          13542.600533773912,
          13542.493717282012,
          13542.458097788563,
          13542.208565389725,
          13542.386837808852,
          13542.564935274686,
          13542.458097788563,
          13542.422471298452,
          13542.315549835426,
          13542.351197321177,
          13542.386837808852,
          13542.493717282012,
          13541.994407550288,
          13542.030118018716,
          13541.922965619207,
          13542.172889911673,
          13542.065821489068,
          13542.030118018716,
          13542.065821489068,
          13542.172889911673,
          13542.137207435546,
          13542.030118018716,
          13542.101517961344,
          13542.208565389725,
          13542.172889911673,
          13542.351197321177,
          13542.315549835426,
          13542.208565389725,
          13542.101517961344,
          13542.208565389725,
          13542.172889911673,
          13542.351197321177,
          13542.2442338697,
          13542.351197321177,
          13542.529329777388,
          13542.351197321177,
          13542.2442338697,
          13542.493717282012,
          13542.386837808852,
          13542.422471298452,
          13542.529329777388,
          13542.279895351601,
          13542.422471298452,
          13542.458097788563,
          13542.422471298452,
          13542.386837808852,
          13542.564935274686,
          13542.529329777388,
          13542.564935274686,
          13542.458097788563,
          13542.422471298452,
          13542.458097788563,
          13542.707287283132,
          13542.529329777388,
          13542.564935274686,
          13542.600533773912,
          13542.707287283132,
          13542.671709778135,
          13542.63612527506,
          13542.600533773912,
          13542.63612527506,
          13542.529329777388,
          13542.315549835426,
          13542.422471298452,
          13542.386837808852,
          13542.351197321177,
          13542.315549835426,
          13542.351197321177,
          13542.386837808852,
          13542.493717282012,
          13542.172889911673,
          13542.279895351601,
          13542.315549835426,
          13542.422471298452,
          13542.386837808852,
          13542.208565389725,
          13542.315549835426,
          13542.279895351601,
          13542.2442338697,
          13542.422471298452,
          13542.315549835426,
          13542.351197321177,
          13542.137207435546,
          13542.2442338697,
          13542.065821489068,
          13542.2442338697,
          13542.279895351601,
          13542.315549835426,
          13542.208565389725,
          13542.315549835426,
          13542.351197321177,
          13542.2442338697,
          13542.030118018716,
          13542.137207435546,
          13542.101517961344,
          13542.137207435546,
          13542.315549835426,
          13542.208565389725,
          13542.172889911673,
          13542.208565389725,
          13542.2442338697,
          13542.208565389725,
          13542.386837808852,
          13542.279895351601,
          13542.2442338697,
          13542.351197321177,
          13542.172889911673,
          13542.422471298452,
          13542.529329777388,
          13542.493717282012,
          13542.386837808852,
          13542.279895351601,
          13541.744238325191,
          13541.636917973301,
          13541.672698422479,
          13541.708471872162,
          13541.744238325191,
          13541.636917973301,
          13541.601130526045,
          13541.708471872162,
          13541.529534637311,
          13541.636917973301,
          13541.672698422479,
          13541.636917973301,
          13541.672698422479,
          13541.779997780144,
          13541.672698422479,
          13541.779997780144,
          13541.672698422479,
          13541.779997780144,
          13541.672698422479,
          13541.851495695826,
          13541.744238325191,
          13541.779997780144,
          13541.601130526045,
          13541.779997780144,
          13541.672698422479,
          13541.851495695826,
          13541.744238325191,
          13541.708471872162,
          13541.601130526045,
          13541.565336080715,
          13541.601130526045,
          13541.636917973301,
          13541.672698422479,
          13541.708471872162,
          13541.457910756277,
          13541.493726195831,
          13541.457910756277,
          13541.636917973301,
          13541.529534637311,
          13541.708471872162,
          13541.744238325191,
          13541.779997780144,
          13541.744238325191,
          13541.708471872162,
          13541.601130526045,
          13541.779997780144,
          13541.815750237023,
          13541.779997780144,
          13541.672698422479,
          13541.708471872162,
          13543.983416742194,
          13543.948091169306,
          13544.054046896554,
          13543.806718891388,
          13544.12464905861,
          13543.948091169306,
          13543.983416742194,
          13544.018735318412,
          13544.054046896554,
          13543.948091169306,
          13544.018735318412,
          13543.983416742194,
          13543.948091169306,
          13544.054046896554,
          13543.948091169306,
          13544.054046896554,
          13544.159939642526,
          13544.12464905861,
          13544.08935147662,
          13544.195223228367,
          13544.265769405823,
          13543.948091169306,
          13544.054046896554,
          13544.08935147662,
          13544.054046896554,
          13543.948091169306,
          13544.054046896554,
          13544.018735318412,
          13544.054046896554,
          13543.806718891388,
          13543.806718891388,
          13543.77135832672,
          13543.735990763977,
          13543.91275859694,
          13543.806718891388,
          13543.91275859694,
          13543.806718891388,
          13543.84207245798,
          13543.877419026498,
          13543.983416742194,
          13544.159939642526,
          13544.12464905861,
          13544.159939642526,
          13544.195223228367,
          13544.018735318412,
          13544.195223228367,
          13544.08935147662,
          13544.265769405823,
          13544.159939642526,
          13544.054046896554,
          13542.813977809677,
          13542.778421298905,
          13542.813977809677,
          13542.849527322376,
          13542.813977809677,
          13542.849527322376,
          13542.956133872018,
          13542.849527322376,
          13542.813977809677,
          13542.920605353545,
          13542.849527322376,
          13542.813977809677,
          13542.707287283132,
          13542.885069836999,
          13542.849527322376,
          13542.813977809677,
          13542.849527322376,
          13542.742857790055,
          13542.778421298905,
          13542.671709778135,
          13542.458097788563,
          13542.564935274686,
          13542.386837808852,
          13542.422471298452,
          13542.458097788563,
          13542.351197321177,
          13542.742857790055,
          13542.63612527506,
          13542.529329777388,
          13542.707287283132,
          13542.849527322376,
          13542.813977809677,
          13542.778421298905,
          13542.671709778135,
          13543.062677438984,
          13542.885069836999,
          13543.062677438984,
          13542.742857790055,
          13542.849527322376,
          13542.956133872018,
          13542.991655392416,
          13542.885069836999,
          13542.849527322376,
          13542.885069836999,
          13542.849527322376,
          13542.813977809677,
          13542.849527322376,
          13542.813977809677,
          13542.778421298905,
          13542.742857790055
         ]
        }
       ],
       "layout": {
        "legend": {
         "bgcolor": "#F5F6F9",
         "font": {
          "color": "#4D5663"
         }
        },
        "paper_bgcolor": "#F5F6F9",
        "plot_bgcolor": "#F5F6F9",
        "template": {
         "data": {
          "bar": [
           {
            "error_x": {
             "color": "#2a3f5f"
            },
            "error_y": {
             "color": "#2a3f5f"
            },
            "marker": {
             "line": {
              "color": "#E5ECF6",
              "width": 0.5
             }
            },
            "type": "bar"
           }
          ],
          "barpolar": [
           {
            "marker": {
             "line": {
              "color": "#E5ECF6",
              "width": 0.5
             }
            },
            "type": "barpolar"
           }
          ],
          "carpet": [
           {
            "aaxis": {
             "endlinecolor": "#2a3f5f",
             "gridcolor": "white",
             "linecolor": "white",
             "minorgridcolor": "white",
             "startlinecolor": "#2a3f5f"
            },
            "baxis": {
             "endlinecolor": "#2a3f5f",
             "gridcolor": "white",
             "linecolor": "white",
             "minorgridcolor": "white",
             "startlinecolor": "#2a3f5f"
            },
            "type": "carpet"
           }
          ],
          "choropleth": [
           {
            "colorbar": {
             "outlinewidth": 0,
             "ticks": ""
            },
            "type": "choropleth"
           }
          ],
          "contour": [
           {
            "colorbar": {
             "outlinewidth": 0,
             "ticks": ""
            },
            "colorscale": [
             [
              0,
              "#0d0887"
             ],
             [
              0.1111111111111111,
              "#46039f"
             ],
             [
              0.2222222222222222,
              "#7201a8"
             ],
             [
              0.3333333333333333,
              "#9c179e"
             ],
             [
              0.4444444444444444,
              "#bd3786"
             ],
             [
              0.5555555555555556,
              "#d8576b"
             ],
             [
              0.6666666666666666,
              "#ed7953"
             ],
             [
              0.7777777777777778,
              "#fb9f3a"
             ],
             [
              0.8888888888888888,
              "#fdca26"
             ],
             [
              1,
              "#f0f921"
             ]
            ],
            "type": "contour"
           }
          ],
          "contourcarpet": [
           {
            "colorbar": {
             "outlinewidth": 0,
             "ticks": ""
            },
            "type": "contourcarpet"
           }
          ],
          "heatmap": [
           {
            "colorbar": {
             "outlinewidth": 0,
             "ticks": ""
            },
            "colorscale": [
             [
              0,
              "#0d0887"
             ],
             [
              0.1111111111111111,
              "#46039f"
             ],
             [
              0.2222222222222222,
              "#7201a8"
             ],
             [
              0.3333333333333333,
              "#9c179e"
             ],
             [
              0.4444444444444444,
              "#bd3786"
             ],
             [
              0.5555555555555556,
              "#d8576b"
             ],
             [
              0.6666666666666666,
              "#ed7953"
             ],
             [
              0.7777777777777778,
              "#fb9f3a"
             ],
             [
              0.8888888888888888,
              "#fdca26"
             ],
             [
              1,
              "#f0f921"
             ]
            ],
            "type": "heatmap"
           }
          ],
          "heatmapgl": [
           {
            "colorbar": {
             "outlinewidth": 0,
             "ticks": ""
            },
            "colorscale": [
             [
              0,
              "#0d0887"
             ],
             [
              0.1111111111111111,
              "#46039f"
             ],
             [
              0.2222222222222222,
              "#7201a8"
             ],
             [
              0.3333333333333333,
              "#9c179e"
             ],
             [
              0.4444444444444444,
              "#bd3786"
             ],
             [
              0.5555555555555556,
              "#d8576b"
             ],
             [
              0.6666666666666666,
              "#ed7953"
             ],
             [
              0.7777777777777778,
              "#fb9f3a"
             ],
             [
              0.8888888888888888,
              "#fdca26"
             ],
             [
              1,
              "#f0f921"
             ]
            ],
            "type": "heatmapgl"
           }
          ],
          "histogram": [
           {
            "marker": {
             "colorbar": {
              "outlinewidth": 0,
              "ticks": ""
             }
            },
            "type": "histogram"
           }
          ],
          "histogram2d": [
           {
            "colorbar": {
             "outlinewidth": 0,
             "ticks": ""
            },
            "colorscale": [
             [
              0,
              "#0d0887"
             ],
             [
              0.1111111111111111,
              "#46039f"
             ],
             [
              0.2222222222222222,
              "#7201a8"
             ],
             [
              0.3333333333333333,
              "#9c179e"
             ],
             [
              0.4444444444444444,
              "#bd3786"
             ],
             [
              0.5555555555555556,
              "#d8576b"
             ],
             [
              0.6666666666666666,
              "#ed7953"
             ],
             [
              0.7777777777777778,
              "#fb9f3a"
             ],
             [
              0.8888888888888888,
              "#fdca26"
             ],
             [
              1,
              "#f0f921"
             ]
            ],
            "type": "histogram2d"
           }
          ],
          "histogram2dcontour": [
           {
            "colorbar": {
             "outlinewidth": 0,
             "ticks": ""
            },
            "colorscale": [
             [
              0,
              "#0d0887"
             ],
             [
              0.1111111111111111,
              "#46039f"
             ],
             [
              0.2222222222222222,
              "#7201a8"
             ],
             [
              0.3333333333333333,
              "#9c179e"
             ],
             [
              0.4444444444444444,
              "#bd3786"
             ],
             [
              0.5555555555555556,
              "#d8576b"
             ],
             [
              0.6666666666666666,
              "#ed7953"
             ],
             [
              0.7777777777777778,
              "#fb9f3a"
             ],
             [
              0.8888888888888888,
              "#fdca26"
             ],
             [
              1,
              "#f0f921"
             ]
            ],
            "type": "histogram2dcontour"
           }
          ],
          "mesh3d": [
           {
            "colorbar": {
             "outlinewidth": 0,
             "ticks": ""
            },
            "type": "mesh3d"
           }
          ],
          "parcoords": [
           {
            "line": {
             "colorbar": {
              "outlinewidth": 0,
              "ticks": ""
             }
            },
            "type": "parcoords"
           }
          ],
          "pie": [
           {
            "automargin": true,
            "type": "pie"
           }
          ],
          "scatter": [
           {
            "marker": {
             "colorbar": {
              "outlinewidth": 0,
              "ticks": ""
             }
            },
            "type": "scatter"
           }
          ],
          "scatter3d": [
           {
            "line": {
             "colorbar": {
              "outlinewidth": 0,
              "ticks": ""
             }
            },
            "marker": {
             "colorbar": {
              "outlinewidth": 0,
              "ticks": ""
             }
            },
            "type": "scatter3d"
           }
          ],
          "scattercarpet": [
           {
            "marker": {
             "colorbar": {
              "outlinewidth": 0,
              "ticks": ""
             }
            },
            "type": "scattercarpet"
           }
          ],
          "scattergeo": [
           {
            "marker": {
             "colorbar": {
              "outlinewidth": 0,
              "ticks": ""
             }
            },
            "type": "scattergeo"
           }
          ],
          "scattergl": [
           {
            "marker": {
             "colorbar": {
              "outlinewidth": 0,
              "ticks": ""
             }
            },
            "type": "scattergl"
           }
          ],
          "scattermapbox": [
           {
            "marker": {
             "colorbar": {
              "outlinewidth": 0,
              "ticks": ""
             }
            },
            "type": "scattermapbox"
           }
          ],
          "scatterpolar": [
           {
            "marker": {
             "colorbar": {
              "outlinewidth": 0,
              "ticks": ""
             }
            },
            "type": "scatterpolar"
           }
          ],
          "scatterpolargl": [
           {
            "marker": {
             "colorbar": {
              "outlinewidth": 0,
              "ticks": ""
             }
            },
            "type": "scatterpolargl"
           }
          ],
          "scatterternary": [
           {
            "marker": {
             "colorbar": {
              "outlinewidth": 0,
              "ticks": ""
             }
            },
            "type": "scatterternary"
           }
          ],
          "surface": [
           {
            "colorbar": {
             "outlinewidth": 0,
             "ticks": ""
            },
            "colorscale": [
             [
              0,
              "#0d0887"
             ],
             [
              0.1111111111111111,
              "#46039f"
             ],
             [
              0.2222222222222222,
              "#7201a8"
             ],
             [
              0.3333333333333333,
              "#9c179e"
             ],
             [
              0.4444444444444444,
              "#bd3786"
             ],
             [
              0.5555555555555556,
              "#d8576b"
             ],
             [
              0.6666666666666666,
              "#ed7953"
             ],
             [
              0.7777777777777778,
              "#fb9f3a"
             ],
             [
              0.8888888888888888,
              "#fdca26"
             ],
             [
              1,
              "#f0f921"
             ]
            ],
            "type": "surface"
           }
          ],
          "table": [
           {
            "cells": {
             "fill": {
              "color": "#EBF0F8"
             },
             "line": {
              "color": "white"
             }
            },
            "header": {
             "fill": {
              "color": "#C8D4E3"
             },
             "line": {
              "color": "white"
             }
            },
            "type": "table"
           }
          ]
         },
         "layout": {
          "annotationdefaults": {
           "arrowcolor": "#2a3f5f",
           "arrowhead": 0,
           "arrowwidth": 1
          },
          "autotypenumbers": "strict",
          "coloraxis": {
           "colorbar": {
            "outlinewidth": 0,
            "ticks": ""
           }
          },
          "colorscale": {
           "diverging": [
            [
             0,
             "#8e0152"
            ],
            [
             0.1,
             "#c51b7d"
            ],
            [
             0.2,
             "#de77ae"
            ],
            [
             0.3,
             "#f1b6da"
            ],
            [
             0.4,
             "#fde0ef"
            ],
            [
             0.5,
             "#f7f7f7"
            ],
            [
             0.6,
             "#e6f5d0"
            ],
            [
             0.7,
             "#b8e186"
            ],
            [
             0.8,
             "#7fbc41"
            ],
            [
             0.9,
             "#4d9221"
            ],
            [
             1,
             "#276419"
            ]
           ],
           "sequential": [
            [
             0,
             "#0d0887"
            ],
            [
             0.1111111111111111,
             "#46039f"
            ],
            [
             0.2222222222222222,
             "#7201a8"
            ],
            [
             0.3333333333333333,
             "#9c179e"
            ],
            [
             0.4444444444444444,
             "#bd3786"
            ],
            [
             0.5555555555555556,
             "#d8576b"
            ],
            [
             0.6666666666666666,
             "#ed7953"
            ],
            [
             0.7777777777777778,
             "#fb9f3a"
            ],
            [
             0.8888888888888888,
             "#fdca26"
            ],
            [
             1,
             "#f0f921"
            ]
           ],
           "sequentialminus": [
            [
             0,
             "#0d0887"
            ],
            [
             0.1111111111111111,
             "#46039f"
            ],
            [
             0.2222222222222222,
             "#7201a8"
            ],
            [
             0.3333333333333333,
             "#9c179e"
            ],
            [
             0.4444444444444444,
             "#bd3786"
            ],
            [
             0.5555555555555556,
             "#d8576b"
            ],
            [
             0.6666666666666666,
             "#ed7953"
            ],
            [
             0.7777777777777778,
             "#fb9f3a"
            ],
            [
             0.8888888888888888,
             "#fdca26"
            ],
            [
             1,
             "#f0f921"
            ]
           ]
          },
          "colorway": [
           "#636efa",
           "#EF553B",
           "#00cc96",
           "#ab63fa",
           "#FFA15A",
           "#19d3f3",
           "#FF6692",
           "#B6E880",
           "#FF97FF",
           "#FECB52"
          ],
          "font": {
           "color": "#2a3f5f"
          },
          "geo": {
           "bgcolor": "white",
           "lakecolor": "white",
           "landcolor": "#E5ECF6",
           "showlakes": true,
           "showland": true,
           "subunitcolor": "white"
          },
          "hoverlabel": {
           "align": "left"
          },
          "hovermode": "closest",
          "mapbox": {
           "style": "light"
          },
          "paper_bgcolor": "white",
          "plot_bgcolor": "#E5ECF6",
          "polar": {
           "angularaxis": {
            "gridcolor": "white",
            "linecolor": "white",
            "ticks": ""
           },
           "bgcolor": "#E5ECF6",
           "radialaxis": {
            "gridcolor": "white",
            "linecolor": "white",
            "ticks": ""
           }
          },
          "scene": {
           "xaxis": {
            "backgroundcolor": "#E5ECF6",
            "gridcolor": "white",
            "gridwidth": 2,
            "linecolor": "white",
            "showbackground": true,
            "ticks": "",
            "zerolinecolor": "white"
           },
           "yaxis": {
            "backgroundcolor": "#E5ECF6",
            "gridcolor": "white",
            "gridwidth": 2,
            "linecolor": "white",
            "showbackground": true,
            "ticks": "",
            "zerolinecolor": "white"
           },
           "zaxis": {
            "backgroundcolor": "#E5ECF6",
            "gridcolor": "white",
            "gridwidth": 2,
            "linecolor": "white",
            "showbackground": true,
            "ticks": "",
            "zerolinecolor": "white"
           }
          },
          "shapedefaults": {
           "line": {
            "color": "#2a3f5f"
           }
          },
          "ternary": {
           "aaxis": {
            "gridcolor": "white",
            "linecolor": "white",
            "ticks": ""
           },
           "baxis": {
            "gridcolor": "white",
            "linecolor": "white",
            "ticks": ""
           },
           "bgcolor": "#E5ECF6",
           "caxis": {
            "gridcolor": "white",
            "linecolor": "white",
            "ticks": ""
           }
          },
          "title": {
           "x": 0.05
          },
          "xaxis": {
           "automargin": true,
           "gridcolor": "white",
           "linecolor": "white",
           "ticks": "",
           "title": {
            "standoff": 15
           },
           "zerolinecolor": "white",
           "zerolinewidth": 2
          },
          "yaxis": {
           "automargin": true,
           "gridcolor": "white",
           "linecolor": "white",
           "ticks": "",
           "title": {
            "standoff": 15
           },
           "zerolinecolor": "white",
           "zerolinewidth": 2
          }
         }
        },
        "title": {
         "font": {
          "color": "#4D5663"
         },
         "text": "25 (T=-23~50) (H=0~100) (degree=2) (magic) (shift0_ppmx1) (RMSE y_pred_scale= 193.91)"
        },
        "xaxis": {
         "gridcolor": "#E1E5ED",
         "showgrid": true,
         "tickfont": {
          "color": "#4D5663"
         },
         "title": {
          "font": {
           "color": "#4D5663"
          },
          "text": ""
         },
         "zerolinecolor": "#E1E5ED"
        },
        "yaxis": {
         "gridcolor": "#E1E5ED",
         "showgrid": true,
         "tickfont": {
          "color": "#4D5663"
         },
         "title": {
          "font": {
           "color": "#4D5663"
          },
          "text": "ppm"
         },
         "zerolinecolor": "#E1E5ED"
        }
       }
      },
      "text/html": [
       "<div>                            <div id=\"f4e970a0-733c-446b-a074-8bf9a21cd5ea\" class=\"plotly-graph-div\" style=\"height:525px; width:100%;\"></div>            <script type=\"text/javascript\">                require([\"plotly\"], function(Plotly) {                    window.PLOTLYENV=window.PLOTLYENV || {};\n",
       "                    window.PLOTLYENV.BASE_URL='https://plot.ly';                                    if (document.getElementById(\"f4e970a0-733c-446b-a074-8bf9a21cd5ea\")) {                    Plotly.newPlot(                        \"f4e970a0-733c-446b-a074-8bf9a21cd5ea\",                        [{\"line\": {\"color\": \"rgba(255, 153, 51, 1.0)\", \"dash\": \"solid\", \"shape\": \"linear\", \"width\": 1.3}, \"mode\": \"lines\", \"name\": \"y_true\", \"text\": \"\", \"type\": \"scatter\", \"x\": [0, 1, 2, 3, 4, 5, 6, 7, 8, 9, 10, 11, 12, 13, 14, 15, 16, 17, 18, 19, 20, 21, 22, 23, 24, 25, 26, 27, 28, 29, 30, 31, 32, 33, 34, 35, 36, 37, 38, 39, 40, 41, 42, 43, 44, 45, 46, 47, 48, 49, 50, 51, 52, 53, 54, 55, 56, 57, 58, 59, 60, 61, 62, 63, 64, 65, 66, 67, 68, 69, 70, 71, 72, 73, 74, 75, 76, 77, 78, 79, 80, 81, 82, 83, 84, 85, 86, 87, 88, 89, 90, 91, 92, 93, 94, 95, 96, 97, 98, 99, 100, 101, 102, 103, 104, 105, 106, 107, 108, 109, 110, 111, 112, 113, 114, 115, 116, 117, 118, 119, 120, 121, 122, 123, 124, 125, 126, 127, 128, 129, 130, 131, 132, 133, 134, 135, 136, 137, 138, 139, 140, 141, 142, 143, 144, 145, 146, 147, 148, 149, 150, 151, 152, 153, 154, 155, 156, 157, 158, 159, 160, 161, 162, 163, 164, 165, 166, 167, 168, 169, 170, 171, 172, 173, 174, 175, 176, 177, 178, 179, 180, 181, 182, 183, 184, 185, 186, 187, 188, 189, 190, 191, 192, 193, 194, 195, 196, 197, 198, 199, 200, 201, 202, 203, 204, 205, 206, 207, 208, 209, 210, 211, 212, 213, 214, 215, 216, 217, 218, 219, 220, 221, 222, 223, 224, 225, 226, 227, 228, 229, 230, 231, 232, 233, 234, 235, 236, 237, 238, 239, 240, 241, 242, 243, 244, 245, 246, 247, 248, 249, 250, 251, 252, 253, 254, 255, 256, 257, 258, 259, 260, 261, 262, 263, 264, 265, 266, 267, 268, 269, 270, 271, 272, 273, 274, 275, 276, 277, 278, 279, 280, 281, 282, 283, 284, 285, 286, 287, 288, 289, 290, 291, 292, 293, 294, 295, 296, 297, 298, 299], \"y\": [13912.610396860195, 13917.96909046556, 13914.976204826531, 13920.143258982263, 13920.071308447017, 13920.03853663627, 13927.408901990131, 13922.016339166921, 13926.24145702818, 13915.951993495926, 13430.63836521534, 13438.78287846681, 13434.688189764991, 13433.663903780918, 13432.637027429728, 13435.834361894198, 13430.623312397292, 13429.557054749437, 13436.717125658766, 13431.630015522518, 13588.222930612306, 13583.803363852363, 13594.340344388627, 13588.107202623827, 13582.91772187254, 13593.216590160295, 13590.248626368579, 13581.760185285091, 13601.060636686298, 13582.784380790601, 13685.749606578553, 13690.010074701793, 13718.156603737147, 13707.346419751952, 13695.02129640931, 13700.27508967174, 13697.138567537224, 13697.94423106376, 13692.234696338997, 13681.003968901587, 13763.79033127828, 13755.609853154423, 13760.859089194679, 13767.200187310153, 13759.593094004123, 13751.64814090314, 13752.679001369897, 13750.376877136836, 13752.902466931597, 13755.789405184738, 13925.98209903605, 13914.706817457503, 13905.332084598449, 13912.967285435489, 13916.295415152512, 13922.92077747679, 13922.795001128836, 13920.866563171427, 13921.89998482535, 13922.065544061305, 13410.979052754607, 13424.215543020557, 13417.107061337756, 13427.44068432242, 13416.248558017842, 13412.155729915565, 13409.979485175778, 13407.088037128626, 13428.31073155731, 13409.147019707583, 13568.555539530076, 13572.526826633635, 13557.727402447692, 13560.335433659047, 13561.429577617153, 13560.689156099783, 13563.484710755987, 13563.440690841095, 13555.475600557917, 13557.304770402214, 13661.026495231808, 13643.593370809422, 13656.806404353065, 13664.853262114502, 13645.717524189004, 13654.939520618766, 13654.874698890713, 13659.880640870659, 13638.460842655297, 13655.889369808861, 13725.456905028137, 13706.989688318521, 13734.731626441131, 13695.855010439307, 13711.247306812476, 13715.053140442524, 13726.369410761601, 13723.104531510713, 13724.377308359039, 13715.219679817312, 13909.250619064602, 13902.712206041804, 13910.537979464312, 13912.481912248264, 13903.680165707778, 13910.453262217317, 13908.405606048284, 13910.584349572511, 13914.294346265897, 13921.967818134699, 13416.431292949408, 13410.33185046179, 13413.479450335928, 13408.330183470143, 13412.374313423266, 13407.20466390336, 13408.200355724899, 13413.42804086048, 13412.360554889849, 13395.16371532795, 13533.94728459872, 13544.186174264909, 13559.266147019915, 13534.066089145506, 13549.629672142546, 13548.597734887964, 13535.118115790541, 13541.490939523092, 13534.161774962637, 13546.334978734129, 13655.006956005354, 13638.825980683652, 13637.778503964706, 13626.521241859924, 13634.894535747124, 13638.796821804617, 13648.979444339826, 13642.888657250536, 13638.922433602887, 13643.966921495856, 13711.176774284666, 13701.977157025265, 13701.944863242365, 13704.000414173948, 13706.84851815174, 13717.599110226412, 13716.346019032699, 13701.155357142397, 13708.130523057318, 13699.587984623053, 13896.463036755924, 13919.491669352436, 13912.303716817745, 13901.966159572816, 13903.979700888196, 13916.389263912013, 13904.864490195278, 13893.938564173308, 13910.191518030302, 13916.704748942955, 13409.114700132064, 13430.499886343488, 13397.859910522124, 13412.23071973121, 13411.133419140559, 13414.304783268883, 13404.020376714889, 13406.107571859093, 13416.200040797497, 13391.97235638807, 13545.569544123753, 13548.579420691345, 13545.321342149264, 13558.846781161337, 13545.457468421422, 13553.603516355235, 13546.610630092866, 13536.268390458761, 13549.411846724477, 13542.287409858116, 13622.878066222082, 13640.07922338665, 13632.899995240536, 13637.154814423095, 13647.037145942257, 13625.68221166518, 13642.937595649077, 13631.912462009184, 13634.866669589006, 13632.839845632505, 13701.268656999431, 13704.171174496909, 13703.44784710204, 13694.116153246672, 13682.899708064147, 13710.712917667319, 13700.460061091, 13709.768630831872, 13706.617956016617, 13664.68478833565, 13893.636568887103, 13881.425305861369, 13885.549379004193, 13882.264185673324, 13882.956852298474, 13890.395282545813, 13896.693698834782, 13878.333895119418, 13879.236473700123, 13879.089144078735, 13372.904804593274, 13392.291585802519, 13391.180548172377, 13391.383588447407, 13387.128858471388, 13400.45690827575, 13388.288900919555, 13383.209999511886, 13403.5580474967, 13399.538322827128, 13520.011261128931, 13522.717489208324, 13519.755060102574, 13519.808755151935, 13523.921073525302, 13523.8035763667, 13525.91519417779, 13521.850311627846, 13519.88698586674, 13503.26740570565, 13614.493223954563, 13622.76823749974, 13605.366827397047, 13622.02552660878, 13619.680631488183, 13615.667531898891, 13599.282727292455, 13618.840920460243, 13610.50747313856, 13635.262661034089, 13658.822543723167, 13675.043770108567, 13673.002210483604, 13691.63803642268, 13694.46764959224, 13668.988386512603, 13692.63274264417, 13671.327960207627, 13681.402016670865, 13680.147879724176, 13882.901186904905, 13862.052247646272, 13868.552521186317, 13890.489477982785, 13879.787080265265, 13884.976668892115, 13896.617348493402, 13890.902077647897, 13880.508695818651, 13875.651036078481, 13400.779099312775, 13417.184281783731, 13401.67401155946, 13405.956048648659, 13395.711242091007, 13401.859697589201, 13402.886697479616, 13397.697374491656, 13400.78065170419, 13392.538844246845, 13533.425241463541, 13540.650680966148, 13527.184470306358, 13532.325191791984, 13525.20466262183, 13525.086504214953, 13519.417101295105, 13538.71792019182, 13525.313514545182, 13530.605461364301, 13622.024268933901, 13629.091338691893, 13613.48304378175, 13621.773832669744, 13624.141617301662, 13617.667627932873, 13637.373041626779, 13618.502021861426, 13621.604080998268, 13638.393108648826, 13697.776363829033, 13684.453668889213, 13682.202169198035, 13679.23573503153, 13693.485331729498, 13679.952391216379, 13672.99958198312, 13678.861448633093, 13685.240204609147, 13686.12558147517]}, {\"line\": {\"color\": \"rgba(55, 128, 191, 1.0)\", \"dash\": \"solid\", \"shape\": \"linear\", \"width\": 1.3}, \"mode\": \"lines\", \"name\": \"y_pred\", \"text\": \"\", \"type\": \"scatter\", \"x\": [0, 1, 2, 3, 4, 5, 6, 7, 8, 9, 10, 11, 12, 13, 14, 15, 16, 17, 18, 19, 20, 21, 22, 23, 24, 25, 26, 27, 28, 29, 30, 31, 32, 33, 34, 35, 36, 37, 38, 39, 40, 41, 42, 43, 44, 45, 46, 47, 48, 49, 50, 51, 52, 53, 54, 55, 56, 57, 58, 59, 60, 61, 62, 63, 64, 65, 66, 67, 68, 69, 70, 71, 72, 73, 74, 75, 76, 77, 78, 79, 80, 81, 82, 83, 84, 85, 86, 87, 88, 89, 90, 91, 92, 93, 94, 95, 96, 97, 98, 99, 100, 101, 102, 103, 104, 105, 106, 107, 108, 109, 110, 111, 112, 113, 114, 115, 116, 117, 118, 119, 120, 121, 122, 123, 124, 125, 126, 127, 128, 129, 130, 131, 132, 133, 134, 135, 136, 137, 138, 139, 140, 141, 142, 143, 144, 145, 146, 147, 148, 149, 150, 151, 152, 153, 154, 155, 156, 157, 158, 159, 160, 161, 162, 163, 164, 165, 166, 167, 168, 169, 170, 171, 172, 173, 174, 175, 176, 177, 178, 179, 180, 181, 182, 183, 184, 185, 186, 187, 188, 189, 190, 191, 192, 193, 194, 195, 196, 197, 198, 199, 200, 201, 202, 203, 204, 205, 206, 207, 208, 209, 210, 211, 212, 213, 214, 215, 216, 217, 218, 219, 220, 221, 222, 223, 224, 225, 226, 227, 228, 229, 230, 231, 232, 233, 234, 235, 236, 237, 238, 239, 240, 241, 242, 243, 244, 245, 246, 247, 248, 249, 250, 251, 252, 253, 254, 255, 256, 257, 258, 259, 260, 261, 262, 263, 264, 265, 266, 267, 268, 269, 270, 271, 272, 273, 274, 275, 276, 277, 278, 279, 280, 281, 282, 283, 284, 285, 286, 287, 288, 289, 290, 291, 292, 293, 294, 295, 296, 297, 298, 299], \"y\": [13542.778421298905, 13542.671709778135, 13542.707287283132, 13542.671709778135, 13542.707287283132, 13542.671709778135, 13542.778421298905, 13542.742857790055, 13542.778421298905, 13542.671709778135, 13542.529329777388, 13542.63612527506, 13542.600533773912, 13542.564935274686, 13542.458097788563, 13542.564935274686, 13542.529329777388, 13542.564935274686, 13542.458097788563, 13542.493717282012, 13542.63612527506, 13542.386837808852, 13542.493717282012, 13542.386837808852, 13542.493717282012, 13542.458097788563, 13542.493717282012, 13542.386837808852, 13542.422471298452, 13542.315549835426, 13542.315549835426, 13542.564935274686, 13542.458097788563, 13542.493717282012, 13542.529329777388, 13542.564935274686, 13542.600533773912, 13542.493717282012, 13542.600533773912, 13542.493717282012, 13542.458097788563, 13542.208565389725, 13542.386837808852, 13542.564935274686, 13542.458097788563, 13542.422471298452, 13542.315549835426, 13542.351197321177, 13542.386837808852, 13542.493717282012, 13541.994407550288, 13542.030118018716, 13541.922965619207, 13542.172889911673, 13542.065821489068, 13542.030118018716, 13542.065821489068, 13542.172889911673, 13542.137207435546, 13542.030118018716, 13542.101517961344, 13542.208565389725, 13542.172889911673, 13542.351197321177, 13542.315549835426, 13542.208565389725, 13542.101517961344, 13542.208565389725, 13542.172889911673, 13542.351197321177, 13542.2442338697, 13542.351197321177, 13542.529329777388, 13542.351197321177, 13542.2442338697, 13542.493717282012, 13542.386837808852, 13542.422471298452, 13542.529329777388, 13542.279895351601, 13542.422471298452, 13542.458097788563, 13542.422471298452, 13542.386837808852, 13542.564935274686, 13542.529329777388, 13542.564935274686, 13542.458097788563, 13542.422471298452, 13542.458097788563, 13542.707287283132, 13542.529329777388, 13542.564935274686, 13542.600533773912, 13542.707287283132, 13542.671709778135, 13542.63612527506, 13542.600533773912, 13542.63612527506, 13542.529329777388, 13542.315549835426, 13542.422471298452, 13542.386837808852, 13542.351197321177, 13542.315549835426, 13542.351197321177, 13542.386837808852, 13542.493717282012, 13542.172889911673, 13542.279895351601, 13542.315549835426, 13542.422471298452, 13542.386837808852, 13542.208565389725, 13542.315549835426, 13542.279895351601, 13542.2442338697, 13542.422471298452, 13542.315549835426, 13542.351197321177, 13542.137207435546, 13542.2442338697, 13542.065821489068, 13542.2442338697, 13542.279895351601, 13542.315549835426, 13542.208565389725, 13542.315549835426, 13542.351197321177, 13542.2442338697, 13542.030118018716, 13542.137207435546, 13542.101517961344, 13542.137207435546, 13542.315549835426, 13542.208565389725, 13542.172889911673, 13542.208565389725, 13542.2442338697, 13542.208565389725, 13542.386837808852, 13542.279895351601, 13542.2442338697, 13542.351197321177, 13542.172889911673, 13542.422471298452, 13542.529329777388, 13542.493717282012, 13542.386837808852, 13542.279895351601, 13541.744238325191, 13541.636917973301, 13541.672698422479, 13541.708471872162, 13541.744238325191, 13541.636917973301, 13541.601130526045, 13541.708471872162, 13541.529534637311, 13541.636917973301, 13541.672698422479, 13541.636917973301, 13541.672698422479, 13541.779997780144, 13541.672698422479, 13541.779997780144, 13541.672698422479, 13541.779997780144, 13541.672698422479, 13541.851495695826, 13541.744238325191, 13541.779997780144, 13541.601130526045, 13541.779997780144, 13541.672698422479, 13541.851495695826, 13541.744238325191, 13541.708471872162, 13541.601130526045, 13541.565336080715, 13541.601130526045, 13541.636917973301, 13541.672698422479, 13541.708471872162, 13541.457910756277, 13541.493726195831, 13541.457910756277, 13541.636917973301, 13541.529534637311, 13541.708471872162, 13541.744238325191, 13541.779997780144, 13541.744238325191, 13541.708471872162, 13541.601130526045, 13541.779997780144, 13541.815750237023, 13541.779997780144, 13541.672698422479, 13541.708471872162, 13543.983416742194, 13543.948091169306, 13544.054046896554, 13543.806718891388, 13544.12464905861, 13543.948091169306, 13543.983416742194, 13544.018735318412, 13544.054046896554, 13543.948091169306, 13544.018735318412, 13543.983416742194, 13543.948091169306, 13544.054046896554, 13543.948091169306, 13544.054046896554, 13544.159939642526, 13544.12464905861, 13544.08935147662, 13544.195223228367, 13544.265769405823, 13543.948091169306, 13544.054046896554, 13544.08935147662, 13544.054046896554, 13543.948091169306, 13544.054046896554, 13544.018735318412, 13544.054046896554, 13543.806718891388, 13543.806718891388, 13543.77135832672, 13543.735990763977, 13543.91275859694, 13543.806718891388, 13543.91275859694, 13543.806718891388, 13543.84207245798, 13543.877419026498, 13543.983416742194, 13544.159939642526, 13544.12464905861, 13544.159939642526, 13544.195223228367, 13544.018735318412, 13544.195223228367, 13544.08935147662, 13544.265769405823, 13544.159939642526, 13544.054046896554, 13542.813977809677, 13542.778421298905, 13542.813977809677, 13542.849527322376, 13542.813977809677, 13542.849527322376, 13542.956133872018, 13542.849527322376, 13542.813977809677, 13542.920605353545, 13542.849527322376, 13542.813977809677, 13542.707287283132, 13542.885069836999, 13542.849527322376, 13542.813977809677, 13542.849527322376, 13542.742857790055, 13542.778421298905, 13542.671709778135, 13542.458097788563, 13542.564935274686, 13542.386837808852, 13542.422471298452, 13542.458097788563, 13542.351197321177, 13542.742857790055, 13542.63612527506, 13542.529329777388, 13542.707287283132, 13542.849527322376, 13542.813977809677, 13542.778421298905, 13542.671709778135, 13543.062677438984, 13542.885069836999, 13543.062677438984, 13542.742857790055, 13542.849527322376, 13542.956133872018, 13542.991655392416, 13542.885069836999, 13542.849527322376, 13542.885069836999, 13542.849527322376, 13542.813977809677, 13542.849527322376, 13542.813977809677, 13542.778421298905, 13542.742857790055]}],                        {\"legend\": {\"bgcolor\": \"#F5F6F9\", \"font\": {\"color\": \"#4D5663\"}}, \"paper_bgcolor\": \"#F5F6F9\", \"plot_bgcolor\": \"#F5F6F9\", \"template\": {\"data\": {\"bar\": [{\"error_x\": {\"color\": \"#2a3f5f\"}, \"error_y\": {\"color\": \"#2a3f5f\"}, \"marker\": {\"line\": {\"color\": \"#E5ECF6\", \"width\": 0.5}}, \"type\": \"bar\"}], \"barpolar\": [{\"marker\": {\"line\": {\"color\": \"#E5ECF6\", \"width\": 0.5}}, \"type\": \"barpolar\"}], \"carpet\": [{\"aaxis\": {\"endlinecolor\": \"#2a3f5f\", \"gridcolor\": \"white\", \"linecolor\": \"white\", \"minorgridcolor\": \"white\", \"startlinecolor\": \"#2a3f5f\"}, \"baxis\": {\"endlinecolor\": \"#2a3f5f\", \"gridcolor\": \"white\", \"linecolor\": \"white\", \"minorgridcolor\": \"white\", \"startlinecolor\": \"#2a3f5f\"}, \"type\": \"carpet\"}], \"choropleth\": [{\"colorbar\": {\"outlinewidth\": 0, \"ticks\": \"\"}, \"type\": \"choropleth\"}], \"contour\": [{\"colorbar\": {\"outlinewidth\": 0, \"ticks\": \"\"}, \"colorscale\": [[0.0, \"#0d0887\"], [0.1111111111111111, \"#46039f\"], [0.2222222222222222, \"#7201a8\"], [0.3333333333333333, \"#9c179e\"], [0.4444444444444444, \"#bd3786\"], [0.5555555555555556, \"#d8576b\"], [0.6666666666666666, \"#ed7953\"], [0.7777777777777778, \"#fb9f3a\"], [0.8888888888888888, \"#fdca26\"], [1.0, \"#f0f921\"]], \"type\": \"contour\"}], \"contourcarpet\": [{\"colorbar\": {\"outlinewidth\": 0, \"ticks\": \"\"}, \"type\": \"contourcarpet\"}], \"heatmap\": [{\"colorbar\": {\"outlinewidth\": 0, \"ticks\": \"\"}, \"colorscale\": [[0.0, \"#0d0887\"], [0.1111111111111111, \"#46039f\"], [0.2222222222222222, \"#7201a8\"], [0.3333333333333333, \"#9c179e\"], [0.4444444444444444, \"#bd3786\"], [0.5555555555555556, \"#d8576b\"], [0.6666666666666666, \"#ed7953\"], [0.7777777777777778, \"#fb9f3a\"], [0.8888888888888888, \"#fdca26\"], [1.0, \"#f0f921\"]], \"type\": \"heatmap\"}], \"heatmapgl\": [{\"colorbar\": {\"outlinewidth\": 0, \"ticks\": \"\"}, \"colorscale\": [[0.0, \"#0d0887\"], [0.1111111111111111, \"#46039f\"], [0.2222222222222222, \"#7201a8\"], [0.3333333333333333, \"#9c179e\"], [0.4444444444444444, \"#bd3786\"], [0.5555555555555556, \"#d8576b\"], [0.6666666666666666, \"#ed7953\"], [0.7777777777777778, \"#fb9f3a\"], [0.8888888888888888, \"#fdca26\"], [1.0, \"#f0f921\"]], \"type\": \"heatmapgl\"}], \"histogram\": [{\"marker\": {\"colorbar\": {\"outlinewidth\": 0, \"ticks\": \"\"}}, \"type\": \"histogram\"}], \"histogram2d\": [{\"colorbar\": {\"outlinewidth\": 0, \"ticks\": \"\"}, \"colorscale\": [[0.0, \"#0d0887\"], [0.1111111111111111, \"#46039f\"], [0.2222222222222222, \"#7201a8\"], [0.3333333333333333, \"#9c179e\"], [0.4444444444444444, \"#bd3786\"], [0.5555555555555556, \"#d8576b\"], [0.6666666666666666, \"#ed7953\"], [0.7777777777777778, \"#fb9f3a\"], [0.8888888888888888, \"#fdca26\"], [1.0, \"#f0f921\"]], \"type\": \"histogram2d\"}], \"histogram2dcontour\": [{\"colorbar\": {\"outlinewidth\": 0, \"ticks\": \"\"}, \"colorscale\": [[0.0, \"#0d0887\"], [0.1111111111111111, \"#46039f\"], [0.2222222222222222, \"#7201a8\"], [0.3333333333333333, \"#9c179e\"], [0.4444444444444444, \"#bd3786\"], [0.5555555555555556, \"#d8576b\"], [0.6666666666666666, \"#ed7953\"], [0.7777777777777778, \"#fb9f3a\"], [0.8888888888888888, \"#fdca26\"], [1.0, \"#f0f921\"]], \"type\": \"histogram2dcontour\"}], \"mesh3d\": [{\"colorbar\": {\"outlinewidth\": 0, \"ticks\": \"\"}, \"type\": \"mesh3d\"}], \"parcoords\": [{\"line\": {\"colorbar\": {\"outlinewidth\": 0, \"ticks\": \"\"}}, \"type\": \"parcoords\"}], \"pie\": [{\"automargin\": true, \"type\": \"pie\"}], \"scatter\": [{\"marker\": {\"colorbar\": {\"outlinewidth\": 0, \"ticks\": \"\"}}, \"type\": \"scatter\"}], \"scatter3d\": [{\"line\": {\"colorbar\": {\"outlinewidth\": 0, \"ticks\": \"\"}}, \"marker\": {\"colorbar\": {\"outlinewidth\": 0, \"ticks\": \"\"}}, \"type\": \"scatter3d\"}], \"scattercarpet\": [{\"marker\": {\"colorbar\": {\"outlinewidth\": 0, \"ticks\": \"\"}}, \"type\": \"scattercarpet\"}], \"scattergeo\": [{\"marker\": {\"colorbar\": {\"outlinewidth\": 0, \"ticks\": \"\"}}, \"type\": \"scattergeo\"}], \"scattergl\": [{\"marker\": {\"colorbar\": {\"outlinewidth\": 0, \"ticks\": \"\"}}, \"type\": \"scattergl\"}], \"scattermapbox\": [{\"marker\": {\"colorbar\": {\"outlinewidth\": 0, \"ticks\": \"\"}}, \"type\": \"scattermapbox\"}], \"scatterpolar\": [{\"marker\": {\"colorbar\": {\"outlinewidth\": 0, \"ticks\": \"\"}}, \"type\": \"scatterpolar\"}], \"scatterpolargl\": [{\"marker\": {\"colorbar\": {\"outlinewidth\": 0, \"ticks\": \"\"}}, \"type\": \"scatterpolargl\"}], \"scatterternary\": [{\"marker\": {\"colorbar\": {\"outlinewidth\": 0, \"ticks\": \"\"}}, \"type\": \"scatterternary\"}], \"surface\": [{\"colorbar\": {\"outlinewidth\": 0, \"ticks\": \"\"}, \"colorscale\": [[0.0, \"#0d0887\"], [0.1111111111111111, \"#46039f\"], [0.2222222222222222, \"#7201a8\"], [0.3333333333333333, \"#9c179e\"], [0.4444444444444444, \"#bd3786\"], [0.5555555555555556, \"#d8576b\"], [0.6666666666666666, \"#ed7953\"], [0.7777777777777778, \"#fb9f3a\"], [0.8888888888888888, \"#fdca26\"], [1.0, \"#f0f921\"]], \"type\": \"surface\"}], \"table\": [{\"cells\": {\"fill\": {\"color\": \"#EBF0F8\"}, \"line\": {\"color\": \"white\"}}, \"header\": {\"fill\": {\"color\": \"#C8D4E3\"}, \"line\": {\"color\": \"white\"}}, \"type\": \"table\"}]}, \"layout\": {\"annotationdefaults\": {\"arrowcolor\": \"#2a3f5f\", \"arrowhead\": 0, \"arrowwidth\": 1}, \"autotypenumbers\": \"strict\", \"coloraxis\": {\"colorbar\": {\"outlinewidth\": 0, \"ticks\": \"\"}}, \"colorscale\": {\"diverging\": [[0, \"#8e0152\"], [0.1, \"#c51b7d\"], [0.2, \"#de77ae\"], [0.3, \"#f1b6da\"], [0.4, \"#fde0ef\"], [0.5, \"#f7f7f7\"], [0.6, \"#e6f5d0\"], [0.7, \"#b8e186\"], [0.8, \"#7fbc41\"], [0.9, \"#4d9221\"], [1, \"#276419\"]], \"sequential\": [[0.0, \"#0d0887\"], [0.1111111111111111, \"#46039f\"], [0.2222222222222222, \"#7201a8\"], [0.3333333333333333, \"#9c179e\"], [0.4444444444444444, \"#bd3786\"], [0.5555555555555556, \"#d8576b\"], [0.6666666666666666, \"#ed7953\"], [0.7777777777777778, \"#fb9f3a\"], [0.8888888888888888, \"#fdca26\"], [1.0, \"#f0f921\"]], \"sequentialminus\": [[0.0, \"#0d0887\"], [0.1111111111111111, \"#46039f\"], [0.2222222222222222, \"#7201a8\"], [0.3333333333333333, \"#9c179e\"], [0.4444444444444444, \"#bd3786\"], [0.5555555555555556, \"#d8576b\"], [0.6666666666666666, \"#ed7953\"], [0.7777777777777778, \"#fb9f3a\"], [0.8888888888888888, \"#fdca26\"], [1.0, \"#f0f921\"]]}, \"colorway\": [\"#636efa\", \"#EF553B\", \"#00cc96\", \"#ab63fa\", \"#FFA15A\", \"#19d3f3\", \"#FF6692\", \"#B6E880\", \"#FF97FF\", \"#FECB52\"], \"font\": {\"color\": \"#2a3f5f\"}, \"geo\": {\"bgcolor\": \"white\", \"lakecolor\": \"white\", \"landcolor\": \"#E5ECF6\", \"showlakes\": true, \"showland\": true, \"subunitcolor\": \"white\"}, \"hoverlabel\": {\"align\": \"left\"}, \"hovermode\": \"closest\", \"mapbox\": {\"style\": \"light\"}, \"paper_bgcolor\": \"white\", \"plot_bgcolor\": \"#E5ECF6\", \"polar\": {\"angularaxis\": {\"gridcolor\": \"white\", \"linecolor\": \"white\", \"ticks\": \"\"}, \"bgcolor\": \"#E5ECF6\", \"radialaxis\": {\"gridcolor\": \"white\", \"linecolor\": \"white\", \"ticks\": \"\"}}, \"scene\": {\"xaxis\": {\"backgroundcolor\": \"#E5ECF6\", \"gridcolor\": \"white\", \"gridwidth\": 2, \"linecolor\": \"white\", \"showbackground\": true, \"ticks\": \"\", \"zerolinecolor\": \"white\"}, \"yaxis\": {\"backgroundcolor\": \"#E5ECF6\", \"gridcolor\": \"white\", \"gridwidth\": 2, \"linecolor\": \"white\", \"showbackground\": true, \"ticks\": \"\", \"zerolinecolor\": \"white\"}, \"zaxis\": {\"backgroundcolor\": \"#E5ECF6\", \"gridcolor\": \"white\", \"gridwidth\": 2, \"linecolor\": \"white\", \"showbackground\": true, \"ticks\": \"\", \"zerolinecolor\": \"white\"}}, \"shapedefaults\": {\"line\": {\"color\": \"#2a3f5f\"}}, \"ternary\": {\"aaxis\": {\"gridcolor\": \"white\", \"linecolor\": \"white\", \"ticks\": \"\"}, \"baxis\": {\"gridcolor\": \"white\", \"linecolor\": \"white\", \"ticks\": \"\"}, \"bgcolor\": \"#E5ECF6\", \"caxis\": {\"gridcolor\": \"white\", \"linecolor\": \"white\", \"ticks\": \"\"}}, \"title\": {\"x\": 0.05}, \"xaxis\": {\"automargin\": true, \"gridcolor\": \"white\", \"linecolor\": \"white\", \"ticks\": \"\", \"title\": {\"standoff\": 15}, \"zerolinecolor\": \"white\", \"zerolinewidth\": 2}, \"yaxis\": {\"automargin\": true, \"gridcolor\": \"white\", \"linecolor\": \"white\", \"ticks\": \"\", \"title\": {\"standoff\": 15}, \"zerolinecolor\": \"white\", \"zerolinewidth\": 2}}}, \"title\": {\"font\": {\"color\": \"#4D5663\"}, \"text\": \"25 (T=-23~50) (H=0~100) (degree=2) (magic) (shift0_ppmx1) (RMSE y_pred_scale= 193.91)\"}, \"xaxis\": {\"gridcolor\": \"#E1E5ED\", \"showgrid\": true, \"tickfont\": {\"color\": \"#4D5663\"}, \"title\": {\"font\": {\"color\": \"#4D5663\"}, \"text\": \"\"}, \"zerolinecolor\": \"#E1E5ED\"}, \"yaxis\": {\"gridcolor\": \"#E1E5ED\", \"showgrid\": true, \"tickfont\": {\"color\": \"#4D5663\"}, \"title\": {\"font\": {\"color\": \"#4D5663\"}, \"text\": \"ppm\"}, \"zerolinecolor\": \"#E1E5ED\"}},                        {\"showLink\": true, \"linkText\": \"Export to plot.ly\", \"plotlyServerURL\": \"https://plot.ly\", \"responsive\": true}                    ).then(function(){\n",
       "                            \n",
       "var gd = document.getElementById('f4e970a0-733c-446b-a074-8bf9a21cd5ea');\n",
       "var x = new MutationObserver(function (mutations, observer) {{\n",
       "        var display = window.getComputedStyle(gd).display;\n",
       "        if (!display || display === 'none') {{\n",
       "            console.log([gd, 'removed!']);\n",
       "            Plotly.purge(gd);\n",
       "            observer.disconnect();\n",
       "        }}\n",
       "}});\n",
       "\n",
       "// Listen for the removal of the full notebook cells\n",
       "var notebookContainer = gd.closest('#notebook-container');\n",
       "if (notebookContainer) {{\n",
       "    x.observe(notebookContainer, {childList: true});\n",
       "}}\n",
       "\n",
       "// Listen for the clearing of the current output cell\n",
       "var outputEl = gd.closest('.output');\n",
       "if (outputEl) {{\n",
       "    x.observe(outputEl, {childList: true});\n",
       "}}\n",
       "\n",
       "                        })                };                });            </script>        </div>"
      ]
     },
     "metadata": {},
     "output_type": "display_data"
    },
    {
     "data": {
      "application/vnd.plotly.v1+json": {
       "config": {
        "plotlyServerURL": "https://plot.ly"
       },
       "data": [
        {
         "name": "ppm",
         "type": "scatter",
         "y": [
          0,
          0,
          0,
          0,
          0,
          0,
          0,
          0,
          0,
          0,
          60.0375,
          59.9875,
          59.975,
          59.9875,
          59.9625,
          59.9875,
          59.9375,
          60.0125,
          59.9875,
          59.975,
          25.0125,
          25,
          25.0125,
          24.925,
          25.0375,
          24.9625,
          24.9875,
          25,
          24.9875,
          24.95,
          10,
          10.0125,
          10.0125,
          10,
          10,
          9.975,
          10.0125,
          9.975,
          10.025,
          9.9875,
          4,
          4.0125,
          4.025,
          4.025,
          4,
          4.0125,
          4,
          4,
          4.0125,
          4,
          0,
          0,
          0,
          0,
          0,
          0,
          0,
          0,
          0,
          0,
          60.0375,
          60.025,
          59.9625,
          59.9875,
          60.05,
          59.95,
          60.0625,
          60.05,
          59.975,
          59.9875,
          24.9375,
          25,
          25,
          25.0125,
          25.0375,
          24.9875,
          24.9875,
          25.0125,
          24.975,
          25.025,
          10,
          10,
          10,
          9.9875,
          10,
          10,
          10,
          9.9875,
          10.0125,
          10.025,
          4.0125,
          4.0125,
          4,
          4.0125,
          4.025,
          4,
          4.025,
          4.025,
          4,
          4.025,
          0,
          0,
          0,
          0,
          0,
          0,
          0,
          0,
          0,
          0,
          60.0125,
          59.975,
          59.975,
          60.0375,
          59.9875,
          59.9875,
          60,
          60.025,
          60.0375,
          60.0375,
          24.9625,
          25.025,
          25.0125,
          24.9875,
          24.9875,
          25.025,
          24.925,
          25.0125,
          25,
          24.975,
          10.025,
          10,
          10,
          10.0125,
          10.0125,
          10.025,
          10,
          9.9875,
          10.0125,
          9.975,
          3.9875,
          4,
          4.025,
          4.0125,
          4,
          4.0125,
          3.9875,
          4,
          4,
          4,
          0,
          0,
          0,
          0,
          0,
          0,
          0,
          0,
          0,
          0,
          59.9375,
          60,
          60.0375,
          59.9625,
          60.0375,
          60.0125,
          59.9625,
          59.9375,
          59.975,
          60,
          25,
          25,
          24.9875,
          25.025,
          25.025,
          24.9875,
          25.0125,
          25.025,
          24.975,
          25.0375,
          10.025,
          10.0125,
          10.025,
          10.0125,
          10,
          10.0125,
          10,
          9.9875,
          9.9875,
          10.025,
          4,
          4,
          4.0125,
          4,
          4.0125,
          4.0125,
          4,
          4,
          4,
          4,
          0,
          0,
          0,
          0,
          0,
          0,
          0,
          0,
          0,
          0,
          59.9,
          60.0125,
          60.0375,
          60.0375,
          59.95,
          60.0125,
          60.0125,
          59.9875,
          60.025,
          59.9625,
          25.0125,
          25,
          25.0125,
          25.025,
          25.0375,
          25.0125,
          25.025,
          25.025,
          25.0125,
          24.975,
          10,
          10,
          9.975,
          10.025,
          10,
          10,
          10.025,
          10,
          9.9875,
          10,
          4,
          4.0125,
          4.0125,
          4,
          4.0125,
          4,
          4.025,
          4,
          4.0125,
          4.0125,
          0,
          0,
          0,
          0,
          0,
          0,
          0,
          0,
          0,
          0,
          59.95,
          60,
          59.9625,
          60,
          59.9625,
          59.9625,
          60.025,
          60.0625,
          59.975,
          60.075,
          25.0125,
          25.0125,
          24.9875,
          24.9875,
          24.9625,
          24.9875,
          25.0125,
          24.95,
          25,
          25,
          9.9875,
          10,
          10.0125,
          10,
          10,
          10.025,
          10,
          10.0125,
          10.0125,
          10,
          3.9875,
          4.025,
          4,
          4.0125,
          4.0125,
          4,
          4.0125,
          4,
          4.0125,
          4.0125
         ]
        },
        {
         "name": "pred_ppm",
         "type": "scatter",
         "y": [
          0,
          0,
          0,
          0,
          0,
          0,
          0,
          0,
          0,
          0,
          62.273001908333995,
          58.335751862355416,
          60.294899162138,
          60.777935569131486,
          61.21976049628225,
          59.711312523167265,
          62.28064826477727,
          62.84856461545303,
          59.216291314424424,
          61.74795395094261,
          17.23483768091283,
          17.835460086004375,
          16.37938901098427,
          17.220448069335358,
          17.978645523736144,
          16.526063869458653,
          16.935213874707973,
          18.135068529503943,
          15.498238828137332,
          17.974963897745614,
          6.748301689226546,
          6.406943251149827,
          4.480385336827956,
          5.139868692991384,
          6.010806706597008,
          5.625180547509981,
          5.855081669113227,
          5.790456385181906,
          6.230634311146939,
          7.177480810806423,
          2.512472988738187,
          2.7816882302952295,
          2.6061758008775575,
          2.408118874355697,
          2.6497641487529555,
          2.929715978571692,
          2.8893162642379306,
          2.9756761554129105,
          2.882717948685784,
          2.781406842024418,
          0,
          0,
          0,
          0,
          0,
          0,
          0,
          0,
          0,
          0,
          72.75823762588708,
          65.39569217382736,
          69.26894732376883,
          63.7966469596339,
          69.86433658578771,
          72.14929176858573,
          73.35316822984959,
          75.19137107078532,
          63.22511673210073,
          74.05754432167348,
          20.174748413007663,
          19.54783584239634,
          22.085270909827802,
          21.590571197910993,
          21.381161123453047,
          21.55218059980242,
          21.049052736191456,
          21.0623756704774,
          22.49466129841252,
          22.118341532673014,
          9.240218725131333,
          10.958490808133996,
          9.747946419383053,
          8.799995855274743,
          10.777032667708058,
          9.990733042350351,
          10.001332990239218,
          9.378317259685543,
          11.424455677372343,
          9.86499554551263,
          4.092512167083339,
          5.164668607102243,
          3.6344170177229462,
          5.951135703684956,
          4.900399139333384,
          4.668212208224391,
          4.043145903637033,
          4.2128095232941085,
          4.146557654589302,
          4.653003687772793,
          0,
          0,
          0,
          0,
          0,
          0,
          0,
          0,
          0,
          0,
          69.76034217844382,
          73.40366769798787,
          71.51552994872642,
          74.43406083351108,
          72.10602333868182,
          75.17974614104277,
          74.54245190150063,
          71.57363903040287,
          72.11411102578882,
          83.00022814732253,
          26.725184211995,
          24.60743168766012,
          21.731371386755175,
          26.72314012588753,
          23.546268751083947,
          23.751944021298623,
          26.487137270918694,
          25.16861863611266,
          26.72611805565936,
          24.180225601855554,
          9.938554101318978,
          11.371009719407391,
          11.466009560179808,
          12.570146401273472,
          11.75390601808158,
          11.378581293467173,
          10.47031216718166,
          11.005404443856024,
          11.369371135346233,
          10.909120510124955,
          4.892013079000822,
          5.4921906871021955,
          5.492824658822848,
          5.356286459584689,
          5.158847803264076,
          4.510862997092063,
          4.587039650870428,
          5.559490055035794,
          5.084592649487304,
          5.6610358333234245,
          0,
          0,
          0,
          0,
          0,
          0,
          0,
          0,
          0,
          0,
          73.52138798229583,
          61.75491877386516,
          80.57295450335924,
          71.76526574422091,
          72.32348339604167,
          70.56383911972061,
          76.63330635662682,
          75.4328395799197,
          69.40222116395674,
          84.70056380134024,
          24.23362313240546,
          23.65392009670547,
          24.254646804102816,
          21.757380756855003,
          24.241765157959918,
          22.718880608449044,
          24.029145532124858,
          26.13170164946877,
          23.46072895415488,
          24.853575151550544,
          12.904905083427193,
          11.221956281248511,
          11.899625609195462,
          11.497142562659343,
          10.593266004681258,
          12.605321741852617,
          10.952409048856627,
          11.993003029703049,
          11.700523814026138,
          11.908058169732577,
          5.517301096965045,
          5.319688053081245,
          5.367078728333792,
          6.0387423834702565,
          6.954357656885694,
          4.896614161064115,
          5.577396872043794,
          4.95554022260318,
          5.152801871675804,
          8.767113468172646,
          0,
          0,
          0,
          0,
          0,
          0,
          0,
          0,
          0,
          0,
          101.52657424404431,
          86.58527065311948,
          87.34072286527052,
          87.30331341624645,
          90.28706369631809,
          81.05026481274292,
          89.65586063961015,
          93.4263723093342,
          79.0491647887012,
          81.79477048822856,
          30.497944556362498,
          29.74684753819583,
          30.50550178343269,
          30.501499853777318,
          29.4821071355633,
          29.483468260845388,
          29.004466770861676,
          29.9772278355689,
          30.472555515653774,
          34.83781149492112,
          14.017179870701638,
          13.09622147991246,
          15.097148183075134,
          13.188033827239261,
          13.43446053076951,
          13.892753985928147,
          15.87565161202519,
          13.53022130220601,
          14.488866206149167,
          11.838540040798529,
          9.647247328341743,
          7.849435475805694,
          8.057964401488647,
          6.362192869819235,
          6.128683926963207,
          8.481782895596734,
          6.276803982493735,
          8.23855247956314,
          7.242923797283727,
          7.352550730079492,
          0,
          0,
          0,
          0,
          0,
          0,
          0,
          0,
          0,
          0,
          79.73493264427547,
          69.71316771012965,
          79.02716550513892,
          76.46579418309886,
          83.10298914938107,
          79.00282246647967,
          78.37475085120718,
          81.6669262557033,
          79.66963562025273,
          85.10878786039177,
          26.91110549772987,
          25.393448133130928,
          28.29902733641315,
          27.14550371335049,
          28.77704779178044,
          28.778505372212265,
          30.242448110980384,
          25.812128691163366,
          28.76900806012409,
          27.594982383542217,
          13.098667594517377,
          12.36160099070023,
          14.038047152110382,
          13.110561894992326,
          12.891620409605945,
          13.576057893845183,
          11.570928822953078,
          13.471488240501598,
          13.143677404920306,
          11.46754836107104,
          5.826790558656146,
          6.893112946323824,
          7.0906163700420874,
          7.364634302659429,
          6.1453727933933715,
          7.293605769054492,
          7.968234942494445,
          7.395198816786721,
          6.818570177122968,
          6.74043355907557
         ]
        },
        {
         "name": "Humidity",
         "type": "scatter",
         "y": [
          62.232971191400004,
          62.2314453125,
          62.294006347700005,
          62.307739257799994,
          62.321472168,
          62.356567382799994,
          62.376403808599996,
          62.362670898400005,
          62.388610839799995,
          62.411499023400005,
          62.890625,
          62.8982543945,
          62.8784179688,
          62.9592895508,
          62.9272460938,
          62.9959106445,
          62.98828125,
          63.026428222700005,
          63.009643554700006,
          63.020324707,
          63.023376464799995,
          63.0310058594,
          63.084411621099996,
          63.076782226599995,
          63.035583496099996,
          63.101196289099995,
          63.084411621099996,
          63.009643554700006,
          62.8005981445,
          62.661743164099995,
          62.59765625,
          62.6510620117,
          62.643432617200006,
          62.6998901367,
          62.7136230469,
          62.7395629883,
          62.765502929700006,
          62.742614746099996,
          62.7807617188,
          62.8128051758,
          62.924194335900005,
          62.9440307617,
          62.942504882799994,
          62.9196166992,
          62.954711914099995,
          62.9684448242,
          62.948608398400005,
          62.986755371099996,
          63.0126953125,
          62.998962402299995,
          62.1536254883,
          62.1643066406,
          62.184143066400004,
          62.179565429700006,
          62.2024536133,
          62.109375,
          61.866760253900004,
          61.715698242200006,
          61.6653442383,
          61.642456054700006,
          62.136840820299994,
          62.171936035200005,
          62.203979492200006,
          62.2116088867,
          62.20703125,
          62.245178222700005,
          62.289428710900005,
          62.321472168,
          62.350463867200006,
          62.351989746099996,
          62.4633789063,
          62.437438964799995,
          62.503051757799994,
          62.525939941400004,
          62.527465820299994,
          62.5198364258,
          62.548828125,
          62.574768066400004,
          62.600708007799994,
          62.596130371099996,
          62.315368652299995,
          62.155151367200006,
          62.0559692383,
          62.0544433594,
          62.0407104492,
          62.0727539063,
          62.0803833008,
          62.1643066406,
          62.141418457,
          62.155151367200006,
          62.336730957,
          62.332153320299994,
          62.3977661133,
          62.374877929700006,
          62.367248535200005,
          62.3962402344,
          62.416076660200005,
          62.4328613281,
          62.4465942383,
          62.448120117200006,
          62.0727539063,
          62.110900878900004,
          62.1276855469,
          62.132263183599996,
          62.136840820299994,
          62.135314941400004,
          62.1276855469,
          62.159729003900004,
          62.173461914099995,
          62.2146606445,
          62.6647949219,
          62.681579589799995,
          62.680053710900005,
          62.672424316400004,
          62.6831054688,
          62.7243041992,
          62.7380371094,
          62.733459472700005,
          62.7197265625,
          62.644958496099996,
          62.2482299805,
          62.255859375,
          62.321472168,
          62.319946289099995,
          62.321472168,
          62.3596191406,
          62.379455566400004,
          62.387084960900005,
          62.4221801758,
          62.4267578125,
          62.564086914099995,
          62.596130371099996,
          62.619018554700006,
          62.559509277299995,
          62.619018554700006,
          62.614440918,
          62.557983398400005,
          62.6052856445,
          62.637329101599995,
          62.672424316400004,
          62.130737304700006,
          62.083435058599996,
          62.081909179700006,
          62.086486816400004,
          62.118530273400005,
          62.126159668,
          62.130737304700006,
          62.196350097700005,
          62.1704101563,
          62.1871948242,
          62.1948242188,
          61.994934082,
          61.880493164099995,
          61.8606567383,
          61.8469238281,
          61.8576049805,
          61.886596679700006,
          61.875915527299995,
          61.917114257799994,
          61.949157714799995,
          62.3718261719,
          62.437438964799995,
          62.460327148400005,
          62.461853027299995,
          62.4938964844,
          62.516784668,
          62.548828125,
          62.596130371099996,
          62.594604492200006,
          62.608337402299995,
          62.6586914063,
          62.672424316400004,
          62.6831054688,
          62.727355957,
          62.7258300781,
          62.7395629883,
          62.7746582031,
          62.7151489258,
          62.7563476563,
          62.791442871099996,
          62.7807617188,
          62.794494628900004,
          62.7075195313,
          62.513732910200005,
          62.3657226563,
          62.3001098633,
          62.283325195299994,
          62.3001098633,
          62.2985839844,
          62.3001098633,
          62.4633789063,
          62.4435424805,
          62.545776367200006,
          62.522888183599996,
          62.5549316406,
          62.5564575195,
          62.548828125,
          62.5900268555,
          62.600708007799994,
          62.5900268555,
          61.155700683599996,
          61.166381835900005,
          61.192321777299995,
          61.2243652344,
          61.241149902299995,
          61.2731933594,
          61.293029785200005,
          61.3220214844,
          61.360168457,
          61.367797851599995,
          61.843872070299994,
          61.8606567383,
          61.8713378906,
          61.891174316400004,
          61.9201660156,
          61.9552612305,
          61.9812011719,
          61.985778808599996,
          61.984252929700006,
          62.028503418,
          62.086486816400004,
          62.124633789099995,
          62.1170043945,
          62.106323242200006,
          62.1658325195,
          62.155151367200006,
          62.159729003900004,
          62.1765136719,
          62.2116088867,
          62.222290039099995,
          61.7004394531,
          61.671447753900004,
          61.669921875,
          61.717224121099996,
          61.740112304700006,
          61.7233276367,
          61.776733398400005,
          61.799621582,
          61.825561523400005,
          61.842346191400004,
          61.965942382799994,
          62.001037597700005,
          62.014770507799994,
          62.0193481445,
          62.045288085900005,
          62.034606933599996,
          62.051391601599995,
          62.0559692383,
          62.0666503906,
          62.1017456055,
          62.0300292969,
          62.028503418,
          62.0422363281,
          62.062072753900004,
          62.0666503906,
          62.083435058599996,
          62.063598632799994,
          62.1170043945,
          62.1154785156,
          62.110900878900004,
          62.586975097700005,
          62.600708007799994,
          62.583923339799995,
          62.6159667969,
          62.648010253900004,
          62.612915039099995,
          62.608337402299995,
          62.6220703125,
          62.6419067383,
          62.539672851599995,
          62.1337890625,
          62.1994018555,
          62.1948242188,
          62.2116088867,
          62.277221679700006,
          62.272644043,
          62.2680664063,
          62.303161621099996,
          62.344360351599995,
          62.388610839799995,
          62.321472168,
          62.356567382799994,
          62.379455566400004,
          62.3840332031,
          62.385559082,
          62.3779296875,
          62.4069213867,
          62.429809570299994,
          62.449645996099996,
          62.460327148400005,
          62.5198364258,
          62.4938964844,
          62.4923706055,
          62.4755859375,
          62.3458862305,
          62.136840820299994,
          61.997985839799995,
          61.9934082031,
          61.979675293,
          61.978149414099995
         ]
        },
        {
         "name": "Temperature",
         "type": "scatter",
         "y": [
          30.8959197998,
          30.888366699200002,
          30.8908843994,
          30.888366699200002,
          30.8908843994,
          30.888366699200002,
          30.8959197998,
          30.8934020996,
          30.8959197998,
          30.888366699200002,
          30.8782958984,
          30.885848999,
          30.8833312988,
          30.8808135986,
          30.873260498,
          30.8808135986,
          30.8782958984,
          30.8808135986,
          30.873260498,
          30.875778198200003,
          30.885848999,
          30.868225097699998,
          30.875778198200003,
          30.868225097699998,
          30.875778198200003,
          30.873260498,
          30.875778198200003,
          30.868225097699998,
          30.8707427979,
          30.8631896973,
          30.8631896973,
          30.8808135986,
          30.873260498,
          30.875778198200003,
          30.8782958984,
          30.8808135986,
          30.8833312988,
          30.875778198200003,
          30.8833312988,
          30.875778198200003,
          30.873260498,
          30.855636596700002,
          30.868225097699998,
          30.8808135986,
          30.873260498,
          30.8707427979,
          30.8631896973,
          30.8657073975,
          30.868225097699998,
          30.875778198200003,
          30.840530395500004,
          30.843048095700002,
          30.835494995100003,
          30.8531188965,
          30.8455657959,
          30.843048095700002,
          30.8455657959,
          30.8531188965,
          30.8506011963,
          30.843048095700002,
          30.848083496100003,
          30.855636596700002,
          30.8531188965,
          30.8657073975,
          30.8631896973,
          30.855636596700002,
          30.848083496100003,
          30.855636596700002,
          30.8531188965,
          30.8657073975,
          30.8581542969,
          30.8657073975,
          30.8782958984,
          30.8657073975,
          30.8581542969,
          30.875778198200003,
          30.868225097699998,
          30.8707427979,
          30.8782958984,
          30.8606719971,
          30.8707427979,
          30.873260498,
          30.8707427979,
          30.868225097699998,
          30.8808135986,
          30.8782958984,
          30.8808135986,
          30.873260498,
          30.8707427979,
          30.873260498,
          30.8908843994,
          30.8782958984,
          30.8808135986,
          30.8833312988,
          30.8908843994,
          30.888366699200002,
          30.885848999,
          30.8833312988,
          30.885848999,
          30.8782958984,
          30.8631896973,
          30.8707427979,
          30.868225097699998,
          30.8657073975,
          30.8631896973,
          30.8657073975,
          30.868225097699998,
          30.875778198200003,
          30.8531188965,
          30.8606719971,
          30.8631896973,
          30.8707427979,
          30.868225097699998,
          30.855636596700002,
          30.8631896973,
          30.8606719971,
          30.8581542969,
          30.8707427979,
          30.8631896973,
          30.8657073975,
          30.8506011963,
          30.8581542969,
          30.8455657959,
          30.8581542969,
          30.8606719971,
          30.8631896973,
          30.855636596700002,
          30.8631896973,
          30.8657073975,
          30.8581542969,
          30.843048095700002,
          30.8506011963,
          30.848083496100003,
          30.8506011963,
          30.8631896973,
          30.855636596700002,
          30.8531188965,
          30.855636596700002,
          30.8581542969,
          30.855636596700002,
          30.868225097699998,
          30.8606719971,
          30.8581542969,
          30.8657073975,
          30.8531188965,
          30.8707427979,
          30.8782958984,
          30.875778198200003,
          30.868225097699998,
          30.8606719971,
          30.8229064941,
          30.815353393600002,
          30.8178710938,
          30.820388793899998,
          30.8229064941,
          30.815353393600002,
          30.8128356934,
          30.820388793899998,
          30.807800293000003,
          30.815353393600002,
          30.8178710938,
          30.815353393600002,
          30.8178710938,
          30.8254241943,
          30.8178710938,
          30.8254241943,
          30.8178710938,
          30.8254241943,
          30.8178710938,
          30.8304595947,
          30.8229064941,
          30.8254241943,
          30.8128356934,
          30.8254241943,
          30.8178710938,
          30.8304595947,
          30.8229064941,
          30.820388793899998,
          30.8128356934,
          30.8103179932,
          30.8128356934,
          30.815353393600002,
          30.8178710938,
          30.820388793899998,
          30.802764892600003,
          30.8052825928,
          30.802764892600003,
          30.815353393600002,
          30.807800293000003,
          30.820388793899998,
          30.8229064941,
          30.8254241943,
          30.8229064941,
          30.820388793899998,
          30.8128356934,
          30.8254241943,
          30.827941894499997,
          30.8254241943,
          30.8178710938,
          30.820388793899998,
          30.981521606399998,
          30.9790039063,
          30.9865570068,
          30.968933105500003,
          30.9915924072,
          30.9790039063,
          30.981521606399998,
          30.9840393066,
          30.9865570068,
          30.9790039063,
          30.9840393066,
          30.981521606399998,
          30.9790039063,
          30.9865570068,
          30.9790039063,
          30.9865570068,
          30.994110107399997,
          30.9915924072,
          30.989074706999997,
          30.996627807600003,
          31.001663208000004,
          30.9790039063,
          30.9865570068,
          30.989074706999997,
          30.9865570068,
          30.9790039063,
          30.9865570068,
          30.9840393066,
          30.9865570068,
          30.968933105500003,
          30.968933105500003,
          30.9664154053,
          30.963897705100003,
          30.976486206100002,
          30.968933105500003,
          30.976486206100002,
          30.968933105500003,
          30.9714508057,
          30.9739685059,
          30.981521606399998,
          30.994110107399997,
          30.9915924072,
          30.994110107399997,
          30.996627807600003,
          30.9840393066,
          30.996627807600003,
          30.989074706999997,
          31.001663208000004,
          30.994110107399997,
          30.9865570068,
          30.8984375,
          30.8959197998,
          30.8984375,
          30.9009552002,
          30.8984375,
          30.9009552002,
          30.908508300799998,
          30.9009552002,
          30.8984375,
          30.9059906006,
          30.9009552002,
          30.8984375,
          30.8908843994,
          30.9034729004,
          30.9009552002,
          30.8984375,
          30.9009552002,
          30.8934020996,
          30.8959197998,
          30.888366699200002,
          30.873260498,
          30.8808135986,
          30.868225097699998,
          30.8707427979,
          30.873260498,
          30.8657073975,
          30.8934020996,
          30.885848999,
          30.8782958984,
          30.8908843994,
          30.9009552002,
          30.8984375,
          30.8959197998,
          30.888366699200002,
          30.9160614014,
          30.9034729004,
          30.9160614014,
          30.8934020996,
          30.9009552002,
          30.908508300799998,
          30.911026001,
          30.9034729004,
          30.9009552002,
          30.9034729004,
          30.9009552002,
          30.8984375,
          30.9009552002,
          30.8984375,
          30.8959197998,
          30.8934020996
         ]
        }
       ],
       "layout": {
        "template": {
         "data": {
          "bar": [
           {
            "error_x": {
             "color": "#2a3f5f"
            },
            "error_y": {
             "color": "#2a3f5f"
            },
            "marker": {
             "line": {
              "color": "#E5ECF6",
              "width": 0.5
             }
            },
            "type": "bar"
           }
          ],
          "barpolar": [
           {
            "marker": {
             "line": {
              "color": "#E5ECF6",
              "width": 0.5
             }
            },
            "type": "barpolar"
           }
          ],
          "carpet": [
           {
            "aaxis": {
             "endlinecolor": "#2a3f5f",
             "gridcolor": "white",
             "linecolor": "white",
             "minorgridcolor": "white",
             "startlinecolor": "#2a3f5f"
            },
            "baxis": {
             "endlinecolor": "#2a3f5f",
             "gridcolor": "white",
             "linecolor": "white",
             "minorgridcolor": "white",
             "startlinecolor": "#2a3f5f"
            },
            "type": "carpet"
           }
          ],
          "choropleth": [
           {
            "colorbar": {
             "outlinewidth": 0,
             "ticks": ""
            },
            "type": "choropleth"
           }
          ],
          "contour": [
           {
            "colorbar": {
             "outlinewidth": 0,
             "ticks": ""
            },
            "colorscale": [
             [
              0,
              "#0d0887"
             ],
             [
              0.1111111111111111,
              "#46039f"
             ],
             [
              0.2222222222222222,
              "#7201a8"
             ],
             [
              0.3333333333333333,
              "#9c179e"
             ],
             [
              0.4444444444444444,
              "#bd3786"
             ],
             [
              0.5555555555555556,
              "#d8576b"
             ],
             [
              0.6666666666666666,
              "#ed7953"
             ],
             [
              0.7777777777777778,
              "#fb9f3a"
             ],
             [
              0.8888888888888888,
              "#fdca26"
             ],
             [
              1,
              "#f0f921"
             ]
            ],
            "type": "contour"
           }
          ],
          "contourcarpet": [
           {
            "colorbar": {
             "outlinewidth": 0,
             "ticks": ""
            },
            "type": "contourcarpet"
           }
          ],
          "heatmap": [
           {
            "colorbar": {
             "outlinewidth": 0,
             "ticks": ""
            },
            "colorscale": [
             [
              0,
              "#0d0887"
             ],
             [
              0.1111111111111111,
              "#46039f"
             ],
             [
              0.2222222222222222,
              "#7201a8"
             ],
             [
              0.3333333333333333,
              "#9c179e"
             ],
             [
              0.4444444444444444,
              "#bd3786"
             ],
             [
              0.5555555555555556,
              "#d8576b"
             ],
             [
              0.6666666666666666,
              "#ed7953"
             ],
             [
              0.7777777777777778,
              "#fb9f3a"
             ],
             [
              0.8888888888888888,
              "#fdca26"
             ],
             [
              1,
              "#f0f921"
             ]
            ],
            "type": "heatmap"
           }
          ],
          "heatmapgl": [
           {
            "colorbar": {
             "outlinewidth": 0,
             "ticks": ""
            },
            "colorscale": [
             [
              0,
              "#0d0887"
             ],
             [
              0.1111111111111111,
              "#46039f"
             ],
             [
              0.2222222222222222,
              "#7201a8"
             ],
             [
              0.3333333333333333,
              "#9c179e"
             ],
             [
              0.4444444444444444,
              "#bd3786"
             ],
             [
              0.5555555555555556,
              "#d8576b"
             ],
             [
              0.6666666666666666,
              "#ed7953"
             ],
             [
              0.7777777777777778,
              "#fb9f3a"
             ],
             [
              0.8888888888888888,
              "#fdca26"
             ],
             [
              1,
              "#f0f921"
             ]
            ],
            "type": "heatmapgl"
           }
          ],
          "histogram": [
           {
            "marker": {
             "colorbar": {
              "outlinewidth": 0,
              "ticks": ""
             }
            },
            "type": "histogram"
           }
          ],
          "histogram2d": [
           {
            "colorbar": {
             "outlinewidth": 0,
             "ticks": ""
            },
            "colorscale": [
             [
              0,
              "#0d0887"
             ],
             [
              0.1111111111111111,
              "#46039f"
             ],
             [
              0.2222222222222222,
              "#7201a8"
             ],
             [
              0.3333333333333333,
              "#9c179e"
             ],
             [
              0.4444444444444444,
              "#bd3786"
             ],
             [
              0.5555555555555556,
              "#d8576b"
             ],
             [
              0.6666666666666666,
              "#ed7953"
             ],
             [
              0.7777777777777778,
              "#fb9f3a"
             ],
             [
              0.8888888888888888,
              "#fdca26"
             ],
             [
              1,
              "#f0f921"
             ]
            ],
            "type": "histogram2d"
           }
          ],
          "histogram2dcontour": [
           {
            "colorbar": {
             "outlinewidth": 0,
             "ticks": ""
            },
            "colorscale": [
             [
              0,
              "#0d0887"
             ],
             [
              0.1111111111111111,
              "#46039f"
             ],
             [
              0.2222222222222222,
              "#7201a8"
             ],
             [
              0.3333333333333333,
              "#9c179e"
             ],
             [
              0.4444444444444444,
              "#bd3786"
             ],
             [
              0.5555555555555556,
              "#d8576b"
             ],
             [
              0.6666666666666666,
              "#ed7953"
             ],
             [
              0.7777777777777778,
              "#fb9f3a"
             ],
             [
              0.8888888888888888,
              "#fdca26"
             ],
             [
              1,
              "#f0f921"
             ]
            ],
            "type": "histogram2dcontour"
           }
          ],
          "mesh3d": [
           {
            "colorbar": {
             "outlinewidth": 0,
             "ticks": ""
            },
            "type": "mesh3d"
           }
          ],
          "parcoords": [
           {
            "line": {
             "colorbar": {
              "outlinewidth": 0,
              "ticks": ""
             }
            },
            "type": "parcoords"
           }
          ],
          "pie": [
           {
            "automargin": true,
            "type": "pie"
           }
          ],
          "scatter": [
           {
            "marker": {
             "colorbar": {
              "outlinewidth": 0,
              "ticks": ""
             }
            },
            "type": "scatter"
           }
          ],
          "scatter3d": [
           {
            "line": {
             "colorbar": {
              "outlinewidth": 0,
              "ticks": ""
             }
            },
            "marker": {
             "colorbar": {
              "outlinewidth": 0,
              "ticks": ""
             }
            },
            "type": "scatter3d"
           }
          ],
          "scattercarpet": [
           {
            "marker": {
             "colorbar": {
              "outlinewidth": 0,
              "ticks": ""
             }
            },
            "type": "scattercarpet"
           }
          ],
          "scattergeo": [
           {
            "marker": {
             "colorbar": {
              "outlinewidth": 0,
              "ticks": ""
             }
            },
            "type": "scattergeo"
           }
          ],
          "scattergl": [
           {
            "marker": {
             "colorbar": {
              "outlinewidth": 0,
              "ticks": ""
             }
            },
            "type": "scattergl"
           }
          ],
          "scattermapbox": [
           {
            "marker": {
             "colorbar": {
              "outlinewidth": 0,
              "ticks": ""
             }
            },
            "type": "scattermapbox"
           }
          ],
          "scatterpolar": [
           {
            "marker": {
             "colorbar": {
              "outlinewidth": 0,
              "ticks": ""
             }
            },
            "type": "scatterpolar"
           }
          ],
          "scatterpolargl": [
           {
            "marker": {
             "colorbar": {
              "outlinewidth": 0,
              "ticks": ""
             }
            },
            "type": "scatterpolargl"
           }
          ],
          "scatterternary": [
           {
            "marker": {
             "colorbar": {
              "outlinewidth": 0,
              "ticks": ""
             }
            },
            "type": "scatterternary"
           }
          ],
          "surface": [
           {
            "colorbar": {
             "outlinewidth": 0,
             "ticks": ""
            },
            "colorscale": [
             [
              0,
              "#0d0887"
             ],
             [
              0.1111111111111111,
              "#46039f"
             ],
             [
              0.2222222222222222,
              "#7201a8"
             ],
             [
              0.3333333333333333,
              "#9c179e"
             ],
             [
              0.4444444444444444,
              "#bd3786"
             ],
             [
              0.5555555555555556,
              "#d8576b"
             ],
             [
              0.6666666666666666,
              "#ed7953"
             ],
             [
              0.7777777777777778,
              "#fb9f3a"
             ],
             [
              0.8888888888888888,
              "#fdca26"
             ],
             [
              1,
              "#f0f921"
             ]
            ],
            "type": "surface"
           }
          ],
          "table": [
           {
            "cells": {
             "fill": {
              "color": "#EBF0F8"
             },
             "line": {
              "color": "white"
             }
            },
            "header": {
             "fill": {
              "color": "#C8D4E3"
             },
             "line": {
              "color": "white"
             }
            },
            "type": "table"
           }
          ]
         },
         "layout": {
          "annotationdefaults": {
           "arrowcolor": "#2a3f5f",
           "arrowhead": 0,
           "arrowwidth": 1
          },
          "autotypenumbers": "strict",
          "coloraxis": {
           "colorbar": {
            "outlinewidth": 0,
            "ticks": ""
           }
          },
          "colorscale": {
           "diverging": [
            [
             0,
             "#8e0152"
            ],
            [
             0.1,
             "#c51b7d"
            ],
            [
             0.2,
             "#de77ae"
            ],
            [
             0.3,
             "#f1b6da"
            ],
            [
             0.4,
             "#fde0ef"
            ],
            [
             0.5,
             "#f7f7f7"
            ],
            [
             0.6,
             "#e6f5d0"
            ],
            [
             0.7,
             "#b8e186"
            ],
            [
             0.8,
             "#7fbc41"
            ],
            [
             0.9,
             "#4d9221"
            ],
            [
             1,
             "#276419"
            ]
           ],
           "sequential": [
            [
             0,
             "#0d0887"
            ],
            [
             0.1111111111111111,
             "#46039f"
            ],
            [
             0.2222222222222222,
             "#7201a8"
            ],
            [
             0.3333333333333333,
             "#9c179e"
            ],
            [
             0.4444444444444444,
             "#bd3786"
            ],
            [
             0.5555555555555556,
             "#d8576b"
            ],
            [
             0.6666666666666666,
             "#ed7953"
            ],
            [
             0.7777777777777778,
             "#fb9f3a"
            ],
            [
             0.8888888888888888,
             "#fdca26"
            ],
            [
             1,
             "#f0f921"
            ]
           ],
           "sequentialminus": [
            [
             0,
             "#0d0887"
            ],
            [
             0.1111111111111111,
             "#46039f"
            ],
            [
             0.2222222222222222,
             "#7201a8"
            ],
            [
             0.3333333333333333,
             "#9c179e"
            ],
            [
             0.4444444444444444,
             "#bd3786"
            ],
            [
             0.5555555555555556,
             "#d8576b"
            ],
            [
             0.6666666666666666,
             "#ed7953"
            ],
            [
             0.7777777777777778,
             "#fb9f3a"
            ],
            [
             0.8888888888888888,
             "#fdca26"
            ],
            [
             1,
             "#f0f921"
            ]
           ]
          },
          "colorway": [
           "#636efa",
           "#EF553B",
           "#00cc96",
           "#ab63fa",
           "#FFA15A",
           "#19d3f3",
           "#FF6692",
           "#B6E880",
           "#FF97FF",
           "#FECB52"
          ],
          "font": {
           "color": "#2a3f5f"
          },
          "geo": {
           "bgcolor": "white",
           "lakecolor": "white",
           "landcolor": "#E5ECF6",
           "showlakes": true,
           "showland": true,
           "subunitcolor": "white"
          },
          "hoverlabel": {
           "align": "left"
          },
          "hovermode": "closest",
          "mapbox": {
           "style": "light"
          },
          "paper_bgcolor": "white",
          "plot_bgcolor": "#E5ECF6",
          "polar": {
           "angularaxis": {
            "gridcolor": "white",
            "linecolor": "white",
            "ticks": ""
           },
           "bgcolor": "#E5ECF6",
           "radialaxis": {
            "gridcolor": "white",
            "linecolor": "white",
            "ticks": ""
           }
          },
          "scene": {
           "xaxis": {
            "backgroundcolor": "#E5ECF6",
            "gridcolor": "white",
            "gridwidth": 2,
            "linecolor": "white",
            "showbackground": true,
            "ticks": "",
            "zerolinecolor": "white"
           },
           "yaxis": {
            "backgroundcolor": "#E5ECF6",
            "gridcolor": "white",
            "gridwidth": 2,
            "linecolor": "white",
            "showbackground": true,
            "ticks": "",
            "zerolinecolor": "white"
           },
           "zaxis": {
            "backgroundcolor": "#E5ECF6",
            "gridcolor": "white",
            "gridwidth": 2,
            "linecolor": "white",
            "showbackground": true,
            "ticks": "",
            "zerolinecolor": "white"
           }
          },
          "shapedefaults": {
           "line": {
            "color": "#2a3f5f"
           }
          },
          "ternary": {
           "aaxis": {
            "gridcolor": "white",
            "linecolor": "white",
            "ticks": ""
           },
           "baxis": {
            "gridcolor": "white",
            "linecolor": "white",
            "ticks": ""
           },
           "bgcolor": "#E5ECF6",
           "caxis": {
            "gridcolor": "white",
            "linecolor": "white",
            "ticks": ""
           }
          },
          "title": {
           "x": 0.05
          },
          "xaxis": {
           "automargin": true,
           "gridcolor": "white",
           "linecolor": "white",
           "ticks": "",
           "title": {
            "standoff": 15
           },
           "zerolinecolor": "white",
           "zerolinewidth": 2
          },
          "yaxis": {
           "automargin": true,
           "gridcolor": "white",
           "linecolor": "white",
           "ticks": "",
           "title": {
            "standoff": 15
           },
           "zerolinecolor": "white",
           "zerolinewidth": 2
          }
         }
        },
        "title": {
         "text": "(61%~63%) (magic_comp) (RMSE=8.04)"
        },
        "xaxis": {
         "range": [
          0,
          300
         ]
        }
       }
      },
      "text/html": [
       "<div>                            <div id=\"b60d25bd-04c7-4260-b375-1a8a8dd70578\" class=\"plotly-graph-div\" style=\"height:525px; width:100%;\"></div>            <script type=\"text/javascript\">                require([\"plotly\"], function(Plotly) {                    window.PLOTLYENV=window.PLOTLYENV || {};                                    if (document.getElementById(\"b60d25bd-04c7-4260-b375-1a8a8dd70578\")) {                    Plotly.newPlot(                        \"b60d25bd-04c7-4260-b375-1a8a8dd70578\",                        [{\"name\": \"ppm\", \"type\": \"scatter\", \"y\": [0.0, 0.0, 0.0, 0.0, 0.0, 0.0, 0.0, 0.0, 0.0, 0.0, 60.0375, 59.9875, 59.975, 59.9875, 59.9625, 59.9875, 59.9375, 60.0125, 59.9875, 59.975, 25.0125, 25.0, 25.0125, 24.925, 25.0375, 24.9625, 24.9875, 25.0, 24.9875, 24.95, 10.0, 10.0125, 10.0125, 10.0, 10.0, 9.975, 10.0125, 9.975, 10.025, 9.9875, 4.0, 4.0125, 4.025, 4.025, 4.0, 4.0125, 4.0, 4.0, 4.0125, 4.0, 0.0, 0.0, 0.0, 0.0, 0.0, 0.0, 0.0, 0.0, 0.0, 0.0, 60.0375, 60.025, 59.9625, 59.9875, 60.05, 59.95, 60.0625, 60.05, 59.975, 59.9875, 24.9375, 25.0, 25.0, 25.0125, 25.0375, 24.9875, 24.9875, 25.0125, 24.975, 25.025, 10.0, 10.0, 10.0, 9.9875, 10.0, 10.0, 10.0, 9.9875, 10.0125, 10.025, 4.0125, 4.0125, 4.0, 4.0125, 4.025, 4.0, 4.025, 4.025, 4.0, 4.025, 0.0, 0.0, 0.0, 0.0, 0.0, 0.0, 0.0, 0.0, 0.0, 0.0, 60.0125, 59.975, 59.975, 60.0375, 59.9875, 59.9875, 60.0, 60.025, 60.0375, 60.0375, 24.9625, 25.025, 25.0125, 24.9875, 24.9875, 25.025, 24.925, 25.0125, 25.0, 24.975, 10.025, 10.0, 10.0, 10.0125, 10.0125, 10.025, 10.0, 9.9875, 10.0125, 9.975, 3.9875, 4.0, 4.025, 4.0125, 4.0, 4.0125, 3.9875, 4.0, 4.0, 4.0, 0.0, 0.0, 0.0, 0.0, 0.0, 0.0, 0.0, 0.0, 0.0, 0.0, 59.9375, 60.0, 60.0375, 59.9625, 60.0375, 60.0125, 59.9625, 59.9375, 59.975, 60.0, 25.0, 25.0, 24.9875, 25.025, 25.025, 24.9875, 25.0125, 25.025, 24.975, 25.0375, 10.025, 10.0125, 10.025, 10.0125, 10.0, 10.0125, 10.0, 9.9875, 9.9875, 10.025, 4.0, 4.0, 4.0125, 4.0, 4.0125, 4.0125, 4.0, 4.0, 4.0, 4.0, 0.0, 0.0, 0.0, 0.0, 0.0, 0.0, 0.0, 0.0, 0.0, 0.0, 59.9, 60.0125, 60.0375, 60.0375, 59.95, 60.0125, 60.0125, 59.9875, 60.025, 59.9625, 25.0125, 25.0, 25.0125, 25.025, 25.0375, 25.0125, 25.025, 25.025, 25.0125, 24.975, 10.0, 10.0, 9.975, 10.025, 10.0, 10.0, 10.025, 10.0, 9.9875, 10.0, 4.0, 4.0125, 4.0125, 4.0, 4.0125, 4.0, 4.025, 4.0, 4.0125, 4.0125, 0.0, 0.0, 0.0, 0.0, 0.0, 0.0, 0.0, 0.0, 0.0, 0.0, 59.95, 60.0, 59.9625, 60.0, 59.9625, 59.9625, 60.025, 60.0625, 59.975, 60.075, 25.0125, 25.0125, 24.9875, 24.9875, 24.9625, 24.9875, 25.0125, 24.95, 25.0, 25.0, 9.9875, 10.0, 10.0125, 10.0, 10.0, 10.025, 10.0, 10.0125, 10.0125, 10.0, 3.9875, 4.025, 4.0, 4.0125, 4.0125, 4.0, 4.0125, 4.0, 4.0125, 4.0125]}, {\"name\": \"pred_ppm\", \"type\": \"scatter\", \"y\": [0.0, 0.0, 0.0, 0.0, 0.0, 0.0, 0.0, 0.0, 0.0, 0.0, 62.273001908333995, 58.335751862355416, 60.294899162138, 60.777935569131486, 61.21976049628225, 59.711312523167265, 62.28064826477727, 62.84856461545303, 59.216291314424424, 61.74795395094261, 17.23483768091283, 17.835460086004375, 16.37938901098427, 17.220448069335358, 17.978645523736144, 16.526063869458653, 16.935213874707973, 18.135068529503943, 15.498238828137332, 17.974963897745614, 6.748301689226546, 6.406943251149827, 4.480385336827956, 5.139868692991384, 6.010806706597008, 5.625180547509981, 5.855081669113227, 5.790456385181906, 6.230634311146939, 7.177480810806423, 2.512472988738187, 2.7816882302952295, 2.6061758008775575, 2.408118874355697, 2.6497641487529555, 2.929715978571692, 2.8893162642379306, 2.9756761554129105, 2.882717948685784, 2.781406842024418, 0.0, 0.0, 0.0, 0.0, 0.0, 0.0, 0.0, 0.0, 0.0, 0.0, 72.75823762588708, 65.39569217382736, 69.26894732376883, 63.7966469596339, 69.86433658578771, 72.14929176858573, 73.35316822984959, 75.19137107078532, 63.22511673210073, 74.05754432167348, 20.174748413007663, 19.54783584239634, 22.085270909827802, 21.590571197910993, 21.381161123453047, 21.55218059980242, 21.049052736191456, 21.0623756704774, 22.49466129841252, 22.118341532673014, 9.240218725131333, 10.958490808133996, 9.747946419383053, 8.799995855274743, 10.777032667708058, 9.990733042350351, 10.001332990239218, 9.378317259685543, 11.424455677372343, 9.86499554551263, 4.092512167083339, 5.164668607102243, 3.6344170177229462, 5.951135703684956, 4.900399139333384, 4.668212208224391, 4.043145903637033, 4.2128095232941085, 4.146557654589302, 4.653003687772793, 0.0, 0.0, 0.0, 0.0, 0.0, 0.0, 0.0, 0.0, 0.0, 0.0, 69.76034217844382, 73.40366769798787, 71.51552994872642, 74.43406083351108, 72.10602333868182, 75.17974614104277, 74.54245190150063, 71.57363903040287, 72.11411102578882, 83.00022814732253, 26.725184211995, 24.60743168766012, 21.731371386755175, 26.72314012588753, 23.546268751083947, 23.751944021298623, 26.487137270918694, 25.16861863611266, 26.72611805565936, 24.180225601855554, 9.938554101318978, 11.371009719407391, 11.466009560179808, 12.570146401273472, 11.75390601808158, 11.378581293467173, 10.47031216718166, 11.005404443856024, 11.369371135346233, 10.909120510124955, 4.892013079000822, 5.4921906871021955, 5.492824658822848, 5.356286459584689, 5.158847803264076, 4.510862997092063, 4.587039650870428, 5.559490055035794, 5.084592649487304, 5.6610358333234245, 0.0, 0.0, 0.0, 0.0, 0.0, 0.0, 0.0, 0.0, 0.0, 0.0, 73.52138798229583, 61.75491877386516, 80.57295450335924, 71.76526574422091, 72.32348339604167, 70.56383911972061, 76.63330635662682, 75.4328395799197, 69.40222116395674, 84.70056380134024, 24.23362313240546, 23.65392009670547, 24.254646804102816, 21.757380756855003, 24.241765157959918, 22.718880608449044, 24.029145532124858, 26.13170164946877, 23.46072895415488, 24.853575151550544, 12.904905083427193, 11.221956281248511, 11.899625609195462, 11.497142562659343, 10.593266004681258, 12.605321741852617, 10.952409048856627, 11.993003029703049, 11.700523814026138, 11.908058169732577, 5.517301096965045, 5.319688053081245, 5.367078728333792, 6.0387423834702565, 6.954357656885694, 4.896614161064115, 5.577396872043794, 4.95554022260318, 5.152801871675804, 8.767113468172646, 0.0, 0.0, 0.0, 0.0, 0.0, 0.0, 0.0, 0.0, 0.0, 0.0, 101.52657424404431, 86.58527065311948, 87.34072286527052, 87.30331341624645, 90.28706369631809, 81.05026481274292, 89.65586063961015, 93.4263723093342, 79.0491647887012, 81.79477048822856, 30.497944556362498, 29.74684753819583, 30.50550178343269, 30.501499853777318, 29.4821071355633, 29.483468260845388, 29.004466770861676, 29.9772278355689, 30.472555515653774, 34.83781149492112, 14.017179870701638, 13.09622147991246, 15.097148183075134, 13.188033827239261, 13.43446053076951, 13.892753985928147, 15.87565161202519, 13.53022130220601, 14.488866206149167, 11.838540040798529, 9.647247328341743, 7.849435475805694, 8.057964401488647, 6.362192869819235, 6.128683926963207, 8.481782895596734, 6.276803982493735, 8.23855247956314, 7.242923797283727, 7.352550730079492, 0.0, 0.0, 0.0, 0.0, 0.0, 0.0, 0.0, 0.0, 0.0, 0.0, 79.73493264427547, 69.71316771012965, 79.02716550513892, 76.46579418309886, 83.10298914938107, 79.00282246647967, 78.37475085120718, 81.6669262557033, 79.66963562025273, 85.10878786039177, 26.91110549772987, 25.393448133130928, 28.29902733641315, 27.14550371335049, 28.77704779178044, 28.778505372212265, 30.242448110980384, 25.812128691163366, 28.76900806012409, 27.594982383542217, 13.098667594517377, 12.36160099070023, 14.038047152110382, 13.110561894992326, 12.891620409605945, 13.576057893845183, 11.570928822953078, 13.471488240501598, 13.143677404920306, 11.46754836107104, 5.826790558656146, 6.893112946323824, 7.0906163700420874, 7.364634302659429, 6.1453727933933715, 7.293605769054492, 7.968234942494445, 7.395198816786721, 6.818570177122968, 6.74043355907557]}, {\"name\": \"Humidity\", \"type\": \"scatter\", \"y\": [62.232971191400004, 62.2314453125, 62.294006347700005, 62.307739257799994, 62.321472168, 62.356567382799994, 62.376403808599996, 62.362670898400005, 62.388610839799995, 62.411499023400005, 62.890625, 62.8982543945, 62.8784179688, 62.9592895508, 62.9272460938, 62.9959106445, 62.98828125, 63.026428222700005, 63.009643554700006, 63.020324707, 63.023376464799995, 63.0310058594, 63.084411621099996, 63.076782226599995, 63.035583496099996, 63.101196289099995, 63.084411621099996, 63.009643554700006, 62.8005981445, 62.661743164099995, 62.59765625, 62.6510620117, 62.643432617200006, 62.6998901367, 62.7136230469, 62.7395629883, 62.765502929700006, 62.742614746099996, 62.7807617188, 62.8128051758, 62.924194335900005, 62.9440307617, 62.942504882799994, 62.9196166992, 62.954711914099995, 62.9684448242, 62.948608398400005, 62.986755371099996, 63.0126953125, 62.998962402299995, 62.1536254883, 62.1643066406, 62.184143066400004, 62.179565429700006, 62.2024536133, 62.109375, 61.866760253900004, 61.715698242200006, 61.6653442383, 61.642456054700006, 62.136840820299994, 62.171936035200005, 62.203979492200006, 62.2116088867, 62.20703125, 62.245178222700005, 62.289428710900005, 62.321472168, 62.350463867200006, 62.351989746099996, 62.4633789063, 62.437438964799995, 62.503051757799994, 62.525939941400004, 62.527465820299994, 62.5198364258, 62.548828125, 62.574768066400004, 62.600708007799994, 62.596130371099996, 62.315368652299995, 62.155151367200006, 62.0559692383, 62.0544433594, 62.0407104492, 62.0727539063, 62.0803833008, 62.1643066406, 62.141418457, 62.155151367200006, 62.336730957, 62.332153320299994, 62.3977661133, 62.374877929700006, 62.367248535200005, 62.3962402344, 62.416076660200005, 62.4328613281, 62.4465942383, 62.448120117200006, 62.0727539063, 62.110900878900004, 62.1276855469, 62.132263183599996, 62.136840820299994, 62.135314941400004, 62.1276855469, 62.159729003900004, 62.173461914099995, 62.2146606445, 62.6647949219, 62.681579589799995, 62.680053710900005, 62.672424316400004, 62.6831054688, 62.7243041992, 62.7380371094, 62.733459472700005, 62.7197265625, 62.644958496099996, 62.2482299805, 62.255859375, 62.321472168, 62.319946289099995, 62.321472168, 62.3596191406, 62.379455566400004, 62.387084960900005, 62.4221801758, 62.4267578125, 62.564086914099995, 62.596130371099996, 62.619018554700006, 62.559509277299995, 62.619018554700006, 62.614440918, 62.557983398400005, 62.6052856445, 62.637329101599995, 62.672424316400004, 62.130737304700006, 62.083435058599996, 62.081909179700006, 62.086486816400004, 62.118530273400005, 62.126159668, 62.130737304700006, 62.196350097700005, 62.1704101563, 62.1871948242, 62.1948242188, 61.994934082, 61.880493164099995, 61.8606567383, 61.8469238281, 61.8576049805, 61.886596679700006, 61.875915527299995, 61.917114257799994, 61.949157714799995, 62.3718261719, 62.437438964799995, 62.460327148400005, 62.461853027299995, 62.4938964844, 62.516784668, 62.548828125, 62.596130371099996, 62.594604492200006, 62.608337402299995, 62.6586914063, 62.672424316400004, 62.6831054688, 62.727355957, 62.7258300781, 62.7395629883, 62.7746582031, 62.7151489258, 62.7563476563, 62.791442871099996, 62.7807617188, 62.794494628900004, 62.7075195313, 62.513732910200005, 62.3657226563, 62.3001098633, 62.283325195299994, 62.3001098633, 62.2985839844, 62.3001098633, 62.4633789063, 62.4435424805, 62.545776367200006, 62.522888183599996, 62.5549316406, 62.5564575195, 62.548828125, 62.5900268555, 62.600708007799994, 62.5900268555, 61.155700683599996, 61.166381835900005, 61.192321777299995, 61.2243652344, 61.241149902299995, 61.2731933594, 61.293029785200005, 61.3220214844, 61.360168457, 61.367797851599995, 61.843872070299994, 61.8606567383, 61.8713378906, 61.891174316400004, 61.9201660156, 61.9552612305, 61.9812011719, 61.985778808599996, 61.984252929700006, 62.028503418, 62.086486816400004, 62.124633789099995, 62.1170043945, 62.106323242200006, 62.1658325195, 62.155151367200006, 62.159729003900004, 62.1765136719, 62.2116088867, 62.222290039099995, 61.7004394531, 61.671447753900004, 61.669921875, 61.717224121099996, 61.740112304700006, 61.7233276367, 61.776733398400005, 61.799621582, 61.825561523400005, 61.842346191400004, 61.965942382799994, 62.001037597700005, 62.014770507799994, 62.0193481445, 62.045288085900005, 62.034606933599996, 62.051391601599995, 62.0559692383, 62.0666503906, 62.1017456055, 62.0300292969, 62.028503418, 62.0422363281, 62.062072753900004, 62.0666503906, 62.083435058599996, 62.063598632799994, 62.1170043945, 62.1154785156, 62.110900878900004, 62.586975097700005, 62.600708007799994, 62.583923339799995, 62.6159667969, 62.648010253900004, 62.612915039099995, 62.608337402299995, 62.6220703125, 62.6419067383, 62.539672851599995, 62.1337890625, 62.1994018555, 62.1948242188, 62.2116088867, 62.277221679700006, 62.272644043, 62.2680664063, 62.303161621099996, 62.344360351599995, 62.388610839799995, 62.321472168, 62.356567382799994, 62.379455566400004, 62.3840332031, 62.385559082, 62.3779296875, 62.4069213867, 62.429809570299994, 62.449645996099996, 62.460327148400005, 62.5198364258, 62.4938964844, 62.4923706055, 62.4755859375, 62.3458862305, 62.136840820299994, 61.997985839799995, 61.9934082031, 61.979675293, 61.978149414099995]}, {\"name\": \"Temperature\", \"type\": \"scatter\", \"y\": [30.8959197998, 30.888366699200002, 30.8908843994, 30.888366699200002, 30.8908843994, 30.888366699200002, 30.8959197998, 30.8934020996, 30.8959197998, 30.888366699200002, 30.8782958984, 30.885848999, 30.8833312988, 30.8808135986, 30.873260498, 30.8808135986, 30.8782958984, 30.8808135986, 30.873260498, 30.875778198200003, 30.885848999, 30.868225097699998, 30.875778198200003, 30.868225097699998, 30.875778198200003, 30.873260498, 30.875778198200003, 30.868225097699998, 30.8707427979, 30.8631896973, 30.8631896973, 30.8808135986, 30.873260498, 30.875778198200003, 30.8782958984, 30.8808135986, 30.8833312988, 30.875778198200003, 30.8833312988, 30.875778198200003, 30.873260498, 30.855636596700002, 30.868225097699998, 30.8808135986, 30.873260498, 30.8707427979, 30.8631896973, 30.8657073975, 30.868225097699998, 30.875778198200003, 30.840530395500004, 30.843048095700002, 30.835494995100003, 30.8531188965, 30.8455657959, 30.843048095700002, 30.8455657959, 30.8531188965, 30.8506011963, 30.843048095700002, 30.848083496100003, 30.855636596700002, 30.8531188965, 30.8657073975, 30.8631896973, 30.855636596700002, 30.848083496100003, 30.855636596700002, 30.8531188965, 30.8657073975, 30.8581542969, 30.8657073975, 30.8782958984, 30.8657073975, 30.8581542969, 30.875778198200003, 30.868225097699998, 30.8707427979, 30.8782958984, 30.8606719971, 30.8707427979, 30.873260498, 30.8707427979, 30.868225097699998, 30.8808135986, 30.8782958984, 30.8808135986, 30.873260498, 30.8707427979, 30.873260498, 30.8908843994, 30.8782958984, 30.8808135986, 30.8833312988, 30.8908843994, 30.888366699200002, 30.885848999, 30.8833312988, 30.885848999, 30.8782958984, 30.8631896973, 30.8707427979, 30.868225097699998, 30.8657073975, 30.8631896973, 30.8657073975, 30.868225097699998, 30.875778198200003, 30.8531188965, 30.8606719971, 30.8631896973, 30.8707427979, 30.868225097699998, 30.855636596700002, 30.8631896973, 30.8606719971, 30.8581542969, 30.8707427979, 30.8631896973, 30.8657073975, 30.8506011963, 30.8581542969, 30.8455657959, 30.8581542969, 30.8606719971, 30.8631896973, 30.855636596700002, 30.8631896973, 30.8657073975, 30.8581542969, 30.843048095700002, 30.8506011963, 30.848083496100003, 30.8506011963, 30.8631896973, 30.855636596700002, 30.8531188965, 30.855636596700002, 30.8581542969, 30.855636596700002, 30.868225097699998, 30.8606719971, 30.8581542969, 30.8657073975, 30.8531188965, 30.8707427979, 30.8782958984, 30.875778198200003, 30.868225097699998, 30.8606719971, 30.8229064941, 30.815353393600002, 30.8178710938, 30.820388793899998, 30.8229064941, 30.815353393600002, 30.8128356934, 30.820388793899998, 30.807800293000003, 30.815353393600002, 30.8178710938, 30.815353393600002, 30.8178710938, 30.8254241943, 30.8178710938, 30.8254241943, 30.8178710938, 30.8254241943, 30.8178710938, 30.8304595947, 30.8229064941, 30.8254241943, 30.8128356934, 30.8254241943, 30.8178710938, 30.8304595947, 30.8229064941, 30.820388793899998, 30.8128356934, 30.8103179932, 30.8128356934, 30.815353393600002, 30.8178710938, 30.820388793899998, 30.802764892600003, 30.8052825928, 30.802764892600003, 30.815353393600002, 30.807800293000003, 30.820388793899998, 30.8229064941, 30.8254241943, 30.8229064941, 30.820388793899998, 30.8128356934, 30.8254241943, 30.827941894499997, 30.8254241943, 30.8178710938, 30.820388793899998, 30.981521606399998, 30.9790039063, 30.9865570068, 30.968933105500003, 30.9915924072, 30.9790039063, 30.981521606399998, 30.9840393066, 30.9865570068, 30.9790039063, 30.9840393066, 30.981521606399998, 30.9790039063, 30.9865570068, 30.9790039063, 30.9865570068, 30.994110107399997, 30.9915924072, 30.989074706999997, 30.996627807600003, 31.001663208000004, 30.9790039063, 30.9865570068, 30.989074706999997, 30.9865570068, 30.9790039063, 30.9865570068, 30.9840393066, 30.9865570068, 30.968933105500003, 30.968933105500003, 30.9664154053, 30.963897705100003, 30.976486206100002, 30.968933105500003, 30.976486206100002, 30.968933105500003, 30.9714508057, 30.9739685059, 30.981521606399998, 30.994110107399997, 30.9915924072, 30.994110107399997, 30.996627807600003, 30.9840393066, 30.996627807600003, 30.989074706999997, 31.001663208000004, 30.994110107399997, 30.9865570068, 30.8984375, 30.8959197998, 30.8984375, 30.9009552002, 30.8984375, 30.9009552002, 30.908508300799998, 30.9009552002, 30.8984375, 30.9059906006, 30.9009552002, 30.8984375, 30.8908843994, 30.9034729004, 30.9009552002, 30.8984375, 30.9009552002, 30.8934020996, 30.8959197998, 30.888366699200002, 30.873260498, 30.8808135986, 30.868225097699998, 30.8707427979, 30.873260498, 30.8657073975, 30.8934020996, 30.885848999, 30.8782958984, 30.8908843994, 30.9009552002, 30.8984375, 30.8959197998, 30.888366699200002, 30.9160614014, 30.9034729004, 30.9160614014, 30.8934020996, 30.9009552002, 30.908508300799998, 30.911026001, 30.9034729004, 30.9009552002, 30.9034729004, 30.9009552002, 30.8984375, 30.9009552002, 30.8984375, 30.8959197998, 30.8934020996]}],                        {\"template\": {\"data\": {\"bar\": [{\"error_x\": {\"color\": \"#2a3f5f\"}, \"error_y\": {\"color\": \"#2a3f5f\"}, \"marker\": {\"line\": {\"color\": \"#E5ECF6\", \"width\": 0.5}}, \"type\": \"bar\"}], \"barpolar\": [{\"marker\": {\"line\": {\"color\": \"#E5ECF6\", \"width\": 0.5}}, \"type\": \"barpolar\"}], \"carpet\": [{\"aaxis\": {\"endlinecolor\": \"#2a3f5f\", \"gridcolor\": \"white\", \"linecolor\": \"white\", \"minorgridcolor\": \"white\", \"startlinecolor\": \"#2a3f5f\"}, \"baxis\": {\"endlinecolor\": \"#2a3f5f\", \"gridcolor\": \"white\", \"linecolor\": \"white\", \"minorgridcolor\": \"white\", \"startlinecolor\": \"#2a3f5f\"}, \"type\": \"carpet\"}], \"choropleth\": [{\"colorbar\": {\"outlinewidth\": 0, \"ticks\": \"\"}, \"type\": \"choropleth\"}], \"contour\": [{\"colorbar\": {\"outlinewidth\": 0, \"ticks\": \"\"}, \"colorscale\": [[0.0, \"#0d0887\"], [0.1111111111111111, \"#46039f\"], [0.2222222222222222, \"#7201a8\"], [0.3333333333333333, \"#9c179e\"], [0.4444444444444444, \"#bd3786\"], [0.5555555555555556, \"#d8576b\"], [0.6666666666666666, \"#ed7953\"], [0.7777777777777778, \"#fb9f3a\"], [0.8888888888888888, \"#fdca26\"], [1.0, \"#f0f921\"]], \"type\": \"contour\"}], \"contourcarpet\": [{\"colorbar\": {\"outlinewidth\": 0, \"ticks\": \"\"}, \"type\": \"contourcarpet\"}], \"heatmap\": [{\"colorbar\": {\"outlinewidth\": 0, \"ticks\": \"\"}, \"colorscale\": [[0.0, \"#0d0887\"], [0.1111111111111111, \"#46039f\"], [0.2222222222222222, \"#7201a8\"], [0.3333333333333333, \"#9c179e\"], [0.4444444444444444, \"#bd3786\"], [0.5555555555555556, \"#d8576b\"], [0.6666666666666666, \"#ed7953\"], [0.7777777777777778, \"#fb9f3a\"], [0.8888888888888888, \"#fdca26\"], [1.0, \"#f0f921\"]], \"type\": \"heatmap\"}], \"heatmapgl\": [{\"colorbar\": {\"outlinewidth\": 0, \"ticks\": \"\"}, \"colorscale\": [[0.0, \"#0d0887\"], [0.1111111111111111, \"#46039f\"], [0.2222222222222222, \"#7201a8\"], [0.3333333333333333, \"#9c179e\"], [0.4444444444444444, \"#bd3786\"], [0.5555555555555556, \"#d8576b\"], [0.6666666666666666, \"#ed7953\"], [0.7777777777777778, \"#fb9f3a\"], [0.8888888888888888, \"#fdca26\"], [1.0, \"#f0f921\"]], \"type\": \"heatmapgl\"}], \"histogram\": [{\"marker\": {\"colorbar\": {\"outlinewidth\": 0, \"ticks\": \"\"}}, \"type\": \"histogram\"}], \"histogram2d\": [{\"colorbar\": {\"outlinewidth\": 0, \"ticks\": \"\"}, \"colorscale\": [[0.0, \"#0d0887\"], [0.1111111111111111, \"#46039f\"], [0.2222222222222222, \"#7201a8\"], [0.3333333333333333, \"#9c179e\"], [0.4444444444444444, \"#bd3786\"], [0.5555555555555556, \"#d8576b\"], [0.6666666666666666, \"#ed7953\"], [0.7777777777777778, \"#fb9f3a\"], [0.8888888888888888, \"#fdca26\"], [1.0, \"#f0f921\"]], \"type\": \"histogram2d\"}], \"histogram2dcontour\": [{\"colorbar\": {\"outlinewidth\": 0, \"ticks\": \"\"}, \"colorscale\": [[0.0, \"#0d0887\"], [0.1111111111111111, \"#46039f\"], [0.2222222222222222, \"#7201a8\"], [0.3333333333333333, \"#9c179e\"], [0.4444444444444444, \"#bd3786\"], [0.5555555555555556, \"#d8576b\"], [0.6666666666666666, \"#ed7953\"], [0.7777777777777778, \"#fb9f3a\"], [0.8888888888888888, \"#fdca26\"], [1.0, \"#f0f921\"]], \"type\": \"histogram2dcontour\"}], \"mesh3d\": [{\"colorbar\": {\"outlinewidth\": 0, \"ticks\": \"\"}, \"type\": \"mesh3d\"}], \"parcoords\": [{\"line\": {\"colorbar\": {\"outlinewidth\": 0, \"ticks\": \"\"}}, \"type\": \"parcoords\"}], \"pie\": [{\"automargin\": true, \"type\": \"pie\"}], \"scatter\": [{\"marker\": {\"colorbar\": {\"outlinewidth\": 0, \"ticks\": \"\"}}, \"type\": \"scatter\"}], \"scatter3d\": [{\"line\": {\"colorbar\": {\"outlinewidth\": 0, \"ticks\": \"\"}}, \"marker\": {\"colorbar\": {\"outlinewidth\": 0, \"ticks\": \"\"}}, \"type\": \"scatter3d\"}], \"scattercarpet\": [{\"marker\": {\"colorbar\": {\"outlinewidth\": 0, \"ticks\": \"\"}}, \"type\": \"scattercarpet\"}], \"scattergeo\": [{\"marker\": {\"colorbar\": {\"outlinewidth\": 0, \"ticks\": \"\"}}, \"type\": \"scattergeo\"}], \"scattergl\": [{\"marker\": {\"colorbar\": {\"outlinewidth\": 0, \"ticks\": \"\"}}, \"type\": \"scattergl\"}], \"scattermapbox\": [{\"marker\": {\"colorbar\": {\"outlinewidth\": 0, \"ticks\": \"\"}}, \"type\": \"scattermapbox\"}], \"scatterpolar\": [{\"marker\": {\"colorbar\": {\"outlinewidth\": 0, \"ticks\": \"\"}}, \"type\": \"scatterpolar\"}], \"scatterpolargl\": [{\"marker\": {\"colorbar\": {\"outlinewidth\": 0, \"ticks\": \"\"}}, \"type\": \"scatterpolargl\"}], \"scatterternary\": [{\"marker\": {\"colorbar\": {\"outlinewidth\": 0, \"ticks\": \"\"}}, \"type\": \"scatterternary\"}], \"surface\": [{\"colorbar\": {\"outlinewidth\": 0, \"ticks\": \"\"}, \"colorscale\": [[0.0, \"#0d0887\"], [0.1111111111111111, \"#46039f\"], [0.2222222222222222, \"#7201a8\"], [0.3333333333333333, \"#9c179e\"], [0.4444444444444444, \"#bd3786\"], [0.5555555555555556, \"#d8576b\"], [0.6666666666666666, \"#ed7953\"], [0.7777777777777778, \"#fb9f3a\"], [0.8888888888888888, \"#fdca26\"], [1.0, \"#f0f921\"]], \"type\": \"surface\"}], \"table\": [{\"cells\": {\"fill\": {\"color\": \"#EBF0F8\"}, \"line\": {\"color\": \"white\"}}, \"header\": {\"fill\": {\"color\": \"#C8D4E3\"}, \"line\": {\"color\": \"white\"}}, \"type\": \"table\"}]}, \"layout\": {\"annotationdefaults\": {\"arrowcolor\": \"#2a3f5f\", \"arrowhead\": 0, \"arrowwidth\": 1}, \"autotypenumbers\": \"strict\", \"coloraxis\": {\"colorbar\": {\"outlinewidth\": 0, \"ticks\": \"\"}}, \"colorscale\": {\"diverging\": [[0, \"#8e0152\"], [0.1, \"#c51b7d\"], [0.2, \"#de77ae\"], [0.3, \"#f1b6da\"], [0.4, \"#fde0ef\"], [0.5, \"#f7f7f7\"], [0.6, \"#e6f5d0\"], [0.7, \"#b8e186\"], [0.8, \"#7fbc41\"], [0.9, \"#4d9221\"], [1, \"#276419\"]], \"sequential\": [[0.0, \"#0d0887\"], [0.1111111111111111, \"#46039f\"], [0.2222222222222222, \"#7201a8\"], [0.3333333333333333, \"#9c179e\"], [0.4444444444444444, \"#bd3786\"], [0.5555555555555556, \"#d8576b\"], [0.6666666666666666, \"#ed7953\"], [0.7777777777777778, \"#fb9f3a\"], [0.8888888888888888, \"#fdca26\"], [1.0, \"#f0f921\"]], \"sequentialminus\": [[0.0, \"#0d0887\"], [0.1111111111111111, \"#46039f\"], [0.2222222222222222, \"#7201a8\"], [0.3333333333333333, \"#9c179e\"], [0.4444444444444444, \"#bd3786\"], [0.5555555555555556, \"#d8576b\"], [0.6666666666666666, \"#ed7953\"], [0.7777777777777778, \"#fb9f3a\"], [0.8888888888888888, \"#fdca26\"], [1.0, \"#f0f921\"]]}, \"colorway\": [\"#636efa\", \"#EF553B\", \"#00cc96\", \"#ab63fa\", \"#FFA15A\", \"#19d3f3\", \"#FF6692\", \"#B6E880\", \"#FF97FF\", \"#FECB52\"], \"font\": {\"color\": \"#2a3f5f\"}, \"geo\": {\"bgcolor\": \"white\", \"lakecolor\": \"white\", \"landcolor\": \"#E5ECF6\", \"showlakes\": true, \"showland\": true, \"subunitcolor\": \"white\"}, \"hoverlabel\": {\"align\": \"left\"}, \"hovermode\": \"closest\", \"mapbox\": {\"style\": \"light\"}, \"paper_bgcolor\": \"white\", \"plot_bgcolor\": \"#E5ECF6\", \"polar\": {\"angularaxis\": {\"gridcolor\": \"white\", \"linecolor\": \"white\", \"ticks\": \"\"}, \"bgcolor\": \"#E5ECF6\", \"radialaxis\": {\"gridcolor\": \"white\", \"linecolor\": \"white\", \"ticks\": \"\"}}, \"scene\": {\"xaxis\": {\"backgroundcolor\": \"#E5ECF6\", \"gridcolor\": \"white\", \"gridwidth\": 2, \"linecolor\": \"white\", \"showbackground\": true, \"ticks\": \"\", \"zerolinecolor\": \"white\"}, \"yaxis\": {\"backgroundcolor\": \"#E5ECF6\", \"gridcolor\": \"white\", \"gridwidth\": 2, \"linecolor\": \"white\", \"showbackground\": true, \"ticks\": \"\", \"zerolinecolor\": \"white\"}, \"zaxis\": {\"backgroundcolor\": \"#E5ECF6\", \"gridcolor\": \"white\", \"gridwidth\": 2, \"linecolor\": \"white\", \"showbackground\": true, \"ticks\": \"\", \"zerolinecolor\": \"white\"}}, \"shapedefaults\": {\"line\": {\"color\": \"#2a3f5f\"}}, \"ternary\": {\"aaxis\": {\"gridcolor\": \"white\", \"linecolor\": \"white\", \"ticks\": \"\"}, \"baxis\": {\"gridcolor\": \"white\", \"linecolor\": \"white\", \"ticks\": \"\"}, \"bgcolor\": \"#E5ECF6\", \"caxis\": {\"gridcolor\": \"white\", \"linecolor\": \"white\", \"ticks\": \"\"}}, \"title\": {\"x\": 0.05}, \"xaxis\": {\"automargin\": true, \"gridcolor\": \"white\", \"linecolor\": \"white\", \"ticks\": \"\", \"title\": {\"standoff\": 15}, \"zerolinecolor\": \"white\", \"zerolinewidth\": 2}, \"yaxis\": {\"automargin\": true, \"gridcolor\": \"white\", \"linecolor\": \"white\", \"ticks\": \"\", \"title\": {\"standoff\": 15}, \"zerolinecolor\": \"white\", \"zerolinewidth\": 2}}}, \"title\": {\"text\": \"(61%~63%) (magic_comp) (RMSE=8.04)\"}, \"xaxis\": {\"range\": [0, 300]}},                        {\"responsive\": true}                    ).then(function(){\n",
       "                            \n",
       "var gd = document.getElementById('b60d25bd-04c7-4260-b375-1a8a8dd70578');\n",
       "var x = new MutationObserver(function (mutations, observer) {{\n",
       "        var display = window.getComputedStyle(gd).display;\n",
       "        if (!display || display === 'none') {{\n",
       "            console.log([gd, 'removed!']);\n",
       "            Plotly.purge(gd);\n",
       "            observer.disconnect();\n",
       "        }}\n",
       "}});\n",
       "\n",
       "// Listen for the removal of the full notebook cells\n",
       "var notebookContainer = gd.closest('#notebook-container');\n",
       "if (notebookContainer) {{\n",
       "    x.observe(notebookContainer, {childList: true});\n",
       "}}\n",
       "\n",
       "// Listen for the clearing of the current output cell\n",
       "var outputEl = gd.closest('.output');\n",
       "if (outputEl) {{\n",
       "    x.observe(outputEl, {childList: true});\n",
       "}}\n",
       "\n",
       "                        })                };                });            </script>        </div>"
      ]
     },
     "metadata": {},
     "output_type": "display_data"
    }
   ],
   "source": [
    "# load training data\n",
    "dk_0C = df_0C.copy().reset_index(drop=True)\n",
    "dk_10C = df_10C.copy().reset_index(drop=True)\n",
    "dk_20C = df_20C.copy().reset_index(drop=True)\n",
    "dk_30C = df_30C.copy().reset_index(drop=True)\n",
    "dk_40C = df_40C.copy().reset_index(drop=True)\n",
    "\n",
    "# copy testing data\n",
    "dk_test_30C = df_test_30C.copy().reset_index(drop=True)\n",
    "dk_test_30C_2 = df_test_30C_2.copy().reset_index(drop=True)\n",
    "dk_test_30C_3 = df_test_30C_3.copy().reset_index(drop=True)\n",
    "dk_test_30C_4 = df_test_30C_4.copy().reset_index(drop=True)\n",
    "dk_test_30C_5 = df_test_30C_5.copy().reset_index(drop=True)\n",
    "dk_test_30C_6 = df_test_30C_6.copy().reset_index(drop=True)\n",
    "\n",
    "#setting temperature range\n",
    "'''dict = {temp. 1 : ([training data1, data2], [blind test data1, data2], white_card_std data)}'''\n",
    "\n",
    "temp_data_dict = { \n",
    "\n",
    "    # 0~40C\n",
    "    'temp. 1': ([dk_0C, dk_10C, dk_20C, dk_30C, dk_40C], [\n",
    "                                                          dk_test_30C, \n",
    "                                                          dk_test_30C_2, \n",
    "                                                          dk_test_30C_3, \n",
    "                                                          dk_test_30C_4, \n",
    "                                                          dk_test_30C_5,\n",
    "                                                          dk_test_30C_6\n",
    "                                                         ]),\n",
    "\n",
    "\n",
    "\n",
    "                  } \n",
    "    \n",
    "# implement temp. range loop\n",
    "for temp_data, temp_blind_test in temp_data_dict.values():\n",
    "    \n",
    "\n",
    "    # plot each model 4D data\n",
    "#             module_4D.plot_4D_multi_model(temp_data, temp_blind_test, channel_list, sensor_number)\n",
    "\n",
    "    # concate training data        \n",
    "    df_all = pd.concat(temp_data).reset_index(drop=True)\n",
    "    df_test = pd.concat(temp_blind_test).reset_index(drop=True)   \n",
    "    \n",
    "    # 取0ppm資料\n",
    "    dk_all_0ppm = df_all[df_all['ppm']<1].copy()\n",
    "\n",
    "    # 取4ppm資料\n",
    "    dk_all_4ppm = df_all[(df_all['ppm']>3)&(df_all['ppm']<5)].copy()\n",
    "    \n",
    "    # 取10ppm資料\n",
    "    dk_all_10ppm = df_all[(df_all['ppm']>9)&(df_all['ppm']<11)].copy()\n",
    "\n",
    "    # 取25ppm資料\n",
    "    dk_all_25ppm = df_all[(df_all['ppm']>24)&(df_all['ppm']<26)].copy()\n",
    "    \n",
    "    # 取60ppm資料\n",
    "    dk_all_60ppm = df_all[(df_all['ppm']>59)&(df_all['ppm']<61)].copy()\n",
    "\n",
    "    \n",
    "    dk_data_dict = {\n",
    "#                     0:(dk_all_0ppm),\n",
    "                    4:(dk_all_4ppm),\n",
    "                    10:(dk_all_10ppm),\n",
    "                    25:(dk_all_25ppm),\n",
    "#                     60:(dk_all_60ppm)\n",
    "               }\n",
    "    \n",
    "\n",
    "    #training model for 0ppm, 10ppm, 60ppm surface\n",
    "    surf_coef_list = []                           # store ppm surface coefficient\n",
    "    for ppm, ppm_data in dk_data_dict.items():\n",
    "\n",
    "        dk_data = ppm_data\n",
    "        y_train = dk_data[train_channel] + shift \n",
    "        x_train = dk_data[['Temperature', 'Humidity']]\n",
    "        y_test = df_test[test_channel]\n",
    "        x_test = df_test[['Temperature', 'Humidity']]\n",
    "\n",
    "#             channels = train_channel\n",
    "\n",
    "        #開始計算濃度平面 model by Ridge regression\n",
    "#         step = humidity_step\n",
    "        os.chdir(path)              \n",
    "        loss_list = []\n",
    "        loss_each_step_list = []\n",
    "        sensor = model.model(folder_name=folder_name,\n",
    "                             sensor_number=sensor_number,\n",
    "                             channel=train_channel,\n",
    "                             x_train=x_train, \n",
    "                             y_train=y_train, \n",
    "                             x_test=x_test, \n",
    "                             y_test=y_test, \n",
    "                             model_name=model_name, \n",
    "                             degree=degree,\n",
    "                             step=humidity_step,\n",
    "                             output_modify=output_modify,\n",
    "                             shift=shift,            \n",
    "                             multiple=multiple,\n",
    "                             ppm=ppm,\n",
    "                             humidity_feature=sensor_humidity_feature                             \n",
    "                             )\n",
    "        sensor.regression()\n",
    "        intercept_and_coefficient = sensor.save_sensor_side_coef()\n",
    "#         print(intercept_and_coefficient)\n",
    "#         sensor.loss()\n",
    "#         loss_each_step = sensor.loss_each_step()    \n",
    "        sensor.plot()\n",
    "#         sensor.save_plot()\n",
    "#         sensor.coef()\n",
    "        \n",
    "        surf_coef_list.append(intercept_and_coefficient) \n",
    "   \n",
    "    test_data = df_test[[test_channel, 'Temperature', 'Humidity', 'ppm']]\n",
    "    ppm_list = []\n",
    "    for index, row in test_data.iterrows():\n",
    "        signal, temperature, humidity, _ = row\n",
    "#         signal_0ppm = interpolation.calculate_ppm_surface_signal(surf_coef_list[0], x0=temperature, x1=humidity, degree=degree)\n",
    "        signal_4ppm = interpolation.calculate_ppm_surface_signal(surf_coef_list[0], x0=temperature, x1=humidity, degree=degree)\n",
    "        signal_10ppm = interpolation.calculate_ppm_surface_signal(surf_coef_list[1], x0=temperature, x1=humidity, degree=degree)\n",
    "        signal_25ppm = interpolation.calculate_ppm_surface_signal(surf_coef_list[2], x0=temperature, x1=humidity, degree=degree)\n",
    "#         signal_60ppm = interpolation.calculate_ppm_surface_signal(surf_coef_list[4], x0=temperature, x1=humidity, degree=degree)\n",
    "        \n",
    "\n",
    "#         print(signal_0ppm, signal_10ppm, signal_60ppm)\n",
    "        \n",
    "        signal_ppm_dict = {\n",
    "#                              0:signal_0ppm,\n",
    "                             4:signal_4ppm,\n",
    "                            10:signal_10ppm,\n",
    "                            25:signal_25ppm,\n",
    "#                             60:signal_60ppm,\n",
    "                           }\n",
    "\n",
    "        if interpolation_model == 'linear':\n",
    "            ppm = interpolation.linear_interpolation(signal_ppm_dict, signal, 4, 10, 25)\n",
    "            \n",
    "        elif interpolation_model == 'log':\n",
    "            ppm = interpolation.log_interpolation(signal_ppm_dict, signal, 4, 10, 25)\n",
    "            \n",
    "        ppm_list.append(ppm)\n",
    "\n",
    "    # RMSE\n",
    "    rmse_test = np.sqrt(mean_squared_error(ppm_list, test_data['ppm'])).round(2)\n",
    "\n",
    "    # Interpolation prediction result    \n",
    "    predict_test_data = test_data.copy()\n",
    "    predict_test_data['pred_ppm'] = ppm_list\n",
    "    temp = int(predict_test_data['Temperature'].mean())\n",
    "    hum_min = int(predict_test_data['Humidity'].min())\n",
    "    hum_max = int(predict_test_data['Humidity'].max())\n",
    "    title = '({}%~{}%) ({}) (RMSE={})'.format(hum_min, hum_max, test_channel, rmse_test)\n",
    "    \n",
    "    # plot prediction result\n",
    "#     predict_test_data.iplot(kind='scatter', y=['ppm', 'pred_ppm', 'Humidity', 'Temperature'], title=title)\n",
    "    plot_data = []\n",
    "    trace_ppm = go.Scatter(y=predict_test_data['ppm'], name='ppm')\n",
    "    plot_data.append(trace_ppm)\n",
    "    \n",
    "    trace_pred_ppm = go.Scatter(y=predict_test_data['pred_ppm'], name='pred_ppm')\n",
    "    plot_data.append(trace_pred_ppm)\n",
    "\n",
    "    trace_RH = go.Scatter(y=predict_test_data['Humidity'], name='Humidity')\n",
    "    plot_data.append(trace_RH)\n",
    "\n",
    "    trace_temp = go.Scatter(y=predict_test_data['Temperature'], name='Temperature')\n",
    "    plot_data.append(trace_temp)\n",
    "\n",
    "    layout = go.Layout(xaxis=dict(range=[0, predict_test_data.shape[0]]), title=title)\n",
    "\n",
    "    fig = go.Figure(data=plot_data, layout=layout)\n",
    "    fig.show()\n",
    "    \n",
    "    # save figure\n",
    "    savePath = os.path.join(os.getcwd(), folder_name)\n",
    "    filename = '({}%~{}%)({})(shift {})(RMSE={})'.format(hum_min, hum_max, test_channel, shift ,rmse_test)\n",
    "    fig.write_image(savePath + '/' + filename + '.jpeg', width=1280, height=720)\n",
    "    "
   ]
  },
  {
   "cell_type": "markdown",
   "metadata": {
    "slideshow": {
     "slide_type": "slide"
    }
   },
   "source": [
    "# Overview 4D data"
   ]
  },
  {
   "cell_type": "code",
   "execution_count": 177,
   "metadata": {
    "scrolled": false,
    "slideshow": {
     "slide_type": "subslide"
    }
   },
   "outputs": [
    {
     "data": {
      "application/vnd.plotly.v1+json": {
       "config": {
        "linkText": "Export to plot.ly",
        "plotlyServerURL": "https://plot.ly",
        "showLink": true
       },
       "data": [
        {
         "marker": {
          "color": [
           0,
           0,
           0,
           0,
           0,
           0,
           0,
           0,
           0,
           0,
           60.025,
           60.05,
           59.9875,
           60,
           60.05,
           60.0375,
           60.0125,
           60.025,
           59.9,
           60,
           25.0125,
           25,
           24.975,
           25.0125,
           25.0125,
           24.9375,
           25.0125,
           25.025,
           24.95,
           24.975,
           10.0125,
           10,
           9.9875,
           10.0125,
           9.9875,
           10.0125,
           9.9875,
           10.0125,
           10.0125,
           9.9875,
           3.975,
           4.0125,
           4.0125,
           4.0125,
           4.025,
           4.0125,
           4.0125,
           4,
           3.9875,
           4.0125
          ],
          "colorscale": [
           [
            0,
            "rgb(255,160,122)"
           ],
           [
            1,
            "rgb(128,0,0)"
           ]
          ],
          "opacity": 0.5,
          "size": 2,
          "symbol": "circle"
         },
         "mode": "markers",
         "name": "0C",
         "type": "scatter3d",
         "x": [
          67.0028686523,
          67.0501708984,
          67.0547485352,
          67.0867919922,
          67.008972168,
          66.8762207031,
          66.8197631836,
          66.7083740234,
          66.6976928711,
          66.7175292969,
          68.0770874023,
          68.1213378906,
          68.2174682617,
          68.2312011719,
          68.3090209961,
          68.3410644531,
          68.4585571289,
          68.42041015630001,
          68.4982299805,
          68.5485839844,
          68.278503418,
          68.310546875,
          68.342590332,
          68.4173583984,
          68.4097290039,
          68.4783935547,
          68.5134887695,
          68.5638427734,
          68.5989379883,
          68.6370849609,
          68.7957763672,
          68.8064575195,
          68.8568115234,
          68.8583374023,
          68.8262939453,
          68.7606811523,
          68.5760498047,
          68.5104370117,
          68.4356689453,
          68.3853149414,
          68.5302734375,
          68.5501098633,
          68.6096191406,
          68.6019897461,
          68.6584472656,
          68.6935424805,
          68.7408447266,
          68.7606811523,
          68.7469482422,
          68.7759399414
         ],
         "y": [
          -2.14134216309,
          -2.15896606445,
          -2.1463775634799998,
          -2.16400146484,
          -2.16651916504,
          -2.16400146484,
          -2.16651916504,
          -2.16903686523,
          -2.1715545654299997,
          -2.17407226563,
          -2.22190856934,
          -2.22442626953,
          -2.2168731689500003,
          -2.2395324707,
          -2.2269439697299998,
          -2.2395324707,
          -2.22190856934,
          -2.22442626953,
          -2.2269439697299998,
          -2.22946166992,
          -2.2168731689500003,
          -2.20932006836,
          -2.2118377685499997,
          -2.22946166992,
          -2.2168731689500003,
          -2.21939086914,
          -2.2168731689500003,
          -2.21939086914,
          -2.2168731689500003,
          -2.21939086914,
          -2.21435546875,
          -2.20680236816,
          -2.21435546875,
          -2.2017669677700002,
          -2.20932006836,
          -2.2017669677700002,
          -2.21435546875,
          -2.2118377685499997,
          -2.20932006836,
          -2.20680236816,
          -2.19924926758,
          -2.1866607665999998,
          -2.17910766602,
          -2.18162536621,
          -2.1942138671900002,
          -2.19169616699,
          -2.1891784668,
          -2.1866607665999998,
          -2.18414306641,
          -2.1866607665999998
         ],
         "z": [
          29314,
          29324,
          29331,
          29332,
          29330,
          29312,
          29332,
          29317,
          29326,
          29314,
          27824,
          27808,
          27802,
          27828,
          27828,
          27824,
          27818,
          27806,
          27806,
          27802,
          28092,
          28098,
          28107,
          28100,
          28086,
          28091,
          28086,
          28110,
          28096,
          28083,
          28366,
          28344,
          28352,
          28370,
          28356,
          28348,
          28360,
          28366,
          28366,
          28344,
          28562,
          28544,
          28538,
          28550,
          28562,
          28544,
          28542,
          28544,
          28561,
          28569
         ]
        },
        {
         "marker": {
          "color": [
           0,
           0,
           0,
           0,
           0,
           0,
           0,
           0,
           0,
           0,
           60.0375,
           59.925,
           59.975,
           59.975,
           59.9875,
           59.9875,
           59.95,
           59.9875,
           60.0375,
           59.975,
           25.0125,
           25.025,
           24.975,
           24.9625,
           25.025,
           25.025,
           24.9875,
           25.0125,
           25.0125,
           24.95,
           10.0125,
           9.9875,
           10.025,
           10.0125,
           10.0125,
           10,
           10,
           10.0125,
           10.025,
           9.975,
           4.0125,
           4,
           4.0125,
           4.0125,
           3.9875,
           4.0125,
           4.025,
           4.0125,
           3.975,
           4.0125
          ],
          "colorscale": [
           [
            0,
            "rgb(255,160,122)"
           ],
           [
            1,
            "rgb(128,0,0)"
           ]
          ],
          "opacity": 0.5,
          "size": 2,
          "symbol": "circle"
         },
         "mode": "markers",
         "name": "10C",
         "type": "scatter3d",
         "x": [
          65.0833129883,
          64.9200439453,
          64.7201538086,
          64.6423339844,
          64.5797729492,
          64.5446777344,
          64.5736694336,
          64.6026611328,
          64.6499633789,
          64.6789550781,
          65.7241821289,
          65.7806396484,
          65.7791137695,
          65.8142089844,
          65.8950805664,
          65.9027099609,
          65.9378051758,
          65.9698486328,
          66.0079956055,
          66.0552978516,
          65.7821655273,
          65.83251953130001,
          65.8706665039,
          65.8843994141,
          65.934753418,
          65.9484863281,
          65.9927368164,
          66.015625,
          66.0507202148,
          66.1224365234,
          65.6768798828,
          65.7302856445,
          65.7257080078,
          65.7760620117,
          65.7775878906,
          65.8187866211,
          65.8447265625,
          65.8615112305,
          65.90576171880001,
          65.9561157227,
          65.7608032227,
          65.7165527344,
          65.6814575195,
          65.7135009766,
          65.705871582,
          65.7287597656,
          65.7608032227,
          65.8050537109,
          65.837097168,
          65.8630371094
         ],
         "y": [
          10.9003448486,
          10.8978271484,
          10.9104156494,
          10.8978271484,
          10.9104156494,
          10.902862548800002,
          10.9204864502,
          10.9078979492,
          10.9104156494,
          10.902862548800002,
          10.8802032471,
          10.882720947300001,
          10.8902740479,
          10.8877563477,
          10.8802032471,
          10.8877563477,
          10.8852386475,
          10.882720947300001,
          10.8751678467,
          10.8776855469,
          10.8550262451,
          10.862579345699999,
          10.8499908447,
          10.852508544900001,
          10.8550262451,
          10.8575439453,
          10.8449554443,
          10.837402343800001,
          10.8449554443,
          10.8474731445,
          10.827331543,
          10.839920043900001,
          10.837402343800001,
          10.839920043900001,
          10.837402343800001,
          10.839920043900001,
          10.837402343800001,
          10.8449554443,
          10.842437744100001,
          10.8449554443,
          10.8298492432,
          10.822296142599999,
          10.8248138428,
          10.827331543,
          10.8197784424,
          10.832366943399999,
          10.834884643599999,
          10.827331543,
          10.8298492432,
          10.832366943399999
         ],
         "z": [
          29754,
          29776,
          29768,
          29774,
          29774,
          29772,
          29774,
          29769,
          29767,
          29770,
          28668,
          28666,
          28666,
          28670,
          28652,
          28662,
          28660,
          28638,
          28667,
          28634,
          28894,
          28894,
          28888,
          28896,
          28893,
          28898,
          28888,
          28894,
          28898,
          28886,
          29098,
          29104,
          29096,
          29095,
          29096,
          29102,
          29096,
          29096,
          29100,
          29096,
          29200,
          29206,
          29214,
          29201,
          29208,
          29210,
          29202,
          29198,
          29204,
          29200
         ]
        },
        {
         "marker": {
          "color": [
           0,
           0,
           0,
           0,
           0,
           0,
           0,
           0,
           0,
           0,
           60.0375,
           59.9625,
           60.05,
           59.9875,
           60,
           60.0375,
           60.1,
           60,
           59.9875,
           60.0625,
           25.0125,
           25.0375,
           24.9875,
           25.025,
           25.0375,
           25,
           24.9875,
           25.0125,
           25.0125,
           25,
           10.0125,
           10.0125,
           9.975,
           10.0125,
           10.0125,
           9.9875,
           9.975,
           10,
           10,
           10,
           3.9875,
           4,
           4,
           4.0125,
           4,
           4.0125,
           4,
           4,
           4.0125,
           4.0125
          ],
          "colorscale": [
           [
            0,
            "rgb(255,160,122)"
           ],
           [
            1,
            "rgb(128,0,0)"
           ]
          ],
          "opacity": 0.5,
          "size": 2,
          "symbol": "circle"
         },
         "mode": "markers",
         "name": "20C",
         "type": "scatter3d",
         "x": [
          63.929748535200005,
          63.967895507799994,
          63.941955566400004,
          64.0350341797,
          64.0151977539,
          64.0380859375,
          64.0853881836,
          64.0869140625,
          64.143371582,
          64.1357421875,
          64.5080566406,
          64.5492553711,
          64.5843505859,
          64.616394043,
          64.6148681641,
          64.6408081055,
          64.6423339844,
          64.6713256836,
          64.68505859380001,
          64.6896362305,
          64.5706176758,
          64.5965576172,
          64.6530151367,
          64.6331787109,
          64.6896362305,
          64.68505859380001,
          64.7079467773,
          64.7064208984,
          64.729309082,
          64.7308349609,
          64.6133422852,
          64.6453857422,
          64.6713256836,
          64.6667480469,
          64.6682739258,
          64.7216796875,
          64.7323608398,
          64.6820068359,
          64.5065307617,
          64.2913818359,
          64.6240234375,
          64.616394043,
          64.6881103516,
          64.6682739258,
          64.6759033203,
          64.665222168,
          64.4927978516,
          64.2776489258,
          64.1510009766,
          64.1250610352
         ],
         "y": [
          20.8150482178,
          20.807495117200002,
          20.804977417,
          20.792388916,
          20.804977417,
          20.8024597168,
          20.7999420166,
          20.7974243164,
          20.8100128174,
          20.7974243164,
          20.8930969238,
          20.8905792236,
          20.883026123,
          20.8905792236,
          20.877990722699998,
          20.8855438232,
          20.877990722699998,
          20.8855438232,
          20.888061523399998,
          20.8805084229,
          20.865402221700002,
          20.8628845215,
          20.865402221700002,
          20.8628845215,
          20.8704376221,
          20.8528137207,
          20.8553314209,
          20.8578491211,
          20.8704376221,
          20.8578491211,
          20.8452606201,
          20.8528137207,
          20.8402252197,
          20.8528137207,
          20.8402252197,
          20.8326721191,
          20.8301544189,
          20.8427429199,
          20.8402252197,
          20.847778320299998,
          20.8377075195,
          20.8251190186,
          20.8276367188,
          20.835189819300002,
          20.8226013184,
          20.8402252197,
          20.8326721191,
          20.8301544189,
          20.8276367188,
          20.835189819300002
         ],
         "z": [
          29990,
          29994,
          29994,
          30004,
          29990,
          29992,
          29992,
          29999,
          29998,
          30016,
          29204,
          29196,
          29196,
          29194,
          29198,
          29182,
          29187,
          29188,
          29190,
          29170,
          29376,
          29374,
          29377,
          29370,
          29364,
          29374,
          29358,
          29370,
          29367,
          29363,
          29510,
          29512,
          29508,
          29510,
          29514,
          29506,
          29504,
          29504,
          29506,
          29506,
          29596,
          29590,
          29590,
          29588,
          29580,
          29586,
          29586,
          29596,
          29576,
          29598
         ]
        },
        {
         "marker": {
          "color": [
           0,
           0,
           0,
           0,
           0,
           0,
           0,
           0,
           0,
           0,
           60.0125,
           59.9875,
           59.9625,
           59.9875,
           60.025,
           59.95,
           59.9875,
           60,
           59.975,
           60.0375,
           25,
           25.0125,
           25.025,
           24.9875,
           25.0375,
           24.975,
           24.9875,
           25.0125,
           25.0125,
           25,
           10.0125,
           9.975,
           10,
           9.975,
           10,
           10.0125,
           10,
           10,
           9.9875,
           10.0125,
           4,
           4,
           3.9875,
           4.025,
           4.0125,
           4,
           3.9875,
           4.0125,
           4,
           4.0125
          ],
          "colorscale": [
           [
            0,
            "rgb(255,160,122)"
           ],
           [
            1,
            "rgb(128,0,0)"
           ]
          ],
          "opacity": 0.5,
          "size": 2,
          "symbol": "circle"
         },
         "mode": "markers",
         "name": "30C",
         "type": "scatter3d",
         "x": [
          63.229370117200006,
          63.2522583008,
          63.2507324219,
          63.2522583008,
          63.241577148400005,
          63.243103027299995,
          63.2934570313,
          63.3102416992,
          63.272094726599995,
          63.151550293,
          63.3102416992,
          63.2995605469,
          63.3010864258,
          63.3361816406,
          63.3255004883,
          63.345336914099995,
          63.346862793,
          63.3666992188,
          63.2888793945,
          63.113403320299994,
          62.791442871099996,
          62.826538085900005,
          62.879943847700005,
          62.893676757799994,
          62.9470825195,
          62.9577636719,
          62.9440307617,
          62.9577636719,
          63.014221191400004,
          63.046264648400005,
          63.0920410156,
          63.117980957,
          63.1469726563,
          63.182067871099996,
          63.174438476599995,
          63.1912231445,
          63.2141113281,
          63.2034301758,
          63.253784179700006,
          63.2247924805,
          63.233947753900004,
          63.2873535156,
          63.270568847700005,
          63.265991210900005,
          63.249206543,
          63.2751464844,
          63.294982910200005,
          63.3239746094,
          63.307189941400004,
          63.296508789099995
         ],
         "y": [
          30.7624816895,
          30.77003479,
          30.7725524902,
          30.759963989299997,
          30.7624816895,
          30.7750701904,
          30.7624816895,
          30.77003479,
          30.7725524902,
          30.7649993896,
          30.921096801799997,
          30.9185791016,
          30.9160614014,
          30.9185791016,
          30.9261322021,
          30.923614502,
          30.9160614014,
          30.9185791016,
          30.921096801799997,
          30.9135437012,
          30.8908843994,
          30.8833312988,
          30.8959197998,
          30.888366699200002,
          30.885848999,
          30.888366699200002,
          30.8959197998,
          30.888366699200002,
          30.8959197998,
          30.8833312988,
          30.868225097699998,
          30.8808135986,
          30.868225097699998,
          30.8808135986,
          30.8631896973,
          30.8657073975,
          30.868225097699998,
          30.885848999,
          30.873260498,
          30.8959197998,
          30.875778198200003,
          30.868225097699998,
          30.875778198200003,
          30.868225097699998,
          30.8707427979,
          30.8531188965,
          30.8606719971,
          30.8581542969,
          30.8707427979,
          30.868225097699998
         ],
         "z": [
          30132,
          30124,
          30121,
          30122,
          30123,
          30125,
          30125,
          30122,
          30124,
          30126,
          29554,
          29554,
          29550,
          29560,
          29556,
          29557,
          29556,
          29558,
          29554,
          29548,
          29678,
          29678,
          29676,
          29672,
          29676,
          29686,
          29676,
          29680,
          29684,
          29676,
          29770,
          29764,
          29764,
          29768,
          29776,
          29772,
          29774,
          29774,
          29770,
          29776,
          29834,
          29842,
          29831,
          29836,
          29838,
          29842,
          29830,
          29845,
          29848,
          29818
         ]
        },
        {
         "marker": {
          "color": [
           0,
           0,
           0,
           0,
           0,
           0,
           0,
           0,
           0,
           0,
           59.9625,
           60.0375,
           59.9375,
           59.9875,
           60.05,
           60,
           59.9625,
           60.0125,
           60.0625,
           60,
           25.025,
           25.025,
           24.9875,
           24.975,
           25.0125,
           24.975,
           25.0375,
           25.025,
           24.975,
           25.0375,
           10.025,
           9.9875,
           10,
           10.025,
           10,
           10.0125,
           10,
           10.0125,
           9.975,
           10,
           4.025,
           4,
           4.0125,
           4.0125,
           4,
           3.9875,
           4,
           4.0125,
           4,
           3.9875
          ],
          "colorscale": [
           [
            0,
            "rgb(255,160,122)"
           ],
           [
            1,
            "rgb(128,0,0)"
           ]
          ],
          "opacity": 0.5,
          "size": 2,
          "symbol": "circle"
         },
         "mode": "markers",
         "name": "40C",
         "type": "scatter3d",
         "x": [
          62.5061035156,
          62.522888183599996,
          62.5,
          62.5198364258,
          62.5122070313,
          62.547302246099996,
          62.557983398400005,
          62.5564575195,
          62.5366210938,
          62.5411987305,
          62.4221801758,
          62.3840332031,
          62.4221801758,
          62.460327148400005,
          62.4710083008,
          62.503051757799994,
          62.522888183599996,
          62.527465820299994,
          62.5411987305,
          62.5793457031,
          62.6281738281,
          62.657165527299995,
          62.625122070299994,
          62.6266479492,
          62.6403808594,
          62.6388549805,
          62.6708984375,
          62.648010253900004,
          62.6892089844,
          62.663269043,
          62.648010253900004,
          62.6525878906,
          62.678527832,
          62.7014160156,
          62.684631347700005,
          62.673950195299994,
          62.678527832,
          62.6708984375,
          62.696838378900004,
          62.6831054688,
          62.635803222700005,
          62.606811523400005,
          62.608337402299995,
          62.59765625,
          62.623596191400004,
          62.612915039099995,
          62.6022338867,
          62.619018554700006,
          62.632751464799995,
          62.6159667969
         ],
         "y": [
          40.6771850586,
          40.6797027588,
          40.687255859400004,
          40.6847381592,
          40.687255859400004,
          40.6847381592,
          40.687255859400004,
          40.69480896,
          40.6922912598,
          40.6998443604,
          40.7350921631,
          40.7325744629,
          40.7350921631,
          40.7426452637,
          40.7451629639,
          40.7376098633,
          40.7350921631,
          40.7325744629,
          40.740127563499996,
          40.7426452637,
          40.7778930664,
          40.7804107666,
          40.7778930664,
          40.7753753662,
          40.7778930664,
          40.7703399658,
          40.7879638672,
          40.7804107666,
          40.7829284668,
          40.7904815674,
          40.795516967800005,
          40.7929992676,
          40.785446166999996,
          40.7929992676,
          40.8055877686,
          40.7778930664,
          40.7904815674,
          40.7929992676,
          40.7904815674,
          40.7879638672,
          40.8156585693,
          40.8081054688,
          40.8106231689,
          40.798034668,
          40.8055877686,
          40.8081054688,
          40.8055877686,
          40.803070068400004,
          40.8055877686,
          40.8081054688
         ],
         "z": [
          30184,
          30184,
          30181,
          30183,
          30188,
          30179,
          30181,
          30190,
          30188,
          30177,
          29778,
          29766,
          29770,
          29774,
          29777,
          29772,
          29764,
          29770,
          29754,
          29768,
          29868,
          29870,
          29868,
          29858,
          29860,
          29866,
          29854,
          29864,
          29868,
          29864,
          29936,
          29930,
          29930,
          29934,
          29914,
          29928,
          29924,
          29908,
          29931,
          29928,
          29988,
          29991,
          29986,
          29996,
          29998,
          29980,
          29986,
          29986,
          29966,
          29984
         ]
        },
        {
         "marker": {
          "color": [
           0,
           0,
           0,
           0,
           0,
           0,
           0,
           0,
           0,
           0,
           60.0375,
           59.9875,
           59.975,
           59.9875,
           59.9625,
           59.9875,
           59.9375,
           60.0125,
           59.9875,
           59.975,
           25.0125,
           25,
           25.0125,
           24.925,
           25.0375,
           24.9625,
           24.9875,
           25,
           24.9875,
           24.95,
           10,
           10.0125,
           10.0125,
           10,
           10,
           9.975,
           10.0125,
           9.975,
           10.025,
           9.9875,
           4,
           4.0125,
           4.025,
           4.025,
           4,
           4.0125,
           4,
           4,
           4.0125,
           4
          ],
          "colorscale": [
           [
            0,
            "rgb(192,192,192)"
           ],
           [
            1,
            "rgb(0,0,0)"
           ]
          ],
          "opacity": 0.5,
          "size": 2,
          "symbol": "circle"
         },
         "mode": "markers",
         "name": "30C_test",
         "type": "scatter3d",
         "x": [
          62.232971191400004,
          62.2314453125,
          62.294006347700005,
          62.307739257799994,
          62.321472168,
          62.356567382799994,
          62.376403808599996,
          62.362670898400005,
          62.388610839799995,
          62.411499023400005,
          62.890625,
          62.8982543945,
          62.8784179688,
          62.9592895508,
          62.9272460938,
          62.9959106445,
          62.98828125,
          63.026428222700005,
          63.009643554700006,
          63.020324707,
          63.023376464799995,
          63.0310058594,
          63.084411621099996,
          63.076782226599995,
          63.035583496099996,
          63.101196289099995,
          63.084411621099996,
          63.009643554700006,
          62.8005981445,
          62.661743164099995,
          62.59765625,
          62.6510620117,
          62.643432617200006,
          62.6998901367,
          62.7136230469,
          62.7395629883,
          62.765502929700006,
          62.742614746099996,
          62.7807617188,
          62.8128051758,
          62.924194335900005,
          62.9440307617,
          62.942504882799994,
          62.9196166992,
          62.954711914099995,
          62.9684448242,
          62.948608398400005,
          62.986755371099996,
          63.0126953125,
          62.998962402299995
         ],
         "y": [
          30.8959197998,
          30.888366699200002,
          30.8908843994,
          30.888366699200002,
          30.8908843994,
          30.888366699200002,
          30.8959197998,
          30.8934020996,
          30.8959197998,
          30.888366699200002,
          30.8782958984,
          30.885848999,
          30.8833312988,
          30.8808135986,
          30.873260498,
          30.8808135986,
          30.8782958984,
          30.8808135986,
          30.873260498,
          30.875778198200003,
          30.885848999,
          30.868225097699998,
          30.875778198200003,
          30.868225097699998,
          30.875778198200003,
          30.873260498,
          30.875778198200003,
          30.868225097699998,
          30.8707427979,
          30.8631896973,
          30.8631896973,
          30.8808135986,
          30.873260498,
          30.875778198200003,
          30.8782958984,
          30.8808135986,
          30.8833312988,
          30.875778198200003,
          30.8833312988,
          30.875778198200003,
          30.873260498,
          30.855636596700002,
          30.868225097699998,
          30.8808135986,
          30.873260498,
          30.8707427979,
          30.8631896973,
          30.8657073975,
          30.868225097699998,
          30.875778198200003
         ],
         "z": [
          29788,
          29782,
          29784,
          29782,
          29784,
          29786,
          29784,
          29788,
          29784,
          29782,
          29332,
          29338,
          29338,
          29336,
          29333,
          29326,
          29332,
          29342,
          29329,
          29330,
          29463,
          29468,
          29461,
          29456,
          29464,
          29462,
          29458,
          29466,
          29478,
          29460,
          29554,
          29556,
          29572,
          29564,
          29554,
          29544,
          29552,
          29561,
          29548,
          29542,
          29605,
          29606,
          29610,
          29612,
          29610,
          29602,
          29600,
          29612,
          29603,
          29604
         ]
        },
        {
         "marker": {
          "color": [
           0,
           0,
           0,
           0,
           0,
           0,
           0,
           0,
           0,
           0,
           60.0375,
           60.025,
           59.9625,
           59.9875,
           60.05,
           59.95,
           60.0625,
           60.05,
           59.975,
           59.9875,
           24.9375,
           25,
           25,
           25.0125,
           25.0375,
           24.9875,
           24.9875,
           25.0125,
           24.975,
           25.025,
           10,
           10,
           10,
           9.9875,
           10,
           10,
           10,
           9.9875,
           10.0125,
           10.025,
           4.0125,
           4.0125,
           4,
           4.0125,
           4.025,
           4,
           4.025,
           4.025,
           4,
           4.025
          ],
          "colorscale": [
           [
            0,
            "rgb(192,192,192)"
           ],
           [
            1,
            "rgb(0,0,0)"
           ]
          ],
          "opacity": 0.5,
          "size": 2,
          "symbol": "circle"
         },
         "mode": "markers",
         "name": "30C_test_2",
         "type": "scatter3d",
         "x": [
          62.1536254883,
          62.1643066406,
          62.184143066400004,
          62.179565429700006,
          62.2024536133,
          62.109375,
          61.866760253900004,
          61.715698242200006,
          61.6653442383,
          61.642456054700006,
          62.136840820299994,
          62.171936035200005,
          62.203979492200006,
          62.2116088867,
          62.20703125,
          62.245178222700005,
          62.289428710900005,
          62.321472168,
          62.350463867200006,
          62.351989746099996,
          62.4633789063,
          62.437438964799995,
          62.503051757799994,
          62.525939941400004,
          62.527465820299994,
          62.5198364258,
          62.548828125,
          62.574768066400004,
          62.600708007799994,
          62.596130371099996,
          62.315368652299995,
          62.155151367200006,
          62.0559692383,
          62.0544433594,
          62.0407104492,
          62.0727539063,
          62.0803833008,
          62.1643066406,
          62.141418457,
          62.155151367200006,
          62.336730957,
          62.332153320299994,
          62.3977661133,
          62.374877929700006,
          62.367248535200005,
          62.3962402344,
          62.416076660200005,
          62.4328613281,
          62.4465942383,
          62.448120117200006
         ],
         "y": [
          30.840530395500004,
          30.843048095700002,
          30.835494995100003,
          30.8531188965,
          30.8455657959,
          30.843048095700002,
          30.8455657959,
          30.8531188965,
          30.8506011963,
          30.843048095700002,
          30.848083496100003,
          30.855636596700002,
          30.8531188965,
          30.8657073975,
          30.8631896973,
          30.855636596700002,
          30.848083496100003,
          30.855636596700002,
          30.8531188965,
          30.8657073975,
          30.8581542969,
          30.8657073975,
          30.8782958984,
          30.8657073975,
          30.8581542969,
          30.875778198200003,
          30.868225097699998,
          30.8707427979,
          30.8782958984,
          30.8606719971,
          30.8707427979,
          30.873260498,
          30.8707427979,
          30.868225097699998,
          30.8808135986,
          30.8782958984,
          30.8808135986,
          30.873260498,
          30.8707427979,
          30.873260498,
          30.8908843994,
          30.8782958984,
          30.8808135986,
          30.8833312988,
          30.8908843994,
          30.888366699200002,
          30.885848999,
          30.8833312988,
          30.885848999,
          30.8782958984
         ],
         "z": [
          29526,
          29532,
          29524,
          29522,
          29532,
          29526,
          29524,
          29526,
          29526,
          29515,
          29060,
          29068,
          29072,
          29064,
          29064,
          29055,
          29056,
          29050,
          29060,
          29063,
          29180,
          29179,
          29164,
          29170,
          29172,
          29172,
          29170,
          29175,
          29174,
          29168,
          29254,
          29258,
          29256,
          29270,
          29264,
          29254,
          29258,
          29264,
          29258,
          29254,
          29316,
          29298,
          29304,
          29286,
          29284,
          29310,
          29303,
          29304,
          29302,
          29302
         ]
        }
       ],
       "layout": {
        "margin": {
         "b": 50,
         "l": 50,
         "r": 50,
         "t": 50
        },
        "scene": {
         "xaxis": {
          "title": {
           "text": "Humidity"
          }
         },
         "yaxis": {
          "title": {
           "text": "Temperature"
          }
         },
         "zaxis": {
          "title": {
           "text": "583nm #1"
          }
         }
        },
        "template": {
         "data": {
          "bar": [
           {
            "error_x": {
             "color": "#2a3f5f"
            },
            "error_y": {
             "color": "#2a3f5f"
            },
            "marker": {
             "line": {
              "color": "#E5ECF6",
              "width": 0.5
             }
            },
            "type": "bar"
           }
          ],
          "barpolar": [
           {
            "marker": {
             "line": {
              "color": "#E5ECF6",
              "width": 0.5
             }
            },
            "type": "barpolar"
           }
          ],
          "carpet": [
           {
            "aaxis": {
             "endlinecolor": "#2a3f5f",
             "gridcolor": "white",
             "linecolor": "white",
             "minorgridcolor": "white",
             "startlinecolor": "#2a3f5f"
            },
            "baxis": {
             "endlinecolor": "#2a3f5f",
             "gridcolor": "white",
             "linecolor": "white",
             "minorgridcolor": "white",
             "startlinecolor": "#2a3f5f"
            },
            "type": "carpet"
           }
          ],
          "choropleth": [
           {
            "colorbar": {
             "outlinewidth": 0,
             "ticks": ""
            },
            "type": "choropleth"
           }
          ],
          "contour": [
           {
            "colorbar": {
             "outlinewidth": 0,
             "ticks": ""
            },
            "colorscale": [
             [
              0,
              "#0d0887"
             ],
             [
              0.1111111111111111,
              "#46039f"
             ],
             [
              0.2222222222222222,
              "#7201a8"
             ],
             [
              0.3333333333333333,
              "#9c179e"
             ],
             [
              0.4444444444444444,
              "#bd3786"
             ],
             [
              0.5555555555555556,
              "#d8576b"
             ],
             [
              0.6666666666666666,
              "#ed7953"
             ],
             [
              0.7777777777777778,
              "#fb9f3a"
             ],
             [
              0.8888888888888888,
              "#fdca26"
             ],
             [
              1,
              "#f0f921"
             ]
            ],
            "type": "contour"
           }
          ],
          "contourcarpet": [
           {
            "colorbar": {
             "outlinewidth": 0,
             "ticks": ""
            },
            "type": "contourcarpet"
           }
          ],
          "heatmap": [
           {
            "colorbar": {
             "outlinewidth": 0,
             "ticks": ""
            },
            "colorscale": [
             [
              0,
              "#0d0887"
             ],
             [
              0.1111111111111111,
              "#46039f"
             ],
             [
              0.2222222222222222,
              "#7201a8"
             ],
             [
              0.3333333333333333,
              "#9c179e"
             ],
             [
              0.4444444444444444,
              "#bd3786"
             ],
             [
              0.5555555555555556,
              "#d8576b"
             ],
             [
              0.6666666666666666,
              "#ed7953"
             ],
             [
              0.7777777777777778,
              "#fb9f3a"
             ],
             [
              0.8888888888888888,
              "#fdca26"
             ],
             [
              1,
              "#f0f921"
             ]
            ],
            "type": "heatmap"
           }
          ],
          "heatmapgl": [
           {
            "colorbar": {
             "outlinewidth": 0,
             "ticks": ""
            },
            "colorscale": [
             [
              0,
              "#0d0887"
             ],
             [
              0.1111111111111111,
              "#46039f"
             ],
             [
              0.2222222222222222,
              "#7201a8"
             ],
             [
              0.3333333333333333,
              "#9c179e"
             ],
             [
              0.4444444444444444,
              "#bd3786"
             ],
             [
              0.5555555555555556,
              "#d8576b"
             ],
             [
              0.6666666666666666,
              "#ed7953"
             ],
             [
              0.7777777777777778,
              "#fb9f3a"
             ],
             [
              0.8888888888888888,
              "#fdca26"
             ],
             [
              1,
              "#f0f921"
             ]
            ],
            "type": "heatmapgl"
           }
          ],
          "histogram": [
           {
            "marker": {
             "colorbar": {
              "outlinewidth": 0,
              "ticks": ""
             }
            },
            "type": "histogram"
           }
          ],
          "histogram2d": [
           {
            "colorbar": {
             "outlinewidth": 0,
             "ticks": ""
            },
            "colorscale": [
             [
              0,
              "#0d0887"
             ],
             [
              0.1111111111111111,
              "#46039f"
             ],
             [
              0.2222222222222222,
              "#7201a8"
             ],
             [
              0.3333333333333333,
              "#9c179e"
             ],
             [
              0.4444444444444444,
              "#bd3786"
             ],
             [
              0.5555555555555556,
              "#d8576b"
             ],
             [
              0.6666666666666666,
              "#ed7953"
             ],
             [
              0.7777777777777778,
              "#fb9f3a"
             ],
             [
              0.8888888888888888,
              "#fdca26"
             ],
             [
              1,
              "#f0f921"
             ]
            ],
            "type": "histogram2d"
           }
          ],
          "histogram2dcontour": [
           {
            "colorbar": {
             "outlinewidth": 0,
             "ticks": ""
            },
            "colorscale": [
             [
              0,
              "#0d0887"
             ],
             [
              0.1111111111111111,
              "#46039f"
             ],
             [
              0.2222222222222222,
              "#7201a8"
             ],
             [
              0.3333333333333333,
              "#9c179e"
             ],
             [
              0.4444444444444444,
              "#bd3786"
             ],
             [
              0.5555555555555556,
              "#d8576b"
             ],
             [
              0.6666666666666666,
              "#ed7953"
             ],
             [
              0.7777777777777778,
              "#fb9f3a"
             ],
             [
              0.8888888888888888,
              "#fdca26"
             ],
             [
              1,
              "#f0f921"
             ]
            ],
            "type": "histogram2dcontour"
           }
          ],
          "mesh3d": [
           {
            "colorbar": {
             "outlinewidth": 0,
             "ticks": ""
            },
            "type": "mesh3d"
           }
          ],
          "parcoords": [
           {
            "line": {
             "colorbar": {
              "outlinewidth": 0,
              "ticks": ""
             }
            },
            "type": "parcoords"
           }
          ],
          "pie": [
           {
            "automargin": true,
            "type": "pie"
           }
          ],
          "scatter": [
           {
            "marker": {
             "colorbar": {
              "outlinewidth": 0,
              "ticks": ""
             }
            },
            "type": "scatter"
           }
          ],
          "scatter3d": [
           {
            "line": {
             "colorbar": {
              "outlinewidth": 0,
              "ticks": ""
             }
            },
            "marker": {
             "colorbar": {
              "outlinewidth": 0,
              "ticks": ""
             }
            },
            "type": "scatter3d"
           }
          ],
          "scattercarpet": [
           {
            "marker": {
             "colorbar": {
              "outlinewidth": 0,
              "ticks": ""
             }
            },
            "type": "scattercarpet"
           }
          ],
          "scattergeo": [
           {
            "marker": {
             "colorbar": {
              "outlinewidth": 0,
              "ticks": ""
             }
            },
            "type": "scattergeo"
           }
          ],
          "scattergl": [
           {
            "marker": {
             "colorbar": {
              "outlinewidth": 0,
              "ticks": ""
             }
            },
            "type": "scattergl"
           }
          ],
          "scattermapbox": [
           {
            "marker": {
             "colorbar": {
              "outlinewidth": 0,
              "ticks": ""
             }
            },
            "type": "scattermapbox"
           }
          ],
          "scatterpolar": [
           {
            "marker": {
             "colorbar": {
              "outlinewidth": 0,
              "ticks": ""
             }
            },
            "type": "scatterpolar"
           }
          ],
          "scatterpolargl": [
           {
            "marker": {
             "colorbar": {
              "outlinewidth": 0,
              "ticks": ""
             }
            },
            "type": "scatterpolargl"
           }
          ],
          "scatterternary": [
           {
            "marker": {
             "colorbar": {
              "outlinewidth": 0,
              "ticks": ""
             }
            },
            "type": "scatterternary"
           }
          ],
          "surface": [
           {
            "colorbar": {
             "outlinewidth": 0,
             "ticks": ""
            },
            "colorscale": [
             [
              0,
              "#0d0887"
             ],
             [
              0.1111111111111111,
              "#46039f"
             ],
             [
              0.2222222222222222,
              "#7201a8"
             ],
             [
              0.3333333333333333,
              "#9c179e"
             ],
             [
              0.4444444444444444,
              "#bd3786"
             ],
             [
              0.5555555555555556,
              "#d8576b"
             ],
             [
              0.6666666666666666,
              "#ed7953"
             ],
             [
              0.7777777777777778,
              "#fb9f3a"
             ],
             [
              0.8888888888888888,
              "#fdca26"
             ],
             [
              1,
              "#f0f921"
             ]
            ],
            "type": "surface"
           }
          ],
          "table": [
           {
            "cells": {
             "fill": {
              "color": "#EBF0F8"
             },
             "line": {
              "color": "white"
             }
            },
            "header": {
             "fill": {
              "color": "#C8D4E3"
             },
             "line": {
              "color": "white"
             }
            },
            "type": "table"
           }
          ]
         },
         "layout": {
          "annotationdefaults": {
           "arrowcolor": "#2a3f5f",
           "arrowhead": 0,
           "arrowwidth": 1
          },
          "autotypenumbers": "strict",
          "coloraxis": {
           "colorbar": {
            "outlinewidth": 0,
            "ticks": ""
           }
          },
          "colorscale": {
           "diverging": [
            [
             0,
             "#8e0152"
            ],
            [
             0.1,
             "#c51b7d"
            ],
            [
             0.2,
             "#de77ae"
            ],
            [
             0.3,
             "#f1b6da"
            ],
            [
             0.4,
             "#fde0ef"
            ],
            [
             0.5,
             "#f7f7f7"
            ],
            [
             0.6,
             "#e6f5d0"
            ],
            [
             0.7,
             "#b8e186"
            ],
            [
             0.8,
             "#7fbc41"
            ],
            [
             0.9,
             "#4d9221"
            ],
            [
             1,
             "#276419"
            ]
           ],
           "sequential": [
            [
             0,
             "#0d0887"
            ],
            [
             0.1111111111111111,
             "#46039f"
            ],
            [
             0.2222222222222222,
             "#7201a8"
            ],
            [
             0.3333333333333333,
             "#9c179e"
            ],
            [
             0.4444444444444444,
             "#bd3786"
            ],
            [
             0.5555555555555556,
             "#d8576b"
            ],
            [
             0.6666666666666666,
             "#ed7953"
            ],
            [
             0.7777777777777778,
             "#fb9f3a"
            ],
            [
             0.8888888888888888,
             "#fdca26"
            ],
            [
             1,
             "#f0f921"
            ]
           ],
           "sequentialminus": [
            [
             0,
             "#0d0887"
            ],
            [
             0.1111111111111111,
             "#46039f"
            ],
            [
             0.2222222222222222,
             "#7201a8"
            ],
            [
             0.3333333333333333,
             "#9c179e"
            ],
            [
             0.4444444444444444,
             "#bd3786"
            ],
            [
             0.5555555555555556,
             "#d8576b"
            ],
            [
             0.6666666666666666,
             "#ed7953"
            ],
            [
             0.7777777777777778,
             "#fb9f3a"
            ],
            [
             0.8888888888888888,
             "#fdca26"
            ],
            [
             1,
             "#f0f921"
            ]
           ]
          },
          "colorway": [
           "#636efa",
           "#EF553B",
           "#00cc96",
           "#ab63fa",
           "#FFA15A",
           "#19d3f3",
           "#FF6692",
           "#B6E880",
           "#FF97FF",
           "#FECB52"
          ],
          "font": {
           "color": "#2a3f5f"
          },
          "geo": {
           "bgcolor": "white",
           "lakecolor": "white",
           "landcolor": "#E5ECF6",
           "showlakes": true,
           "showland": true,
           "subunitcolor": "white"
          },
          "hoverlabel": {
           "align": "left"
          },
          "hovermode": "closest",
          "mapbox": {
           "style": "light"
          },
          "paper_bgcolor": "white",
          "plot_bgcolor": "#E5ECF6",
          "polar": {
           "angularaxis": {
            "gridcolor": "white",
            "linecolor": "white",
            "ticks": ""
           },
           "bgcolor": "#E5ECF6",
           "radialaxis": {
            "gridcolor": "white",
            "linecolor": "white",
            "ticks": ""
           }
          },
          "scene": {
           "xaxis": {
            "backgroundcolor": "#E5ECF6",
            "gridcolor": "white",
            "gridwidth": 2,
            "linecolor": "white",
            "showbackground": true,
            "ticks": "",
            "zerolinecolor": "white"
           },
           "yaxis": {
            "backgroundcolor": "#E5ECF6",
            "gridcolor": "white",
            "gridwidth": 2,
            "linecolor": "white",
            "showbackground": true,
            "ticks": "",
            "zerolinecolor": "white"
           },
           "zaxis": {
            "backgroundcolor": "#E5ECF6",
            "gridcolor": "white",
            "gridwidth": 2,
            "linecolor": "white",
            "showbackground": true,
            "ticks": "",
            "zerolinecolor": "white"
           }
          },
          "shapedefaults": {
           "line": {
            "color": "#2a3f5f"
           }
          },
          "ternary": {
           "aaxis": {
            "gridcolor": "white",
            "linecolor": "white",
            "ticks": ""
           },
           "baxis": {
            "gridcolor": "white",
            "linecolor": "white",
            "ticks": ""
           },
           "bgcolor": "#E5ECF6",
           "caxis": {
            "gridcolor": "white",
            "linecolor": "white",
            "ticks": ""
           }
          },
          "title": {
           "x": 0.05
          },
          "xaxis": {
           "automargin": true,
           "gridcolor": "white",
           "linecolor": "white",
           "ticks": "",
           "title": {
            "standoff": 15
           },
           "zerolinecolor": "white",
           "zerolinewidth": 2
          },
          "yaxis": {
           "automargin": true,
           "gridcolor": "white",
           "linecolor": "white",
           "ticks": "",
           "title": {
            "standoff": 15
           },
           "zerolinecolor": "white",
           "zerolinewidth": 2
          }
         }
        },
        "title": {
         "text": "4D 583nm #1 #20200930172233"
        }
       }
      },
      "text/html": [
       "<div>                            <div id=\"f17e6cf9-6ff9-40ca-ae4f-f4ec4d2ac4ac\" class=\"plotly-graph-div\" style=\"height:525px; width:100%;\"></div>            <script type=\"text/javascript\">                require([\"plotly\"], function(Plotly) {                    window.PLOTLYENV=window.PLOTLYENV || {};\n",
       "                    window.PLOTLYENV.BASE_URL='https://plot.ly';                                    if (document.getElementById(\"f17e6cf9-6ff9-40ca-ae4f-f4ec4d2ac4ac\")) {                    Plotly.newPlot(                        \"f17e6cf9-6ff9-40ca-ae4f-f4ec4d2ac4ac\",                        [{\"marker\": {\"color\": [0.0, 0.0, 0.0, 0.0, 0.0, 0.0, 0.0, 0.0, 0.0, 0.0, 60.025, 60.05, 59.9875, 60.0, 60.05, 60.0375, 60.0125, 60.025, 59.9, 60.0, 25.0125, 25.0, 24.975, 25.0125, 25.0125, 24.9375, 25.0125, 25.025, 24.95, 24.975, 10.0125, 10.0, 9.9875, 10.0125, 9.9875, 10.0125, 9.9875, 10.0125, 10.0125, 9.9875, 3.975, 4.0125, 4.0125, 4.0125, 4.025, 4.0125, 4.0125, 4.0, 3.9875, 4.0125], \"colorscale\": [[0, \"rgb(255,160,122)\"], [1.0, \"rgb(128,0,0)\"]], \"opacity\": 0.5, \"size\": 2, \"symbol\": \"circle\"}, \"mode\": \"markers\", \"name\": \"0C\", \"type\": \"scatter3d\", \"x\": [67.0028686523, 67.0501708984, 67.0547485352, 67.0867919922, 67.008972168, 66.8762207031, 66.8197631836, 66.7083740234, 66.6976928711, 66.7175292969, 68.0770874023, 68.1213378906, 68.2174682617, 68.2312011719, 68.3090209961, 68.3410644531, 68.4585571289, 68.42041015630001, 68.4982299805, 68.5485839844, 68.278503418, 68.310546875, 68.342590332, 68.4173583984, 68.4097290039, 68.4783935547, 68.5134887695, 68.5638427734, 68.5989379883, 68.6370849609, 68.7957763672, 68.8064575195, 68.8568115234, 68.8583374023, 68.8262939453, 68.7606811523, 68.5760498047, 68.5104370117, 68.4356689453, 68.3853149414, 68.5302734375, 68.5501098633, 68.6096191406, 68.6019897461, 68.6584472656, 68.6935424805, 68.7408447266, 68.7606811523, 68.7469482422, 68.7759399414], \"y\": [-2.14134216309, -2.15896606445, -2.1463775634799998, -2.16400146484, -2.16651916504, -2.16400146484, -2.16651916504, -2.16903686523, -2.1715545654299997, -2.17407226563, -2.22190856934, -2.22442626953, -2.2168731689500003, -2.2395324707, -2.2269439697299998, -2.2395324707, -2.22190856934, -2.22442626953, -2.2269439697299998, -2.22946166992, -2.2168731689500003, -2.20932006836, -2.2118377685499997, -2.22946166992, -2.2168731689500003, -2.21939086914, -2.2168731689500003, -2.21939086914, -2.2168731689500003, -2.21939086914, -2.21435546875, -2.20680236816, -2.21435546875, -2.2017669677700002, -2.20932006836, -2.2017669677700002, -2.21435546875, -2.2118377685499997, -2.20932006836, -2.20680236816, -2.19924926758, -2.1866607665999998, -2.17910766602, -2.18162536621, -2.1942138671900002, -2.19169616699, -2.1891784668, -2.1866607665999998, -2.18414306641, -2.1866607665999998], \"z\": [29314, 29324, 29331, 29332, 29330, 29312, 29332, 29317, 29326, 29314, 27824, 27808, 27802, 27828, 27828, 27824, 27818, 27806, 27806, 27802, 28092, 28098, 28107, 28100, 28086, 28091, 28086, 28110, 28096, 28083, 28366, 28344, 28352, 28370, 28356, 28348, 28360, 28366, 28366, 28344, 28562, 28544, 28538, 28550, 28562, 28544, 28542, 28544, 28561, 28569]}, {\"marker\": {\"color\": [0.0, 0.0, 0.0, 0.0, 0.0, 0.0, 0.0, 0.0, 0.0, 0.0, 60.0375, 59.925, 59.975, 59.975, 59.9875, 59.9875, 59.95, 59.9875, 60.0375, 59.975, 25.0125, 25.025, 24.975, 24.9625, 25.025, 25.025, 24.9875, 25.0125, 25.0125, 24.95, 10.0125, 9.9875, 10.025, 10.0125, 10.0125, 10.0, 10.0, 10.0125, 10.025, 9.975, 4.0125, 4.0, 4.0125, 4.0125, 3.9875, 4.0125, 4.025, 4.0125, 3.975, 4.0125], \"colorscale\": [[0, \"rgb(255,160,122)\"], [1.0, \"rgb(128,0,0)\"]], \"opacity\": 0.5, \"size\": 2, \"symbol\": \"circle\"}, \"mode\": \"markers\", \"name\": \"10C\", \"type\": \"scatter3d\", \"x\": [65.0833129883, 64.9200439453, 64.7201538086, 64.6423339844, 64.5797729492, 64.5446777344, 64.5736694336, 64.6026611328, 64.6499633789, 64.6789550781, 65.7241821289, 65.7806396484, 65.7791137695, 65.8142089844, 65.8950805664, 65.9027099609, 65.9378051758, 65.9698486328, 66.0079956055, 66.0552978516, 65.7821655273, 65.83251953130001, 65.8706665039, 65.8843994141, 65.934753418, 65.9484863281, 65.9927368164, 66.015625, 66.0507202148, 66.1224365234, 65.6768798828, 65.7302856445, 65.7257080078, 65.7760620117, 65.7775878906, 65.8187866211, 65.8447265625, 65.8615112305, 65.90576171880001, 65.9561157227, 65.7608032227, 65.7165527344, 65.6814575195, 65.7135009766, 65.705871582, 65.7287597656, 65.7608032227, 65.8050537109, 65.837097168, 65.8630371094], \"y\": [10.9003448486, 10.8978271484, 10.9104156494, 10.8978271484, 10.9104156494, 10.902862548800002, 10.9204864502, 10.9078979492, 10.9104156494, 10.902862548800002, 10.8802032471, 10.882720947300001, 10.8902740479, 10.8877563477, 10.8802032471, 10.8877563477, 10.8852386475, 10.882720947300001, 10.8751678467, 10.8776855469, 10.8550262451, 10.862579345699999, 10.8499908447, 10.852508544900001, 10.8550262451, 10.8575439453, 10.8449554443, 10.837402343800001, 10.8449554443, 10.8474731445, 10.827331543, 10.839920043900001, 10.837402343800001, 10.839920043900001, 10.837402343800001, 10.839920043900001, 10.837402343800001, 10.8449554443, 10.842437744100001, 10.8449554443, 10.8298492432, 10.822296142599999, 10.8248138428, 10.827331543, 10.8197784424, 10.832366943399999, 10.834884643599999, 10.827331543, 10.8298492432, 10.832366943399999], \"z\": [29754, 29776, 29768, 29774, 29774, 29772, 29774, 29769, 29767, 29770, 28668, 28666, 28666, 28670, 28652, 28662, 28660, 28638, 28667, 28634, 28894, 28894, 28888, 28896, 28893, 28898, 28888, 28894, 28898, 28886, 29098, 29104, 29096, 29095, 29096, 29102, 29096, 29096, 29100, 29096, 29200, 29206, 29214, 29201, 29208, 29210, 29202, 29198, 29204, 29200]}, {\"marker\": {\"color\": [0.0, 0.0, 0.0, 0.0, 0.0, 0.0, 0.0, 0.0, 0.0, 0.0, 60.0375, 59.9625, 60.05, 59.9875, 60.0, 60.0375, 60.1, 60.0, 59.9875, 60.0625, 25.0125, 25.0375, 24.9875, 25.025, 25.0375, 25.0, 24.9875, 25.0125, 25.0125, 25.0, 10.0125, 10.0125, 9.975, 10.0125, 10.0125, 9.9875, 9.975, 10.0, 10.0, 10.0, 3.9875, 4.0, 4.0, 4.0125, 4.0, 4.0125, 4.0, 4.0, 4.0125, 4.0125], \"colorscale\": [[0, \"rgb(255,160,122)\"], [1.0, \"rgb(128,0,0)\"]], \"opacity\": 0.5, \"size\": 2, \"symbol\": \"circle\"}, \"mode\": \"markers\", \"name\": \"20C\", \"type\": \"scatter3d\", \"x\": [63.929748535200005, 63.967895507799994, 63.941955566400004, 64.0350341797, 64.0151977539, 64.0380859375, 64.0853881836, 64.0869140625, 64.143371582, 64.1357421875, 64.5080566406, 64.5492553711, 64.5843505859, 64.616394043, 64.6148681641, 64.6408081055, 64.6423339844, 64.6713256836, 64.68505859380001, 64.6896362305, 64.5706176758, 64.5965576172, 64.6530151367, 64.6331787109, 64.6896362305, 64.68505859380001, 64.7079467773, 64.7064208984, 64.729309082, 64.7308349609, 64.6133422852, 64.6453857422, 64.6713256836, 64.6667480469, 64.6682739258, 64.7216796875, 64.7323608398, 64.6820068359, 64.5065307617, 64.2913818359, 64.6240234375, 64.616394043, 64.6881103516, 64.6682739258, 64.6759033203, 64.665222168, 64.4927978516, 64.2776489258, 64.1510009766, 64.1250610352], \"y\": [20.8150482178, 20.807495117200002, 20.804977417, 20.792388916, 20.804977417, 20.8024597168, 20.7999420166, 20.7974243164, 20.8100128174, 20.7974243164, 20.8930969238, 20.8905792236, 20.883026123, 20.8905792236, 20.877990722699998, 20.8855438232, 20.877990722699998, 20.8855438232, 20.888061523399998, 20.8805084229, 20.865402221700002, 20.8628845215, 20.865402221700002, 20.8628845215, 20.8704376221, 20.8528137207, 20.8553314209, 20.8578491211, 20.8704376221, 20.8578491211, 20.8452606201, 20.8528137207, 20.8402252197, 20.8528137207, 20.8402252197, 20.8326721191, 20.8301544189, 20.8427429199, 20.8402252197, 20.847778320299998, 20.8377075195, 20.8251190186, 20.8276367188, 20.835189819300002, 20.8226013184, 20.8402252197, 20.8326721191, 20.8301544189, 20.8276367188, 20.835189819300002], \"z\": [29990, 29994, 29994, 30004, 29990, 29992, 29992, 29999, 29998, 30016, 29204, 29196, 29196, 29194, 29198, 29182, 29187, 29188, 29190, 29170, 29376, 29374, 29377, 29370, 29364, 29374, 29358, 29370, 29367, 29363, 29510, 29512, 29508, 29510, 29514, 29506, 29504, 29504, 29506, 29506, 29596, 29590, 29590, 29588, 29580, 29586, 29586, 29596, 29576, 29598]}, {\"marker\": {\"color\": [0.0, 0.0, 0.0, 0.0, 0.0, 0.0, 0.0, 0.0, 0.0, 0.0, 60.0125, 59.9875, 59.9625, 59.9875, 60.025, 59.95, 59.9875, 60.0, 59.975, 60.0375, 25.0, 25.0125, 25.025, 24.9875, 25.0375, 24.975, 24.9875, 25.0125, 25.0125, 25.0, 10.0125, 9.975, 10.0, 9.975, 10.0, 10.0125, 10.0, 10.0, 9.9875, 10.0125, 4.0, 4.0, 3.9875, 4.025, 4.0125, 4.0, 3.9875, 4.0125, 4.0, 4.0125], \"colorscale\": [[0, \"rgb(255,160,122)\"], [1.0, \"rgb(128,0,0)\"]], \"opacity\": 0.5, \"size\": 2, \"symbol\": \"circle\"}, \"mode\": \"markers\", \"name\": \"30C\", \"type\": \"scatter3d\", \"x\": [63.229370117200006, 63.2522583008, 63.2507324219, 63.2522583008, 63.241577148400005, 63.243103027299995, 63.2934570313, 63.3102416992, 63.272094726599995, 63.151550293, 63.3102416992, 63.2995605469, 63.3010864258, 63.3361816406, 63.3255004883, 63.345336914099995, 63.346862793, 63.3666992188, 63.2888793945, 63.113403320299994, 62.791442871099996, 62.826538085900005, 62.879943847700005, 62.893676757799994, 62.9470825195, 62.9577636719, 62.9440307617, 62.9577636719, 63.014221191400004, 63.046264648400005, 63.0920410156, 63.117980957, 63.1469726563, 63.182067871099996, 63.174438476599995, 63.1912231445, 63.2141113281, 63.2034301758, 63.253784179700006, 63.2247924805, 63.233947753900004, 63.2873535156, 63.270568847700005, 63.265991210900005, 63.249206543, 63.2751464844, 63.294982910200005, 63.3239746094, 63.307189941400004, 63.296508789099995], \"y\": [30.7624816895, 30.77003479, 30.7725524902, 30.759963989299997, 30.7624816895, 30.7750701904, 30.7624816895, 30.77003479, 30.7725524902, 30.7649993896, 30.921096801799997, 30.9185791016, 30.9160614014, 30.9185791016, 30.9261322021, 30.923614502, 30.9160614014, 30.9185791016, 30.921096801799997, 30.9135437012, 30.8908843994, 30.8833312988, 30.8959197998, 30.888366699200002, 30.885848999, 30.888366699200002, 30.8959197998, 30.888366699200002, 30.8959197998, 30.8833312988, 30.868225097699998, 30.8808135986, 30.868225097699998, 30.8808135986, 30.8631896973, 30.8657073975, 30.868225097699998, 30.885848999, 30.873260498, 30.8959197998, 30.875778198200003, 30.868225097699998, 30.875778198200003, 30.868225097699998, 30.8707427979, 30.8531188965, 30.8606719971, 30.8581542969, 30.8707427979, 30.868225097699998], \"z\": [30132, 30124, 30121, 30122, 30123, 30125, 30125, 30122, 30124, 30126, 29554, 29554, 29550, 29560, 29556, 29557, 29556, 29558, 29554, 29548, 29678, 29678, 29676, 29672, 29676, 29686, 29676, 29680, 29684, 29676, 29770, 29764, 29764, 29768, 29776, 29772, 29774, 29774, 29770, 29776, 29834, 29842, 29831, 29836, 29838, 29842, 29830, 29845, 29848, 29818]}, {\"marker\": {\"color\": [0.0, 0.0, 0.0, 0.0, 0.0, 0.0, 0.0, 0.0, 0.0, 0.0, 59.9625, 60.0375, 59.9375, 59.9875, 60.05, 60.0, 59.9625, 60.0125, 60.0625, 60.0, 25.025, 25.025, 24.9875, 24.975, 25.0125, 24.975, 25.0375, 25.025, 24.975, 25.0375, 10.025, 9.9875, 10.0, 10.025, 10.0, 10.0125, 10.0, 10.0125, 9.975, 10.0, 4.025, 4.0, 4.0125, 4.0125, 4.0, 3.9875, 4.0, 4.0125, 4.0, 3.9875], \"colorscale\": [[0, \"rgb(255,160,122)\"], [1.0, \"rgb(128,0,0)\"]], \"opacity\": 0.5, \"size\": 2, \"symbol\": \"circle\"}, \"mode\": \"markers\", \"name\": \"40C\", \"type\": \"scatter3d\", \"x\": [62.5061035156, 62.522888183599996, 62.5, 62.5198364258, 62.5122070313, 62.547302246099996, 62.557983398400005, 62.5564575195, 62.5366210938, 62.5411987305, 62.4221801758, 62.3840332031, 62.4221801758, 62.460327148400005, 62.4710083008, 62.503051757799994, 62.522888183599996, 62.527465820299994, 62.5411987305, 62.5793457031, 62.6281738281, 62.657165527299995, 62.625122070299994, 62.6266479492, 62.6403808594, 62.6388549805, 62.6708984375, 62.648010253900004, 62.6892089844, 62.663269043, 62.648010253900004, 62.6525878906, 62.678527832, 62.7014160156, 62.684631347700005, 62.673950195299994, 62.678527832, 62.6708984375, 62.696838378900004, 62.6831054688, 62.635803222700005, 62.606811523400005, 62.608337402299995, 62.59765625, 62.623596191400004, 62.612915039099995, 62.6022338867, 62.619018554700006, 62.632751464799995, 62.6159667969], \"y\": [40.6771850586, 40.6797027588, 40.687255859400004, 40.6847381592, 40.687255859400004, 40.6847381592, 40.687255859400004, 40.69480896, 40.6922912598, 40.6998443604, 40.7350921631, 40.7325744629, 40.7350921631, 40.7426452637, 40.7451629639, 40.7376098633, 40.7350921631, 40.7325744629, 40.740127563499996, 40.7426452637, 40.7778930664, 40.7804107666, 40.7778930664, 40.7753753662, 40.7778930664, 40.7703399658, 40.7879638672, 40.7804107666, 40.7829284668, 40.7904815674, 40.795516967800005, 40.7929992676, 40.785446166999996, 40.7929992676, 40.8055877686, 40.7778930664, 40.7904815674, 40.7929992676, 40.7904815674, 40.7879638672, 40.8156585693, 40.8081054688, 40.8106231689, 40.798034668, 40.8055877686, 40.8081054688, 40.8055877686, 40.803070068400004, 40.8055877686, 40.8081054688], \"z\": [30184, 30184, 30181, 30183, 30188, 30179, 30181, 30190, 30188, 30177, 29778, 29766, 29770, 29774, 29777, 29772, 29764, 29770, 29754, 29768, 29868, 29870, 29868, 29858, 29860, 29866, 29854, 29864, 29868, 29864, 29936, 29930, 29930, 29934, 29914, 29928, 29924, 29908, 29931, 29928, 29988, 29991, 29986, 29996, 29998, 29980, 29986, 29986, 29966, 29984]}, {\"marker\": {\"color\": [0.0, 0.0, 0.0, 0.0, 0.0, 0.0, 0.0, 0.0, 0.0, 0.0, 60.0375, 59.9875, 59.975, 59.9875, 59.9625, 59.9875, 59.9375, 60.0125, 59.9875, 59.975, 25.0125, 25.0, 25.0125, 24.925, 25.0375, 24.9625, 24.9875, 25.0, 24.9875, 24.95, 10.0, 10.0125, 10.0125, 10.0, 10.0, 9.975, 10.0125, 9.975, 10.025, 9.9875, 4.0, 4.0125, 4.025, 4.025, 4.0, 4.0125, 4.0, 4.0, 4.0125, 4.0], \"colorscale\": [[0, \"rgb(192,192,192)\"], [1.0, \"rgb(0,0,0)\"]], \"opacity\": 0.5, \"size\": 2, \"symbol\": \"circle\"}, \"mode\": \"markers\", \"name\": \"30C_test\", \"type\": \"scatter3d\", \"x\": [62.232971191400004, 62.2314453125, 62.294006347700005, 62.307739257799994, 62.321472168, 62.356567382799994, 62.376403808599996, 62.362670898400005, 62.388610839799995, 62.411499023400005, 62.890625, 62.8982543945, 62.8784179688, 62.9592895508, 62.9272460938, 62.9959106445, 62.98828125, 63.026428222700005, 63.009643554700006, 63.020324707, 63.023376464799995, 63.0310058594, 63.084411621099996, 63.076782226599995, 63.035583496099996, 63.101196289099995, 63.084411621099996, 63.009643554700006, 62.8005981445, 62.661743164099995, 62.59765625, 62.6510620117, 62.643432617200006, 62.6998901367, 62.7136230469, 62.7395629883, 62.765502929700006, 62.742614746099996, 62.7807617188, 62.8128051758, 62.924194335900005, 62.9440307617, 62.942504882799994, 62.9196166992, 62.954711914099995, 62.9684448242, 62.948608398400005, 62.986755371099996, 63.0126953125, 62.998962402299995], \"y\": [30.8959197998, 30.888366699200002, 30.8908843994, 30.888366699200002, 30.8908843994, 30.888366699200002, 30.8959197998, 30.8934020996, 30.8959197998, 30.888366699200002, 30.8782958984, 30.885848999, 30.8833312988, 30.8808135986, 30.873260498, 30.8808135986, 30.8782958984, 30.8808135986, 30.873260498, 30.875778198200003, 30.885848999, 30.868225097699998, 30.875778198200003, 30.868225097699998, 30.875778198200003, 30.873260498, 30.875778198200003, 30.868225097699998, 30.8707427979, 30.8631896973, 30.8631896973, 30.8808135986, 30.873260498, 30.875778198200003, 30.8782958984, 30.8808135986, 30.8833312988, 30.875778198200003, 30.8833312988, 30.875778198200003, 30.873260498, 30.855636596700002, 30.868225097699998, 30.8808135986, 30.873260498, 30.8707427979, 30.8631896973, 30.8657073975, 30.868225097699998, 30.875778198200003], \"z\": [29788, 29782, 29784, 29782, 29784, 29786, 29784, 29788, 29784, 29782, 29332, 29338, 29338, 29336, 29333, 29326, 29332, 29342, 29329, 29330, 29463, 29468, 29461, 29456, 29464, 29462, 29458, 29466, 29478, 29460, 29554, 29556, 29572, 29564, 29554, 29544, 29552, 29561, 29548, 29542, 29605, 29606, 29610, 29612, 29610, 29602, 29600, 29612, 29603, 29604]}, {\"marker\": {\"color\": [0.0, 0.0, 0.0, 0.0, 0.0, 0.0, 0.0, 0.0, 0.0, 0.0, 60.0375, 60.025, 59.9625, 59.9875, 60.05, 59.95, 60.0625, 60.05, 59.975, 59.9875, 24.9375, 25.0, 25.0, 25.0125, 25.0375, 24.9875, 24.9875, 25.0125, 24.975, 25.025, 10.0, 10.0, 10.0, 9.9875, 10.0, 10.0, 10.0, 9.9875, 10.0125, 10.025, 4.0125, 4.0125, 4.0, 4.0125, 4.025, 4.0, 4.025, 4.025, 4.0, 4.025], \"colorscale\": [[0, \"rgb(192,192,192)\"], [1.0, \"rgb(0,0,0)\"]], \"opacity\": 0.5, \"size\": 2, \"symbol\": \"circle\"}, \"mode\": \"markers\", \"name\": \"30C_test_2\", \"type\": \"scatter3d\", \"x\": [62.1536254883, 62.1643066406, 62.184143066400004, 62.179565429700006, 62.2024536133, 62.109375, 61.866760253900004, 61.715698242200006, 61.6653442383, 61.642456054700006, 62.136840820299994, 62.171936035200005, 62.203979492200006, 62.2116088867, 62.20703125, 62.245178222700005, 62.289428710900005, 62.321472168, 62.350463867200006, 62.351989746099996, 62.4633789063, 62.437438964799995, 62.503051757799994, 62.525939941400004, 62.527465820299994, 62.5198364258, 62.548828125, 62.574768066400004, 62.600708007799994, 62.596130371099996, 62.315368652299995, 62.155151367200006, 62.0559692383, 62.0544433594, 62.0407104492, 62.0727539063, 62.0803833008, 62.1643066406, 62.141418457, 62.155151367200006, 62.336730957, 62.332153320299994, 62.3977661133, 62.374877929700006, 62.367248535200005, 62.3962402344, 62.416076660200005, 62.4328613281, 62.4465942383, 62.448120117200006], \"y\": [30.840530395500004, 30.843048095700002, 30.835494995100003, 30.8531188965, 30.8455657959, 30.843048095700002, 30.8455657959, 30.8531188965, 30.8506011963, 30.843048095700002, 30.848083496100003, 30.855636596700002, 30.8531188965, 30.8657073975, 30.8631896973, 30.855636596700002, 30.848083496100003, 30.855636596700002, 30.8531188965, 30.8657073975, 30.8581542969, 30.8657073975, 30.8782958984, 30.8657073975, 30.8581542969, 30.875778198200003, 30.868225097699998, 30.8707427979, 30.8782958984, 30.8606719971, 30.8707427979, 30.873260498, 30.8707427979, 30.868225097699998, 30.8808135986, 30.8782958984, 30.8808135986, 30.873260498, 30.8707427979, 30.873260498, 30.8908843994, 30.8782958984, 30.8808135986, 30.8833312988, 30.8908843994, 30.888366699200002, 30.885848999, 30.8833312988, 30.885848999, 30.8782958984], \"z\": [29526, 29532, 29524, 29522, 29532, 29526, 29524, 29526, 29526, 29515, 29060, 29068, 29072, 29064, 29064, 29055, 29056, 29050, 29060, 29063, 29180, 29179, 29164, 29170, 29172, 29172, 29170, 29175, 29174, 29168, 29254, 29258, 29256, 29270, 29264, 29254, 29258, 29264, 29258, 29254, 29316, 29298, 29304, 29286, 29284, 29310, 29303, 29304, 29302, 29302]}],                        {\"margin\": {\"b\": 50, \"l\": 50, \"r\": 50, \"t\": 50}, \"scene\": {\"xaxis\": {\"title\": {\"text\": \"Humidity\"}}, \"yaxis\": {\"title\": {\"text\": \"Temperature\"}}, \"zaxis\": {\"title\": {\"text\": \"583nm #1\"}}}, \"template\": {\"data\": {\"bar\": [{\"error_x\": {\"color\": \"#2a3f5f\"}, \"error_y\": {\"color\": \"#2a3f5f\"}, \"marker\": {\"line\": {\"color\": \"#E5ECF6\", \"width\": 0.5}}, \"type\": \"bar\"}], \"barpolar\": [{\"marker\": {\"line\": {\"color\": \"#E5ECF6\", \"width\": 0.5}}, \"type\": \"barpolar\"}], \"carpet\": [{\"aaxis\": {\"endlinecolor\": \"#2a3f5f\", \"gridcolor\": \"white\", \"linecolor\": \"white\", \"minorgridcolor\": \"white\", \"startlinecolor\": \"#2a3f5f\"}, \"baxis\": {\"endlinecolor\": \"#2a3f5f\", \"gridcolor\": \"white\", \"linecolor\": \"white\", \"minorgridcolor\": \"white\", \"startlinecolor\": \"#2a3f5f\"}, \"type\": \"carpet\"}], \"choropleth\": [{\"colorbar\": {\"outlinewidth\": 0, \"ticks\": \"\"}, \"type\": \"choropleth\"}], \"contour\": [{\"colorbar\": {\"outlinewidth\": 0, \"ticks\": \"\"}, \"colorscale\": [[0.0, \"#0d0887\"], [0.1111111111111111, \"#46039f\"], [0.2222222222222222, \"#7201a8\"], [0.3333333333333333, \"#9c179e\"], [0.4444444444444444, \"#bd3786\"], [0.5555555555555556, \"#d8576b\"], [0.6666666666666666, \"#ed7953\"], [0.7777777777777778, \"#fb9f3a\"], [0.8888888888888888, \"#fdca26\"], [1.0, \"#f0f921\"]], \"type\": \"contour\"}], \"contourcarpet\": [{\"colorbar\": {\"outlinewidth\": 0, \"ticks\": \"\"}, \"type\": \"contourcarpet\"}], \"heatmap\": [{\"colorbar\": {\"outlinewidth\": 0, \"ticks\": \"\"}, \"colorscale\": [[0.0, \"#0d0887\"], [0.1111111111111111, \"#46039f\"], [0.2222222222222222, \"#7201a8\"], [0.3333333333333333, \"#9c179e\"], [0.4444444444444444, \"#bd3786\"], [0.5555555555555556, \"#d8576b\"], [0.6666666666666666, \"#ed7953\"], [0.7777777777777778, \"#fb9f3a\"], [0.8888888888888888, \"#fdca26\"], [1.0, \"#f0f921\"]], \"type\": \"heatmap\"}], \"heatmapgl\": [{\"colorbar\": {\"outlinewidth\": 0, \"ticks\": \"\"}, \"colorscale\": [[0.0, \"#0d0887\"], [0.1111111111111111, \"#46039f\"], [0.2222222222222222, \"#7201a8\"], [0.3333333333333333, \"#9c179e\"], [0.4444444444444444, \"#bd3786\"], [0.5555555555555556, \"#d8576b\"], [0.6666666666666666, \"#ed7953\"], [0.7777777777777778, \"#fb9f3a\"], [0.8888888888888888, \"#fdca26\"], [1.0, \"#f0f921\"]], \"type\": \"heatmapgl\"}], \"histogram\": [{\"marker\": {\"colorbar\": {\"outlinewidth\": 0, \"ticks\": \"\"}}, \"type\": \"histogram\"}], \"histogram2d\": [{\"colorbar\": {\"outlinewidth\": 0, \"ticks\": \"\"}, \"colorscale\": [[0.0, \"#0d0887\"], [0.1111111111111111, \"#46039f\"], [0.2222222222222222, \"#7201a8\"], [0.3333333333333333, \"#9c179e\"], [0.4444444444444444, \"#bd3786\"], [0.5555555555555556, \"#d8576b\"], [0.6666666666666666, \"#ed7953\"], [0.7777777777777778, \"#fb9f3a\"], [0.8888888888888888, \"#fdca26\"], [1.0, \"#f0f921\"]], \"type\": \"histogram2d\"}], \"histogram2dcontour\": [{\"colorbar\": {\"outlinewidth\": 0, \"ticks\": \"\"}, \"colorscale\": [[0.0, \"#0d0887\"], [0.1111111111111111, \"#46039f\"], [0.2222222222222222, \"#7201a8\"], [0.3333333333333333, \"#9c179e\"], [0.4444444444444444, \"#bd3786\"], [0.5555555555555556, \"#d8576b\"], [0.6666666666666666, \"#ed7953\"], [0.7777777777777778, \"#fb9f3a\"], [0.8888888888888888, \"#fdca26\"], [1.0, \"#f0f921\"]], \"type\": \"histogram2dcontour\"}], \"mesh3d\": [{\"colorbar\": {\"outlinewidth\": 0, \"ticks\": \"\"}, \"type\": \"mesh3d\"}], \"parcoords\": [{\"line\": {\"colorbar\": {\"outlinewidth\": 0, \"ticks\": \"\"}}, \"type\": \"parcoords\"}], \"pie\": [{\"automargin\": true, \"type\": \"pie\"}], \"scatter\": [{\"marker\": {\"colorbar\": {\"outlinewidth\": 0, \"ticks\": \"\"}}, \"type\": \"scatter\"}], \"scatter3d\": [{\"line\": {\"colorbar\": {\"outlinewidth\": 0, \"ticks\": \"\"}}, \"marker\": {\"colorbar\": {\"outlinewidth\": 0, \"ticks\": \"\"}}, \"type\": \"scatter3d\"}], \"scattercarpet\": [{\"marker\": {\"colorbar\": {\"outlinewidth\": 0, \"ticks\": \"\"}}, \"type\": \"scattercarpet\"}], \"scattergeo\": [{\"marker\": {\"colorbar\": {\"outlinewidth\": 0, \"ticks\": \"\"}}, \"type\": \"scattergeo\"}], \"scattergl\": [{\"marker\": {\"colorbar\": {\"outlinewidth\": 0, \"ticks\": \"\"}}, \"type\": \"scattergl\"}], \"scattermapbox\": [{\"marker\": {\"colorbar\": {\"outlinewidth\": 0, \"ticks\": \"\"}}, \"type\": \"scattermapbox\"}], \"scatterpolar\": [{\"marker\": {\"colorbar\": {\"outlinewidth\": 0, \"ticks\": \"\"}}, \"type\": \"scatterpolar\"}], \"scatterpolargl\": [{\"marker\": {\"colorbar\": {\"outlinewidth\": 0, \"ticks\": \"\"}}, \"type\": \"scatterpolargl\"}], \"scatterternary\": [{\"marker\": {\"colorbar\": {\"outlinewidth\": 0, \"ticks\": \"\"}}, \"type\": \"scatterternary\"}], \"surface\": [{\"colorbar\": {\"outlinewidth\": 0, \"ticks\": \"\"}, \"colorscale\": [[0.0, \"#0d0887\"], [0.1111111111111111, \"#46039f\"], [0.2222222222222222, \"#7201a8\"], [0.3333333333333333, \"#9c179e\"], [0.4444444444444444, \"#bd3786\"], [0.5555555555555556, \"#d8576b\"], [0.6666666666666666, \"#ed7953\"], [0.7777777777777778, \"#fb9f3a\"], [0.8888888888888888, \"#fdca26\"], [1.0, \"#f0f921\"]], \"type\": \"surface\"}], \"table\": [{\"cells\": {\"fill\": {\"color\": \"#EBF0F8\"}, \"line\": {\"color\": \"white\"}}, \"header\": {\"fill\": {\"color\": \"#C8D4E3\"}, \"line\": {\"color\": \"white\"}}, \"type\": \"table\"}]}, \"layout\": {\"annotationdefaults\": {\"arrowcolor\": \"#2a3f5f\", \"arrowhead\": 0, \"arrowwidth\": 1}, \"autotypenumbers\": \"strict\", \"coloraxis\": {\"colorbar\": {\"outlinewidth\": 0, \"ticks\": \"\"}}, \"colorscale\": {\"diverging\": [[0, \"#8e0152\"], [0.1, \"#c51b7d\"], [0.2, \"#de77ae\"], [0.3, \"#f1b6da\"], [0.4, \"#fde0ef\"], [0.5, \"#f7f7f7\"], [0.6, \"#e6f5d0\"], [0.7, \"#b8e186\"], [0.8, \"#7fbc41\"], [0.9, \"#4d9221\"], [1, \"#276419\"]], \"sequential\": [[0.0, \"#0d0887\"], [0.1111111111111111, \"#46039f\"], [0.2222222222222222, \"#7201a8\"], [0.3333333333333333, \"#9c179e\"], [0.4444444444444444, \"#bd3786\"], [0.5555555555555556, \"#d8576b\"], [0.6666666666666666, \"#ed7953\"], [0.7777777777777778, \"#fb9f3a\"], [0.8888888888888888, \"#fdca26\"], [1.0, \"#f0f921\"]], \"sequentialminus\": [[0.0, \"#0d0887\"], [0.1111111111111111, \"#46039f\"], [0.2222222222222222, \"#7201a8\"], [0.3333333333333333, \"#9c179e\"], [0.4444444444444444, \"#bd3786\"], [0.5555555555555556, \"#d8576b\"], [0.6666666666666666, \"#ed7953\"], [0.7777777777777778, \"#fb9f3a\"], [0.8888888888888888, \"#fdca26\"], [1.0, \"#f0f921\"]]}, \"colorway\": [\"#636efa\", \"#EF553B\", \"#00cc96\", \"#ab63fa\", \"#FFA15A\", \"#19d3f3\", \"#FF6692\", \"#B6E880\", \"#FF97FF\", \"#FECB52\"], \"font\": {\"color\": \"#2a3f5f\"}, \"geo\": {\"bgcolor\": \"white\", \"lakecolor\": \"white\", \"landcolor\": \"#E5ECF6\", \"showlakes\": true, \"showland\": true, \"subunitcolor\": \"white\"}, \"hoverlabel\": {\"align\": \"left\"}, \"hovermode\": \"closest\", \"mapbox\": {\"style\": \"light\"}, \"paper_bgcolor\": \"white\", \"plot_bgcolor\": \"#E5ECF6\", \"polar\": {\"angularaxis\": {\"gridcolor\": \"white\", \"linecolor\": \"white\", \"ticks\": \"\"}, \"bgcolor\": \"#E5ECF6\", \"radialaxis\": {\"gridcolor\": \"white\", \"linecolor\": \"white\", \"ticks\": \"\"}}, \"scene\": {\"xaxis\": {\"backgroundcolor\": \"#E5ECF6\", \"gridcolor\": \"white\", \"gridwidth\": 2, \"linecolor\": \"white\", \"showbackground\": true, \"ticks\": \"\", \"zerolinecolor\": \"white\"}, \"yaxis\": {\"backgroundcolor\": \"#E5ECF6\", \"gridcolor\": \"white\", \"gridwidth\": 2, \"linecolor\": \"white\", \"showbackground\": true, \"ticks\": \"\", \"zerolinecolor\": \"white\"}, \"zaxis\": {\"backgroundcolor\": \"#E5ECF6\", \"gridcolor\": \"white\", \"gridwidth\": 2, \"linecolor\": \"white\", \"showbackground\": true, \"ticks\": \"\", \"zerolinecolor\": \"white\"}}, \"shapedefaults\": {\"line\": {\"color\": \"#2a3f5f\"}}, \"ternary\": {\"aaxis\": {\"gridcolor\": \"white\", \"linecolor\": \"white\", \"ticks\": \"\"}, \"baxis\": {\"gridcolor\": \"white\", \"linecolor\": \"white\", \"ticks\": \"\"}, \"bgcolor\": \"#E5ECF6\", \"caxis\": {\"gridcolor\": \"white\", \"linecolor\": \"white\", \"ticks\": \"\"}}, \"title\": {\"x\": 0.05}, \"xaxis\": {\"automargin\": true, \"gridcolor\": \"white\", \"linecolor\": \"white\", \"ticks\": \"\", \"title\": {\"standoff\": 15}, \"zerolinecolor\": \"white\", \"zerolinewidth\": 2}, \"yaxis\": {\"automargin\": true, \"gridcolor\": \"white\", \"linecolor\": \"white\", \"ticks\": \"\", \"title\": {\"standoff\": 15}, \"zerolinecolor\": \"white\", \"zerolinewidth\": 2}}}, \"title\": {\"text\": \"4D 583nm #1 #20200930172233\"}},                        {\"showLink\": true, \"linkText\": \"Export to plot.ly\", \"plotlyServerURL\": \"https://plot.ly\", \"responsive\": true}                    ).then(function(){\n",
       "                            \n",
       "var gd = document.getElementById('f17e6cf9-6ff9-40ca-ae4f-f4ec4d2ac4ac');\n",
       "var x = new MutationObserver(function (mutations, observer) {{\n",
       "        var display = window.getComputedStyle(gd).display;\n",
       "        if (!display || display === 'none') {{\n",
       "            console.log([gd, 'removed!']);\n",
       "            Plotly.purge(gd);\n",
       "            observer.disconnect();\n",
       "        }}\n",
       "}});\n",
       "\n",
       "// Listen for the removal of the full notebook cells\n",
       "var notebookContainer = gd.closest('#notebook-container');\n",
       "if (notebookContainer) {{\n",
       "    x.observe(notebookContainer, {childList: true});\n",
       "}}\n",
       "\n",
       "// Listen for the clearing of the current output cell\n",
       "var outputEl = gd.closest('.output');\n",
       "if (outputEl) {{\n",
       "    x.observe(outputEl, {childList: true});\n",
       "}}\n",
       "\n",
       "                        })                };                });            </script>        </div>"
      ]
     },
     "metadata": {},
     "output_type": "display_data"
    }
   ],
   "source": [
    "# 4D plot\n",
    "training_data = {\n",
    "             '0C':df_0C,\n",
    "             '10C':df_10C,\n",
    "             '20C':df_20C,\n",
    "             '30C':df_30C,\n",
    "             '40C':df_40C,\n",
    "                 }\n",
    "\n",
    "testing_data = {\n",
    "             '30C_test':df_test_30C,\n",
    "             '30C_test_2':df_test_30C_2,\n",
    "\n",
    "               }\n",
    "\n",
    "channel_list=['583nm #1']\n",
    "module_4D.plot_4D(training_data, testing_data, channel_list, sensor_number)\n",
    "\n",
    "# channel_list=['583nm #1_comp']\n",
    "# module_4D.plot_4D(training_data, testing_data, channel_list, sensor_number)\n",
    "\n",
    "# channel_list=['440nm #2', '440nm #2_comp']\n",
    "# module_4D.plot_4D(training_data, testing_data, channel_list, sensor_number)"
   ]
  },
  {
   "cell_type": "markdown",
   "metadata": {},
   "source": [
    "# Analysis data"
   ]
  },
  {
   "cell_type": "code",
   "execution_count": 178,
   "metadata": {},
   "outputs": [],
   "source": [
    "def plot_overlay(data_list, cal_channel='583nm #1', QC_channel='583nm #1_comp', save_figure=True, offset=False):\n",
    "    save_figure = save_figure\n",
    "    offset = offset\n",
    "    cal_channel = cal_channel\n",
    "    QC_channel = QC_channel\n",
    "\n",
    "    plot_data = []\n",
    "    data_list = data_list\n",
    "\n",
    "    if offset == True:\n",
    "        trace_ppm = go.Scatter(y=df_30C[cal_channel]-df_30C.loc[1,cal_channel], name=cal_channel+' calibration')\n",
    "        plot_data.append(trace_ppm)\n",
    "\n",
    "        for i,j in enumerate(data_list):\n",
    "            trace_ppm = go.Scatter(y=j[QC_channel]-j.loc[1,QC_channel], name=QC_channel+' QC{}'.format(i+1))\n",
    "            plot_data.append(trace_ppm) \n",
    "    else:\n",
    "        trace_ppm = go.Scatter(y=df_30C[cal_channel], name=cal_channel+' calibration')\n",
    "        plot_data.append(trace_ppm)\n",
    "\n",
    "        for i,j in enumerate(data_list):\n",
    "            trace_ppm = go.Scatter(y=j[QC_channel], name=QC_channel+' QC{}'.format(i+1))\n",
    "            plot_data.append(trace_ppm)\n",
    "\n",
    "\n",
    "    title = '{} raw data overlay'.format(QC_channel)    \n",
    "    layout = go.Layout(title=title)\n",
    "    fig = go.Figure(data=plot_data, layout=layout)\n",
    "    fig.show()\n",
    "\n",
    "    if save_figure == True:\n",
    "        # save figure\n",
    "        savePath = os.path.join(os.getcwd(), folder_name)\n",
    "        filename = title\n",
    "        fig.write_image(savePath + '/' + filename + '.jpeg', width=1280, height=720)"
   ]
  },
  {
   "cell_type": "code",
   "execution_count": 179,
   "metadata": {},
   "outputs": [
    {
     "data": {
      "application/vnd.plotly.v1+json": {
       "config": {
        "plotlyServerURL": "https://plot.ly"
       },
       "data": [
        {
         "name": "magic calibration",
         "type": "scatter",
         "y": [
          13957,
          13951,
          13960,
          13949,
          13952,
          13949,
          13950,
          13947,
          13959,
          13954,
          13397,
          13402,
          13412,
          13403,
          13400,
          13401,
          13403,
          13400,
          13397,
          13394,
          13547,
          13552,
          13548,
          13539,
          13543,
          13549,
          13543,
          13546,
          13550,
          13544,
          13649,
          13643,
          13648,
          13653,
          13654,
          13652,
          13651,
          13650,
          13650,
          13658,
          13724,
          13727,
          13719,
          13733,
          13737,
          13728,
          13713,
          13735,
          13731,
          13705
         ]
        },
        {
         "name": "magic_comp QC1",
         "type": "scatter",
         "y": [
          13912.610396860195,
          13917.96909046556,
          13914.976204826531,
          13920.143258982263,
          13920.071308447017,
          13920.03853663627,
          13927.408901990131,
          13922.016339166921,
          13926.24145702818,
          13915.951993495926,
          13430.63836521534,
          13438.78287846681,
          13434.688189764991,
          13433.663903780918,
          13432.637027429728,
          13435.834361894198,
          13430.623312397292,
          13429.557054749437,
          13436.717125658766,
          13431.630015522518,
          13588.222930612306,
          13583.803363852363,
          13594.340344388627,
          13588.107202623827,
          13582.91772187254,
          13593.216590160295,
          13590.248626368579,
          13581.760185285091,
          13601.060636686298,
          13582.784380790601,
          13685.749606578553,
          13690.010074701793,
          13718.156603737147,
          13707.346419751952,
          13695.02129640931,
          13700.27508967174,
          13697.138567537224,
          13697.94423106376,
          13692.234696338997,
          13681.003968901587,
          13763.79033127828,
          13755.609853154423,
          13760.859089194679,
          13767.200187310153,
          13759.593094004123,
          13751.64814090314,
          13752.679001369897,
          13750.376877136836,
          13752.902466931597,
          13755.789405184738
         ]
        },
        {
         "name": "magic_comp QC2",
         "type": "scatter",
         "y": [
          13925.98209903605,
          13914.706817457503,
          13905.332084598449,
          13912.967285435489,
          13916.295415152512,
          13922.92077747679,
          13922.795001128836,
          13920.866563171427,
          13921.89998482535,
          13922.065544061305,
          13410.979052754607,
          13424.215543020557,
          13417.107061337756,
          13427.44068432242,
          13416.248558017842,
          13412.155729915565,
          13409.979485175778,
          13407.088037128626,
          13428.31073155731,
          13409.147019707583,
          13568.555539530076,
          13572.526826633635,
          13557.727402447692,
          13560.335433659047,
          13561.429577617153,
          13560.689156099783,
          13563.484710755987,
          13563.440690841095,
          13555.475600557917,
          13557.304770402214,
          13661.026495231808,
          13643.593370809422,
          13656.806404353065,
          13664.853262114502,
          13645.717524189004,
          13654.939520618766,
          13654.874698890713,
          13659.880640870659,
          13638.460842655297,
          13655.889369808861,
          13725.456905028137,
          13706.989688318521,
          13734.731626441131,
          13695.855010439307,
          13711.247306812476,
          13715.053140442524,
          13726.369410761601,
          13723.104531510713,
          13724.377308359039,
          13715.219679817312
         ]
        },
        {
         "name": "magic_comp QC3",
         "type": "scatter",
         "y": [
          13909.250619064602,
          13902.712206041804,
          13910.537979464312,
          13912.481912248264,
          13903.680165707778,
          13910.453262217317,
          13908.405606048284,
          13910.584349572511,
          13914.294346265897,
          13921.967818134699,
          13416.431292949408,
          13410.33185046179,
          13413.479450335928,
          13408.330183470143,
          13412.374313423266,
          13407.20466390336,
          13408.200355724899,
          13413.42804086048,
          13412.360554889849,
          13395.16371532795,
          13533.94728459872,
          13544.186174264909,
          13559.266147019915,
          13534.066089145506,
          13549.629672142546,
          13548.597734887964,
          13535.118115790541,
          13541.490939523092,
          13534.161774962637,
          13546.334978734129,
          13655.006956005354,
          13638.825980683652,
          13637.778503964706,
          13626.521241859924,
          13634.894535747124,
          13638.796821804617,
          13648.979444339826,
          13642.888657250536,
          13638.922433602887,
          13643.966921495856,
          13711.176774284666,
          13701.977157025265,
          13701.944863242365,
          13704.000414173948,
          13706.84851815174,
          13717.599110226412,
          13716.346019032699,
          13701.155357142397,
          13708.130523057318,
          13699.587984623053
         ]
        },
        {
         "name": "magic_comp QC4",
         "type": "scatter",
         "y": [
          13896.463036755924,
          13919.491669352436,
          13912.303716817745,
          13901.966159572816,
          13903.979700888196,
          13916.389263912013,
          13904.864490195278,
          13893.938564173308,
          13910.191518030302,
          13916.704748942955,
          13409.114700132064,
          13430.499886343488,
          13397.859910522124,
          13412.23071973121,
          13411.133419140559,
          13414.304783268883,
          13404.020376714889,
          13406.107571859093,
          13416.200040797497,
          13391.97235638807,
          13545.569544123753,
          13548.579420691345,
          13545.321342149264,
          13558.846781161337,
          13545.457468421422,
          13553.603516355235,
          13546.610630092866,
          13536.268390458761,
          13549.411846724477,
          13542.287409858116,
          13622.878066222082,
          13640.07922338665,
          13632.899995240536,
          13637.154814423095,
          13647.037145942257,
          13625.68221166518,
          13642.937595649077,
          13631.912462009184,
          13634.866669589006,
          13632.839845632505,
          13701.268656999431,
          13704.171174496909,
          13703.44784710204,
          13694.116153246672,
          13682.899708064147,
          13710.712917667319,
          13700.460061091,
          13709.768630831872,
          13706.617956016617,
          13664.68478833565
         ]
        },
        {
         "name": "magic_comp QC5",
         "type": "scatter",
         "y": [
          13893.636568887103,
          13881.425305861369,
          13885.549379004193,
          13882.264185673324,
          13882.956852298474,
          13890.395282545813,
          13896.693698834782,
          13878.333895119418,
          13879.236473700123,
          13879.089144078735,
          13372.904804593274,
          13392.291585802519,
          13391.180548172377,
          13391.383588447407,
          13387.128858471388,
          13400.45690827575,
          13388.288900919555,
          13383.209999511886,
          13403.5580474967,
          13399.538322827128,
          13520.011261128931,
          13522.717489208324,
          13519.755060102574,
          13519.808755151935,
          13523.921073525302,
          13523.8035763667,
          13525.91519417779,
          13521.850311627846,
          13519.88698586674,
          13503.26740570565,
          13614.493223954563,
          13622.76823749974,
          13605.366827397047,
          13622.02552660878,
          13619.680631488183,
          13615.667531898891,
          13599.282727292455,
          13618.840920460243,
          13610.50747313856,
          13635.262661034089,
          13658.822543723167,
          13675.043770108567,
          13673.002210483604,
          13691.63803642268,
          13694.46764959224,
          13668.988386512603,
          13692.63274264417,
          13671.327960207627,
          13681.402016670865,
          13680.147879724176
         ]
        },
        {
         "name": "magic_comp QC6",
         "type": "scatter",
         "y": [
          13882.901186904905,
          13862.052247646272,
          13868.552521186317,
          13890.489477982785,
          13879.787080265265,
          13884.976668892115,
          13896.617348493402,
          13890.902077647897,
          13880.508695818651,
          13875.651036078481,
          13400.779099312775,
          13417.184281783731,
          13401.67401155946,
          13405.956048648659,
          13395.711242091007,
          13401.859697589201,
          13402.886697479616,
          13397.697374491656,
          13400.78065170419,
          13392.538844246845,
          13533.425241463541,
          13540.650680966148,
          13527.184470306358,
          13532.325191791984,
          13525.20466262183,
          13525.086504214953,
          13519.417101295105,
          13538.71792019182,
          13525.313514545182,
          13530.605461364301,
          13622.024268933901,
          13629.091338691893,
          13613.48304378175,
          13621.773832669744,
          13624.141617301662,
          13617.667627932873,
          13637.373041626779,
          13618.502021861426,
          13621.604080998268,
          13638.393108648826,
          13697.776363829033,
          13684.453668889213,
          13682.202169198035,
          13679.23573503153,
          13693.485331729498,
          13679.952391216379,
          13672.99958198312,
          13678.861448633093,
          13685.240204609147,
          13686.12558147517
         ]
        }
       ],
       "layout": {
        "template": {
         "data": {
          "bar": [
           {
            "error_x": {
             "color": "#2a3f5f"
            },
            "error_y": {
             "color": "#2a3f5f"
            },
            "marker": {
             "line": {
              "color": "#E5ECF6",
              "width": 0.5
             }
            },
            "type": "bar"
           }
          ],
          "barpolar": [
           {
            "marker": {
             "line": {
              "color": "#E5ECF6",
              "width": 0.5
             }
            },
            "type": "barpolar"
           }
          ],
          "carpet": [
           {
            "aaxis": {
             "endlinecolor": "#2a3f5f",
             "gridcolor": "white",
             "linecolor": "white",
             "minorgridcolor": "white",
             "startlinecolor": "#2a3f5f"
            },
            "baxis": {
             "endlinecolor": "#2a3f5f",
             "gridcolor": "white",
             "linecolor": "white",
             "minorgridcolor": "white",
             "startlinecolor": "#2a3f5f"
            },
            "type": "carpet"
           }
          ],
          "choropleth": [
           {
            "colorbar": {
             "outlinewidth": 0,
             "ticks": ""
            },
            "type": "choropleth"
           }
          ],
          "contour": [
           {
            "colorbar": {
             "outlinewidth": 0,
             "ticks": ""
            },
            "colorscale": [
             [
              0,
              "#0d0887"
             ],
             [
              0.1111111111111111,
              "#46039f"
             ],
             [
              0.2222222222222222,
              "#7201a8"
             ],
             [
              0.3333333333333333,
              "#9c179e"
             ],
             [
              0.4444444444444444,
              "#bd3786"
             ],
             [
              0.5555555555555556,
              "#d8576b"
             ],
             [
              0.6666666666666666,
              "#ed7953"
             ],
             [
              0.7777777777777778,
              "#fb9f3a"
             ],
             [
              0.8888888888888888,
              "#fdca26"
             ],
             [
              1,
              "#f0f921"
             ]
            ],
            "type": "contour"
           }
          ],
          "contourcarpet": [
           {
            "colorbar": {
             "outlinewidth": 0,
             "ticks": ""
            },
            "type": "contourcarpet"
           }
          ],
          "heatmap": [
           {
            "colorbar": {
             "outlinewidth": 0,
             "ticks": ""
            },
            "colorscale": [
             [
              0,
              "#0d0887"
             ],
             [
              0.1111111111111111,
              "#46039f"
             ],
             [
              0.2222222222222222,
              "#7201a8"
             ],
             [
              0.3333333333333333,
              "#9c179e"
             ],
             [
              0.4444444444444444,
              "#bd3786"
             ],
             [
              0.5555555555555556,
              "#d8576b"
             ],
             [
              0.6666666666666666,
              "#ed7953"
             ],
             [
              0.7777777777777778,
              "#fb9f3a"
             ],
             [
              0.8888888888888888,
              "#fdca26"
             ],
             [
              1,
              "#f0f921"
             ]
            ],
            "type": "heatmap"
           }
          ],
          "heatmapgl": [
           {
            "colorbar": {
             "outlinewidth": 0,
             "ticks": ""
            },
            "colorscale": [
             [
              0,
              "#0d0887"
             ],
             [
              0.1111111111111111,
              "#46039f"
             ],
             [
              0.2222222222222222,
              "#7201a8"
             ],
             [
              0.3333333333333333,
              "#9c179e"
             ],
             [
              0.4444444444444444,
              "#bd3786"
             ],
             [
              0.5555555555555556,
              "#d8576b"
             ],
             [
              0.6666666666666666,
              "#ed7953"
             ],
             [
              0.7777777777777778,
              "#fb9f3a"
             ],
             [
              0.8888888888888888,
              "#fdca26"
             ],
             [
              1,
              "#f0f921"
             ]
            ],
            "type": "heatmapgl"
           }
          ],
          "histogram": [
           {
            "marker": {
             "colorbar": {
              "outlinewidth": 0,
              "ticks": ""
             }
            },
            "type": "histogram"
           }
          ],
          "histogram2d": [
           {
            "colorbar": {
             "outlinewidth": 0,
             "ticks": ""
            },
            "colorscale": [
             [
              0,
              "#0d0887"
             ],
             [
              0.1111111111111111,
              "#46039f"
             ],
             [
              0.2222222222222222,
              "#7201a8"
             ],
             [
              0.3333333333333333,
              "#9c179e"
             ],
             [
              0.4444444444444444,
              "#bd3786"
             ],
             [
              0.5555555555555556,
              "#d8576b"
             ],
             [
              0.6666666666666666,
              "#ed7953"
             ],
             [
              0.7777777777777778,
              "#fb9f3a"
             ],
             [
              0.8888888888888888,
              "#fdca26"
             ],
             [
              1,
              "#f0f921"
             ]
            ],
            "type": "histogram2d"
           }
          ],
          "histogram2dcontour": [
           {
            "colorbar": {
             "outlinewidth": 0,
             "ticks": ""
            },
            "colorscale": [
             [
              0,
              "#0d0887"
             ],
             [
              0.1111111111111111,
              "#46039f"
             ],
             [
              0.2222222222222222,
              "#7201a8"
             ],
             [
              0.3333333333333333,
              "#9c179e"
             ],
             [
              0.4444444444444444,
              "#bd3786"
             ],
             [
              0.5555555555555556,
              "#d8576b"
             ],
             [
              0.6666666666666666,
              "#ed7953"
             ],
             [
              0.7777777777777778,
              "#fb9f3a"
             ],
             [
              0.8888888888888888,
              "#fdca26"
             ],
             [
              1,
              "#f0f921"
             ]
            ],
            "type": "histogram2dcontour"
           }
          ],
          "mesh3d": [
           {
            "colorbar": {
             "outlinewidth": 0,
             "ticks": ""
            },
            "type": "mesh3d"
           }
          ],
          "parcoords": [
           {
            "line": {
             "colorbar": {
              "outlinewidth": 0,
              "ticks": ""
             }
            },
            "type": "parcoords"
           }
          ],
          "pie": [
           {
            "automargin": true,
            "type": "pie"
           }
          ],
          "scatter": [
           {
            "marker": {
             "colorbar": {
              "outlinewidth": 0,
              "ticks": ""
             }
            },
            "type": "scatter"
           }
          ],
          "scatter3d": [
           {
            "line": {
             "colorbar": {
              "outlinewidth": 0,
              "ticks": ""
             }
            },
            "marker": {
             "colorbar": {
              "outlinewidth": 0,
              "ticks": ""
             }
            },
            "type": "scatter3d"
           }
          ],
          "scattercarpet": [
           {
            "marker": {
             "colorbar": {
              "outlinewidth": 0,
              "ticks": ""
             }
            },
            "type": "scattercarpet"
           }
          ],
          "scattergeo": [
           {
            "marker": {
             "colorbar": {
              "outlinewidth": 0,
              "ticks": ""
             }
            },
            "type": "scattergeo"
           }
          ],
          "scattergl": [
           {
            "marker": {
             "colorbar": {
              "outlinewidth": 0,
              "ticks": ""
             }
            },
            "type": "scattergl"
           }
          ],
          "scattermapbox": [
           {
            "marker": {
             "colorbar": {
              "outlinewidth": 0,
              "ticks": ""
             }
            },
            "type": "scattermapbox"
           }
          ],
          "scatterpolar": [
           {
            "marker": {
             "colorbar": {
              "outlinewidth": 0,
              "ticks": ""
             }
            },
            "type": "scatterpolar"
           }
          ],
          "scatterpolargl": [
           {
            "marker": {
             "colorbar": {
              "outlinewidth": 0,
              "ticks": ""
             }
            },
            "type": "scatterpolargl"
           }
          ],
          "scatterternary": [
           {
            "marker": {
             "colorbar": {
              "outlinewidth": 0,
              "ticks": ""
             }
            },
            "type": "scatterternary"
           }
          ],
          "surface": [
           {
            "colorbar": {
             "outlinewidth": 0,
             "ticks": ""
            },
            "colorscale": [
             [
              0,
              "#0d0887"
             ],
             [
              0.1111111111111111,
              "#46039f"
             ],
             [
              0.2222222222222222,
              "#7201a8"
             ],
             [
              0.3333333333333333,
              "#9c179e"
             ],
             [
              0.4444444444444444,
              "#bd3786"
             ],
             [
              0.5555555555555556,
              "#d8576b"
             ],
             [
              0.6666666666666666,
              "#ed7953"
             ],
             [
              0.7777777777777778,
              "#fb9f3a"
             ],
             [
              0.8888888888888888,
              "#fdca26"
             ],
             [
              1,
              "#f0f921"
             ]
            ],
            "type": "surface"
           }
          ],
          "table": [
           {
            "cells": {
             "fill": {
              "color": "#EBF0F8"
             },
             "line": {
              "color": "white"
             }
            },
            "header": {
             "fill": {
              "color": "#C8D4E3"
             },
             "line": {
              "color": "white"
             }
            },
            "type": "table"
           }
          ]
         },
         "layout": {
          "annotationdefaults": {
           "arrowcolor": "#2a3f5f",
           "arrowhead": 0,
           "arrowwidth": 1
          },
          "autotypenumbers": "strict",
          "coloraxis": {
           "colorbar": {
            "outlinewidth": 0,
            "ticks": ""
           }
          },
          "colorscale": {
           "diverging": [
            [
             0,
             "#8e0152"
            ],
            [
             0.1,
             "#c51b7d"
            ],
            [
             0.2,
             "#de77ae"
            ],
            [
             0.3,
             "#f1b6da"
            ],
            [
             0.4,
             "#fde0ef"
            ],
            [
             0.5,
             "#f7f7f7"
            ],
            [
             0.6,
             "#e6f5d0"
            ],
            [
             0.7,
             "#b8e186"
            ],
            [
             0.8,
             "#7fbc41"
            ],
            [
             0.9,
             "#4d9221"
            ],
            [
             1,
             "#276419"
            ]
           ],
           "sequential": [
            [
             0,
             "#0d0887"
            ],
            [
             0.1111111111111111,
             "#46039f"
            ],
            [
             0.2222222222222222,
             "#7201a8"
            ],
            [
             0.3333333333333333,
             "#9c179e"
            ],
            [
             0.4444444444444444,
             "#bd3786"
            ],
            [
             0.5555555555555556,
             "#d8576b"
            ],
            [
             0.6666666666666666,
             "#ed7953"
            ],
            [
             0.7777777777777778,
             "#fb9f3a"
            ],
            [
             0.8888888888888888,
             "#fdca26"
            ],
            [
             1,
             "#f0f921"
            ]
           ],
           "sequentialminus": [
            [
             0,
             "#0d0887"
            ],
            [
             0.1111111111111111,
             "#46039f"
            ],
            [
             0.2222222222222222,
             "#7201a8"
            ],
            [
             0.3333333333333333,
             "#9c179e"
            ],
            [
             0.4444444444444444,
             "#bd3786"
            ],
            [
             0.5555555555555556,
             "#d8576b"
            ],
            [
             0.6666666666666666,
             "#ed7953"
            ],
            [
             0.7777777777777778,
             "#fb9f3a"
            ],
            [
             0.8888888888888888,
             "#fdca26"
            ],
            [
             1,
             "#f0f921"
            ]
           ]
          },
          "colorway": [
           "#636efa",
           "#EF553B",
           "#00cc96",
           "#ab63fa",
           "#FFA15A",
           "#19d3f3",
           "#FF6692",
           "#B6E880",
           "#FF97FF",
           "#FECB52"
          ],
          "font": {
           "color": "#2a3f5f"
          },
          "geo": {
           "bgcolor": "white",
           "lakecolor": "white",
           "landcolor": "#E5ECF6",
           "showlakes": true,
           "showland": true,
           "subunitcolor": "white"
          },
          "hoverlabel": {
           "align": "left"
          },
          "hovermode": "closest",
          "mapbox": {
           "style": "light"
          },
          "paper_bgcolor": "white",
          "plot_bgcolor": "#E5ECF6",
          "polar": {
           "angularaxis": {
            "gridcolor": "white",
            "linecolor": "white",
            "ticks": ""
           },
           "bgcolor": "#E5ECF6",
           "radialaxis": {
            "gridcolor": "white",
            "linecolor": "white",
            "ticks": ""
           }
          },
          "scene": {
           "xaxis": {
            "backgroundcolor": "#E5ECF6",
            "gridcolor": "white",
            "gridwidth": 2,
            "linecolor": "white",
            "showbackground": true,
            "ticks": "",
            "zerolinecolor": "white"
           },
           "yaxis": {
            "backgroundcolor": "#E5ECF6",
            "gridcolor": "white",
            "gridwidth": 2,
            "linecolor": "white",
            "showbackground": true,
            "ticks": "",
            "zerolinecolor": "white"
           },
           "zaxis": {
            "backgroundcolor": "#E5ECF6",
            "gridcolor": "white",
            "gridwidth": 2,
            "linecolor": "white",
            "showbackground": true,
            "ticks": "",
            "zerolinecolor": "white"
           }
          },
          "shapedefaults": {
           "line": {
            "color": "#2a3f5f"
           }
          },
          "ternary": {
           "aaxis": {
            "gridcolor": "white",
            "linecolor": "white",
            "ticks": ""
           },
           "baxis": {
            "gridcolor": "white",
            "linecolor": "white",
            "ticks": ""
           },
           "bgcolor": "#E5ECF6",
           "caxis": {
            "gridcolor": "white",
            "linecolor": "white",
            "ticks": ""
           }
          },
          "title": {
           "x": 0.05
          },
          "xaxis": {
           "automargin": true,
           "gridcolor": "white",
           "linecolor": "white",
           "ticks": "",
           "title": {
            "standoff": 15
           },
           "zerolinecolor": "white",
           "zerolinewidth": 2
          },
          "yaxis": {
           "automargin": true,
           "gridcolor": "white",
           "linecolor": "white",
           "ticks": "",
           "title": {
            "standoff": 15
           },
           "zerolinecolor": "white",
           "zerolinewidth": 2
          }
         }
        },
        "title": {
         "text": "magic_comp raw data overlay"
        }
       }
      },
      "text/html": [
       "<div>                            <div id=\"b7727ca7-154f-4075-acaa-548d82605289\" class=\"plotly-graph-div\" style=\"height:525px; width:100%;\"></div>            <script type=\"text/javascript\">                require([\"plotly\"], function(Plotly) {                    window.PLOTLYENV=window.PLOTLYENV || {};                                    if (document.getElementById(\"b7727ca7-154f-4075-acaa-548d82605289\")) {                    Plotly.newPlot(                        \"b7727ca7-154f-4075-acaa-548d82605289\",                        [{\"name\": \"magic calibration\", \"type\": \"scatter\", \"y\": [13957, 13951, 13960, 13949, 13952, 13949, 13950, 13947, 13959, 13954, 13397, 13402, 13412, 13403, 13400, 13401, 13403, 13400, 13397, 13394, 13547, 13552, 13548, 13539, 13543, 13549, 13543, 13546, 13550, 13544, 13649, 13643, 13648, 13653, 13654, 13652, 13651, 13650, 13650, 13658, 13724, 13727, 13719, 13733, 13737, 13728, 13713, 13735, 13731, 13705]}, {\"name\": \"magic_comp QC1\", \"type\": \"scatter\", \"y\": [13912.610396860195, 13917.96909046556, 13914.976204826531, 13920.143258982263, 13920.071308447017, 13920.03853663627, 13927.408901990131, 13922.016339166921, 13926.24145702818, 13915.951993495926, 13430.63836521534, 13438.78287846681, 13434.688189764991, 13433.663903780918, 13432.637027429728, 13435.834361894198, 13430.623312397292, 13429.557054749437, 13436.717125658766, 13431.630015522518, 13588.222930612306, 13583.803363852363, 13594.340344388627, 13588.107202623827, 13582.91772187254, 13593.216590160295, 13590.248626368579, 13581.760185285091, 13601.060636686298, 13582.784380790601, 13685.749606578553, 13690.010074701793, 13718.156603737147, 13707.346419751952, 13695.02129640931, 13700.27508967174, 13697.138567537224, 13697.94423106376, 13692.234696338997, 13681.003968901587, 13763.79033127828, 13755.609853154423, 13760.859089194679, 13767.200187310153, 13759.593094004123, 13751.64814090314, 13752.679001369897, 13750.376877136836, 13752.902466931597, 13755.789405184738]}, {\"name\": \"magic_comp QC2\", \"type\": \"scatter\", \"y\": [13925.98209903605, 13914.706817457503, 13905.332084598449, 13912.967285435489, 13916.295415152512, 13922.92077747679, 13922.795001128836, 13920.866563171427, 13921.89998482535, 13922.065544061305, 13410.979052754607, 13424.215543020557, 13417.107061337756, 13427.44068432242, 13416.248558017842, 13412.155729915565, 13409.979485175778, 13407.088037128626, 13428.31073155731, 13409.147019707583, 13568.555539530076, 13572.526826633635, 13557.727402447692, 13560.335433659047, 13561.429577617153, 13560.689156099783, 13563.484710755987, 13563.440690841095, 13555.475600557917, 13557.304770402214, 13661.026495231808, 13643.593370809422, 13656.806404353065, 13664.853262114502, 13645.717524189004, 13654.939520618766, 13654.874698890713, 13659.880640870659, 13638.460842655297, 13655.889369808861, 13725.456905028137, 13706.989688318521, 13734.731626441131, 13695.855010439307, 13711.247306812476, 13715.053140442524, 13726.369410761601, 13723.104531510713, 13724.377308359039, 13715.219679817312]}, {\"name\": \"magic_comp QC3\", \"type\": \"scatter\", \"y\": [13909.250619064602, 13902.712206041804, 13910.537979464312, 13912.481912248264, 13903.680165707778, 13910.453262217317, 13908.405606048284, 13910.584349572511, 13914.294346265897, 13921.967818134699, 13416.431292949408, 13410.33185046179, 13413.479450335928, 13408.330183470143, 13412.374313423266, 13407.20466390336, 13408.200355724899, 13413.42804086048, 13412.360554889849, 13395.16371532795, 13533.94728459872, 13544.186174264909, 13559.266147019915, 13534.066089145506, 13549.629672142546, 13548.597734887964, 13535.118115790541, 13541.490939523092, 13534.161774962637, 13546.334978734129, 13655.006956005354, 13638.825980683652, 13637.778503964706, 13626.521241859924, 13634.894535747124, 13638.796821804617, 13648.979444339826, 13642.888657250536, 13638.922433602887, 13643.966921495856, 13711.176774284666, 13701.977157025265, 13701.944863242365, 13704.000414173948, 13706.84851815174, 13717.599110226412, 13716.346019032699, 13701.155357142397, 13708.130523057318, 13699.587984623053]}, {\"name\": \"magic_comp QC4\", \"type\": \"scatter\", \"y\": [13896.463036755924, 13919.491669352436, 13912.303716817745, 13901.966159572816, 13903.979700888196, 13916.389263912013, 13904.864490195278, 13893.938564173308, 13910.191518030302, 13916.704748942955, 13409.114700132064, 13430.499886343488, 13397.859910522124, 13412.23071973121, 13411.133419140559, 13414.304783268883, 13404.020376714889, 13406.107571859093, 13416.200040797497, 13391.97235638807, 13545.569544123753, 13548.579420691345, 13545.321342149264, 13558.846781161337, 13545.457468421422, 13553.603516355235, 13546.610630092866, 13536.268390458761, 13549.411846724477, 13542.287409858116, 13622.878066222082, 13640.07922338665, 13632.899995240536, 13637.154814423095, 13647.037145942257, 13625.68221166518, 13642.937595649077, 13631.912462009184, 13634.866669589006, 13632.839845632505, 13701.268656999431, 13704.171174496909, 13703.44784710204, 13694.116153246672, 13682.899708064147, 13710.712917667319, 13700.460061091, 13709.768630831872, 13706.617956016617, 13664.68478833565]}, {\"name\": \"magic_comp QC5\", \"type\": \"scatter\", \"y\": [13893.636568887103, 13881.425305861369, 13885.549379004193, 13882.264185673324, 13882.956852298474, 13890.395282545813, 13896.693698834782, 13878.333895119418, 13879.236473700123, 13879.089144078735, 13372.904804593274, 13392.291585802519, 13391.180548172377, 13391.383588447407, 13387.128858471388, 13400.45690827575, 13388.288900919555, 13383.209999511886, 13403.5580474967, 13399.538322827128, 13520.011261128931, 13522.717489208324, 13519.755060102574, 13519.808755151935, 13523.921073525302, 13523.8035763667, 13525.91519417779, 13521.850311627846, 13519.88698586674, 13503.26740570565, 13614.493223954563, 13622.76823749974, 13605.366827397047, 13622.02552660878, 13619.680631488183, 13615.667531898891, 13599.282727292455, 13618.840920460243, 13610.50747313856, 13635.262661034089, 13658.822543723167, 13675.043770108567, 13673.002210483604, 13691.63803642268, 13694.46764959224, 13668.988386512603, 13692.63274264417, 13671.327960207627, 13681.402016670865, 13680.147879724176]}, {\"name\": \"magic_comp QC6\", \"type\": \"scatter\", \"y\": [13882.901186904905, 13862.052247646272, 13868.552521186317, 13890.489477982785, 13879.787080265265, 13884.976668892115, 13896.617348493402, 13890.902077647897, 13880.508695818651, 13875.651036078481, 13400.779099312775, 13417.184281783731, 13401.67401155946, 13405.956048648659, 13395.711242091007, 13401.859697589201, 13402.886697479616, 13397.697374491656, 13400.78065170419, 13392.538844246845, 13533.425241463541, 13540.650680966148, 13527.184470306358, 13532.325191791984, 13525.20466262183, 13525.086504214953, 13519.417101295105, 13538.71792019182, 13525.313514545182, 13530.605461364301, 13622.024268933901, 13629.091338691893, 13613.48304378175, 13621.773832669744, 13624.141617301662, 13617.667627932873, 13637.373041626779, 13618.502021861426, 13621.604080998268, 13638.393108648826, 13697.776363829033, 13684.453668889213, 13682.202169198035, 13679.23573503153, 13693.485331729498, 13679.952391216379, 13672.99958198312, 13678.861448633093, 13685.240204609147, 13686.12558147517]}],                        {\"template\": {\"data\": {\"bar\": [{\"error_x\": {\"color\": \"#2a3f5f\"}, \"error_y\": {\"color\": \"#2a3f5f\"}, \"marker\": {\"line\": {\"color\": \"#E5ECF6\", \"width\": 0.5}}, \"type\": \"bar\"}], \"barpolar\": [{\"marker\": {\"line\": {\"color\": \"#E5ECF6\", \"width\": 0.5}}, \"type\": \"barpolar\"}], \"carpet\": [{\"aaxis\": {\"endlinecolor\": \"#2a3f5f\", \"gridcolor\": \"white\", \"linecolor\": \"white\", \"minorgridcolor\": \"white\", \"startlinecolor\": \"#2a3f5f\"}, \"baxis\": {\"endlinecolor\": \"#2a3f5f\", \"gridcolor\": \"white\", \"linecolor\": \"white\", \"minorgridcolor\": \"white\", \"startlinecolor\": \"#2a3f5f\"}, \"type\": \"carpet\"}], \"choropleth\": [{\"colorbar\": {\"outlinewidth\": 0, \"ticks\": \"\"}, \"type\": \"choropleth\"}], \"contour\": [{\"colorbar\": {\"outlinewidth\": 0, \"ticks\": \"\"}, \"colorscale\": [[0.0, \"#0d0887\"], [0.1111111111111111, \"#46039f\"], [0.2222222222222222, \"#7201a8\"], [0.3333333333333333, \"#9c179e\"], [0.4444444444444444, \"#bd3786\"], [0.5555555555555556, \"#d8576b\"], [0.6666666666666666, \"#ed7953\"], [0.7777777777777778, \"#fb9f3a\"], [0.8888888888888888, \"#fdca26\"], [1.0, \"#f0f921\"]], \"type\": \"contour\"}], \"contourcarpet\": [{\"colorbar\": {\"outlinewidth\": 0, \"ticks\": \"\"}, \"type\": \"contourcarpet\"}], \"heatmap\": [{\"colorbar\": {\"outlinewidth\": 0, \"ticks\": \"\"}, \"colorscale\": [[0.0, \"#0d0887\"], [0.1111111111111111, \"#46039f\"], [0.2222222222222222, \"#7201a8\"], [0.3333333333333333, \"#9c179e\"], [0.4444444444444444, \"#bd3786\"], [0.5555555555555556, \"#d8576b\"], [0.6666666666666666, \"#ed7953\"], [0.7777777777777778, \"#fb9f3a\"], [0.8888888888888888, \"#fdca26\"], [1.0, \"#f0f921\"]], \"type\": \"heatmap\"}], \"heatmapgl\": [{\"colorbar\": {\"outlinewidth\": 0, \"ticks\": \"\"}, \"colorscale\": [[0.0, \"#0d0887\"], [0.1111111111111111, \"#46039f\"], [0.2222222222222222, \"#7201a8\"], [0.3333333333333333, \"#9c179e\"], [0.4444444444444444, \"#bd3786\"], [0.5555555555555556, \"#d8576b\"], [0.6666666666666666, \"#ed7953\"], [0.7777777777777778, \"#fb9f3a\"], [0.8888888888888888, \"#fdca26\"], [1.0, \"#f0f921\"]], \"type\": \"heatmapgl\"}], \"histogram\": [{\"marker\": {\"colorbar\": {\"outlinewidth\": 0, \"ticks\": \"\"}}, \"type\": \"histogram\"}], \"histogram2d\": [{\"colorbar\": {\"outlinewidth\": 0, \"ticks\": \"\"}, \"colorscale\": [[0.0, \"#0d0887\"], [0.1111111111111111, \"#46039f\"], [0.2222222222222222, \"#7201a8\"], [0.3333333333333333, \"#9c179e\"], [0.4444444444444444, \"#bd3786\"], [0.5555555555555556, \"#d8576b\"], [0.6666666666666666, \"#ed7953\"], [0.7777777777777778, \"#fb9f3a\"], [0.8888888888888888, \"#fdca26\"], [1.0, \"#f0f921\"]], \"type\": \"histogram2d\"}], \"histogram2dcontour\": [{\"colorbar\": {\"outlinewidth\": 0, \"ticks\": \"\"}, \"colorscale\": [[0.0, \"#0d0887\"], [0.1111111111111111, \"#46039f\"], [0.2222222222222222, \"#7201a8\"], [0.3333333333333333, \"#9c179e\"], [0.4444444444444444, \"#bd3786\"], [0.5555555555555556, \"#d8576b\"], [0.6666666666666666, \"#ed7953\"], [0.7777777777777778, \"#fb9f3a\"], [0.8888888888888888, \"#fdca26\"], [1.0, \"#f0f921\"]], \"type\": \"histogram2dcontour\"}], \"mesh3d\": [{\"colorbar\": {\"outlinewidth\": 0, \"ticks\": \"\"}, \"type\": \"mesh3d\"}], \"parcoords\": [{\"line\": {\"colorbar\": {\"outlinewidth\": 0, \"ticks\": \"\"}}, \"type\": \"parcoords\"}], \"pie\": [{\"automargin\": true, \"type\": \"pie\"}], \"scatter\": [{\"marker\": {\"colorbar\": {\"outlinewidth\": 0, \"ticks\": \"\"}}, \"type\": \"scatter\"}], \"scatter3d\": [{\"line\": {\"colorbar\": {\"outlinewidth\": 0, \"ticks\": \"\"}}, \"marker\": {\"colorbar\": {\"outlinewidth\": 0, \"ticks\": \"\"}}, \"type\": \"scatter3d\"}], \"scattercarpet\": [{\"marker\": {\"colorbar\": {\"outlinewidth\": 0, \"ticks\": \"\"}}, \"type\": \"scattercarpet\"}], \"scattergeo\": [{\"marker\": {\"colorbar\": {\"outlinewidth\": 0, \"ticks\": \"\"}}, \"type\": \"scattergeo\"}], \"scattergl\": [{\"marker\": {\"colorbar\": {\"outlinewidth\": 0, \"ticks\": \"\"}}, \"type\": \"scattergl\"}], \"scattermapbox\": [{\"marker\": {\"colorbar\": {\"outlinewidth\": 0, \"ticks\": \"\"}}, \"type\": \"scattermapbox\"}], \"scatterpolar\": [{\"marker\": {\"colorbar\": {\"outlinewidth\": 0, \"ticks\": \"\"}}, \"type\": \"scatterpolar\"}], \"scatterpolargl\": [{\"marker\": {\"colorbar\": {\"outlinewidth\": 0, \"ticks\": \"\"}}, \"type\": \"scatterpolargl\"}], \"scatterternary\": [{\"marker\": {\"colorbar\": {\"outlinewidth\": 0, \"ticks\": \"\"}}, \"type\": \"scatterternary\"}], \"surface\": [{\"colorbar\": {\"outlinewidth\": 0, \"ticks\": \"\"}, \"colorscale\": [[0.0, \"#0d0887\"], [0.1111111111111111, \"#46039f\"], [0.2222222222222222, \"#7201a8\"], [0.3333333333333333, \"#9c179e\"], [0.4444444444444444, \"#bd3786\"], [0.5555555555555556, \"#d8576b\"], [0.6666666666666666, \"#ed7953\"], [0.7777777777777778, \"#fb9f3a\"], [0.8888888888888888, \"#fdca26\"], [1.0, \"#f0f921\"]], \"type\": \"surface\"}], \"table\": [{\"cells\": {\"fill\": {\"color\": \"#EBF0F8\"}, \"line\": {\"color\": \"white\"}}, \"header\": {\"fill\": {\"color\": \"#C8D4E3\"}, \"line\": {\"color\": \"white\"}}, \"type\": \"table\"}]}, \"layout\": {\"annotationdefaults\": {\"arrowcolor\": \"#2a3f5f\", \"arrowhead\": 0, \"arrowwidth\": 1}, \"autotypenumbers\": \"strict\", \"coloraxis\": {\"colorbar\": {\"outlinewidth\": 0, \"ticks\": \"\"}}, \"colorscale\": {\"diverging\": [[0, \"#8e0152\"], [0.1, \"#c51b7d\"], [0.2, \"#de77ae\"], [0.3, \"#f1b6da\"], [0.4, \"#fde0ef\"], [0.5, \"#f7f7f7\"], [0.6, \"#e6f5d0\"], [0.7, \"#b8e186\"], [0.8, \"#7fbc41\"], [0.9, \"#4d9221\"], [1, \"#276419\"]], \"sequential\": [[0.0, \"#0d0887\"], [0.1111111111111111, \"#46039f\"], [0.2222222222222222, \"#7201a8\"], [0.3333333333333333, \"#9c179e\"], [0.4444444444444444, \"#bd3786\"], [0.5555555555555556, \"#d8576b\"], [0.6666666666666666, \"#ed7953\"], [0.7777777777777778, \"#fb9f3a\"], [0.8888888888888888, \"#fdca26\"], [1.0, \"#f0f921\"]], \"sequentialminus\": [[0.0, \"#0d0887\"], [0.1111111111111111, \"#46039f\"], [0.2222222222222222, \"#7201a8\"], [0.3333333333333333, \"#9c179e\"], [0.4444444444444444, \"#bd3786\"], [0.5555555555555556, \"#d8576b\"], [0.6666666666666666, \"#ed7953\"], [0.7777777777777778, \"#fb9f3a\"], [0.8888888888888888, \"#fdca26\"], [1.0, \"#f0f921\"]]}, \"colorway\": [\"#636efa\", \"#EF553B\", \"#00cc96\", \"#ab63fa\", \"#FFA15A\", \"#19d3f3\", \"#FF6692\", \"#B6E880\", \"#FF97FF\", \"#FECB52\"], \"font\": {\"color\": \"#2a3f5f\"}, \"geo\": {\"bgcolor\": \"white\", \"lakecolor\": \"white\", \"landcolor\": \"#E5ECF6\", \"showlakes\": true, \"showland\": true, \"subunitcolor\": \"white\"}, \"hoverlabel\": {\"align\": \"left\"}, \"hovermode\": \"closest\", \"mapbox\": {\"style\": \"light\"}, \"paper_bgcolor\": \"white\", \"plot_bgcolor\": \"#E5ECF6\", \"polar\": {\"angularaxis\": {\"gridcolor\": \"white\", \"linecolor\": \"white\", \"ticks\": \"\"}, \"bgcolor\": \"#E5ECF6\", \"radialaxis\": {\"gridcolor\": \"white\", \"linecolor\": \"white\", \"ticks\": \"\"}}, \"scene\": {\"xaxis\": {\"backgroundcolor\": \"#E5ECF6\", \"gridcolor\": \"white\", \"gridwidth\": 2, \"linecolor\": \"white\", \"showbackground\": true, \"ticks\": \"\", \"zerolinecolor\": \"white\"}, \"yaxis\": {\"backgroundcolor\": \"#E5ECF6\", \"gridcolor\": \"white\", \"gridwidth\": 2, \"linecolor\": \"white\", \"showbackground\": true, \"ticks\": \"\", \"zerolinecolor\": \"white\"}, \"zaxis\": {\"backgroundcolor\": \"#E5ECF6\", \"gridcolor\": \"white\", \"gridwidth\": 2, \"linecolor\": \"white\", \"showbackground\": true, \"ticks\": \"\", \"zerolinecolor\": \"white\"}}, \"shapedefaults\": {\"line\": {\"color\": \"#2a3f5f\"}}, \"ternary\": {\"aaxis\": {\"gridcolor\": \"white\", \"linecolor\": \"white\", \"ticks\": \"\"}, \"baxis\": {\"gridcolor\": \"white\", \"linecolor\": \"white\", \"ticks\": \"\"}, \"bgcolor\": \"#E5ECF6\", \"caxis\": {\"gridcolor\": \"white\", \"linecolor\": \"white\", \"ticks\": \"\"}}, \"title\": {\"x\": 0.05}, \"xaxis\": {\"automargin\": true, \"gridcolor\": \"white\", \"linecolor\": \"white\", \"ticks\": \"\", \"title\": {\"standoff\": 15}, \"zerolinecolor\": \"white\", \"zerolinewidth\": 2}, \"yaxis\": {\"automargin\": true, \"gridcolor\": \"white\", \"linecolor\": \"white\", \"ticks\": \"\", \"title\": {\"standoff\": 15}, \"zerolinecolor\": \"white\", \"zerolinewidth\": 2}}}, \"title\": {\"text\": \"magic_comp raw data overlay\"}},                        {\"responsive\": true}                    ).then(function(){\n",
       "                            \n",
       "var gd = document.getElementById('b7727ca7-154f-4075-acaa-548d82605289');\n",
       "var x = new MutationObserver(function (mutations, observer) {{\n",
       "        var display = window.getComputedStyle(gd).display;\n",
       "        if (!display || display === 'none') {{\n",
       "            console.log([gd, 'removed!']);\n",
       "            Plotly.purge(gd);\n",
       "            observer.disconnect();\n",
       "        }}\n",
       "}});\n",
       "\n",
       "// Listen for the removal of the full notebook cells\n",
       "var notebookContainer = gd.closest('#notebook-container');\n",
       "if (notebookContainer) {{\n",
       "    x.observe(notebookContainer, {childList: true});\n",
       "}}\n",
       "\n",
       "// Listen for the clearing of the current output cell\n",
       "var outputEl = gd.closest('.output');\n",
       "if (outputEl) {{\n",
       "    x.observe(outputEl, {childList: true});\n",
       "}}\n",
       "\n",
       "                        })                };                });            </script>        </div>"
      ]
     },
     "metadata": {},
     "output_type": "display_data"
    },
    {
     "data": {
      "application/vnd.plotly.v1+json": {
       "config": {
        "plotlyServerURL": "https://plot.ly"
       },
       "data": [
        {
         "name": "magic calibration",
         "type": "scatter",
         "y": [
          13957,
          13951,
          13960,
          13949,
          13952,
          13949,
          13950,
          13947,
          13959,
          13954,
          13397,
          13402,
          13412,
          13403,
          13400,
          13401,
          13403,
          13400,
          13397,
          13394,
          13547,
          13552,
          13548,
          13539,
          13543,
          13549,
          13543,
          13546,
          13550,
          13544,
          13649,
          13643,
          13648,
          13653,
          13654,
          13652,
          13651,
          13650,
          13650,
          13658,
          13724,
          13727,
          13719,
          13733,
          13737,
          13728,
          13713,
          13735,
          13731,
          13705
         ]
        },
        {
         "name": "magic QC1",
         "type": "scatter",
         "y": [
          13803,
          13800,
          13797,
          13799,
          13801,
          13801,
          13804,
          13805,
          13806,
          13798,
          13322,
          13331,
          13329,
          13327,
          13321,
          13319,
          13323,
          13328,
          13322,
          13322,
          13470,
          13472,
          13469,
          13466,
          13470,
          13471,
          13467,
          13471,
          13486,
          13469,
          13568,
          13572,
          13600,
          13582,
          13577,
          13577,
          13578,
          13582,
          13569,
          13559,
          13639,
          13628,
          13632,
          13635,
          13639,
          13627,
          13625,
          13631,
          13621,
          13630
         ]
        },
        {
         "name": "magic QC2",
         "type": "scatter",
         "y": [
          13737,
          13729,
          13723,
          13724,
          13740,
          13735,
          13738,
          13736,
          13736,
          13731,
          13237,
          13252,
          13244,
          13251,
          13241,
          13233,
          13235,
          13228,
          13251,
          13237,
          13376,
          13387,
          13362,
          13376,
          13370,
          13367,
          13376,
          13379,
          13369,
          13370,
          13467,
          13457,
          13468,
          13477,
          13459,
          13464,
          13467,
          13471,
          13453,
          13465,
          13523,
          13506,
          13525,
          13496,
          13509,
          13519,
          13525,
          13527,
          13522,
          13511
         ]
        },
        {
         "name": "magic QC3",
         "type": "scatter",
         "y": [
          13716,
          13700,
          13713,
          13716,
          13700,
          13714,
          13713,
          13714,
          13719,
          13717,
          13228,
          13230,
          13223,
          13212,
          13224,
          13224,
          13224,
          13229,
          13225,
          13207,
          13343,
          13353,
          13367,
          13342,
          13344,
          13345,
          13340,
          13338,
          13342,
          13350,
          13448,
          13433,
          13432,
          13425,
          13430,
          13436,
          13444,
          13439,
          13433,
          13438,
          13503,
          13493,
          13493,
          13497,
          13501,
          13501,
          13509,
          13492,
          13500,
          13501
         ]
        },
        {
         "name": "magic QC4",
         "type": "scatter",
         "y": [
          13664,
          13692,
          13687,
          13681,
          13684,
          13690,
          13685,
          13671,
          13684,
          13684,
          13195,
          13211,
          13190,
          13200,
          13198,
          13199,
          13191,
          13196,
          13204,
          13180,
          13320,
          13326,
          13325,
          13332,
          13322,
          13336,
          13320,
          13316,
          13328,
          13320,
          13391,
          13412,
          13408,
          13407,
          13419,
          13399,
          13416,
          13405,
          13408,
          13411,
          13470,
          13478,
          13468,
          13463,
          13450,
          13472,
          13465,
          13469,
          13466,
          13432
         ]
        },
        {
         "name": "magic QC5",
         "type": "scatter",
         "y": [
          13634,
          13621,
          13626,
          13623,
          13615,
          13634,
          13637,
          13620,
          13624,
          13625,
          13126,
          13140,
          13144,
          13135,
          13138,
          13152,
          13143,
          13134,
          13154,
          13153,
          13262,
          13268,
          13265,
          13264,
          13265,
          13266,
          13269,
          13263,
          13259,
          13247,
          13352,
          13355,
          13339,
          13349,
          13354,
          13351,
          13334,
          13348,
          13347,
          13365,
          13390,
          13408,
          13407,
          13418,
          13423,
          13402,
          13417,
          13397,
          13408,
          13411
         ]
        },
        {
         "name": "magic QC6",
         "type": "scatter",
         "y": [
          13592,
          13580,
          13579,
          13591,
          13590,
          13594,
          13599,
          13604,
          13597,
          13589,
          13124,
          13133,
          13125,
          13126,
          13116,
          13118,
          13121,
          13115,
          13119,
          13109,
          13243,
          13251,
          13239,
          13244,
          13237,
          13238,
          13227,
          13247,
          13235,
          13239,
          13317,
          13326,
          13319,
          13320,
          13323,
          13323,
          13338,
          13326,
          13331,
          13336,
          13393,
          13378,
          13381,
          13376,
          13391,
          13384,
          13372,
          13385,
          13383,
          13387
         ]
        }
       ],
       "layout": {
        "template": {
         "data": {
          "bar": [
           {
            "error_x": {
             "color": "#2a3f5f"
            },
            "error_y": {
             "color": "#2a3f5f"
            },
            "marker": {
             "line": {
              "color": "#E5ECF6",
              "width": 0.5
             }
            },
            "type": "bar"
           }
          ],
          "barpolar": [
           {
            "marker": {
             "line": {
              "color": "#E5ECF6",
              "width": 0.5
             }
            },
            "type": "barpolar"
           }
          ],
          "carpet": [
           {
            "aaxis": {
             "endlinecolor": "#2a3f5f",
             "gridcolor": "white",
             "linecolor": "white",
             "minorgridcolor": "white",
             "startlinecolor": "#2a3f5f"
            },
            "baxis": {
             "endlinecolor": "#2a3f5f",
             "gridcolor": "white",
             "linecolor": "white",
             "minorgridcolor": "white",
             "startlinecolor": "#2a3f5f"
            },
            "type": "carpet"
           }
          ],
          "choropleth": [
           {
            "colorbar": {
             "outlinewidth": 0,
             "ticks": ""
            },
            "type": "choropleth"
           }
          ],
          "contour": [
           {
            "colorbar": {
             "outlinewidth": 0,
             "ticks": ""
            },
            "colorscale": [
             [
              0,
              "#0d0887"
             ],
             [
              0.1111111111111111,
              "#46039f"
             ],
             [
              0.2222222222222222,
              "#7201a8"
             ],
             [
              0.3333333333333333,
              "#9c179e"
             ],
             [
              0.4444444444444444,
              "#bd3786"
             ],
             [
              0.5555555555555556,
              "#d8576b"
             ],
             [
              0.6666666666666666,
              "#ed7953"
             ],
             [
              0.7777777777777778,
              "#fb9f3a"
             ],
             [
              0.8888888888888888,
              "#fdca26"
             ],
             [
              1,
              "#f0f921"
             ]
            ],
            "type": "contour"
           }
          ],
          "contourcarpet": [
           {
            "colorbar": {
             "outlinewidth": 0,
             "ticks": ""
            },
            "type": "contourcarpet"
           }
          ],
          "heatmap": [
           {
            "colorbar": {
             "outlinewidth": 0,
             "ticks": ""
            },
            "colorscale": [
             [
              0,
              "#0d0887"
             ],
             [
              0.1111111111111111,
              "#46039f"
             ],
             [
              0.2222222222222222,
              "#7201a8"
             ],
             [
              0.3333333333333333,
              "#9c179e"
             ],
             [
              0.4444444444444444,
              "#bd3786"
             ],
             [
              0.5555555555555556,
              "#d8576b"
             ],
             [
              0.6666666666666666,
              "#ed7953"
             ],
             [
              0.7777777777777778,
              "#fb9f3a"
             ],
             [
              0.8888888888888888,
              "#fdca26"
             ],
             [
              1,
              "#f0f921"
             ]
            ],
            "type": "heatmap"
           }
          ],
          "heatmapgl": [
           {
            "colorbar": {
             "outlinewidth": 0,
             "ticks": ""
            },
            "colorscale": [
             [
              0,
              "#0d0887"
             ],
             [
              0.1111111111111111,
              "#46039f"
             ],
             [
              0.2222222222222222,
              "#7201a8"
             ],
             [
              0.3333333333333333,
              "#9c179e"
             ],
             [
              0.4444444444444444,
              "#bd3786"
             ],
             [
              0.5555555555555556,
              "#d8576b"
             ],
             [
              0.6666666666666666,
              "#ed7953"
             ],
             [
              0.7777777777777778,
              "#fb9f3a"
             ],
             [
              0.8888888888888888,
              "#fdca26"
             ],
             [
              1,
              "#f0f921"
             ]
            ],
            "type": "heatmapgl"
           }
          ],
          "histogram": [
           {
            "marker": {
             "colorbar": {
              "outlinewidth": 0,
              "ticks": ""
             }
            },
            "type": "histogram"
           }
          ],
          "histogram2d": [
           {
            "colorbar": {
             "outlinewidth": 0,
             "ticks": ""
            },
            "colorscale": [
             [
              0,
              "#0d0887"
             ],
             [
              0.1111111111111111,
              "#46039f"
             ],
             [
              0.2222222222222222,
              "#7201a8"
             ],
             [
              0.3333333333333333,
              "#9c179e"
             ],
             [
              0.4444444444444444,
              "#bd3786"
             ],
             [
              0.5555555555555556,
              "#d8576b"
             ],
             [
              0.6666666666666666,
              "#ed7953"
             ],
             [
              0.7777777777777778,
              "#fb9f3a"
             ],
             [
              0.8888888888888888,
              "#fdca26"
             ],
             [
              1,
              "#f0f921"
             ]
            ],
            "type": "histogram2d"
           }
          ],
          "histogram2dcontour": [
           {
            "colorbar": {
             "outlinewidth": 0,
             "ticks": ""
            },
            "colorscale": [
             [
              0,
              "#0d0887"
             ],
             [
              0.1111111111111111,
              "#46039f"
             ],
             [
              0.2222222222222222,
              "#7201a8"
             ],
             [
              0.3333333333333333,
              "#9c179e"
             ],
             [
              0.4444444444444444,
              "#bd3786"
             ],
             [
              0.5555555555555556,
              "#d8576b"
             ],
             [
              0.6666666666666666,
              "#ed7953"
             ],
             [
              0.7777777777777778,
              "#fb9f3a"
             ],
             [
              0.8888888888888888,
              "#fdca26"
             ],
             [
              1,
              "#f0f921"
             ]
            ],
            "type": "histogram2dcontour"
           }
          ],
          "mesh3d": [
           {
            "colorbar": {
             "outlinewidth": 0,
             "ticks": ""
            },
            "type": "mesh3d"
           }
          ],
          "parcoords": [
           {
            "line": {
             "colorbar": {
              "outlinewidth": 0,
              "ticks": ""
             }
            },
            "type": "parcoords"
           }
          ],
          "pie": [
           {
            "automargin": true,
            "type": "pie"
           }
          ],
          "scatter": [
           {
            "marker": {
             "colorbar": {
              "outlinewidth": 0,
              "ticks": ""
             }
            },
            "type": "scatter"
           }
          ],
          "scatter3d": [
           {
            "line": {
             "colorbar": {
              "outlinewidth": 0,
              "ticks": ""
             }
            },
            "marker": {
             "colorbar": {
              "outlinewidth": 0,
              "ticks": ""
             }
            },
            "type": "scatter3d"
           }
          ],
          "scattercarpet": [
           {
            "marker": {
             "colorbar": {
              "outlinewidth": 0,
              "ticks": ""
             }
            },
            "type": "scattercarpet"
           }
          ],
          "scattergeo": [
           {
            "marker": {
             "colorbar": {
              "outlinewidth": 0,
              "ticks": ""
             }
            },
            "type": "scattergeo"
           }
          ],
          "scattergl": [
           {
            "marker": {
             "colorbar": {
              "outlinewidth": 0,
              "ticks": ""
             }
            },
            "type": "scattergl"
           }
          ],
          "scattermapbox": [
           {
            "marker": {
             "colorbar": {
              "outlinewidth": 0,
              "ticks": ""
             }
            },
            "type": "scattermapbox"
           }
          ],
          "scatterpolar": [
           {
            "marker": {
             "colorbar": {
              "outlinewidth": 0,
              "ticks": ""
             }
            },
            "type": "scatterpolar"
           }
          ],
          "scatterpolargl": [
           {
            "marker": {
             "colorbar": {
              "outlinewidth": 0,
              "ticks": ""
             }
            },
            "type": "scatterpolargl"
           }
          ],
          "scatterternary": [
           {
            "marker": {
             "colorbar": {
              "outlinewidth": 0,
              "ticks": ""
             }
            },
            "type": "scatterternary"
           }
          ],
          "surface": [
           {
            "colorbar": {
             "outlinewidth": 0,
             "ticks": ""
            },
            "colorscale": [
             [
              0,
              "#0d0887"
             ],
             [
              0.1111111111111111,
              "#46039f"
             ],
             [
              0.2222222222222222,
              "#7201a8"
             ],
             [
              0.3333333333333333,
              "#9c179e"
             ],
             [
              0.4444444444444444,
              "#bd3786"
             ],
             [
              0.5555555555555556,
              "#d8576b"
             ],
             [
              0.6666666666666666,
              "#ed7953"
             ],
             [
              0.7777777777777778,
              "#fb9f3a"
             ],
             [
              0.8888888888888888,
              "#fdca26"
             ],
             [
              1,
              "#f0f921"
             ]
            ],
            "type": "surface"
           }
          ],
          "table": [
           {
            "cells": {
             "fill": {
              "color": "#EBF0F8"
             },
             "line": {
              "color": "white"
             }
            },
            "header": {
             "fill": {
              "color": "#C8D4E3"
             },
             "line": {
              "color": "white"
             }
            },
            "type": "table"
           }
          ]
         },
         "layout": {
          "annotationdefaults": {
           "arrowcolor": "#2a3f5f",
           "arrowhead": 0,
           "arrowwidth": 1
          },
          "autotypenumbers": "strict",
          "coloraxis": {
           "colorbar": {
            "outlinewidth": 0,
            "ticks": ""
           }
          },
          "colorscale": {
           "diverging": [
            [
             0,
             "#8e0152"
            ],
            [
             0.1,
             "#c51b7d"
            ],
            [
             0.2,
             "#de77ae"
            ],
            [
             0.3,
             "#f1b6da"
            ],
            [
             0.4,
             "#fde0ef"
            ],
            [
             0.5,
             "#f7f7f7"
            ],
            [
             0.6,
             "#e6f5d0"
            ],
            [
             0.7,
             "#b8e186"
            ],
            [
             0.8,
             "#7fbc41"
            ],
            [
             0.9,
             "#4d9221"
            ],
            [
             1,
             "#276419"
            ]
           ],
           "sequential": [
            [
             0,
             "#0d0887"
            ],
            [
             0.1111111111111111,
             "#46039f"
            ],
            [
             0.2222222222222222,
             "#7201a8"
            ],
            [
             0.3333333333333333,
             "#9c179e"
            ],
            [
             0.4444444444444444,
             "#bd3786"
            ],
            [
             0.5555555555555556,
             "#d8576b"
            ],
            [
             0.6666666666666666,
             "#ed7953"
            ],
            [
             0.7777777777777778,
             "#fb9f3a"
            ],
            [
             0.8888888888888888,
             "#fdca26"
            ],
            [
             1,
             "#f0f921"
            ]
           ],
           "sequentialminus": [
            [
             0,
             "#0d0887"
            ],
            [
             0.1111111111111111,
             "#46039f"
            ],
            [
             0.2222222222222222,
             "#7201a8"
            ],
            [
             0.3333333333333333,
             "#9c179e"
            ],
            [
             0.4444444444444444,
             "#bd3786"
            ],
            [
             0.5555555555555556,
             "#d8576b"
            ],
            [
             0.6666666666666666,
             "#ed7953"
            ],
            [
             0.7777777777777778,
             "#fb9f3a"
            ],
            [
             0.8888888888888888,
             "#fdca26"
            ],
            [
             1,
             "#f0f921"
            ]
           ]
          },
          "colorway": [
           "#636efa",
           "#EF553B",
           "#00cc96",
           "#ab63fa",
           "#FFA15A",
           "#19d3f3",
           "#FF6692",
           "#B6E880",
           "#FF97FF",
           "#FECB52"
          ],
          "font": {
           "color": "#2a3f5f"
          },
          "geo": {
           "bgcolor": "white",
           "lakecolor": "white",
           "landcolor": "#E5ECF6",
           "showlakes": true,
           "showland": true,
           "subunitcolor": "white"
          },
          "hoverlabel": {
           "align": "left"
          },
          "hovermode": "closest",
          "mapbox": {
           "style": "light"
          },
          "paper_bgcolor": "white",
          "plot_bgcolor": "#E5ECF6",
          "polar": {
           "angularaxis": {
            "gridcolor": "white",
            "linecolor": "white",
            "ticks": ""
           },
           "bgcolor": "#E5ECF6",
           "radialaxis": {
            "gridcolor": "white",
            "linecolor": "white",
            "ticks": ""
           }
          },
          "scene": {
           "xaxis": {
            "backgroundcolor": "#E5ECF6",
            "gridcolor": "white",
            "gridwidth": 2,
            "linecolor": "white",
            "showbackground": true,
            "ticks": "",
            "zerolinecolor": "white"
           },
           "yaxis": {
            "backgroundcolor": "#E5ECF6",
            "gridcolor": "white",
            "gridwidth": 2,
            "linecolor": "white",
            "showbackground": true,
            "ticks": "",
            "zerolinecolor": "white"
           },
           "zaxis": {
            "backgroundcolor": "#E5ECF6",
            "gridcolor": "white",
            "gridwidth": 2,
            "linecolor": "white",
            "showbackground": true,
            "ticks": "",
            "zerolinecolor": "white"
           }
          },
          "shapedefaults": {
           "line": {
            "color": "#2a3f5f"
           }
          },
          "ternary": {
           "aaxis": {
            "gridcolor": "white",
            "linecolor": "white",
            "ticks": ""
           },
           "baxis": {
            "gridcolor": "white",
            "linecolor": "white",
            "ticks": ""
           },
           "bgcolor": "#E5ECF6",
           "caxis": {
            "gridcolor": "white",
            "linecolor": "white",
            "ticks": ""
           }
          },
          "title": {
           "x": 0.05
          },
          "xaxis": {
           "automargin": true,
           "gridcolor": "white",
           "linecolor": "white",
           "ticks": "",
           "title": {
            "standoff": 15
           },
           "zerolinecolor": "white",
           "zerolinewidth": 2
          },
          "yaxis": {
           "automargin": true,
           "gridcolor": "white",
           "linecolor": "white",
           "ticks": "",
           "title": {
            "standoff": 15
           },
           "zerolinecolor": "white",
           "zerolinewidth": 2
          }
         }
        },
        "title": {
         "text": "magic raw data overlay"
        }
       }
      },
      "text/html": [
       "<div>                            <div id=\"2f93b9fd-d1ec-46da-8588-5139515f7bb3\" class=\"plotly-graph-div\" style=\"height:525px; width:100%;\"></div>            <script type=\"text/javascript\">                require([\"plotly\"], function(Plotly) {                    window.PLOTLYENV=window.PLOTLYENV || {};                                    if (document.getElementById(\"2f93b9fd-d1ec-46da-8588-5139515f7bb3\")) {                    Plotly.newPlot(                        \"2f93b9fd-d1ec-46da-8588-5139515f7bb3\",                        [{\"name\": \"magic calibration\", \"type\": \"scatter\", \"y\": [13957, 13951, 13960, 13949, 13952, 13949, 13950, 13947, 13959, 13954, 13397, 13402, 13412, 13403, 13400, 13401, 13403, 13400, 13397, 13394, 13547, 13552, 13548, 13539, 13543, 13549, 13543, 13546, 13550, 13544, 13649, 13643, 13648, 13653, 13654, 13652, 13651, 13650, 13650, 13658, 13724, 13727, 13719, 13733, 13737, 13728, 13713, 13735, 13731, 13705]}, {\"name\": \"magic QC1\", \"type\": \"scatter\", \"y\": [13803, 13800, 13797, 13799, 13801, 13801, 13804, 13805, 13806, 13798, 13322, 13331, 13329, 13327, 13321, 13319, 13323, 13328, 13322, 13322, 13470, 13472, 13469, 13466, 13470, 13471, 13467, 13471, 13486, 13469, 13568, 13572, 13600, 13582, 13577, 13577, 13578, 13582, 13569, 13559, 13639, 13628, 13632, 13635, 13639, 13627, 13625, 13631, 13621, 13630]}, {\"name\": \"magic QC2\", \"type\": \"scatter\", \"y\": [13737, 13729, 13723, 13724, 13740, 13735, 13738, 13736, 13736, 13731, 13237, 13252, 13244, 13251, 13241, 13233, 13235, 13228, 13251, 13237, 13376, 13387, 13362, 13376, 13370, 13367, 13376, 13379, 13369, 13370, 13467, 13457, 13468, 13477, 13459, 13464, 13467, 13471, 13453, 13465, 13523, 13506, 13525, 13496, 13509, 13519, 13525, 13527, 13522, 13511]}, {\"name\": \"magic QC3\", \"type\": \"scatter\", \"y\": [13716, 13700, 13713, 13716, 13700, 13714, 13713, 13714, 13719, 13717, 13228, 13230, 13223, 13212, 13224, 13224, 13224, 13229, 13225, 13207, 13343, 13353, 13367, 13342, 13344, 13345, 13340, 13338, 13342, 13350, 13448, 13433, 13432, 13425, 13430, 13436, 13444, 13439, 13433, 13438, 13503, 13493, 13493, 13497, 13501, 13501, 13509, 13492, 13500, 13501]}, {\"name\": \"magic QC4\", \"type\": \"scatter\", \"y\": [13664, 13692, 13687, 13681, 13684, 13690, 13685, 13671, 13684, 13684, 13195, 13211, 13190, 13200, 13198, 13199, 13191, 13196, 13204, 13180, 13320, 13326, 13325, 13332, 13322, 13336, 13320, 13316, 13328, 13320, 13391, 13412, 13408, 13407, 13419, 13399, 13416, 13405, 13408, 13411, 13470, 13478, 13468, 13463, 13450, 13472, 13465, 13469, 13466, 13432]}, {\"name\": \"magic QC5\", \"type\": \"scatter\", \"y\": [13634, 13621, 13626, 13623, 13615, 13634, 13637, 13620, 13624, 13625, 13126, 13140, 13144, 13135, 13138, 13152, 13143, 13134, 13154, 13153, 13262, 13268, 13265, 13264, 13265, 13266, 13269, 13263, 13259, 13247, 13352, 13355, 13339, 13349, 13354, 13351, 13334, 13348, 13347, 13365, 13390, 13408, 13407, 13418, 13423, 13402, 13417, 13397, 13408, 13411]}, {\"name\": \"magic QC6\", \"type\": \"scatter\", \"y\": [13592, 13580, 13579, 13591, 13590, 13594, 13599, 13604, 13597, 13589, 13124, 13133, 13125, 13126, 13116, 13118, 13121, 13115, 13119, 13109, 13243, 13251, 13239, 13244, 13237, 13238, 13227, 13247, 13235, 13239, 13317, 13326, 13319, 13320, 13323, 13323, 13338, 13326, 13331, 13336, 13393, 13378, 13381, 13376, 13391, 13384, 13372, 13385, 13383, 13387]}],                        {\"template\": {\"data\": {\"bar\": [{\"error_x\": {\"color\": \"#2a3f5f\"}, \"error_y\": {\"color\": \"#2a3f5f\"}, \"marker\": {\"line\": {\"color\": \"#E5ECF6\", \"width\": 0.5}}, \"type\": \"bar\"}], \"barpolar\": [{\"marker\": {\"line\": {\"color\": \"#E5ECF6\", \"width\": 0.5}}, \"type\": \"barpolar\"}], \"carpet\": [{\"aaxis\": {\"endlinecolor\": \"#2a3f5f\", \"gridcolor\": \"white\", \"linecolor\": \"white\", \"minorgridcolor\": \"white\", \"startlinecolor\": \"#2a3f5f\"}, \"baxis\": {\"endlinecolor\": \"#2a3f5f\", \"gridcolor\": \"white\", \"linecolor\": \"white\", \"minorgridcolor\": \"white\", \"startlinecolor\": \"#2a3f5f\"}, \"type\": \"carpet\"}], \"choropleth\": [{\"colorbar\": {\"outlinewidth\": 0, \"ticks\": \"\"}, \"type\": \"choropleth\"}], \"contour\": [{\"colorbar\": {\"outlinewidth\": 0, \"ticks\": \"\"}, \"colorscale\": [[0.0, \"#0d0887\"], [0.1111111111111111, \"#46039f\"], [0.2222222222222222, \"#7201a8\"], [0.3333333333333333, \"#9c179e\"], [0.4444444444444444, \"#bd3786\"], [0.5555555555555556, \"#d8576b\"], [0.6666666666666666, \"#ed7953\"], [0.7777777777777778, \"#fb9f3a\"], [0.8888888888888888, \"#fdca26\"], [1.0, \"#f0f921\"]], \"type\": \"contour\"}], \"contourcarpet\": [{\"colorbar\": {\"outlinewidth\": 0, \"ticks\": \"\"}, \"type\": \"contourcarpet\"}], \"heatmap\": [{\"colorbar\": {\"outlinewidth\": 0, \"ticks\": \"\"}, \"colorscale\": [[0.0, \"#0d0887\"], [0.1111111111111111, \"#46039f\"], [0.2222222222222222, \"#7201a8\"], [0.3333333333333333, \"#9c179e\"], [0.4444444444444444, \"#bd3786\"], [0.5555555555555556, \"#d8576b\"], [0.6666666666666666, \"#ed7953\"], [0.7777777777777778, \"#fb9f3a\"], [0.8888888888888888, \"#fdca26\"], [1.0, \"#f0f921\"]], \"type\": \"heatmap\"}], \"heatmapgl\": [{\"colorbar\": {\"outlinewidth\": 0, \"ticks\": \"\"}, \"colorscale\": [[0.0, \"#0d0887\"], [0.1111111111111111, \"#46039f\"], [0.2222222222222222, \"#7201a8\"], [0.3333333333333333, \"#9c179e\"], [0.4444444444444444, \"#bd3786\"], [0.5555555555555556, \"#d8576b\"], [0.6666666666666666, \"#ed7953\"], [0.7777777777777778, \"#fb9f3a\"], [0.8888888888888888, \"#fdca26\"], [1.0, \"#f0f921\"]], \"type\": \"heatmapgl\"}], \"histogram\": [{\"marker\": {\"colorbar\": {\"outlinewidth\": 0, \"ticks\": \"\"}}, \"type\": \"histogram\"}], \"histogram2d\": [{\"colorbar\": {\"outlinewidth\": 0, \"ticks\": \"\"}, \"colorscale\": [[0.0, \"#0d0887\"], [0.1111111111111111, \"#46039f\"], [0.2222222222222222, \"#7201a8\"], [0.3333333333333333, \"#9c179e\"], [0.4444444444444444, \"#bd3786\"], [0.5555555555555556, \"#d8576b\"], [0.6666666666666666, \"#ed7953\"], [0.7777777777777778, \"#fb9f3a\"], [0.8888888888888888, \"#fdca26\"], [1.0, \"#f0f921\"]], \"type\": \"histogram2d\"}], \"histogram2dcontour\": [{\"colorbar\": {\"outlinewidth\": 0, \"ticks\": \"\"}, \"colorscale\": [[0.0, \"#0d0887\"], [0.1111111111111111, \"#46039f\"], [0.2222222222222222, \"#7201a8\"], [0.3333333333333333, \"#9c179e\"], [0.4444444444444444, \"#bd3786\"], [0.5555555555555556, \"#d8576b\"], [0.6666666666666666, \"#ed7953\"], [0.7777777777777778, \"#fb9f3a\"], [0.8888888888888888, \"#fdca26\"], [1.0, \"#f0f921\"]], \"type\": \"histogram2dcontour\"}], \"mesh3d\": [{\"colorbar\": {\"outlinewidth\": 0, \"ticks\": \"\"}, \"type\": \"mesh3d\"}], \"parcoords\": [{\"line\": {\"colorbar\": {\"outlinewidth\": 0, \"ticks\": \"\"}}, \"type\": \"parcoords\"}], \"pie\": [{\"automargin\": true, \"type\": \"pie\"}], \"scatter\": [{\"marker\": {\"colorbar\": {\"outlinewidth\": 0, \"ticks\": \"\"}}, \"type\": \"scatter\"}], \"scatter3d\": [{\"line\": {\"colorbar\": {\"outlinewidth\": 0, \"ticks\": \"\"}}, \"marker\": {\"colorbar\": {\"outlinewidth\": 0, \"ticks\": \"\"}}, \"type\": \"scatter3d\"}], \"scattercarpet\": [{\"marker\": {\"colorbar\": {\"outlinewidth\": 0, \"ticks\": \"\"}}, \"type\": \"scattercarpet\"}], \"scattergeo\": [{\"marker\": {\"colorbar\": {\"outlinewidth\": 0, \"ticks\": \"\"}}, \"type\": \"scattergeo\"}], \"scattergl\": [{\"marker\": {\"colorbar\": {\"outlinewidth\": 0, \"ticks\": \"\"}}, \"type\": \"scattergl\"}], \"scattermapbox\": [{\"marker\": {\"colorbar\": {\"outlinewidth\": 0, \"ticks\": \"\"}}, \"type\": \"scattermapbox\"}], \"scatterpolar\": [{\"marker\": {\"colorbar\": {\"outlinewidth\": 0, \"ticks\": \"\"}}, \"type\": \"scatterpolar\"}], \"scatterpolargl\": [{\"marker\": {\"colorbar\": {\"outlinewidth\": 0, \"ticks\": \"\"}}, \"type\": \"scatterpolargl\"}], \"scatterternary\": [{\"marker\": {\"colorbar\": {\"outlinewidth\": 0, \"ticks\": \"\"}}, \"type\": \"scatterternary\"}], \"surface\": [{\"colorbar\": {\"outlinewidth\": 0, \"ticks\": \"\"}, \"colorscale\": [[0.0, \"#0d0887\"], [0.1111111111111111, \"#46039f\"], [0.2222222222222222, \"#7201a8\"], [0.3333333333333333, \"#9c179e\"], [0.4444444444444444, \"#bd3786\"], [0.5555555555555556, \"#d8576b\"], [0.6666666666666666, \"#ed7953\"], [0.7777777777777778, \"#fb9f3a\"], [0.8888888888888888, \"#fdca26\"], [1.0, \"#f0f921\"]], \"type\": \"surface\"}], \"table\": [{\"cells\": {\"fill\": {\"color\": \"#EBF0F8\"}, \"line\": {\"color\": \"white\"}}, \"header\": {\"fill\": {\"color\": \"#C8D4E3\"}, \"line\": {\"color\": \"white\"}}, \"type\": \"table\"}]}, \"layout\": {\"annotationdefaults\": {\"arrowcolor\": \"#2a3f5f\", \"arrowhead\": 0, \"arrowwidth\": 1}, \"autotypenumbers\": \"strict\", \"coloraxis\": {\"colorbar\": {\"outlinewidth\": 0, \"ticks\": \"\"}}, \"colorscale\": {\"diverging\": [[0, \"#8e0152\"], [0.1, \"#c51b7d\"], [0.2, \"#de77ae\"], [0.3, \"#f1b6da\"], [0.4, \"#fde0ef\"], [0.5, \"#f7f7f7\"], [0.6, \"#e6f5d0\"], [0.7, \"#b8e186\"], [0.8, \"#7fbc41\"], [0.9, \"#4d9221\"], [1, \"#276419\"]], \"sequential\": [[0.0, \"#0d0887\"], [0.1111111111111111, \"#46039f\"], [0.2222222222222222, \"#7201a8\"], [0.3333333333333333, \"#9c179e\"], [0.4444444444444444, \"#bd3786\"], [0.5555555555555556, \"#d8576b\"], [0.6666666666666666, \"#ed7953\"], [0.7777777777777778, \"#fb9f3a\"], [0.8888888888888888, \"#fdca26\"], [1.0, \"#f0f921\"]], \"sequentialminus\": [[0.0, \"#0d0887\"], [0.1111111111111111, \"#46039f\"], [0.2222222222222222, \"#7201a8\"], [0.3333333333333333, \"#9c179e\"], [0.4444444444444444, \"#bd3786\"], [0.5555555555555556, \"#d8576b\"], [0.6666666666666666, \"#ed7953\"], [0.7777777777777778, \"#fb9f3a\"], [0.8888888888888888, \"#fdca26\"], [1.0, \"#f0f921\"]]}, \"colorway\": [\"#636efa\", \"#EF553B\", \"#00cc96\", \"#ab63fa\", \"#FFA15A\", \"#19d3f3\", \"#FF6692\", \"#B6E880\", \"#FF97FF\", \"#FECB52\"], \"font\": {\"color\": \"#2a3f5f\"}, \"geo\": {\"bgcolor\": \"white\", \"lakecolor\": \"white\", \"landcolor\": \"#E5ECF6\", \"showlakes\": true, \"showland\": true, \"subunitcolor\": \"white\"}, \"hoverlabel\": {\"align\": \"left\"}, \"hovermode\": \"closest\", \"mapbox\": {\"style\": \"light\"}, \"paper_bgcolor\": \"white\", \"plot_bgcolor\": \"#E5ECF6\", \"polar\": {\"angularaxis\": {\"gridcolor\": \"white\", \"linecolor\": \"white\", \"ticks\": \"\"}, \"bgcolor\": \"#E5ECF6\", \"radialaxis\": {\"gridcolor\": \"white\", \"linecolor\": \"white\", \"ticks\": \"\"}}, \"scene\": {\"xaxis\": {\"backgroundcolor\": \"#E5ECF6\", \"gridcolor\": \"white\", \"gridwidth\": 2, \"linecolor\": \"white\", \"showbackground\": true, \"ticks\": \"\", \"zerolinecolor\": \"white\"}, \"yaxis\": {\"backgroundcolor\": \"#E5ECF6\", \"gridcolor\": \"white\", \"gridwidth\": 2, \"linecolor\": \"white\", \"showbackground\": true, \"ticks\": \"\", \"zerolinecolor\": \"white\"}, \"zaxis\": {\"backgroundcolor\": \"#E5ECF6\", \"gridcolor\": \"white\", \"gridwidth\": 2, \"linecolor\": \"white\", \"showbackground\": true, \"ticks\": \"\", \"zerolinecolor\": \"white\"}}, \"shapedefaults\": {\"line\": {\"color\": \"#2a3f5f\"}}, \"ternary\": {\"aaxis\": {\"gridcolor\": \"white\", \"linecolor\": \"white\", \"ticks\": \"\"}, \"baxis\": {\"gridcolor\": \"white\", \"linecolor\": \"white\", \"ticks\": \"\"}, \"bgcolor\": \"#E5ECF6\", \"caxis\": {\"gridcolor\": \"white\", \"linecolor\": \"white\", \"ticks\": \"\"}}, \"title\": {\"x\": 0.05}, \"xaxis\": {\"automargin\": true, \"gridcolor\": \"white\", \"linecolor\": \"white\", \"ticks\": \"\", \"title\": {\"standoff\": 15}, \"zerolinecolor\": \"white\", \"zerolinewidth\": 2}, \"yaxis\": {\"automargin\": true, \"gridcolor\": \"white\", \"linecolor\": \"white\", \"ticks\": \"\", \"title\": {\"standoff\": 15}, \"zerolinecolor\": \"white\", \"zerolinewidth\": 2}}}, \"title\": {\"text\": \"magic raw data overlay\"}},                        {\"responsive\": true}                    ).then(function(){\n",
       "                            \n",
       "var gd = document.getElementById('2f93b9fd-d1ec-46da-8588-5139515f7bb3');\n",
       "var x = new MutationObserver(function (mutations, observer) {{\n",
       "        var display = window.getComputedStyle(gd).display;\n",
       "        if (!display || display === 'none') {{\n",
       "            console.log([gd, 'removed!']);\n",
       "            Plotly.purge(gd);\n",
       "            observer.disconnect();\n",
       "        }}\n",
       "}});\n",
       "\n",
       "// Listen for the removal of the full notebook cells\n",
       "var notebookContainer = gd.closest('#notebook-container');\n",
       "if (notebookContainer) {{\n",
       "    x.observe(notebookContainer, {childList: true});\n",
       "}}\n",
       "\n",
       "// Listen for the clearing of the current output cell\n",
       "var outputEl = gd.closest('.output');\n",
       "if (outputEl) {{\n",
       "    x.observe(outputEl, {childList: true});\n",
       "}}\n",
       "\n",
       "                        })                };                });            </script>        </div>"
      ]
     },
     "metadata": {},
     "output_type": "display_data"
    }
   ],
   "source": [
    "plot_overlay(data_list=test_data_list, cal_channel='magic', QC_channel='magic_comp', save_figure=True, offset=False)\n",
    "plot_overlay(data_list=test_data_list, cal_channel='magic', QC_channel='magic', save_figure=True, offset=False)\n",
    "# plot_overlay(data_list=test_data_list, cal_channel='670nm #1', QC_channel='670nm #1', save_figure=True, offset=False)"
   ]
  },
  {
   "cell_type": "code",
   "execution_count": 180,
   "metadata": {},
   "outputs": [
    {
     "data": {
      "application/vnd.plotly.v1+json": {
       "config": {
        "plotlyServerURL": "https://plot.ly"
       },
       "data": [
        {
         "name": "60ppm-4ppm",
         "text": [
          308,
          286,
          277,
          273,
          250,
          266
         ],
         "textposition": "auto",
         "type": "bar",
         "x": [
          "QC1",
          "QC2",
          "QC3",
          "QC4",
          "QC5",
          "QC6"
         ],
         "y": [
          308,
          286,
          277,
          273,
          250,
          266
         ]
        },
        {
         "name": "25ppm-4ppm",
         "text": [
          156,
          152,
          156,
          136,
          136,
          146
         ],
         "textposition": "auto",
         "type": "bar",
         "x": [
          "QC1",
          "QC2",
          "QC3",
          "QC4",
          "QC5",
          "QC6"
         ],
         "y": [
          156,
          152,
          156,
          136,
          136,
          146
         ]
        },
        {
         "name": "10ppm-4ppm",
         "text": [
          50,
          55,
          65,
          73,
          51,
          61
         ],
         "textposition": "auto",
         "type": "bar",
         "x": [
          "QC1",
          "QC2",
          "QC3",
          "QC4",
          "QC5",
          "QC6"
         ],
         "y": [
          50,
          55,
          65,
          73,
          51,
          61
         ]
        }
       ],
       "layout": {
        "template": {
         "data": {
          "bar": [
           {
            "error_x": {
             "color": "#2a3f5f"
            },
            "error_y": {
             "color": "#2a3f5f"
            },
            "marker": {
             "line": {
              "color": "#E5ECF6",
              "width": 0.5
             }
            },
            "type": "bar"
           }
          ],
          "barpolar": [
           {
            "marker": {
             "line": {
              "color": "#E5ECF6",
              "width": 0.5
             }
            },
            "type": "barpolar"
           }
          ],
          "carpet": [
           {
            "aaxis": {
             "endlinecolor": "#2a3f5f",
             "gridcolor": "white",
             "linecolor": "white",
             "minorgridcolor": "white",
             "startlinecolor": "#2a3f5f"
            },
            "baxis": {
             "endlinecolor": "#2a3f5f",
             "gridcolor": "white",
             "linecolor": "white",
             "minorgridcolor": "white",
             "startlinecolor": "#2a3f5f"
            },
            "type": "carpet"
           }
          ],
          "choropleth": [
           {
            "colorbar": {
             "outlinewidth": 0,
             "ticks": ""
            },
            "type": "choropleth"
           }
          ],
          "contour": [
           {
            "colorbar": {
             "outlinewidth": 0,
             "ticks": ""
            },
            "colorscale": [
             [
              0,
              "#0d0887"
             ],
             [
              0.1111111111111111,
              "#46039f"
             ],
             [
              0.2222222222222222,
              "#7201a8"
             ],
             [
              0.3333333333333333,
              "#9c179e"
             ],
             [
              0.4444444444444444,
              "#bd3786"
             ],
             [
              0.5555555555555556,
              "#d8576b"
             ],
             [
              0.6666666666666666,
              "#ed7953"
             ],
             [
              0.7777777777777778,
              "#fb9f3a"
             ],
             [
              0.8888888888888888,
              "#fdca26"
             ],
             [
              1,
              "#f0f921"
             ]
            ],
            "type": "contour"
           }
          ],
          "contourcarpet": [
           {
            "colorbar": {
             "outlinewidth": 0,
             "ticks": ""
            },
            "type": "contourcarpet"
           }
          ],
          "heatmap": [
           {
            "colorbar": {
             "outlinewidth": 0,
             "ticks": ""
            },
            "colorscale": [
             [
              0,
              "#0d0887"
             ],
             [
              0.1111111111111111,
              "#46039f"
             ],
             [
              0.2222222222222222,
              "#7201a8"
             ],
             [
              0.3333333333333333,
              "#9c179e"
             ],
             [
              0.4444444444444444,
              "#bd3786"
             ],
             [
              0.5555555555555556,
              "#d8576b"
             ],
             [
              0.6666666666666666,
              "#ed7953"
             ],
             [
              0.7777777777777778,
              "#fb9f3a"
             ],
             [
              0.8888888888888888,
              "#fdca26"
             ],
             [
              1,
              "#f0f921"
             ]
            ],
            "type": "heatmap"
           }
          ],
          "heatmapgl": [
           {
            "colorbar": {
             "outlinewidth": 0,
             "ticks": ""
            },
            "colorscale": [
             [
              0,
              "#0d0887"
             ],
             [
              0.1111111111111111,
              "#46039f"
             ],
             [
              0.2222222222222222,
              "#7201a8"
             ],
             [
              0.3333333333333333,
              "#9c179e"
             ],
             [
              0.4444444444444444,
              "#bd3786"
             ],
             [
              0.5555555555555556,
              "#d8576b"
             ],
             [
              0.6666666666666666,
              "#ed7953"
             ],
             [
              0.7777777777777778,
              "#fb9f3a"
             ],
             [
              0.8888888888888888,
              "#fdca26"
             ],
             [
              1,
              "#f0f921"
             ]
            ],
            "type": "heatmapgl"
           }
          ],
          "histogram": [
           {
            "marker": {
             "colorbar": {
              "outlinewidth": 0,
              "ticks": ""
             }
            },
            "type": "histogram"
           }
          ],
          "histogram2d": [
           {
            "colorbar": {
             "outlinewidth": 0,
             "ticks": ""
            },
            "colorscale": [
             [
              0,
              "#0d0887"
             ],
             [
              0.1111111111111111,
              "#46039f"
             ],
             [
              0.2222222222222222,
              "#7201a8"
             ],
             [
              0.3333333333333333,
              "#9c179e"
             ],
             [
              0.4444444444444444,
              "#bd3786"
             ],
             [
              0.5555555555555556,
              "#d8576b"
             ],
             [
              0.6666666666666666,
              "#ed7953"
             ],
             [
              0.7777777777777778,
              "#fb9f3a"
             ],
             [
              0.8888888888888888,
              "#fdca26"
             ],
             [
              1,
              "#f0f921"
             ]
            ],
            "type": "histogram2d"
           }
          ],
          "histogram2dcontour": [
           {
            "colorbar": {
             "outlinewidth": 0,
             "ticks": ""
            },
            "colorscale": [
             [
              0,
              "#0d0887"
             ],
             [
              0.1111111111111111,
              "#46039f"
             ],
             [
              0.2222222222222222,
              "#7201a8"
             ],
             [
              0.3333333333333333,
              "#9c179e"
             ],
             [
              0.4444444444444444,
              "#bd3786"
             ],
             [
              0.5555555555555556,
              "#d8576b"
             ],
             [
              0.6666666666666666,
              "#ed7953"
             ],
             [
              0.7777777777777778,
              "#fb9f3a"
             ],
             [
              0.8888888888888888,
              "#fdca26"
             ],
             [
              1,
              "#f0f921"
             ]
            ],
            "type": "histogram2dcontour"
           }
          ],
          "mesh3d": [
           {
            "colorbar": {
             "outlinewidth": 0,
             "ticks": ""
            },
            "type": "mesh3d"
           }
          ],
          "parcoords": [
           {
            "line": {
             "colorbar": {
              "outlinewidth": 0,
              "ticks": ""
             }
            },
            "type": "parcoords"
           }
          ],
          "pie": [
           {
            "automargin": true,
            "type": "pie"
           }
          ],
          "scatter": [
           {
            "marker": {
             "colorbar": {
              "outlinewidth": 0,
              "ticks": ""
             }
            },
            "type": "scatter"
           }
          ],
          "scatter3d": [
           {
            "line": {
             "colorbar": {
              "outlinewidth": 0,
              "ticks": ""
             }
            },
            "marker": {
             "colorbar": {
              "outlinewidth": 0,
              "ticks": ""
             }
            },
            "type": "scatter3d"
           }
          ],
          "scattercarpet": [
           {
            "marker": {
             "colorbar": {
              "outlinewidth": 0,
              "ticks": ""
             }
            },
            "type": "scattercarpet"
           }
          ],
          "scattergeo": [
           {
            "marker": {
             "colorbar": {
              "outlinewidth": 0,
              "ticks": ""
             }
            },
            "type": "scattergeo"
           }
          ],
          "scattergl": [
           {
            "marker": {
             "colorbar": {
              "outlinewidth": 0,
              "ticks": ""
             }
            },
            "type": "scattergl"
           }
          ],
          "scattermapbox": [
           {
            "marker": {
             "colorbar": {
              "outlinewidth": 0,
              "ticks": ""
             }
            },
            "type": "scattermapbox"
           }
          ],
          "scatterpolar": [
           {
            "marker": {
             "colorbar": {
              "outlinewidth": 0,
              "ticks": ""
             }
            },
            "type": "scatterpolar"
           }
          ],
          "scatterpolargl": [
           {
            "marker": {
             "colorbar": {
              "outlinewidth": 0,
              "ticks": ""
             }
            },
            "type": "scatterpolargl"
           }
          ],
          "scatterternary": [
           {
            "marker": {
             "colorbar": {
              "outlinewidth": 0,
              "ticks": ""
             }
            },
            "type": "scatterternary"
           }
          ],
          "surface": [
           {
            "colorbar": {
             "outlinewidth": 0,
             "ticks": ""
            },
            "colorscale": [
             [
              0,
              "#0d0887"
             ],
             [
              0.1111111111111111,
              "#46039f"
             ],
             [
              0.2222222222222222,
              "#7201a8"
             ],
             [
              0.3333333333333333,
              "#9c179e"
             ],
             [
              0.4444444444444444,
              "#bd3786"
             ],
             [
              0.5555555555555556,
              "#d8576b"
             ],
             [
              0.6666666666666666,
              "#ed7953"
             ],
             [
              0.7777777777777778,
              "#fb9f3a"
             ],
             [
              0.8888888888888888,
              "#fdca26"
             ],
             [
              1,
              "#f0f921"
             ]
            ],
            "type": "surface"
           }
          ],
          "table": [
           {
            "cells": {
             "fill": {
              "color": "#EBF0F8"
             },
             "line": {
              "color": "white"
             }
            },
            "header": {
             "fill": {
              "color": "#C8D4E3"
             },
             "line": {
              "color": "white"
             }
            },
            "type": "table"
           }
          ]
         },
         "layout": {
          "annotationdefaults": {
           "arrowcolor": "#2a3f5f",
           "arrowhead": 0,
           "arrowwidth": 1
          },
          "autotypenumbers": "strict",
          "coloraxis": {
           "colorbar": {
            "outlinewidth": 0,
            "ticks": ""
           }
          },
          "colorscale": {
           "diverging": [
            [
             0,
             "#8e0152"
            ],
            [
             0.1,
             "#c51b7d"
            ],
            [
             0.2,
             "#de77ae"
            ],
            [
             0.3,
             "#f1b6da"
            ],
            [
             0.4,
             "#fde0ef"
            ],
            [
             0.5,
             "#f7f7f7"
            ],
            [
             0.6,
             "#e6f5d0"
            ],
            [
             0.7,
             "#b8e186"
            ],
            [
             0.8,
             "#7fbc41"
            ],
            [
             0.9,
             "#4d9221"
            ],
            [
             1,
             "#276419"
            ]
           ],
           "sequential": [
            [
             0,
             "#0d0887"
            ],
            [
             0.1111111111111111,
             "#46039f"
            ],
            [
             0.2222222222222222,
             "#7201a8"
            ],
            [
             0.3333333333333333,
             "#9c179e"
            ],
            [
             0.4444444444444444,
             "#bd3786"
            ],
            [
             0.5555555555555556,
             "#d8576b"
            ],
            [
             0.6666666666666666,
             "#ed7953"
            ],
            [
             0.7777777777777778,
             "#fb9f3a"
            ],
            [
             0.8888888888888888,
             "#fdca26"
            ],
            [
             1,
             "#f0f921"
            ]
           ],
           "sequentialminus": [
            [
             0,
             "#0d0887"
            ],
            [
             0.1111111111111111,
             "#46039f"
            ],
            [
             0.2222222222222222,
             "#7201a8"
            ],
            [
             0.3333333333333333,
             "#9c179e"
            ],
            [
             0.4444444444444444,
             "#bd3786"
            ],
            [
             0.5555555555555556,
             "#d8576b"
            ],
            [
             0.6666666666666666,
             "#ed7953"
            ],
            [
             0.7777777777777778,
             "#fb9f3a"
            ],
            [
             0.8888888888888888,
             "#fdca26"
            ],
            [
             1,
             "#f0f921"
            ]
           ]
          },
          "colorway": [
           "#636efa",
           "#EF553B",
           "#00cc96",
           "#ab63fa",
           "#FFA15A",
           "#19d3f3",
           "#FF6692",
           "#B6E880",
           "#FF97FF",
           "#FECB52"
          ],
          "font": {
           "color": "#2a3f5f"
          },
          "geo": {
           "bgcolor": "white",
           "lakecolor": "white",
           "landcolor": "#E5ECF6",
           "showlakes": true,
           "showland": true,
           "subunitcolor": "white"
          },
          "hoverlabel": {
           "align": "left"
          },
          "hovermode": "closest",
          "mapbox": {
           "style": "light"
          },
          "paper_bgcolor": "white",
          "plot_bgcolor": "#E5ECF6",
          "polar": {
           "angularaxis": {
            "gridcolor": "white",
            "linecolor": "white",
            "ticks": ""
           },
           "bgcolor": "#E5ECF6",
           "radialaxis": {
            "gridcolor": "white",
            "linecolor": "white",
            "ticks": ""
           }
          },
          "scene": {
           "xaxis": {
            "backgroundcolor": "#E5ECF6",
            "gridcolor": "white",
            "gridwidth": 2,
            "linecolor": "white",
            "showbackground": true,
            "ticks": "",
            "zerolinecolor": "white"
           },
           "yaxis": {
            "backgroundcolor": "#E5ECF6",
            "gridcolor": "white",
            "gridwidth": 2,
            "linecolor": "white",
            "showbackground": true,
            "ticks": "",
            "zerolinecolor": "white"
           },
           "zaxis": {
            "backgroundcolor": "#E5ECF6",
            "gridcolor": "white",
            "gridwidth": 2,
            "linecolor": "white",
            "showbackground": true,
            "ticks": "",
            "zerolinecolor": "white"
           }
          },
          "shapedefaults": {
           "line": {
            "color": "#2a3f5f"
           }
          },
          "ternary": {
           "aaxis": {
            "gridcolor": "white",
            "linecolor": "white",
            "ticks": ""
           },
           "baxis": {
            "gridcolor": "white",
            "linecolor": "white",
            "ticks": ""
           },
           "bgcolor": "#E5ECF6",
           "caxis": {
            "gridcolor": "white",
            "linecolor": "white",
            "ticks": ""
           }
          },
          "title": {
           "x": 0.05
          },
          "xaxis": {
           "automargin": true,
           "gridcolor": "white",
           "linecolor": "white",
           "ticks": "",
           "title": {
            "standoff": 15
           },
           "zerolinecolor": "white",
           "zerolinewidth": 2
          },
          "yaxis": {
           "automargin": true,
           "gridcolor": "white",
           "linecolor": "white",
           "ticks": "",
           "title": {
            "standoff": 15
           },
           "zerolinecolor": "white",
           "zerolinewidth": 2
          }
         }
        },
        "title": {
         "text": "magic response separation (baseline 4ppm)"
        }
       }
      },
      "text/html": [
       "<div>                            <div id=\"0a65ddf1-0b8a-4111-8996-5acceac4b9b0\" class=\"plotly-graph-div\" style=\"height:525px; width:100%;\"></div>            <script type=\"text/javascript\">                require([\"plotly\"], function(Plotly) {                    window.PLOTLYENV=window.PLOTLYENV || {};                                    if (document.getElementById(\"0a65ddf1-0b8a-4111-8996-5acceac4b9b0\")) {                    Plotly.newPlot(                        \"0a65ddf1-0b8a-4111-8996-5acceac4b9b0\",                        [{\"name\": \"60ppm-4ppm\", \"text\": [308.0, 286.0, 277.0, 273.0, 250.0, 266.0], \"textposition\": \"auto\", \"type\": \"bar\", \"x\": [\"QC1\", \"QC2\", \"QC3\", \"QC4\", \"QC5\", \"QC6\"], \"y\": [308, 286, 277, 273, 250, 266]}, {\"name\": \"25ppm-4ppm\", \"text\": [156.0, 152.0, 156.0, 136.0, 136.0, 146.0], \"textposition\": \"auto\", \"type\": \"bar\", \"x\": [\"QC1\", \"QC2\", \"QC3\", \"QC4\", \"QC5\", \"QC6\"], \"y\": [156, 152, 156, 136, 136, 146]}, {\"name\": \"10ppm-4ppm\", \"text\": [50.0, 55.0, 65.0, 73.0, 51.0, 61.0], \"textposition\": \"auto\", \"type\": \"bar\", \"x\": [\"QC1\", \"QC2\", \"QC3\", \"QC4\", \"QC5\", \"QC6\"], \"y\": [50, 55, 65, 73, 51, 61]}],                        {\"template\": {\"data\": {\"bar\": [{\"error_x\": {\"color\": \"#2a3f5f\"}, \"error_y\": {\"color\": \"#2a3f5f\"}, \"marker\": {\"line\": {\"color\": \"#E5ECF6\", \"width\": 0.5}}, \"type\": \"bar\"}], \"barpolar\": [{\"marker\": {\"line\": {\"color\": \"#E5ECF6\", \"width\": 0.5}}, \"type\": \"barpolar\"}], \"carpet\": [{\"aaxis\": {\"endlinecolor\": \"#2a3f5f\", \"gridcolor\": \"white\", \"linecolor\": \"white\", \"minorgridcolor\": \"white\", \"startlinecolor\": \"#2a3f5f\"}, \"baxis\": {\"endlinecolor\": \"#2a3f5f\", \"gridcolor\": \"white\", \"linecolor\": \"white\", \"minorgridcolor\": \"white\", \"startlinecolor\": \"#2a3f5f\"}, \"type\": \"carpet\"}], \"choropleth\": [{\"colorbar\": {\"outlinewidth\": 0, \"ticks\": \"\"}, \"type\": \"choropleth\"}], \"contour\": [{\"colorbar\": {\"outlinewidth\": 0, \"ticks\": \"\"}, \"colorscale\": [[0.0, \"#0d0887\"], [0.1111111111111111, \"#46039f\"], [0.2222222222222222, \"#7201a8\"], [0.3333333333333333, \"#9c179e\"], [0.4444444444444444, \"#bd3786\"], [0.5555555555555556, \"#d8576b\"], [0.6666666666666666, \"#ed7953\"], [0.7777777777777778, \"#fb9f3a\"], [0.8888888888888888, \"#fdca26\"], [1.0, \"#f0f921\"]], \"type\": \"contour\"}], \"contourcarpet\": [{\"colorbar\": {\"outlinewidth\": 0, \"ticks\": \"\"}, \"type\": \"contourcarpet\"}], \"heatmap\": [{\"colorbar\": {\"outlinewidth\": 0, \"ticks\": \"\"}, \"colorscale\": [[0.0, \"#0d0887\"], [0.1111111111111111, \"#46039f\"], [0.2222222222222222, \"#7201a8\"], [0.3333333333333333, \"#9c179e\"], [0.4444444444444444, \"#bd3786\"], [0.5555555555555556, \"#d8576b\"], [0.6666666666666666, \"#ed7953\"], [0.7777777777777778, \"#fb9f3a\"], [0.8888888888888888, \"#fdca26\"], [1.0, \"#f0f921\"]], \"type\": \"heatmap\"}], \"heatmapgl\": [{\"colorbar\": {\"outlinewidth\": 0, \"ticks\": \"\"}, \"colorscale\": [[0.0, \"#0d0887\"], [0.1111111111111111, \"#46039f\"], [0.2222222222222222, \"#7201a8\"], [0.3333333333333333, \"#9c179e\"], [0.4444444444444444, \"#bd3786\"], [0.5555555555555556, \"#d8576b\"], [0.6666666666666666, \"#ed7953\"], [0.7777777777777778, \"#fb9f3a\"], [0.8888888888888888, \"#fdca26\"], [1.0, \"#f0f921\"]], \"type\": \"heatmapgl\"}], \"histogram\": [{\"marker\": {\"colorbar\": {\"outlinewidth\": 0, \"ticks\": \"\"}}, \"type\": \"histogram\"}], \"histogram2d\": [{\"colorbar\": {\"outlinewidth\": 0, \"ticks\": \"\"}, \"colorscale\": [[0.0, \"#0d0887\"], [0.1111111111111111, \"#46039f\"], [0.2222222222222222, \"#7201a8\"], [0.3333333333333333, \"#9c179e\"], [0.4444444444444444, \"#bd3786\"], [0.5555555555555556, \"#d8576b\"], [0.6666666666666666, \"#ed7953\"], [0.7777777777777778, \"#fb9f3a\"], [0.8888888888888888, \"#fdca26\"], [1.0, \"#f0f921\"]], \"type\": \"histogram2d\"}], \"histogram2dcontour\": [{\"colorbar\": {\"outlinewidth\": 0, \"ticks\": \"\"}, \"colorscale\": [[0.0, \"#0d0887\"], [0.1111111111111111, \"#46039f\"], [0.2222222222222222, \"#7201a8\"], [0.3333333333333333, \"#9c179e\"], [0.4444444444444444, \"#bd3786\"], [0.5555555555555556, \"#d8576b\"], [0.6666666666666666, \"#ed7953\"], [0.7777777777777778, \"#fb9f3a\"], [0.8888888888888888, \"#fdca26\"], [1.0, \"#f0f921\"]], \"type\": \"histogram2dcontour\"}], \"mesh3d\": [{\"colorbar\": {\"outlinewidth\": 0, \"ticks\": \"\"}, \"type\": \"mesh3d\"}], \"parcoords\": [{\"line\": {\"colorbar\": {\"outlinewidth\": 0, \"ticks\": \"\"}}, \"type\": \"parcoords\"}], \"pie\": [{\"automargin\": true, \"type\": \"pie\"}], \"scatter\": [{\"marker\": {\"colorbar\": {\"outlinewidth\": 0, \"ticks\": \"\"}}, \"type\": \"scatter\"}], \"scatter3d\": [{\"line\": {\"colorbar\": {\"outlinewidth\": 0, \"ticks\": \"\"}}, \"marker\": {\"colorbar\": {\"outlinewidth\": 0, \"ticks\": \"\"}}, \"type\": \"scatter3d\"}], \"scattercarpet\": [{\"marker\": {\"colorbar\": {\"outlinewidth\": 0, \"ticks\": \"\"}}, \"type\": \"scattercarpet\"}], \"scattergeo\": [{\"marker\": {\"colorbar\": {\"outlinewidth\": 0, \"ticks\": \"\"}}, \"type\": \"scattergeo\"}], \"scattergl\": [{\"marker\": {\"colorbar\": {\"outlinewidth\": 0, \"ticks\": \"\"}}, \"type\": \"scattergl\"}], \"scattermapbox\": [{\"marker\": {\"colorbar\": {\"outlinewidth\": 0, \"ticks\": \"\"}}, \"type\": \"scattermapbox\"}], \"scatterpolar\": [{\"marker\": {\"colorbar\": {\"outlinewidth\": 0, \"ticks\": \"\"}}, \"type\": \"scatterpolar\"}], \"scatterpolargl\": [{\"marker\": {\"colorbar\": {\"outlinewidth\": 0, \"ticks\": \"\"}}, \"type\": \"scatterpolargl\"}], \"scatterternary\": [{\"marker\": {\"colorbar\": {\"outlinewidth\": 0, \"ticks\": \"\"}}, \"type\": \"scatterternary\"}], \"surface\": [{\"colorbar\": {\"outlinewidth\": 0, \"ticks\": \"\"}, \"colorscale\": [[0.0, \"#0d0887\"], [0.1111111111111111, \"#46039f\"], [0.2222222222222222, \"#7201a8\"], [0.3333333333333333, \"#9c179e\"], [0.4444444444444444, \"#bd3786\"], [0.5555555555555556, \"#d8576b\"], [0.6666666666666666, \"#ed7953\"], [0.7777777777777778, \"#fb9f3a\"], [0.8888888888888888, \"#fdca26\"], [1.0, \"#f0f921\"]], \"type\": \"surface\"}], \"table\": [{\"cells\": {\"fill\": {\"color\": \"#EBF0F8\"}, \"line\": {\"color\": \"white\"}}, \"header\": {\"fill\": {\"color\": \"#C8D4E3\"}, \"line\": {\"color\": \"white\"}}, \"type\": \"table\"}]}, \"layout\": {\"annotationdefaults\": {\"arrowcolor\": \"#2a3f5f\", \"arrowhead\": 0, \"arrowwidth\": 1}, \"autotypenumbers\": \"strict\", \"coloraxis\": {\"colorbar\": {\"outlinewidth\": 0, \"ticks\": \"\"}}, \"colorscale\": {\"diverging\": [[0, \"#8e0152\"], [0.1, \"#c51b7d\"], [0.2, \"#de77ae\"], [0.3, \"#f1b6da\"], [0.4, \"#fde0ef\"], [0.5, \"#f7f7f7\"], [0.6, \"#e6f5d0\"], [0.7, \"#b8e186\"], [0.8, \"#7fbc41\"], [0.9, \"#4d9221\"], [1, \"#276419\"]], \"sequential\": [[0.0, \"#0d0887\"], [0.1111111111111111, \"#46039f\"], [0.2222222222222222, \"#7201a8\"], [0.3333333333333333, \"#9c179e\"], [0.4444444444444444, \"#bd3786\"], [0.5555555555555556, \"#d8576b\"], [0.6666666666666666, \"#ed7953\"], [0.7777777777777778, \"#fb9f3a\"], [0.8888888888888888, \"#fdca26\"], [1.0, \"#f0f921\"]], \"sequentialminus\": [[0.0, \"#0d0887\"], [0.1111111111111111, \"#46039f\"], [0.2222222222222222, \"#7201a8\"], [0.3333333333333333, \"#9c179e\"], [0.4444444444444444, \"#bd3786\"], [0.5555555555555556, \"#d8576b\"], [0.6666666666666666, \"#ed7953\"], [0.7777777777777778, \"#fb9f3a\"], [0.8888888888888888, \"#fdca26\"], [1.0, \"#f0f921\"]]}, \"colorway\": [\"#636efa\", \"#EF553B\", \"#00cc96\", \"#ab63fa\", \"#FFA15A\", \"#19d3f3\", \"#FF6692\", \"#B6E880\", \"#FF97FF\", \"#FECB52\"], \"font\": {\"color\": \"#2a3f5f\"}, \"geo\": {\"bgcolor\": \"white\", \"lakecolor\": \"white\", \"landcolor\": \"#E5ECF6\", \"showlakes\": true, \"showland\": true, \"subunitcolor\": \"white\"}, \"hoverlabel\": {\"align\": \"left\"}, \"hovermode\": \"closest\", \"mapbox\": {\"style\": \"light\"}, \"paper_bgcolor\": \"white\", \"plot_bgcolor\": \"#E5ECF6\", \"polar\": {\"angularaxis\": {\"gridcolor\": \"white\", \"linecolor\": \"white\", \"ticks\": \"\"}, \"bgcolor\": \"#E5ECF6\", \"radialaxis\": {\"gridcolor\": \"white\", \"linecolor\": \"white\", \"ticks\": \"\"}}, \"scene\": {\"xaxis\": {\"backgroundcolor\": \"#E5ECF6\", \"gridcolor\": \"white\", \"gridwidth\": 2, \"linecolor\": \"white\", \"showbackground\": true, \"ticks\": \"\", \"zerolinecolor\": \"white\"}, \"yaxis\": {\"backgroundcolor\": \"#E5ECF6\", \"gridcolor\": \"white\", \"gridwidth\": 2, \"linecolor\": \"white\", \"showbackground\": true, \"ticks\": \"\", \"zerolinecolor\": \"white\"}, \"zaxis\": {\"backgroundcolor\": \"#E5ECF6\", \"gridcolor\": \"white\", \"gridwidth\": 2, \"linecolor\": \"white\", \"showbackground\": true, \"ticks\": \"\", \"zerolinecolor\": \"white\"}}, \"shapedefaults\": {\"line\": {\"color\": \"#2a3f5f\"}}, \"ternary\": {\"aaxis\": {\"gridcolor\": \"white\", \"linecolor\": \"white\", \"ticks\": \"\"}, \"baxis\": {\"gridcolor\": \"white\", \"linecolor\": \"white\", \"ticks\": \"\"}, \"bgcolor\": \"#E5ECF6\", \"caxis\": {\"gridcolor\": \"white\", \"linecolor\": \"white\", \"ticks\": \"\"}}, \"title\": {\"x\": 0.05}, \"xaxis\": {\"automargin\": true, \"gridcolor\": \"white\", \"linecolor\": \"white\", \"ticks\": \"\", \"title\": {\"standoff\": 15}, \"zerolinecolor\": \"white\", \"zerolinewidth\": 2}, \"yaxis\": {\"automargin\": true, \"gridcolor\": \"white\", \"linecolor\": \"white\", \"ticks\": \"\", \"title\": {\"standoff\": 15}, \"zerolinecolor\": \"white\", \"zerolinewidth\": 2}}}, \"title\": {\"text\": \"magic response separation (baseline 4ppm)\"}},                        {\"responsive\": true}                    ).then(function(){\n",
       "                            \n",
       "var gd = document.getElementById('0a65ddf1-0b8a-4111-8996-5acceac4b9b0');\n",
       "var x = new MutationObserver(function (mutations, observer) {{\n",
       "        var display = window.getComputedStyle(gd).display;\n",
       "        if (!display || display === 'none') {{\n",
       "            console.log([gd, 'removed!']);\n",
       "            Plotly.purge(gd);\n",
       "            observer.disconnect();\n",
       "        }}\n",
       "}});\n",
       "\n",
       "// Listen for the removal of the full notebook cells\n",
       "var notebookContainer = gd.closest('#notebook-container');\n",
       "if (notebookContainer) {{\n",
       "    x.observe(notebookContainer, {childList: true});\n",
       "}}\n",
       "\n",
       "// Listen for the clearing of the current output cell\n",
       "var outputEl = gd.closest('.output');\n",
       "if (outputEl) {{\n",
       "    x.observe(outputEl, {childList: true});\n",
       "}}\n",
       "\n",
       "                        })                };                });            </script>        </div>"
      ]
     },
     "metadata": {},
     "output_type": "display_data"
    }
   ],
   "source": [
    "save_figure = True\n",
    "QC_channel = 'magic'\n",
    "selected_range = { 'cycle 1':(15, 25, 35, 45)}\n",
    "\n",
    "diff_list = []\n",
    "for i,j in enumerate(test_data_list):\n",
    "    diff = []\n",
    "    a,b,c,d = selected_range.get('cycle 1')\n",
    "    diff_a = j.loc[a, QC_channel]-j.loc[d, QC_channel]\n",
    "    diff.append(abs(diff_a))\n",
    "    diff_b = j.loc[b, QC_channel]-j.loc[d, QC_channel]\n",
    "    diff.append(abs(diff_b))\n",
    "    diff_c = j.loc[c, QC_channel]-j.loc[d, QC_channel]\n",
    "    diff.append(abs(diff_c))\n",
    "    diff_list.append(diff)\n",
    "index = ['QC{}'.format(i+1) for i in range(0, len(test_data_list))]\n",
    "by_diff = pd.DataFrame(diff_list, columns=['60ppm-4ppm','25ppm-4ppm','10ppm-4ppm'], index=index)\n",
    "\n",
    "plot_data = []\n",
    "trace = go.Bar(x=by_diff.index, y=by_diff.loc[:,'60ppm-4ppm'], name='60ppm-4ppm', text=by_diff.loc[:,'60ppm-4ppm'], textposition='auto')\n",
    "plot_data.append(trace)\n",
    "trace = go.Bar(x=by_diff.index, y=by_diff.loc[:,'25ppm-4ppm'], name='25ppm-4ppm', text=by_diff.loc[:,'25ppm-4ppm'], textposition='auto')\n",
    "plot_data.append(trace)\n",
    "trace = go.Bar(x=by_diff.index, y=by_diff.loc[:,'10ppm-4ppm'], name='10ppm-4ppm', text=by_diff.loc[:,'10ppm-4ppm'], textposition='auto')\n",
    "plot_data.append(trace)\n",
    "layout = go.Layout(title='{} response separation (baseline 4ppm)'.format(QC_channel))\n",
    "fig = go.Figure(data=plot_data, layout=layout)\n",
    "fig.update_layout()\n",
    "fig.show()\n",
    "\n",
    "if save_figure == True:\n",
    "    # save figure\n",
    "    savePath = os.path.join(os.getcwd(), folder_name)\n",
    "    filename = '{} response separation (baseline 4ppm)'.format(QC_channel)\n",
    "    fig.write_image(savePath + '/' + filename + '.jpeg', width=1280, height=720)"
   ]
  },
  {
   "cell_type": "code",
   "execution_count": 181,
   "metadata": {},
   "outputs": [
    {
     "data": {
      "application/vnd.plotly.v1+json": {
       "config": {
        "plotlyServerURL": "https://plot.ly"
       },
       "data": [
        {
         "name": "drift_670nm #1",
         "textfont": {
          "size": 14
         },
         "textposition": "top center",
         "type": "scatter",
         "x": [
          "QC1",
          "QC2",
          "QC3",
          "QC4",
          "QC5",
          "QC6"
         ],
         "y": [
          0.9935308743510944,
          0.9883809051915833,
          0.9875705620412922,
          0.985640868362896,
          0.9831128530666514,
          0.9807287561008512
         ]
        },
        {
         "name": "drift_magic",
         "textfont": {
          "size": 14
         },
         "textposition": "top center",
         "type": "scatter",
         "x": [
          "QC1",
          "QC2",
          "QC3",
          "QC4",
          "QC5",
          "QC6"
         ],
         "y": [
          0.9931138562869325,
          0.9861383071788363,
          0.9844958048287628,
          0.9824179872597059,
          0.9782296376956405,
          0.9763719570952274
         ]
        },
        {
         "name": "parameter",
         "textfont": {
          "size": 14
         },
         "textposition": "top center",
         "type": "scatter",
         "x": [
          "QC1",
          "QC2",
          "QC3",
          "QC4",
          "QC5",
          "QC6"
         ],
         "y": [
          1.0004199096221666,
          1.00227412118201,
          1.0031231795985807,
          1.0032805599500267,
          1.0049918906388013,
          1.004462232834488
         ]
        }
       ],
       "layout": {
        "template": {
         "data": {
          "bar": [
           {
            "error_x": {
             "color": "#2a3f5f"
            },
            "error_y": {
             "color": "#2a3f5f"
            },
            "marker": {
             "line": {
              "color": "#E5ECF6",
              "width": 0.5
             }
            },
            "type": "bar"
           }
          ],
          "barpolar": [
           {
            "marker": {
             "line": {
              "color": "#E5ECF6",
              "width": 0.5
             }
            },
            "type": "barpolar"
           }
          ],
          "carpet": [
           {
            "aaxis": {
             "endlinecolor": "#2a3f5f",
             "gridcolor": "white",
             "linecolor": "white",
             "minorgridcolor": "white",
             "startlinecolor": "#2a3f5f"
            },
            "baxis": {
             "endlinecolor": "#2a3f5f",
             "gridcolor": "white",
             "linecolor": "white",
             "minorgridcolor": "white",
             "startlinecolor": "#2a3f5f"
            },
            "type": "carpet"
           }
          ],
          "choropleth": [
           {
            "colorbar": {
             "outlinewidth": 0,
             "ticks": ""
            },
            "type": "choropleth"
           }
          ],
          "contour": [
           {
            "colorbar": {
             "outlinewidth": 0,
             "ticks": ""
            },
            "colorscale": [
             [
              0,
              "#0d0887"
             ],
             [
              0.1111111111111111,
              "#46039f"
             ],
             [
              0.2222222222222222,
              "#7201a8"
             ],
             [
              0.3333333333333333,
              "#9c179e"
             ],
             [
              0.4444444444444444,
              "#bd3786"
             ],
             [
              0.5555555555555556,
              "#d8576b"
             ],
             [
              0.6666666666666666,
              "#ed7953"
             ],
             [
              0.7777777777777778,
              "#fb9f3a"
             ],
             [
              0.8888888888888888,
              "#fdca26"
             ],
             [
              1,
              "#f0f921"
             ]
            ],
            "type": "contour"
           }
          ],
          "contourcarpet": [
           {
            "colorbar": {
             "outlinewidth": 0,
             "ticks": ""
            },
            "type": "contourcarpet"
           }
          ],
          "heatmap": [
           {
            "colorbar": {
             "outlinewidth": 0,
             "ticks": ""
            },
            "colorscale": [
             [
              0,
              "#0d0887"
             ],
             [
              0.1111111111111111,
              "#46039f"
             ],
             [
              0.2222222222222222,
              "#7201a8"
             ],
             [
              0.3333333333333333,
              "#9c179e"
             ],
             [
              0.4444444444444444,
              "#bd3786"
             ],
             [
              0.5555555555555556,
              "#d8576b"
             ],
             [
              0.6666666666666666,
              "#ed7953"
             ],
             [
              0.7777777777777778,
              "#fb9f3a"
             ],
             [
              0.8888888888888888,
              "#fdca26"
             ],
             [
              1,
              "#f0f921"
             ]
            ],
            "type": "heatmap"
           }
          ],
          "heatmapgl": [
           {
            "colorbar": {
             "outlinewidth": 0,
             "ticks": ""
            },
            "colorscale": [
             [
              0,
              "#0d0887"
             ],
             [
              0.1111111111111111,
              "#46039f"
             ],
             [
              0.2222222222222222,
              "#7201a8"
             ],
             [
              0.3333333333333333,
              "#9c179e"
             ],
             [
              0.4444444444444444,
              "#bd3786"
             ],
             [
              0.5555555555555556,
              "#d8576b"
             ],
             [
              0.6666666666666666,
              "#ed7953"
             ],
             [
              0.7777777777777778,
              "#fb9f3a"
             ],
             [
              0.8888888888888888,
              "#fdca26"
             ],
             [
              1,
              "#f0f921"
             ]
            ],
            "type": "heatmapgl"
           }
          ],
          "histogram": [
           {
            "marker": {
             "colorbar": {
              "outlinewidth": 0,
              "ticks": ""
             }
            },
            "type": "histogram"
           }
          ],
          "histogram2d": [
           {
            "colorbar": {
             "outlinewidth": 0,
             "ticks": ""
            },
            "colorscale": [
             [
              0,
              "#0d0887"
             ],
             [
              0.1111111111111111,
              "#46039f"
             ],
             [
              0.2222222222222222,
              "#7201a8"
             ],
             [
              0.3333333333333333,
              "#9c179e"
             ],
             [
              0.4444444444444444,
              "#bd3786"
             ],
             [
              0.5555555555555556,
              "#d8576b"
             ],
             [
              0.6666666666666666,
              "#ed7953"
             ],
             [
              0.7777777777777778,
              "#fb9f3a"
             ],
             [
              0.8888888888888888,
              "#fdca26"
             ],
             [
              1,
              "#f0f921"
             ]
            ],
            "type": "histogram2d"
           }
          ],
          "histogram2dcontour": [
           {
            "colorbar": {
             "outlinewidth": 0,
             "ticks": ""
            },
            "colorscale": [
             [
              0,
              "#0d0887"
             ],
             [
              0.1111111111111111,
              "#46039f"
             ],
             [
              0.2222222222222222,
              "#7201a8"
             ],
             [
              0.3333333333333333,
              "#9c179e"
             ],
             [
              0.4444444444444444,
              "#bd3786"
             ],
             [
              0.5555555555555556,
              "#d8576b"
             ],
             [
              0.6666666666666666,
              "#ed7953"
             ],
             [
              0.7777777777777778,
              "#fb9f3a"
             ],
             [
              0.8888888888888888,
              "#fdca26"
             ],
             [
              1,
              "#f0f921"
             ]
            ],
            "type": "histogram2dcontour"
           }
          ],
          "mesh3d": [
           {
            "colorbar": {
             "outlinewidth": 0,
             "ticks": ""
            },
            "type": "mesh3d"
           }
          ],
          "parcoords": [
           {
            "line": {
             "colorbar": {
              "outlinewidth": 0,
              "ticks": ""
             }
            },
            "type": "parcoords"
           }
          ],
          "pie": [
           {
            "automargin": true,
            "type": "pie"
           }
          ],
          "scatter": [
           {
            "marker": {
             "colorbar": {
              "outlinewidth": 0,
              "ticks": ""
             }
            },
            "type": "scatter"
           }
          ],
          "scatter3d": [
           {
            "line": {
             "colorbar": {
              "outlinewidth": 0,
              "ticks": ""
             }
            },
            "marker": {
             "colorbar": {
              "outlinewidth": 0,
              "ticks": ""
             }
            },
            "type": "scatter3d"
           }
          ],
          "scattercarpet": [
           {
            "marker": {
             "colorbar": {
              "outlinewidth": 0,
              "ticks": ""
             }
            },
            "type": "scattercarpet"
           }
          ],
          "scattergeo": [
           {
            "marker": {
             "colorbar": {
              "outlinewidth": 0,
              "ticks": ""
             }
            },
            "type": "scattergeo"
           }
          ],
          "scattergl": [
           {
            "marker": {
             "colorbar": {
              "outlinewidth": 0,
              "ticks": ""
             }
            },
            "type": "scattergl"
           }
          ],
          "scattermapbox": [
           {
            "marker": {
             "colorbar": {
              "outlinewidth": 0,
              "ticks": ""
             }
            },
            "type": "scattermapbox"
           }
          ],
          "scatterpolar": [
           {
            "marker": {
             "colorbar": {
              "outlinewidth": 0,
              "ticks": ""
             }
            },
            "type": "scatterpolar"
           }
          ],
          "scatterpolargl": [
           {
            "marker": {
             "colorbar": {
              "outlinewidth": 0,
              "ticks": ""
             }
            },
            "type": "scatterpolargl"
           }
          ],
          "scatterternary": [
           {
            "marker": {
             "colorbar": {
              "outlinewidth": 0,
              "ticks": ""
             }
            },
            "type": "scatterternary"
           }
          ],
          "surface": [
           {
            "colorbar": {
             "outlinewidth": 0,
             "ticks": ""
            },
            "colorscale": [
             [
              0,
              "#0d0887"
             ],
             [
              0.1111111111111111,
              "#46039f"
             ],
             [
              0.2222222222222222,
              "#7201a8"
             ],
             [
              0.3333333333333333,
              "#9c179e"
             ],
             [
              0.4444444444444444,
              "#bd3786"
             ],
             [
              0.5555555555555556,
              "#d8576b"
             ],
             [
              0.6666666666666666,
              "#ed7953"
             ],
             [
              0.7777777777777778,
              "#fb9f3a"
             ],
             [
              0.8888888888888888,
              "#fdca26"
             ],
             [
              1,
              "#f0f921"
             ]
            ],
            "type": "surface"
           }
          ],
          "table": [
           {
            "cells": {
             "fill": {
              "color": "#EBF0F8"
             },
             "line": {
              "color": "white"
             }
            },
            "header": {
             "fill": {
              "color": "#C8D4E3"
             },
             "line": {
              "color": "white"
             }
            },
            "type": "table"
           }
          ]
         },
         "layout": {
          "annotationdefaults": {
           "arrowcolor": "#2a3f5f",
           "arrowhead": 0,
           "arrowwidth": 1
          },
          "autotypenumbers": "strict",
          "coloraxis": {
           "colorbar": {
            "outlinewidth": 0,
            "ticks": ""
           }
          },
          "colorscale": {
           "diverging": [
            [
             0,
             "#8e0152"
            ],
            [
             0.1,
             "#c51b7d"
            ],
            [
             0.2,
             "#de77ae"
            ],
            [
             0.3,
             "#f1b6da"
            ],
            [
             0.4,
             "#fde0ef"
            ],
            [
             0.5,
             "#f7f7f7"
            ],
            [
             0.6,
             "#e6f5d0"
            ],
            [
             0.7,
             "#b8e186"
            ],
            [
             0.8,
             "#7fbc41"
            ],
            [
             0.9,
             "#4d9221"
            ],
            [
             1,
             "#276419"
            ]
           ],
           "sequential": [
            [
             0,
             "#0d0887"
            ],
            [
             0.1111111111111111,
             "#46039f"
            ],
            [
             0.2222222222222222,
             "#7201a8"
            ],
            [
             0.3333333333333333,
             "#9c179e"
            ],
            [
             0.4444444444444444,
             "#bd3786"
            ],
            [
             0.5555555555555556,
             "#d8576b"
            ],
            [
             0.6666666666666666,
             "#ed7953"
            ],
            [
             0.7777777777777778,
             "#fb9f3a"
            ],
            [
             0.8888888888888888,
             "#fdca26"
            ],
            [
             1,
             "#f0f921"
            ]
           ],
           "sequentialminus": [
            [
             0,
             "#0d0887"
            ],
            [
             0.1111111111111111,
             "#46039f"
            ],
            [
             0.2222222222222222,
             "#7201a8"
            ],
            [
             0.3333333333333333,
             "#9c179e"
            ],
            [
             0.4444444444444444,
             "#bd3786"
            ],
            [
             0.5555555555555556,
             "#d8576b"
            ],
            [
             0.6666666666666666,
             "#ed7953"
            ],
            [
             0.7777777777777778,
             "#fb9f3a"
            ],
            [
             0.8888888888888888,
             "#fdca26"
            ],
            [
             1,
             "#f0f921"
            ]
           ]
          },
          "colorway": [
           "#636efa",
           "#EF553B",
           "#00cc96",
           "#ab63fa",
           "#FFA15A",
           "#19d3f3",
           "#FF6692",
           "#B6E880",
           "#FF97FF",
           "#FECB52"
          ],
          "font": {
           "color": "#2a3f5f"
          },
          "geo": {
           "bgcolor": "white",
           "lakecolor": "white",
           "landcolor": "#E5ECF6",
           "showlakes": true,
           "showland": true,
           "subunitcolor": "white"
          },
          "hoverlabel": {
           "align": "left"
          },
          "hovermode": "closest",
          "mapbox": {
           "style": "light"
          },
          "paper_bgcolor": "white",
          "plot_bgcolor": "#E5ECF6",
          "polar": {
           "angularaxis": {
            "gridcolor": "white",
            "linecolor": "white",
            "ticks": ""
           },
           "bgcolor": "#E5ECF6",
           "radialaxis": {
            "gridcolor": "white",
            "linecolor": "white",
            "ticks": ""
           }
          },
          "scene": {
           "xaxis": {
            "backgroundcolor": "#E5ECF6",
            "gridcolor": "white",
            "gridwidth": 2,
            "linecolor": "white",
            "showbackground": true,
            "ticks": "",
            "zerolinecolor": "white"
           },
           "yaxis": {
            "backgroundcolor": "#E5ECF6",
            "gridcolor": "white",
            "gridwidth": 2,
            "linecolor": "white",
            "showbackground": true,
            "ticks": "",
            "zerolinecolor": "white"
           },
           "zaxis": {
            "backgroundcolor": "#E5ECF6",
            "gridcolor": "white",
            "gridwidth": 2,
            "linecolor": "white",
            "showbackground": true,
            "ticks": "",
            "zerolinecolor": "white"
           }
          },
          "shapedefaults": {
           "line": {
            "color": "#2a3f5f"
           }
          },
          "ternary": {
           "aaxis": {
            "gridcolor": "white",
            "linecolor": "white",
            "ticks": ""
           },
           "baxis": {
            "gridcolor": "white",
            "linecolor": "white",
            "ticks": ""
           },
           "bgcolor": "#E5ECF6",
           "caxis": {
            "gridcolor": "white",
            "linecolor": "white",
            "ticks": ""
           }
          },
          "title": {
           "x": 0.05
          },
          "xaxis": {
           "automargin": true,
           "gridcolor": "white",
           "linecolor": "white",
           "ticks": "",
           "title": {
            "standoff": 15
           },
           "zerolinecolor": "white",
           "zerolinewidth": 2
          },
          "yaxis": {
           "automargin": true,
           "gridcolor": "white",
           "linecolor": "white",
           "ticks": "",
           "title": {
            "standoff": 15
           },
           "zerolinecolor": "white",
           "zerolinewidth": 2
          }
         }
        },
        "title": {
         "text": "Drifting ratio and parameter"
        }
       }
      },
      "text/html": [
       "<div>                            <div id=\"a65bd052-05a7-4631-88ed-435730cd78d2\" class=\"plotly-graph-div\" style=\"height:525px; width:100%;\"></div>            <script type=\"text/javascript\">                require([\"plotly\"], function(Plotly) {                    window.PLOTLYENV=window.PLOTLYENV || {};                                    if (document.getElementById(\"a65bd052-05a7-4631-88ed-435730cd78d2\")) {                    Plotly.newPlot(                        \"a65bd052-05a7-4631-88ed-435730cd78d2\",                        [{\"name\": \"drift_670nm #1\", \"textfont\": {\"size\": 14}, \"textposition\": \"top center\", \"type\": \"scatter\", \"x\": [\"QC1\", \"QC2\", \"QC3\", \"QC4\", \"QC5\", \"QC6\"], \"y\": [0.9935308743510944, 0.9883809051915833, 0.9875705620412922, 0.985640868362896, 0.9831128530666514, 0.9807287561008512]}, {\"name\": \"drift_magic\", \"textfont\": {\"size\": 14}, \"textposition\": \"top center\", \"type\": \"scatter\", \"x\": [\"QC1\", \"QC2\", \"QC3\", \"QC4\", \"QC5\", \"QC6\"], \"y\": [0.9931138562869325, 0.9861383071788363, 0.9844958048287628, 0.9824179872597059, 0.9782296376956405, 0.9763719570952274]}, {\"name\": \"parameter\", \"textfont\": {\"size\": 14}, \"textposition\": \"top center\", \"type\": \"scatter\", \"x\": [\"QC1\", \"QC2\", \"QC3\", \"QC4\", \"QC5\", \"QC6\"], \"y\": [1.0004199096221666, 1.00227412118201, 1.0031231795985807, 1.0032805599500267, 1.0049918906388013, 1.004462232834488]}],                        {\"template\": {\"data\": {\"bar\": [{\"error_x\": {\"color\": \"#2a3f5f\"}, \"error_y\": {\"color\": \"#2a3f5f\"}, \"marker\": {\"line\": {\"color\": \"#E5ECF6\", \"width\": 0.5}}, \"type\": \"bar\"}], \"barpolar\": [{\"marker\": {\"line\": {\"color\": \"#E5ECF6\", \"width\": 0.5}}, \"type\": \"barpolar\"}], \"carpet\": [{\"aaxis\": {\"endlinecolor\": \"#2a3f5f\", \"gridcolor\": \"white\", \"linecolor\": \"white\", \"minorgridcolor\": \"white\", \"startlinecolor\": \"#2a3f5f\"}, \"baxis\": {\"endlinecolor\": \"#2a3f5f\", \"gridcolor\": \"white\", \"linecolor\": \"white\", \"minorgridcolor\": \"white\", \"startlinecolor\": \"#2a3f5f\"}, \"type\": \"carpet\"}], \"choropleth\": [{\"colorbar\": {\"outlinewidth\": 0, \"ticks\": \"\"}, \"type\": \"choropleth\"}], \"contour\": [{\"colorbar\": {\"outlinewidth\": 0, \"ticks\": \"\"}, \"colorscale\": [[0.0, \"#0d0887\"], [0.1111111111111111, \"#46039f\"], [0.2222222222222222, \"#7201a8\"], [0.3333333333333333, \"#9c179e\"], [0.4444444444444444, \"#bd3786\"], [0.5555555555555556, \"#d8576b\"], [0.6666666666666666, \"#ed7953\"], [0.7777777777777778, \"#fb9f3a\"], [0.8888888888888888, \"#fdca26\"], [1.0, \"#f0f921\"]], \"type\": \"contour\"}], \"contourcarpet\": [{\"colorbar\": {\"outlinewidth\": 0, \"ticks\": \"\"}, \"type\": \"contourcarpet\"}], \"heatmap\": [{\"colorbar\": {\"outlinewidth\": 0, \"ticks\": \"\"}, \"colorscale\": [[0.0, \"#0d0887\"], [0.1111111111111111, \"#46039f\"], [0.2222222222222222, \"#7201a8\"], [0.3333333333333333, \"#9c179e\"], [0.4444444444444444, \"#bd3786\"], [0.5555555555555556, \"#d8576b\"], [0.6666666666666666, \"#ed7953\"], [0.7777777777777778, \"#fb9f3a\"], [0.8888888888888888, \"#fdca26\"], [1.0, \"#f0f921\"]], \"type\": \"heatmap\"}], \"heatmapgl\": [{\"colorbar\": {\"outlinewidth\": 0, \"ticks\": \"\"}, \"colorscale\": [[0.0, \"#0d0887\"], [0.1111111111111111, \"#46039f\"], [0.2222222222222222, \"#7201a8\"], [0.3333333333333333, \"#9c179e\"], [0.4444444444444444, \"#bd3786\"], [0.5555555555555556, \"#d8576b\"], [0.6666666666666666, \"#ed7953\"], [0.7777777777777778, \"#fb9f3a\"], [0.8888888888888888, \"#fdca26\"], [1.0, \"#f0f921\"]], \"type\": \"heatmapgl\"}], \"histogram\": [{\"marker\": {\"colorbar\": {\"outlinewidth\": 0, \"ticks\": \"\"}}, \"type\": \"histogram\"}], \"histogram2d\": [{\"colorbar\": {\"outlinewidth\": 0, \"ticks\": \"\"}, \"colorscale\": [[0.0, \"#0d0887\"], [0.1111111111111111, \"#46039f\"], [0.2222222222222222, \"#7201a8\"], [0.3333333333333333, \"#9c179e\"], [0.4444444444444444, \"#bd3786\"], [0.5555555555555556, \"#d8576b\"], [0.6666666666666666, \"#ed7953\"], [0.7777777777777778, \"#fb9f3a\"], [0.8888888888888888, \"#fdca26\"], [1.0, \"#f0f921\"]], \"type\": \"histogram2d\"}], \"histogram2dcontour\": [{\"colorbar\": {\"outlinewidth\": 0, \"ticks\": \"\"}, \"colorscale\": [[0.0, \"#0d0887\"], [0.1111111111111111, \"#46039f\"], [0.2222222222222222, \"#7201a8\"], [0.3333333333333333, \"#9c179e\"], [0.4444444444444444, \"#bd3786\"], [0.5555555555555556, \"#d8576b\"], [0.6666666666666666, \"#ed7953\"], [0.7777777777777778, \"#fb9f3a\"], [0.8888888888888888, \"#fdca26\"], [1.0, \"#f0f921\"]], \"type\": \"histogram2dcontour\"}], \"mesh3d\": [{\"colorbar\": {\"outlinewidth\": 0, \"ticks\": \"\"}, \"type\": \"mesh3d\"}], \"parcoords\": [{\"line\": {\"colorbar\": {\"outlinewidth\": 0, \"ticks\": \"\"}}, \"type\": \"parcoords\"}], \"pie\": [{\"automargin\": true, \"type\": \"pie\"}], \"scatter\": [{\"marker\": {\"colorbar\": {\"outlinewidth\": 0, \"ticks\": \"\"}}, \"type\": \"scatter\"}], \"scatter3d\": [{\"line\": {\"colorbar\": {\"outlinewidth\": 0, \"ticks\": \"\"}}, \"marker\": {\"colorbar\": {\"outlinewidth\": 0, \"ticks\": \"\"}}, \"type\": \"scatter3d\"}], \"scattercarpet\": [{\"marker\": {\"colorbar\": {\"outlinewidth\": 0, \"ticks\": \"\"}}, \"type\": \"scattercarpet\"}], \"scattergeo\": [{\"marker\": {\"colorbar\": {\"outlinewidth\": 0, \"ticks\": \"\"}}, \"type\": \"scattergeo\"}], \"scattergl\": [{\"marker\": {\"colorbar\": {\"outlinewidth\": 0, \"ticks\": \"\"}}, \"type\": \"scattergl\"}], \"scattermapbox\": [{\"marker\": {\"colorbar\": {\"outlinewidth\": 0, \"ticks\": \"\"}}, \"type\": \"scattermapbox\"}], \"scatterpolar\": [{\"marker\": {\"colorbar\": {\"outlinewidth\": 0, \"ticks\": \"\"}}, \"type\": \"scatterpolar\"}], \"scatterpolargl\": [{\"marker\": {\"colorbar\": {\"outlinewidth\": 0, \"ticks\": \"\"}}, \"type\": \"scatterpolargl\"}], \"scatterternary\": [{\"marker\": {\"colorbar\": {\"outlinewidth\": 0, \"ticks\": \"\"}}, \"type\": \"scatterternary\"}], \"surface\": [{\"colorbar\": {\"outlinewidth\": 0, \"ticks\": \"\"}, \"colorscale\": [[0.0, \"#0d0887\"], [0.1111111111111111, \"#46039f\"], [0.2222222222222222, \"#7201a8\"], [0.3333333333333333, \"#9c179e\"], [0.4444444444444444, \"#bd3786\"], [0.5555555555555556, \"#d8576b\"], [0.6666666666666666, \"#ed7953\"], [0.7777777777777778, \"#fb9f3a\"], [0.8888888888888888, \"#fdca26\"], [1.0, \"#f0f921\"]], \"type\": \"surface\"}], \"table\": [{\"cells\": {\"fill\": {\"color\": \"#EBF0F8\"}, \"line\": {\"color\": \"white\"}}, \"header\": {\"fill\": {\"color\": \"#C8D4E3\"}, \"line\": {\"color\": \"white\"}}, \"type\": \"table\"}]}, \"layout\": {\"annotationdefaults\": {\"arrowcolor\": \"#2a3f5f\", \"arrowhead\": 0, \"arrowwidth\": 1}, \"autotypenumbers\": \"strict\", \"coloraxis\": {\"colorbar\": {\"outlinewidth\": 0, \"ticks\": \"\"}}, \"colorscale\": {\"diverging\": [[0, \"#8e0152\"], [0.1, \"#c51b7d\"], [0.2, \"#de77ae\"], [0.3, \"#f1b6da\"], [0.4, \"#fde0ef\"], [0.5, \"#f7f7f7\"], [0.6, \"#e6f5d0\"], [0.7, \"#b8e186\"], [0.8, \"#7fbc41\"], [0.9, \"#4d9221\"], [1, \"#276419\"]], \"sequential\": [[0.0, \"#0d0887\"], [0.1111111111111111, \"#46039f\"], [0.2222222222222222, \"#7201a8\"], [0.3333333333333333, \"#9c179e\"], [0.4444444444444444, \"#bd3786\"], [0.5555555555555556, \"#d8576b\"], [0.6666666666666666, \"#ed7953\"], [0.7777777777777778, \"#fb9f3a\"], [0.8888888888888888, \"#fdca26\"], [1.0, \"#f0f921\"]], \"sequentialminus\": [[0.0, \"#0d0887\"], [0.1111111111111111, \"#46039f\"], [0.2222222222222222, \"#7201a8\"], [0.3333333333333333, \"#9c179e\"], [0.4444444444444444, \"#bd3786\"], [0.5555555555555556, \"#d8576b\"], [0.6666666666666666, \"#ed7953\"], [0.7777777777777778, \"#fb9f3a\"], [0.8888888888888888, \"#fdca26\"], [1.0, \"#f0f921\"]]}, \"colorway\": [\"#636efa\", \"#EF553B\", \"#00cc96\", \"#ab63fa\", \"#FFA15A\", \"#19d3f3\", \"#FF6692\", \"#B6E880\", \"#FF97FF\", \"#FECB52\"], \"font\": {\"color\": \"#2a3f5f\"}, \"geo\": {\"bgcolor\": \"white\", \"lakecolor\": \"white\", \"landcolor\": \"#E5ECF6\", \"showlakes\": true, \"showland\": true, \"subunitcolor\": \"white\"}, \"hoverlabel\": {\"align\": \"left\"}, \"hovermode\": \"closest\", \"mapbox\": {\"style\": \"light\"}, \"paper_bgcolor\": \"white\", \"plot_bgcolor\": \"#E5ECF6\", \"polar\": {\"angularaxis\": {\"gridcolor\": \"white\", \"linecolor\": \"white\", \"ticks\": \"\"}, \"bgcolor\": \"#E5ECF6\", \"radialaxis\": {\"gridcolor\": \"white\", \"linecolor\": \"white\", \"ticks\": \"\"}}, \"scene\": {\"xaxis\": {\"backgroundcolor\": \"#E5ECF6\", \"gridcolor\": \"white\", \"gridwidth\": 2, \"linecolor\": \"white\", \"showbackground\": true, \"ticks\": \"\", \"zerolinecolor\": \"white\"}, \"yaxis\": {\"backgroundcolor\": \"#E5ECF6\", \"gridcolor\": \"white\", \"gridwidth\": 2, \"linecolor\": \"white\", \"showbackground\": true, \"ticks\": \"\", \"zerolinecolor\": \"white\"}, \"zaxis\": {\"backgroundcolor\": \"#E5ECF6\", \"gridcolor\": \"white\", \"gridwidth\": 2, \"linecolor\": \"white\", \"showbackground\": true, \"ticks\": \"\", \"zerolinecolor\": \"white\"}}, \"shapedefaults\": {\"line\": {\"color\": \"#2a3f5f\"}}, \"ternary\": {\"aaxis\": {\"gridcolor\": \"white\", \"linecolor\": \"white\", \"ticks\": \"\"}, \"baxis\": {\"gridcolor\": \"white\", \"linecolor\": \"white\", \"ticks\": \"\"}, \"bgcolor\": \"#E5ECF6\", \"caxis\": {\"gridcolor\": \"white\", \"linecolor\": \"white\", \"ticks\": \"\"}}, \"title\": {\"x\": 0.05}, \"xaxis\": {\"automargin\": true, \"gridcolor\": \"white\", \"linecolor\": \"white\", \"ticks\": \"\", \"title\": {\"standoff\": 15}, \"zerolinecolor\": \"white\", \"zerolinewidth\": 2}, \"yaxis\": {\"automargin\": true, \"gridcolor\": \"white\", \"linecolor\": \"white\", \"ticks\": \"\", \"title\": {\"standoff\": 15}, \"zerolinecolor\": \"white\", \"zerolinewidth\": 2}}}, \"title\": {\"text\": \"Drifting ratio and parameter\"}},                        {\"responsive\": true}                    ).then(function(){\n",
       "                            \n",
       "var gd = document.getElementById('a65bd052-05a7-4631-88ed-435730cd78d2');\n",
       "var x = new MutationObserver(function (mutations, observer) {{\n",
       "        var display = window.getComputedStyle(gd).display;\n",
       "        if (!display || display === 'none') {{\n",
       "            console.log([gd, 'removed!']);\n",
       "            Plotly.purge(gd);\n",
       "            observer.disconnect();\n",
       "        }}\n",
       "}});\n",
       "\n",
       "// Listen for the removal of the full notebook cells\n",
       "var notebookContainer = gd.closest('#notebook-container');\n",
       "if (notebookContainer) {{\n",
       "    x.observe(notebookContainer, {childList: true});\n",
       "}}\n",
       "\n",
       "// Listen for the clearing of the current output cell\n",
       "var outputEl = gd.closest('.output');\n",
       "if (outputEl) {{\n",
       "    x.observe(outputEl, {childList: true});\n",
       "}}\n",
       "\n",
       "                        })                };                });            </script>        </div>"
      ]
     },
     "metadata": {},
     "output_type": "display_data"
    },
    {
     "data": {
      "application/vnd.plotly.v1+json": {
       "config": {
        "plotlyServerURL": "https://plot.ly"
       },
       "data": [
        {
         "name": "parameter difference",
         "textfont": {
          "size": 14
         },
         "textposition": "top center",
         "type": "scatter",
         "x": [
          "QC1",
          "QC2",
          "QC3",
          "QC4",
          "QC5",
          "QC6"
         ],
         "y": [
          0,
          0.0018542115598434439,
          0.0027032699764140133,
          0.0028606503278600925,
          0.004571981016634696,
          0.0040423232123214525
         ]
        }
       ],
       "layout": {
        "template": {
         "data": {
          "bar": [
           {
            "error_x": {
             "color": "#2a3f5f"
            },
            "error_y": {
             "color": "#2a3f5f"
            },
            "marker": {
             "line": {
              "color": "#E5ECF6",
              "width": 0.5
             }
            },
            "type": "bar"
           }
          ],
          "barpolar": [
           {
            "marker": {
             "line": {
              "color": "#E5ECF6",
              "width": 0.5
             }
            },
            "type": "barpolar"
           }
          ],
          "carpet": [
           {
            "aaxis": {
             "endlinecolor": "#2a3f5f",
             "gridcolor": "white",
             "linecolor": "white",
             "minorgridcolor": "white",
             "startlinecolor": "#2a3f5f"
            },
            "baxis": {
             "endlinecolor": "#2a3f5f",
             "gridcolor": "white",
             "linecolor": "white",
             "minorgridcolor": "white",
             "startlinecolor": "#2a3f5f"
            },
            "type": "carpet"
           }
          ],
          "choropleth": [
           {
            "colorbar": {
             "outlinewidth": 0,
             "ticks": ""
            },
            "type": "choropleth"
           }
          ],
          "contour": [
           {
            "colorbar": {
             "outlinewidth": 0,
             "ticks": ""
            },
            "colorscale": [
             [
              0,
              "#0d0887"
             ],
             [
              0.1111111111111111,
              "#46039f"
             ],
             [
              0.2222222222222222,
              "#7201a8"
             ],
             [
              0.3333333333333333,
              "#9c179e"
             ],
             [
              0.4444444444444444,
              "#bd3786"
             ],
             [
              0.5555555555555556,
              "#d8576b"
             ],
             [
              0.6666666666666666,
              "#ed7953"
             ],
             [
              0.7777777777777778,
              "#fb9f3a"
             ],
             [
              0.8888888888888888,
              "#fdca26"
             ],
             [
              1,
              "#f0f921"
             ]
            ],
            "type": "contour"
           }
          ],
          "contourcarpet": [
           {
            "colorbar": {
             "outlinewidth": 0,
             "ticks": ""
            },
            "type": "contourcarpet"
           }
          ],
          "heatmap": [
           {
            "colorbar": {
             "outlinewidth": 0,
             "ticks": ""
            },
            "colorscale": [
             [
              0,
              "#0d0887"
             ],
             [
              0.1111111111111111,
              "#46039f"
             ],
             [
              0.2222222222222222,
              "#7201a8"
             ],
             [
              0.3333333333333333,
              "#9c179e"
             ],
             [
              0.4444444444444444,
              "#bd3786"
             ],
             [
              0.5555555555555556,
              "#d8576b"
             ],
             [
              0.6666666666666666,
              "#ed7953"
             ],
             [
              0.7777777777777778,
              "#fb9f3a"
             ],
             [
              0.8888888888888888,
              "#fdca26"
             ],
             [
              1,
              "#f0f921"
             ]
            ],
            "type": "heatmap"
           }
          ],
          "heatmapgl": [
           {
            "colorbar": {
             "outlinewidth": 0,
             "ticks": ""
            },
            "colorscale": [
             [
              0,
              "#0d0887"
             ],
             [
              0.1111111111111111,
              "#46039f"
             ],
             [
              0.2222222222222222,
              "#7201a8"
             ],
             [
              0.3333333333333333,
              "#9c179e"
             ],
             [
              0.4444444444444444,
              "#bd3786"
             ],
             [
              0.5555555555555556,
              "#d8576b"
             ],
             [
              0.6666666666666666,
              "#ed7953"
             ],
             [
              0.7777777777777778,
              "#fb9f3a"
             ],
             [
              0.8888888888888888,
              "#fdca26"
             ],
             [
              1,
              "#f0f921"
             ]
            ],
            "type": "heatmapgl"
           }
          ],
          "histogram": [
           {
            "marker": {
             "colorbar": {
              "outlinewidth": 0,
              "ticks": ""
             }
            },
            "type": "histogram"
           }
          ],
          "histogram2d": [
           {
            "colorbar": {
             "outlinewidth": 0,
             "ticks": ""
            },
            "colorscale": [
             [
              0,
              "#0d0887"
             ],
             [
              0.1111111111111111,
              "#46039f"
             ],
             [
              0.2222222222222222,
              "#7201a8"
             ],
             [
              0.3333333333333333,
              "#9c179e"
             ],
             [
              0.4444444444444444,
              "#bd3786"
             ],
             [
              0.5555555555555556,
              "#d8576b"
             ],
             [
              0.6666666666666666,
              "#ed7953"
             ],
             [
              0.7777777777777778,
              "#fb9f3a"
             ],
             [
              0.8888888888888888,
              "#fdca26"
             ],
             [
              1,
              "#f0f921"
             ]
            ],
            "type": "histogram2d"
           }
          ],
          "histogram2dcontour": [
           {
            "colorbar": {
             "outlinewidth": 0,
             "ticks": ""
            },
            "colorscale": [
             [
              0,
              "#0d0887"
             ],
             [
              0.1111111111111111,
              "#46039f"
             ],
             [
              0.2222222222222222,
              "#7201a8"
             ],
             [
              0.3333333333333333,
              "#9c179e"
             ],
             [
              0.4444444444444444,
              "#bd3786"
             ],
             [
              0.5555555555555556,
              "#d8576b"
             ],
             [
              0.6666666666666666,
              "#ed7953"
             ],
             [
              0.7777777777777778,
              "#fb9f3a"
             ],
             [
              0.8888888888888888,
              "#fdca26"
             ],
             [
              1,
              "#f0f921"
             ]
            ],
            "type": "histogram2dcontour"
           }
          ],
          "mesh3d": [
           {
            "colorbar": {
             "outlinewidth": 0,
             "ticks": ""
            },
            "type": "mesh3d"
           }
          ],
          "parcoords": [
           {
            "line": {
             "colorbar": {
              "outlinewidth": 0,
              "ticks": ""
             }
            },
            "type": "parcoords"
           }
          ],
          "pie": [
           {
            "automargin": true,
            "type": "pie"
           }
          ],
          "scatter": [
           {
            "marker": {
             "colorbar": {
              "outlinewidth": 0,
              "ticks": ""
             }
            },
            "type": "scatter"
           }
          ],
          "scatter3d": [
           {
            "line": {
             "colorbar": {
              "outlinewidth": 0,
              "ticks": ""
             }
            },
            "marker": {
             "colorbar": {
              "outlinewidth": 0,
              "ticks": ""
             }
            },
            "type": "scatter3d"
           }
          ],
          "scattercarpet": [
           {
            "marker": {
             "colorbar": {
              "outlinewidth": 0,
              "ticks": ""
             }
            },
            "type": "scattercarpet"
           }
          ],
          "scattergeo": [
           {
            "marker": {
             "colorbar": {
              "outlinewidth": 0,
              "ticks": ""
             }
            },
            "type": "scattergeo"
           }
          ],
          "scattergl": [
           {
            "marker": {
             "colorbar": {
              "outlinewidth": 0,
              "ticks": ""
             }
            },
            "type": "scattergl"
           }
          ],
          "scattermapbox": [
           {
            "marker": {
             "colorbar": {
              "outlinewidth": 0,
              "ticks": ""
             }
            },
            "type": "scattermapbox"
           }
          ],
          "scatterpolar": [
           {
            "marker": {
             "colorbar": {
              "outlinewidth": 0,
              "ticks": ""
             }
            },
            "type": "scatterpolar"
           }
          ],
          "scatterpolargl": [
           {
            "marker": {
             "colorbar": {
              "outlinewidth": 0,
              "ticks": ""
             }
            },
            "type": "scatterpolargl"
           }
          ],
          "scatterternary": [
           {
            "marker": {
             "colorbar": {
              "outlinewidth": 0,
              "ticks": ""
             }
            },
            "type": "scatterternary"
           }
          ],
          "surface": [
           {
            "colorbar": {
             "outlinewidth": 0,
             "ticks": ""
            },
            "colorscale": [
             [
              0,
              "#0d0887"
             ],
             [
              0.1111111111111111,
              "#46039f"
             ],
             [
              0.2222222222222222,
              "#7201a8"
             ],
             [
              0.3333333333333333,
              "#9c179e"
             ],
             [
              0.4444444444444444,
              "#bd3786"
             ],
             [
              0.5555555555555556,
              "#d8576b"
             ],
             [
              0.6666666666666666,
              "#ed7953"
             ],
             [
              0.7777777777777778,
              "#fb9f3a"
             ],
             [
              0.8888888888888888,
              "#fdca26"
             ],
             [
              1,
              "#f0f921"
             ]
            ],
            "type": "surface"
           }
          ],
          "table": [
           {
            "cells": {
             "fill": {
              "color": "#EBF0F8"
             },
             "line": {
              "color": "white"
             }
            },
            "header": {
             "fill": {
              "color": "#C8D4E3"
             },
             "line": {
              "color": "white"
             }
            },
            "type": "table"
           }
          ]
         },
         "layout": {
          "annotationdefaults": {
           "arrowcolor": "#2a3f5f",
           "arrowhead": 0,
           "arrowwidth": 1
          },
          "autotypenumbers": "strict",
          "coloraxis": {
           "colorbar": {
            "outlinewidth": 0,
            "ticks": ""
           }
          },
          "colorscale": {
           "diverging": [
            [
             0,
             "#8e0152"
            ],
            [
             0.1,
             "#c51b7d"
            ],
            [
             0.2,
             "#de77ae"
            ],
            [
             0.3,
             "#f1b6da"
            ],
            [
             0.4,
             "#fde0ef"
            ],
            [
             0.5,
             "#f7f7f7"
            ],
            [
             0.6,
             "#e6f5d0"
            ],
            [
             0.7,
             "#b8e186"
            ],
            [
             0.8,
             "#7fbc41"
            ],
            [
             0.9,
             "#4d9221"
            ],
            [
             1,
             "#276419"
            ]
           ],
           "sequential": [
            [
             0,
             "#0d0887"
            ],
            [
             0.1111111111111111,
             "#46039f"
            ],
            [
             0.2222222222222222,
             "#7201a8"
            ],
            [
             0.3333333333333333,
             "#9c179e"
            ],
            [
             0.4444444444444444,
             "#bd3786"
            ],
            [
             0.5555555555555556,
             "#d8576b"
            ],
            [
             0.6666666666666666,
             "#ed7953"
            ],
            [
             0.7777777777777778,
             "#fb9f3a"
            ],
            [
             0.8888888888888888,
             "#fdca26"
            ],
            [
             1,
             "#f0f921"
            ]
           ],
           "sequentialminus": [
            [
             0,
             "#0d0887"
            ],
            [
             0.1111111111111111,
             "#46039f"
            ],
            [
             0.2222222222222222,
             "#7201a8"
            ],
            [
             0.3333333333333333,
             "#9c179e"
            ],
            [
             0.4444444444444444,
             "#bd3786"
            ],
            [
             0.5555555555555556,
             "#d8576b"
            ],
            [
             0.6666666666666666,
             "#ed7953"
            ],
            [
             0.7777777777777778,
             "#fb9f3a"
            ],
            [
             0.8888888888888888,
             "#fdca26"
            ],
            [
             1,
             "#f0f921"
            ]
           ]
          },
          "colorway": [
           "#636efa",
           "#EF553B",
           "#00cc96",
           "#ab63fa",
           "#FFA15A",
           "#19d3f3",
           "#FF6692",
           "#B6E880",
           "#FF97FF",
           "#FECB52"
          ],
          "font": {
           "color": "#2a3f5f"
          },
          "geo": {
           "bgcolor": "white",
           "lakecolor": "white",
           "landcolor": "#E5ECF6",
           "showlakes": true,
           "showland": true,
           "subunitcolor": "white"
          },
          "hoverlabel": {
           "align": "left"
          },
          "hovermode": "closest",
          "mapbox": {
           "style": "light"
          },
          "paper_bgcolor": "white",
          "plot_bgcolor": "#E5ECF6",
          "polar": {
           "angularaxis": {
            "gridcolor": "white",
            "linecolor": "white",
            "ticks": ""
           },
           "bgcolor": "#E5ECF6",
           "radialaxis": {
            "gridcolor": "white",
            "linecolor": "white",
            "ticks": ""
           }
          },
          "scene": {
           "xaxis": {
            "backgroundcolor": "#E5ECF6",
            "gridcolor": "white",
            "gridwidth": 2,
            "linecolor": "white",
            "showbackground": true,
            "ticks": "",
            "zerolinecolor": "white"
           },
           "yaxis": {
            "backgroundcolor": "#E5ECF6",
            "gridcolor": "white",
            "gridwidth": 2,
            "linecolor": "white",
            "showbackground": true,
            "ticks": "",
            "zerolinecolor": "white"
           },
           "zaxis": {
            "backgroundcolor": "#E5ECF6",
            "gridcolor": "white",
            "gridwidth": 2,
            "linecolor": "white",
            "showbackground": true,
            "ticks": "",
            "zerolinecolor": "white"
           }
          },
          "shapedefaults": {
           "line": {
            "color": "#2a3f5f"
           }
          },
          "ternary": {
           "aaxis": {
            "gridcolor": "white",
            "linecolor": "white",
            "ticks": ""
           },
           "baxis": {
            "gridcolor": "white",
            "linecolor": "white",
            "ticks": ""
           },
           "bgcolor": "#E5ECF6",
           "caxis": {
            "gridcolor": "white",
            "linecolor": "white",
            "ticks": ""
           }
          },
          "title": {
           "x": 0.05
          },
          "xaxis": {
           "automargin": true,
           "gridcolor": "white",
           "linecolor": "white",
           "ticks": "",
           "title": {
            "standoff": 15
           },
           "zerolinecolor": "white",
           "zerolinewidth": 2
          },
          "yaxis": {
           "automargin": true,
           "gridcolor": "white",
           "linecolor": "white",
           "ticks": "",
           "title": {
            "standoff": 15
           },
           "zerolinecolor": "white",
           "zerolinewidth": 2
          }
         }
        },
        "title": {
         "text": "parameter difference"
        }
       }
      },
      "text/html": [
       "<div>                            <div id=\"e669d1da-521d-481d-813c-384e4c9556f8\" class=\"plotly-graph-div\" style=\"height:525px; width:100%;\"></div>            <script type=\"text/javascript\">                require([\"plotly\"], function(Plotly) {                    window.PLOTLYENV=window.PLOTLYENV || {};                                    if (document.getElementById(\"e669d1da-521d-481d-813c-384e4c9556f8\")) {                    Plotly.newPlot(                        \"e669d1da-521d-481d-813c-384e4c9556f8\",                        [{\"name\": \"parameter difference\", \"textfont\": {\"size\": 14}, \"textposition\": \"top center\", \"type\": \"scatter\", \"x\": [\"QC1\", \"QC2\", \"QC3\", \"QC4\", \"QC5\", \"QC6\"], \"y\": [0.0, 0.0018542115598434439, 0.0027032699764140133, 0.0028606503278600925, 0.004571981016634696, 0.0040423232123214525]}],                        {\"template\": {\"data\": {\"bar\": [{\"error_x\": {\"color\": \"#2a3f5f\"}, \"error_y\": {\"color\": \"#2a3f5f\"}, \"marker\": {\"line\": {\"color\": \"#E5ECF6\", \"width\": 0.5}}, \"type\": \"bar\"}], \"barpolar\": [{\"marker\": {\"line\": {\"color\": \"#E5ECF6\", \"width\": 0.5}}, \"type\": \"barpolar\"}], \"carpet\": [{\"aaxis\": {\"endlinecolor\": \"#2a3f5f\", \"gridcolor\": \"white\", \"linecolor\": \"white\", \"minorgridcolor\": \"white\", \"startlinecolor\": \"#2a3f5f\"}, \"baxis\": {\"endlinecolor\": \"#2a3f5f\", \"gridcolor\": \"white\", \"linecolor\": \"white\", \"minorgridcolor\": \"white\", \"startlinecolor\": \"#2a3f5f\"}, \"type\": \"carpet\"}], \"choropleth\": [{\"colorbar\": {\"outlinewidth\": 0, \"ticks\": \"\"}, \"type\": \"choropleth\"}], \"contour\": [{\"colorbar\": {\"outlinewidth\": 0, \"ticks\": \"\"}, \"colorscale\": [[0.0, \"#0d0887\"], [0.1111111111111111, \"#46039f\"], [0.2222222222222222, \"#7201a8\"], [0.3333333333333333, \"#9c179e\"], [0.4444444444444444, \"#bd3786\"], [0.5555555555555556, \"#d8576b\"], [0.6666666666666666, \"#ed7953\"], [0.7777777777777778, \"#fb9f3a\"], [0.8888888888888888, \"#fdca26\"], [1.0, \"#f0f921\"]], \"type\": \"contour\"}], \"contourcarpet\": [{\"colorbar\": {\"outlinewidth\": 0, \"ticks\": \"\"}, \"type\": \"contourcarpet\"}], \"heatmap\": [{\"colorbar\": {\"outlinewidth\": 0, \"ticks\": \"\"}, \"colorscale\": [[0.0, \"#0d0887\"], [0.1111111111111111, \"#46039f\"], [0.2222222222222222, \"#7201a8\"], [0.3333333333333333, \"#9c179e\"], [0.4444444444444444, \"#bd3786\"], [0.5555555555555556, \"#d8576b\"], [0.6666666666666666, \"#ed7953\"], [0.7777777777777778, \"#fb9f3a\"], [0.8888888888888888, \"#fdca26\"], [1.0, \"#f0f921\"]], \"type\": \"heatmap\"}], \"heatmapgl\": [{\"colorbar\": {\"outlinewidth\": 0, \"ticks\": \"\"}, \"colorscale\": [[0.0, \"#0d0887\"], [0.1111111111111111, \"#46039f\"], [0.2222222222222222, \"#7201a8\"], [0.3333333333333333, \"#9c179e\"], [0.4444444444444444, \"#bd3786\"], [0.5555555555555556, \"#d8576b\"], [0.6666666666666666, \"#ed7953\"], [0.7777777777777778, \"#fb9f3a\"], [0.8888888888888888, \"#fdca26\"], [1.0, \"#f0f921\"]], \"type\": \"heatmapgl\"}], \"histogram\": [{\"marker\": {\"colorbar\": {\"outlinewidth\": 0, \"ticks\": \"\"}}, \"type\": \"histogram\"}], \"histogram2d\": [{\"colorbar\": {\"outlinewidth\": 0, \"ticks\": \"\"}, \"colorscale\": [[0.0, \"#0d0887\"], [0.1111111111111111, \"#46039f\"], [0.2222222222222222, \"#7201a8\"], [0.3333333333333333, \"#9c179e\"], [0.4444444444444444, \"#bd3786\"], [0.5555555555555556, \"#d8576b\"], [0.6666666666666666, \"#ed7953\"], [0.7777777777777778, \"#fb9f3a\"], [0.8888888888888888, \"#fdca26\"], [1.0, \"#f0f921\"]], \"type\": \"histogram2d\"}], \"histogram2dcontour\": [{\"colorbar\": {\"outlinewidth\": 0, \"ticks\": \"\"}, \"colorscale\": [[0.0, \"#0d0887\"], [0.1111111111111111, \"#46039f\"], [0.2222222222222222, \"#7201a8\"], [0.3333333333333333, \"#9c179e\"], [0.4444444444444444, \"#bd3786\"], [0.5555555555555556, \"#d8576b\"], [0.6666666666666666, \"#ed7953\"], [0.7777777777777778, \"#fb9f3a\"], [0.8888888888888888, \"#fdca26\"], [1.0, \"#f0f921\"]], \"type\": \"histogram2dcontour\"}], \"mesh3d\": [{\"colorbar\": {\"outlinewidth\": 0, \"ticks\": \"\"}, \"type\": \"mesh3d\"}], \"parcoords\": [{\"line\": {\"colorbar\": {\"outlinewidth\": 0, \"ticks\": \"\"}}, \"type\": \"parcoords\"}], \"pie\": [{\"automargin\": true, \"type\": \"pie\"}], \"scatter\": [{\"marker\": {\"colorbar\": {\"outlinewidth\": 0, \"ticks\": \"\"}}, \"type\": \"scatter\"}], \"scatter3d\": [{\"line\": {\"colorbar\": {\"outlinewidth\": 0, \"ticks\": \"\"}}, \"marker\": {\"colorbar\": {\"outlinewidth\": 0, \"ticks\": \"\"}}, \"type\": \"scatter3d\"}], \"scattercarpet\": [{\"marker\": {\"colorbar\": {\"outlinewidth\": 0, \"ticks\": \"\"}}, \"type\": \"scattercarpet\"}], \"scattergeo\": [{\"marker\": {\"colorbar\": {\"outlinewidth\": 0, \"ticks\": \"\"}}, \"type\": \"scattergeo\"}], \"scattergl\": [{\"marker\": {\"colorbar\": {\"outlinewidth\": 0, \"ticks\": \"\"}}, \"type\": \"scattergl\"}], \"scattermapbox\": [{\"marker\": {\"colorbar\": {\"outlinewidth\": 0, \"ticks\": \"\"}}, \"type\": \"scattermapbox\"}], \"scatterpolar\": [{\"marker\": {\"colorbar\": {\"outlinewidth\": 0, \"ticks\": \"\"}}, \"type\": \"scatterpolar\"}], \"scatterpolargl\": [{\"marker\": {\"colorbar\": {\"outlinewidth\": 0, \"ticks\": \"\"}}, \"type\": \"scatterpolargl\"}], \"scatterternary\": [{\"marker\": {\"colorbar\": {\"outlinewidth\": 0, \"ticks\": \"\"}}, \"type\": \"scatterternary\"}], \"surface\": [{\"colorbar\": {\"outlinewidth\": 0, \"ticks\": \"\"}, \"colorscale\": [[0.0, \"#0d0887\"], [0.1111111111111111, \"#46039f\"], [0.2222222222222222, \"#7201a8\"], [0.3333333333333333, \"#9c179e\"], [0.4444444444444444, \"#bd3786\"], [0.5555555555555556, \"#d8576b\"], [0.6666666666666666, \"#ed7953\"], [0.7777777777777778, \"#fb9f3a\"], [0.8888888888888888, \"#fdca26\"], [1.0, \"#f0f921\"]], \"type\": \"surface\"}], \"table\": [{\"cells\": {\"fill\": {\"color\": \"#EBF0F8\"}, \"line\": {\"color\": \"white\"}}, \"header\": {\"fill\": {\"color\": \"#C8D4E3\"}, \"line\": {\"color\": \"white\"}}, \"type\": \"table\"}]}, \"layout\": {\"annotationdefaults\": {\"arrowcolor\": \"#2a3f5f\", \"arrowhead\": 0, \"arrowwidth\": 1}, \"autotypenumbers\": \"strict\", \"coloraxis\": {\"colorbar\": {\"outlinewidth\": 0, \"ticks\": \"\"}}, \"colorscale\": {\"diverging\": [[0, \"#8e0152\"], [0.1, \"#c51b7d\"], [0.2, \"#de77ae\"], [0.3, \"#f1b6da\"], [0.4, \"#fde0ef\"], [0.5, \"#f7f7f7\"], [0.6, \"#e6f5d0\"], [0.7, \"#b8e186\"], [0.8, \"#7fbc41\"], [0.9, \"#4d9221\"], [1, \"#276419\"]], \"sequential\": [[0.0, \"#0d0887\"], [0.1111111111111111, \"#46039f\"], [0.2222222222222222, \"#7201a8\"], [0.3333333333333333, \"#9c179e\"], [0.4444444444444444, \"#bd3786\"], [0.5555555555555556, \"#d8576b\"], [0.6666666666666666, \"#ed7953\"], [0.7777777777777778, \"#fb9f3a\"], [0.8888888888888888, \"#fdca26\"], [1.0, \"#f0f921\"]], \"sequentialminus\": [[0.0, \"#0d0887\"], [0.1111111111111111, \"#46039f\"], [0.2222222222222222, \"#7201a8\"], [0.3333333333333333, \"#9c179e\"], [0.4444444444444444, \"#bd3786\"], [0.5555555555555556, \"#d8576b\"], [0.6666666666666666, \"#ed7953\"], [0.7777777777777778, \"#fb9f3a\"], [0.8888888888888888, \"#fdca26\"], [1.0, \"#f0f921\"]]}, \"colorway\": [\"#636efa\", \"#EF553B\", \"#00cc96\", \"#ab63fa\", \"#FFA15A\", \"#19d3f3\", \"#FF6692\", \"#B6E880\", \"#FF97FF\", \"#FECB52\"], \"font\": {\"color\": \"#2a3f5f\"}, \"geo\": {\"bgcolor\": \"white\", \"lakecolor\": \"white\", \"landcolor\": \"#E5ECF6\", \"showlakes\": true, \"showland\": true, \"subunitcolor\": \"white\"}, \"hoverlabel\": {\"align\": \"left\"}, \"hovermode\": \"closest\", \"mapbox\": {\"style\": \"light\"}, \"paper_bgcolor\": \"white\", \"plot_bgcolor\": \"#E5ECF6\", \"polar\": {\"angularaxis\": {\"gridcolor\": \"white\", \"linecolor\": \"white\", \"ticks\": \"\"}, \"bgcolor\": \"#E5ECF6\", \"radialaxis\": {\"gridcolor\": \"white\", \"linecolor\": \"white\", \"ticks\": \"\"}}, \"scene\": {\"xaxis\": {\"backgroundcolor\": \"#E5ECF6\", \"gridcolor\": \"white\", \"gridwidth\": 2, \"linecolor\": \"white\", \"showbackground\": true, \"ticks\": \"\", \"zerolinecolor\": \"white\"}, \"yaxis\": {\"backgroundcolor\": \"#E5ECF6\", \"gridcolor\": \"white\", \"gridwidth\": 2, \"linecolor\": \"white\", \"showbackground\": true, \"ticks\": \"\", \"zerolinecolor\": \"white\"}, \"zaxis\": {\"backgroundcolor\": \"#E5ECF6\", \"gridcolor\": \"white\", \"gridwidth\": 2, \"linecolor\": \"white\", \"showbackground\": true, \"ticks\": \"\", \"zerolinecolor\": \"white\"}}, \"shapedefaults\": {\"line\": {\"color\": \"#2a3f5f\"}}, \"ternary\": {\"aaxis\": {\"gridcolor\": \"white\", \"linecolor\": \"white\", \"ticks\": \"\"}, \"baxis\": {\"gridcolor\": \"white\", \"linecolor\": \"white\", \"ticks\": \"\"}, \"bgcolor\": \"#E5ECF6\", \"caxis\": {\"gridcolor\": \"white\", \"linecolor\": \"white\", \"ticks\": \"\"}}, \"title\": {\"x\": 0.05}, \"xaxis\": {\"automargin\": true, \"gridcolor\": \"white\", \"linecolor\": \"white\", \"ticks\": \"\", \"title\": {\"standoff\": 15}, \"zerolinecolor\": \"white\", \"zerolinewidth\": 2}, \"yaxis\": {\"automargin\": true, \"gridcolor\": \"white\", \"linecolor\": \"white\", \"ticks\": \"\", \"title\": {\"standoff\": 15}, \"zerolinecolor\": \"white\", \"zerolinewidth\": 2}}}, \"title\": {\"text\": \"parameter difference\"}},                        {\"responsive\": true}                    ).then(function(){\n",
       "                            \n",
       "var gd = document.getElementById('e669d1da-521d-481d-813c-384e4c9556f8');\n",
       "var x = new MutationObserver(function (mutations, observer) {{\n",
       "        var display = window.getComputedStyle(gd).display;\n",
       "        if (!display || display === 'none') {{\n",
       "            console.log([gd, 'removed!']);\n",
       "            Plotly.purge(gd);\n",
       "            observer.disconnect();\n",
       "        }}\n",
       "}});\n",
       "\n",
       "// Listen for the removal of the full notebook cells\n",
       "var notebookContainer = gd.closest('#notebook-container');\n",
       "if (notebookContainer) {{\n",
       "    x.observe(notebookContainer, {childList: true});\n",
       "}}\n",
       "\n",
       "// Listen for the clearing of the current output cell\n",
       "var outputEl = gd.closest('.output');\n",
       "if (outputEl) {{\n",
       "    x.observe(outputEl, {childList: true});\n",
       "}}\n",
       "\n",
       "                        })                };                });            </script>        </div>"
      ]
     },
     "metadata": {},
     "output_type": "display_data"
    }
   ],
   "source": [
    "save_drifting_ratio_and_parameter = True\n",
    "save_parameter_difference = True\n",
    "df_ref = df_30C\n",
    "df_qc = test_data_list\n",
    "ref_channel = '670nm #1'\n",
    "target_channel = 'magic'\n",
    "\n",
    "result = []\n",
    "for df_qc in test_data_list:    \n",
    "    ratio_ref = ratio_calculator(df_qc, df_ref, ref_channel)\n",
    "    ratio_target = ratio_calculator(df_qc, df_ref, target_channel)\n",
    "    para = ratio_ref/ratio_target\n",
    "    result.append([ratio_ref, ratio_target, para])\n",
    "\n",
    "index = ['QC{}'.format(i+1) for i in range(0, len(test_data_list))]\n",
    "by_ratio_parameter = pd.DataFrame(result, columns=['ratio_ref','ratio_target', 'parameter'], index=index)\n",
    "by_ratio_parameter['parameter difference'] = by_ratio_parameter.loc[:,'parameter'] - by_ratio_parameter.loc['QC1','parameter']\n",
    "\n",
    "plot_data = []\n",
    "trace = go.Scatter(x=by_ratio_parameter.index, y=by_ratio_parameter.loc[:, 'ratio_ref'], name='drift_{}'.format(ref_channel))\n",
    "plot_data.append(trace)\n",
    "trace = go.Scatter(x=by_ratio_parameter.index, y=by_ratio_parameter.loc[:, 'ratio_target'], name='drift_{}'.format(target_channel))\n",
    "plot_data.append(trace)\n",
    "trace = go.Scatter(x=by_ratio_parameter.index, y=by_ratio_parameter.loc[:, 'parameter'], name='parameter')\n",
    "plot_data.append(trace)\n",
    "layout = go.Layout(title='Drifting ratio and parameter')\n",
    "fig = go.Figure(data=plot_data, layout=layout)\n",
    "fig.update_traces(textposition='top center', textfont_size=14)\n",
    "fig.show()\n",
    "\n",
    "if save_drifting_ratio_and_parameter == True:\n",
    "    savePath = os.path.join(os.getcwd(), folder_name)\n",
    "    filename = 'Drifting ratio and parameter'\n",
    "    fig.write_image(savePath + '/' + filename + '.jpeg', width=1280, height=720)\n",
    "    by_ratio_parameter.to_csv(savePath + '/' + filename + '.csv')\n",
    "\n",
    "plot_data = []\n",
    "trace = go.Scatter(x=by_ratio_parameter.index, y=by_ratio_parameter.loc[:, 'parameter difference'], name='parameter difference')\n",
    "plot_data.append(trace)\n",
    "layout = go.Layout(title='parameter difference')\n",
    "fig = go.Figure(data=plot_data, layout=layout)\n",
    "fig.update_traces(textposition='top center', textfont_size=14)\n",
    "fig.show()\n",
    "\n",
    "if save_parameter_difference == True:\n",
    "    savePath = os.path.join(os.getcwd(), folder_name)\n",
    "    filename = 'parameter difference'\n",
    "    fig.write_image(savePath + '/' + filename + '.jpeg', width=1280, height=720)\n",
    "    by_ratio_parameter.to_csv(savePath + '/' + filename + '.csv')"
   ]
  },
  {
   "cell_type": "code",
   "execution_count": null,
   "metadata": {},
   "outputs": [],
   "source": []
  },
  {
   "cell_type": "code",
   "execution_count": null,
   "metadata": {},
   "outputs": [],
   "source": []
  },
  {
   "cell_type": "code",
   "execution_count": null,
   "metadata": {},
   "outputs": [],
   "source": []
  }
 ],
 "metadata": {
  "kernelspec": {
   "display_name": "Python 3",
   "language": "python",
   "name": "python3"
  },
  "language_info": {
   "codemirror_mode": {
    "name": "ipython",
    "version": 3
   },
   "file_extension": ".py",
   "mimetype": "text/x-python",
   "name": "python",
   "nbconvert_exporter": "python",
   "pygments_lexer": "ipython3",
   "version": "3.7.3"
  }
 },
 "nbformat": 4,
 "nbformat_minor": 4
}
