{
 "cells": [
  {
   "cell_type": "markdown",
   "metadata": {
    "slideshow": {
     "slide_type": "-"
    }
   },
   "source": [
    "## 更新內容\n",
    ">2021.3.25  Regression_model_release_v0.3.1\n",
    "* add raw data overlay plot\n",
    "* add response plot\n",
    "* add drifting ratio and parameter plot\n",
    "\n",
    ">2021.2.2  Regression_model_release_v0.3.0\n",
    "* new version compensation\n",
    "* upgrade plotly version v4.14.3 (原本 version v3.9.0)\n",
    "* upgrade cufflinks version v0.17.3 (原本 version v0.15.0)\n",
    "* white_card_coef 乘 parameter(for compensation)\n",
    "* revise .csv filename\n",
    "\n",
    ">2021.1.15 Regression_model_release_v0.2.6\n",
    "* 更新interpolation模組\n",
    "        * 增加線性外插高濃度值功能\"__extrapolation_upper\"\n",
    "        * 增加線性外插低濃度值功能\"__extrapolation_lower\"\n",
    "        * 增加指數外插高濃度值功能\"__log_extrapolation_upper\"\n",
    "        * 增加指數外插低濃度值功能\"__log_extrapolation_lower\"\n",
    "        * mark hybrid_interpolation function\n",
    "        * 修正對數數值domain\n",
    "  \n",
    "\n",
    "## 程式主要功能 \n",
    "* 建立各濃度平面\n",
    "* 內差法計算濃度值"
   ]
  },
  {
   "cell_type": "code",
   "execution_count": 8,
   "metadata": {
    "slideshow": {
     "slide_type": "-"
    }
   },
   "outputs": [],
   "source": [
    "import os\n",
    "import pandas as pd\n",
    "import numpy as np\n",
    "import matplotlib.pyplot as plt\n",
    "from sklearn.linear_model import Ridge, Lasso, LinearRegression\n",
    "from sklearn import linear_model\n",
    "from sklearn.metrics import mean_squared_error\n",
    "\n",
    "import warnings\n",
    "warnings.filterwarnings('ignore')\n",
    "\n",
    "import tkinter\n",
    "from tkinter import*\n",
    "# Create Tk root\n",
    "root = Tk()\n",
    "# Hide the main window\n",
    "root.withdraw()\n",
    "root.call('wm', 'attributes', '.', '-topmost', True)\n",
    "from tkinter import filedialog\n",
    "%gui tk\n",
    "\n",
    "import FFT\n",
    "import compensation\n",
    "import module_4D\n",
    "# import modeling_white_card\n",
    "import model\n",
    "import white_card_std\n",
    "\n",
    "# from modeling_white_card import modeling_white\n",
    "# from modeling import modeling\n",
    "import interpolation\n",
    "import plotly.express as px\n",
    "import plotly.graph_objects as go"
   ]
  },
  {
   "cell_type": "code",
   "execution_count": 2,
   "metadata": {
    "slideshow": {
     "slide_type": "skip"
    }
   },
   "outputs": [],
   "source": [
    "def data_loading():\n",
    "    path = filedialog.askdirectory()\n",
    "    print(path)\n",
    "    return path"
   ]
  },
  {
   "cell_type": "code",
   "execution_count": 3,
   "metadata": {},
   "outputs": [],
   "source": [
    "def ratio_calculator(df_qc, df_ref, channel):\n",
    "    ratio = (df_qc[channel]/df_ref[channel]).mean()\n",
    "    return ratio"
   ]
  },
  {
   "cell_type": "markdown",
   "metadata": {},
   "source": [
    "# Compensation"
   ]
  },
  {
   "attachments": {
    "image.png": {
     "image/png": "[encoded data removed]"
    }
   },
   "cell_type": "markdown",
   "metadata": {},
   "source": [
    "![image.png](attachment:image.png)\n",
    "1. calculate parameter\n",
    "2. build reference model\n",
    "3. calculate ref_std"
   ]
  },
  {
   "cell_type": "code",
   "execution_count": 11,
   "metadata": {},
   "outputs": [],
   "source": [
    "n = 8\n",
    "a = 1\n",
    "folder_name = 'test'\n",
    "# folder_name = 'QC3_583nm_comp_log_model(K1+QC1)(degree 2)'"
   ]
  },
  {
   "cell_type": "code",
   "execution_count": 12,
   "metadata": {},
   "outputs": [
    {
     "name": "stdout",
     "output_type": "stream",
     "text": [
      "D:/Data_store/AMS_7341/050421 Intemo MP test (U+4, 0~40C, 60%, 60, 25, 10, 4, 0ppm)/#20200721091847\n",
      "D:/Data_store/AMS_7341/050421 Intemo MP test (U+4, 0~40C, 60%, 60, 25, 10, 4, 0ppm)/#20200721092104\n",
      "D:/Data_store/AMS_7341/050421 Intemo MP test (U+4, 0~40C, 60%, 60, 25, 10, 4, 0ppm)/#20200721092450\n",
      "D:/Data_store/AMS_7341/050421 Intemo MP test (U+4, 0~40C, 60%, 60, 25, 10, 4, 0ppm)/#20200722094552\n",
      "D:/Data_store/AMS_7341/050421 Intemo MP test (U+4, 0~40C, 60%, 60, 25, 10, 4, 0ppm)/#20200723092707\n",
      "D:/Data_store/AMS_7341/050421 Intemo MP test (U+4, 0~40C, 60%, 60, 25, 10, 4, 0ppm)/#20200724092914\n",
      "D:/Data_store/AMS_7341/050421 Intemo MP test (U+4, 0~40C, 60%, 60, 25, 10, 4, 0ppm)/#20200727165442\n",
      "D:/Data_store/AMS_7341/050421 Intemo MP test (U+4, 0~40C, 60%, 60, 25, 10, 4, 0ppm)/#20200803100505\n"
     ]
    }
   ],
   "source": [
    "path_list = []\n",
    "while a <= n:\n",
    "    path = data_loading()\n",
    "    path_list.append(path)\n",
    "    a+=1"
   ]
  },
  {
   "cell_type": "code",
   "execution_count": null,
   "metadata": {
    "scrolled": false
   },
   "outputs": [],
   "source": [
    "for path in path_list:\n",
    "    sensor_number = path.split('/')[-1]\n",
    "    print('sensor_number:', sensor_number)\n",
    "    \n",
    "    A = 0\n",
    "    B = 300000\n",
    "    df_30C = pd.read_csv(path + '/select_data_calibration_30C.csv')[A:B].reset_index(drop=True)\n",
    "    df_test_30C = pd.read_csv(path + '/select_data_blind_test_30C.csv')[A:B].reset_index(drop=True)\n",
    "    df_test_30C_2 = pd.read_csv(path + '/select_data_blind_test_30C_2.csv')[A:B].reset_index(drop=True)\n",
    "    df_test_30C_3 = pd.read_csv(path + '/select_data_blind_test_30C_3.csv')[A:B].reset_index(drop=True)\n",
    "    df_test_30C_4 = pd.read_csv(path + '/select_data_blind_test_30C_4.csv')[A:B].reset_index(drop=True)\n",
    "#     df_test_n10C_5 = pd.read_csv(path + '/select_data_blind_test_n10C_5.csv')[A:B].reset_index(drop=True)\n",
    "#     df_test_n10C_6 = pd.read_csv(path + '/select_data_blind_test_n10C_6.csv')[A:B].reset_index(drop=True)\n",
    "    \n",
    "    test_data_list = [\n",
    "                      df_30C,\n",
    "                      df_test_30C, \n",
    "                      df_test_30C_2, \n",
    "                      df_test_30C_3, \n",
    "                      df_test_30C_4, \n",
    "#                       df_test_n10C_5, \n",
    "#                       df_test_n10C_6\n",
    "                     ]\n",
    "    \n",
    "#     save_figure = True\n",
    "    cal_channel = '583nm #1'\n",
    "    QC_channel = '583nm #1'\n",
    "\n",
    "    '''計算每次QC drift ratio變化'''\n",
    "    mean_ratio_list = []   \n",
    "    for i,j in enumerate(test_data_list):\n",
    "        by_ratio = (j.iloc[10:, 7:13]-df_30C.iloc[10:, 7:13])/df_30C.iloc[10:, 7:13]\n",
    "        mean_ratio_list.append(by_ratio.mean())\n",
    "    df_by_mean_ratio = pd.DataFrame(mean_ratio_list)\n",
    "\n",
    "    fig = px.line(df_by_mean_ratio)\n",
    "    fig.show()  \n",
    "\n",
    "    plot_data = []\n",
    "    for i,j in enumerate(test_data_list):\n",
    "        by_compensation = j.loc[:,'583nm #1']-j.loc[:,'510nm #1']\n",
    "        trace_ppm = go.Scatter(y=by_compensation, name='round{}'.format(i+1))\n",
    "        \n",
    "#         trace_ppm = go.Scatter(y=j[QC_channel], name=QC_channel+' QC{}'.format(i+1))\n",
    "#         plot_data.append(trace_ppm)\n",
    "\n",
    "\n",
    "#     title = '{} raw data overlay'.format(QC_channel)    \n",
    "    layout = go.Layout()\n",
    "    fig = go.Figure(data=plot_data, layout=layout)\n",
    "    fig.show()"
   ]
  },
  {
   "cell_type": "code",
   "execution_count": null,
   "metadata": {
    "scrolled": false
   },
   "outputs": [],
   "source": [
    "\n",
    "mean_ratio_list = []   \n",
    "for i,j in enumerate(data_list):\n",
    "    by_ratio = (j.iloc[10:, 7:13]-df_30C.iloc[10:, 7:13])/df_30C.iloc[10:, 7:13]\n",
    "    mean_ratio_list.append(by_ratio.mean())\n",
    "df_by_mean_ratio = pd.DataFrame(mean_ratio_list)\n",
    "\n",
    "fig = px.line(df_by_mean_ratio)\n",
    "fig.show()    "
   ]
  },
  {
   "cell_type": "code",
   "execution_count": null,
   "metadata": {},
   "outputs": [],
   "source": []
  }
 ],
 "metadata": {
  "kernelspec": {
   "display_name": "Python 3",
   "language": "python",
   "name": "python3"
  },
  "language_info": {
   "codemirror_mode": {
    "name": "ipython",
    "version": 3
   },
   "file_extension": ".py",
   "mimetype": "text/x-python",
   "name": "python",
   "nbconvert_exporter": "python",
   "pygments_lexer": "ipython3",
   "version": "3.7.3"
  }
 },
 "nbformat": 4,
 "nbformat_minor": 4
}
